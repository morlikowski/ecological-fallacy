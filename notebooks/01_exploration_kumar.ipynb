{
 "cells": [
  {
   "cell_type": "code",
   "execution_count": 3,
   "metadata": {},
   "outputs": [],
   "source": [
    "from typing import Union\n",
    "import json\n",
    "import pandas as pd\n",
    "import numpy as np\n",
    "DATASET_PATH = 'kumar_dataset.json'"
   ]
  },
  {
   "attachments": {},
   "cell_type": "markdown",
   "metadata": {},
   "source": [
    "## Explore Kumar \"Final\" Dataset\n",
    "\n",
    "Uses the \"final\" version of the disaggregated Kumar dataset which 1) includes all participants 2) has confirmation on the existence of below 18 annotators which should be removed for individual analysis"
   ]
  },
  {
   "cell_type": "code",
   "execution_count": 4,
   "metadata": {},
   "outputs": [],
   "source": [
    "def read_dataset(path):\n",
    "    with open(path) as f:\n",
    "        records = []\n",
    "        for index, line in enumerate(f):\n",
    "            line_dict = json.loads(line)\n",
    "            for annotation in line_dict['ratings']:\n",
    "                record = {\n",
    "                    'comment': line_dict['comment'],\n",
    "                    'id': index,\n",
    "                    'comment_id': line_dict['comment_id'],\n",
    "                    'source': line_dict['source']\n",
    "                }\n",
    "                record.update(annotation)\n",
    "                records.append(record)\n",
    "    return pd.DataFrame(records)"
   ]
  },
  {
   "cell_type": "code",
   "execution_count": 5,
   "metadata": {},
   "outputs": [],
   "source": [
    "df = read_dataset(DATASET_PATH)"
   ]
  },
  {
   "cell_type": "code",
   "execution_count": 6,
   "metadata": {},
   "outputs": [],
   "source": [
    "df['toxic'] = df['toxic_score'].apply(lambda x: 1 if x > 1 else 0)"
   ]
  },
  {
   "cell_type": "code",
   "execution_count": 7,
   "metadata": {},
   "outputs": [
    {
     "data": {
      "text/plain": [
       "(538100, 32)"
      ]
     },
     "execution_count": 7,
     "metadata": {},
     "output_type": "execute_result"
    }
   ],
   "source": [
    "df.shape"
   ]
  },
  {
   "attachments": {},
   "cell_type": "markdown",
   "metadata": {},
   "source": [
    "**Columns**\n",
    "\n",
    "> Comments are annotated for their perceived toxicity on a Likert-scale from \"not at all toxic\" (0) to \"extremely toxic\" (4). For comments that are \"Slightly Toxic\" (1) or higher, annotators provide additional labels for the type of toxcity: Insult, Profanity, Identity attack, Threat, Sexual harassment.\n",
    "> In addition, metadata about the annotator is included with each annotation"
   ]
  },
  {
   "cell_type": "code",
   "execution_count": 8,
   "metadata": {},
   "outputs": [
    {
     "data": {
      "text/plain": [
       "Index(['comment', 'id', 'comment_id', 'source', 'toxic_score', 'is_profane',\n",
       "       'is_threat', 'is_identity_attack', 'is_insult', 'is_sexual_harassment',\n",
       "       'gender', 'gender_other', 'race', 'technology_impact',\n",
       "       'uses_media_social', 'uses_media_news', 'uses_media_video',\n",
       "       'uses_media_forums', 'personally_seen_toxic_content',\n",
       "       'personally_been_target', 'identify_as_transgender',\n",
       "       'toxic_comments_problem', 'education', 'age_range', 'lgbtq_status',\n",
       "       'political_affilation', 'is_parent', 'religion_important',\n",
       "       'fine_to_see_online', 'remove_from_online', 'worker_id', 'toxic'],\n",
       "      dtype='object')"
      ]
     },
     "execution_count": 8,
     "metadata": {},
     "output_type": "execute_result"
    }
   ],
   "source": [
    "df.columns"
   ]
  },
  {
   "cell_type": "code",
   "execution_count": 9,
   "metadata": {},
   "outputs": [
    {
     "data": {
      "text/plain": [
       "0    281511\n",
       "1     99973\n",
       "2     71347\n",
       "3     50300\n",
       "4     34969\n",
       "Name: toxic_score, dtype: int64"
      ]
     },
     "execution_count": 9,
     "metadata": {},
     "output_type": "execute_result"
    }
   ],
   "source": [
    "df['toxic_score'].value_counts()"
   ]
  },
  {
   "cell_type": "code",
   "execution_count": 10,
   "metadata": {},
   "outputs": [
    {
     "data": {
      "text/plain": [
       "17280"
      ]
     },
     "execution_count": 10,
     "metadata": {},
     "output_type": "execute_result"
    }
   ],
   "source": [
    "df['worker_id'].nunique()"
   ]
  },
  {
   "cell_type": "code",
   "execution_count": 11,
   "metadata": {},
   "outputs": [
    {
     "data": {
      "text/plain": [
       "count    17280.000000\n",
       "mean        31.140046\n",
       "std         20.158440\n",
       "min         20.000000\n",
       "25%         20.000000\n",
       "50%         20.000000\n",
       "75%         40.000000\n",
       "max        240.000000\n",
       "Name: worker_id, dtype: float64"
      ]
     },
     "execution_count": 11,
     "metadata": {},
     "output_type": "execute_result"
    }
   ],
   "source": [
    "df['worker_id'].value_counts().describe()"
   ]
  },
  {
   "cell_type": "code",
   "execution_count": 12,
   "metadata": {},
   "outputs": [
    {
     "data": {
      "text/plain": [
       "count    107620.0\n",
       "mean          5.0\n",
       "std           0.0\n",
       "min           5.0\n",
       "25%           5.0\n",
       "50%           5.0\n",
       "75%           5.0\n",
       "max           5.0\n",
       "Name: id, dtype: float64"
      ]
     },
     "execution_count": 12,
     "metadata": {},
     "output_type": "execute_result"
    }
   ],
   "source": [
    "df['id'].value_counts().describe()"
   ]
  },
  {
   "cell_type": "code",
   "execution_count": 13,
   "metadata": {},
   "outputs": [
    {
     "data": {
      "text/plain": [
       "count    538100.000000\n",
       "mean        112.083906\n",
       "std         138.709632\n",
       "min           3.000000\n",
       "25%          48.000000\n",
       "50%          80.000000\n",
       "75%         139.000000\n",
       "max        7754.000000\n",
       "Name: comment, dtype: float64"
      ]
     },
     "execution_count": 13,
     "metadata": {},
     "output_type": "execute_result"
    }
   ],
   "source": [
    "df['comment'].str.len().describe()"
   ]
  },
  {
   "attachments": {},
   "cell_type": "markdown",
   "metadata": {},
   "source": [
    "### Age"
   ]
  },
  {
   "cell_type": "code",
   "execution_count": 14,
   "metadata": {},
   "outputs": [
    {
     "data": {
      "text/plain": [
       "25 - 34              214600\n",
       "35 - 44              133800\n",
       "45 - 54               69800\n",
       "18 - 24               62480\n",
       "55 - 64               39580\n",
       "65 or older           16580\n",
       "Prefer not to say      1140\n",
       "Under 18                120\n",
       "Name: age_range, dtype: int64"
      ]
     },
     "execution_count": 14,
     "metadata": {},
     "output_type": "execute_result"
    }
   ],
   "source": [
    "df['age_range'].value_counts()"
   ]
  },
  {
   "cell_type": "code",
   "execution_count": 15,
   "metadata": {},
   "outputs": [
    {
     "data": {
      "text/plain": [
       "25 - 34              6590\n",
       "35 - 44              3816\n",
       "18 - 24              1962\n",
       "45 - 54              1933\n",
       "Prefer not to say    1532\n",
       "55 - 64              1038\n",
       "65 or older           404\n",
       "Under 18                5\n",
       "Name: age_range, dtype: int64"
      ]
     },
     "execution_count": 15,
     "metadata": {},
     "output_type": "execute_result"
    }
   ],
   "source": [
    "df.groupby('worker_id')['age_range'].agg(pd.Series.mode).apply(lambda age: 'Prefer not to say' if type(age) is np.ndarray else age).value_counts()\n"
   ]
  },
  {
   "attachments": {},
   "cell_type": "markdown",
   "metadata": {},
   "source": [
    "### Gender"
   ]
  },
  {
   "cell_type": "code",
   "execution_count": 16,
   "metadata": {},
   "outputs": [
    {
     "data": {
      "text/plain": [
       "Female               281020\n",
       "Male                 250220\n",
       "Prefer not to say      3160\n",
       "Nonbinary              2940\n",
       "Other                   160\n",
       "Name: gender, dtype: int64"
      ]
     },
     "execution_count": 16,
     "metadata": {},
     "output_type": "execute_result"
    }
   ],
   "source": [
    "df['gender'].value_counts()"
   ]
  },
  {
   "cell_type": "code",
   "execution_count": 17,
   "metadata": {},
   "outputs": [
    {
     "data": {
      "text/plain": [
       "Female               8709\n",
       "Male                 7394\n",
       "Prefer not to say    1092\n",
       "Nonbinary              80\n",
       "Other                   5\n",
       "Name: gender, dtype: int64"
      ]
     },
     "execution_count": 17,
     "metadata": {},
     "output_type": "execute_result"
    }
   ],
   "source": [
    "df.groupby('worker_id')['gender'].agg(pd.Series.mode).apply(lambda gender: 'Prefer not to say' if type(gender) is np.ndarray else gender).value_counts()"
   ]
  },
  {
   "attachments": {},
   "cell_type": "markdown",
   "metadata": {},
   "source": [
    "### Sexual orientation"
   ]
  },
  {
   "cell_type": "code",
   "execution_count": 18,
   "metadata": {},
   "outputs": [
    {
     "data": {
      "text/plain": [
       "Heterosexual         442280\n",
       "Bisexual              59580\n",
       "Homosexual            19060\n",
       "Prefer not to say     10580\n",
       "Other                  4560\n",
       "Name: lgbtq_status, dtype: int64"
      ]
     },
     "execution_count": 18,
     "metadata": {},
     "output_type": "execute_result"
    }
   ],
   "source": [
    "df['lgbtq_status'].value_counts()"
   ]
  },
  {
   "cell_type": "code",
   "execution_count": 19,
   "metadata": {},
   "outputs": [
    {
     "data": {
      "text/plain": [
       "Heterosexual         13770\n",
       "Bisexual              1797\n",
       "Prefer not to say     1075\n",
       "Homosexual             513\n",
       "Other                  125\n",
       "Name: lgbtq_status, dtype: int64"
      ]
     },
     "execution_count": 19,
     "metadata": {},
     "output_type": "execute_result"
    }
   ],
   "source": [
    "df.groupby('worker_id')['lgbtq_status'].agg(pd.Series.mode).apply(lambda sexuality: 'Prefer not to say' if type(sexuality) is np.ndarray else sexuality).value_counts()"
   ]
  },
  {
   "attachments": {},
   "cell_type": "markdown",
   "metadata": {},
   "source": [
    "### Education"
   ]
  },
  {
   "cell_type": "code",
   "execution_count": 20,
   "metadata": {},
   "outputs": [
    {
     "data": {
      "text/plain": [
       "Bachelor's degree in college (4-year)                                     219420\n",
       "Some college but no degree                                                108860\n",
       "Master's degree                                                            81340\n",
       "Associate degree in college (2-year)                                       58520\n",
       "High school graduate (high school diploma or equivalent including GED)     48420\n",
       "Professional degree (JD, MD)                                                8740\n",
       "Doctoral degree                                                             6500\n",
       "Less than high school degree                                                3120\n",
       "Prefer not to say                                                           2080\n",
       "Other                                                                        960\n",
       "Name: education, dtype: int64"
      ]
     },
     "execution_count": 20,
     "metadata": {},
     "output_type": "execute_result"
    }
   ],
   "source": [
    "df['education'].value_counts()"
   ]
  },
  {
   "cell_type": "code",
   "execution_count": 21,
   "metadata": {},
   "outputs": [
    {
     "data": {
      "text/plain": [
       "Bachelor's degree in college (4-year)                                     6540\n",
       "Some college but no degree                                                3222\n",
       "Master's degree                                                           2383\n",
       "Prefer not to say                                                         1658\n",
       "Associate degree in college (2-year)                                      1609\n",
       "High school graduate (high school diploma or equivalent including GED)    1360\n",
       "Professional degree (JD, MD)                                               233\n",
       "Doctoral degree                                                            161\n",
       "Less than high school degree                                                87\n",
       "Other                                                                       27\n",
       "Name: education, dtype: int64"
      ]
     },
     "execution_count": 21,
     "metadata": {},
     "output_type": "execute_result"
    }
   ],
   "source": [
    "df.groupby('worker_id')['education'].agg(pd.Series.mode).apply(lambda education: 'Prefer not to say' if type(education) is np.ndarray else education).value_counts()"
   ]
  }
 ],
 "metadata": {
  "interpreter": {
   "hash": "5cdc63a60fa921ac5703605bf6fd5c1d87d89afa5fd45cd912515fa0a02db395"
  },
  "kernelspec": {
   "display_name": "Python 3.7.13 ('sociodemographic-softlabels-Sh-apy0E-py3.7')",
   "language": "python",
   "name": "python3"
  },
  "language_info": {
   "codemirror_mode": {
    "name": "ipython",
    "version": 3
   },
   "file_extension": ".py",
   "mimetype": "text/x-python",
   "name": "python",
   "nbconvert_exporter": "python",
   "pygments_lexer": "ipython3",
   "version": "3.7.16"
  },
  "orig_nbformat": 4
 },
 "nbformat": 4,
 "nbformat_minor": 2
}
