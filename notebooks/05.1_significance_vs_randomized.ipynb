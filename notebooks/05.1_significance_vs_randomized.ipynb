{
 "cells": [
  {
   "cell_type": "code",
   "execution_count": 1,
   "metadata": {},
   "outputs": [],
   "source": [
    "import ast\n",
    "\n",
    "import numpy as np\n",
    "import pandas as pd\n",
    "\n",
    "from sociodemographic_softlabels.run import map_annotators_to_groups\n",
    "from sociodemographic_softlabels.datasets import kumar\n",
    "from sociodemographic_softlabels.analysis.replicability import (\n",
    "    significance_test_per_group,\n",
    "    k_estimator_groups\n",
    ")\n",
    "\n",
    "SAMPLE_PATH = \"../data/processed/kumar/sample_5000_annotators_v3.csv\"\n",
    "DATASET_PATH = 'kumar_dataset.json'"
   ]
  },
  {
   "cell_type": "markdown",
   "metadata": {},
   "source": [
    "## Load Data"
   ]
  },
  {
   "cell_type": "code",
   "execution_count": 2,
   "metadata": {},
   "outputs": [],
   "source": [
    "df = pd.concat([\n",
    "    pd.read_csv('../experiments/1.1-age/result.csv'),\n",
    "    pd.read_csv('../experiments/1.2-gender/result.csv'),\n",
    "    pd.read_csv('../experiments/1.3-education/result.csv'),\n",
    "    pd.read_csv('../experiments/1.4-lgbq/result.csv'),\n",
    "    pd.read_csv('../experiments/2.1-age-random/result.csv'),\n",
    "    pd.read_csv('../experiments/2.2-gender-random/result.csv'),\n",
    "    pd.read_csv('../experiments/2.3-education-random/result.csv'),\n",
    "    pd.read_csv('../experiments/2.4-lgbq-random/result.csv')   \n",
    "]).rename(lambda c: c if not c.startswith('eval_') else c[5:], axis = 1)\n",
    "\n",
    "df['attributes'] = df['attributes'].map({\n",
    "        '[]': 'baseline',\n",
    "        \"['gender']\": 'gender',\n",
    "        \"['age_range']\": 'age',\n",
    "        \"['education']\": 'education',\n",
    "        \"['lgbtq_status']\": 'lgbq',\n",
    "    })\n",
    "\n",
    "df[['predictions_per_annotator', 'labels_raw', 'labels_per_annotator',  'annotator_indecies']] = df[['predictions_per_annotator', 'labels_raw', 'labels_per_annotator',  'annotator_indecies']].applymap(lambda x: x.replace('nan', 'None')).applymap(ast.literal_eval)\n",
    "\n",
    "if any(df['annotator_indecies'].apply(lambda indecies: any([annotator == None for per_example in indecies for annotator in per_example]))):\n",
    "    dtype = 'float'\n",
    "else:\n",
    "    dtype = 'int'\n",
    "    \n",
    "df[['predictions_per_annotator', 'labels_raw', 'labels_per_annotator',  'annotator_indecies']] = df[['predictions_per_annotator', 'labels_raw', 'labels_per_annotator',  'annotator_indecies']].applymap(lambda x: np.array(x, dtype=dtype))"
   ]
  },
  {
   "cell_type": "code",
   "execution_count": 7,
   "metadata": {},
   "outputs": [
    {
     "data": {
      "application/vnd.jupyter.widget-view+json": {
       "model_id": "59cadca71a60428b86256c23133e777f",
       "version_major": 2,
       "version_minor": 0
      },
      "text/plain": [
       "  0%|          | 0/23 [00:00<?, ?ba/s]"
      ]
     },
     "metadata": {},
     "output_type": "display_data"
    }
   ],
   "source": [
    "all_data = kumar.Dataset.load(SAMPLE_PATH, metadata_path=DATASET_PATH)\n",
    "\n",
    "to_groups = map_annotators_to_groups(\n",
    "        all_data.annotators_mapping,\n",
    "        all_data.sociodemographic_mapping,\n",
    "        [\n",
    "            \"age_range\",\n",
    "            \"lgbtq_status\",\n",
    "            \"education\",\n",
    "            \"gender\"\n",
    "        ]\n",
    "    )"
   ]
  },
  {
   "cell_type": "code",
   "execution_count": 8,
   "metadata": {},
   "outputs": [
    {
     "data": {
      "text/html": [
       "<div>\n",
       "<style scoped>\n",
       "    .dataframe tbody tr th:only-of-type {\n",
       "        vertical-align: middle;\n",
       "    }\n",
       "\n",
       "    .dataframe tbody tr th {\n",
       "        vertical-align: top;\n",
       "    }\n",
       "\n",
       "    .dataframe thead th {\n",
       "        text-align: right;\n",
       "    }\n",
       "</style>\n",
       "<table border=\"1\" class=\"dataframe\">\n",
       "  <thead>\n",
       "    <tr style=\"text-align: right;\">\n",
       "      <th></th>\n",
       "      <th>timestamp</th>\n",
       "      <th>loss</th>\n",
       "      <th>is_parent - No - individual_0_precision</th>\n",
       "      <th>is_parent - No - individual_0_recall</th>\n",
       "      <th>is_parent - No - individual_0_f1-score</th>\n",
       "      <th>is_parent - No - individual_0_support</th>\n",
       "      <th>is_parent - No - individual_1_precision</th>\n",
       "      <th>is_parent - No - individual_1_recall</th>\n",
       "      <th>is_parent - No - individual_1_f1-score</th>\n",
       "      <th>is_parent - No - individual_1_support</th>\n",
       "      <th>...</th>\n",
       "      <th>attributes</th>\n",
       "      <th>map_ids_to_attributes</th>\n",
       "      <th>setting</th>\n",
       "      <th>output_dir</th>\n",
       "      <th>while_train</th>\n",
       "      <th>do_stack_groups</th>\n",
       "      <th>do_random_assignment</th>\n",
       "      <th>group_layers_depth</th>\n",
       "      <th>random_seed</th>\n",
       "      <th>split</th>\n",
       "    </tr>\n",
       "  </thead>\n",
       "  <tbody>\n",
       "    <tr>\n",
       "      <th>0</th>\n",
       "      <td>2023-05-18 14:33:37.604774</td>\n",
       "      <td>0.0</td>\n",
       "      <td>0.819358</td>\n",
       "      <td>0.79681</td>\n",
       "      <td>0.807927</td>\n",
       "      <td>8903</td>\n",
       "      <td>0.435745</td>\n",
       "      <td>0.4718</td>\n",
       "      <td>0.453057</td>\n",
       "      <td>2961</td>\n",
       "      <td>...</td>\n",
       "      <td>gender</td>\n",
       "      <td>[]</td>\n",
       "      <td>K_FOLD</td>\n",
       "      <td>./models/custom_mt_model_multilabel</td>\n",
       "      <td>False</td>\n",
       "      <td>True</td>\n",
       "      <td>False</td>\n",
       "      <td>1</td>\n",
       "      <td>2803636207</td>\n",
       "      <td>0</td>\n",
       "    </tr>\n",
       "  </tbody>\n",
       "</table>\n",
       "<p>1 rows × 1138 columns</p>\n",
       "</div>"
      ],
      "text/plain": [
       "                    timestamp  loss  is_parent - No - individual_0_precision  \\\n",
       "0  2023-05-18 14:33:37.604774   0.0                                 0.819358   \n",
       "\n",
       "   is_parent - No - individual_0_recall  \\\n",
       "0                               0.79681   \n",
       "\n",
       "   is_parent - No - individual_0_f1-score  \\\n",
       "0                                0.807927   \n",
       "\n",
       "   is_parent - No - individual_0_support  \\\n",
       "0                                   8903   \n",
       "\n",
       "   is_parent - No - individual_1_precision  \\\n",
       "0                                 0.435745   \n",
       "\n",
       "   is_parent - No - individual_1_recall  \\\n",
       "0                                0.4718   \n",
       "\n",
       "   is_parent - No - individual_1_f1-score  \\\n",
       "0                                0.453057   \n",
       "\n",
       "   is_parent - No - individual_1_support  ...  attributes  \\\n",
       "0                                   2961  ...      gender   \n",
       "\n",
       "   map_ids_to_attributes  setting                           output_dir  \\\n",
       "0                     []   K_FOLD  ./models/custom_mt_model_multilabel   \n",
       "\n",
       "   while_train  do_stack_groups  do_random_assignment  group_layers_depth  \\\n",
       "0        False             True                 False                   1   \n",
       "\n",
       "   random_seed  split  \n",
       "0   2803636207      0  \n",
       "\n",
       "[1 rows x 1138 columns]"
      ]
     },
     "execution_count": 8,
     "metadata": {},
     "output_type": "execute_result"
    }
   ],
   "source": [
    "df[(df['random_seed'] == 2803636207) & (df['split'] == 0) & (df['attributes'] == 'gender') & (df['do_random_assignment'] == False)]"
   ]
  },
  {
   "cell_type": "markdown",
   "metadata": {},
   "source": [
    "## Significance Tests"
   ]
  },
  {
   "attachments": {},
   "cell_type": "markdown",
   "metadata": {},
   "source": [
    "### Gender"
   ]
  },
  {
   "cell_type": "code",
   "execution_count": 9,
   "metadata": {},
   "outputs": [
    {
     "name": "stdout",
     "output_type": "stream",
     "text": [
      "\n",
      "\n",
      "Seed: 2803636207 - Split: 0 - gender - Group: Male\n",
      "data shape:  (11861, 1)\n",
      "sample size: 5930\n"
     ]
    },
    {
     "name": "stderr",
     "output_type": "stream",
     "text": [
      "bootstrap: 100%|████████████████████████████| 1000/1000 [00:18<00:00, 52.98it/s]\n"
     ]
    },
    {
     "name": "stdout",
     "output_type": "stream",
     "text": [
      "\n",
      "count sample diff f1   is twice tot diff f1....... 455  / 1000    p < 0.455  \n",
      "count sample diff prec is twice tot diff prec..... 454  / 1000    p < 0.454  \n",
      "count sample diff rec  is twice tot diff rec ..... 439  / 1000    p < 0.439  \n",
      "count sample diff acc  is twice tot diff acc...... 463  / 1000    p < 0.463  \n",
      "\n",
      "\n",
      "Seed: 2803636207 - Split: 0 - gender - Group: Female\n",
      "data shape:  (13664, 1)\n",
      "sample size: 6832\n"
     ]
    },
    {
     "name": "stderr",
     "output_type": "stream",
     "text": [
      "bootstrap: 100%|████████████████████████████| 1000/1000 [00:20<00:00, 48.43it/s]\n"
     ]
    },
    {
     "name": "stdout",
     "output_type": "stream",
     "text": [
      "\n",
      "count sample diff f1   is twice tot diff f1....... 603  / 1000    p < 0.603  \n",
      "count sample diff prec is twice tot diff prec..... 755  / 1000    p < 0.755  \n",
      "count sample diff rec  is twice tot diff rec ..... 385  / 1000    p < 0.385  \n",
      "count sample diff acc  is twice tot diff acc...... 975  / 1000    p < 0.975  \u001b[38;5;8m!\u001b[0m\n",
      "\n",
      "\n",
      "Seed: 2803636207 - Split: 0 - gender - Group: Nonbinary\n",
      "data shape:  (120, 1)\n",
      "sample size: 60\n"
     ]
    },
    {
     "name": "stderr",
     "output_type": "stream",
     "text": [
      "bootstrap: 100%|███████████████████████████| 1000/1000 [00:08<00:00, 111.51it/s]\n"
     ]
    },
    {
     "name": "stdout",
     "output_type": "stream",
     "text": [
      "\n",
      "count sample diff f1   is twice tot diff f1....... 404  / 1000    p < 0.404  \n",
      "count sample diff prec is twice tot diff prec..... 384  / 1000    p < 0.384  \n",
      "count sample diff rec  is twice tot diff rec ..... 517  / 1000    p < 0.517  \n",
      "count sample diff acc  is twice tot diff acc...... 214  / 1000    p < 0.214  \n",
      "\n",
      "\n",
      "Seed: 2803636207 - Split: 1 - gender - Group: Male\n",
      "data shape:  (11912, 1)\n",
      "sample size: 5956\n"
     ]
    },
    {
     "name": "stderr",
     "output_type": "stream",
     "text": [
      "bootstrap: 100%|████████████████████████████| 1000/1000 [00:20<00:00, 49.36it/s]\n"
     ]
    },
    {
     "name": "stdout",
     "output_type": "stream",
     "text": [
      "\n",
      "count sample diff f1   is twice tot diff f1....... 762  / 1000    p < 0.762  \n",
      "count sample diff prec is twice tot diff prec..... 675  / 1000    p < 0.675  \n",
      "count sample diff rec  is twice tot diff rec ..... 819  / 1000    p < 0.819  \n",
      "count sample diff acc  is twice tot diff acc...... 645  / 1000    p < 0.645  \n",
      "\n",
      "\n",
      "Seed: 2803636207 - Split: 1 - gender - Group: Female\n",
      "data shape:  (13452, 1)\n",
      "sample size: 6726\n"
     ]
    },
    {
     "name": "stderr",
     "output_type": "stream",
     "text": [
      "bootstrap: 100%|████████████████████████████| 1000/1000 [00:38<00:00, 25.66it/s]\n"
     ]
    },
    {
     "name": "stdout",
     "output_type": "stream",
     "text": [
      "\n",
      "count sample diff f1   is twice tot diff f1....... 953  / 1000    p < 0.953  \u001b[38;5;8m!\u001b[0m\n",
      "count sample diff prec is twice tot diff prec..... 978  / 1000    p < 0.978  \u001b[38;5;8m!\u001b[0m\n",
      "count sample diff rec  is twice tot diff rec ..... 920  / 1000    p < 0.92   \n",
      "count sample diff acc  is twice tot diff acc...... 996  / 1000    p < 0.996  \u001b[38;5;8m!\u001b[0m\n",
      "\n",
      "\n",
      "Seed: 2803636207 - Split: 1 - gender - Group: Nonbinary\n",
      "data shape:  (122, 1)\n",
      "sample size: 61\n"
     ]
    },
    {
     "name": "stderr",
     "output_type": "stream",
     "text": [
      "bootstrap: 100%|███████████████████████████| 1000/1000 [00:08<00:00, 117.32it/s]\n"
     ]
    },
    {
     "name": "stdout",
     "output_type": "stream",
     "text": [
      "\n",
      "count sample diff f1   is twice tot diff f1....... 478  / 1000    p < 0.478  \n",
      "count sample diff prec is twice tot diff prec..... 468  / 1000    p < 0.468  \n",
      "count sample diff rec  is twice tot diff rec ..... 433  / 1000    p < 0.433  \n",
      "count sample diff acc  is twice tot diff acc...... 619  / 1000    p < 0.619  \n",
      "\n",
      "\n",
      "Seed: 2803636207 - Split: 2 - gender - Group: Male\n",
      "data shape:  (11952, 1)\n",
      "sample size: 5976\n"
     ]
    },
    {
     "name": "stderr",
     "output_type": "stream",
     "text": [
      "bootstrap: 100%|████████████████████████████| 1000/1000 [00:19<00:00, 51.60it/s]\n"
     ]
    },
    {
     "name": "stdout",
     "output_type": "stream",
     "text": [
      "\n",
      "count sample diff f1   is twice tot diff f1....... 986  / 1000    p < 0.986  \u001b[38;5;8m!\u001b[0m\n",
      "count sample diff prec is twice tot diff prec..... 977  / 1000    p < 0.977  \u001b[38;5;8m!\u001b[0m\n",
      "count sample diff rec  is twice tot diff rec ..... 993  / 1000    p < 0.993  \u001b[38;5;8m!\u001b[0m\n",
      "count sample diff acc  is twice tot diff acc...... 966  / 1000    p < 0.966  \u001b[38;5;8m!\u001b[0m\n",
      "\n",
      "\n",
      "Seed: 2803636207 - Split: 2 - gender - Group: Female\n",
      "data shape:  (13589, 1)\n",
      "sample size: 6794\n"
     ]
    },
    {
     "name": "stderr",
     "output_type": "stream",
     "text": [
      "bootstrap: 100%|████████████████████████████| 1000/1000 [00:23<00:00, 43.26it/s]\n"
     ]
    },
    {
     "name": "stdout",
     "output_type": "stream",
     "text": [
      "\n",
      "count sample diff f1   is twice tot diff f1....... 995  / 1000    p < 0.995  \u001b[38;5;8m!\u001b[0m\n",
      "count sample diff prec is twice tot diff prec..... 996  / 1000    p < 0.996  \u001b[38;5;8m!\u001b[0m\n",
      "count sample diff rec  is twice tot diff rec ..... 996  / 1000    p < 0.996  \u001b[38;5;8m!\u001b[0m\n",
      "count sample diff acc  is twice tot diff acc...... 989  / 1000    p < 0.989  \u001b[38;5;8m!\u001b[0m\n",
      "\n",
      "\n",
      "Seed: 2803636207 - Split: 2 - gender - Group: Nonbinary\n",
      "data shape:  (114, 1)\n",
      "sample size: 57\n"
     ]
    },
    {
     "name": "stderr",
     "output_type": "stream",
     "text": [
      "bootstrap:   0%|                                       | 0/1000 [00:00<?, ?it/s]/home/matthias/.cache/pypoetry/virtualenvs/sociodemographic-softlabels-Sh-apy0E-py3.7/lib/python3.7/site-packages/sklearn/metrics/_classification.py:1318: UndefinedMetricWarning: Precision is ill-defined and being set to 0.0 in labels with no predicted samples. Use `zero_division` parameter to control this behavior.\n",
      "  _warn_prf(average, modifier, msg_start, len(result))\n",
      "bootstrap:   1%|▎                              | 9/1000 [00:00<00:12, 81.22it/s]/home/matthias/.cache/pypoetry/virtualenvs/sociodemographic-softlabels-Sh-apy0E-py3.7/lib/python3.7/site-packages/sklearn/metrics/_classification.py:1318: UndefinedMetricWarning: Precision is ill-defined and being set to 0.0 in labels with no predicted samples. Use `zero_division` parameter to control this behavior.\n",
      "  _warn_prf(average, modifier, msg_start, len(result))\n",
      "bootstrap:   2%|▌                             | 18/1000 [00:00<00:12, 77.71it/s]/home/matthias/.cache/pypoetry/virtualenvs/sociodemographic-softlabels-Sh-apy0E-py3.7/lib/python3.7/site-packages/sklearn/metrics/_classification.py:1318: UndefinedMetricWarning: Precision is ill-defined and being set to 0.0 in labels with no predicted samples. Use `zero_division` parameter to control this behavior.\n",
      "  _warn_prf(average, modifier, msg_start, len(result))\n",
      "bootstrap:   3%|▊                             | 29/1000 [00:00<00:10, 90.42it/s]/home/matthias/.cache/pypoetry/virtualenvs/sociodemographic-softlabels-Sh-apy0E-py3.7/lib/python3.7/site-packages/sklearn/metrics/_classification.py:1318: UndefinedMetricWarning: Precision is ill-defined and being set to 0.0 in labels with no predicted samples. Use `zero_division` parameter to control this behavior.\n",
      "  _warn_prf(average, modifier, msg_start, len(result))\n",
      "bootstrap:   5%|█▍                           | 51/1000 [00:00<00:09, 100.83it/s]/home/matthias/.cache/pypoetry/virtualenvs/sociodemographic-softlabels-Sh-apy0E-py3.7/lib/python3.7/site-packages/sklearn/metrics/_classification.py:1318: UndefinedMetricWarning: Precision is ill-defined and being set to 0.0 in labels with no predicted samples. Use `zero_division` parameter to control this behavior.\n",
      "  _warn_prf(average, modifier, msg_start, len(result))\n",
      "/home/matthias/.cache/pypoetry/virtualenvs/sociodemographic-softlabels-Sh-apy0E-py3.7/lib/python3.7/site-packages/sklearn/metrics/_classification.py:1318: UndefinedMetricWarning: Precision is ill-defined and being set to 0.0 in labels with no predicted samples. Use `zero_division` parameter to control this behavior.\n",
      "  _warn_prf(average, modifier, msg_start, len(result))\n",
      "/home/matthias/.cache/pypoetry/virtualenvs/sociodemographic-softlabels-Sh-apy0E-py3.7/lib/python3.7/site-packages/sklearn/metrics/_classification.py:1318: UndefinedMetricWarning: Precision is ill-defined and being set to 0.0 in labels with no predicted samples. Use `zero_division` parameter to control this behavior.\n",
      "  _warn_prf(average, modifier, msg_start, len(result))\n",
      "/home/matthias/.cache/pypoetry/virtualenvs/sociodemographic-softlabels-Sh-apy0E-py3.7/lib/python3.7/site-packages/sklearn/metrics/_classification.py:1318: UndefinedMetricWarning: Precision is ill-defined and being set to 0.0 in labels with no predicted samples. Use `zero_division` parameter to control this behavior.\n",
      "  _warn_prf(average, modifier, msg_start, len(result))\n",
      "bootstrap:   6%|█▊                           | 63/1000 [00:00<00:08, 105.25it/s]/home/matthias/.cache/pypoetry/virtualenvs/sociodemographic-softlabels-Sh-apy0E-py3.7/lib/python3.7/site-packages/sklearn/metrics/_classification.py:1318: UndefinedMetricWarning: Precision is ill-defined and being set to 0.0 in labels with no predicted samples. Use `zero_division` parameter to control this behavior.\n",
      "  _warn_prf(average, modifier, msg_start, len(result))\n",
      "bootstrap:   7%|██▏                          | 74/1000 [00:00<00:08, 104.53it/s]/home/matthias/.cache/pypoetry/virtualenvs/sociodemographic-softlabels-Sh-apy0E-py3.7/lib/python3.7/site-packages/sklearn/metrics/_classification.py:1318: UndefinedMetricWarning: Precision is ill-defined and being set to 0.0 in labels with no predicted samples. Use `zero_division` parameter to control this behavior.\n",
      "  _warn_prf(average, modifier, msg_start, len(result))\n",
      "/home/matthias/.cache/pypoetry/virtualenvs/sociodemographic-softlabels-Sh-apy0E-py3.7/lib/python3.7/site-packages/sklearn/metrics/_classification.py:1318: UndefinedMetricWarning: Precision is ill-defined and being set to 0.0 in labels with no predicted samples. Use `zero_division` parameter to control this behavior.\n",
      "  _warn_prf(average, modifier, msg_start, len(result))\n",
      "/home/matthias/.cache/pypoetry/virtualenvs/sociodemographic-softlabels-Sh-apy0E-py3.7/lib/python3.7/site-packages/sklearn/metrics/_classification.py:1318: UndefinedMetricWarning: Precision is ill-defined and being set to 0.0 in labels with no predicted samples. Use `zero_division` parameter to control this behavior.\n",
      "  _warn_prf(average, modifier, msg_start, len(result))\n",
      "bootstrap:  10%|██▊                          | 96/1000 [00:00<00:08, 101.30it/s]/home/matthias/.cache/pypoetry/virtualenvs/sociodemographic-softlabels-Sh-apy0E-py3.7/lib/python3.7/site-packages/sklearn/metrics/_classification.py:1318: UndefinedMetricWarning: Precision is ill-defined and being set to 0.0 in labels with no predicted samples. Use `zero_division` parameter to control this behavior.\n",
      "  _warn_prf(average, modifier, msg_start, len(result))\n",
      "bootstrap:  11%|███                          | 107/1000 [00:01<00:09, 97.42it/s]/home/matthias/.cache/pypoetry/virtualenvs/sociodemographic-softlabels-Sh-apy0E-py3.7/lib/python3.7/site-packages/sklearn/metrics/_classification.py:1318: UndefinedMetricWarning: Precision is ill-defined and being set to 0.0 in labels with no predicted samples. Use `zero_division` parameter to control this behavior.\n",
      "  _warn_prf(average, modifier, msg_start, len(result))\n",
      "bootstrap:  14%|███▉                         | 136/1000 [00:01<00:10, 83.77it/s]/home/matthias/.cache/pypoetry/virtualenvs/sociodemographic-softlabels-Sh-apy0E-py3.7/lib/python3.7/site-packages/sklearn/metrics/_classification.py:1318: UndefinedMetricWarning: Precision is ill-defined and being set to 0.0 in labels with no predicted samples. Use `zero_division` parameter to control this behavior.\n",
      "  _warn_prf(average, modifier, msg_start, len(result))\n",
      "bootstrap:  15%|████▍                        | 154/1000 [00:01<00:11, 75.06it/s]/home/matthias/.cache/pypoetry/virtualenvs/sociodemographic-softlabels-Sh-apy0E-py3.7/lib/python3.7/site-packages/sklearn/metrics/_classification.py:1318: UndefinedMetricWarning: Precision is ill-defined and being set to 0.0 in labels with no predicted samples. Use `zero_division` parameter to control this behavior.\n",
      "  _warn_prf(average, modifier, msg_start, len(result))\n",
      "/home/matthias/.cache/pypoetry/virtualenvs/sociodemographic-softlabels-Sh-apy0E-py3.7/lib/python3.7/site-packages/sklearn/metrics/_classification.py:1318: UndefinedMetricWarning: Precision is ill-defined and being set to 0.0 in labels with no predicted samples. Use `zero_division` parameter to control this behavior.\n",
      "  _warn_prf(average, modifier, msg_start, len(result))\n",
      "bootstrap:  16%|████▋                        | 162/1000 [00:01<00:11, 73.75it/s]/home/matthias/.cache/pypoetry/virtualenvs/sociodemographic-softlabels-Sh-apy0E-py3.7/lib/python3.7/site-packages/sklearn/metrics/_classification.py:1318: UndefinedMetricWarning: Precision is ill-defined and being set to 0.0 in labels with no predicted samples. Use `zero_division` parameter to control this behavior.\n",
      "  _warn_prf(average, modifier, msg_start, len(result))\n",
      "bootstrap:  17%|████▉                        | 170/1000 [00:01<00:11, 72.21it/s]/home/matthias/.cache/pypoetry/virtualenvs/sociodemographic-softlabels-Sh-apy0E-py3.7/lib/python3.7/site-packages/sklearn/metrics/_classification.py:1318: UndefinedMetricWarning: Precision is ill-defined and being set to 0.0 in labels with no predicted samples. Use `zero_division` parameter to control this behavior.\n",
      "  _warn_prf(average, modifier, msg_start, len(result))\n",
      "bootstrap:  19%|█████▋                       | 194/1000 [00:02<00:11, 70.62it/s]/home/matthias/.cache/pypoetry/virtualenvs/sociodemographic-softlabels-Sh-apy0E-py3.7/lib/python3.7/site-packages/sklearn/metrics/_classification.py:1318: UndefinedMetricWarning: Precision is ill-defined and being set to 0.0 in labels with no predicted samples. Use `zero_division` parameter to control this behavior.\n",
      "  _warn_prf(average, modifier, msg_start, len(result))\n",
      "bootstrap:  21%|██████                       | 210/1000 [00:02<00:11, 70.45it/s]/home/matthias/.cache/pypoetry/virtualenvs/sociodemographic-softlabels-Sh-apy0E-py3.7/lib/python3.7/site-packages/sklearn/metrics/_classification.py:1318: UndefinedMetricWarning: Precision is ill-defined and being set to 0.0 in labels with no predicted samples. Use `zero_division` parameter to control this behavior.\n",
      "  _warn_prf(average, modifier, msg_start, len(result))\n",
      "/home/matthias/.cache/pypoetry/virtualenvs/sociodemographic-softlabels-Sh-apy0E-py3.7/lib/python3.7/site-packages/sklearn/metrics/_classification.py:1318: UndefinedMetricWarning: Precision is ill-defined and being set to 0.0 in labels with no predicted samples. Use `zero_division` parameter to control this behavior.\n",
      "  _warn_prf(average, modifier, msg_start, len(result))\n",
      "bootstrap:  22%|██████▎                      | 218/1000 [00:02<00:11, 70.31it/s]/home/matthias/.cache/pypoetry/virtualenvs/sociodemographic-softlabels-Sh-apy0E-py3.7/lib/python3.7/site-packages/sklearn/metrics/_classification.py:1318: UndefinedMetricWarning: Precision is ill-defined and being set to 0.0 in labels with no predicted samples. Use `zero_division` parameter to control this behavior.\n",
      "  _warn_prf(average, modifier, msg_start, len(result))\n",
      "bootstrap:  23%|██████▌                      | 226/1000 [00:02<00:10, 70.62it/s]/home/matthias/.cache/pypoetry/virtualenvs/sociodemographic-softlabels-Sh-apy0E-py3.7/lib/python3.7/site-packages/sklearn/metrics/_classification.py:1318: UndefinedMetricWarning: Precision is ill-defined and being set to 0.0 in labels with no predicted samples. Use `zero_division` parameter to control this behavior.\n",
      "  _warn_prf(average, modifier, msg_start, len(result))\n",
      "/home/matthias/.cache/pypoetry/virtualenvs/sociodemographic-softlabels-Sh-apy0E-py3.7/lib/python3.7/site-packages/sklearn/metrics/_classification.py:1318: UndefinedMetricWarning: Precision is ill-defined and being set to 0.0 in labels with no predicted samples. Use `zero_division` parameter to control this behavior.\n",
      "  _warn_prf(average, modifier, msg_start, len(result))\n",
      "bootstrap:  23%|██████▊                      | 234/1000 [00:02<00:10, 70.17it/s]/home/matthias/.cache/pypoetry/virtualenvs/sociodemographic-softlabels-Sh-apy0E-py3.7/lib/python3.7/site-packages/sklearn/metrics/_classification.py:1318: UndefinedMetricWarning: Precision is ill-defined and being set to 0.0 in labels with no predicted samples. Use `zero_division` parameter to control this behavior.\n",
      "  _warn_prf(average, modifier, msg_start, len(result))\n",
      "bootstrap:  24%|███████                      | 242/1000 [00:02<00:10, 70.07it/s]/home/matthias/.cache/pypoetry/virtualenvs/sociodemographic-softlabels-Sh-apy0E-py3.7/lib/python3.7/site-packages/sklearn/metrics/_classification.py:1318: UndefinedMetricWarning: Precision is ill-defined and being set to 0.0 in labels with no predicted samples. Use `zero_division` parameter to control this behavior.\n",
      "  _warn_prf(average, modifier, msg_start, len(result))\n",
      "bootstrap:  26%|███████▍                     | 257/1000 [00:03<00:10, 69.11it/s]/home/matthias/.cache/pypoetry/virtualenvs/sociodemographic-softlabels-Sh-apy0E-py3.7/lib/python3.7/site-packages/sklearn/metrics/_classification.py:1318: UndefinedMetricWarning: Precision is ill-defined and being set to 0.0 in labels with no predicted samples. Use `zero_division` parameter to control this behavior.\n",
      "  _warn_prf(average, modifier, msg_start, len(result))\n",
      "bootstrap:  26%|███████▋                     | 265/1000 [00:03<00:10, 70.10it/s]/home/matthias/.cache/pypoetry/virtualenvs/sociodemographic-softlabels-Sh-apy0E-py3.7/lib/python3.7/site-packages/sklearn/metrics/_classification.py:1318: UndefinedMetricWarning: Precision is ill-defined and being set to 0.0 in labels with no predicted samples. Use `zero_division` parameter to control this behavior.\n",
      "  _warn_prf(average, modifier, msg_start, len(result))\n",
      "bootstrap:  29%|████████▍                    | 289/1000 [00:03<00:10, 69.45it/s]/home/matthias/.cache/pypoetry/virtualenvs/sociodemographic-softlabels-Sh-apy0E-py3.7/lib/python3.7/site-packages/sklearn/metrics/_classification.py:1318: UndefinedMetricWarning: Precision is ill-defined and being set to 0.0 in labels with no predicted samples. Use `zero_division` parameter to control this behavior.\n",
      "  _warn_prf(average, modifier, msg_start, len(result))\n",
      "/home/matthias/.cache/pypoetry/virtualenvs/sociodemographic-softlabels-Sh-apy0E-py3.7/lib/python3.7/site-packages/sklearn/metrics/_classification.py:1318: UndefinedMetricWarning: Precision is ill-defined and being set to 0.0 in labels with no predicted samples. Use `zero_division` parameter to control this behavior.\n",
      "  _warn_prf(average, modifier, msg_start, len(result))\n",
      "bootstrap:  30%|████████▌                    | 296/1000 [00:03<00:10, 68.48it/s]/home/matthias/.cache/pypoetry/virtualenvs/sociodemographic-softlabels-Sh-apy0E-py3.7/lib/python3.7/site-packages/sklearn/metrics/_classification.py:1318: UndefinedMetricWarning: Precision is ill-defined and being set to 0.0 in labels with no predicted samples. Use `zero_division` parameter to control this behavior.\n",
      "  _warn_prf(average, modifier, msg_start, len(result))\n",
      "bootstrap:  30%|████████▊                    | 303/1000 [00:03<00:11, 61.27it/s]/home/matthias/.cache/pypoetry/virtualenvs/sociodemographic-softlabels-Sh-apy0E-py3.7/lib/python3.7/site-packages/sklearn/metrics/_classification.py:1318: UndefinedMetricWarning: Precision is ill-defined and being set to 0.0 in labels with no predicted samples. Use `zero_division` parameter to control this behavior.\n",
      "  _warn_prf(average, modifier, msg_start, len(result))\n",
      "/home/matthias/.cache/pypoetry/virtualenvs/sociodemographic-softlabels-Sh-apy0E-py3.7/lib/python3.7/site-packages/sklearn/metrics/_classification.py:1318: UndefinedMetricWarning: Precision is ill-defined and being set to 0.0 in labels with no predicted samples. Use `zero_division` parameter to control this behavior.\n",
      "  _warn_prf(average, modifier, msg_start, len(result))\n",
      "bootstrap:  31%|████████▉                    | 310/1000 [00:04<00:11, 59.85it/s]/home/matthias/.cache/pypoetry/virtualenvs/sociodemographic-softlabels-Sh-apy0E-py3.7/lib/python3.7/site-packages/sklearn/metrics/_classification.py:1318: UndefinedMetricWarning: Precision is ill-defined and being set to 0.0 in labels with no predicted samples. Use `zero_division` parameter to control this behavior.\n",
      "  _warn_prf(average, modifier, msg_start, len(result))\n",
      "/home/matthias/.cache/pypoetry/virtualenvs/sociodemographic-softlabels-Sh-apy0E-py3.7/lib/python3.7/site-packages/sklearn/metrics/_classification.py:1318: UndefinedMetricWarning: Precision is ill-defined and being set to 0.0 in labels with no predicted samples. Use `zero_division` parameter to control this behavior.\n",
      "  _warn_prf(average, modifier, msg_start, len(result))\n",
      "/home/matthias/.cache/pypoetry/virtualenvs/sociodemographic-softlabels-Sh-apy0E-py3.7/lib/python3.7/site-packages/sklearn/metrics/_classification.py:1318: UndefinedMetricWarning: Precision is ill-defined and being set to 0.0 in labels with no predicted samples. Use `zero_division` parameter to control this behavior.\n",
      "  _warn_prf(average, modifier, msg_start, len(result))\n",
      "bootstrap:  32%|█████████▏                   | 317/1000 [00:04<00:11, 61.26it/s]/home/matthias/.cache/pypoetry/virtualenvs/sociodemographic-softlabels-Sh-apy0E-py3.7/lib/python3.7/site-packages/sklearn/metrics/_classification.py:1318: UndefinedMetricWarning: Precision is ill-defined and being set to 0.0 in labels with no predicted samples. Use `zero_division` parameter to control this behavior.\n",
      "  _warn_prf(average, modifier, msg_start, len(result))\n",
      "/home/matthias/.cache/pypoetry/virtualenvs/sociodemographic-softlabels-Sh-apy0E-py3.7/lib/python3.7/site-packages/sklearn/metrics/_classification.py:1318: UndefinedMetricWarning: Precision is ill-defined and being set to 0.0 in labels with no predicted samples. Use `zero_division` parameter to control this behavior.\n",
      "  _warn_prf(average, modifier, msg_start, len(result))\n",
      "bootstrap:  32%|█████████▍                   | 324/1000 [00:04<00:11, 61.09it/s]/home/matthias/.cache/pypoetry/virtualenvs/sociodemographic-softlabels-Sh-apy0E-py3.7/lib/python3.7/site-packages/sklearn/metrics/_classification.py:1318: UndefinedMetricWarning: Precision is ill-defined and being set to 0.0 in labels with no predicted samples. Use `zero_division` parameter to control this behavior.\n",
      "  _warn_prf(average, modifier, msg_start, len(result))\n",
      "bootstrap:  35%|██████████                   | 346/1000 [00:04<00:09, 65.96it/s]/home/matthias/.cache/pypoetry/virtualenvs/sociodemographic-softlabels-Sh-apy0E-py3.7/lib/python3.7/site-packages/sklearn/metrics/_classification.py:1318: UndefinedMetricWarning: Precision is ill-defined and being set to 0.0 in labels with no predicted samples. Use `zero_division` parameter to control this behavior.\n",
      "  _warn_prf(average, modifier, msg_start, len(result))\n",
      "bootstrap:  35%|██████████▎                  | 354/1000 [00:04<00:09, 68.25it/s]/home/matthias/.cache/pypoetry/virtualenvs/sociodemographic-softlabels-Sh-apy0E-py3.7/lib/python3.7/site-packages/sklearn/metrics/_classification.py:1318: UndefinedMetricWarning: Precision is ill-defined and being set to 0.0 in labels with no predicted samples. Use `zero_division` parameter to control this behavior.\n",
      "  _warn_prf(average, modifier, msg_start, len(result))\n",
      "bootstrap:  38%|██████████▉                  | 377/1000 [00:05<00:08, 69.79it/s]/home/matthias/.cache/pypoetry/virtualenvs/sociodemographic-softlabels-Sh-apy0E-py3.7/lib/python3.7/site-packages/sklearn/metrics/_classification.py:1318: UndefinedMetricWarning: Precision is ill-defined and being set to 0.0 in labels with no predicted samples. Use `zero_division` parameter to control this behavior.\n",
      "  _warn_prf(average, modifier, msg_start, len(result))\n",
      "bootstrap:  39%|███████████▍                 | 393/1000 [00:05<00:08, 71.15it/s]/home/matthias/.cache/pypoetry/virtualenvs/sociodemographic-softlabels-Sh-apy0E-py3.7/lib/python3.7/site-packages/sklearn/metrics/_classification.py:1318: UndefinedMetricWarning: Precision is ill-defined and being set to 0.0 in labels with no predicted samples. Use `zero_division` parameter to control this behavior.\n",
      "  _warn_prf(average, modifier, msg_start, len(result))\n",
      "bootstrap:  40%|███████████▋                 | 401/1000 [00:05<00:08, 69.84it/s]/home/matthias/.cache/pypoetry/virtualenvs/sociodemographic-softlabels-Sh-apy0E-py3.7/lib/python3.7/site-packages/sklearn/metrics/_classification.py:1318: UndefinedMetricWarning: Precision is ill-defined and being set to 0.0 in labels with no predicted samples. Use `zero_division` parameter to control this behavior.\n",
      "  _warn_prf(average, modifier, msg_start, len(result))\n",
      "/home/matthias/.cache/pypoetry/virtualenvs/sociodemographic-softlabels-Sh-apy0E-py3.7/lib/python3.7/site-packages/sklearn/metrics/_classification.py:1318: UndefinedMetricWarning: Precision is ill-defined and being set to 0.0 in labels with no predicted samples. Use `zero_division` parameter to control this behavior.\n",
      "  _warn_prf(average, modifier, msg_start, len(result))\n",
      "bootstrap:  41%|███████████▊                 | 408/1000 [00:05<00:08, 69.14it/s]/home/matthias/.cache/pypoetry/virtualenvs/sociodemographic-softlabels-Sh-apy0E-py3.7/lib/python3.7/site-packages/sklearn/metrics/_classification.py:1318: UndefinedMetricWarning: Precision is ill-defined and being set to 0.0 in labels with no predicted samples. Use `zero_division` parameter to control this behavior.\n",
      "  _warn_prf(average, modifier, msg_start, len(result))\n",
      "bootstrap:  42%|████████████                 | 415/1000 [00:05<00:08, 66.19it/s]/home/matthias/.cache/pypoetry/virtualenvs/sociodemographic-softlabels-Sh-apy0E-py3.7/lib/python3.7/site-packages/sklearn/metrics/_classification.py:1318: UndefinedMetricWarning: Precision is ill-defined and being set to 0.0 in labels with no predicted samples. Use `zero_division` parameter to control this behavior.\n",
      "  _warn_prf(average, modifier, msg_start, len(result))\n",
      "bootstrap:  45%|████████████▉                | 446/1000 [00:06<00:08, 69.01it/s]/home/matthias/.cache/pypoetry/virtualenvs/sociodemographic-softlabels-Sh-apy0E-py3.7/lib/python3.7/site-packages/sklearn/metrics/_classification.py:1318: UndefinedMetricWarning: Precision is ill-defined and being set to 0.0 in labels with no predicted samples. Use `zero_division` parameter to control this behavior.\n",
      "  _warn_prf(average, modifier, msg_start, len(result))\n",
      "bootstrap:  45%|█████████████▏               | 453/1000 [00:06<00:07, 68.77it/s]/home/matthias/.cache/pypoetry/virtualenvs/sociodemographic-softlabels-Sh-apy0E-py3.7/lib/python3.7/site-packages/sklearn/metrics/_classification.py:1318: UndefinedMetricWarning: Precision is ill-defined and being set to 0.0 in labels with no predicted samples. Use `zero_division` parameter to control this behavior.\n",
      "  _warn_prf(average, modifier, msg_start, len(result))\n",
      "/home/matthias/.cache/pypoetry/virtualenvs/sociodemographic-softlabels-Sh-apy0E-py3.7/lib/python3.7/site-packages/sklearn/metrics/_classification.py:1318: UndefinedMetricWarning: Precision is ill-defined and being set to 0.0 in labels with no predicted samples. Use `zero_division` parameter to control this behavior.\n",
      "  _warn_prf(average, modifier, msg_start, len(result))\n",
      "bootstrap:  46%|█████████████▎               | 460/1000 [00:06<00:08, 61.85it/s]/home/matthias/.cache/pypoetry/virtualenvs/sociodemographic-softlabels-Sh-apy0E-py3.7/lib/python3.7/site-packages/sklearn/metrics/_classification.py:1318: UndefinedMetricWarning: Precision is ill-defined and being set to 0.0 in labels with no predicted samples. Use `zero_division` parameter to control this behavior.\n",
      "  _warn_prf(average, modifier, msg_start, len(result))\n",
      "bootstrap:  49%|██████████████▏              | 491/1000 [00:06<00:07, 68.67it/s]/home/matthias/.cache/pypoetry/virtualenvs/sociodemographic-softlabels-Sh-apy0E-py3.7/lib/python3.7/site-packages/sklearn/metrics/_classification.py:1318: UndefinedMetricWarning: Precision is ill-defined and being set to 0.0 in labels with no predicted samples. Use `zero_division` parameter to control this behavior.\n",
      "  _warn_prf(average, modifier, msg_start, len(result))\n",
      "bootstrap:  51%|██████████████▉              | 513/1000 [00:07<00:07, 68.64it/s]/home/matthias/.cache/pypoetry/virtualenvs/sociodemographic-softlabels-Sh-apy0E-py3.7/lib/python3.7/site-packages/sklearn/metrics/_classification.py:1318: UndefinedMetricWarning: Precision is ill-defined and being set to 0.0 in labels with no predicted samples. Use `zero_division` parameter to control this behavior.\n",
      "  _warn_prf(average, modifier, msg_start, len(result))\n",
      "/home/matthias/.cache/pypoetry/virtualenvs/sociodemographic-softlabels-Sh-apy0E-py3.7/lib/python3.7/site-packages/sklearn/metrics/_classification.py:1318: UndefinedMetricWarning: Precision is ill-defined and being set to 0.0 in labels with no predicted samples. Use `zero_division` parameter to control this behavior.\n",
      "  _warn_prf(average, modifier, msg_start, len(result))\n",
      "bootstrap:  53%|███████████████▎             | 529/1000 [00:07<00:06, 71.37it/s]/home/matthias/.cache/pypoetry/virtualenvs/sociodemographic-softlabels-Sh-apy0E-py3.7/lib/python3.7/site-packages/sklearn/metrics/_classification.py:1318: UndefinedMetricWarning: Precision is ill-defined and being set to 0.0 in labels with no predicted samples. Use `zero_division` parameter to control this behavior.\n",
      "  _warn_prf(average, modifier, msg_start, len(result))\n",
      "/home/matthias/.cache/pypoetry/virtualenvs/sociodemographic-softlabels-Sh-apy0E-py3.7/lib/python3.7/site-packages/sklearn/metrics/_classification.py:1318: UndefinedMetricWarning: Precision is ill-defined and being set to 0.0 in labels with no predicted samples. Use `zero_division` parameter to control this behavior.\n",
      "  _warn_prf(average, modifier, msg_start, len(result))\n",
      "bootstrap:  54%|███████████████▌             | 537/1000 [00:07<00:06, 69.31it/s]/home/matthias/.cache/pypoetry/virtualenvs/sociodemographic-softlabels-Sh-apy0E-py3.7/lib/python3.7/site-packages/sklearn/metrics/_classification.py:1318: UndefinedMetricWarning: Precision is ill-defined and being set to 0.0 in labels with no predicted samples. Use `zero_division` parameter to control this behavior.\n",
      "  _warn_prf(average, modifier, msg_start, len(result))\n",
      "bootstrap:  55%|███████████████▊             | 546/1000 [00:07<00:06, 74.10it/s]/home/matthias/.cache/pypoetry/virtualenvs/sociodemographic-softlabels-Sh-apy0E-py3.7/lib/python3.7/site-packages/sklearn/metrics/_classification.py:1318: UndefinedMetricWarning: Precision is ill-defined and being set to 0.0 in labels with no predicted samples. Use `zero_division` parameter to control this behavior.\n",
      "  _warn_prf(average, modifier, msg_start, len(result))\n",
      "/home/matthias/.cache/pypoetry/virtualenvs/sociodemographic-softlabels-Sh-apy0E-py3.7/lib/python3.7/site-packages/sklearn/metrics/_classification.py:1318: UndefinedMetricWarning: Precision is ill-defined and being set to 0.0 in labels with no predicted samples. Use `zero_division` parameter to control this behavior.\n",
      "  _warn_prf(average, modifier, msg_start, len(result))\n",
      "bootstrap:  56%|████████████████             | 556/1000 [00:07<00:05, 80.87it/s]/home/matthias/.cache/pypoetry/virtualenvs/sociodemographic-softlabels-Sh-apy0E-py3.7/lib/python3.7/site-packages/sklearn/metrics/_classification.py:1318: UndefinedMetricWarning: Precision is ill-defined and being set to 0.0 in labels with no predicted samples. Use `zero_division` parameter to control this behavior.\n",
      "  _warn_prf(average, modifier, msg_start, len(result))\n",
      "/home/matthias/.cache/pypoetry/virtualenvs/sociodemographic-softlabels-Sh-apy0E-py3.7/lib/python3.7/site-packages/sklearn/metrics/_classification.py:1318: UndefinedMetricWarning: Precision is ill-defined and being set to 0.0 in labels with no predicted samples. Use `zero_division` parameter to control this behavior.\n",
      "  _warn_prf(average, modifier, msg_start, len(result))\n",
      "/home/matthias/.cache/pypoetry/virtualenvs/sociodemographic-softlabels-Sh-apy0E-py3.7/lib/python3.7/site-packages/sklearn/metrics/_classification.py:1318: UndefinedMetricWarning: Precision is ill-defined and being set to 0.0 in labels with no predicted samples. Use `zero_division` parameter to control this behavior.\n",
      "  _warn_prf(average, modifier, msg_start, len(result))\n",
      "/home/matthias/.cache/pypoetry/virtualenvs/sociodemographic-softlabels-Sh-apy0E-py3.7/lib/python3.7/site-packages/sklearn/metrics/_classification.py:1318: UndefinedMetricWarning: Precision is ill-defined and being set to 0.0 in labels with no predicted samples. Use `zero_division` parameter to control this behavior.\n",
      "  _warn_prf(average, modifier, msg_start, len(result))\n",
      "bootstrap:  57%|████████████████▍            | 567/1000 [00:07<00:04, 87.08it/s]/home/matthias/.cache/pypoetry/virtualenvs/sociodemographic-softlabels-Sh-apy0E-py3.7/lib/python3.7/site-packages/sklearn/metrics/_classification.py:1318: UndefinedMetricWarning: Precision is ill-defined and being set to 0.0 in labels with no predicted samples. Use `zero_division` parameter to control this behavior.\n",
      "  _warn_prf(average, modifier, msg_start, len(result))\n",
      "/home/matthias/.cache/pypoetry/virtualenvs/sociodemographic-softlabels-Sh-apy0E-py3.7/lib/python3.7/site-packages/sklearn/metrics/_classification.py:1318: UndefinedMetricWarning: Precision is ill-defined and being set to 0.0 in labels with no predicted samples. Use `zero_division` parameter to control this behavior.\n",
      "  _warn_prf(average, modifier, msg_start, len(result))\n",
      "bootstrap:  58%|████████████████▊            | 578/1000 [00:07<00:04, 91.86it/s]/home/matthias/.cache/pypoetry/virtualenvs/sociodemographic-softlabels-Sh-apy0E-py3.7/lib/python3.7/site-packages/sklearn/metrics/_classification.py:1318: UndefinedMetricWarning: Precision is ill-defined and being set to 0.0 in labels with no predicted samples. Use `zero_division` parameter to control this behavior.\n",
      "  _warn_prf(average, modifier, msg_start, len(result))\n",
      "/home/matthias/.cache/pypoetry/virtualenvs/sociodemographic-softlabels-Sh-apy0E-py3.7/lib/python3.7/site-packages/sklearn/metrics/_classification.py:1318: UndefinedMetricWarning: Precision is ill-defined and being set to 0.0 in labels with no predicted samples. Use `zero_division` parameter to control this behavior.\n",
      "  _warn_prf(average, modifier, msg_start, len(result))\n",
      "bootstrap:  59%|█████████████████            | 590/1000 [00:07<00:04, 97.53it/s]/home/matthias/.cache/pypoetry/virtualenvs/sociodemographic-softlabels-Sh-apy0E-py3.7/lib/python3.7/site-packages/sklearn/metrics/_classification.py:1318: UndefinedMetricWarning: Precision is ill-defined and being set to 0.0 in labels with no predicted samples. Use `zero_division` parameter to control this behavior.\n",
      "  _warn_prf(average, modifier, msg_start, len(result))\n",
      "bootstrap:  61%|█████████████████▋           | 612/1000 [00:08<00:03, 98.56it/s]/home/matthias/.cache/pypoetry/virtualenvs/sociodemographic-softlabels-Sh-apy0E-py3.7/lib/python3.7/site-packages/sklearn/metrics/_classification.py:1318: UndefinedMetricWarning: Precision is ill-defined and being set to 0.0 in labels with no predicted samples. Use `zero_division` parameter to control this behavior.\n",
      "  _warn_prf(average, modifier, msg_start, len(result))\n",
      "/home/matthias/.cache/pypoetry/virtualenvs/sociodemographic-softlabels-Sh-apy0E-py3.7/lib/python3.7/site-packages/sklearn/metrics/_classification.py:1318: UndefinedMetricWarning: Precision is ill-defined and being set to 0.0 in labels with no predicted samples. Use `zero_division` parameter to control this behavior.\n",
      "  _warn_prf(average, modifier, msg_start, len(result))\n",
      "bootstrap:  62%|█████████████████▍          | 624/1000 [00:08<00:03, 101.13it/s]/home/matthias/.cache/pypoetry/virtualenvs/sociodemographic-softlabels-Sh-apy0E-py3.7/lib/python3.7/site-packages/sklearn/metrics/_classification.py:1318: UndefinedMetricWarning: Precision is ill-defined and being set to 0.0 in labels with no predicted samples. Use `zero_division` parameter to control this behavior.\n",
      "  _warn_prf(average, modifier, msg_start, len(result))\n",
      "bootstrap:  64%|█████████████████▊          | 636/1000 [00:08<00:03, 104.94it/s]/home/matthias/.cache/pypoetry/virtualenvs/sociodemographic-softlabels-Sh-apy0E-py3.7/lib/python3.7/site-packages/sklearn/metrics/_classification.py:1318: UndefinedMetricWarning: Precision is ill-defined and being set to 0.0 in labels with no predicted samples. Use `zero_division` parameter to control this behavior.\n",
      "  _warn_prf(average, modifier, msg_start, len(result))\n",
      "/home/matthias/.cache/pypoetry/virtualenvs/sociodemographic-softlabels-Sh-apy0E-py3.7/lib/python3.7/site-packages/sklearn/metrics/_classification.py:1318: UndefinedMetricWarning: Precision is ill-defined and being set to 0.0 in labels with no predicted samples. Use `zero_division` parameter to control this behavior.\n",
      "  _warn_prf(average, modifier, msg_start, len(result))\n",
      "/home/matthias/.cache/pypoetry/virtualenvs/sociodemographic-softlabels-Sh-apy0E-py3.7/lib/python3.7/site-packages/sklearn/metrics/_classification.py:1318: UndefinedMetricWarning: Precision is ill-defined and being set to 0.0 in labels with no predicted samples. Use `zero_division` parameter to control this behavior.\n",
      "  _warn_prf(average, modifier, msg_start, len(result))\n",
      "/home/matthias/.cache/pypoetry/virtualenvs/sociodemographic-softlabels-Sh-apy0E-py3.7/lib/python3.7/site-packages/sklearn/metrics/_classification.py:1318: UndefinedMetricWarning: Precision is ill-defined and being set to 0.0 in labels with no predicted samples. Use `zero_division` parameter to control this behavior.\n",
      "  _warn_prf(average, modifier, msg_start, len(result))\n",
      "bootstrap:  66%|██████████████████▍         | 659/1000 [00:08<00:03, 105.98it/s]/home/matthias/.cache/pypoetry/virtualenvs/sociodemographic-softlabels-Sh-apy0E-py3.7/lib/python3.7/site-packages/sklearn/metrics/_classification.py:1318: UndefinedMetricWarning: Precision is ill-defined and being set to 0.0 in labels with no predicted samples. Use `zero_division` parameter to control this behavior.\n",
      "  _warn_prf(average, modifier, msg_start, len(result))\n",
      "/home/matthias/.cache/pypoetry/virtualenvs/sociodemographic-softlabels-Sh-apy0E-py3.7/lib/python3.7/site-packages/sklearn/metrics/_classification.py:1318: UndefinedMetricWarning: Precision is ill-defined and being set to 0.0 in labels with no predicted samples. Use `zero_division` parameter to control this behavior.\n",
      "  _warn_prf(average, modifier, msg_start, len(result))\n",
      "bootstrap:  67%|██████████████████▊         | 670/1000 [00:08<00:03, 103.06it/s]/home/matthias/.cache/pypoetry/virtualenvs/sociodemographic-softlabels-Sh-apy0E-py3.7/lib/python3.7/site-packages/sklearn/metrics/_classification.py:1318: UndefinedMetricWarning: Precision is ill-defined and being set to 0.0 in labels with no predicted samples. Use `zero_division` parameter to control this behavior.\n",
      "  _warn_prf(average, modifier, msg_start, len(result))\n",
      "/home/matthias/.cache/pypoetry/virtualenvs/sociodemographic-softlabels-Sh-apy0E-py3.7/lib/python3.7/site-packages/sklearn/metrics/_classification.py:1318: UndefinedMetricWarning: Precision is ill-defined and being set to 0.0 in labels with no predicted samples. Use `zero_division` parameter to control this behavior.\n",
      "  _warn_prf(average, modifier, msg_start, len(result))\n",
      "/home/matthias/.cache/pypoetry/virtualenvs/sociodemographic-softlabels-Sh-apy0E-py3.7/lib/python3.7/site-packages/sklearn/metrics/_classification.py:1318: UndefinedMetricWarning: Precision is ill-defined and being set to 0.0 in labels with no predicted samples. Use `zero_division` parameter to control this behavior.\n",
      "  _warn_prf(average, modifier, msg_start, len(result))\n",
      "bootstrap:  69%|███████████████████▍        | 693/1000 [00:08<00:02, 106.79it/s]/home/matthias/.cache/pypoetry/virtualenvs/sociodemographic-softlabels-Sh-apy0E-py3.7/lib/python3.7/site-packages/sklearn/metrics/_classification.py:1318: UndefinedMetricWarning: Precision is ill-defined and being set to 0.0 in labels with no predicted samples. Use `zero_division` parameter to control this behavior.\n",
      "  _warn_prf(average, modifier, msg_start, len(result))\n",
      "bootstrap:  70%|███████████████████▋        | 705/1000 [00:08<00:02, 110.43it/s]/home/matthias/.cache/pypoetry/virtualenvs/sociodemographic-softlabels-Sh-apy0E-py3.7/lib/python3.7/site-packages/sklearn/metrics/_classification.py:1318: UndefinedMetricWarning: Precision is ill-defined and being set to 0.0 in labels with no predicted samples. Use `zero_division` parameter to control this behavior.\n",
      "  _warn_prf(average, modifier, msg_start, len(result))\n",
      "bootstrap:  73%|████████████████████▍       | 730/1000 [00:09<00:02, 112.40it/s]/home/matthias/.cache/pypoetry/virtualenvs/sociodemographic-softlabels-Sh-apy0E-py3.7/lib/python3.7/site-packages/sklearn/metrics/_classification.py:1318: UndefinedMetricWarning: Precision is ill-defined and being set to 0.0 in labels with no predicted samples. Use `zero_division` parameter to control this behavior.\n",
      "  _warn_prf(average, modifier, msg_start, len(result))\n",
      "/home/matthias/.cache/pypoetry/virtualenvs/sociodemographic-softlabels-Sh-apy0E-py3.7/lib/python3.7/site-packages/sklearn/metrics/_classification.py:1318: UndefinedMetricWarning: Precision is ill-defined and being set to 0.0 in labels with no predicted samples. Use `zero_division` parameter to control this behavior.\n",
      "  _warn_prf(average, modifier, msg_start, len(result))\n",
      "bootstrap:  74%|████████████████████▊       | 742/1000 [00:09<00:02, 112.32it/s]/home/matthias/.cache/pypoetry/virtualenvs/sociodemographic-softlabels-Sh-apy0E-py3.7/lib/python3.7/site-packages/sklearn/metrics/_classification.py:1318: UndefinedMetricWarning: Precision is ill-defined and being set to 0.0 in labels with no predicted samples. Use `zero_division` parameter to control this behavior.\n",
      "  _warn_prf(average, modifier, msg_start, len(result))\n",
      "bootstrap:  75%|█████████████████████       | 754/1000 [00:09<00:02, 109.09it/s]/home/matthias/.cache/pypoetry/virtualenvs/sociodemographic-softlabels-Sh-apy0E-py3.7/lib/python3.7/site-packages/sklearn/metrics/_classification.py:1318: UndefinedMetricWarning: Precision is ill-defined and being set to 0.0 in labels with no predicted samples. Use `zero_division` parameter to control this behavior.\n",
      "  _warn_prf(average, modifier, msg_start, len(result))\n",
      "/home/matthias/.cache/pypoetry/virtualenvs/sociodemographic-softlabels-Sh-apy0E-py3.7/lib/python3.7/site-packages/sklearn/metrics/_classification.py:1318: UndefinedMetricWarning: Precision is ill-defined and being set to 0.0 in labels with no predicted samples. Use `zero_division` parameter to control this behavior.\n",
      "  _warn_prf(average, modifier, msg_start, len(result))\n",
      "/home/matthias/.cache/pypoetry/virtualenvs/sociodemographic-softlabels-Sh-apy0E-py3.7/lib/python3.7/site-packages/sklearn/metrics/_classification.py:1318: UndefinedMetricWarning: Precision is ill-defined and being set to 0.0 in labels with no predicted samples. Use `zero_division` parameter to control this behavior.\n",
      "  _warn_prf(average, modifier, msg_start, len(result))\n",
      "bootstrap:  76%|█████████████████████▍      | 765/1000 [00:09<00:02, 108.04it/s]/home/matthias/.cache/pypoetry/virtualenvs/sociodemographic-softlabels-Sh-apy0E-py3.7/lib/python3.7/site-packages/sklearn/metrics/_classification.py:1318: UndefinedMetricWarning: Precision is ill-defined and being set to 0.0 in labels with no predicted samples. Use `zero_division` parameter to control this behavior.\n",
      "  _warn_prf(average, modifier, msg_start, len(result))\n",
      "/home/matthias/.cache/pypoetry/virtualenvs/sociodemographic-softlabels-Sh-apy0E-py3.7/lib/python3.7/site-packages/sklearn/metrics/_classification.py:1318: UndefinedMetricWarning: Precision is ill-defined and being set to 0.0 in labels with no predicted samples. Use `zero_division` parameter to control this behavior.\n",
      "  _warn_prf(average, modifier, msg_start, len(result))\n",
      "/home/matthias/.cache/pypoetry/virtualenvs/sociodemographic-softlabels-Sh-apy0E-py3.7/lib/python3.7/site-packages/sklearn/metrics/_classification.py:1318: UndefinedMetricWarning: Precision is ill-defined and being set to 0.0 in labels with no predicted samples. Use `zero_division` parameter to control this behavior.\n",
      "  _warn_prf(average, modifier, msg_start, len(result))\n",
      "bootstrap:  78%|█████████████████████▋      | 776/1000 [00:09<00:02, 106.73it/s]/home/matthias/.cache/pypoetry/virtualenvs/sociodemographic-softlabels-Sh-apy0E-py3.7/lib/python3.7/site-packages/sklearn/metrics/_classification.py:1318: UndefinedMetricWarning: Precision is ill-defined and being set to 0.0 in labels with no predicted samples. Use `zero_division` parameter to control this behavior.\n",
      "  _warn_prf(average, modifier, msg_start, len(result))\n",
      "bootstrap:  79%|██████████████████████      | 787/1000 [00:09<00:02, 102.61it/s]/home/matthias/.cache/pypoetry/virtualenvs/sociodemographic-softlabels-Sh-apy0E-py3.7/lib/python3.7/site-packages/sklearn/metrics/_classification.py:1318: UndefinedMetricWarning: Precision is ill-defined and being set to 0.0 in labels with no predicted samples. Use `zero_division` parameter to control this behavior.\n",
      "  _warn_prf(average, modifier, msg_start, len(result))\n",
      "bootstrap:  80%|██████████████████████▎     | 798/1000 [00:09<00:02, 100.81it/s]/home/matthias/.cache/pypoetry/virtualenvs/sociodemographic-softlabels-Sh-apy0E-py3.7/lib/python3.7/site-packages/sklearn/metrics/_classification.py:1318: UndefinedMetricWarning: Precision is ill-defined and being set to 0.0 in labels with no predicted samples. Use `zero_division` parameter to control this behavior.\n",
      "  _warn_prf(average, modifier, msg_start, len(result))\n",
      "/home/matthias/.cache/pypoetry/virtualenvs/sociodemographic-softlabels-Sh-apy0E-py3.7/lib/python3.7/site-packages/sklearn/metrics/_classification.py:1318: UndefinedMetricWarning: Precision is ill-defined and being set to 0.0 in labels with no predicted samples. Use `zero_division` parameter to control this behavior.\n",
      "  _warn_prf(average, modifier, msg_start, len(result))\n",
      "bootstrap:  81%|██████████████████████▋     | 809/1000 [00:09<00:01, 103.02it/s]/home/matthias/.cache/pypoetry/virtualenvs/sociodemographic-softlabels-Sh-apy0E-py3.7/lib/python3.7/site-packages/sklearn/metrics/_classification.py:1318: UndefinedMetricWarning: Precision is ill-defined and being set to 0.0 in labels with no predicted samples. Use `zero_division` parameter to control this behavior.\n",
      "  _warn_prf(average, modifier, msg_start, len(result))\n",
      "/home/matthias/.cache/pypoetry/virtualenvs/sociodemographic-softlabels-Sh-apy0E-py3.7/lib/python3.7/site-packages/sklearn/metrics/_classification.py:1318: UndefinedMetricWarning: Precision is ill-defined and being set to 0.0 in labels with no predicted samples. Use `zero_division` parameter to control this behavior.\n",
      "  _warn_prf(average, modifier, msg_start, len(result))\n",
      "/home/matthias/.cache/pypoetry/virtualenvs/sociodemographic-softlabels-Sh-apy0E-py3.7/lib/python3.7/site-packages/sklearn/metrics/_classification.py:1318: UndefinedMetricWarning: Precision is ill-defined and being set to 0.0 in labels with no predicted samples. Use `zero_division` parameter to control this behavior.\n",
      "  _warn_prf(average, modifier, msg_start, len(result))\n",
      "bootstrap:  82%|██████████████████████▉     | 820/1000 [00:10<00:01, 103.82it/s]/home/matthias/.cache/pypoetry/virtualenvs/sociodemographic-softlabels-Sh-apy0E-py3.7/lib/python3.7/site-packages/sklearn/metrics/_classification.py:1318: UndefinedMetricWarning: Precision is ill-defined and being set to 0.0 in labels with no predicted samples. Use `zero_division` parameter to control this behavior.\n",
      "  _warn_prf(average, modifier, msg_start, len(result))\n",
      "/home/matthias/.cache/pypoetry/virtualenvs/sociodemographic-softlabels-Sh-apy0E-py3.7/lib/python3.7/site-packages/sklearn/metrics/_classification.py:1318: UndefinedMetricWarning: Precision is ill-defined and being set to 0.0 in labels with no predicted samples. Use `zero_division` parameter to control this behavior.\n",
      "  _warn_prf(average, modifier, msg_start, len(result))\n",
      "bootstrap:  83%|███████████████████████▎    | 831/1000 [00:10<00:01, 103.55it/s]/home/matthias/.cache/pypoetry/virtualenvs/sociodemographic-softlabels-Sh-apy0E-py3.7/lib/python3.7/site-packages/sklearn/metrics/_classification.py:1318: UndefinedMetricWarning: Precision is ill-defined and being set to 0.0 in labels with no predicted samples. Use `zero_division` parameter to control this behavior.\n",
      "  _warn_prf(average, modifier, msg_start, len(result))\n",
      "/home/matthias/.cache/pypoetry/virtualenvs/sociodemographic-softlabels-Sh-apy0E-py3.7/lib/python3.7/site-packages/sklearn/metrics/_classification.py:1318: UndefinedMetricWarning: Precision is ill-defined and being set to 0.0 in labels with no predicted samples. Use `zero_division` parameter to control this behavior.\n",
      "  _warn_prf(average, modifier, msg_start, len(result))\n",
      "/home/matthias/.cache/pypoetry/virtualenvs/sociodemographic-softlabels-Sh-apy0E-py3.7/lib/python3.7/site-packages/sklearn/metrics/_classification.py:1318: UndefinedMetricWarning: Precision is ill-defined and being set to 0.0 in labels with no predicted samples. Use `zero_division` parameter to control this behavior.\n",
      "  _warn_prf(average, modifier, msg_start, len(result))\n",
      "bootstrap:  86%|███████████████████████▉    | 856/1000 [00:10<00:01, 111.04it/s]/home/matthias/.cache/pypoetry/virtualenvs/sociodemographic-softlabels-Sh-apy0E-py3.7/lib/python3.7/site-packages/sklearn/metrics/_classification.py:1318: UndefinedMetricWarning: Precision is ill-defined and being set to 0.0 in labels with no predicted samples. Use `zero_division` parameter to control this behavior.\n",
      "  _warn_prf(average, modifier, msg_start, len(result))\n",
      "/home/matthias/.cache/pypoetry/virtualenvs/sociodemographic-softlabels-Sh-apy0E-py3.7/lib/python3.7/site-packages/sklearn/metrics/_classification.py:1318: UndefinedMetricWarning: Precision is ill-defined and being set to 0.0 in labels with no predicted samples. Use `zero_division` parameter to control this behavior.\n",
      "  _warn_prf(average, modifier, msg_start, len(result))\n",
      "bootstrap:  87%|████████████████████████▎   | 868/1000 [00:10<00:01, 113.44it/s]/home/matthias/.cache/pypoetry/virtualenvs/sociodemographic-softlabels-Sh-apy0E-py3.7/lib/python3.7/site-packages/sklearn/metrics/_classification.py:1318: UndefinedMetricWarning: Precision is ill-defined and being set to 0.0 in labels with no predicted samples. Use `zero_division` parameter to control this behavior.\n",
      "  _warn_prf(average, modifier, msg_start, len(result))\n",
      "/home/matthias/.cache/pypoetry/virtualenvs/sociodemographic-softlabels-Sh-apy0E-py3.7/lib/python3.7/site-packages/sklearn/metrics/_classification.py:1318: UndefinedMetricWarning: Precision is ill-defined and being set to 0.0 in labels with no predicted samples. Use `zero_division` parameter to control this behavior.\n",
      "  _warn_prf(average, modifier, msg_start, len(result))\n",
      "/home/matthias/.cache/pypoetry/virtualenvs/sociodemographic-softlabels-Sh-apy0E-py3.7/lib/python3.7/site-packages/sklearn/metrics/_classification.py:1318: UndefinedMetricWarning: Precision is ill-defined and being set to 0.0 in labels with no predicted samples. Use `zero_division` parameter to control this behavior.\n",
      "  _warn_prf(average, modifier, msg_start, len(result))\n",
      "bootstrap:  88%|████████████████████████▋   | 880/1000 [00:10<00:01, 107.25it/s]/home/matthias/.cache/pypoetry/virtualenvs/sociodemographic-softlabels-Sh-apy0E-py3.7/lib/python3.7/site-packages/sklearn/metrics/_classification.py:1318: UndefinedMetricWarning: Precision is ill-defined and being set to 0.0 in labels with no predicted samples. Use `zero_division` parameter to control this behavior.\n",
      "  _warn_prf(average, modifier, msg_start, len(result))\n",
      "bootstrap:  90%|█████████████████████████▎  | 904/1000 [00:10<00:00, 111.70it/s]/home/matthias/.cache/pypoetry/virtualenvs/sociodemographic-softlabels-Sh-apy0E-py3.7/lib/python3.7/site-packages/sklearn/metrics/_classification.py:1318: UndefinedMetricWarning: Precision is ill-defined and being set to 0.0 in labels with no predicted samples. Use `zero_division` parameter to control this behavior.\n",
      "  _warn_prf(average, modifier, msg_start, len(result))\n",
      "/home/matthias/.cache/pypoetry/virtualenvs/sociodemographic-softlabels-Sh-apy0E-py3.7/lib/python3.7/site-packages/sklearn/metrics/_classification.py:1318: UndefinedMetricWarning: Precision is ill-defined and being set to 0.0 in labels with no predicted samples. Use `zero_division` parameter to control this behavior.\n",
      "  _warn_prf(average, modifier, msg_start, len(result))\n",
      "bootstrap:  92%|█████████████████████████▋  | 916/1000 [00:10<00:00, 113.19it/s]/home/matthias/.cache/pypoetry/virtualenvs/sociodemographic-softlabels-Sh-apy0E-py3.7/lib/python3.7/site-packages/sklearn/metrics/_classification.py:1318: UndefinedMetricWarning: Precision is ill-defined and being set to 0.0 in labels with no predicted samples. Use `zero_division` parameter to control this behavior.\n",
      "  _warn_prf(average, modifier, msg_start, len(result))\n",
      "bootstrap:  93%|█████████████████████████▉  | 928/1000 [00:11<00:00, 113.99it/s]/home/matthias/.cache/pypoetry/virtualenvs/sociodemographic-softlabels-Sh-apy0E-py3.7/lib/python3.7/site-packages/sklearn/metrics/_classification.py:1318: UndefinedMetricWarning: Precision is ill-defined and being set to 0.0 in labels with no predicted samples. Use `zero_division` parameter to control this behavior.\n",
      "  _warn_prf(average, modifier, msg_start, len(result))\n",
      "/home/matthias/.cache/pypoetry/virtualenvs/sociodemographic-softlabels-Sh-apy0E-py3.7/lib/python3.7/site-packages/sklearn/metrics/_classification.py:1318: UndefinedMetricWarning: Precision is ill-defined and being set to 0.0 in labels with no predicted samples. Use `zero_division` parameter to control this behavior.\n",
      "  _warn_prf(average, modifier, msg_start, len(result))\n",
      "/home/matthias/.cache/pypoetry/virtualenvs/sociodemographic-softlabels-Sh-apy0E-py3.7/lib/python3.7/site-packages/sklearn/metrics/_classification.py:1318: UndefinedMetricWarning: Precision is ill-defined and being set to 0.0 in labels with no predicted samples. Use `zero_division` parameter to control this behavior.\n",
      "  _warn_prf(average, modifier, msg_start, len(result))\n",
      "bootstrap:  94%|██████████████████████████▎ | 940/1000 [00:11<00:00, 113.52it/s]/home/matthias/.cache/pypoetry/virtualenvs/sociodemographic-softlabels-Sh-apy0E-py3.7/lib/python3.7/site-packages/sklearn/metrics/_classification.py:1318: UndefinedMetricWarning: Precision is ill-defined and being set to 0.0 in labels with no predicted samples. Use `zero_division` parameter to control this behavior.\n",
      "  _warn_prf(average, modifier, msg_start, len(result))\n",
      "/home/matthias/.cache/pypoetry/virtualenvs/sociodemographic-softlabels-Sh-apy0E-py3.7/lib/python3.7/site-packages/sklearn/metrics/_classification.py:1318: UndefinedMetricWarning: Precision is ill-defined and being set to 0.0 in labels with no predicted samples. Use `zero_division` parameter to control this behavior.\n",
      "  _warn_prf(average, modifier, msg_start, len(result))\n",
      "/home/matthias/.cache/pypoetry/virtualenvs/sociodemographic-softlabels-Sh-apy0E-py3.7/lib/python3.7/site-packages/sklearn/metrics/_classification.py:1318: UndefinedMetricWarning: Precision is ill-defined and being set to 0.0 in labels with no predicted samples. Use `zero_division` parameter to control this behavior.\n",
      "  _warn_prf(average, modifier, msg_start, len(result))\n",
      "bootstrap:  95%|██████████████████████████▋ | 952/1000 [00:11<00:00, 112.15it/s]/home/matthias/.cache/pypoetry/virtualenvs/sociodemographic-softlabels-Sh-apy0E-py3.7/lib/python3.7/site-packages/sklearn/metrics/_classification.py:1318: UndefinedMetricWarning: Precision is ill-defined and being set to 0.0 in labels with no predicted samples. Use `zero_division` parameter to control this behavior.\n",
      "  _warn_prf(average, modifier, msg_start, len(result))\n",
      "/home/matthias/.cache/pypoetry/virtualenvs/sociodemographic-softlabels-Sh-apy0E-py3.7/lib/python3.7/site-packages/sklearn/metrics/_classification.py:1318: UndefinedMetricWarning: Precision is ill-defined and being set to 0.0 in labels with no predicted samples. Use `zero_division` parameter to control this behavior.\n",
      "  _warn_prf(average, modifier, msg_start, len(result))\n",
      "/home/matthias/.cache/pypoetry/virtualenvs/sociodemographic-softlabels-Sh-apy0E-py3.7/lib/python3.7/site-packages/sklearn/metrics/_classification.py:1318: UndefinedMetricWarning: Precision is ill-defined and being set to 0.0 in labels with no predicted samples. Use `zero_division` parameter to control this behavior.\n",
      "  _warn_prf(average, modifier, msg_start, len(result))\n",
      "bootstrap:  96%|██████████████████████████▉ | 964/1000 [00:11<00:00, 108.53it/s]/home/matthias/.cache/pypoetry/virtualenvs/sociodemographic-softlabels-Sh-apy0E-py3.7/lib/python3.7/site-packages/sklearn/metrics/_classification.py:1318: UndefinedMetricWarning: Precision is ill-defined and being set to 0.0 in labels with no predicted samples. Use `zero_division` parameter to control this behavior.\n",
      "  _warn_prf(average, modifier, msg_start, len(result))\n",
      "/home/matthias/.cache/pypoetry/virtualenvs/sociodemographic-softlabels-Sh-apy0E-py3.7/lib/python3.7/site-packages/sklearn/metrics/_classification.py:1318: UndefinedMetricWarning: Precision is ill-defined and being set to 0.0 in labels with no predicted samples. Use `zero_division` parameter to control this behavior.\n",
      "  _warn_prf(average, modifier, msg_start, len(result))\n",
      "bootstrap:  98%|███████████████████████████▎| 975/1000 [00:11<00:00, 105.39it/s]/home/matthias/.cache/pypoetry/virtualenvs/sociodemographic-softlabels-Sh-apy0E-py3.7/lib/python3.7/site-packages/sklearn/metrics/_classification.py:1318: UndefinedMetricWarning: Precision is ill-defined and being set to 0.0 in labels with no predicted samples. Use `zero_division` parameter to control this behavior.\n",
      "  _warn_prf(average, modifier, msg_start, len(result))\n",
      "/home/matthias/.cache/pypoetry/virtualenvs/sociodemographic-softlabels-Sh-apy0E-py3.7/lib/python3.7/site-packages/sklearn/metrics/_classification.py:1318: UndefinedMetricWarning: Precision is ill-defined and being set to 0.0 in labels with no predicted samples. Use `zero_division` parameter to control this behavior.\n",
      "  _warn_prf(average, modifier, msg_start, len(result))\n",
      "bootstrap:  99%|███████████████████████████▌| 986/1000 [00:11<00:00, 104.99it/s]/home/matthias/.cache/pypoetry/virtualenvs/sociodemographic-softlabels-Sh-apy0E-py3.7/lib/python3.7/site-packages/sklearn/metrics/_classification.py:1318: UndefinedMetricWarning: Precision is ill-defined and being set to 0.0 in labels with no predicted samples. Use `zero_division` parameter to control this behavior.\n",
      "  _warn_prf(average, modifier, msg_start, len(result))\n",
      "/home/matthias/.cache/pypoetry/virtualenvs/sociodemographic-softlabels-Sh-apy0E-py3.7/lib/python3.7/site-packages/sklearn/metrics/_classification.py:1318: UndefinedMetricWarning: Precision is ill-defined and being set to 0.0 in labels with no predicted samples. Use `zero_division` parameter to control this behavior.\n",
      "  _warn_prf(average, modifier, msg_start, len(result))\n",
      "bootstrap: 100%|████████████████████████████| 1000/1000 [00:11<00:00, 85.12it/s]\n"
     ]
    },
    {
     "name": "stdout",
     "output_type": "stream",
     "text": [
      "\n",
      "count sample diff f1   is twice tot diff f1....... 678  / 1000    p < 0.678  \n",
      "count sample diff prec is twice tot diff prec..... 299  / 1000    p < 0.299  \n",
      "count sample diff rec  is twice tot diff rec ..... 601  / 1000    p < 0.601  \n",
      "count sample diff acc  is twice tot diff acc...... 97   / 1000    p < 0.097  \n",
      "\n",
      "\n",
      "Seed: 2803636207 - Split: 3 - gender - Group: Male\n",
      "data shape:  (11975, 1)\n",
      "sample size: 5987\n"
     ]
    },
    {
     "name": "stderr",
     "output_type": "stream",
     "text": [
      "bootstrap: 100%|████████████████████████████| 1000/1000 [00:21<00:00, 47.24it/s]\n"
     ]
    },
    {
     "name": "stdout",
     "output_type": "stream",
     "text": [
      "\n",
      "count sample diff f1   is twice tot diff f1....... 582  / 1000    p < 0.582  \n",
      "count sample diff prec is twice tot diff prec..... 553  / 1000    p < 0.553  \n",
      "count sample diff rec  is twice tot diff rec ..... 581  / 1000    p < 0.581  \n",
      "count sample diff acc  is twice tot diff acc...... 533  / 1000    p < 0.533  \n",
      "\n",
      "\n",
      "Seed: 2803636207 - Split: 3 - gender - Group: Female\n",
      "data shape:  (13515, 1)\n",
      "sample size: 6757\n"
     ]
    },
    {
     "name": "stderr",
     "output_type": "stream",
     "text": [
      "bootstrap: 100%|████████████████████████████| 1000/1000 [00:26<00:00, 38.36it/s]\n"
     ]
    },
    {
     "name": "stdout",
     "output_type": "stream",
     "text": [
      "\n",
      "count sample diff f1   is twice tot diff f1....... 132  / 1000    p < 0.132  \n",
      "count sample diff prec is twice tot diff prec..... 193  / 1000    p < 0.193  \n",
      "count sample diff rec  is twice tot diff rec ..... 80   / 1000    p < 0.08   \n",
      "count sample diff acc  is twice tot diff acc...... 398  / 1000    p < 0.398  \n",
      "\n",
      "\n",
      "Seed: 2803636207 - Split: 3 - gender - Group: Nonbinary\n",
      "data shape:  (104, 1)\n",
      "sample size: 52\n"
     ]
    },
    {
     "name": "stderr",
     "output_type": "stream",
     "text": [
      "bootstrap:   0%|                                       | 0/1000 [00:00<?, ?it/s]/home/matthias/.cache/pypoetry/virtualenvs/sociodemographic-softlabels-Sh-apy0E-py3.7/lib/python3.7/site-packages/sklearn/metrics/_classification.py:1318: UndefinedMetricWarning: Precision is ill-defined and being set to 0.0 in labels with no predicted samples. Use `zero_division` parameter to control this behavior.\n",
      "  _warn_prf(average, modifier, msg_start, len(result))\n",
      "/home/matthias/.cache/pypoetry/virtualenvs/sociodemographic-softlabels-Sh-apy0E-py3.7/lib/python3.7/site-packages/sklearn/metrics/_classification.py:1318: UndefinedMetricWarning: Precision is ill-defined and being set to 0.0 in labels with no predicted samples. Use `zero_division` parameter to control this behavior.\n",
      "  _warn_prf(average, modifier, msg_start, len(result))\n",
      "/home/matthias/.cache/pypoetry/virtualenvs/sociodemographic-softlabels-Sh-apy0E-py3.7/lib/python3.7/site-packages/sklearn/metrics/_classification.py:1318: UndefinedMetricWarning: Precision is ill-defined and being set to 0.0 in labels with no predicted samples. Use `zero_division` parameter to control this behavior.\n",
      "  _warn_prf(average, modifier, msg_start, len(result))\n",
      "/home/matthias/.cache/pypoetry/virtualenvs/sociodemographic-softlabels-Sh-apy0E-py3.7/lib/python3.7/site-packages/sklearn/metrics/_classification.py:1318: UndefinedMetricWarning: Precision is ill-defined and being set to 0.0 in labels with no predicted samples. Use `zero_division` parameter to control this behavior.\n",
      "  _warn_prf(average, modifier, msg_start, len(result))\n",
      "bootstrap:   1%|▎                            | 11/1000 [00:00<00:09, 104.78it/s]/home/matthias/.cache/pypoetry/virtualenvs/sociodemographic-softlabels-Sh-apy0E-py3.7/lib/python3.7/site-packages/sklearn/metrics/_classification.py:1318: UndefinedMetricWarning: Precision is ill-defined and being set to 0.0 in labels with no predicted samples. Use `zero_division` parameter to control this behavior.\n",
      "  _warn_prf(average, modifier, msg_start, len(result))\n",
      "/home/matthias/.cache/pypoetry/virtualenvs/sociodemographic-softlabels-Sh-apy0E-py3.7/lib/python3.7/site-packages/sklearn/metrics/_classification.py:1318: UndefinedMetricWarning: Precision is ill-defined and being set to 0.0 in labels with no predicted samples. Use `zero_division` parameter to control this behavior.\n",
      "  _warn_prf(average, modifier, msg_start, len(result))\n",
      "bootstrap:   2%|▋                            | 22/1000 [00:00<00:09, 103.73it/s]/home/matthias/.cache/pypoetry/virtualenvs/sociodemographic-softlabels-Sh-apy0E-py3.7/lib/python3.7/site-packages/sklearn/metrics/_classification.py:1318: UndefinedMetricWarning: Precision is ill-defined and being set to 0.0 in labels with no predicted samples. Use `zero_division` parameter to control this behavior.\n",
      "  _warn_prf(average, modifier, msg_start, len(result))\n",
      "/home/matthias/.cache/pypoetry/virtualenvs/sociodemographic-softlabels-Sh-apy0E-py3.7/lib/python3.7/site-packages/sklearn/metrics/_classification.py:1318: UndefinedMetricWarning: Precision is ill-defined and being set to 0.0 in labels with no predicted samples. Use `zero_division` parameter to control this behavior.\n",
      "  _warn_prf(average, modifier, msg_start, len(result))\n",
      "/home/matthias/.cache/pypoetry/virtualenvs/sociodemographic-softlabels-Sh-apy0E-py3.7/lib/python3.7/site-packages/sklearn/metrics/_classification.py:1318: UndefinedMetricWarning: Precision is ill-defined and being set to 0.0 in labels with no predicted samples. Use `zero_division` parameter to control this behavior.\n",
      "  _warn_prf(average, modifier, msg_start, len(result))\n",
      "/home/matthias/.cache/pypoetry/virtualenvs/sociodemographic-softlabels-Sh-apy0E-py3.7/lib/python3.7/site-packages/sklearn/metrics/_classification.py:1318: UndefinedMetricWarning: Precision is ill-defined and being set to 0.0 in labels with no predicted samples. Use `zero_division` parameter to control this behavior.\n",
      "  _warn_prf(average, modifier, msg_start, len(result))\n",
      "/home/matthias/.cache/pypoetry/virtualenvs/sociodemographic-softlabels-Sh-apy0E-py3.7/lib/python3.7/site-packages/sklearn/metrics/_classification.py:1318: UndefinedMetricWarning: Precision is ill-defined and being set to 0.0 in labels with no predicted samples. Use `zero_division` parameter to control this behavior.\n",
      "  _warn_prf(average, modifier, msg_start, len(result))\n",
      "/home/matthias/.cache/pypoetry/virtualenvs/sociodemographic-softlabels-Sh-apy0E-py3.7/lib/python3.7/site-packages/sklearn/metrics/_classification.py:1318: UndefinedMetricWarning: Precision is ill-defined and being set to 0.0 in labels with no predicted samples. Use `zero_division` parameter to control this behavior.\n",
      "  _warn_prf(average, modifier, msg_start, len(result))\n",
      "/home/matthias/.cache/pypoetry/virtualenvs/sociodemographic-softlabels-Sh-apy0E-py3.7/lib/python3.7/site-packages/sklearn/metrics/_classification.py:1318: UndefinedMetricWarning: Precision is ill-defined and being set to 0.0 in labels with no predicted samples. Use `zero_division` parameter to control this behavior.\n",
      "  _warn_prf(average, modifier, msg_start, len(result))\n",
      "/home/matthias/.cache/pypoetry/virtualenvs/sociodemographic-softlabels-Sh-apy0E-py3.7/lib/python3.7/site-packages/sklearn/metrics/_classification.py:1318: UndefinedMetricWarning: Precision is ill-defined and being set to 0.0 in labels with no predicted samples. Use `zero_division` parameter to control this behavior.\n",
      "  _warn_prf(average, modifier, msg_start, len(result))\n",
      "bootstrap:   3%|▉                            | 33/1000 [00:00<00:09, 105.70it/s]/home/matthias/.cache/pypoetry/virtualenvs/sociodemographic-softlabels-Sh-apy0E-py3.7/lib/python3.7/site-packages/sklearn/metrics/_classification.py:1318: UndefinedMetricWarning: Precision is ill-defined and being set to 0.0 in labels with no predicted samples. Use `zero_division` parameter to control this behavior.\n",
      "  _warn_prf(average, modifier, msg_start, len(result))\n",
      "/home/matthias/.cache/pypoetry/virtualenvs/sociodemographic-softlabels-Sh-apy0E-py3.7/lib/python3.7/site-packages/sklearn/metrics/_classification.py:1318: UndefinedMetricWarning: Precision is ill-defined and being set to 0.0 in labels with no predicted samples. Use `zero_division` parameter to control this behavior.\n",
      "  _warn_prf(average, modifier, msg_start, len(result))\n",
      "/home/matthias/.cache/pypoetry/virtualenvs/sociodemographic-softlabels-Sh-apy0E-py3.7/lib/python3.7/site-packages/sklearn/metrics/_classification.py:1318: UndefinedMetricWarning: Precision is ill-defined and being set to 0.0 in labels with no predicted samples. Use `zero_division` parameter to control this behavior.\n",
      "  _warn_prf(average, modifier, msg_start, len(result))\n",
      "/home/matthias/.cache/pypoetry/virtualenvs/sociodemographic-softlabels-Sh-apy0E-py3.7/lib/python3.7/site-packages/sklearn/metrics/_classification.py:1318: UndefinedMetricWarning: Precision is ill-defined and being set to 0.0 in labels with no predicted samples. Use `zero_division` parameter to control this behavior.\n",
      "  _warn_prf(average, modifier, msg_start, len(result))\n",
      "/home/matthias/.cache/pypoetry/virtualenvs/sociodemographic-softlabels-Sh-apy0E-py3.7/lib/python3.7/site-packages/sklearn/metrics/_classification.py:1318: UndefinedMetricWarning: Precision is ill-defined and being set to 0.0 in labels with no predicted samples. Use `zero_division` parameter to control this behavior.\n",
      "  _warn_prf(average, modifier, msg_start, len(result))\n",
      "/home/matthias/.cache/pypoetry/virtualenvs/sociodemographic-softlabels-Sh-apy0E-py3.7/lib/python3.7/site-packages/sklearn/metrics/_classification.py:1318: UndefinedMetricWarning: Precision is ill-defined and being set to 0.0 in labels with no predicted samples. Use `zero_division` parameter to control this behavior.\n",
      "  _warn_prf(average, modifier, msg_start, len(result))\n",
      "/home/matthias/.cache/pypoetry/virtualenvs/sociodemographic-softlabels-Sh-apy0E-py3.7/lib/python3.7/site-packages/sklearn/metrics/_classification.py:1318: UndefinedMetricWarning: Precision is ill-defined and being set to 0.0 in labels with no predicted samples. Use `zero_division` parameter to control this behavior.\n",
      "  _warn_prf(average, modifier, msg_start, len(result))\n",
      "bootstrap:   4%|█▎                           | 44/1000 [00:00<00:09, 103.16it/s]/home/matthias/.cache/pypoetry/virtualenvs/sociodemographic-softlabels-Sh-apy0E-py3.7/lib/python3.7/site-packages/sklearn/metrics/_classification.py:1318: UndefinedMetricWarning: Precision is ill-defined and being set to 0.0 in labels with no predicted samples. Use `zero_division` parameter to control this behavior.\n",
      "  _warn_prf(average, modifier, msg_start, len(result))\n",
      "/home/matthias/.cache/pypoetry/virtualenvs/sociodemographic-softlabels-Sh-apy0E-py3.7/lib/python3.7/site-packages/sklearn/metrics/_classification.py:1318: UndefinedMetricWarning: Precision is ill-defined and being set to 0.0 in labels with no predicted samples. Use `zero_division` parameter to control this behavior.\n",
      "  _warn_prf(average, modifier, msg_start, len(result))\n",
      "/home/matthias/.cache/pypoetry/virtualenvs/sociodemographic-softlabels-Sh-apy0E-py3.7/lib/python3.7/site-packages/sklearn/metrics/_classification.py:1318: UndefinedMetricWarning: Precision is ill-defined and being set to 0.0 in labels with no predicted samples. Use `zero_division` parameter to control this behavior.\n",
      "  _warn_prf(average, modifier, msg_start, len(result))\n",
      "/home/matthias/.cache/pypoetry/virtualenvs/sociodemographic-softlabels-Sh-apy0E-py3.7/lib/python3.7/site-packages/sklearn/metrics/_classification.py:1318: UndefinedMetricWarning: Precision is ill-defined and being set to 0.0 in labels with no predicted samples. Use `zero_division` parameter to control this behavior.\n",
      "  _warn_prf(average, modifier, msg_start, len(result))\n",
      "/home/matthias/.cache/pypoetry/virtualenvs/sociodemographic-softlabels-Sh-apy0E-py3.7/lib/python3.7/site-packages/sklearn/metrics/_classification.py:1318: UndefinedMetricWarning: Precision is ill-defined and being set to 0.0 in labels with no predicted samples. Use `zero_division` parameter to control this behavior.\n",
      "  _warn_prf(average, modifier, msg_start, len(result))\n",
      "/home/matthias/.cache/pypoetry/virtualenvs/sociodemographic-softlabels-Sh-apy0E-py3.7/lib/python3.7/site-packages/sklearn/metrics/_classification.py:1318: UndefinedMetricWarning: Precision is ill-defined and being set to 0.0 in labels with no predicted samples. Use `zero_division` parameter to control this behavior.\n",
      "  _warn_prf(average, modifier, msg_start, len(result))\n",
      "/home/matthias/.cache/pypoetry/virtualenvs/sociodemographic-softlabels-Sh-apy0E-py3.7/lib/python3.7/site-packages/sklearn/metrics/_classification.py:1318: UndefinedMetricWarning: Precision is ill-defined and being set to 0.0 in labels with no predicted samples. Use `zero_division` parameter to control this behavior.\n",
      "  _warn_prf(average, modifier, msg_start, len(result))\n",
      "/home/matthias/.cache/pypoetry/virtualenvs/sociodemographic-softlabels-Sh-apy0E-py3.7/lib/python3.7/site-packages/sklearn/metrics/_classification.py:1318: UndefinedMetricWarning: Precision is ill-defined and being set to 0.0 in labels with no predicted samples. Use `zero_division` parameter to control this behavior.\n",
      "  _warn_prf(average, modifier, msg_start, len(result))\n",
      "bootstrap:   6%|█▋                            | 55/1000 [00:00<00:09, 98.79it/s]/home/matthias/.cache/pypoetry/virtualenvs/sociodemographic-softlabels-Sh-apy0E-py3.7/lib/python3.7/site-packages/sklearn/metrics/_classification.py:1318: UndefinedMetricWarning: Precision is ill-defined and being set to 0.0 in labels with no predicted samples. Use `zero_division` parameter to control this behavior.\n",
      "  _warn_prf(average, modifier, msg_start, len(result))\n",
      "/home/matthias/.cache/pypoetry/virtualenvs/sociodemographic-softlabels-Sh-apy0E-py3.7/lib/python3.7/site-packages/sklearn/metrics/_classification.py:1318: UndefinedMetricWarning: Precision is ill-defined and being set to 0.0 in labels with no predicted samples. Use `zero_division` parameter to control this behavior.\n",
      "  _warn_prf(average, modifier, msg_start, len(result))\n",
      "/home/matthias/.cache/pypoetry/virtualenvs/sociodemographic-softlabels-Sh-apy0E-py3.7/lib/python3.7/site-packages/sklearn/metrics/_classification.py:1318: UndefinedMetricWarning: Precision is ill-defined and being set to 0.0 in labels with no predicted samples. Use `zero_division` parameter to control this behavior.\n",
      "  _warn_prf(average, modifier, msg_start, len(result))\n",
      "/home/matthias/.cache/pypoetry/virtualenvs/sociodemographic-softlabels-Sh-apy0E-py3.7/lib/python3.7/site-packages/sklearn/metrics/_classification.py:1318: UndefinedMetricWarning: Precision is ill-defined and being set to 0.0 in labels with no predicted samples. Use `zero_division` parameter to control this behavior.\n",
      "  _warn_prf(average, modifier, msg_start, len(result))\n",
      "/home/matthias/.cache/pypoetry/virtualenvs/sociodemographic-softlabels-Sh-apy0E-py3.7/lib/python3.7/site-packages/sklearn/metrics/_classification.py:1318: UndefinedMetricWarning: Precision is ill-defined and being set to 0.0 in labels with no predicted samples. Use `zero_division` parameter to control this behavior.\n",
      "  _warn_prf(average, modifier, msg_start, len(result))\n",
      "bootstrap:   7%|█▉                            | 66/1000 [00:00<00:09, 98.72it/s]/home/matthias/.cache/pypoetry/virtualenvs/sociodemographic-softlabels-Sh-apy0E-py3.7/lib/python3.7/site-packages/sklearn/metrics/_classification.py:1318: UndefinedMetricWarning: Precision is ill-defined and being set to 0.0 in labels with no predicted samples. Use `zero_division` parameter to control this behavior.\n",
      "  _warn_prf(average, modifier, msg_start, len(result))\n",
      "/home/matthias/.cache/pypoetry/virtualenvs/sociodemographic-softlabels-Sh-apy0E-py3.7/lib/python3.7/site-packages/sklearn/metrics/_classification.py:1318: UndefinedMetricWarning: Precision is ill-defined and being set to 0.0 in labels with no predicted samples. Use `zero_division` parameter to control this behavior.\n",
      "  _warn_prf(average, modifier, msg_start, len(result))\n",
      "/home/matthias/.cache/pypoetry/virtualenvs/sociodemographic-softlabels-Sh-apy0E-py3.7/lib/python3.7/site-packages/sklearn/metrics/_classification.py:1318: UndefinedMetricWarning: Precision is ill-defined and being set to 0.0 in labels with no predicted samples. Use `zero_division` parameter to control this behavior.\n",
      "  _warn_prf(average, modifier, msg_start, len(result))\n",
      "/home/matthias/.cache/pypoetry/virtualenvs/sociodemographic-softlabels-Sh-apy0E-py3.7/lib/python3.7/site-packages/sklearn/metrics/_classification.py:1318: UndefinedMetricWarning: Precision is ill-defined and being set to 0.0 in labels with no predicted samples. Use `zero_division` parameter to control this behavior.\n",
      "  _warn_prf(average, modifier, msg_start, len(result))\n",
      "/home/matthias/.cache/pypoetry/virtualenvs/sociodemographic-softlabels-Sh-apy0E-py3.7/lib/python3.7/site-packages/sklearn/metrics/_classification.py:1318: UndefinedMetricWarning: Precision is ill-defined and being set to 0.0 in labels with no predicted samples. Use `zero_division` parameter to control this behavior.\n",
      "  _warn_prf(average, modifier, msg_start, len(result))\n",
      "/home/matthias/.cache/pypoetry/virtualenvs/sociodemographic-softlabels-Sh-apy0E-py3.7/lib/python3.7/site-packages/sklearn/metrics/_classification.py:1318: UndefinedMetricWarning: Precision is ill-defined and being set to 0.0 in labels with no predicted samples. Use `zero_division` parameter to control this behavior.\n",
      "  _warn_prf(average, modifier, msg_start, len(result))\n",
      "bootstrap:   8%|██▏                          | 77/1000 [00:00<00:09, 100.78it/s]/home/matthias/.cache/pypoetry/virtualenvs/sociodemographic-softlabels-Sh-apy0E-py3.7/lib/python3.7/site-packages/sklearn/metrics/_classification.py:1318: UndefinedMetricWarning: Precision is ill-defined and being set to 0.0 in labels with no predicted samples. Use `zero_division` parameter to control this behavior.\n",
      "  _warn_prf(average, modifier, msg_start, len(result))\n",
      "/home/matthias/.cache/pypoetry/virtualenvs/sociodemographic-softlabels-Sh-apy0E-py3.7/lib/python3.7/site-packages/sklearn/metrics/_classification.py:1318: UndefinedMetricWarning: Precision is ill-defined and being set to 0.0 in labels with no predicted samples. Use `zero_division` parameter to control this behavior.\n",
      "  _warn_prf(average, modifier, msg_start, len(result))\n",
      "/home/matthias/.cache/pypoetry/virtualenvs/sociodemographic-softlabels-Sh-apy0E-py3.7/lib/python3.7/site-packages/sklearn/metrics/_classification.py:1318: UndefinedMetricWarning: Precision is ill-defined and being set to 0.0 in labels with no predicted samples. Use `zero_division` parameter to control this behavior.\n",
      "  _warn_prf(average, modifier, msg_start, len(result))\n",
      "/home/matthias/.cache/pypoetry/virtualenvs/sociodemographic-softlabels-Sh-apy0E-py3.7/lib/python3.7/site-packages/sklearn/metrics/_classification.py:1318: UndefinedMetricWarning: Precision is ill-defined and being set to 0.0 in labels with no predicted samples. Use `zero_division` parameter to control this behavior.\n",
      "  _warn_prf(average, modifier, msg_start, len(result))\n",
      "/home/matthias/.cache/pypoetry/virtualenvs/sociodemographic-softlabels-Sh-apy0E-py3.7/lib/python3.7/site-packages/sklearn/metrics/_classification.py:1318: UndefinedMetricWarning: Precision is ill-defined and being set to 0.0 in labels with no predicted samples. Use `zero_division` parameter to control this behavior.\n",
      "  _warn_prf(average, modifier, msg_start, len(result))\n",
      "/home/matthias/.cache/pypoetry/virtualenvs/sociodemographic-softlabels-Sh-apy0E-py3.7/lib/python3.7/site-packages/sklearn/metrics/_classification.py:1318: UndefinedMetricWarning: Precision is ill-defined and being set to 0.0 in labels with no predicted samples. Use `zero_division` parameter to control this behavior.\n",
      "  _warn_prf(average, modifier, msg_start, len(result))\n",
      "bootstrap:   9%|██▋                           | 88/1000 [00:00<00:09, 96.95it/s]/home/matthias/.cache/pypoetry/virtualenvs/sociodemographic-softlabels-Sh-apy0E-py3.7/lib/python3.7/site-packages/sklearn/metrics/_classification.py:1318: UndefinedMetricWarning: Precision is ill-defined and being set to 0.0 in labels with no predicted samples. Use `zero_division` parameter to control this behavior.\n",
      "  _warn_prf(average, modifier, msg_start, len(result))\n",
      "/home/matthias/.cache/pypoetry/virtualenvs/sociodemographic-softlabels-Sh-apy0E-py3.7/lib/python3.7/site-packages/sklearn/metrics/_classification.py:1318: UndefinedMetricWarning: Precision is ill-defined and being set to 0.0 in labels with no predicted samples. Use `zero_division` parameter to control this behavior.\n",
      "  _warn_prf(average, modifier, msg_start, len(result))\n",
      "/home/matthias/.cache/pypoetry/virtualenvs/sociodemographic-softlabels-Sh-apy0E-py3.7/lib/python3.7/site-packages/sklearn/metrics/_classification.py:1318: UndefinedMetricWarning: Precision is ill-defined and being set to 0.0 in labels with no predicted samples. Use `zero_division` parameter to control this behavior.\n",
      "  _warn_prf(average, modifier, msg_start, len(result))\n",
      "/home/matthias/.cache/pypoetry/virtualenvs/sociodemographic-softlabels-Sh-apy0E-py3.7/lib/python3.7/site-packages/sklearn/metrics/_classification.py:1318: UndefinedMetricWarning: Precision is ill-defined and being set to 0.0 in labels with no predicted samples. Use `zero_division` parameter to control this behavior.\n",
      "  _warn_prf(average, modifier, msg_start, len(result))\n",
      "bootstrap:  10%|██▉                           | 98/1000 [00:01<00:10, 89.94it/s]/home/matthias/.cache/pypoetry/virtualenvs/sociodemographic-softlabels-Sh-apy0E-py3.7/lib/python3.7/site-packages/sklearn/metrics/_classification.py:1318: UndefinedMetricWarning: Precision is ill-defined and being set to 0.0 in labels with no predicted samples. Use `zero_division` parameter to control this behavior.\n",
      "  _warn_prf(average, modifier, msg_start, len(result))\n",
      "/home/matthias/.cache/pypoetry/virtualenvs/sociodemographic-softlabels-Sh-apy0E-py3.7/lib/python3.7/site-packages/sklearn/metrics/_classification.py:1318: UndefinedMetricWarning: Precision is ill-defined and being set to 0.0 in labels with no predicted samples. Use `zero_division` parameter to control this behavior.\n",
      "  _warn_prf(average, modifier, msg_start, len(result))\n",
      "/home/matthias/.cache/pypoetry/virtualenvs/sociodemographic-softlabels-Sh-apy0E-py3.7/lib/python3.7/site-packages/sklearn/metrics/_classification.py:1318: UndefinedMetricWarning: Precision is ill-defined and being set to 0.0 in labels with no predicted samples. Use `zero_division` parameter to control this behavior.\n",
      "  _warn_prf(average, modifier, msg_start, len(result))\n",
      "/home/matthias/.cache/pypoetry/virtualenvs/sociodemographic-softlabels-Sh-apy0E-py3.7/lib/python3.7/site-packages/sklearn/metrics/_classification.py:1318: UndefinedMetricWarning: Precision is ill-defined and being set to 0.0 in labels with no predicted samples. Use `zero_division` parameter to control this behavior.\n",
      "  _warn_prf(average, modifier, msg_start, len(result))\n",
      "/home/matthias/.cache/pypoetry/virtualenvs/sociodemographic-softlabels-Sh-apy0E-py3.7/lib/python3.7/site-packages/sklearn/metrics/_classification.py:1318: UndefinedMetricWarning: Precision is ill-defined and being set to 0.0 in labels with no predicted samples. Use `zero_division` parameter to control this behavior.\n",
      "  _warn_prf(average, modifier, msg_start, len(result))\n",
      "/home/matthias/.cache/pypoetry/virtualenvs/sociodemographic-softlabels-Sh-apy0E-py3.7/lib/python3.7/site-packages/sklearn/metrics/_classification.py:1318: UndefinedMetricWarning: Precision is ill-defined and being set to 0.0 in labels with no predicted samples. Use `zero_division` parameter to control this behavior.\n",
      "  _warn_prf(average, modifier, msg_start, len(result))\n",
      "bootstrap:  11%|███▏                         | 108/1000 [00:01<00:10, 87.98it/s]/home/matthias/.cache/pypoetry/virtualenvs/sociodemographic-softlabels-Sh-apy0E-py3.7/lib/python3.7/site-packages/sklearn/metrics/_classification.py:1318: UndefinedMetricWarning: Precision is ill-defined and being set to 0.0 in labels with no predicted samples. Use `zero_division` parameter to control this behavior.\n",
      "  _warn_prf(average, modifier, msg_start, len(result))\n",
      "/home/matthias/.cache/pypoetry/virtualenvs/sociodemographic-softlabels-Sh-apy0E-py3.7/lib/python3.7/site-packages/sklearn/metrics/_classification.py:1318: UndefinedMetricWarning: Precision is ill-defined and being set to 0.0 in labels with no predicted samples. Use `zero_division` parameter to control this behavior.\n",
      "  _warn_prf(average, modifier, msg_start, len(result))\n",
      "/home/matthias/.cache/pypoetry/virtualenvs/sociodemographic-softlabels-Sh-apy0E-py3.7/lib/python3.7/site-packages/sklearn/metrics/_classification.py:1318: UndefinedMetricWarning: Precision is ill-defined and being set to 0.0 in labels with no predicted samples. Use `zero_division` parameter to control this behavior.\n",
      "  _warn_prf(average, modifier, msg_start, len(result))\n",
      "/home/matthias/.cache/pypoetry/virtualenvs/sociodemographic-softlabels-Sh-apy0E-py3.7/lib/python3.7/site-packages/sklearn/metrics/_classification.py:1318: UndefinedMetricWarning: Precision is ill-defined and being set to 0.0 in labels with no predicted samples. Use `zero_division` parameter to control this behavior.\n",
      "  _warn_prf(average, modifier, msg_start, len(result))\n",
      "/home/matthias/.cache/pypoetry/virtualenvs/sociodemographic-softlabels-Sh-apy0E-py3.7/lib/python3.7/site-packages/sklearn/metrics/_classification.py:1318: UndefinedMetricWarning: Precision is ill-defined and being set to 0.0 in labels with no predicted samples. Use `zero_division` parameter to control this behavior.\n",
      "  _warn_prf(average, modifier, msg_start, len(result))\n",
      "/home/matthias/.cache/pypoetry/virtualenvs/sociodemographic-softlabels-Sh-apy0E-py3.7/lib/python3.7/site-packages/sklearn/metrics/_classification.py:1318: UndefinedMetricWarning: Precision is ill-defined and being set to 0.0 in labels with no predicted samples. Use `zero_division` parameter to control this behavior.\n",
      "  _warn_prf(average, modifier, msg_start, len(result))\n",
      "bootstrap:  12%|███▍                         | 118/1000 [00:01<00:09, 91.08it/s]/home/matthias/.cache/pypoetry/virtualenvs/sociodemographic-softlabels-Sh-apy0E-py3.7/lib/python3.7/site-packages/sklearn/metrics/_classification.py:1318: UndefinedMetricWarning: Precision is ill-defined and being set to 0.0 in labels with no predicted samples. Use `zero_division` parameter to control this behavior.\n",
      "  _warn_prf(average, modifier, msg_start, len(result))\n",
      "/home/matthias/.cache/pypoetry/virtualenvs/sociodemographic-softlabels-Sh-apy0E-py3.7/lib/python3.7/site-packages/sklearn/metrics/_classification.py:1318: UndefinedMetricWarning: Precision is ill-defined and being set to 0.0 in labels with no predicted samples. Use `zero_division` parameter to control this behavior.\n",
      "  _warn_prf(average, modifier, msg_start, len(result))\n",
      "/home/matthias/.cache/pypoetry/virtualenvs/sociodemographic-softlabels-Sh-apy0E-py3.7/lib/python3.7/site-packages/sklearn/metrics/_classification.py:1318: UndefinedMetricWarning: Precision is ill-defined and being set to 0.0 in labels with no predicted samples. Use `zero_division` parameter to control this behavior.\n",
      "  _warn_prf(average, modifier, msg_start, len(result))\n",
      "/home/matthias/.cache/pypoetry/virtualenvs/sociodemographic-softlabels-Sh-apy0E-py3.7/lib/python3.7/site-packages/sklearn/metrics/_classification.py:1318: UndefinedMetricWarning: Precision is ill-defined and being set to 0.0 in labels with no predicted samples. Use `zero_division` parameter to control this behavior.\n",
      "  _warn_prf(average, modifier, msg_start, len(result))\n",
      "/home/matthias/.cache/pypoetry/virtualenvs/sociodemographic-softlabels-Sh-apy0E-py3.7/lib/python3.7/site-packages/sklearn/metrics/_classification.py:1318: UndefinedMetricWarning: Precision is ill-defined and being set to 0.0 in labels with no predicted samples. Use `zero_division` parameter to control this behavior.\n",
      "  _warn_prf(average, modifier, msg_start, len(result))\n",
      "/home/matthias/.cache/pypoetry/virtualenvs/sociodemographic-softlabels-Sh-apy0E-py3.7/lib/python3.7/site-packages/sklearn/metrics/_classification.py:1318: UndefinedMetricWarning: Precision is ill-defined and being set to 0.0 in labels with no predicted samples. Use `zero_division` parameter to control this behavior.\n",
      "  _warn_prf(average, modifier, msg_start, len(result))\n",
      "/home/matthias/.cache/pypoetry/virtualenvs/sociodemographic-softlabels-Sh-apy0E-py3.7/lib/python3.7/site-packages/sklearn/metrics/_classification.py:1318: UndefinedMetricWarning: Precision is ill-defined and being set to 0.0 in labels with no predicted samples. Use `zero_division` parameter to control this behavior.\n",
      "  _warn_prf(average, modifier, msg_start, len(result))\n",
      "/home/matthias/.cache/pypoetry/virtualenvs/sociodemographic-softlabels-Sh-apy0E-py3.7/lib/python3.7/site-packages/sklearn/metrics/_classification.py:1318: UndefinedMetricWarning: Precision is ill-defined and being set to 0.0 in labels with no predicted samples. Use `zero_division` parameter to control this behavior.\n",
      "  _warn_prf(average, modifier, msg_start, len(result))\n",
      "bootstrap:  13%|███▋                         | 128/1000 [00:01<00:09, 92.09it/s]/home/matthias/.cache/pypoetry/virtualenvs/sociodemographic-softlabels-Sh-apy0E-py3.7/lib/python3.7/site-packages/sklearn/metrics/_classification.py:1318: UndefinedMetricWarning: Precision is ill-defined and being set to 0.0 in labels with no predicted samples. Use `zero_division` parameter to control this behavior.\n",
      "  _warn_prf(average, modifier, msg_start, len(result))\n",
      "/home/matthias/.cache/pypoetry/virtualenvs/sociodemographic-softlabels-Sh-apy0E-py3.7/lib/python3.7/site-packages/sklearn/metrics/_classification.py:1318: UndefinedMetricWarning: Precision is ill-defined and being set to 0.0 in labels with no predicted samples. Use `zero_division` parameter to control this behavior.\n",
      "  _warn_prf(average, modifier, msg_start, len(result))\n",
      "/home/matthias/.cache/pypoetry/virtualenvs/sociodemographic-softlabels-Sh-apy0E-py3.7/lib/python3.7/site-packages/sklearn/metrics/_classification.py:1318: UndefinedMetricWarning: Precision is ill-defined and being set to 0.0 in labels with no predicted samples. Use `zero_division` parameter to control this behavior.\n",
      "  _warn_prf(average, modifier, msg_start, len(result))\n",
      "/home/matthias/.cache/pypoetry/virtualenvs/sociodemographic-softlabels-Sh-apy0E-py3.7/lib/python3.7/site-packages/sklearn/metrics/_classification.py:1318: UndefinedMetricWarning: Precision is ill-defined and being set to 0.0 in labels with no predicted samples. Use `zero_division` parameter to control this behavior.\n",
      "  _warn_prf(average, modifier, msg_start, len(result))\n",
      "/home/matthias/.cache/pypoetry/virtualenvs/sociodemographic-softlabels-Sh-apy0E-py3.7/lib/python3.7/site-packages/sklearn/metrics/_classification.py:1318: UndefinedMetricWarning: Precision is ill-defined and being set to 0.0 in labels with no predicted samples. Use `zero_division` parameter to control this behavior.\n",
      "  _warn_prf(average, modifier, msg_start, len(result))\n",
      "/home/matthias/.cache/pypoetry/virtualenvs/sociodemographic-softlabels-Sh-apy0E-py3.7/lib/python3.7/site-packages/sklearn/metrics/_classification.py:1318: UndefinedMetricWarning: Precision is ill-defined and being set to 0.0 in labels with no predicted samples. Use `zero_division` parameter to control this behavior.\n",
      "  _warn_prf(average, modifier, msg_start, len(result))\n",
      "/home/matthias/.cache/pypoetry/virtualenvs/sociodemographic-softlabels-Sh-apy0E-py3.7/lib/python3.7/site-packages/sklearn/metrics/_classification.py:1318: UndefinedMetricWarning: Precision is ill-defined and being set to 0.0 in labels with no predicted samples. Use `zero_division` parameter to control this behavior.\n",
      "  _warn_prf(average, modifier, msg_start, len(result))\n",
      "bootstrap:  14%|████                         | 138/1000 [00:01<00:09, 92.87it/s]/home/matthias/.cache/pypoetry/virtualenvs/sociodemographic-softlabels-Sh-apy0E-py3.7/lib/python3.7/site-packages/sklearn/metrics/_classification.py:1318: UndefinedMetricWarning: Precision is ill-defined and being set to 0.0 in labels with no predicted samples. Use `zero_division` parameter to control this behavior.\n",
      "  _warn_prf(average, modifier, msg_start, len(result))\n",
      "/home/matthias/.cache/pypoetry/virtualenvs/sociodemographic-softlabels-Sh-apy0E-py3.7/lib/python3.7/site-packages/sklearn/metrics/_classification.py:1318: UndefinedMetricWarning: Precision is ill-defined and being set to 0.0 in labels with no predicted samples. Use `zero_division` parameter to control this behavior.\n",
      "  _warn_prf(average, modifier, msg_start, len(result))\n",
      "/home/matthias/.cache/pypoetry/virtualenvs/sociodemographic-softlabels-Sh-apy0E-py3.7/lib/python3.7/site-packages/sklearn/metrics/_classification.py:1318: UndefinedMetricWarning: Precision is ill-defined and being set to 0.0 in labels with no predicted samples. Use `zero_division` parameter to control this behavior.\n",
      "  _warn_prf(average, modifier, msg_start, len(result))\n",
      "/home/matthias/.cache/pypoetry/virtualenvs/sociodemographic-softlabels-Sh-apy0E-py3.7/lib/python3.7/site-packages/sklearn/metrics/_classification.py:1318: UndefinedMetricWarning: Precision is ill-defined and being set to 0.0 in labels with no predicted samples. Use `zero_division` parameter to control this behavior.\n",
      "  _warn_prf(average, modifier, msg_start, len(result))\n",
      "/home/matthias/.cache/pypoetry/virtualenvs/sociodemographic-softlabels-Sh-apy0E-py3.7/lib/python3.7/site-packages/sklearn/metrics/_classification.py:1318: UndefinedMetricWarning: Precision is ill-defined and being set to 0.0 in labels with no predicted samples. Use `zero_division` parameter to control this behavior.\n",
      "  _warn_prf(average, modifier, msg_start, len(result))\n",
      "/home/matthias/.cache/pypoetry/virtualenvs/sociodemographic-softlabels-Sh-apy0E-py3.7/lib/python3.7/site-packages/sklearn/metrics/_classification.py:1318: UndefinedMetricWarning: Precision is ill-defined and being set to 0.0 in labels with no predicted samples. Use `zero_division` parameter to control this behavior.\n",
      "  _warn_prf(average, modifier, msg_start, len(result))\n",
      "bootstrap:  15%|████▎                        | 148/1000 [00:01<00:09, 94.30it/s]/home/matthias/.cache/pypoetry/virtualenvs/sociodemographic-softlabels-Sh-apy0E-py3.7/lib/python3.7/site-packages/sklearn/metrics/_classification.py:1318: UndefinedMetricWarning: Precision is ill-defined and being set to 0.0 in labels with no predicted samples. Use `zero_division` parameter to control this behavior.\n",
      "  _warn_prf(average, modifier, msg_start, len(result))\n",
      "/home/matthias/.cache/pypoetry/virtualenvs/sociodemographic-softlabels-Sh-apy0E-py3.7/lib/python3.7/site-packages/sklearn/metrics/_classification.py:1318: UndefinedMetricWarning: Precision is ill-defined and being set to 0.0 in labels with no predicted samples. Use `zero_division` parameter to control this behavior.\n",
      "  _warn_prf(average, modifier, msg_start, len(result))\n",
      "/home/matthias/.cache/pypoetry/virtualenvs/sociodemographic-softlabels-Sh-apy0E-py3.7/lib/python3.7/site-packages/sklearn/metrics/_classification.py:1318: UndefinedMetricWarning: Precision is ill-defined and being set to 0.0 in labels with no predicted samples. Use `zero_division` parameter to control this behavior.\n",
      "  _warn_prf(average, modifier, msg_start, len(result))\n",
      "/home/matthias/.cache/pypoetry/virtualenvs/sociodemographic-softlabels-Sh-apy0E-py3.7/lib/python3.7/site-packages/sklearn/metrics/_classification.py:1318: UndefinedMetricWarning: Precision is ill-defined and being set to 0.0 in labels with no predicted samples. Use `zero_division` parameter to control this behavior.\n",
      "  _warn_prf(average, modifier, msg_start, len(result))\n",
      "/home/matthias/.cache/pypoetry/virtualenvs/sociodemographic-softlabels-Sh-apy0E-py3.7/lib/python3.7/site-packages/sklearn/metrics/_classification.py:1318: UndefinedMetricWarning: Precision is ill-defined and being set to 0.0 in labels with no predicted samples. Use `zero_division` parameter to control this behavior.\n",
      "  _warn_prf(average, modifier, msg_start, len(result))\n",
      "/home/matthias/.cache/pypoetry/virtualenvs/sociodemographic-softlabels-Sh-apy0E-py3.7/lib/python3.7/site-packages/sklearn/metrics/_classification.py:1318: UndefinedMetricWarning: Precision is ill-defined and being set to 0.0 in labels with no predicted samples. Use `zero_division` parameter to control this behavior.\n",
      "  _warn_prf(average, modifier, msg_start, len(result))\n",
      "bootstrap:  16%|████▌                        | 159/1000 [00:01<00:08, 97.84it/s]/home/matthias/.cache/pypoetry/virtualenvs/sociodemographic-softlabels-Sh-apy0E-py3.7/lib/python3.7/site-packages/sklearn/metrics/_classification.py:1318: UndefinedMetricWarning: Precision is ill-defined and being set to 0.0 in labels with no predicted samples. Use `zero_division` parameter to control this behavior.\n",
      "  _warn_prf(average, modifier, msg_start, len(result))\n",
      "/home/matthias/.cache/pypoetry/virtualenvs/sociodemographic-softlabels-Sh-apy0E-py3.7/lib/python3.7/site-packages/sklearn/metrics/_classification.py:1318: UndefinedMetricWarning: Precision is ill-defined and being set to 0.0 in labels with no predicted samples. Use `zero_division` parameter to control this behavior.\n",
      "  _warn_prf(average, modifier, msg_start, len(result))\n",
      "/home/matthias/.cache/pypoetry/virtualenvs/sociodemographic-softlabels-Sh-apy0E-py3.7/lib/python3.7/site-packages/sklearn/metrics/_classification.py:1318: UndefinedMetricWarning: Precision is ill-defined and being set to 0.0 in labels with no predicted samples. Use `zero_division` parameter to control this behavior.\n",
      "  _warn_prf(average, modifier, msg_start, len(result))\n",
      "/home/matthias/.cache/pypoetry/virtualenvs/sociodemographic-softlabels-Sh-apy0E-py3.7/lib/python3.7/site-packages/sklearn/metrics/_classification.py:1318: UndefinedMetricWarning: Precision is ill-defined and being set to 0.0 in labels with no predicted samples. Use `zero_division` parameter to control this behavior.\n",
      "  _warn_prf(average, modifier, msg_start, len(result))\n",
      "/home/matthias/.cache/pypoetry/virtualenvs/sociodemographic-softlabels-Sh-apy0E-py3.7/lib/python3.7/site-packages/sklearn/metrics/_classification.py:1318: UndefinedMetricWarning: Precision is ill-defined and being set to 0.0 in labels with no predicted samples. Use `zero_division` parameter to control this behavior.\n",
      "  _warn_prf(average, modifier, msg_start, len(result))\n",
      "/home/matthias/.cache/pypoetry/virtualenvs/sociodemographic-softlabels-Sh-apy0E-py3.7/lib/python3.7/site-packages/sklearn/metrics/_classification.py:1318: UndefinedMetricWarning: Precision is ill-defined and being set to 0.0 in labels with no predicted samples. Use `zero_division` parameter to control this behavior.\n",
      "  _warn_prf(average, modifier, msg_start, len(result))\n",
      "bootstrap:  17%|████▉                        | 169/1000 [00:01<00:08, 95.37it/s]/home/matthias/.cache/pypoetry/virtualenvs/sociodemographic-softlabels-Sh-apy0E-py3.7/lib/python3.7/site-packages/sklearn/metrics/_classification.py:1318: UndefinedMetricWarning: Precision is ill-defined and being set to 0.0 in labels with no predicted samples. Use `zero_division` parameter to control this behavior.\n",
      "  _warn_prf(average, modifier, msg_start, len(result))\n",
      "/home/matthias/.cache/pypoetry/virtualenvs/sociodemographic-softlabels-Sh-apy0E-py3.7/lib/python3.7/site-packages/sklearn/metrics/_classification.py:1318: UndefinedMetricWarning: Precision is ill-defined and being set to 0.0 in labels with no predicted samples. Use `zero_division` parameter to control this behavior.\n",
      "  _warn_prf(average, modifier, msg_start, len(result))\n",
      "/home/matthias/.cache/pypoetry/virtualenvs/sociodemographic-softlabels-Sh-apy0E-py3.7/lib/python3.7/site-packages/sklearn/metrics/_classification.py:1318: UndefinedMetricWarning: Precision is ill-defined and being set to 0.0 in labels with no predicted samples. Use `zero_division` parameter to control this behavior.\n",
      "  _warn_prf(average, modifier, msg_start, len(result))\n",
      "/home/matthias/.cache/pypoetry/virtualenvs/sociodemographic-softlabels-Sh-apy0E-py3.7/lib/python3.7/site-packages/sklearn/metrics/_classification.py:1318: UndefinedMetricWarning: Precision is ill-defined and being set to 0.0 in labels with no predicted samples. Use `zero_division` parameter to control this behavior.\n",
      "  _warn_prf(average, modifier, msg_start, len(result))\n",
      "/home/matthias/.cache/pypoetry/virtualenvs/sociodemographic-softlabels-Sh-apy0E-py3.7/lib/python3.7/site-packages/sklearn/metrics/_classification.py:1318: UndefinedMetricWarning: Precision is ill-defined and being set to 0.0 in labels with no predicted samples. Use `zero_division` parameter to control this behavior.\n",
      "  _warn_prf(average, modifier, msg_start, len(result))\n",
      "/home/matthias/.cache/pypoetry/virtualenvs/sociodemographic-softlabels-Sh-apy0E-py3.7/lib/python3.7/site-packages/sklearn/metrics/_classification.py:1318: UndefinedMetricWarning: Precision is ill-defined and being set to 0.0 in labels with no predicted samples. Use `zero_division` parameter to control this behavior.\n",
      "  _warn_prf(average, modifier, msg_start, len(result))\n",
      "bootstrap:  18%|█████▏                       | 179/1000 [00:01<00:09, 82.64it/s]/home/matthias/.cache/pypoetry/virtualenvs/sociodemographic-softlabels-Sh-apy0E-py3.7/lib/python3.7/site-packages/sklearn/metrics/_classification.py:1318: UndefinedMetricWarning: Precision is ill-defined and being set to 0.0 in labels with no predicted samples. Use `zero_division` parameter to control this behavior.\n",
      "  _warn_prf(average, modifier, msg_start, len(result))\n",
      "/home/matthias/.cache/pypoetry/virtualenvs/sociodemographic-softlabels-Sh-apy0E-py3.7/lib/python3.7/site-packages/sklearn/metrics/_classification.py:1318: UndefinedMetricWarning: Precision is ill-defined and being set to 0.0 in labels with no predicted samples. Use `zero_division` parameter to control this behavior.\n",
      "  _warn_prf(average, modifier, msg_start, len(result))\n",
      "/home/matthias/.cache/pypoetry/virtualenvs/sociodemographic-softlabels-Sh-apy0E-py3.7/lib/python3.7/site-packages/sklearn/metrics/_classification.py:1318: UndefinedMetricWarning: Precision is ill-defined and being set to 0.0 in labels with no predicted samples. Use `zero_division` parameter to control this behavior.\n",
      "  _warn_prf(average, modifier, msg_start, len(result))\n",
      "/home/matthias/.cache/pypoetry/virtualenvs/sociodemographic-softlabels-Sh-apy0E-py3.7/lib/python3.7/site-packages/sklearn/metrics/_classification.py:1318: UndefinedMetricWarning: Precision is ill-defined and being set to 0.0 in labels with no predicted samples. Use `zero_division` parameter to control this behavior.\n",
      "  _warn_prf(average, modifier, msg_start, len(result))\n",
      "/home/matthias/.cache/pypoetry/virtualenvs/sociodemographic-softlabels-Sh-apy0E-py3.7/lib/python3.7/site-packages/sklearn/metrics/_classification.py:1318: UndefinedMetricWarning: Precision is ill-defined and being set to 0.0 in labels with no predicted samples. Use `zero_division` parameter to control this behavior.\n",
      "  _warn_prf(average, modifier, msg_start, len(result))\n",
      "/home/matthias/.cache/pypoetry/virtualenvs/sociodemographic-softlabels-Sh-apy0E-py3.7/lib/python3.7/site-packages/sklearn/metrics/_classification.py:1318: UndefinedMetricWarning: Precision is ill-defined and being set to 0.0 in labels with no predicted samples. Use `zero_division` parameter to control this behavior.\n",
      "  _warn_prf(average, modifier, msg_start, len(result))\n",
      "bootstrap:  19%|█████▌                       | 190/1000 [00:02<00:09, 88.81it/s]/home/matthias/.cache/pypoetry/virtualenvs/sociodemographic-softlabels-Sh-apy0E-py3.7/lib/python3.7/site-packages/sklearn/metrics/_classification.py:1318: UndefinedMetricWarning: Precision is ill-defined and being set to 0.0 in labels with no predicted samples. Use `zero_division` parameter to control this behavior.\n",
      "  _warn_prf(average, modifier, msg_start, len(result))\n",
      "/home/matthias/.cache/pypoetry/virtualenvs/sociodemographic-softlabels-Sh-apy0E-py3.7/lib/python3.7/site-packages/sklearn/metrics/_classification.py:1318: UndefinedMetricWarning: Precision is ill-defined and being set to 0.0 in labels with no predicted samples. Use `zero_division` parameter to control this behavior.\n",
      "  _warn_prf(average, modifier, msg_start, len(result))\n",
      "/home/matthias/.cache/pypoetry/virtualenvs/sociodemographic-softlabels-Sh-apy0E-py3.7/lib/python3.7/site-packages/sklearn/metrics/_classification.py:1318: UndefinedMetricWarning: Precision is ill-defined and being set to 0.0 in labels with no predicted samples. Use `zero_division` parameter to control this behavior.\n",
      "  _warn_prf(average, modifier, msg_start, len(result))\n",
      "/home/matthias/.cache/pypoetry/virtualenvs/sociodemographic-softlabels-Sh-apy0E-py3.7/lib/python3.7/site-packages/sklearn/metrics/_classification.py:1318: UndefinedMetricWarning: Precision is ill-defined and being set to 0.0 in labels with no predicted samples. Use `zero_division` parameter to control this behavior.\n",
      "  _warn_prf(average, modifier, msg_start, len(result))\n",
      "/home/matthias/.cache/pypoetry/virtualenvs/sociodemographic-softlabels-Sh-apy0E-py3.7/lib/python3.7/site-packages/sklearn/metrics/_classification.py:1318: UndefinedMetricWarning: Precision is ill-defined and being set to 0.0 in labels with no predicted samples. Use `zero_division` parameter to control this behavior.\n",
      "  _warn_prf(average, modifier, msg_start, len(result))\n",
      "/home/matthias/.cache/pypoetry/virtualenvs/sociodemographic-softlabels-Sh-apy0E-py3.7/lib/python3.7/site-packages/sklearn/metrics/_classification.py:1318: UndefinedMetricWarning: Precision is ill-defined and being set to 0.0 in labels with no predicted samples. Use `zero_division` parameter to control this behavior.\n",
      "  _warn_prf(average, modifier, msg_start, len(result))\n",
      "/home/matthias/.cache/pypoetry/virtualenvs/sociodemographic-softlabels-Sh-apy0E-py3.7/lib/python3.7/site-packages/sklearn/metrics/_classification.py:1318: UndefinedMetricWarning: Precision is ill-defined and being set to 0.0 in labels with no predicted samples. Use `zero_division` parameter to control this behavior.\n",
      "  _warn_prf(average, modifier, msg_start, len(result))\n",
      "/home/matthias/.cache/pypoetry/virtualenvs/sociodemographic-softlabels-Sh-apy0E-py3.7/lib/python3.7/site-packages/sklearn/metrics/_classification.py:1318: UndefinedMetricWarning: Precision is ill-defined and being set to 0.0 in labels with no predicted samples. Use `zero_division` parameter to control this behavior.\n",
      "  _warn_prf(average, modifier, msg_start, len(result))\n",
      "bootstrap:  20%|█████▊                       | 200/1000 [00:02<00:09, 84.75it/s]/home/matthias/.cache/pypoetry/virtualenvs/sociodemographic-softlabels-Sh-apy0E-py3.7/lib/python3.7/site-packages/sklearn/metrics/_classification.py:1318: UndefinedMetricWarning: Precision is ill-defined and being set to 0.0 in labels with no predicted samples. Use `zero_division` parameter to control this behavior.\n",
      "  _warn_prf(average, modifier, msg_start, len(result))\n",
      "/home/matthias/.cache/pypoetry/virtualenvs/sociodemographic-softlabels-Sh-apy0E-py3.7/lib/python3.7/site-packages/sklearn/metrics/_classification.py:1318: UndefinedMetricWarning: Precision is ill-defined and being set to 0.0 in labels with no predicted samples. Use `zero_division` parameter to control this behavior.\n",
      "  _warn_prf(average, modifier, msg_start, len(result))\n",
      "/home/matthias/.cache/pypoetry/virtualenvs/sociodemographic-softlabels-Sh-apy0E-py3.7/lib/python3.7/site-packages/sklearn/metrics/_classification.py:1318: UndefinedMetricWarning: Precision is ill-defined and being set to 0.0 in labels with no predicted samples. Use `zero_division` parameter to control this behavior.\n",
      "  _warn_prf(average, modifier, msg_start, len(result))\n",
      "/home/matthias/.cache/pypoetry/virtualenvs/sociodemographic-softlabels-Sh-apy0E-py3.7/lib/python3.7/site-packages/sklearn/metrics/_classification.py:1318: UndefinedMetricWarning: Precision is ill-defined and being set to 0.0 in labels with no predicted samples. Use `zero_division` parameter to control this behavior.\n",
      "  _warn_prf(average, modifier, msg_start, len(result))\n",
      "/home/matthias/.cache/pypoetry/virtualenvs/sociodemographic-softlabels-Sh-apy0E-py3.7/lib/python3.7/site-packages/sklearn/metrics/_classification.py:1318: UndefinedMetricWarning: Precision is ill-defined and being set to 0.0 in labels with no predicted samples. Use `zero_division` parameter to control this behavior.\n",
      "  _warn_prf(average, modifier, msg_start, len(result))\n",
      "/home/matthias/.cache/pypoetry/virtualenvs/sociodemographic-softlabels-Sh-apy0E-py3.7/lib/python3.7/site-packages/sklearn/metrics/_classification.py:1318: UndefinedMetricWarning: Precision is ill-defined and being set to 0.0 in labels with no predicted samples. Use `zero_division` parameter to control this behavior.\n",
      "  _warn_prf(average, modifier, msg_start, len(result))\n",
      "/home/matthias/.cache/pypoetry/virtualenvs/sociodemographic-softlabels-Sh-apy0E-py3.7/lib/python3.7/site-packages/sklearn/metrics/_classification.py:1318: UndefinedMetricWarning: Precision is ill-defined and being set to 0.0 in labels with no predicted samples. Use `zero_division` parameter to control this behavior.\n",
      "  _warn_prf(average, modifier, msg_start, len(result))\n",
      "bootstrap:  21%|██████                       | 210/1000 [00:02<00:09, 87.28it/s]/home/matthias/.cache/pypoetry/virtualenvs/sociodemographic-softlabels-Sh-apy0E-py3.7/lib/python3.7/site-packages/sklearn/metrics/_classification.py:1318: UndefinedMetricWarning: Precision is ill-defined and being set to 0.0 in labels with no predicted samples. Use `zero_division` parameter to control this behavior.\n",
      "  _warn_prf(average, modifier, msg_start, len(result))\n",
      "/home/matthias/.cache/pypoetry/virtualenvs/sociodemographic-softlabels-Sh-apy0E-py3.7/lib/python3.7/site-packages/sklearn/metrics/_classification.py:1318: UndefinedMetricWarning: Precision is ill-defined and being set to 0.0 in labels with no predicted samples. Use `zero_division` parameter to control this behavior.\n",
      "  _warn_prf(average, modifier, msg_start, len(result))\n",
      "/home/matthias/.cache/pypoetry/virtualenvs/sociodemographic-softlabels-Sh-apy0E-py3.7/lib/python3.7/site-packages/sklearn/metrics/_classification.py:1318: UndefinedMetricWarning: Precision is ill-defined and being set to 0.0 in labels with no predicted samples. Use `zero_division` parameter to control this behavior.\n",
      "  _warn_prf(average, modifier, msg_start, len(result))\n",
      "/home/matthias/.cache/pypoetry/virtualenvs/sociodemographic-softlabels-Sh-apy0E-py3.7/lib/python3.7/site-packages/sklearn/metrics/_classification.py:1318: UndefinedMetricWarning: Precision is ill-defined and being set to 0.0 in labels with no predicted samples. Use `zero_division` parameter to control this behavior.\n",
      "  _warn_prf(average, modifier, msg_start, len(result))\n",
      "/home/matthias/.cache/pypoetry/virtualenvs/sociodemographic-softlabels-Sh-apy0E-py3.7/lib/python3.7/site-packages/sklearn/metrics/_classification.py:1318: UndefinedMetricWarning: Precision is ill-defined and being set to 0.0 in labels with no predicted samples. Use `zero_division` parameter to control this behavior.\n",
      "  _warn_prf(average, modifier, msg_start, len(result))\n",
      "/home/matthias/.cache/pypoetry/virtualenvs/sociodemographic-softlabels-Sh-apy0E-py3.7/lib/python3.7/site-packages/sklearn/metrics/_classification.py:1318: UndefinedMetricWarning: Precision is ill-defined and being set to 0.0 in labels with no predicted samples. Use `zero_division` parameter to control this behavior.\n",
      "  _warn_prf(average, modifier, msg_start, len(result))\n",
      "/home/matthias/.cache/pypoetry/virtualenvs/sociodemographic-softlabels-Sh-apy0E-py3.7/lib/python3.7/site-packages/sklearn/metrics/_classification.py:1318: UndefinedMetricWarning: Precision is ill-defined and being set to 0.0 in labels with no predicted samples. Use `zero_division` parameter to control this behavior.\n",
      "  _warn_prf(average, modifier, msg_start, len(result))\n",
      "bootstrap:  22%|██████▍                      | 221/1000 [00:02<00:08, 91.46it/s]/home/matthias/.cache/pypoetry/virtualenvs/sociodemographic-softlabels-Sh-apy0E-py3.7/lib/python3.7/site-packages/sklearn/metrics/_classification.py:1318: UndefinedMetricWarning: Precision is ill-defined and being set to 0.0 in labels with no predicted samples. Use `zero_division` parameter to control this behavior.\n",
      "  _warn_prf(average, modifier, msg_start, len(result))\n",
      "/home/matthias/.cache/pypoetry/virtualenvs/sociodemographic-softlabels-Sh-apy0E-py3.7/lib/python3.7/site-packages/sklearn/metrics/_classification.py:1318: UndefinedMetricWarning: Precision is ill-defined and being set to 0.0 in labels with no predicted samples. Use `zero_division` parameter to control this behavior.\n",
      "  _warn_prf(average, modifier, msg_start, len(result))\n",
      "/home/matthias/.cache/pypoetry/virtualenvs/sociodemographic-softlabels-Sh-apy0E-py3.7/lib/python3.7/site-packages/sklearn/metrics/_classification.py:1318: UndefinedMetricWarning: Precision is ill-defined and being set to 0.0 in labels with no predicted samples. Use `zero_division` parameter to control this behavior.\n",
      "  _warn_prf(average, modifier, msg_start, len(result))\n",
      "/home/matthias/.cache/pypoetry/virtualenvs/sociodemographic-softlabels-Sh-apy0E-py3.7/lib/python3.7/site-packages/sklearn/metrics/_classification.py:1318: UndefinedMetricWarning: Precision is ill-defined and being set to 0.0 in labels with no predicted samples. Use `zero_division` parameter to control this behavior.\n",
      "  _warn_prf(average, modifier, msg_start, len(result))\n",
      "/home/matthias/.cache/pypoetry/virtualenvs/sociodemographic-softlabels-Sh-apy0E-py3.7/lib/python3.7/site-packages/sklearn/metrics/_classification.py:1318: UndefinedMetricWarning: Precision is ill-defined and being set to 0.0 in labels with no predicted samples. Use `zero_division` parameter to control this behavior.\n",
      "  _warn_prf(average, modifier, msg_start, len(result))\n",
      "/home/matthias/.cache/pypoetry/virtualenvs/sociodemographic-softlabels-Sh-apy0E-py3.7/lib/python3.7/site-packages/sklearn/metrics/_classification.py:1318: UndefinedMetricWarning: Precision is ill-defined and being set to 0.0 in labels with no predicted samples. Use `zero_division` parameter to control this behavior.\n",
      "  _warn_prf(average, modifier, msg_start, len(result))\n",
      "/home/matthias/.cache/pypoetry/virtualenvs/sociodemographic-softlabels-Sh-apy0E-py3.7/lib/python3.7/site-packages/sklearn/metrics/_classification.py:1318: UndefinedMetricWarning: Precision is ill-defined and being set to 0.0 in labels with no predicted samples. Use `zero_division` parameter to control this behavior.\n",
      "  _warn_prf(average, modifier, msg_start, len(result))\n",
      "bootstrap:  23%|██████▋                      | 231/1000 [00:02<00:09, 81.25it/s]/home/matthias/.cache/pypoetry/virtualenvs/sociodemographic-softlabels-Sh-apy0E-py3.7/lib/python3.7/site-packages/sklearn/metrics/_classification.py:1318: UndefinedMetricWarning: Precision is ill-defined and being set to 0.0 in labels with no predicted samples. Use `zero_division` parameter to control this behavior.\n",
      "  _warn_prf(average, modifier, msg_start, len(result))\n",
      "/home/matthias/.cache/pypoetry/virtualenvs/sociodemographic-softlabels-Sh-apy0E-py3.7/lib/python3.7/site-packages/sklearn/metrics/_classification.py:1318: UndefinedMetricWarning: Precision is ill-defined and being set to 0.0 in labels with no predicted samples. Use `zero_division` parameter to control this behavior.\n",
      "  _warn_prf(average, modifier, msg_start, len(result))\n",
      "/home/matthias/.cache/pypoetry/virtualenvs/sociodemographic-softlabels-Sh-apy0E-py3.7/lib/python3.7/site-packages/sklearn/metrics/_classification.py:1318: UndefinedMetricWarning: Precision is ill-defined and being set to 0.0 in labels with no predicted samples. Use `zero_division` parameter to control this behavior.\n",
      "  _warn_prf(average, modifier, msg_start, len(result))\n",
      "/home/matthias/.cache/pypoetry/virtualenvs/sociodemographic-softlabels-Sh-apy0E-py3.7/lib/python3.7/site-packages/sklearn/metrics/_classification.py:1318: UndefinedMetricWarning: Precision is ill-defined and being set to 0.0 in labels with no predicted samples. Use `zero_division` parameter to control this behavior.\n",
      "  _warn_prf(average, modifier, msg_start, len(result))\n",
      "/home/matthias/.cache/pypoetry/virtualenvs/sociodemographic-softlabels-Sh-apy0E-py3.7/lib/python3.7/site-packages/sklearn/metrics/_classification.py:1318: UndefinedMetricWarning: Precision is ill-defined and being set to 0.0 in labels with no predicted samples. Use `zero_division` parameter to control this behavior.\n",
      "  _warn_prf(average, modifier, msg_start, len(result))\n",
      "/home/matthias/.cache/pypoetry/virtualenvs/sociodemographic-softlabels-Sh-apy0E-py3.7/lib/python3.7/site-packages/sklearn/metrics/_classification.py:1318: UndefinedMetricWarning: Precision is ill-defined and being set to 0.0 in labels with no predicted samples. Use `zero_division` parameter to control this behavior.\n",
      "  _warn_prf(average, modifier, msg_start, len(result))\n",
      "/home/matthias/.cache/pypoetry/virtualenvs/sociodemographic-softlabels-Sh-apy0E-py3.7/lib/python3.7/site-packages/sklearn/metrics/_classification.py:1318: UndefinedMetricWarning: Precision is ill-defined and being set to 0.0 in labels with no predicted samples. Use `zero_division` parameter to control this behavior.\n",
      "  _warn_prf(average, modifier, msg_start, len(result))\n",
      "bootstrap:  24%|██████▉                      | 240/1000 [00:02<00:10, 73.47it/s]/home/matthias/.cache/pypoetry/virtualenvs/sociodemographic-softlabels-Sh-apy0E-py3.7/lib/python3.7/site-packages/sklearn/metrics/_classification.py:1318: UndefinedMetricWarning: Precision is ill-defined and being set to 0.0 in labels with no predicted samples. Use `zero_division` parameter to control this behavior.\n",
      "  _warn_prf(average, modifier, msg_start, len(result))\n",
      "/home/matthias/.cache/pypoetry/virtualenvs/sociodemographic-softlabels-Sh-apy0E-py3.7/lib/python3.7/site-packages/sklearn/metrics/_classification.py:1318: UndefinedMetricWarning: Precision is ill-defined and being set to 0.0 in labels with no predicted samples. Use `zero_division` parameter to control this behavior.\n",
      "  _warn_prf(average, modifier, msg_start, len(result))\n",
      "/home/matthias/.cache/pypoetry/virtualenvs/sociodemographic-softlabels-Sh-apy0E-py3.7/lib/python3.7/site-packages/sklearn/metrics/_classification.py:1318: UndefinedMetricWarning: Precision is ill-defined and being set to 0.0 in labels with no predicted samples. Use `zero_division` parameter to control this behavior.\n",
      "  _warn_prf(average, modifier, msg_start, len(result))\n",
      "/home/matthias/.cache/pypoetry/virtualenvs/sociodemographic-softlabels-Sh-apy0E-py3.7/lib/python3.7/site-packages/sklearn/metrics/_classification.py:1318: UndefinedMetricWarning: Precision is ill-defined and being set to 0.0 in labels with no predicted samples. Use `zero_division` parameter to control this behavior.\n",
      "  _warn_prf(average, modifier, msg_start, len(result))\n",
      "/home/matthias/.cache/pypoetry/virtualenvs/sociodemographic-softlabels-Sh-apy0E-py3.7/lib/python3.7/site-packages/sklearn/metrics/_classification.py:1318: UndefinedMetricWarning: Precision is ill-defined and being set to 0.0 in labels with no predicted samples. Use `zero_division` parameter to control this behavior.\n",
      "  _warn_prf(average, modifier, msg_start, len(result))\n",
      "/home/matthias/.cache/pypoetry/virtualenvs/sociodemographic-softlabels-Sh-apy0E-py3.7/lib/python3.7/site-packages/sklearn/metrics/_classification.py:1318: UndefinedMetricWarning: Precision is ill-defined and being set to 0.0 in labels with no predicted samples. Use `zero_division` parameter to control this behavior.\n",
      "  _warn_prf(average, modifier, msg_start, len(result))\n",
      "/home/matthias/.cache/pypoetry/virtualenvs/sociodemographic-softlabels-Sh-apy0E-py3.7/lib/python3.7/site-packages/sklearn/metrics/_classification.py:1318: UndefinedMetricWarning: Precision is ill-defined and being set to 0.0 in labels with no predicted samples. Use `zero_division` parameter to control this behavior.\n",
      "  _warn_prf(average, modifier, msg_start, len(result))\n",
      "bootstrap:  25%|███████▎                     | 251/1000 [00:02<00:09, 80.76it/s]/home/matthias/.cache/pypoetry/virtualenvs/sociodemographic-softlabels-Sh-apy0E-py3.7/lib/python3.7/site-packages/sklearn/metrics/_classification.py:1318: UndefinedMetricWarning: Precision is ill-defined and being set to 0.0 in labels with no predicted samples. Use `zero_division` parameter to control this behavior.\n",
      "  _warn_prf(average, modifier, msg_start, len(result))\n",
      "/home/matthias/.cache/pypoetry/virtualenvs/sociodemographic-softlabels-Sh-apy0E-py3.7/lib/python3.7/site-packages/sklearn/metrics/_classification.py:1318: UndefinedMetricWarning: Precision is ill-defined and being set to 0.0 in labels with no predicted samples. Use `zero_division` parameter to control this behavior.\n",
      "  _warn_prf(average, modifier, msg_start, len(result))\n",
      "/home/matthias/.cache/pypoetry/virtualenvs/sociodemographic-softlabels-Sh-apy0E-py3.7/lib/python3.7/site-packages/sklearn/metrics/_classification.py:1318: UndefinedMetricWarning: Precision is ill-defined and being set to 0.0 in labels with no predicted samples. Use `zero_division` parameter to control this behavior.\n",
      "  _warn_prf(average, modifier, msg_start, len(result))\n",
      "/home/matthias/.cache/pypoetry/virtualenvs/sociodemographic-softlabels-Sh-apy0E-py3.7/lib/python3.7/site-packages/sklearn/metrics/_classification.py:1318: UndefinedMetricWarning: Precision is ill-defined and being set to 0.0 in labels with no predicted samples. Use `zero_division` parameter to control this behavior.\n",
      "  _warn_prf(average, modifier, msg_start, len(result))\n",
      "/home/matthias/.cache/pypoetry/virtualenvs/sociodemographic-softlabels-Sh-apy0E-py3.7/lib/python3.7/site-packages/sklearn/metrics/_classification.py:1318: UndefinedMetricWarning: Precision is ill-defined and being set to 0.0 in labels with no predicted samples. Use `zero_division` parameter to control this behavior.\n",
      "  _warn_prf(average, modifier, msg_start, len(result))\n",
      "/home/matthias/.cache/pypoetry/virtualenvs/sociodemographic-softlabels-Sh-apy0E-py3.7/lib/python3.7/site-packages/sklearn/metrics/_classification.py:1318: UndefinedMetricWarning: Precision is ill-defined and being set to 0.0 in labels with no predicted samples. Use `zero_division` parameter to control this behavior.\n",
      "  _warn_prf(average, modifier, msg_start, len(result))\n",
      "bootstrap:  26%|███████▌                     | 261/1000 [00:02<00:08, 83.62it/s]/home/matthias/.cache/pypoetry/virtualenvs/sociodemographic-softlabels-Sh-apy0E-py3.7/lib/python3.7/site-packages/sklearn/metrics/_classification.py:1318: UndefinedMetricWarning: Precision is ill-defined and being set to 0.0 in labels with no predicted samples. Use `zero_division` parameter to control this behavior.\n",
      "  _warn_prf(average, modifier, msg_start, len(result))\n",
      "/home/matthias/.cache/pypoetry/virtualenvs/sociodemographic-softlabels-Sh-apy0E-py3.7/lib/python3.7/site-packages/sklearn/metrics/_classification.py:1318: UndefinedMetricWarning: Precision is ill-defined and being set to 0.0 in labels with no predicted samples. Use `zero_division` parameter to control this behavior.\n",
      "  _warn_prf(average, modifier, msg_start, len(result))\n",
      "/home/matthias/.cache/pypoetry/virtualenvs/sociodemographic-softlabels-Sh-apy0E-py3.7/lib/python3.7/site-packages/sklearn/metrics/_classification.py:1318: UndefinedMetricWarning: Precision is ill-defined and being set to 0.0 in labels with no predicted samples. Use `zero_division` parameter to control this behavior.\n",
      "  _warn_prf(average, modifier, msg_start, len(result))\n",
      "bootstrap:  27%|███████▉                     | 272/1000 [00:03<00:08, 88.21it/s]/home/matthias/.cache/pypoetry/virtualenvs/sociodemographic-softlabels-Sh-apy0E-py3.7/lib/python3.7/site-packages/sklearn/metrics/_classification.py:1318: UndefinedMetricWarning: Precision is ill-defined and being set to 0.0 in labels with no predicted samples. Use `zero_division` parameter to control this behavior.\n",
      "  _warn_prf(average, modifier, msg_start, len(result))\n",
      "/home/matthias/.cache/pypoetry/virtualenvs/sociodemographic-softlabels-Sh-apy0E-py3.7/lib/python3.7/site-packages/sklearn/metrics/_classification.py:1318: UndefinedMetricWarning: Precision is ill-defined and being set to 0.0 in labels with no predicted samples. Use `zero_division` parameter to control this behavior.\n",
      "  _warn_prf(average, modifier, msg_start, len(result))\n",
      "/home/matthias/.cache/pypoetry/virtualenvs/sociodemographic-softlabels-Sh-apy0E-py3.7/lib/python3.7/site-packages/sklearn/metrics/_classification.py:1318: UndefinedMetricWarning: Precision is ill-defined and being set to 0.0 in labels with no predicted samples. Use `zero_division` parameter to control this behavior.\n",
      "  _warn_prf(average, modifier, msg_start, len(result))\n",
      "bootstrap:  28%|████████▏                    | 282/1000 [00:03<00:08, 89.17it/s]/home/matthias/.cache/pypoetry/virtualenvs/sociodemographic-softlabels-Sh-apy0E-py3.7/lib/python3.7/site-packages/sklearn/metrics/_classification.py:1318: UndefinedMetricWarning: Precision is ill-defined and being set to 0.0 in labels with no predicted samples. Use `zero_division` parameter to control this behavior.\n",
      "  _warn_prf(average, modifier, msg_start, len(result))\n",
      "/home/matthias/.cache/pypoetry/virtualenvs/sociodemographic-softlabels-Sh-apy0E-py3.7/lib/python3.7/site-packages/sklearn/metrics/_classification.py:1318: UndefinedMetricWarning: Precision is ill-defined and being set to 0.0 in labels with no predicted samples. Use `zero_division` parameter to control this behavior.\n",
      "  _warn_prf(average, modifier, msg_start, len(result))\n",
      "/home/matthias/.cache/pypoetry/virtualenvs/sociodemographic-softlabels-Sh-apy0E-py3.7/lib/python3.7/site-packages/sklearn/metrics/_classification.py:1318: UndefinedMetricWarning: Precision is ill-defined and being set to 0.0 in labels with no predicted samples. Use `zero_division` parameter to control this behavior.\n",
      "  _warn_prf(average, modifier, msg_start, len(result))\n",
      "/home/matthias/.cache/pypoetry/virtualenvs/sociodemographic-softlabels-Sh-apy0E-py3.7/lib/python3.7/site-packages/sklearn/metrics/_classification.py:1318: UndefinedMetricWarning: Precision is ill-defined and being set to 0.0 in labels with no predicted samples. Use `zero_division` parameter to control this behavior.\n",
      "  _warn_prf(average, modifier, msg_start, len(result))\n",
      "/home/matthias/.cache/pypoetry/virtualenvs/sociodemographic-softlabels-Sh-apy0E-py3.7/lib/python3.7/site-packages/sklearn/metrics/_classification.py:1318: UndefinedMetricWarning: Precision is ill-defined and being set to 0.0 in labels with no predicted samples. Use `zero_division` parameter to control this behavior.\n",
      "  _warn_prf(average, modifier, msg_start, len(result))\n",
      "/home/matthias/.cache/pypoetry/virtualenvs/sociodemographic-softlabels-Sh-apy0E-py3.7/lib/python3.7/site-packages/sklearn/metrics/_classification.py:1318: UndefinedMetricWarning: Precision is ill-defined and being set to 0.0 in labels with no predicted samples. Use `zero_division` parameter to control this behavior.\n",
      "  _warn_prf(average, modifier, msg_start, len(result))\n",
      "/home/matthias/.cache/pypoetry/virtualenvs/sociodemographic-softlabels-Sh-apy0E-py3.7/lib/python3.7/site-packages/sklearn/metrics/_classification.py:1318: UndefinedMetricWarning: Precision is ill-defined and being set to 0.0 in labels with no predicted samples. Use `zero_division` parameter to control this behavior.\n",
      "  _warn_prf(average, modifier, msg_start, len(result))\n",
      "/home/matthias/.cache/pypoetry/virtualenvs/sociodemographic-softlabels-Sh-apy0E-py3.7/lib/python3.7/site-packages/sklearn/metrics/_classification.py:1318: UndefinedMetricWarning: Precision is ill-defined and being set to 0.0 in labels with no predicted samples. Use `zero_division` parameter to control this behavior.\n",
      "  _warn_prf(average, modifier, msg_start, len(result))\n",
      "bootstrap:  29%|████████▍                    | 292/1000 [00:03<00:07, 89.24it/s]/home/matthias/.cache/pypoetry/virtualenvs/sociodemographic-softlabels-Sh-apy0E-py3.7/lib/python3.7/site-packages/sklearn/metrics/_classification.py:1318: UndefinedMetricWarning: Precision is ill-defined and being set to 0.0 in labels with no predicted samples. Use `zero_division` parameter to control this behavior.\n",
      "  _warn_prf(average, modifier, msg_start, len(result))\n",
      "/home/matthias/.cache/pypoetry/virtualenvs/sociodemographic-softlabels-Sh-apy0E-py3.7/lib/python3.7/site-packages/sklearn/metrics/_classification.py:1318: UndefinedMetricWarning: Precision is ill-defined and being set to 0.0 in labels with no predicted samples. Use `zero_division` parameter to control this behavior.\n",
      "  _warn_prf(average, modifier, msg_start, len(result))\n",
      "/home/matthias/.cache/pypoetry/virtualenvs/sociodemographic-softlabels-Sh-apy0E-py3.7/lib/python3.7/site-packages/sklearn/metrics/_classification.py:1318: UndefinedMetricWarning: Precision is ill-defined and being set to 0.0 in labels with no predicted samples. Use `zero_division` parameter to control this behavior.\n",
      "  _warn_prf(average, modifier, msg_start, len(result))\n",
      "/home/matthias/.cache/pypoetry/virtualenvs/sociodemographic-softlabels-Sh-apy0E-py3.7/lib/python3.7/site-packages/sklearn/metrics/_classification.py:1318: UndefinedMetricWarning: Precision is ill-defined and being set to 0.0 in labels with no predicted samples. Use `zero_division` parameter to control this behavior.\n",
      "  _warn_prf(average, modifier, msg_start, len(result))\n",
      "/home/matthias/.cache/pypoetry/virtualenvs/sociodemographic-softlabels-Sh-apy0E-py3.7/lib/python3.7/site-packages/sklearn/metrics/_classification.py:1318: UndefinedMetricWarning: Precision is ill-defined and being set to 0.0 in labels with no predicted samples. Use `zero_division` parameter to control this behavior.\n",
      "  _warn_prf(average, modifier, msg_start, len(result))\n",
      "/home/matthias/.cache/pypoetry/virtualenvs/sociodemographic-softlabels-Sh-apy0E-py3.7/lib/python3.7/site-packages/sklearn/metrics/_classification.py:1318: UndefinedMetricWarning: Precision is ill-defined and being set to 0.0 in labels with no predicted samples. Use `zero_division` parameter to control this behavior.\n",
      "  _warn_prf(average, modifier, msg_start, len(result))\n",
      "/home/matthias/.cache/pypoetry/virtualenvs/sociodemographic-softlabels-Sh-apy0E-py3.7/lib/python3.7/site-packages/sklearn/metrics/_classification.py:1318: UndefinedMetricWarning: Precision is ill-defined and being set to 0.0 in labels with no predicted samples. Use `zero_division` parameter to control this behavior.\n",
      "  _warn_prf(average, modifier, msg_start, len(result))\n",
      "/home/matthias/.cache/pypoetry/virtualenvs/sociodemographic-softlabels-Sh-apy0E-py3.7/lib/python3.7/site-packages/sklearn/metrics/_classification.py:1318: UndefinedMetricWarning: Precision is ill-defined and being set to 0.0 in labels with no predicted samples. Use `zero_division` parameter to control this behavior.\n",
      "  _warn_prf(average, modifier, msg_start, len(result))\n",
      "bootstrap:  30%|████████▊                    | 303/1000 [00:03<00:07, 93.24it/s]/home/matthias/.cache/pypoetry/virtualenvs/sociodemographic-softlabels-Sh-apy0E-py3.7/lib/python3.7/site-packages/sklearn/metrics/_classification.py:1318: UndefinedMetricWarning: Precision is ill-defined and being set to 0.0 in labels with no predicted samples. Use `zero_division` parameter to control this behavior.\n",
      "  _warn_prf(average, modifier, msg_start, len(result))\n",
      "/home/matthias/.cache/pypoetry/virtualenvs/sociodemographic-softlabels-Sh-apy0E-py3.7/lib/python3.7/site-packages/sklearn/metrics/_classification.py:1318: UndefinedMetricWarning: Precision is ill-defined and being set to 0.0 in labels with no predicted samples. Use `zero_division` parameter to control this behavior.\n",
      "  _warn_prf(average, modifier, msg_start, len(result))\n",
      "/home/matthias/.cache/pypoetry/virtualenvs/sociodemographic-softlabels-Sh-apy0E-py3.7/lib/python3.7/site-packages/sklearn/metrics/_classification.py:1318: UndefinedMetricWarning: Precision is ill-defined and being set to 0.0 in labels with no predicted samples. Use `zero_division` parameter to control this behavior.\n",
      "  _warn_prf(average, modifier, msg_start, len(result))\n",
      "/home/matthias/.cache/pypoetry/virtualenvs/sociodemographic-softlabels-Sh-apy0E-py3.7/lib/python3.7/site-packages/sklearn/metrics/_classification.py:1318: UndefinedMetricWarning: Precision is ill-defined and being set to 0.0 in labels with no predicted samples. Use `zero_division` parameter to control this behavior.\n",
      "  _warn_prf(average, modifier, msg_start, len(result))\n",
      "/home/matthias/.cache/pypoetry/virtualenvs/sociodemographic-softlabels-Sh-apy0E-py3.7/lib/python3.7/site-packages/sklearn/metrics/_classification.py:1318: UndefinedMetricWarning: Precision is ill-defined and being set to 0.0 in labels with no predicted samples. Use `zero_division` parameter to control this behavior.\n",
      "  _warn_prf(average, modifier, msg_start, len(result))\n",
      "/home/matthias/.cache/pypoetry/virtualenvs/sociodemographic-softlabels-Sh-apy0E-py3.7/lib/python3.7/site-packages/sklearn/metrics/_classification.py:1318: UndefinedMetricWarning: Precision is ill-defined and being set to 0.0 in labels with no predicted samples. Use `zero_division` parameter to control this behavior.\n",
      "  _warn_prf(average, modifier, msg_start, len(result))\n",
      "/home/matthias/.cache/pypoetry/virtualenvs/sociodemographic-softlabels-Sh-apy0E-py3.7/lib/python3.7/site-packages/sklearn/metrics/_classification.py:1318: UndefinedMetricWarning: Precision is ill-defined and being set to 0.0 in labels with no predicted samples. Use `zero_division` parameter to control this behavior.\n",
      "  _warn_prf(average, modifier, msg_start, len(result))\n",
      "bootstrap:  31%|█████████                    | 313/1000 [00:03<00:07, 92.60it/s]/home/matthias/.cache/pypoetry/virtualenvs/sociodemographic-softlabels-Sh-apy0E-py3.7/lib/python3.7/site-packages/sklearn/metrics/_classification.py:1318: UndefinedMetricWarning: Precision is ill-defined and being set to 0.0 in labels with no predicted samples. Use `zero_division` parameter to control this behavior.\n",
      "  _warn_prf(average, modifier, msg_start, len(result))\n",
      "/home/matthias/.cache/pypoetry/virtualenvs/sociodemographic-softlabels-Sh-apy0E-py3.7/lib/python3.7/site-packages/sklearn/metrics/_classification.py:1318: UndefinedMetricWarning: Precision is ill-defined and being set to 0.0 in labels with no predicted samples. Use `zero_division` parameter to control this behavior.\n",
      "  _warn_prf(average, modifier, msg_start, len(result))\n",
      "/home/matthias/.cache/pypoetry/virtualenvs/sociodemographic-softlabels-Sh-apy0E-py3.7/lib/python3.7/site-packages/sklearn/metrics/_classification.py:1318: UndefinedMetricWarning: Precision is ill-defined and being set to 0.0 in labels with no predicted samples. Use `zero_division` parameter to control this behavior.\n",
      "  _warn_prf(average, modifier, msg_start, len(result))\n",
      "/home/matthias/.cache/pypoetry/virtualenvs/sociodemographic-softlabels-Sh-apy0E-py3.7/lib/python3.7/site-packages/sklearn/metrics/_classification.py:1318: UndefinedMetricWarning: Precision is ill-defined and being set to 0.0 in labels with no predicted samples. Use `zero_division` parameter to control this behavior.\n",
      "  _warn_prf(average, modifier, msg_start, len(result))\n",
      "/home/matthias/.cache/pypoetry/virtualenvs/sociodemographic-softlabels-Sh-apy0E-py3.7/lib/python3.7/site-packages/sklearn/metrics/_classification.py:1318: UndefinedMetricWarning: Precision is ill-defined and being set to 0.0 in labels with no predicted samples. Use `zero_division` parameter to control this behavior.\n",
      "  _warn_prf(average, modifier, msg_start, len(result))\n",
      "/home/matthias/.cache/pypoetry/virtualenvs/sociodemographic-softlabels-Sh-apy0E-py3.7/lib/python3.7/site-packages/sklearn/metrics/_classification.py:1318: UndefinedMetricWarning: Precision is ill-defined and being set to 0.0 in labels with no predicted samples. Use `zero_division` parameter to control this behavior.\n",
      "  _warn_prf(average, modifier, msg_start, len(result))\n",
      "bootstrap:  32%|█████████▎                   | 323/1000 [00:03<00:07, 91.09it/s]/home/matthias/.cache/pypoetry/virtualenvs/sociodemographic-softlabels-Sh-apy0E-py3.7/lib/python3.7/site-packages/sklearn/metrics/_classification.py:1318: UndefinedMetricWarning: Precision is ill-defined and being set to 0.0 in labels with no predicted samples. Use `zero_division` parameter to control this behavior.\n",
      "  _warn_prf(average, modifier, msg_start, len(result))\n",
      "/home/matthias/.cache/pypoetry/virtualenvs/sociodemographic-softlabels-Sh-apy0E-py3.7/lib/python3.7/site-packages/sklearn/metrics/_classification.py:1318: UndefinedMetricWarning: Precision is ill-defined and being set to 0.0 in labels with no predicted samples. Use `zero_division` parameter to control this behavior.\n",
      "  _warn_prf(average, modifier, msg_start, len(result))\n",
      "/home/matthias/.cache/pypoetry/virtualenvs/sociodemographic-softlabels-Sh-apy0E-py3.7/lib/python3.7/site-packages/sklearn/metrics/_classification.py:1318: UndefinedMetricWarning: Precision is ill-defined and being set to 0.0 in labels with no predicted samples. Use `zero_division` parameter to control this behavior.\n",
      "  _warn_prf(average, modifier, msg_start, len(result))\n",
      "/home/matthias/.cache/pypoetry/virtualenvs/sociodemographic-softlabels-Sh-apy0E-py3.7/lib/python3.7/site-packages/sklearn/metrics/_classification.py:1318: UndefinedMetricWarning: Precision is ill-defined and being set to 0.0 in labels with no predicted samples. Use `zero_division` parameter to control this behavior.\n",
      "  _warn_prf(average, modifier, msg_start, len(result))\n",
      "/home/matthias/.cache/pypoetry/virtualenvs/sociodemographic-softlabels-Sh-apy0E-py3.7/lib/python3.7/site-packages/sklearn/metrics/_classification.py:1318: UndefinedMetricWarning: Precision is ill-defined and being set to 0.0 in labels with no predicted samples. Use `zero_division` parameter to control this behavior.\n",
      "  _warn_prf(average, modifier, msg_start, len(result))\n",
      "bootstrap:  33%|█████████▋                   | 333/1000 [00:03<00:07, 90.95it/s]/home/matthias/.cache/pypoetry/virtualenvs/sociodemographic-softlabels-Sh-apy0E-py3.7/lib/python3.7/site-packages/sklearn/metrics/_classification.py:1318: UndefinedMetricWarning: Precision is ill-defined and being set to 0.0 in labels with no predicted samples. Use `zero_division` parameter to control this behavior.\n",
      "  _warn_prf(average, modifier, msg_start, len(result))\n",
      "/home/matthias/.cache/pypoetry/virtualenvs/sociodemographic-softlabels-Sh-apy0E-py3.7/lib/python3.7/site-packages/sklearn/metrics/_classification.py:1318: UndefinedMetricWarning: Precision is ill-defined and being set to 0.0 in labels with no predicted samples. Use `zero_division` parameter to control this behavior.\n",
      "  _warn_prf(average, modifier, msg_start, len(result))\n",
      "/home/matthias/.cache/pypoetry/virtualenvs/sociodemographic-softlabels-Sh-apy0E-py3.7/lib/python3.7/site-packages/sklearn/metrics/_classification.py:1318: UndefinedMetricWarning: Precision is ill-defined and being set to 0.0 in labels with no predicted samples. Use `zero_division` parameter to control this behavior.\n",
      "  _warn_prf(average, modifier, msg_start, len(result))\n",
      "/home/matthias/.cache/pypoetry/virtualenvs/sociodemographic-softlabels-Sh-apy0E-py3.7/lib/python3.7/site-packages/sklearn/metrics/_classification.py:1318: UndefinedMetricWarning: Precision is ill-defined and being set to 0.0 in labels with no predicted samples. Use `zero_division` parameter to control this behavior.\n",
      "  _warn_prf(average, modifier, msg_start, len(result))\n",
      "/home/matthias/.cache/pypoetry/virtualenvs/sociodemographic-softlabels-Sh-apy0E-py3.7/lib/python3.7/site-packages/sklearn/metrics/_classification.py:1318: UndefinedMetricWarning: Precision is ill-defined and being set to 0.0 in labels with no predicted samples. Use `zero_division` parameter to control this behavior.\n",
      "  _warn_prf(average, modifier, msg_start, len(result))\n",
      "/home/matthias/.cache/pypoetry/virtualenvs/sociodemographic-softlabels-Sh-apy0E-py3.7/lib/python3.7/site-packages/sklearn/metrics/_classification.py:1318: UndefinedMetricWarning: Precision is ill-defined and being set to 0.0 in labels with no predicted samples. Use `zero_division` parameter to control this behavior.\n",
      "  _warn_prf(average, modifier, msg_start, len(result))\n",
      "/home/matthias/.cache/pypoetry/virtualenvs/sociodemographic-softlabels-Sh-apy0E-py3.7/lib/python3.7/site-packages/sklearn/metrics/_classification.py:1318: UndefinedMetricWarning: Precision is ill-defined and being set to 0.0 in labels with no predicted samples. Use `zero_division` parameter to control this behavior.\n",
      "  _warn_prf(average, modifier, msg_start, len(result))\n",
      "bootstrap:  34%|█████████▉                   | 343/1000 [00:03<00:07, 85.38it/s]/home/matthias/.cache/pypoetry/virtualenvs/sociodemographic-softlabels-Sh-apy0E-py3.7/lib/python3.7/site-packages/sklearn/metrics/_classification.py:1318: UndefinedMetricWarning: Precision is ill-defined and being set to 0.0 in labels with no predicted samples. Use `zero_division` parameter to control this behavior.\n",
      "  _warn_prf(average, modifier, msg_start, len(result))\n",
      "/home/matthias/.cache/pypoetry/virtualenvs/sociodemographic-softlabels-Sh-apy0E-py3.7/lib/python3.7/site-packages/sklearn/metrics/_classification.py:1318: UndefinedMetricWarning: Precision is ill-defined and being set to 0.0 in labels with no predicted samples. Use `zero_division` parameter to control this behavior.\n",
      "  _warn_prf(average, modifier, msg_start, len(result))\n",
      "/home/matthias/.cache/pypoetry/virtualenvs/sociodemographic-softlabels-Sh-apy0E-py3.7/lib/python3.7/site-packages/sklearn/metrics/_classification.py:1318: UndefinedMetricWarning: Precision is ill-defined and being set to 0.0 in labels with no predicted samples. Use `zero_division` parameter to control this behavior.\n",
      "  _warn_prf(average, modifier, msg_start, len(result))\n",
      "/home/matthias/.cache/pypoetry/virtualenvs/sociodemographic-softlabels-Sh-apy0E-py3.7/lib/python3.7/site-packages/sklearn/metrics/_classification.py:1318: UndefinedMetricWarning: Precision is ill-defined and being set to 0.0 in labels with no predicted samples. Use `zero_division` parameter to control this behavior.\n",
      "  _warn_prf(average, modifier, msg_start, len(result))\n",
      "/home/matthias/.cache/pypoetry/virtualenvs/sociodemographic-softlabels-Sh-apy0E-py3.7/lib/python3.7/site-packages/sklearn/metrics/_classification.py:1318: UndefinedMetricWarning: Precision is ill-defined and being set to 0.0 in labels with no predicted samples. Use `zero_division` parameter to control this behavior.\n",
      "  _warn_prf(average, modifier, msg_start, len(result))\n",
      "/home/matthias/.cache/pypoetry/virtualenvs/sociodemographic-softlabels-Sh-apy0E-py3.7/lib/python3.7/site-packages/sklearn/metrics/_classification.py:1318: UndefinedMetricWarning: Precision is ill-defined and being set to 0.0 in labels with no predicted samples. Use `zero_division` parameter to control this behavior.\n",
      "  _warn_prf(average, modifier, msg_start, len(result))\n",
      "bootstrap:  35%|██████████▏                  | 352/1000 [00:03<00:07, 84.31it/s]/home/matthias/.cache/pypoetry/virtualenvs/sociodemographic-softlabels-Sh-apy0E-py3.7/lib/python3.7/site-packages/sklearn/metrics/_classification.py:1318: UndefinedMetricWarning: Precision is ill-defined and being set to 0.0 in labels with no predicted samples. Use `zero_division` parameter to control this behavior.\n",
      "  _warn_prf(average, modifier, msg_start, len(result))\n",
      "/home/matthias/.cache/pypoetry/virtualenvs/sociodemographic-softlabels-Sh-apy0E-py3.7/lib/python3.7/site-packages/sklearn/metrics/_classification.py:1318: UndefinedMetricWarning: Precision is ill-defined and being set to 0.0 in labels with no predicted samples. Use `zero_division` parameter to control this behavior.\n",
      "  _warn_prf(average, modifier, msg_start, len(result))\n",
      "/home/matthias/.cache/pypoetry/virtualenvs/sociodemographic-softlabels-Sh-apy0E-py3.7/lib/python3.7/site-packages/sklearn/metrics/_classification.py:1318: UndefinedMetricWarning: Precision is ill-defined and being set to 0.0 in labels with no predicted samples. Use `zero_division` parameter to control this behavior.\n",
      "  _warn_prf(average, modifier, msg_start, len(result))\n",
      "/home/matthias/.cache/pypoetry/virtualenvs/sociodemographic-softlabels-Sh-apy0E-py3.7/lib/python3.7/site-packages/sklearn/metrics/_classification.py:1318: UndefinedMetricWarning: Precision is ill-defined and being set to 0.0 in labels with no predicted samples. Use `zero_division` parameter to control this behavior.\n",
      "  _warn_prf(average, modifier, msg_start, len(result))\n",
      "/home/matthias/.cache/pypoetry/virtualenvs/sociodemographic-softlabels-Sh-apy0E-py3.7/lib/python3.7/site-packages/sklearn/metrics/_classification.py:1318: UndefinedMetricWarning: Precision is ill-defined and being set to 0.0 in labels with no predicted samples. Use `zero_division` parameter to control this behavior.\n",
      "  _warn_prf(average, modifier, msg_start, len(result))\n",
      "/home/matthias/.cache/pypoetry/virtualenvs/sociodemographic-softlabels-Sh-apy0E-py3.7/lib/python3.7/site-packages/sklearn/metrics/_classification.py:1318: UndefinedMetricWarning: Precision is ill-defined and being set to 0.0 in labels with no predicted samples. Use `zero_division` parameter to control this behavior.\n",
      "  _warn_prf(average, modifier, msg_start, len(result))\n",
      "/home/matthias/.cache/pypoetry/virtualenvs/sociodemographic-softlabels-Sh-apy0E-py3.7/lib/python3.7/site-packages/sklearn/metrics/_classification.py:1318: UndefinedMetricWarning: Precision is ill-defined and being set to 0.0 in labels with no predicted samples. Use `zero_division` parameter to control this behavior.\n",
      "  _warn_prf(average, modifier, msg_start, len(result))\n",
      "bootstrap:  36%|██████████▌                  | 363/1000 [00:04<00:07, 88.42it/s]/home/matthias/.cache/pypoetry/virtualenvs/sociodemographic-softlabels-Sh-apy0E-py3.7/lib/python3.7/site-packages/sklearn/metrics/_classification.py:1318: UndefinedMetricWarning: Precision is ill-defined and being set to 0.0 in labels with no predicted samples. Use `zero_division` parameter to control this behavior.\n",
      "  _warn_prf(average, modifier, msg_start, len(result))\n",
      "/home/matthias/.cache/pypoetry/virtualenvs/sociodemographic-softlabels-Sh-apy0E-py3.7/lib/python3.7/site-packages/sklearn/metrics/_classification.py:1318: UndefinedMetricWarning: Precision is ill-defined and being set to 0.0 in labels with no predicted samples. Use `zero_division` parameter to control this behavior.\n",
      "  _warn_prf(average, modifier, msg_start, len(result))\n",
      "/home/matthias/.cache/pypoetry/virtualenvs/sociodemographic-softlabels-Sh-apy0E-py3.7/lib/python3.7/site-packages/sklearn/metrics/_classification.py:1318: UndefinedMetricWarning: Precision is ill-defined and being set to 0.0 in labels with no predicted samples. Use `zero_division` parameter to control this behavior.\n",
      "  _warn_prf(average, modifier, msg_start, len(result))\n",
      "/home/matthias/.cache/pypoetry/virtualenvs/sociodemographic-softlabels-Sh-apy0E-py3.7/lib/python3.7/site-packages/sklearn/metrics/_classification.py:1318: UndefinedMetricWarning: Precision is ill-defined and being set to 0.0 in labels with no predicted samples. Use `zero_division` parameter to control this behavior.\n",
      "  _warn_prf(average, modifier, msg_start, len(result))\n",
      "/home/matthias/.cache/pypoetry/virtualenvs/sociodemographic-softlabels-Sh-apy0E-py3.7/lib/python3.7/site-packages/sklearn/metrics/_classification.py:1318: UndefinedMetricWarning: Precision is ill-defined and being set to 0.0 in labels with no predicted samples. Use `zero_division` parameter to control this behavior.\n",
      "  _warn_prf(average, modifier, msg_start, len(result))\n",
      "bootstrap:  37%|██████████▊                  | 372/1000 [00:04<00:07, 83.34it/s]/home/matthias/.cache/pypoetry/virtualenvs/sociodemographic-softlabels-Sh-apy0E-py3.7/lib/python3.7/site-packages/sklearn/metrics/_classification.py:1318: UndefinedMetricWarning: Precision is ill-defined and being set to 0.0 in labels with no predicted samples. Use `zero_division` parameter to control this behavior.\n",
      "  _warn_prf(average, modifier, msg_start, len(result))\n",
      "/home/matthias/.cache/pypoetry/virtualenvs/sociodemographic-softlabels-Sh-apy0E-py3.7/lib/python3.7/site-packages/sklearn/metrics/_classification.py:1318: UndefinedMetricWarning: Precision is ill-defined and being set to 0.0 in labels with no predicted samples. Use `zero_division` parameter to control this behavior.\n",
      "  _warn_prf(average, modifier, msg_start, len(result))\n",
      "/home/matthias/.cache/pypoetry/virtualenvs/sociodemographic-softlabels-Sh-apy0E-py3.7/lib/python3.7/site-packages/sklearn/metrics/_classification.py:1318: UndefinedMetricWarning: Precision is ill-defined and being set to 0.0 in labels with no predicted samples. Use `zero_division` parameter to control this behavior.\n",
      "  _warn_prf(average, modifier, msg_start, len(result))\n",
      "/home/matthias/.cache/pypoetry/virtualenvs/sociodemographic-softlabels-Sh-apy0E-py3.7/lib/python3.7/site-packages/sklearn/metrics/_classification.py:1318: UndefinedMetricWarning: Precision is ill-defined and being set to 0.0 in labels with no predicted samples. Use `zero_division` parameter to control this behavior.\n",
      "  _warn_prf(average, modifier, msg_start, len(result))\n",
      "/home/matthias/.cache/pypoetry/virtualenvs/sociodemographic-softlabels-Sh-apy0E-py3.7/lib/python3.7/site-packages/sklearn/metrics/_classification.py:1318: UndefinedMetricWarning: Precision is ill-defined and being set to 0.0 in labels with no predicted samples. Use `zero_division` parameter to control this behavior.\n",
      "  _warn_prf(average, modifier, msg_start, len(result))\n",
      "/home/matthias/.cache/pypoetry/virtualenvs/sociodemographic-softlabels-Sh-apy0E-py3.7/lib/python3.7/site-packages/sklearn/metrics/_classification.py:1318: UndefinedMetricWarning: Precision is ill-defined and being set to 0.0 in labels with no predicted samples. Use `zero_division` parameter to control this behavior.\n",
      "  _warn_prf(average, modifier, msg_start, len(result))\n",
      "/home/matthias/.cache/pypoetry/virtualenvs/sociodemographic-softlabels-Sh-apy0E-py3.7/lib/python3.7/site-packages/sklearn/metrics/_classification.py:1318: UndefinedMetricWarning: Precision is ill-defined and being set to 0.0 in labels with no predicted samples. Use `zero_division` parameter to control this behavior.\n",
      "  _warn_prf(average, modifier, msg_start, len(result))\n",
      "/home/matthias/.cache/pypoetry/virtualenvs/sociodemographic-softlabels-Sh-apy0E-py3.7/lib/python3.7/site-packages/sklearn/metrics/_classification.py:1318: UndefinedMetricWarning: Precision is ill-defined and being set to 0.0 in labels with no predicted samples. Use `zero_division` parameter to control this behavior.\n",
      "  _warn_prf(average, modifier, msg_start, len(result))\n",
      "bootstrap:  38%|███████████                  | 381/1000 [00:04<00:07, 77.60it/s]/home/matthias/.cache/pypoetry/virtualenvs/sociodemographic-softlabels-Sh-apy0E-py3.7/lib/python3.7/site-packages/sklearn/metrics/_classification.py:1318: UndefinedMetricWarning: Precision is ill-defined and being set to 0.0 in labels with no predicted samples. Use `zero_division` parameter to control this behavior.\n",
      "  _warn_prf(average, modifier, msg_start, len(result))\n",
      "/home/matthias/.cache/pypoetry/virtualenvs/sociodemographic-softlabels-Sh-apy0E-py3.7/lib/python3.7/site-packages/sklearn/metrics/_classification.py:1318: UndefinedMetricWarning: Precision is ill-defined and being set to 0.0 in labels with no predicted samples. Use `zero_division` parameter to control this behavior.\n",
      "  _warn_prf(average, modifier, msg_start, len(result))\n",
      "/home/matthias/.cache/pypoetry/virtualenvs/sociodemographic-softlabels-Sh-apy0E-py3.7/lib/python3.7/site-packages/sklearn/metrics/_classification.py:1318: UndefinedMetricWarning: Precision is ill-defined and being set to 0.0 in labels with no predicted samples. Use `zero_division` parameter to control this behavior.\n",
      "  _warn_prf(average, modifier, msg_start, len(result))\n",
      "bootstrap:  39%|███████████▎                 | 390/1000 [00:04<00:07, 77.81it/s]/home/matthias/.cache/pypoetry/virtualenvs/sociodemographic-softlabels-Sh-apy0E-py3.7/lib/python3.7/site-packages/sklearn/metrics/_classification.py:1318: UndefinedMetricWarning: Precision is ill-defined and being set to 0.0 in labels with no predicted samples. Use `zero_division` parameter to control this behavior.\n",
      "  _warn_prf(average, modifier, msg_start, len(result))\n",
      "/home/matthias/.cache/pypoetry/virtualenvs/sociodemographic-softlabels-Sh-apy0E-py3.7/lib/python3.7/site-packages/sklearn/metrics/_classification.py:1318: UndefinedMetricWarning: Precision is ill-defined and being set to 0.0 in labels with no predicted samples. Use `zero_division` parameter to control this behavior.\n",
      "  _warn_prf(average, modifier, msg_start, len(result))\n",
      "/home/matthias/.cache/pypoetry/virtualenvs/sociodemographic-softlabels-Sh-apy0E-py3.7/lib/python3.7/site-packages/sklearn/metrics/_classification.py:1318: UndefinedMetricWarning: Precision is ill-defined and being set to 0.0 in labels with no predicted samples. Use `zero_division` parameter to control this behavior.\n",
      "  _warn_prf(average, modifier, msg_start, len(result))\n",
      "/home/matthias/.cache/pypoetry/virtualenvs/sociodemographic-softlabels-Sh-apy0E-py3.7/lib/python3.7/site-packages/sklearn/metrics/_classification.py:1318: UndefinedMetricWarning: Precision is ill-defined and being set to 0.0 in labels with no predicted samples. Use `zero_division` parameter to control this behavior.\n",
      "  _warn_prf(average, modifier, msg_start, len(result))\n",
      "/home/matthias/.cache/pypoetry/virtualenvs/sociodemographic-softlabels-Sh-apy0E-py3.7/lib/python3.7/site-packages/sklearn/metrics/_classification.py:1318: UndefinedMetricWarning: Precision is ill-defined and being set to 0.0 in labels with no predicted samples. Use `zero_division` parameter to control this behavior.\n",
      "  _warn_prf(average, modifier, msg_start, len(result))\n",
      "bootstrap:  40%|███████████▌                 | 398/1000 [00:04<00:08, 69.78it/s]/home/matthias/.cache/pypoetry/virtualenvs/sociodemographic-softlabels-Sh-apy0E-py3.7/lib/python3.7/site-packages/sklearn/metrics/_classification.py:1318: UndefinedMetricWarning: Precision is ill-defined and being set to 0.0 in labels with no predicted samples. Use `zero_division` parameter to control this behavior.\n",
      "  _warn_prf(average, modifier, msg_start, len(result))\n",
      "/home/matthias/.cache/pypoetry/virtualenvs/sociodemographic-softlabels-Sh-apy0E-py3.7/lib/python3.7/site-packages/sklearn/metrics/_classification.py:1318: UndefinedMetricWarning: Precision is ill-defined and being set to 0.0 in labels with no predicted samples. Use `zero_division` parameter to control this behavior.\n",
      "  _warn_prf(average, modifier, msg_start, len(result))\n",
      "/home/matthias/.cache/pypoetry/virtualenvs/sociodemographic-softlabels-Sh-apy0E-py3.7/lib/python3.7/site-packages/sklearn/metrics/_classification.py:1318: UndefinedMetricWarning: Precision is ill-defined and being set to 0.0 in labels with no predicted samples. Use `zero_division` parameter to control this behavior.\n",
      "  _warn_prf(average, modifier, msg_start, len(result))\n",
      "/home/matthias/.cache/pypoetry/virtualenvs/sociodemographic-softlabels-Sh-apy0E-py3.7/lib/python3.7/site-packages/sklearn/metrics/_classification.py:1318: UndefinedMetricWarning: Precision is ill-defined and being set to 0.0 in labels with no predicted samples. Use `zero_division` parameter to control this behavior.\n",
      "  _warn_prf(average, modifier, msg_start, len(result))\n",
      "/home/matthias/.cache/pypoetry/virtualenvs/sociodemographic-softlabels-Sh-apy0E-py3.7/lib/python3.7/site-packages/sklearn/metrics/_classification.py:1318: UndefinedMetricWarning: Precision is ill-defined and being set to 0.0 in labels with no predicted samples. Use `zero_division` parameter to control this behavior.\n",
      "  _warn_prf(average, modifier, msg_start, len(result))\n",
      "bootstrap:  41%|███████████▊                 | 407/1000 [00:04<00:08, 72.08it/s]/home/matthias/.cache/pypoetry/virtualenvs/sociodemographic-softlabels-Sh-apy0E-py3.7/lib/python3.7/site-packages/sklearn/metrics/_classification.py:1318: UndefinedMetricWarning: Precision is ill-defined and being set to 0.0 in labels with no predicted samples. Use `zero_division` parameter to control this behavior.\n",
      "  _warn_prf(average, modifier, msg_start, len(result))\n",
      "/home/matthias/.cache/pypoetry/virtualenvs/sociodemographic-softlabels-Sh-apy0E-py3.7/lib/python3.7/site-packages/sklearn/metrics/_classification.py:1318: UndefinedMetricWarning: Precision is ill-defined and being set to 0.0 in labels with no predicted samples. Use `zero_division` parameter to control this behavior.\n",
      "  _warn_prf(average, modifier, msg_start, len(result))\n",
      "bootstrap:  42%|████████████                 | 415/1000 [00:04<00:07, 73.96it/s]/home/matthias/.cache/pypoetry/virtualenvs/sociodemographic-softlabels-Sh-apy0E-py3.7/lib/python3.7/site-packages/sklearn/metrics/_classification.py:1318: UndefinedMetricWarning: Precision is ill-defined and being set to 0.0 in labels with no predicted samples. Use `zero_division` parameter to control this behavior.\n",
      "  _warn_prf(average, modifier, msg_start, len(result))\n",
      "/home/matthias/.cache/pypoetry/virtualenvs/sociodemographic-softlabels-Sh-apy0E-py3.7/lib/python3.7/site-packages/sklearn/metrics/_classification.py:1318: UndefinedMetricWarning: Precision is ill-defined and being set to 0.0 in labels with no predicted samples. Use `zero_division` parameter to control this behavior.\n",
      "  _warn_prf(average, modifier, msg_start, len(result))\n",
      "bootstrap:  42%|████████████▎                | 425/1000 [00:04<00:07, 79.23it/s]/home/matthias/.cache/pypoetry/virtualenvs/sociodemographic-softlabels-Sh-apy0E-py3.7/lib/python3.7/site-packages/sklearn/metrics/_classification.py:1318: UndefinedMetricWarning: Precision is ill-defined and being set to 0.0 in labels with no predicted samples. Use `zero_division` parameter to control this behavior.\n",
      "  _warn_prf(average, modifier, msg_start, len(result))\n",
      "/home/matthias/.cache/pypoetry/virtualenvs/sociodemographic-softlabels-Sh-apy0E-py3.7/lib/python3.7/site-packages/sklearn/metrics/_classification.py:1318: UndefinedMetricWarning: Precision is ill-defined and being set to 0.0 in labels with no predicted samples. Use `zero_division` parameter to control this behavior.\n",
      "  _warn_prf(average, modifier, msg_start, len(result))\n",
      "/home/matthias/.cache/pypoetry/virtualenvs/sociodemographic-softlabels-Sh-apy0E-py3.7/lib/python3.7/site-packages/sklearn/metrics/_classification.py:1318: UndefinedMetricWarning: Precision is ill-defined and being set to 0.0 in labels with no predicted samples. Use `zero_division` parameter to control this behavior.\n",
      "  _warn_prf(average, modifier, msg_start, len(result))\n",
      "/home/matthias/.cache/pypoetry/virtualenvs/sociodemographic-softlabels-Sh-apy0E-py3.7/lib/python3.7/site-packages/sklearn/metrics/_classification.py:1318: UndefinedMetricWarning: Precision is ill-defined and being set to 0.0 in labels with no predicted samples. Use `zero_division` parameter to control this behavior.\n",
      "  _warn_prf(average, modifier, msg_start, len(result))\n",
      "bootstrap:  43%|████████████▌                | 434/1000 [00:04<00:07, 79.75it/s]/home/matthias/.cache/pypoetry/virtualenvs/sociodemographic-softlabels-Sh-apy0E-py3.7/lib/python3.7/site-packages/sklearn/metrics/_classification.py:1318: UndefinedMetricWarning: Precision is ill-defined and being set to 0.0 in labels with no predicted samples. Use `zero_division` parameter to control this behavior.\n",
      "  _warn_prf(average, modifier, msg_start, len(result))\n",
      "/home/matthias/.cache/pypoetry/virtualenvs/sociodemographic-softlabels-Sh-apy0E-py3.7/lib/python3.7/site-packages/sklearn/metrics/_classification.py:1318: UndefinedMetricWarning: Precision is ill-defined and being set to 0.0 in labels with no predicted samples. Use `zero_division` parameter to control this behavior.\n",
      "  _warn_prf(average, modifier, msg_start, len(result))\n",
      "/home/matthias/.cache/pypoetry/virtualenvs/sociodemographic-softlabels-Sh-apy0E-py3.7/lib/python3.7/site-packages/sklearn/metrics/_classification.py:1318: UndefinedMetricWarning: Precision is ill-defined and being set to 0.0 in labels with no predicted samples. Use `zero_division` parameter to control this behavior.\n",
      "  _warn_prf(average, modifier, msg_start, len(result))\n",
      "/home/matthias/.cache/pypoetry/virtualenvs/sociodemographic-softlabels-Sh-apy0E-py3.7/lib/python3.7/site-packages/sklearn/metrics/_classification.py:1318: UndefinedMetricWarning: Precision is ill-defined and being set to 0.0 in labels with no predicted samples. Use `zero_division` parameter to control this behavior.\n",
      "  _warn_prf(average, modifier, msg_start, len(result))\n",
      "/home/matthias/.cache/pypoetry/virtualenvs/sociodemographic-softlabels-Sh-apy0E-py3.7/lib/python3.7/site-packages/sklearn/metrics/_classification.py:1318: UndefinedMetricWarning: Precision is ill-defined and being set to 0.0 in labels with no predicted samples. Use `zero_division` parameter to control this behavior.\n",
      "  _warn_prf(average, modifier, msg_start, len(result))\n",
      "/home/matthias/.cache/pypoetry/virtualenvs/sociodemographic-softlabels-Sh-apy0E-py3.7/lib/python3.7/site-packages/sklearn/metrics/_classification.py:1318: UndefinedMetricWarning: Precision is ill-defined and being set to 0.0 in labels with no predicted samples. Use `zero_division` parameter to control this behavior.\n",
      "  _warn_prf(average, modifier, msg_start, len(result))\n",
      "/home/matthias/.cache/pypoetry/virtualenvs/sociodemographic-softlabels-Sh-apy0E-py3.7/lib/python3.7/site-packages/sklearn/metrics/_classification.py:1318: UndefinedMetricWarning: Precision is ill-defined and being set to 0.0 in labels with no predicted samples. Use `zero_division` parameter to control this behavior.\n",
      "  _warn_prf(average, modifier, msg_start, len(result))\n",
      "bootstrap:  45%|████████████▉                | 446/1000 [00:05<00:06, 89.36it/s]/home/matthias/.cache/pypoetry/virtualenvs/sociodemographic-softlabels-Sh-apy0E-py3.7/lib/python3.7/site-packages/sklearn/metrics/_classification.py:1318: UndefinedMetricWarning: Precision is ill-defined and being set to 0.0 in labels with no predicted samples. Use `zero_division` parameter to control this behavior.\n",
      "  _warn_prf(average, modifier, msg_start, len(result))\n",
      "/home/matthias/.cache/pypoetry/virtualenvs/sociodemographic-softlabels-Sh-apy0E-py3.7/lib/python3.7/site-packages/sklearn/metrics/_classification.py:1318: UndefinedMetricWarning: Precision is ill-defined and being set to 0.0 in labels with no predicted samples. Use `zero_division` parameter to control this behavior.\n",
      "  _warn_prf(average, modifier, msg_start, len(result))\n",
      "/home/matthias/.cache/pypoetry/virtualenvs/sociodemographic-softlabels-Sh-apy0E-py3.7/lib/python3.7/site-packages/sklearn/metrics/_classification.py:1318: UndefinedMetricWarning: Precision is ill-defined and being set to 0.0 in labels with no predicted samples. Use `zero_division` parameter to control this behavior.\n",
      "  _warn_prf(average, modifier, msg_start, len(result))\n",
      "/home/matthias/.cache/pypoetry/virtualenvs/sociodemographic-softlabels-Sh-apy0E-py3.7/lib/python3.7/site-packages/sklearn/metrics/_classification.py:1318: UndefinedMetricWarning: Precision is ill-defined and being set to 0.0 in labels with no predicted samples. Use `zero_division` parameter to control this behavior.\n",
      "  _warn_prf(average, modifier, msg_start, len(result))\n",
      "/home/matthias/.cache/pypoetry/virtualenvs/sociodemographic-softlabels-Sh-apy0E-py3.7/lib/python3.7/site-packages/sklearn/metrics/_classification.py:1318: UndefinedMetricWarning: Precision is ill-defined and being set to 0.0 in labels with no predicted samples. Use `zero_division` parameter to control this behavior.\n",
      "  _warn_prf(average, modifier, msg_start, len(result))\n",
      "/home/matthias/.cache/pypoetry/virtualenvs/sociodemographic-softlabels-Sh-apy0E-py3.7/lib/python3.7/site-packages/sklearn/metrics/_classification.py:1318: UndefinedMetricWarning: Precision is ill-defined and being set to 0.0 in labels with no predicted samples. Use `zero_division` parameter to control this behavior.\n",
      "  _warn_prf(average, modifier, msg_start, len(result))\n",
      "bootstrap:  46%|█████████████▏               | 456/1000 [00:05<00:06, 84.34it/s]/home/matthias/.cache/pypoetry/virtualenvs/sociodemographic-softlabels-Sh-apy0E-py3.7/lib/python3.7/site-packages/sklearn/metrics/_classification.py:1318: UndefinedMetricWarning: Precision is ill-defined and being set to 0.0 in labels with no predicted samples. Use `zero_division` parameter to control this behavior.\n",
      "  _warn_prf(average, modifier, msg_start, len(result))\n",
      "/home/matthias/.cache/pypoetry/virtualenvs/sociodemographic-softlabels-Sh-apy0E-py3.7/lib/python3.7/site-packages/sklearn/metrics/_classification.py:1318: UndefinedMetricWarning: Precision is ill-defined and being set to 0.0 in labels with no predicted samples. Use `zero_division` parameter to control this behavior.\n",
      "  _warn_prf(average, modifier, msg_start, len(result))\n",
      "/home/matthias/.cache/pypoetry/virtualenvs/sociodemographic-softlabels-Sh-apy0E-py3.7/lib/python3.7/site-packages/sklearn/metrics/_classification.py:1318: UndefinedMetricWarning: Precision is ill-defined and being set to 0.0 in labels with no predicted samples. Use `zero_division` parameter to control this behavior.\n",
      "  _warn_prf(average, modifier, msg_start, len(result))\n",
      "/home/matthias/.cache/pypoetry/virtualenvs/sociodemographic-softlabels-Sh-apy0E-py3.7/lib/python3.7/site-packages/sklearn/metrics/_classification.py:1318: UndefinedMetricWarning: Precision is ill-defined and being set to 0.0 in labels with no predicted samples. Use `zero_division` parameter to control this behavior.\n",
      "  _warn_prf(average, modifier, msg_start, len(result))\n",
      "/home/matthias/.cache/pypoetry/virtualenvs/sociodemographic-softlabels-Sh-apy0E-py3.7/lib/python3.7/site-packages/sklearn/metrics/_classification.py:1318: UndefinedMetricWarning: Precision is ill-defined and being set to 0.0 in labels with no predicted samples. Use `zero_division` parameter to control this behavior.\n",
      "  _warn_prf(average, modifier, msg_start, len(result))\n",
      "/home/matthias/.cache/pypoetry/virtualenvs/sociodemographic-softlabels-Sh-apy0E-py3.7/lib/python3.7/site-packages/sklearn/metrics/_classification.py:1318: UndefinedMetricWarning: Precision is ill-defined and being set to 0.0 in labels with no predicted samples. Use `zero_division` parameter to control this behavior.\n",
      "  _warn_prf(average, modifier, msg_start, len(result))\n",
      "bootstrap:  47%|█████████████▌               | 466/1000 [00:05<00:06, 87.22it/s]/home/matthias/.cache/pypoetry/virtualenvs/sociodemographic-softlabels-Sh-apy0E-py3.7/lib/python3.7/site-packages/sklearn/metrics/_classification.py:1318: UndefinedMetricWarning: Precision is ill-defined and being set to 0.0 in labels with no predicted samples. Use `zero_division` parameter to control this behavior.\n",
      "  _warn_prf(average, modifier, msg_start, len(result))\n",
      "/home/matthias/.cache/pypoetry/virtualenvs/sociodemographic-softlabels-Sh-apy0E-py3.7/lib/python3.7/site-packages/sklearn/metrics/_classification.py:1318: UndefinedMetricWarning: Precision is ill-defined and being set to 0.0 in labels with no predicted samples. Use `zero_division` parameter to control this behavior.\n",
      "  _warn_prf(average, modifier, msg_start, len(result))\n",
      "/home/matthias/.cache/pypoetry/virtualenvs/sociodemographic-softlabels-Sh-apy0E-py3.7/lib/python3.7/site-packages/sklearn/metrics/_classification.py:1318: UndefinedMetricWarning: Precision is ill-defined and being set to 0.0 in labels with no predicted samples. Use `zero_division` parameter to control this behavior.\n",
      "  _warn_prf(average, modifier, msg_start, len(result))\n",
      "/home/matthias/.cache/pypoetry/virtualenvs/sociodemographic-softlabels-Sh-apy0E-py3.7/lib/python3.7/site-packages/sklearn/metrics/_classification.py:1318: UndefinedMetricWarning: Precision is ill-defined and being set to 0.0 in labels with no predicted samples. Use `zero_division` parameter to control this behavior.\n",
      "  _warn_prf(average, modifier, msg_start, len(result))\n",
      "/home/matthias/.cache/pypoetry/virtualenvs/sociodemographic-softlabels-Sh-apy0E-py3.7/lib/python3.7/site-packages/sklearn/metrics/_classification.py:1318: UndefinedMetricWarning: Precision is ill-defined and being set to 0.0 in labels with no predicted samples. Use `zero_division` parameter to control this behavior.\n",
      "  _warn_prf(average, modifier, msg_start, len(result))\n",
      "/home/matthias/.cache/pypoetry/virtualenvs/sociodemographic-softlabels-Sh-apy0E-py3.7/lib/python3.7/site-packages/sklearn/metrics/_classification.py:1318: UndefinedMetricWarning: Precision is ill-defined and being set to 0.0 in labels with no predicted samples. Use `zero_division` parameter to control this behavior.\n",
      "  _warn_prf(average, modifier, msg_start, len(result))\n",
      "/home/matthias/.cache/pypoetry/virtualenvs/sociodemographic-softlabels-Sh-apy0E-py3.7/lib/python3.7/site-packages/sklearn/metrics/_classification.py:1318: UndefinedMetricWarning: Precision is ill-defined and being set to 0.0 in labels with no predicted samples. Use `zero_division` parameter to control this behavior.\n",
      "  _warn_prf(average, modifier, msg_start, len(result))\n",
      "bootstrap:  48%|█████████████▊               | 477/1000 [00:05<00:05, 91.26it/s]/home/matthias/.cache/pypoetry/virtualenvs/sociodemographic-softlabels-Sh-apy0E-py3.7/lib/python3.7/site-packages/sklearn/metrics/_classification.py:1318: UndefinedMetricWarning: Precision is ill-defined and being set to 0.0 in labels with no predicted samples. Use `zero_division` parameter to control this behavior.\n",
      "  _warn_prf(average, modifier, msg_start, len(result))\n",
      "/home/matthias/.cache/pypoetry/virtualenvs/sociodemographic-softlabels-Sh-apy0E-py3.7/lib/python3.7/site-packages/sklearn/metrics/_classification.py:1318: UndefinedMetricWarning: Precision is ill-defined and being set to 0.0 in labels with no predicted samples. Use `zero_division` parameter to control this behavior.\n",
      "  _warn_prf(average, modifier, msg_start, len(result))\n",
      "/home/matthias/.cache/pypoetry/virtualenvs/sociodemographic-softlabels-Sh-apy0E-py3.7/lib/python3.7/site-packages/sklearn/metrics/_classification.py:1318: UndefinedMetricWarning: Precision is ill-defined and being set to 0.0 in labels with no predicted samples. Use `zero_division` parameter to control this behavior.\n",
      "  _warn_prf(average, modifier, msg_start, len(result))\n",
      "/home/matthias/.cache/pypoetry/virtualenvs/sociodemographic-softlabels-Sh-apy0E-py3.7/lib/python3.7/site-packages/sklearn/metrics/_classification.py:1318: UndefinedMetricWarning: Precision is ill-defined and being set to 0.0 in labels with no predicted samples. Use `zero_division` parameter to control this behavior.\n",
      "  _warn_prf(average, modifier, msg_start, len(result))\n",
      "/home/matthias/.cache/pypoetry/virtualenvs/sociodemographic-softlabels-Sh-apy0E-py3.7/lib/python3.7/site-packages/sklearn/metrics/_classification.py:1318: UndefinedMetricWarning: Precision is ill-defined and being set to 0.0 in labels with no predicted samples. Use `zero_division` parameter to control this behavior.\n",
      "  _warn_prf(average, modifier, msg_start, len(result))\n",
      "bootstrap:  49%|██████████████               | 487/1000 [00:05<00:06, 78.10it/s]/home/matthias/.cache/pypoetry/virtualenvs/sociodemographic-softlabels-Sh-apy0E-py3.7/lib/python3.7/site-packages/sklearn/metrics/_classification.py:1318: UndefinedMetricWarning: Precision is ill-defined and being set to 0.0 in labels with no predicted samples. Use `zero_division` parameter to control this behavior.\n",
      "  _warn_prf(average, modifier, msg_start, len(result))\n",
      "/home/matthias/.cache/pypoetry/virtualenvs/sociodemographic-softlabels-Sh-apy0E-py3.7/lib/python3.7/site-packages/sklearn/metrics/_classification.py:1318: UndefinedMetricWarning: Precision is ill-defined and being set to 0.0 in labels with no predicted samples. Use `zero_division` parameter to control this behavior.\n",
      "  _warn_prf(average, modifier, msg_start, len(result))\n",
      "/home/matthias/.cache/pypoetry/virtualenvs/sociodemographic-softlabels-Sh-apy0E-py3.7/lib/python3.7/site-packages/sklearn/metrics/_classification.py:1318: UndefinedMetricWarning: Precision is ill-defined and being set to 0.0 in labels with no predicted samples. Use `zero_division` parameter to control this behavior.\n",
      "  _warn_prf(average, modifier, msg_start, len(result))\n",
      "/home/matthias/.cache/pypoetry/virtualenvs/sociodemographic-softlabels-Sh-apy0E-py3.7/lib/python3.7/site-packages/sklearn/metrics/_classification.py:1318: UndefinedMetricWarning: Precision is ill-defined and being set to 0.0 in labels with no predicted samples. Use `zero_division` parameter to control this behavior.\n",
      "  _warn_prf(average, modifier, msg_start, len(result))\n",
      "/home/matthias/.cache/pypoetry/virtualenvs/sociodemographic-softlabels-Sh-apy0E-py3.7/lib/python3.7/site-packages/sklearn/metrics/_classification.py:1318: UndefinedMetricWarning: Precision is ill-defined and being set to 0.0 in labels with no predicted samples. Use `zero_division` parameter to control this behavior.\n",
      "  _warn_prf(average, modifier, msg_start, len(result))\n",
      "/home/matthias/.cache/pypoetry/virtualenvs/sociodemographic-softlabels-Sh-apy0E-py3.7/lib/python3.7/site-packages/sklearn/metrics/_classification.py:1318: UndefinedMetricWarning: Precision is ill-defined and being set to 0.0 in labels with no predicted samples. Use `zero_division` parameter to control this behavior.\n",
      "  _warn_prf(average, modifier, msg_start, len(result))\n",
      "bootstrap:  50%|██████████████▍              | 496/1000 [00:05<00:06, 80.35it/s]/home/matthias/.cache/pypoetry/virtualenvs/sociodemographic-softlabels-Sh-apy0E-py3.7/lib/python3.7/site-packages/sklearn/metrics/_classification.py:1318: UndefinedMetricWarning: Precision is ill-defined and being set to 0.0 in labels with no predicted samples. Use `zero_division` parameter to control this behavior.\n",
      "  _warn_prf(average, modifier, msg_start, len(result))\n",
      "/home/matthias/.cache/pypoetry/virtualenvs/sociodemographic-softlabels-Sh-apy0E-py3.7/lib/python3.7/site-packages/sklearn/metrics/_classification.py:1318: UndefinedMetricWarning: Precision is ill-defined and being set to 0.0 in labels with no predicted samples. Use `zero_division` parameter to control this behavior.\n",
      "  _warn_prf(average, modifier, msg_start, len(result))\n",
      "/home/matthias/.cache/pypoetry/virtualenvs/sociodemographic-softlabels-Sh-apy0E-py3.7/lib/python3.7/site-packages/sklearn/metrics/_classification.py:1318: UndefinedMetricWarning: Precision is ill-defined and being set to 0.0 in labels with no predicted samples. Use `zero_division` parameter to control this behavior.\n",
      "  _warn_prf(average, modifier, msg_start, len(result))\n",
      "bootstrap:  50%|██████████████▋              | 505/1000 [00:05<00:07, 69.13it/s]/home/matthias/.cache/pypoetry/virtualenvs/sociodemographic-softlabels-Sh-apy0E-py3.7/lib/python3.7/site-packages/sklearn/metrics/_classification.py:1318: UndefinedMetricWarning: Precision is ill-defined and being set to 0.0 in labels with no predicted samples. Use `zero_division` parameter to control this behavior.\n",
      "  _warn_prf(average, modifier, msg_start, len(result))\n",
      "/home/matthias/.cache/pypoetry/virtualenvs/sociodemographic-softlabels-Sh-apy0E-py3.7/lib/python3.7/site-packages/sklearn/metrics/_classification.py:1318: UndefinedMetricWarning: Precision is ill-defined and being set to 0.0 in labels with no predicted samples. Use `zero_division` parameter to control this behavior.\n",
      "  _warn_prf(average, modifier, msg_start, len(result))\n",
      "/home/matthias/.cache/pypoetry/virtualenvs/sociodemographic-softlabels-Sh-apy0E-py3.7/lib/python3.7/site-packages/sklearn/metrics/_classification.py:1318: UndefinedMetricWarning: Precision is ill-defined and being set to 0.0 in labels with no predicted samples. Use `zero_division` parameter to control this behavior.\n",
      "  _warn_prf(average, modifier, msg_start, len(result))\n",
      "/home/matthias/.cache/pypoetry/virtualenvs/sociodemographic-softlabels-Sh-apy0E-py3.7/lib/python3.7/site-packages/sklearn/metrics/_classification.py:1318: UndefinedMetricWarning: Precision is ill-defined and being set to 0.0 in labels with no predicted samples. Use `zero_division` parameter to control this behavior.\n",
      "  _warn_prf(average, modifier, msg_start, len(result))\n",
      "/home/matthias/.cache/pypoetry/virtualenvs/sociodemographic-softlabels-Sh-apy0E-py3.7/lib/python3.7/site-packages/sklearn/metrics/_classification.py:1318: UndefinedMetricWarning: Precision is ill-defined and being set to 0.0 in labels with no predicted samples. Use `zero_division` parameter to control this behavior.\n",
      "  _warn_prf(average, modifier, msg_start, len(result))\n",
      "/home/matthias/.cache/pypoetry/virtualenvs/sociodemographic-softlabels-Sh-apy0E-py3.7/lib/python3.7/site-packages/sklearn/metrics/_classification.py:1318: UndefinedMetricWarning: Precision is ill-defined and being set to 0.0 in labels with no predicted samples. Use `zero_division` parameter to control this behavior.\n",
      "  _warn_prf(average, modifier, msg_start, len(result))\n",
      "/home/matthias/.cache/pypoetry/virtualenvs/sociodemographic-softlabels-Sh-apy0E-py3.7/lib/python3.7/site-packages/sklearn/metrics/_classification.py:1318: UndefinedMetricWarning: Precision is ill-defined and being set to 0.0 in labels with no predicted samples. Use `zero_division` parameter to control this behavior.\n",
      "  _warn_prf(average, modifier, msg_start, len(result))\n",
      "bootstrap:  52%|██████████████▉              | 515/1000 [00:05<00:06, 75.09it/s]/home/matthias/.cache/pypoetry/virtualenvs/sociodemographic-softlabels-Sh-apy0E-py3.7/lib/python3.7/site-packages/sklearn/metrics/_classification.py:1318: UndefinedMetricWarning: Precision is ill-defined and being set to 0.0 in labels with no predicted samples. Use `zero_division` parameter to control this behavior.\n",
      "  _warn_prf(average, modifier, msg_start, len(result))\n",
      "/home/matthias/.cache/pypoetry/virtualenvs/sociodemographic-softlabels-Sh-apy0E-py3.7/lib/python3.7/site-packages/sklearn/metrics/_classification.py:1318: UndefinedMetricWarning: Precision is ill-defined and being set to 0.0 in labels with no predicted samples. Use `zero_division` parameter to control this behavior.\n",
      "  _warn_prf(average, modifier, msg_start, len(result))\n",
      "/home/matthias/.cache/pypoetry/virtualenvs/sociodemographic-softlabels-Sh-apy0E-py3.7/lib/python3.7/site-packages/sklearn/metrics/_classification.py:1318: UndefinedMetricWarning: Precision is ill-defined and being set to 0.0 in labels with no predicted samples. Use `zero_division` parameter to control this behavior.\n",
      "  _warn_prf(average, modifier, msg_start, len(result))\n",
      "/home/matthias/.cache/pypoetry/virtualenvs/sociodemographic-softlabels-Sh-apy0E-py3.7/lib/python3.7/site-packages/sklearn/metrics/_classification.py:1318: UndefinedMetricWarning: Precision is ill-defined and being set to 0.0 in labels with no predicted samples. Use `zero_division` parameter to control this behavior.\n",
      "  _warn_prf(average, modifier, msg_start, len(result))\n",
      "/home/matthias/.cache/pypoetry/virtualenvs/sociodemographic-softlabels-Sh-apy0E-py3.7/lib/python3.7/site-packages/sklearn/metrics/_classification.py:1318: UndefinedMetricWarning: Precision is ill-defined and being set to 0.0 in labels with no predicted samples. Use `zero_division` parameter to control this behavior.\n",
      "  _warn_prf(average, modifier, msg_start, len(result))\n",
      "/home/matthias/.cache/pypoetry/virtualenvs/sociodemographic-softlabels-Sh-apy0E-py3.7/lib/python3.7/site-packages/sklearn/metrics/_classification.py:1318: UndefinedMetricWarning: Precision is ill-defined and being set to 0.0 in labels with no predicted samples. Use `zero_division` parameter to control this behavior.\n",
      "  _warn_prf(average, modifier, msg_start, len(result))\n",
      "/home/matthias/.cache/pypoetry/virtualenvs/sociodemographic-softlabels-Sh-apy0E-py3.7/lib/python3.7/site-packages/sklearn/metrics/_classification.py:1318: UndefinedMetricWarning: Precision is ill-defined and being set to 0.0 in labels with no predicted samples. Use `zero_division` parameter to control this behavior.\n",
      "  _warn_prf(average, modifier, msg_start, len(result))\n",
      "bootstrap:  52%|███████████████▏             | 525/1000 [00:06<00:06, 79.13it/s]/home/matthias/.cache/pypoetry/virtualenvs/sociodemographic-softlabels-Sh-apy0E-py3.7/lib/python3.7/site-packages/sklearn/metrics/_classification.py:1318: UndefinedMetricWarning: Precision is ill-defined and being set to 0.0 in labels with no predicted samples. Use `zero_division` parameter to control this behavior.\n",
      "  _warn_prf(average, modifier, msg_start, len(result))\n",
      "/home/matthias/.cache/pypoetry/virtualenvs/sociodemographic-softlabels-Sh-apy0E-py3.7/lib/python3.7/site-packages/sklearn/metrics/_classification.py:1318: UndefinedMetricWarning: Precision is ill-defined and being set to 0.0 in labels with no predicted samples. Use `zero_division` parameter to control this behavior.\n",
      "  _warn_prf(average, modifier, msg_start, len(result))\n",
      "/home/matthias/.cache/pypoetry/virtualenvs/sociodemographic-softlabels-Sh-apy0E-py3.7/lib/python3.7/site-packages/sklearn/metrics/_classification.py:1318: UndefinedMetricWarning: Precision is ill-defined and being set to 0.0 in labels with no predicted samples. Use `zero_division` parameter to control this behavior.\n",
      "  _warn_prf(average, modifier, msg_start, len(result))\n",
      "/home/matthias/.cache/pypoetry/virtualenvs/sociodemographic-softlabels-Sh-apy0E-py3.7/lib/python3.7/site-packages/sklearn/metrics/_classification.py:1318: UndefinedMetricWarning: Precision is ill-defined and being set to 0.0 in labels with no predicted samples. Use `zero_division` parameter to control this behavior.\n",
      "  _warn_prf(average, modifier, msg_start, len(result))\n",
      "/home/matthias/.cache/pypoetry/virtualenvs/sociodemographic-softlabels-Sh-apy0E-py3.7/lib/python3.7/site-packages/sklearn/metrics/_classification.py:1318: UndefinedMetricWarning: Precision is ill-defined and being set to 0.0 in labels with no predicted samples. Use `zero_division` parameter to control this behavior.\n",
      "  _warn_prf(average, modifier, msg_start, len(result))\n",
      "/home/matthias/.cache/pypoetry/virtualenvs/sociodemographic-softlabels-Sh-apy0E-py3.7/lib/python3.7/site-packages/sklearn/metrics/_classification.py:1318: UndefinedMetricWarning: Precision is ill-defined and being set to 0.0 in labels with no predicted samples. Use `zero_division` parameter to control this behavior.\n",
      "  _warn_prf(average, modifier, msg_start, len(result))\n",
      "bootstrap:  53%|███████████████▍             | 534/1000 [00:06<00:05, 81.38it/s]/home/matthias/.cache/pypoetry/virtualenvs/sociodemographic-softlabels-Sh-apy0E-py3.7/lib/python3.7/site-packages/sklearn/metrics/_classification.py:1318: UndefinedMetricWarning: Precision is ill-defined and being set to 0.0 in labels with no predicted samples. Use `zero_division` parameter to control this behavior.\n",
      "  _warn_prf(average, modifier, msg_start, len(result))\n",
      "/home/matthias/.cache/pypoetry/virtualenvs/sociodemographic-softlabels-Sh-apy0E-py3.7/lib/python3.7/site-packages/sklearn/metrics/_classification.py:1318: UndefinedMetricWarning: Precision is ill-defined and being set to 0.0 in labels with no predicted samples. Use `zero_division` parameter to control this behavior.\n",
      "  _warn_prf(average, modifier, msg_start, len(result))\n",
      "/home/matthias/.cache/pypoetry/virtualenvs/sociodemographic-softlabels-Sh-apy0E-py3.7/lib/python3.7/site-packages/sklearn/metrics/_classification.py:1318: UndefinedMetricWarning: Precision is ill-defined and being set to 0.0 in labels with no predicted samples. Use `zero_division` parameter to control this behavior.\n",
      "  _warn_prf(average, modifier, msg_start, len(result))\n",
      "/home/matthias/.cache/pypoetry/virtualenvs/sociodemographic-softlabels-Sh-apy0E-py3.7/lib/python3.7/site-packages/sklearn/metrics/_classification.py:1318: UndefinedMetricWarning: Precision is ill-defined and being set to 0.0 in labels with no predicted samples. Use `zero_division` parameter to control this behavior.\n",
      "  _warn_prf(average, modifier, msg_start, len(result))\n",
      "/home/matthias/.cache/pypoetry/virtualenvs/sociodemographic-softlabels-Sh-apy0E-py3.7/lib/python3.7/site-packages/sklearn/metrics/_classification.py:1318: UndefinedMetricWarning: Precision is ill-defined and being set to 0.0 in labels with no predicted samples. Use `zero_division` parameter to control this behavior.\n",
      "  _warn_prf(average, modifier, msg_start, len(result))\n",
      "bootstrap:  54%|███████████████▋             | 543/1000 [00:06<00:05, 79.69it/s]/home/matthias/.cache/pypoetry/virtualenvs/sociodemographic-softlabels-Sh-apy0E-py3.7/lib/python3.7/site-packages/sklearn/metrics/_classification.py:1318: UndefinedMetricWarning: Precision is ill-defined and being set to 0.0 in labels with no predicted samples. Use `zero_division` parameter to control this behavior.\n",
      "  _warn_prf(average, modifier, msg_start, len(result))\n",
      "/home/matthias/.cache/pypoetry/virtualenvs/sociodemographic-softlabels-Sh-apy0E-py3.7/lib/python3.7/site-packages/sklearn/metrics/_classification.py:1318: UndefinedMetricWarning: Precision is ill-defined and being set to 0.0 in labels with no predicted samples. Use `zero_division` parameter to control this behavior.\n",
      "  _warn_prf(average, modifier, msg_start, len(result))\n",
      "/home/matthias/.cache/pypoetry/virtualenvs/sociodemographic-softlabels-Sh-apy0E-py3.7/lib/python3.7/site-packages/sklearn/metrics/_classification.py:1318: UndefinedMetricWarning: Precision is ill-defined and being set to 0.0 in labels with no predicted samples. Use `zero_division` parameter to control this behavior.\n",
      "  _warn_prf(average, modifier, msg_start, len(result))\n",
      "/home/matthias/.cache/pypoetry/virtualenvs/sociodemographic-softlabels-Sh-apy0E-py3.7/lib/python3.7/site-packages/sklearn/metrics/_classification.py:1318: UndefinedMetricWarning: Precision is ill-defined and being set to 0.0 in labels with no predicted samples. Use `zero_division` parameter to control this behavior.\n",
      "  _warn_prf(average, modifier, msg_start, len(result))\n",
      "bootstrap:  55%|████████████████             | 552/1000 [00:06<00:05, 81.99it/s]/home/matthias/.cache/pypoetry/virtualenvs/sociodemographic-softlabels-Sh-apy0E-py3.7/lib/python3.7/site-packages/sklearn/metrics/_classification.py:1318: UndefinedMetricWarning: Precision is ill-defined and being set to 0.0 in labels with no predicted samples. Use `zero_division` parameter to control this behavior.\n",
      "  _warn_prf(average, modifier, msg_start, len(result))\n",
      "/home/matthias/.cache/pypoetry/virtualenvs/sociodemographic-softlabels-Sh-apy0E-py3.7/lib/python3.7/site-packages/sklearn/metrics/_classification.py:1318: UndefinedMetricWarning: Precision is ill-defined and being set to 0.0 in labels with no predicted samples. Use `zero_division` parameter to control this behavior.\n",
      "  _warn_prf(average, modifier, msg_start, len(result))\n",
      "/home/matthias/.cache/pypoetry/virtualenvs/sociodemographic-softlabels-Sh-apy0E-py3.7/lib/python3.7/site-packages/sklearn/metrics/_classification.py:1318: UndefinedMetricWarning: Precision is ill-defined and being set to 0.0 in labels with no predicted samples. Use `zero_division` parameter to control this behavior.\n",
      "  _warn_prf(average, modifier, msg_start, len(result))\n",
      "/home/matthias/.cache/pypoetry/virtualenvs/sociodemographic-softlabels-Sh-apy0E-py3.7/lib/python3.7/site-packages/sklearn/metrics/_classification.py:1318: UndefinedMetricWarning: Precision is ill-defined and being set to 0.0 in labels with no predicted samples. Use `zero_division` parameter to control this behavior.\n",
      "  _warn_prf(average, modifier, msg_start, len(result))\n",
      "bootstrap:  56%|████████████████▎            | 562/1000 [00:06<00:05, 84.65it/s]/home/matthias/.cache/pypoetry/virtualenvs/sociodemographic-softlabels-Sh-apy0E-py3.7/lib/python3.7/site-packages/sklearn/metrics/_classification.py:1318: UndefinedMetricWarning: Precision is ill-defined and being set to 0.0 in labels with no predicted samples. Use `zero_division` parameter to control this behavior.\n",
      "  _warn_prf(average, modifier, msg_start, len(result))\n",
      "/home/matthias/.cache/pypoetry/virtualenvs/sociodemographic-softlabels-Sh-apy0E-py3.7/lib/python3.7/site-packages/sklearn/metrics/_classification.py:1318: UndefinedMetricWarning: Precision is ill-defined and being set to 0.0 in labels with no predicted samples. Use `zero_division` parameter to control this behavior.\n",
      "  _warn_prf(average, modifier, msg_start, len(result))\n",
      "/home/matthias/.cache/pypoetry/virtualenvs/sociodemographic-softlabels-Sh-apy0E-py3.7/lib/python3.7/site-packages/sklearn/metrics/_classification.py:1318: UndefinedMetricWarning: Precision is ill-defined and being set to 0.0 in labels with no predicted samples. Use `zero_division` parameter to control this behavior.\n",
      "  _warn_prf(average, modifier, msg_start, len(result))\n",
      "/home/matthias/.cache/pypoetry/virtualenvs/sociodemographic-softlabels-Sh-apy0E-py3.7/lib/python3.7/site-packages/sklearn/metrics/_classification.py:1318: UndefinedMetricWarning: Precision is ill-defined and being set to 0.0 in labels with no predicted samples. Use `zero_division` parameter to control this behavior.\n",
      "  _warn_prf(average, modifier, msg_start, len(result))\n",
      "/home/matthias/.cache/pypoetry/virtualenvs/sociodemographic-softlabels-Sh-apy0E-py3.7/lib/python3.7/site-packages/sklearn/metrics/_classification.py:1318: UndefinedMetricWarning: Precision is ill-defined and being set to 0.0 in labels with no predicted samples. Use `zero_division` parameter to control this behavior.\n",
      "  _warn_prf(average, modifier, msg_start, len(result))\n",
      "/home/matthias/.cache/pypoetry/virtualenvs/sociodemographic-softlabels-Sh-apy0E-py3.7/lib/python3.7/site-packages/sklearn/metrics/_classification.py:1318: UndefinedMetricWarning: Precision is ill-defined and being set to 0.0 in labels with no predicted samples. Use `zero_division` parameter to control this behavior.\n",
      "  _warn_prf(average, modifier, msg_start, len(result))\n",
      "/home/matthias/.cache/pypoetry/virtualenvs/sociodemographic-softlabels-Sh-apy0E-py3.7/lib/python3.7/site-packages/sklearn/metrics/_classification.py:1318: UndefinedMetricWarning: Precision is ill-defined and being set to 0.0 in labels with no predicted samples. Use `zero_division` parameter to control this behavior.\n",
      "  _warn_prf(average, modifier, msg_start, len(result))\n",
      "/home/matthias/.cache/pypoetry/virtualenvs/sociodemographic-softlabels-Sh-apy0E-py3.7/lib/python3.7/site-packages/sklearn/metrics/_classification.py:1318: UndefinedMetricWarning: Precision is ill-defined and being set to 0.0 in labels with no predicted samples. Use `zero_division` parameter to control this behavior.\n",
      "  _warn_prf(average, modifier, msg_start, len(result))\n",
      "bootstrap:  57%|████████████████▌            | 571/1000 [00:06<00:05, 82.38it/s]/home/matthias/.cache/pypoetry/virtualenvs/sociodemographic-softlabels-Sh-apy0E-py3.7/lib/python3.7/site-packages/sklearn/metrics/_classification.py:1318: UndefinedMetricWarning: Precision is ill-defined and being set to 0.0 in labels with no predicted samples. Use `zero_division` parameter to control this behavior.\n",
      "  _warn_prf(average, modifier, msg_start, len(result))\n",
      "/home/matthias/.cache/pypoetry/virtualenvs/sociodemographic-softlabels-Sh-apy0E-py3.7/lib/python3.7/site-packages/sklearn/metrics/_classification.py:1318: UndefinedMetricWarning: Precision is ill-defined and being set to 0.0 in labels with no predicted samples. Use `zero_division` parameter to control this behavior.\n",
      "  _warn_prf(average, modifier, msg_start, len(result))\n",
      "/home/matthias/.cache/pypoetry/virtualenvs/sociodemographic-softlabels-Sh-apy0E-py3.7/lib/python3.7/site-packages/sklearn/metrics/_classification.py:1318: UndefinedMetricWarning: Precision is ill-defined and being set to 0.0 in labels with no predicted samples. Use `zero_division` parameter to control this behavior.\n",
      "  _warn_prf(average, modifier, msg_start, len(result))\n",
      "/home/matthias/.cache/pypoetry/virtualenvs/sociodemographic-softlabels-Sh-apy0E-py3.7/lib/python3.7/site-packages/sklearn/metrics/_classification.py:1318: UndefinedMetricWarning: Precision is ill-defined and being set to 0.0 in labels with no predicted samples. Use `zero_division` parameter to control this behavior.\n",
      "  _warn_prf(average, modifier, msg_start, len(result))\n",
      "/home/matthias/.cache/pypoetry/virtualenvs/sociodemographic-softlabels-Sh-apy0E-py3.7/lib/python3.7/site-packages/sklearn/metrics/_classification.py:1318: UndefinedMetricWarning: Precision is ill-defined and being set to 0.0 in labels with no predicted samples. Use `zero_division` parameter to control this behavior.\n",
      "  _warn_prf(average, modifier, msg_start, len(result))\n",
      "/home/matthias/.cache/pypoetry/virtualenvs/sociodemographic-softlabels-Sh-apy0E-py3.7/lib/python3.7/site-packages/sklearn/metrics/_classification.py:1318: UndefinedMetricWarning: Precision is ill-defined and being set to 0.0 in labels with no predicted samples. Use `zero_division` parameter to control this behavior.\n",
      "  _warn_prf(average, modifier, msg_start, len(result))\n",
      "/home/matthias/.cache/pypoetry/virtualenvs/sociodemographic-softlabels-Sh-apy0E-py3.7/lib/python3.7/site-packages/sklearn/metrics/_classification.py:1318: UndefinedMetricWarning: Precision is ill-defined and being set to 0.0 in labels with no predicted samples. Use `zero_division` parameter to control this behavior.\n",
      "  _warn_prf(average, modifier, msg_start, len(result))\n",
      "/home/matthias/.cache/pypoetry/virtualenvs/sociodemographic-softlabels-Sh-apy0E-py3.7/lib/python3.7/site-packages/sklearn/metrics/_classification.py:1318: UndefinedMetricWarning: Precision is ill-defined and being set to 0.0 in labels with no predicted samples. Use `zero_division` parameter to control this behavior.\n",
      "  _warn_prf(average, modifier, msg_start, len(result))\n",
      "bootstrap:  58%|████████████████▊            | 580/1000 [00:06<00:05, 80.65it/s]/home/matthias/.cache/pypoetry/virtualenvs/sociodemographic-softlabels-Sh-apy0E-py3.7/lib/python3.7/site-packages/sklearn/metrics/_classification.py:1318: UndefinedMetricWarning: Precision is ill-defined and being set to 0.0 in labels with no predicted samples. Use `zero_division` parameter to control this behavior.\n",
      "  _warn_prf(average, modifier, msg_start, len(result))\n",
      "/home/matthias/.cache/pypoetry/virtualenvs/sociodemographic-softlabels-Sh-apy0E-py3.7/lib/python3.7/site-packages/sklearn/metrics/_classification.py:1318: UndefinedMetricWarning: Precision is ill-defined and being set to 0.0 in labels with no predicted samples. Use `zero_division` parameter to control this behavior.\n",
      "  _warn_prf(average, modifier, msg_start, len(result))\n",
      "/home/matthias/.cache/pypoetry/virtualenvs/sociodemographic-softlabels-Sh-apy0E-py3.7/lib/python3.7/site-packages/sklearn/metrics/_classification.py:1318: UndefinedMetricWarning: Precision is ill-defined and being set to 0.0 in labels with no predicted samples. Use `zero_division` parameter to control this behavior.\n",
      "  _warn_prf(average, modifier, msg_start, len(result))\n",
      "/home/matthias/.cache/pypoetry/virtualenvs/sociodemographic-softlabels-Sh-apy0E-py3.7/lib/python3.7/site-packages/sklearn/metrics/_classification.py:1318: UndefinedMetricWarning: Precision is ill-defined and being set to 0.0 in labels with no predicted samples. Use `zero_division` parameter to control this behavior.\n",
      "  _warn_prf(average, modifier, msg_start, len(result))\n",
      "/home/matthias/.cache/pypoetry/virtualenvs/sociodemographic-softlabels-Sh-apy0E-py3.7/lib/python3.7/site-packages/sklearn/metrics/_classification.py:1318: UndefinedMetricWarning: Precision is ill-defined and being set to 0.0 in labels with no predicted samples. Use `zero_division` parameter to control this behavior.\n",
      "  _warn_prf(average, modifier, msg_start, len(result))\n",
      "/home/matthias/.cache/pypoetry/virtualenvs/sociodemographic-softlabels-Sh-apy0E-py3.7/lib/python3.7/site-packages/sklearn/metrics/_classification.py:1318: UndefinedMetricWarning: Precision is ill-defined and being set to 0.0 in labels with no predicted samples. Use `zero_division` parameter to control this behavior.\n",
      "  _warn_prf(average, modifier, msg_start, len(result))\n",
      "/home/matthias/.cache/pypoetry/virtualenvs/sociodemographic-softlabels-Sh-apy0E-py3.7/lib/python3.7/site-packages/sklearn/metrics/_classification.py:1318: UndefinedMetricWarning: Precision is ill-defined and being set to 0.0 in labels with no predicted samples. Use `zero_division` parameter to control this behavior.\n",
      "  _warn_prf(average, modifier, msg_start, len(result))\n",
      "bootstrap:  59%|█████████████████            | 589/1000 [00:06<00:05, 77.83it/s]/home/matthias/.cache/pypoetry/virtualenvs/sociodemographic-softlabels-Sh-apy0E-py3.7/lib/python3.7/site-packages/sklearn/metrics/_classification.py:1318: UndefinedMetricWarning: Precision is ill-defined and being set to 0.0 in labels with no predicted samples. Use `zero_division` parameter to control this behavior.\n",
      "  _warn_prf(average, modifier, msg_start, len(result))\n",
      "/home/matthias/.cache/pypoetry/virtualenvs/sociodemographic-softlabels-Sh-apy0E-py3.7/lib/python3.7/site-packages/sklearn/metrics/_classification.py:1318: UndefinedMetricWarning: Precision is ill-defined and being set to 0.0 in labels with no predicted samples. Use `zero_division` parameter to control this behavior.\n",
      "  _warn_prf(average, modifier, msg_start, len(result))\n",
      "/home/matthias/.cache/pypoetry/virtualenvs/sociodemographic-softlabels-Sh-apy0E-py3.7/lib/python3.7/site-packages/sklearn/metrics/_classification.py:1318: UndefinedMetricWarning: Precision is ill-defined and being set to 0.0 in labels with no predicted samples. Use `zero_division` parameter to control this behavior.\n",
      "  _warn_prf(average, modifier, msg_start, len(result))\n",
      "/home/matthias/.cache/pypoetry/virtualenvs/sociodemographic-softlabels-Sh-apy0E-py3.7/lib/python3.7/site-packages/sklearn/metrics/_classification.py:1318: UndefinedMetricWarning: Precision is ill-defined and being set to 0.0 in labels with no predicted samples. Use `zero_division` parameter to control this behavior.\n",
      "  _warn_prf(average, modifier, msg_start, len(result))\n",
      "bootstrap:  60%|█████████████████▎           | 597/1000 [00:07<00:05, 74.04it/s]/home/matthias/.cache/pypoetry/virtualenvs/sociodemographic-softlabels-Sh-apy0E-py3.7/lib/python3.7/site-packages/sklearn/metrics/_classification.py:1318: UndefinedMetricWarning: Precision is ill-defined and being set to 0.0 in labels with no predicted samples. Use `zero_division` parameter to control this behavior.\n",
      "  _warn_prf(average, modifier, msg_start, len(result))\n",
      "/home/matthias/.cache/pypoetry/virtualenvs/sociodemographic-softlabels-Sh-apy0E-py3.7/lib/python3.7/site-packages/sklearn/metrics/_classification.py:1318: UndefinedMetricWarning: Precision is ill-defined and being set to 0.0 in labels with no predicted samples. Use `zero_division` parameter to control this behavior.\n",
      "  _warn_prf(average, modifier, msg_start, len(result))\n",
      "/home/matthias/.cache/pypoetry/virtualenvs/sociodemographic-softlabels-Sh-apy0E-py3.7/lib/python3.7/site-packages/sklearn/metrics/_classification.py:1318: UndefinedMetricWarning: Precision is ill-defined and being set to 0.0 in labels with no predicted samples. Use `zero_division` parameter to control this behavior.\n",
      "  _warn_prf(average, modifier, msg_start, len(result))\n",
      "/home/matthias/.cache/pypoetry/virtualenvs/sociodemographic-softlabels-Sh-apy0E-py3.7/lib/python3.7/site-packages/sklearn/metrics/_classification.py:1318: UndefinedMetricWarning: Precision is ill-defined and being set to 0.0 in labels with no predicted samples. Use `zero_division` parameter to control this behavior.\n",
      "  _warn_prf(average, modifier, msg_start, len(result))\n",
      "/home/matthias/.cache/pypoetry/virtualenvs/sociodemographic-softlabels-Sh-apy0E-py3.7/lib/python3.7/site-packages/sklearn/metrics/_classification.py:1318: UndefinedMetricWarning: Precision is ill-defined and being set to 0.0 in labels with no predicted samples. Use `zero_division` parameter to control this behavior.\n",
      "  _warn_prf(average, modifier, msg_start, len(result))\n",
      "/home/matthias/.cache/pypoetry/virtualenvs/sociodemographic-softlabels-Sh-apy0E-py3.7/lib/python3.7/site-packages/sklearn/metrics/_classification.py:1318: UndefinedMetricWarning: Precision is ill-defined and being set to 0.0 in labels with no predicted samples. Use `zero_division` parameter to control this behavior.\n",
      "  _warn_prf(average, modifier, msg_start, len(result))\n",
      "bootstrap:  61%|█████████████████▌           | 606/1000 [00:07<00:05, 76.71it/s]/home/matthias/.cache/pypoetry/virtualenvs/sociodemographic-softlabels-Sh-apy0E-py3.7/lib/python3.7/site-packages/sklearn/metrics/_classification.py:1318: UndefinedMetricWarning: Precision is ill-defined and being set to 0.0 in labels with no predicted samples. Use `zero_division` parameter to control this behavior.\n",
      "  _warn_prf(average, modifier, msg_start, len(result))\n",
      "/home/matthias/.cache/pypoetry/virtualenvs/sociodemographic-softlabels-Sh-apy0E-py3.7/lib/python3.7/site-packages/sklearn/metrics/_classification.py:1318: UndefinedMetricWarning: Precision is ill-defined and being set to 0.0 in labels with no predicted samples. Use `zero_division` parameter to control this behavior.\n",
      "  _warn_prf(average, modifier, msg_start, len(result))\n",
      "/home/matthias/.cache/pypoetry/virtualenvs/sociodemographic-softlabels-Sh-apy0E-py3.7/lib/python3.7/site-packages/sklearn/metrics/_classification.py:1318: UndefinedMetricWarning: Precision is ill-defined and being set to 0.0 in labels with no predicted samples. Use `zero_division` parameter to control this behavior.\n",
      "  _warn_prf(average, modifier, msg_start, len(result))\n",
      "/home/matthias/.cache/pypoetry/virtualenvs/sociodemographic-softlabels-Sh-apy0E-py3.7/lib/python3.7/site-packages/sklearn/metrics/_classification.py:1318: UndefinedMetricWarning: Precision is ill-defined and being set to 0.0 in labels with no predicted samples. Use `zero_division` parameter to control this behavior.\n",
      "  _warn_prf(average, modifier, msg_start, len(result))\n",
      "/home/matthias/.cache/pypoetry/virtualenvs/sociodemographic-softlabels-Sh-apy0E-py3.7/lib/python3.7/site-packages/sklearn/metrics/_classification.py:1318: UndefinedMetricWarning: Precision is ill-defined and being set to 0.0 in labels with no predicted samples. Use `zero_division` parameter to control this behavior.\n",
      "  _warn_prf(average, modifier, msg_start, len(result))\n",
      "/home/matthias/.cache/pypoetry/virtualenvs/sociodemographic-softlabels-Sh-apy0E-py3.7/lib/python3.7/site-packages/sklearn/metrics/_classification.py:1318: UndefinedMetricWarning: Precision is ill-defined and being set to 0.0 in labels with no predicted samples. Use `zero_division` parameter to control this behavior.\n",
      "  _warn_prf(average, modifier, msg_start, len(result))\n",
      "bootstrap:  61%|█████████████████▊           | 614/1000 [00:07<00:05, 75.32it/s]/home/matthias/.cache/pypoetry/virtualenvs/sociodemographic-softlabels-Sh-apy0E-py3.7/lib/python3.7/site-packages/sklearn/metrics/_classification.py:1318: UndefinedMetricWarning: Precision is ill-defined and being set to 0.0 in labels with no predicted samples. Use `zero_division` parameter to control this behavior.\n",
      "  _warn_prf(average, modifier, msg_start, len(result))\n",
      "/home/matthias/.cache/pypoetry/virtualenvs/sociodemographic-softlabels-Sh-apy0E-py3.7/lib/python3.7/site-packages/sklearn/metrics/_classification.py:1318: UndefinedMetricWarning: Precision is ill-defined and being set to 0.0 in labels with no predicted samples. Use `zero_division` parameter to control this behavior.\n",
      "  _warn_prf(average, modifier, msg_start, len(result))\n",
      "/home/matthias/.cache/pypoetry/virtualenvs/sociodemographic-softlabels-Sh-apy0E-py3.7/lib/python3.7/site-packages/sklearn/metrics/_classification.py:1318: UndefinedMetricWarning: Precision is ill-defined and being set to 0.0 in labels with no predicted samples. Use `zero_division` parameter to control this behavior.\n",
      "  _warn_prf(average, modifier, msg_start, len(result))\n",
      "/home/matthias/.cache/pypoetry/virtualenvs/sociodemographic-softlabels-Sh-apy0E-py3.7/lib/python3.7/site-packages/sklearn/metrics/_classification.py:1318: UndefinedMetricWarning: Precision is ill-defined and being set to 0.0 in labels with no predicted samples. Use `zero_division` parameter to control this behavior.\n",
      "  _warn_prf(average, modifier, msg_start, len(result))\n",
      "bootstrap:  62%|██████████████████           | 622/1000 [00:07<00:05, 73.60it/s]/home/matthias/.cache/pypoetry/virtualenvs/sociodemographic-softlabels-Sh-apy0E-py3.7/lib/python3.7/site-packages/sklearn/metrics/_classification.py:1318: UndefinedMetricWarning: Precision is ill-defined and being set to 0.0 in labels with no predicted samples. Use `zero_division` parameter to control this behavior.\n",
      "  _warn_prf(average, modifier, msg_start, len(result))\n",
      "/home/matthias/.cache/pypoetry/virtualenvs/sociodemographic-softlabels-Sh-apy0E-py3.7/lib/python3.7/site-packages/sklearn/metrics/_classification.py:1318: UndefinedMetricWarning: Precision is ill-defined and being set to 0.0 in labels with no predicted samples. Use `zero_division` parameter to control this behavior.\n",
      "  _warn_prf(average, modifier, msg_start, len(result))\n",
      "/home/matthias/.cache/pypoetry/virtualenvs/sociodemographic-softlabels-Sh-apy0E-py3.7/lib/python3.7/site-packages/sklearn/metrics/_classification.py:1318: UndefinedMetricWarning: Precision is ill-defined and being set to 0.0 in labels with no predicted samples. Use `zero_division` parameter to control this behavior.\n",
      "  _warn_prf(average, modifier, msg_start, len(result))\n",
      "/home/matthias/.cache/pypoetry/virtualenvs/sociodemographic-softlabels-Sh-apy0E-py3.7/lib/python3.7/site-packages/sklearn/metrics/_classification.py:1318: UndefinedMetricWarning: Precision is ill-defined and being set to 0.0 in labels with no predicted samples. Use `zero_division` parameter to control this behavior.\n",
      "  _warn_prf(average, modifier, msg_start, len(result))\n",
      "bootstrap:  63%|██████████████████▎          | 630/1000 [00:07<00:05, 69.86it/s]/home/matthias/.cache/pypoetry/virtualenvs/sociodemographic-softlabels-Sh-apy0E-py3.7/lib/python3.7/site-packages/sklearn/metrics/_classification.py:1318: UndefinedMetricWarning: Precision is ill-defined and being set to 0.0 in labels with no predicted samples. Use `zero_division` parameter to control this behavior.\n",
      "  _warn_prf(average, modifier, msg_start, len(result))\n",
      "/home/matthias/.cache/pypoetry/virtualenvs/sociodemographic-softlabels-Sh-apy0E-py3.7/lib/python3.7/site-packages/sklearn/metrics/_classification.py:1318: UndefinedMetricWarning: Precision is ill-defined and being set to 0.0 in labels with no predicted samples. Use `zero_division` parameter to control this behavior.\n",
      "  _warn_prf(average, modifier, msg_start, len(result))\n",
      "/home/matthias/.cache/pypoetry/virtualenvs/sociodemographic-softlabels-Sh-apy0E-py3.7/lib/python3.7/site-packages/sklearn/metrics/_classification.py:1318: UndefinedMetricWarning: Precision is ill-defined and being set to 0.0 in labels with no predicted samples. Use `zero_division` parameter to control this behavior.\n",
      "  _warn_prf(average, modifier, msg_start, len(result))\n",
      "/home/matthias/.cache/pypoetry/virtualenvs/sociodemographic-softlabels-Sh-apy0E-py3.7/lib/python3.7/site-packages/sklearn/metrics/_classification.py:1318: UndefinedMetricWarning: Precision is ill-defined and being set to 0.0 in labels with no predicted samples. Use `zero_division` parameter to control this behavior.\n",
      "  _warn_prf(average, modifier, msg_start, len(result))\n",
      "bootstrap:  64%|██████████████████▌          | 638/1000 [00:07<00:05, 72.40it/s]/home/matthias/.cache/pypoetry/virtualenvs/sociodemographic-softlabels-Sh-apy0E-py3.7/lib/python3.7/site-packages/sklearn/metrics/_classification.py:1318: UndefinedMetricWarning: Precision is ill-defined and being set to 0.0 in labels with no predicted samples. Use `zero_division` parameter to control this behavior.\n",
      "  _warn_prf(average, modifier, msg_start, len(result))\n",
      "/home/matthias/.cache/pypoetry/virtualenvs/sociodemographic-softlabels-Sh-apy0E-py3.7/lib/python3.7/site-packages/sklearn/metrics/_classification.py:1318: UndefinedMetricWarning: Precision is ill-defined and being set to 0.0 in labels with no predicted samples. Use `zero_division` parameter to control this behavior.\n",
      "  _warn_prf(average, modifier, msg_start, len(result))\n",
      "bootstrap:  65%|██████████████████▋          | 646/1000 [00:07<00:05, 68.70it/s]/home/matthias/.cache/pypoetry/virtualenvs/sociodemographic-softlabels-Sh-apy0E-py3.7/lib/python3.7/site-packages/sklearn/metrics/_classification.py:1318: UndefinedMetricWarning: Precision is ill-defined and being set to 0.0 in labels with no predicted samples. Use `zero_division` parameter to control this behavior.\n",
      "  _warn_prf(average, modifier, msg_start, len(result))\n",
      "/home/matthias/.cache/pypoetry/virtualenvs/sociodemographic-softlabels-Sh-apy0E-py3.7/lib/python3.7/site-packages/sklearn/metrics/_classification.py:1318: UndefinedMetricWarning: Precision is ill-defined and being set to 0.0 in labels with no predicted samples. Use `zero_division` parameter to control this behavior.\n",
      "  _warn_prf(average, modifier, msg_start, len(result))\n",
      "/home/matthias/.cache/pypoetry/virtualenvs/sociodemographic-softlabels-Sh-apy0E-py3.7/lib/python3.7/site-packages/sklearn/metrics/_classification.py:1318: UndefinedMetricWarning: Precision is ill-defined and being set to 0.0 in labels with no predicted samples. Use `zero_division` parameter to control this behavior.\n",
      "  _warn_prf(average, modifier, msg_start, len(result))\n",
      "/home/matthias/.cache/pypoetry/virtualenvs/sociodemographic-softlabels-Sh-apy0E-py3.7/lib/python3.7/site-packages/sklearn/metrics/_classification.py:1318: UndefinedMetricWarning: Precision is ill-defined and being set to 0.0 in labels with no predicted samples. Use `zero_division` parameter to control this behavior.\n",
      "  _warn_prf(average, modifier, msg_start, len(result))\n",
      "bootstrap:  65%|██████████████████▉          | 653/1000 [00:07<00:05, 65.24it/s]/home/matthias/.cache/pypoetry/virtualenvs/sociodemographic-softlabels-Sh-apy0E-py3.7/lib/python3.7/site-packages/sklearn/metrics/_classification.py:1318: UndefinedMetricWarning: Precision is ill-defined and being set to 0.0 in labels with no predicted samples. Use `zero_division` parameter to control this behavior.\n",
      "  _warn_prf(average, modifier, msg_start, len(result))\n",
      "/home/matthias/.cache/pypoetry/virtualenvs/sociodemographic-softlabels-Sh-apy0E-py3.7/lib/python3.7/site-packages/sklearn/metrics/_classification.py:1318: UndefinedMetricWarning: Precision is ill-defined and being set to 0.0 in labels with no predicted samples. Use `zero_division` parameter to control this behavior.\n",
      "  _warn_prf(average, modifier, msg_start, len(result))\n",
      "/home/matthias/.cache/pypoetry/virtualenvs/sociodemographic-softlabels-Sh-apy0E-py3.7/lib/python3.7/site-packages/sklearn/metrics/_classification.py:1318: UndefinedMetricWarning: Precision is ill-defined and being set to 0.0 in labels with no predicted samples. Use `zero_division` parameter to control this behavior.\n",
      "  _warn_prf(average, modifier, msg_start, len(result))\n",
      "/home/matthias/.cache/pypoetry/virtualenvs/sociodemographic-softlabels-Sh-apy0E-py3.7/lib/python3.7/site-packages/sklearn/metrics/_classification.py:1318: UndefinedMetricWarning: Precision is ill-defined and being set to 0.0 in labels with no predicted samples. Use `zero_division` parameter to control this behavior.\n",
      "  _warn_prf(average, modifier, msg_start, len(result))\n",
      "bootstrap:  66%|███████████████████▏         | 662/1000 [00:07<00:04, 71.32it/s]/home/matthias/.cache/pypoetry/virtualenvs/sociodemographic-softlabels-Sh-apy0E-py3.7/lib/python3.7/site-packages/sklearn/metrics/_classification.py:1318: UndefinedMetricWarning: Precision is ill-defined and being set to 0.0 in labels with no predicted samples. Use `zero_division` parameter to control this behavior.\n",
      "  _warn_prf(average, modifier, msg_start, len(result))\n",
      "/home/matthias/.cache/pypoetry/virtualenvs/sociodemographic-softlabels-Sh-apy0E-py3.7/lib/python3.7/site-packages/sklearn/metrics/_classification.py:1318: UndefinedMetricWarning: Precision is ill-defined and being set to 0.0 in labels with no predicted samples. Use `zero_division` parameter to control this behavior.\n",
      "  _warn_prf(average, modifier, msg_start, len(result))\n",
      "/home/matthias/.cache/pypoetry/virtualenvs/sociodemographic-softlabels-Sh-apy0E-py3.7/lib/python3.7/site-packages/sklearn/metrics/_classification.py:1318: UndefinedMetricWarning: Precision is ill-defined and being set to 0.0 in labels with no predicted samples. Use `zero_division` parameter to control this behavior.\n",
      "  _warn_prf(average, modifier, msg_start, len(result))\n",
      "/home/matthias/.cache/pypoetry/virtualenvs/sociodemographic-softlabels-Sh-apy0E-py3.7/lib/python3.7/site-packages/sklearn/metrics/_classification.py:1318: UndefinedMetricWarning: Precision is ill-defined and being set to 0.0 in labels with no predicted samples. Use `zero_division` parameter to control this behavior.\n",
      "  _warn_prf(average, modifier, msg_start, len(result))\n",
      "bootstrap:  67%|███████████████████▍         | 670/1000 [00:08<00:04, 69.27it/s]/home/matthias/.cache/pypoetry/virtualenvs/sociodemographic-softlabels-Sh-apy0E-py3.7/lib/python3.7/site-packages/sklearn/metrics/_classification.py:1318: UndefinedMetricWarning: Precision is ill-defined and being set to 0.0 in labels with no predicted samples. Use `zero_division` parameter to control this behavior.\n",
      "  _warn_prf(average, modifier, msg_start, len(result))\n",
      "/home/matthias/.cache/pypoetry/virtualenvs/sociodemographic-softlabels-Sh-apy0E-py3.7/lib/python3.7/site-packages/sklearn/metrics/_classification.py:1318: UndefinedMetricWarning: Precision is ill-defined and being set to 0.0 in labels with no predicted samples. Use `zero_division` parameter to control this behavior.\n",
      "  _warn_prf(average, modifier, msg_start, len(result))\n",
      "/home/matthias/.cache/pypoetry/virtualenvs/sociodemographic-softlabels-Sh-apy0E-py3.7/lib/python3.7/site-packages/sklearn/metrics/_classification.py:1318: UndefinedMetricWarning: Precision is ill-defined and being set to 0.0 in labels with no predicted samples. Use `zero_division` parameter to control this behavior.\n",
      "  _warn_prf(average, modifier, msg_start, len(result))\n",
      "/home/matthias/.cache/pypoetry/virtualenvs/sociodemographic-softlabels-Sh-apy0E-py3.7/lib/python3.7/site-packages/sklearn/metrics/_classification.py:1318: UndefinedMetricWarning: Precision is ill-defined and being set to 0.0 in labels with no predicted samples. Use `zero_division` parameter to control this behavior.\n",
      "  _warn_prf(average, modifier, msg_start, len(result))\n",
      "/home/matthias/.cache/pypoetry/virtualenvs/sociodemographic-softlabels-Sh-apy0E-py3.7/lib/python3.7/site-packages/sklearn/metrics/_classification.py:1318: UndefinedMetricWarning: Precision is ill-defined and being set to 0.0 in labels with no predicted samples. Use `zero_division` parameter to control this behavior.\n",
      "  _warn_prf(average, modifier, msg_start, len(result))\n",
      "/home/matthias/.cache/pypoetry/virtualenvs/sociodemographic-softlabels-Sh-apy0E-py3.7/lib/python3.7/site-packages/sklearn/metrics/_classification.py:1318: UndefinedMetricWarning: Precision is ill-defined and being set to 0.0 in labels with no predicted samples. Use `zero_division` parameter to control this behavior.\n",
      "  _warn_prf(average, modifier, msg_start, len(result))\n",
      "/home/matthias/.cache/pypoetry/virtualenvs/sociodemographic-softlabels-Sh-apy0E-py3.7/lib/python3.7/site-packages/sklearn/metrics/_classification.py:1318: UndefinedMetricWarning: Precision is ill-defined and being set to 0.0 in labels with no predicted samples. Use `zero_division` parameter to control this behavior.\n",
      "  _warn_prf(average, modifier, msg_start, len(result))\n",
      "bootstrap:  68%|███████████████████▋         | 679/1000 [00:08<00:04, 72.92it/s]/home/matthias/.cache/pypoetry/virtualenvs/sociodemographic-softlabels-Sh-apy0E-py3.7/lib/python3.7/site-packages/sklearn/metrics/_classification.py:1318: UndefinedMetricWarning: Precision is ill-defined and being set to 0.0 in labels with no predicted samples. Use `zero_division` parameter to control this behavior.\n",
      "  _warn_prf(average, modifier, msg_start, len(result))\n",
      "/home/matthias/.cache/pypoetry/virtualenvs/sociodemographic-softlabels-Sh-apy0E-py3.7/lib/python3.7/site-packages/sklearn/metrics/_classification.py:1318: UndefinedMetricWarning: Precision is ill-defined and being set to 0.0 in labels with no predicted samples. Use `zero_division` parameter to control this behavior.\n",
      "  _warn_prf(average, modifier, msg_start, len(result))\n",
      "/home/matthias/.cache/pypoetry/virtualenvs/sociodemographic-softlabels-Sh-apy0E-py3.7/lib/python3.7/site-packages/sklearn/metrics/_classification.py:1318: UndefinedMetricWarning: Precision is ill-defined and being set to 0.0 in labels with no predicted samples. Use `zero_division` parameter to control this behavior.\n",
      "  _warn_prf(average, modifier, msg_start, len(result))\n",
      "/home/matthias/.cache/pypoetry/virtualenvs/sociodemographic-softlabels-Sh-apy0E-py3.7/lib/python3.7/site-packages/sklearn/metrics/_classification.py:1318: UndefinedMetricWarning: Precision is ill-defined and being set to 0.0 in labels with no predicted samples. Use `zero_division` parameter to control this behavior.\n",
      "  _warn_prf(average, modifier, msg_start, len(result))\n",
      "/home/matthias/.cache/pypoetry/virtualenvs/sociodemographic-softlabels-Sh-apy0E-py3.7/lib/python3.7/site-packages/sklearn/metrics/_classification.py:1318: UndefinedMetricWarning: Precision is ill-defined and being set to 0.0 in labels with no predicted samples. Use `zero_division` parameter to control this behavior.\n",
      "  _warn_prf(average, modifier, msg_start, len(result))\n",
      "bootstrap:  69%|███████████████████▉         | 687/1000 [00:08<00:04, 72.01it/s]/home/matthias/.cache/pypoetry/virtualenvs/sociodemographic-softlabels-Sh-apy0E-py3.7/lib/python3.7/site-packages/sklearn/metrics/_classification.py:1318: UndefinedMetricWarning: Precision is ill-defined and being set to 0.0 in labels with no predicted samples. Use `zero_division` parameter to control this behavior.\n",
      "  _warn_prf(average, modifier, msg_start, len(result))\n",
      "/home/matthias/.cache/pypoetry/virtualenvs/sociodemographic-softlabels-Sh-apy0E-py3.7/lib/python3.7/site-packages/sklearn/metrics/_classification.py:1318: UndefinedMetricWarning: Precision is ill-defined and being set to 0.0 in labels with no predicted samples. Use `zero_division` parameter to control this behavior.\n",
      "  _warn_prf(average, modifier, msg_start, len(result))\n",
      "/home/matthias/.cache/pypoetry/virtualenvs/sociodemographic-softlabels-Sh-apy0E-py3.7/lib/python3.7/site-packages/sklearn/metrics/_classification.py:1318: UndefinedMetricWarning: Precision is ill-defined and being set to 0.0 in labels with no predicted samples. Use `zero_division` parameter to control this behavior.\n",
      "  _warn_prf(average, modifier, msg_start, len(result))\n",
      "/home/matthias/.cache/pypoetry/virtualenvs/sociodemographic-softlabels-Sh-apy0E-py3.7/lib/python3.7/site-packages/sklearn/metrics/_classification.py:1318: UndefinedMetricWarning: Precision is ill-defined and being set to 0.0 in labels with no predicted samples. Use `zero_division` parameter to control this behavior.\n",
      "  _warn_prf(average, modifier, msg_start, len(result))\n",
      "bootstrap:  70%|████████████████████▏        | 695/1000 [00:08<00:04, 65.15it/s]/home/matthias/.cache/pypoetry/virtualenvs/sociodemographic-softlabels-Sh-apy0E-py3.7/lib/python3.7/site-packages/sklearn/metrics/_classification.py:1318: UndefinedMetricWarning: Precision is ill-defined and being set to 0.0 in labels with no predicted samples. Use `zero_division` parameter to control this behavior.\n",
      "  _warn_prf(average, modifier, msg_start, len(result))\n",
      "/home/matthias/.cache/pypoetry/virtualenvs/sociodemographic-softlabels-Sh-apy0E-py3.7/lib/python3.7/site-packages/sklearn/metrics/_classification.py:1318: UndefinedMetricWarning: Precision is ill-defined and being set to 0.0 in labels with no predicted samples. Use `zero_division` parameter to control this behavior.\n",
      "  _warn_prf(average, modifier, msg_start, len(result))\n",
      "bootstrap:  70%|████████████████████▎        | 702/1000 [00:08<00:04, 59.67it/s]/home/matthias/.cache/pypoetry/virtualenvs/sociodemographic-softlabels-Sh-apy0E-py3.7/lib/python3.7/site-packages/sklearn/metrics/_classification.py:1318: UndefinedMetricWarning: Precision is ill-defined and being set to 0.0 in labels with no predicted samples. Use `zero_division` parameter to control this behavior.\n",
      "  _warn_prf(average, modifier, msg_start, len(result))\n",
      "/home/matthias/.cache/pypoetry/virtualenvs/sociodemographic-softlabels-Sh-apy0E-py3.7/lib/python3.7/site-packages/sklearn/metrics/_classification.py:1318: UndefinedMetricWarning: Precision is ill-defined and being set to 0.0 in labels with no predicted samples. Use `zero_division` parameter to control this behavior.\n",
      "  _warn_prf(average, modifier, msg_start, len(result))\n",
      "/home/matthias/.cache/pypoetry/virtualenvs/sociodemographic-softlabels-Sh-apy0E-py3.7/lib/python3.7/site-packages/sklearn/metrics/_classification.py:1318: UndefinedMetricWarning: Precision is ill-defined and being set to 0.0 in labels with no predicted samples. Use `zero_division` parameter to control this behavior.\n",
      "  _warn_prf(average, modifier, msg_start, len(result))\n",
      "/home/matthias/.cache/pypoetry/virtualenvs/sociodemographic-softlabels-Sh-apy0E-py3.7/lib/python3.7/site-packages/sklearn/metrics/_classification.py:1318: UndefinedMetricWarning: Precision is ill-defined and being set to 0.0 in labels with no predicted samples. Use `zero_division` parameter to control this behavior.\n",
      "  _warn_prf(average, modifier, msg_start, len(result))\n",
      "/home/matthias/.cache/pypoetry/virtualenvs/sociodemographic-softlabels-Sh-apy0E-py3.7/lib/python3.7/site-packages/sklearn/metrics/_classification.py:1318: UndefinedMetricWarning: Precision is ill-defined and being set to 0.0 in labels with no predicted samples. Use `zero_division` parameter to control this behavior.\n",
      "  _warn_prf(average, modifier, msg_start, len(result))\n",
      "bootstrap:  71%|████████████████████▌        | 709/1000 [00:08<00:05, 53.51it/s]/home/matthias/.cache/pypoetry/virtualenvs/sociodemographic-softlabels-Sh-apy0E-py3.7/lib/python3.7/site-packages/sklearn/metrics/_classification.py:1318: UndefinedMetricWarning: Precision is ill-defined and being set to 0.0 in labels with no predicted samples. Use `zero_division` parameter to control this behavior.\n",
      "  _warn_prf(average, modifier, msg_start, len(result))\n",
      "/home/matthias/.cache/pypoetry/virtualenvs/sociodemographic-softlabels-Sh-apy0E-py3.7/lib/python3.7/site-packages/sklearn/metrics/_classification.py:1318: UndefinedMetricWarning: Precision is ill-defined and being set to 0.0 in labels with no predicted samples. Use `zero_division` parameter to control this behavior.\n",
      "  _warn_prf(average, modifier, msg_start, len(result))\n",
      "/home/matthias/.cache/pypoetry/virtualenvs/sociodemographic-softlabels-Sh-apy0E-py3.7/lib/python3.7/site-packages/sklearn/metrics/_classification.py:1318: UndefinedMetricWarning: Precision is ill-defined and being set to 0.0 in labels with no predicted samples. Use `zero_division` parameter to control this behavior.\n",
      "  _warn_prf(average, modifier, msg_start, len(result))\n",
      "/home/matthias/.cache/pypoetry/virtualenvs/sociodemographic-softlabels-Sh-apy0E-py3.7/lib/python3.7/site-packages/sklearn/metrics/_classification.py:1318: UndefinedMetricWarning: Precision is ill-defined and being set to 0.0 in labels with no predicted samples. Use `zero_division` parameter to control this behavior.\n",
      "  _warn_prf(average, modifier, msg_start, len(result))\n",
      "/home/matthias/.cache/pypoetry/virtualenvs/sociodemographic-softlabels-Sh-apy0E-py3.7/lib/python3.7/site-packages/sklearn/metrics/_classification.py:1318: UndefinedMetricWarning: Precision is ill-defined and being set to 0.0 in labels with no predicted samples. Use `zero_division` parameter to control this behavior.\n",
      "  _warn_prf(average, modifier, msg_start, len(result))\n",
      "/home/matthias/.cache/pypoetry/virtualenvs/sociodemographic-softlabels-Sh-apy0E-py3.7/lib/python3.7/site-packages/sklearn/metrics/_classification.py:1318: UndefinedMetricWarning: Precision is ill-defined and being set to 0.0 in labels with no predicted samples. Use `zero_division` parameter to control this behavior.\n",
      "  _warn_prf(average, modifier, msg_start, len(result))\n",
      "/home/matthias/.cache/pypoetry/virtualenvs/sociodemographic-softlabels-Sh-apy0E-py3.7/lib/python3.7/site-packages/sklearn/metrics/_classification.py:1318: UndefinedMetricWarning: Precision is ill-defined and being set to 0.0 in labels with no predicted samples. Use `zero_division` parameter to control this behavior.\n",
      "  _warn_prf(average, modifier, msg_start, len(result))\n",
      "/home/matthias/.cache/pypoetry/virtualenvs/sociodemographic-softlabels-Sh-apy0E-py3.7/lib/python3.7/site-packages/sklearn/metrics/_classification.py:1318: UndefinedMetricWarning: Precision is ill-defined and being set to 0.0 in labels with no predicted samples. Use `zero_division` parameter to control this behavior.\n",
      "  _warn_prf(average, modifier, msg_start, len(result))\n",
      "bootstrap:  72%|████████████████████▊        | 718/1000 [00:08<00:04, 60.36it/s]/home/matthias/.cache/pypoetry/virtualenvs/sociodemographic-softlabels-Sh-apy0E-py3.7/lib/python3.7/site-packages/sklearn/metrics/_classification.py:1318: UndefinedMetricWarning: Precision is ill-defined and being set to 0.0 in labels with no predicted samples. Use `zero_division` parameter to control this behavior.\n",
      "  _warn_prf(average, modifier, msg_start, len(result))\n",
      "/home/matthias/.cache/pypoetry/virtualenvs/sociodemographic-softlabels-Sh-apy0E-py3.7/lib/python3.7/site-packages/sklearn/metrics/_classification.py:1318: UndefinedMetricWarning: Precision is ill-defined and being set to 0.0 in labels with no predicted samples. Use `zero_division` parameter to control this behavior.\n",
      "  _warn_prf(average, modifier, msg_start, len(result))\n",
      "/home/matthias/.cache/pypoetry/virtualenvs/sociodemographic-softlabels-Sh-apy0E-py3.7/lib/python3.7/site-packages/sklearn/metrics/_classification.py:1318: UndefinedMetricWarning: Precision is ill-defined and being set to 0.0 in labels with no predicted samples. Use `zero_division` parameter to control this behavior.\n",
      "  _warn_prf(average, modifier, msg_start, len(result))\n",
      "/home/matthias/.cache/pypoetry/virtualenvs/sociodemographic-softlabels-Sh-apy0E-py3.7/lib/python3.7/site-packages/sklearn/metrics/_classification.py:1318: UndefinedMetricWarning: Precision is ill-defined and being set to 0.0 in labels with no predicted samples. Use `zero_division` parameter to control this behavior.\n",
      "  _warn_prf(average, modifier, msg_start, len(result))\n",
      "/home/matthias/.cache/pypoetry/virtualenvs/sociodemographic-softlabels-Sh-apy0E-py3.7/lib/python3.7/site-packages/sklearn/metrics/_classification.py:1318: UndefinedMetricWarning: Precision is ill-defined and being set to 0.0 in labels with no predicted samples. Use `zero_division` parameter to control this behavior.\n",
      "  _warn_prf(average, modifier, msg_start, len(result))\n",
      "bootstrap:  73%|█████████████████████        | 727/1000 [00:08<00:04, 66.40it/s]/home/matthias/.cache/pypoetry/virtualenvs/sociodemographic-softlabels-Sh-apy0E-py3.7/lib/python3.7/site-packages/sklearn/metrics/_classification.py:1318: UndefinedMetricWarning: Precision is ill-defined and being set to 0.0 in labels with no predicted samples. Use `zero_division` parameter to control this behavior.\n",
      "  _warn_prf(average, modifier, msg_start, len(result))\n",
      "/home/matthias/.cache/pypoetry/virtualenvs/sociodemographic-softlabels-Sh-apy0E-py3.7/lib/python3.7/site-packages/sklearn/metrics/_classification.py:1318: UndefinedMetricWarning: Precision is ill-defined and being set to 0.0 in labels with no predicted samples. Use `zero_division` parameter to control this behavior.\n",
      "  _warn_prf(average, modifier, msg_start, len(result))\n",
      "/home/matthias/.cache/pypoetry/virtualenvs/sociodemographic-softlabels-Sh-apy0E-py3.7/lib/python3.7/site-packages/sklearn/metrics/_classification.py:1318: UndefinedMetricWarning: Precision is ill-defined and being set to 0.0 in labels with no predicted samples. Use `zero_division` parameter to control this behavior.\n",
      "  _warn_prf(average, modifier, msg_start, len(result))\n",
      "bootstrap:  73%|█████████████████████▎       | 734/1000 [00:09<00:04, 63.12it/s]/home/matthias/.cache/pypoetry/virtualenvs/sociodemographic-softlabels-Sh-apy0E-py3.7/lib/python3.7/site-packages/sklearn/metrics/_classification.py:1318: UndefinedMetricWarning: Precision is ill-defined and being set to 0.0 in labels with no predicted samples. Use `zero_division` parameter to control this behavior.\n",
      "  _warn_prf(average, modifier, msg_start, len(result))\n",
      "/home/matthias/.cache/pypoetry/virtualenvs/sociodemographic-softlabels-Sh-apy0E-py3.7/lib/python3.7/site-packages/sklearn/metrics/_classification.py:1318: UndefinedMetricWarning: Precision is ill-defined and being set to 0.0 in labels with no predicted samples. Use `zero_division` parameter to control this behavior.\n",
      "  _warn_prf(average, modifier, msg_start, len(result))\n",
      "/home/matthias/.cache/pypoetry/virtualenvs/sociodemographic-softlabels-Sh-apy0E-py3.7/lib/python3.7/site-packages/sklearn/metrics/_classification.py:1318: UndefinedMetricWarning: Precision is ill-defined and being set to 0.0 in labels with no predicted samples. Use `zero_division` parameter to control this behavior.\n",
      "  _warn_prf(average, modifier, msg_start, len(result))\n",
      "/home/matthias/.cache/pypoetry/virtualenvs/sociodemographic-softlabels-Sh-apy0E-py3.7/lib/python3.7/site-packages/sklearn/metrics/_classification.py:1318: UndefinedMetricWarning: Precision is ill-defined and being set to 0.0 in labels with no predicted samples. Use `zero_division` parameter to control this behavior.\n",
      "  _warn_prf(average, modifier, msg_start, len(result))\n",
      "bootstrap:  74%|█████████████████████▍       | 741/1000 [00:09<00:04, 59.58it/s]/home/matthias/.cache/pypoetry/virtualenvs/sociodemographic-softlabels-Sh-apy0E-py3.7/lib/python3.7/site-packages/sklearn/metrics/_classification.py:1318: UndefinedMetricWarning: Precision is ill-defined and being set to 0.0 in labels with no predicted samples. Use `zero_division` parameter to control this behavior.\n",
      "  _warn_prf(average, modifier, msg_start, len(result))\n",
      "/home/matthias/.cache/pypoetry/virtualenvs/sociodemographic-softlabels-Sh-apy0E-py3.7/lib/python3.7/site-packages/sklearn/metrics/_classification.py:1318: UndefinedMetricWarning: Precision is ill-defined and being set to 0.0 in labels with no predicted samples. Use `zero_division` parameter to control this behavior.\n",
      "  _warn_prf(average, modifier, msg_start, len(result))\n",
      "/home/matthias/.cache/pypoetry/virtualenvs/sociodemographic-softlabels-Sh-apy0E-py3.7/lib/python3.7/site-packages/sklearn/metrics/_classification.py:1318: UndefinedMetricWarning: Precision is ill-defined and being set to 0.0 in labels with no predicted samples. Use `zero_division` parameter to control this behavior.\n",
      "  _warn_prf(average, modifier, msg_start, len(result))\n",
      "/home/matthias/.cache/pypoetry/virtualenvs/sociodemographic-softlabels-Sh-apy0E-py3.7/lib/python3.7/site-packages/sklearn/metrics/_classification.py:1318: UndefinedMetricWarning: Precision is ill-defined and being set to 0.0 in labels with no predicted samples. Use `zero_division` parameter to control this behavior.\n",
      "  _warn_prf(average, modifier, msg_start, len(result))\n",
      "/home/matthias/.cache/pypoetry/virtualenvs/sociodemographic-softlabels-Sh-apy0E-py3.7/lib/python3.7/site-packages/sklearn/metrics/_classification.py:1318: UndefinedMetricWarning: Precision is ill-defined and being set to 0.0 in labels with no predicted samples. Use `zero_division` parameter to control this behavior.\n",
      "  _warn_prf(average, modifier, msg_start, len(result))\n",
      "/home/matthias/.cache/pypoetry/virtualenvs/sociodemographic-softlabels-Sh-apy0E-py3.7/lib/python3.7/site-packages/sklearn/metrics/_classification.py:1318: UndefinedMetricWarning: Precision is ill-defined and being set to 0.0 in labels with no predicted samples. Use `zero_division` parameter to control this behavior.\n",
      "  _warn_prf(average, modifier, msg_start, len(result))\n",
      "/home/matthias/.cache/pypoetry/virtualenvs/sociodemographic-softlabels-Sh-apy0E-py3.7/lib/python3.7/site-packages/sklearn/metrics/_classification.py:1318: UndefinedMetricWarning: Precision is ill-defined and being set to 0.0 in labels with no predicted samples. Use `zero_division` parameter to control this behavior.\n",
      "  _warn_prf(average, modifier, msg_start, len(result))\n",
      "bootstrap:  75%|█████████████████████▋       | 748/1000 [00:09<00:04, 58.54it/s]/home/matthias/.cache/pypoetry/virtualenvs/sociodemographic-softlabels-Sh-apy0E-py3.7/lib/python3.7/site-packages/sklearn/metrics/_classification.py:1318: UndefinedMetricWarning: Precision is ill-defined and being set to 0.0 in labels with no predicted samples. Use `zero_division` parameter to control this behavior.\n",
      "  _warn_prf(average, modifier, msg_start, len(result))\n",
      "/home/matthias/.cache/pypoetry/virtualenvs/sociodemographic-softlabels-Sh-apy0E-py3.7/lib/python3.7/site-packages/sklearn/metrics/_classification.py:1318: UndefinedMetricWarning: Precision is ill-defined and being set to 0.0 in labels with no predicted samples. Use `zero_division` parameter to control this behavior.\n",
      "  _warn_prf(average, modifier, msg_start, len(result))\n",
      "/home/matthias/.cache/pypoetry/virtualenvs/sociodemographic-softlabels-Sh-apy0E-py3.7/lib/python3.7/site-packages/sklearn/metrics/_classification.py:1318: UndefinedMetricWarning: Precision is ill-defined and being set to 0.0 in labels with no predicted samples. Use `zero_division` parameter to control this behavior.\n",
      "  _warn_prf(average, modifier, msg_start, len(result))\n",
      "/home/matthias/.cache/pypoetry/virtualenvs/sociodemographic-softlabels-Sh-apy0E-py3.7/lib/python3.7/site-packages/sklearn/metrics/_classification.py:1318: UndefinedMetricWarning: Precision is ill-defined and being set to 0.0 in labels with no predicted samples. Use `zero_division` parameter to control this behavior.\n",
      "  _warn_prf(average, modifier, msg_start, len(result))\n",
      "bootstrap:  75%|█████████████████████▊       | 754/1000 [00:09<00:04, 58.54it/s]/home/matthias/.cache/pypoetry/virtualenvs/sociodemographic-softlabels-Sh-apy0E-py3.7/lib/python3.7/site-packages/sklearn/metrics/_classification.py:1318: UndefinedMetricWarning: Precision is ill-defined and being set to 0.0 in labels with no predicted samples. Use `zero_division` parameter to control this behavior.\n",
      "  _warn_prf(average, modifier, msg_start, len(result))\n",
      "/home/matthias/.cache/pypoetry/virtualenvs/sociodemographic-softlabels-Sh-apy0E-py3.7/lib/python3.7/site-packages/sklearn/metrics/_classification.py:1318: UndefinedMetricWarning: Precision is ill-defined and being set to 0.0 in labels with no predicted samples. Use `zero_division` parameter to control this behavior.\n",
      "  _warn_prf(average, modifier, msg_start, len(result))\n",
      "/home/matthias/.cache/pypoetry/virtualenvs/sociodemographic-softlabels-Sh-apy0E-py3.7/lib/python3.7/site-packages/sklearn/metrics/_classification.py:1318: UndefinedMetricWarning: Precision is ill-defined and being set to 0.0 in labels with no predicted samples. Use `zero_division` parameter to control this behavior.\n",
      "  _warn_prf(average, modifier, msg_start, len(result))\n",
      "/home/matthias/.cache/pypoetry/virtualenvs/sociodemographic-softlabels-Sh-apy0E-py3.7/lib/python3.7/site-packages/sklearn/metrics/_classification.py:1318: UndefinedMetricWarning: Precision is ill-defined and being set to 0.0 in labels with no predicted samples. Use `zero_division` parameter to control this behavior.\n",
      "  _warn_prf(average, modifier, msg_start, len(result))\n",
      "/home/matthias/.cache/pypoetry/virtualenvs/sociodemographic-softlabels-Sh-apy0E-py3.7/lib/python3.7/site-packages/sklearn/metrics/_classification.py:1318: UndefinedMetricWarning: Precision is ill-defined and being set to 0.0 in labels with no predicted samples. Use `zero_division` parameter to control this behavior.\n",
      "  _warn_prf(average, modifier, msg_start, len(result))\n",
      "bootstrap:  76%|██████████████████████       | 760/1000 [00:09<00:04, 54.90it/s]/home/matthias/.cache/pypoetry/virtualenvs/sociodemographic-softlabels-Sh-apy0E-py3.7/lib/python3.7/site-packages/sklearn/metrics/_classification.py:1318: UndefinedMetricWarning: Precision is ill-defined and being set to 0.0 in labels with no predicted samples. Use `zero_division` parameter to control this behavior.\n",
      "  _warn_prf(average, modifier, msg_start, len(result))\n",
      "/home/matthias/.cache/pypoetry/virtualenvs/sociodemographic-softlabels-Sh-apy0E-py3.7/lib/python3.7/site-packages/sklearn/metrics/_classification.py:1318: UndefinedMetricWarning: Precision is ill-defined and being set to 0.0 in labels with no predicted samples. Use `zero_division` parameter to control this behavior.\n",
      "  _warn_prf(average, modifier, msg_start, len(result))\n",
      "/home/matthias/.cache/pypoetry/virtualenvs/sociodemographic-softlabels-Sh-apy0E-py3.7/lib/python3.7/site-packages/sklearn/metrics/_classification.py:1318: UndefinedMetricWarning: Precision is ill-defined and being set to 0.0 in labels with no predicted samples. Use `zero_division` parameter to control this behavior.\n",
      "  _warn_prf(average, modifier, msg_start, len(result))\n",
      "/home/matthias/.cache/pypoetry/virtualenvs/sociodemographic-softlabels-Sh-apy0E-py3.7/lib/python3.7/site-packages/sklearn/metrics/_classification.py:1318: UndefinedMetricWarning: Precision is ill-defined and being set to 0.0 in labels with no predicted samples. Use `zero_division` parameter to control this behavior.\n",
      "  _warn_prf(average, modifier, msg_start, len(result))\n",
      "bootstrap:  77%|██████████████████████▏      | 766/1000 [00:09<00:04, 52.08it/s]/home/matthias/.cache/pypoetry/virtualenvs/sociodemographic-softlabels-Sh-apy0E-py3.7/lib/python3.7/site-packages/sklearn/metrics/_classification.py:1318: UndefinedMetricWarning: Precision is ill-defined and being set to 0.0 in labels with no predicted samples. Use `zero_division` parameter to control this behavior.\n",
      "  _warn_prf(average, modifier, msg_start, len(result))\n",
      "bootstrap:  77%|██████████████████████▍      | 772/1000 [00:09<00:04, 50.22it/s]/home/matthias/.cache/pypoetry/virtualenvs/sociodemographic-softlabels-Sh-apy0E-py3.7/lib/python3.7/site-packages/sklearn/metrics/_classification.py:1318: UndefinedMetricWarning: Precision is ill-defined and being set to 0.0 in labels with no predicted samples. Use `zero_division` parameter to control this behavior.\n",
      "  _warn_prf(average, modifier, msg_start, len(result))\n",
      "/home/matthias/.cache/pypoetry/virtualenvs/sociodemographic-softlabels-Sh-apy0E-py3.7/lib/python3.7/site-packages/sklearn/metrics/_classification.py:1318: UndefinedMetricWarning: Precision is ill-defined and being set to 0.0 in labels with no predicted samples. Use `zero_division` parameter to control this behavior.\n",
      "  _warn_prf(average, modifier, msg_start, len(result))\n",
      "/home/matthias/.cache/pypoetry/virtualenvs/sociodemographic-softlabels-Sh-apy0E-py3.7/lib/python3.7/site-packages/sklearn/metrics/_classification.py:1318: UndefinedMetricWarning: Precision is ill-defined and being set to 0.0 in labels with no predicted samples. Use `zero_division` parameter to control this behavior.\n",
      "  _warn_prf(average, modifier, msg_start, len(result))\n",
      "/home/matthias/.cache/pypoetry/virtualenvs/sociodemographic-softlabels-Sh-apy0E-py3.7/lib/python3.7/site-packages/sklearn/metrics/_classification.py:1318: UndefinedMetricWarning: Precision is ill-defined and being set to 0.0 in labels with no predicted samples. Use `zero_division` parameter to control this behavior.\n",
      "  _warn_prf(average, modifier, msg_start, len(result))\n",
      "bootstrap:  78%|██████████████████████▌      | 778/1000 [00:09<00:04, 51.43it/s]/home/matthias/.cache/pypoetry/virtualenvs/sociodemographic-softlabels-Sh-apy0E-py3.7/lib/python3.7/site-packages/sklearn/metrics/_classification.py:1318: UndefinedMetricWarning: Precision is ill-defined and being set to 0.0 in labels with no predicted samples. Use `zero_division` parameter to control this behavior.\n",
      "  _warn_prf(average, modifier, msg_start, len(result))\n",
      "bootstrap:  78%|██████████████████████▋      | 784/1000 [00:10<00:04, 53.35it/s]/home/matthias/.cache/pypoetry/virtualenvs/sociodemographic-softlabels-Sh-apy0E-py3.7/lib/python3.7/site-packages/sklearn/metrics/_classification.py:1318: UndefinedMetricWarning: Precision is ill-defined and being set to 0.0 in labels with no predicted samples. Use `zero_division` parameter to control this behavior.\n",
      "  _warn_prf(average, modifier, msg_start, len(result))\n",
      "/home/matthias/.cache/pypoetry/virtualenvs/sociodemographic-softlabels-Sh-apy0E-py3.7/lib/python3.7/site-packages/sklearn/metrics/_classification.py:1318: UndefinedMetricWarning: Precision is ill-defined and being set to 0.0 in labels with no predicted samples. Use `zero_division` parameter to control this behavior.\n",
      "  _warn_prf(average, modifier, msg_start, len(result))\n",
      "/home/matthias/.cache/pypoetry/virtualenvs/sociodemographic-softlabels-Sh-apy0E-py3.7/lib/python3.7/site-packages/sklearn/metrics/_classification.py:1318: UndefinedMetricWarning: Precision is ill-defined and being set to 0.0 in labels with no predicted samples. Use `zero_division` parameter to control this behavior.\n",
      "  _warn_prf(average, modifier, msg_start, len(result))\n",
      "bootstrap:  79%|██████████████████████▉      | 790/1000 [00:10<00:04, 52.04it/s]/home/matthias/.cache/pypoetry/virtualenvs/sociodemographic-softlabels-Sh-apy0E-py3.7/lib/python3.7/site-packages/sklearn/metrics/_classification.py:1318: UndefinedMetricWarning: Precision is ill-defined and being set to 0.0 in labels with no predicted samples. Use `zero_division` parameter to control this behavior.\n",
      "  _warn_prf(average, modifier, msg_start, len(result))\n",
      "/home/matthias/.cache/pypoetry/virtualenvs/sociodemographic-softlabels-Sh-apy0E-py3.7/lib/python3.7/site-packages/sklearn/metrics/_classification.py:1318: UndefinedMetricWarning: Precision is ill-defined and being set to 0.0 in labels with no predicted samples. Use `zero_division` parameter to control this behavior.\n",
      "  _warn_prf(average, modifier, msg_start, len(result))\n",
      "/home/matthias/.cache/pypoetry/virtualenvs/sociodemographic-softlabels-Sh-apy0E-py3.7/lib/python3.7/site-packages/sklearn/metrics/_classification.py:1318: UndefinedMetricWarning: Precision is ill-defined and being set to 0.0 in labels with no predicted samples. Use `zero_division` parameter to control this behavior.\n",
      "  _warn_prf(average, modifier, msg_start, len(result))\n",
      "bootstrap:  80%|███████████████████████      | 796/1000 [00:10<00:03, 52.23it/s]/home/matthias/.cache/pypoetry/virtualenvs/sociodemographic-softlabels-Sh-apy0E-py3.7/lib/python3.7/site-packages/sklearn/metrics/_classification.py:1318: UndefinedMetricWarning: Precision is ill-defined and being set to 0.0 in labels with no predicted samples. Use `zero_division` parameter to control this behavior.\n",
      "  _warn_prf(average, modifier, msg_start, len(result))\n",
      "/home/matthias/.cache/pypoetry/virtualenvs/sociodemographic-softlabels-Sh-apy0E-py3.7/lib/python3.7/site-packages/sklearn/metrics/_classification.py:1318: UndefinedMetricWarning: Precision is ill-defined and being set to 0.0 in labels with no predicted samples. Use `zero_division` parameter to control this behavior.\n",
      "  _warn_prf(average, modifier, msg_start, len(result))\n",
      "/home/matthias/.cache/pypoetry/virtualenvs/sociodemographic-softlabels-Sh-apy0E-py3.7/lib/python3.7/site-packages/sklearn/metrics/_classification.py:1318: UndefinedMetricWarning: Precision is ill-defined and being set to 0.0 in labels with no predicted samples. Use `zero_division` parameter to control this behavior.\n",
      "  _warn_prf(average, modifier, msg_start, len(result))\n",
      "/home/matthias/.cache/pypoetry/virtualenvs/sociodemographic-softlabels-Sh-apy0E-py3.7/lib/python3.7/site-packages/sklearn/metrics/_classification.py:1318: UndefinedMetricWarning: Precision is ill-defined and being set to 0.0 in labels with no predicted samples. Use `zero_division` parameter to control this behavior.\n",
      "  _warn_prf(average, modifier, msg_start, len(result))\n",
      "/home/matthias/.cache/pypoetry/virtualenvs/sociodemographic-softlabels-Sh-apy0E-py3.7/lib/python3.7/site-packages/sklearn/metrics/_classification.py:1318: UndefinedMetricWarning: Precision is ill-defined and being set to 0.0 in labels with no predicted samples. Use `zero_division` parameter to control this behavior.\n",
      "  _warn_prf(average, modifier, msg_start, len(result))\n",
      "bootstrap:  80%|███████████████████████▎     | 802/1000 [00:10<00:04, 49.31it/s]/home/matthias/.cache/pypoetry/virtualenvs/sociodemographic-softlabels-Sh-apy0E-py3.7/lib/python3.7/site-packages/sklearn/metrics/_classification.py:1318: UndefinedMetricWarning: Precision is ill-defined and being set to 0.0 in labels with no predicted samples. Use `zero_division` parameter to control this behavior.\n",
      "  _warn_prf(average, modifier, msg_start, len(result))\n",
      "/home/matthias/.cache/pypoetry/virtualenvs/sociodemographic-softlabels-Sh-apy0E-py3.7/lib/python3.7/site-packages/sklearn/metrics/_classification.py:1318: UndefinedMetricWarning: Precision is ill-defined and being set to 0.0 in labels with no predicted samples. Use `zero_division` parameter to control this behavior.\n",
      "  _warn_prf(average, modifier, msg_start, len(result))\n",
      "/home/matthias/.cache/pypoetry/virtualenvs/sociodemographic-softlabels-Sh-apy0E-py3.7/lib/python3.7/site-packages/sklearn/metrics/_classification.py:1318: UndefinedMetricWarning: Precision is ill-defined and being set to 0.0 in labels with no predicted samples. Use `zero_division` parameter to control this behavior.\n",
      "  _warn_prf(average, modifier, msg_start, len(result))\n",
      "/home/matthias/.cache/pypoetry/virtualenvs/sociodemographic-softlabels-Sh-apy0E-py3.7/lib/python3.7/site-packages/sklearn/metrics/_classification.py:1318: UndefinedMetricWarning: Precision is ill-defined and being set to 0.0 in labels with no predicted samples. Use `zero_division` parameter to control this behavior.\n",
      "  _warn_prf(average, modifier, msg_start, len(result))\n",
      "/home/matthias/.cache/pypoetry/virtualenvs/sociodemographic-softlabels-Sh-apy0E-py3.7/lib/python3.7/site-packages/sklearn/metrics/_classification.py:1318: UndefinedMetricWarning: Precision is ill-defined and being set to 0.0 in labels with no predicted samples. Use `zero_division` parameter to control this behavior.\n",
      "  _warn_prf(average, modifier, msg_start, len(result))\n",
      "/home/matthias/.cache/pypoetry/virtualenvs/sociodemographic-softlabels-Sh-apy0E-py3.7/lib/python3.7/site-packages/sklearn/metrics/_classification.py:1318: UndefinedMetricWarning: Precision is ill-defined and being set to 0.0 in labels with no predicted samples. Use `zero_division` parameter to control this behavior.\n",
      "  _warn_prf(average, modifier, msg_start, len(result))\n",
      "bootstrap:  81%|███████████████████████▍     | 809/1000 [00:10<00:03, 52.95it/s]/home/matthias/.cache/pypoetry/virtualenvs/sociodemographic-softlabels-Sh-apy0E-py3.7/lib/python3.7/site-packages/sklearn/metrics/_classification.py:1318: UndefinedMetricWarning: Precision is ill-defined and being set to 0.0 in labels with no predicted samples. Use `zero_division` parameter to control this behavior.\n",
      "  _warn_prf(average, modifier, msg_start, len(result))\n",
      "/home/matthias/.cache/pypoetry/virtualenvs/sociodemographic-softlabels-Sh-apy0E-py3.7/lib/python3.7/site-packages/sklearn/metrics/_classification.py:1318: UndefinedMetricWarning: Precision is ill-defined and being set to 0.0 in labels with no predicted samples. Use `zero_division` parameter to control this behavior.\n",
      "  _warn_prf(average, modifier, msg_start, len(result))\n",
      "/home/matthias/.cache/pypoetry/virtualenvs/sociodemographic-softlabels-Sh-apy0E-py3.7/lib/python3.7/site-packages/sklearn/metrics/_classification.py:1318: UndefinedMetricWarning: Precision is ill-defined and being set to 0.0 in labels with no predicted samples. Use `zero_division` parameter to control this behavior.\n",
      "  _warn_prf(average, modifier, msg_start, len(result))\n",
      "/home/matthias/.cache/pypoetry/virtualenvs/sociodemographic-softlabels-Sh-apy0E-py3.7/lib/python3.7/site-packages/sklearn/metrics/_classification.py:1318: UndefinedMetricWarning: Precision is ill-defined and being set to 0.0 in labels with no predicted samples. Use `zero_division` parameter to control this behavior.\n",
      "  _warn_prf(average, modifier, msg_start, len(result))\n",
      "/home/matthias/.cache/pypoetry/virtualenvs/sociodemographic-softlabels-Sh-apy0E-py3.7/lib/python3.7/site-packages/sklearn/metrics/_classification.py:1318: UndefinedMetricWarning: Precision is ill-defined and being set to 0.0 in labels with no predicted samples. Use `zero_division` parameter to control this behavior.\n",
      "  _warn_prf(average, modifier, msg_start, len(result))\n",
      "/home/matthias/.cache/pypoetry/virtualenvs/sociodemographic-softlabels-Sh-apy0E-py3.7/lib/python3.7/site-packages/sklearn/metrics/_classification.py:1318: UndefinedMetricWarning: Precision is ill-defined and being set to 0.0 in labels with no predicted samples. Use `zero_division` parameter to control this behavior.\n",
      "  _warn_prf(average, modifier, msg_start, len(result))\n",
      "bootstrap:  82%|███████████████████████▋     | 816/1000 [00:10<00:03, 52.34it/s]/home/matthias/.cache/pypoetry/virtualenvs/sociodemographic-softlabels-Sh-apy0E-py3.7/lib/python3.7/site-packages/sklearn/metrics/_classification.py:1318: UndefinedMetricWarning: Precision is ill-defined and being set to 0.0 in labels with no predicted samples. Use `zero_division` parameter to control this behavior.\n",
      "  _warn_prf(average, modifier, msg_start, len(result))\n",
      "/home/matthias/.cache/pypoetry/virtualenvs/sociodemographic-softlabels-Sh-apy0E-py3.7/lib/python3.7/site-packages/sklearn/metrics/_classification.py:1318: UndefinedMetricWarning: Precision is ill-defined and being set to 0.0 in labels with no predicted samples. Use `zero_division` parameter to control this behavior.\n",
      "  _warn_prf(average, modifier, msg_start, len(result))\n",
      "bootstrap:  82%|███████████████████████▊     | 822/1000 [00:10<00:03, 52.72it/s]/home/matthias/.cache/pypoetry/virtualenvs/sociodemographic-softlabels-Sh-apy0E-py3.7/lib/python3.7/site-packages/sklearn/metrics/_classification.py:1318: UndefinedMetricWarning: Precision is ill-defined and being set to 0.0 in labels with no predicted samples. Use `zero_division` parameter to control this behavior.\n",
      "  _warn_prf(average, modifier, msg_start, len(result))\n",
      "/home/matthias/.cache/pypoetry/virtualenvs/sociodemographic-softlabels-Sh-apy0E-py3.7/lib/python3.7/site-packages/sklearn/metrics/_classification.py:1318: UndefinedMetricWarning: Precision is ill-defined and being set to 0.0 in labels with no predicted samples. Use `zero_division` parameter to control this behavior.\n",
      "  _warn_prf(average, modifier, msg_start, len(result))\n",
      "/home/matthias/.cache/pypoetry/virtualenvs/sociodemographic-softlabels-Sh-apy0E-py3.7/lib/python3.7/site-packages/sklearn/metrics/_classification.py:1318: UndefinedMetricWarning: Precision is ill-defined and being set to 0.0 in labels with no predicted samples. Use `zero_division` parameter to control this behavior.\n",
      "  _warn_prf(average, modifier, msg_start, len(result))\n",
      "/home/matthias/.cache/pypoetry/virtualenvs/sociodemographic-softlabels-Sh-apy0E-py3.7/lib/python3.7/site-packages/sklearn/metrics/_classification.py:1318: UndefinedMetricWarning: Precision is ill-defined and being set to 0.0 in labels with no predicted samples. Use `zero_division` parameter to control this behavior.\n",
      "  _warn_prf(average, modifier, msg_start, len(result))\n",
      "/home/matthias/.cache/pypoetry/virtualenvs/sociodemographic-softlabels-Sh-apy0E-py3.7/lib/python3.7/site-packages/sklearn/metrics/_classification.py:1318: UndefinedMetricWarning: Precision is ill-defined and being set to 0.0 in labels with no predicted samples. Use `zero_division` parameter to control this behavior.\n",
      "  _warn_prf(average, modifier, msg_start, len(result))\n",
      "/home/matthias/.cache/pypoetry/virtualenvs/sociodemographic-softlabels-Sh-apy0E-py3.7/lib/python3.7/site-packages/sklearn/metrics/_classification.py:1318: UndefinedMetricWarning: Precision is ill-defined and being set to 0.0 in labels with no predicted samples. Use `zero_division` parameter to control this behavior.\n",
      "  _warn_prf(average, modifier, msg_start, len(result))\n",
      "bootstrap:  83%|████████████████████████     | 829/1000 [00:10<00:03, 56.23it/s]/home/matthias/.cache/pypoetry/virtualenvs/sociodemographic-softlabels-Sh-apy0E-py3.7/lib/python3.7/site-packages/sklearn/metrics/_classification.py:1318: UndefinedMetricWarning: Precision is ill-defined and being set to 0.0 in labels with no predicted samples. Use `zero_division` parameter to control this behavior.\n",
      "  _warn_prf(average, modifier, msg_start, len(result))\n",
      "/home/matthias/.cache/pypoetry/virtualenvs/sociodemographic-softlabels-Sh-apy0E-py3.7/lib/python3.7/site-packages/sklearn/metrics/_classification.py:1318: UndefinedMetricWarning: Precision is ill-defined and being set to 0.0 in labels with no predicted samples. Use `zero_division` parameter to control this behavior.\n",
      "  _warn_prf(average, modifier, msg_start, len(result))\n",
      "/home/matthias/.cache/pypoetry/virtualenvs/sociodemographic-softlabels-Sh-apy0E-py3.7/lib/python3.7/site-packages/sklearn/metrics/_classification.py:1318: UndefinedMetricWarning: Precision is ill-defined and being set to 0.0 in labels with no predicted samples. Use `zero_division` parameter to control this behavior.\n",
      "  _warn_prf(average, modifier, msg_start, len(result))\n",
      "/home/matthias/.cache/pypoetry/virtualenvs/sociodemographic-softlabels-Sh-apy0E-py3.7/lib/python3.7/site-packages/sklearn/metrics/_classification.py:1318: UndefinedMetricWarning: Precision is ill-defined and being set to 0.0 in labels with no predicted samples. Use `zero_division` parameter to control this behavior.\n",
      "  _warn_prf(average, modifier, msg_start, len(result))\n",
      "bootstrap:  84%|████████████████████████▏    | 836/1000 [00:11<00:02, 58.25it/s]/home/matthias/.cache/pypoetry/virtualenvs/sociodemographic-softlabels-Sh-apy0E-py3.7/lib/python3.7/site-packages/sklearn/metrics/_classification.py:1318: UndefinedMetricWarning: Precision is ill-defined and being set to 0.0 in labels with no predicted samples. Use `zero_division` parameter to control this behavior.\n",
      "  _warn_prf(average, modifier, msg_start, len(result))\n",
      "/home/matthias/.cache/pypoetry/virtualenvs/sociodemographic-softlabels-Sh-apy0E-py3.7/lib/python3.7/site-packages/sklearn/metrics/_classification.py:1318: UndefinedMetricWarning: Precision is ill-defined and being set to 0.0 in labels with no predicted samples. Use `zero_division` parameter to control this behavior.\n",
      "  _warn_prf(average, modifier, msg_start, len(result))\n",
      "/home/matthias/.cache/pypoetry/virtualenvs/sociodemographic-softlabels-Sh-apy0E-py3.7/lib/python3.7/site-packages/sklearn/metrics/_classification.py:1318: UndefinedMetricWarning: Precision is ill-defined and being set to 0.0 in labels with no predicted samples. Use `zero_division` parameter to control this behavior.\n",
      "  _warn_prf(average, modifier, msg_start, len(result))\n",
      "/home/matthias/.cache/pypoetry/virtualenvs/sociodemographic-softlabels-Sh-apy0E-py3.7/lib/python3.7/site-packages/sklearn/metrics/_classification.py:1318: UndefinedMetricWarning: Precision is ill-defined and being set to 0.0 in labels with no predicted samples. Use `zero_division` parameter to control this behavior.\n",
      "  _warn_prf(average, modifier, msg_start, len(result))\n",
      "/home/matthias/.cache/pypoetry/virtualenvs/sociodemographic-softlabels-Sh-apy0E-py3.7/lib/python3.7/site-packages/sklearn/metrics/_classification.py:1318: UndefinedMetricWarning: Precision is ill-defined and being set to 0.0 in labels with no predicted samples. Use `zero_division` parameter to control this behavior.\n",
      "  _warn_prf(average, modifier, msg_start, len(result))\n",
      "bootstrap:  84%|████████████████████████▍    | 842/1000 [00:11<00:02, 54.94it/s]/home/matthias/.cache/pypoetry/virtualenvs/sociodemographic-softlabels-Sh-apy0E-py3.7/lib/python3.7/site-packages/sklearn/metrics/_classification.py:1318: UndefinedMetricWarning: Precision is ill-defined and being set to 0.0 in labels with no predicted samples. Use `zero_division` parameter to control this behavior.\n",
      "  _warn_prf(average, modifier, msg_start, len(result))\n",
      "/home/matthias/.cache/pypoetry/virtualenvs/sociodemographic-softlabels-Sh-apy0E-py3.7/lib/python3.7/site-packages/sklearn/metrics/_classification.py:1318: UndefinedMetricWarning: Precision is ill-defined and being set to 0.0 in labels with no predicted samples. Use `zero_division` parameter to control this behavior.\n",
      "  _warn_prf(average, modifier, msg_start, len(result))\n",
      "/home/matthias/.cache/pypoetry/virtualenvs/sociodemographic-softlabels-Sh-apy0E-py3.7/lib/python3.7/site-packages/sklearn/metrics/_classification.py:1318: UndefinedMetricWarning: Precision is ill-defined and being set to 0.0 in labels with no predicted samples. Use `zero_division` parameter to control this behavior.\n",
      "  _warn_prf(average, modifier, msg_start, len(result))\n",
      "/home/matthias/.cache/pypoetry/virtualenvs/sociodemographic-softlabels-Sh-apy0E-py3.7/lib/python3.7/site-packages/sklearn/metrics/_classification.py:1318: UndefinedMetricWarning: Precision is ill-defined and being set to 0.0 in labels with no predicted samples. Use `zero_division` parameter to control this behavior.\n",
      "  _warn_prf(average, modifier, msg_start, len(result))\n",
      "/home/matthias/.cache/pypoetry/virtualenvs/sociodemographic-softlabels-Sh-apy0E-py3.7/lib/python3.7/site-packages/sklearn/metrics/_classification.py:1318: UndefinedMetricWarning: Precision is ill-defined and being set to 0.0 in labels with no predicted samples. Use `zero_division` parameter to control this behavior.\n",
      "  _warn_prf(average, modifier, msg_start, len(result))\n",
      "bootstrap:  85%|████████████████████████▌    | 848/1000 [00:11<00:02, 54.14it/s]/home/matthias/.cache/pypoetry/virtualenvs/sociodemographic-softlabels-Sh-apy0E-py3.7/lib/python3.7/site-packages/sklearn/metrics/_classification.py:1318: UndefinedMetricWarning: Precision is ill-defined and being set to 0.0 in labels with no predicted samples. Use `zero_division` parameter to control this behavior.\n",
      "  _warn_prf(average, modifier, msg_start, len(result))\n",
      "/home/matthias/.cache/pypoetry/virtualenvs/sociodemographic-softlabels-Sh-apy0E-py3.7/lib/python3.7/site-packages/sklearn/metrics/_classification.py:1318: UndefinedMetricWarning: Precision is ill-defined and being set to 0.0 in labels with no predicted samples. Use `zero_division` parameter to control this behavior.\n",
      "  _warn_prf(average, modifier, msg_start, len(result))\n",
      "/home/matthias/.cache/pypoetry/virtualenvs/sociodemographic-softlabels-Sh-apy0E-py3.7/lib/python3.7/site-packages/sklearn/metrics/_classification.py:1318: UndefinedMetricWarning: Precision is ill-defined and being set to 0.0 in labels with no predicted samples. Use `zero_division` parameter to control this behavior.\n",
      "  _warn_prf(average, modifier, msg_start, len(result))\n",
      "/home/matthias/.cache/pypoetry/virtualenvs/sociodemographic-softlabels-Sh-apy0E-py3.7/lib/python3.7/site-packages/sklearn/metrics/_classification.py:1318: UndefinedMetricWarning: Precision is ill-defined and being set to 0.0 in labels with no predicted samples. Use `zero_division` parameter to control this behavior.\n",
      "  _warn_prf(average, modifier, msg_start, len(result))\n",
      "bootstrap:  85%|████████████████████████▊    | 854/1000 [00:11<00:02, 52.76it/s]/home/matthias/.cache/pypoetry/virtualenvs/sociodemographic-softlabels-Sh-apy0E-py3.7/lib/python3.7/site-packages/sklearn/metrics/_classification.py:1318: UndefinedMetricWarning: Precision is ill-defined and being set to 0.0 in labels with no predicted samples. Use `zero_division` parameter to control this behavior.\n",
      "  _warn_prf(average, modifier, msg_start, len(result))\n",
      "/home/matthias/.cache/pypoetry/virtualenvs/sociodemographic-softlabels-Sh-apy0E-py3.7/lib/python3.7/site-packages/sklearn/metrics/_classification.py:1318: UndefinedMetricWarning: Precision is ill-defined and being set to 0.0 in labels with no predicted samples. Use `zero_division` parameter to control this behavior.\n",
      "  _warn_prf(average, modifier, msg_start, len(result))\n",
      "/home/matthias/.cache/pypoetry/virtualenvs/sociodemographic-softlabels-Sh-apy0E-py3.7/lib/python3.7/site-packages/sklearn/metrics/_classification.py:1318: UndefinedMetricWarning: Precision is ill-defined and being set to 0.0 in labels with no predicted samples. Use `zero_division` parameter to control this behavior.\n",
      "  _warn_prf(average, modifier, msg_start, len(result))\n",
      "/home/matthias/.cache/pypoetry/virtualenvs/sociodemographic-softlabels-Sh-apy0E-py3.7/lib/python3.7/site-packages/sklearn/metrics/_classification.py:1318: UndefinedMetricWarning: Precision is ill-defined and being set to 0.0 in labels with no predicted samples. Use `zero_division` parameter to control this behavior.\n",
      "  _warn_prf(average, modifier, msg_start, len(result))\n",
      "/home/matthias/.cache/pypoetry/virtualenvs/sociodemographic-softlabels-Sh-apy0E-py3.7/lib/python3.7/site-packages/sklearn/metrics/_classification.py:1318: UndefinedMetricWarning: Precision is ill-defined and being set to 0.0 in labels with no predicted samples. Use `zero_division` parameter to control this behavior.\n",
      "  _warn_prf(average, modifier, msg_start, len(result))\n",
      "/home/matthias/.cache/pypoetry/virtualenvs/sociodemographic-softlabels-Sh-apy0E-py3.7/lib/python3.7/site-packages/sklearn/metrics/_classification.py:1318: UndefinedMetricWarning: Precision is ill-defined and being set to 0.0 in labels with no predicted samples. Use `zero_division` parameter to control this behavior.\n",
      "  _warn_prf(average, modifier, msg_start, len(result))\n",
      "bootstrap:  86%|████████████████████████▉    | 860/1000 [00:11<00:02, 54.67it/s]/home/matthias/.cache/pypoetry/virtualenvs/sociodemographic-softlabels-Sh-apy0E-py3.7/lib/python3.7/site-packages/sklearn/metrics/_classification.py:1318: UndefinedMetricWarning: Precision is ill-defined and being set to 0.0 in labels with no predicted samples. Use `zero_division` parameter to control this behavior.\n",
      "  _warn_prf(average, modifier, msg_start, len(result))\n",
      "/home/matthias/.cache/pypoetry/virtualenvs/sociodemographic-softlabels-Sh-apy0E-py3.7/lib/python3.7/site-packages/sklearn/metrics/_classification.py:1318: UndefinedMetricWarning: Precision is ill-defined and being set to 0.0 in labels with no predicted samples. Use `zero_division` parameter to control this behavior.\n",
      "  _warn_prf(average, modifier, msg_start, len(result))\n",
      "/home/matthias/.cache/pypoetry/virtualenvs/sociodemographic-softlabels-Sh-apy0E-py3.7/lib/python3.7/site-packages/sklearn/metrics/_classification.py:1318: UndefinedMetricWarning: Precision is ill-defined and being set to 0.0 in labels with no predicted samples. Use `zero_division` parameter to control this behavior.\n",
      "  _warn_prf(average, modifier, msg_start, len(result))\n",
      "/home/matthias/.cache/pypoetry/virtualenvs/sociodemographic-softlabels-Sh-apy0E-py3.7/lib/python3.7/site-packages/sklearn/metrics/_classification.py:1318: UndefinedMetricWarning: Precision is ill-defined and being set to 0.0 in labels with no predicted samples. Use `zero_division` parameter to control this behavior.\n",
      "  _warn_prf(average, modifier, msg_start, len(result))\n",
      "/home/matthias/.cache/pypoetry/virtualenvs/sociodemographic-softlabels-Sh-apy0E-py3.7/lib/python3.7/site-packages/sklearn/metrics/_classification.py:1318: UndefinedMetricWarning: Precision is ill-defined and being set to 0.0 in labels with no predicted samples. Use `zero_division` parameter to control this behavior.\n",
      "  _warn_prf(average, modifier, msg_start, len(result))\n",
      "bootstrap:  87%|█████████████████████████    | 866/1000 [00:11<00:02, 51.36it/s]/home/matthias/.cache/pypoetry/virtualenvs/sociodemographic-softlabels-Sh-apy0E-py3.7/lib/python3.7/site-packages/sklearn/metrics/_classification.py:1318: UndefinedMetricWarning: Precision is ill-defined and being set to 0.0 in labels with no predicted samples. Use `zero_division` parameter to control this behavior.\n",
      "  _warn_prf(average, modifier, msg_start, len(result))\n",
      "/home/matthias/.cache/pypoetry/virtualenvs/sociodemographic-softlabels-Sh-apy0E-py3.7/lib/python3.7/site-packages/sklearn/metrics/_classification.py:1318: UndefinedMetricWarning: Precision is ill-defined and being set to 0.0 in labels with no predicted samples. Use `zero_division` parameter to control this behavior.\n",
      "  _warn_prf(average, modifier, msg_start, len(result))\n",
      "/home/matthias/.cache/pypoetry/virtualenvs/sociodemographic-softlabels-Sh-apy0E-py3.7/lib/python3.7/site-packages/sklearn/metrics/_classification.py:1318: UndefinedMetricWarning: Precision is ill-defined and being set to 0.0 in labels with no predicted samples. Use `zero_division` parameter to control this behavior.\n",
      "  _warn_prf(average, modifier, msg_start, len(result))\n",
      "bootstrap:  87%|█████████████████████████▎   | 872/1000 [00:11<00:02, 50.65it/s]/home/matthias/.cache/pypoetry/virtualenvs/sociodemographic-softlabels-Sh-apy0E-py3.7/lib/python3.7/site-packages/sklearn/metrics/_classification.py:1318: UndefinedMetricWarning: Precision is ill-defined and being set to 0.0 in labels with no predicted samples. Use `zero_division` parameter to control this behavior.\n",
      "  _warn_prf(average, modifier, msg_start, len(result))\n",
      "/home/matthias/.cache/pypoetry/virtualenvs/sociodemographic-softlabels-Sh-apy0E-py3.7/lib/python3.7/site-packages/sklearn/metrics/_classification.py:1318: UndefinedMetricWarning: Precision is ill-defined and being set to 0.0 in labels with no predicted samples. Use `zero_division` parameter to control this behavior.\n",
      "  _warn_prf(average, modifier, msg_start, len(result))\n",
      "/home/matthias/.cache/pypoetry/virtualenvs/sociodemographic-softlabels-Sh-apy0E-py3.7/lib/python3.7/site-packages/sklearn/metrics/_classification.py:1318: UndefinedMetricWarning: Precision is ill-defined and being set to 0.0 in labels with no predicted samples. Use `zero_division` parameter to control this behavior.\n",
      "  _warn_prf(average, modifier, msg_start, len(result))\n",
      "/home/matthias/.cache/pypoetry/virtualenvs/sociodemographic-softlabels-Sh-apy0E-py3.7/lib/python3.7/site-packages/sklearn/metrics/_classification.py:1318: UndefinedMetricWarning: Precision is ill-defined and being set to 0.0 in labels with no predicted samples. Use `zero_division` parameter to control this behavior.\n",
      "  _warn_prf(average, modifier, msg_start, len(result))\n",
      "/home/matthias/.cache/pypoetry/virtualenvs/sociodemographic-softlabels-Sh-apy0E-py3.7/lib/python3.7/site-packages/sklearn/metrics/_classification.py:1318: UndefinedMetricWarning: Precision is ill-defined and being set to 0.0 in labels with no predicted samples. Use `zero_division` parameter to control this behavior.\n",
      "  _warn_prf(average, modifier, msg_start, len(result))\n",
      "/home/matthias/.cache/pypoetry/virtualenvs/sociodemographic-softlabels-Sh-apy0E-py3.7/lib/python3.7/site-packages/sklearn/metrics/_classification.py:1318: UndefinedMetricWarning: Precision is ill-defined and being set to 0.0 in labels with no predicted samples. Use `zero_division` parameter to control this behavior.\n",
      "  _warn_prf(average, modifier, msg_start, len(result))\n",
      "bootstrap:  88%|█████████████████████████▍   | 879/1000 [00:11<00:02, 54.49it/s]/home/matthias/.cache/pypoetry/virtualenvs/sociodemographic-softlabels-Sh-apy0E-py3.7/lib/python3.7/site-packages/sklearn/metrics/_classification.py:1318: UndefinedMetricWarning: Precision is ill-defined and being set to 0.0 in labels with no predicted samples. Use `zero_division` parameter to control this behavior.\n",
      "  _warn_prf(average, modifier, msg_start, len(result))\n",
      "/home/matthias/.cache/pypoetry/virtualenvs/sociodemographic-softlabels-Sh-apy0E-py3.7/lib/python3.7/site-packages/sklearn/metrics/_classification.py:1318: UndefinedMetricWarning: Precision is ill-defined and being set to 0.0 in labels with no predicted samples. Use `zero_division` parameter to control this behavior.\n",
      "  _warn_prf(average, modifier, msg_start, len(result))\n",
      "/home/matthias/.cache/pypoetry/virtualenvs/sociodemographic-softlabels-Sh-apy0E-py3.7/lib/python3.7/site-packages/sklearn/metrics/_classification.py:1318: UndefinedMetricWarning: Precision is ill-defined and being set to 0.0 in labels with no predicted samples. Use `zero_division` parameter to control this behavior.\n",
      "  _warn_prf(average, modifier, msg_start, len(result))\n",
      "/home/matthias/.cache/pypoetry/virtualenvs/sociodemographic-softlabels-Sh-apy0E-py3.7/lib/python3.7/site-packages/sklearn/metrics/_classification.py:1318: UndefinedMetricWarning: Precision is ill-defined and being set to 0.0 in labels with no predicted samples. Use `zero_division` parameter to control this behavior.\n",
      "  _warn_prf(average, modifier, msg_start, len(result))\n",
      "bootstrap:  88%|█████████████████████████▋   | 885/1000 [00:11<00:02, 53.04it/s]/home/matthias/.cache/pypoetry/virtualenvs/sociodemographic-softlabels-Sh-apy0E-py3.7/lib/python3.7/site-packages/sklearn/metrics/_classification.py:1318: UndefinedMetricWarning: Precision is ill-defined and being set to 0.0 in labels with no predicted samples. Use `zero_division` parameter to control this behavior.\n",
      "  _warn_prf(average, modifier, msg_start, len(result))\n",
      "/home/matthias/.cache/pypoetry/virtualenvs/sociodemographic-softlabels-Sh-apy0E-py3.7/lib/python3.7/site-packages/sklearn/metrics/_classification.py:1318: UndefinedMetricWarning: Precision is ill-defined and being set to 0.0 in labels with no predicted samples. Use `zero_division` parameter to control this behavior.\n",
      "  _warn_prf(average, modifier, msg_start, len(result))\n",
      "/home/matthias/.cache/pypoetry/virtualenvs/sociodemographic-softlabels-Sh-apy0E-py3.7/lib/python3.7/site-packages/sklearn/metrics/_classification.py:1318: UndefinedMetricWarning: Precision is ill-defined and being set to 0.0 in labels with no predicted samples. Use `zero_division` parameter to control this behavior.\n",
      "  _warn_prf(average, modifier, msg_start, len(result))\n",
      "bootstrap:  89%|█████████████████████████▊   | 891/1000 [00:12<00:01, 54.78it/s]/home/matthias/.cache/pypoetry/virtualenvs/sociodemographic-softlabels-Sh-apy0E-py3.7/lib/python3.7/site-packages/sklearn/metrics/_classification.py:1318: UndefinedMetricWarning: Precision is ill-defined and being set to 0.0 in labels with no predicted samples. Use `zero_division` parameter to control this behavior.\n",
      "  _warn_prf(average, modifier, msg_start, len(result))\n",
      "/home/matthias/.cache/pypoetry/virtualenvs/sociodemographic-softlabels-Sh-apy0E-py3.7/lib/python3.7/site-packages/sklearn/metrics/_classification.py:1318: UndefinedMetricWarning: Precision is ill-defined and being set to 0.0 in labels with no predicted samples. Use `zero_division` parameter to control this behavior.\n",
      "  _warn_prf(average, modifier, msg_start, len(result))\n",
      "/home/matthias/.cache/pypoetry/virtualenvs/sociodemographic-softlabels-Sh-apy0E-py3.7/lib/python3.7/site-packages/sklearn/metrics/_classification.py:1318: UndefinedMetricWarning: Precision is ill-defined and being set to 0.0 in labels with no predicted samples. Use `zero_division` parameter to control this behavior.\n",
      "  _warn_prf(average, modifier, msg_start, len(result))\n",
      "/home/matthias/.cache/pypoetry/virtualenvs/sociodemographic-softlabels-Sh-apy0E-py3.7/lib/python3.7/site-packages/sklearn/metrics/_classification.py:1318: UndefinedMetricWarning: Precision is ill-defined and being set to 0.0 in labels with no predicted samples. Use `zero_division` parameter to control this behavior.\n",
      "  _warn_prf(average, modifier, msg_start, len(result))\n",
      "bootstrap:  90%|██████████████████████████   | 897/1000 [00:12<00:01, 52.53it/s]/home/matthias/.cache/pypoetry/virtualenvs/sociodemographic-softlabels-Sh-apy0E-py3.7/lib/python3.7/site-packages/sklearn/metrics/_classification.py:1318: UndefinedMetricWarning: Precision is ill-defined and being set to 0.0 in labels with no predicted samples. Use `zero_division` parameter to control this behavior.\n",
      "  _warn_prf(average, modifier, msg_start, len(result))\n",
      "bootstrap:  90%|██████████████████████████▏  | 904/1000 [00:12<00:01, 56.35it/s]/home/matthias/.cache/pypoetry/virtualenvs/sociodemographic-softlabels-Sh-apy0E-py3.7/lib/python3.7/site-packages/sklearn/metrics/_classification.py:1318: UndefinedMetricWarning: Precision is ill-defined and being set to 0.0 in labels with no predicted samples. Use `zero_division` parameter to control this behavior.\n",
      "  _warn_prf(average, modifier, msg_start, len(result))\n",
      "/home/matthias/.cache/pypoetry/virtualenvs/sociodemographic-softlabels-Sh-apy0E-py3.7/lib/python3.7/site-packages/sklearn/metrics/_classification.py:1318: UndefinedMetricWarning: Precision is ill-defined and being set to 0.0 in labels with no predicted samples. Use `zero_division` parameter to control this behavior.\n",
      "  _warn_prf(average, modifier, msg_start, len(result))\n",
      "/home/matthias/.cache/pypoetry/virtualenvs/sociodemographic-softlabels-Sh-apy0E-py3.7/lib/python3.7/site-packages/sklearn/metrics/_classification.py:1318: UndefinedMetricWarning: Precision is ill-defined and being set to 0.0 in labels with no predicted samples. Use `zero_division` parameter to control this behavior.\n",
      "  _warn_prf(average, modifier, msg_start, len(result))\n",
      "/home/matthias/.cache/pypoetry/virtualenvs/sociodemographic-softlabels-Sh-apy0E-py3.7/lib/python3.7/site-packages/sklearn/metrics/_classification.py:1318: UndefinedMetricWarning: Precision is ill-defined and being set to 0.0 in labels with no predicted samples. Use `zero_division` parameter to control this behavior.\n",
      "  _warn_prf(average, modifier, msg_start, len(result))\n",
      "bootstrap:  91%|██████████████████████████▍  | 910/1000 [00:12<00:01, 56.45it/s]/home/matthias/.cache/pypoetry/virtualenvs/sociodemographic-softlabels-Sh-apy0E-py3.7/lib/python3.7/site-packages/sklearn/metrics/_classification.py:1318: UndefinedMetricWarning: Precision is ill-defined and being set to 0.0 in labels with no predicted samples. Use `zero_division` parameter to control this behavior.\n",
      "  _warn_prf(average, modifier, msg_start, len(result))\n",
      "/home/matthias/.cache/pypoetry/virtualenvs/sociodemographic-softlabels-Sh-apy0E-py3.7/lib/python3.7/site-packages/sklearn/metrics/_classification.py:1318: UndefinedMetricWarning: Precision is ill-defined and being set to 0.0 in labels with no predicted samples. Use `zero_division` parameter to control this behavior.\n",
      "  _warn_prf(average, modifier, msg_start, len(result))\n",
      "/home/matthias/.cache/pypoetry/virtualenvs/sociodemographic-softlabels-Sh-apy0E-py3.7/lib/python3.7/site-packages/sklearn/metrics/_classification.py:1318: UndefinedMetricWarning: Precision is ill-defined and being set to 0.0 in labels with no predicted samples. Use `zero_division` parameter to control this behavior.\n",
      "  _warn_prf(average, modifier, msg_start, len(result))\n",
      "/home/matthias/.cache/pypoetry/virtualenvs/sociodemographic-softlabels-Sh-apy0E-py3.7/lib/python3.7/site-packages/sklearn/metrics/_classification.py:1318: UndefinedMetricWarning: Precision is ill-defined and being set to 0.0 in labels with no predicted samples. Use `zero_division` parameter to control this behavior.\n",
      "  _warn_prf(average, modifier, msg_start, len(result))\n",
      "/home/matthias/.cache/pypoetry/virtualenvs/sociodemographic-softlabels-Sh-apy0E-py3.7/lib/python3.7/site-packages/sklearn/metrics/_classification.py:1318: UndefinedMetricWarning: Precision is ill-defined and being set to 0.0 in labels with no predicted samples. Use `zero_division` parameter to control this behavior.\n",
      "  _warn_prf(average, modifier, msg_start, len(result))\n",
      "/home/matthias/.cache/pypoetry/virtualenvs/sociodemographic-softlabels-Sh-apy0E-py3.7/lib/python3.7/site-packages/sklearn/metrics/_classification.py:1318: UndefinedMetricWarning: Precision is ill-defined and being set to 0.0 in labels with no predicted samples. Use `zero_division` parameter to control this behavior.\n",
      "  _warn_prf(average, modifier, msg_start, len(result))\n",
      "bootstrap:  92%|██████████████████████████▌  | 917/1000 [00:12<00:01, 58.79it/s]/home/matthias/.cache/pypoetry/virtualenvs/sociodemographic-softlabels-Sh-apy0E-py3.7/lib/python3.7/site-packages/sklearn/metrics/_classification.py:1318: UndefinedMetricWarning: Precision is ill-defined and being set to 0.0 in labels with no predicted samples. Use `zero_division` parameter to control this behavior.\n",
      "  _warn_prf(average, modifier, msg_start, len(result))\n",
      "/home/matthias/.cache/pypoetry/virtualenvs/sociodemographic-softlabels-Sh-apy0E-py3.7/lib/python3.7/site-packages/sklearn/metrics/_classification.py:1318: UndefinedMetricWarning: Precision is ill-defined and being set to 0.0 in labels with no predicted samples. Use `zero_division` parameter to control this behavior.\n",
      "  _warn_prf(average, modifier, msg_start, len(result))\n",
      "/home/matthias/.cache/pypoetry/virtualenvs/sociodemographic-softlabels-Sh-apy0E-py3.7/lib/python3.7/site-packages/sklearn/metrics/_classification.py:1318: UndefinedMetricWarning: Precision is ill-defined and being set to 0.0 in labels with no predicted samples. Use `zero_division` parameter to control this behavior.\n",
      "  _warn_prf(average, modifier, msg_start, len(result))\n",
      "/home/matthias/.cache/pypoetry/virtualenvs/sociodemographic-softlabels-Sh-apy0E-py3.7/lib/python3.7/site-packages/sklearn/metrics/_classification.py:1318: UndefinedMetricWarning: Precision is ill-defined and being set to 0.0 in labels with no predicted samples. Use `zero_division` parameter to control this behavior.\n",
      "  _warn_prf(average, modifier, msg_start, len(result))\n",
      "/home/matthias/.cache/pypoetry/virtualenvs/sociodemographic-softlabels-Sh-apy0E-py3.7/lib/python3.7/site-packages/sklearn/metrics/_classification.py:1318: UndefinedMetricWarning: Precision is ill-defined and being set to 0.0 in labels with no predicted samples. Use `zero_division` parameter to control this behavior.\n",
      "  _warn_prf(average, modifier, msg_start, len(result))\n",
      "/home/matthias/.cache/pypoetry/virtualenvs/sociodemographic-softlabels-Sh-apy0E-py3.7/lib/python3.7/site-packages/sklearn/metrics/_classification.py:1318: UndefinedMetricWarning: Precision is ill-defined and being set to 0.0 in labels with no predicted samples. Use `zero_division` parameter to control this behavior.\n",
      "  _warn_prf(average, modifier, msg_start, len(result))\n",
      "bootstrap:  92%|██████████████████████████▊  | 924/1000 [00:12<00:01, 61.56it/s]/home/matthias/.cache/pypoetry/virtualenvs/sociodemographic-softlabels-Sh-apy0E-py3.7/lib/python3.7/site-packages/sklearn/metrics/_classification.py:1318: UndefinedMetricWarning: Precision is ill-defined and being set to 0.0 in labels with no predicted samples. Use `zero_division` parameter to control this behavior.\n",
      "  _warn_prf(average, modifier, msg_start, len(result))\n",
      "/home/matthias/.cache/pypoetry/virtualenvs/sociodemographic-softlabels-Sh-apy0E-py3.7/lib/python3.7/site-packages/sklearn/metrics/_classification.py:1318: UndefinedMetricWarning: Precision is ill-defined and being set to 0.0 in labels with no predicted samples. Use `zero_division` parameter to control this behavior.\n",
      "  _warn_prf(average, modifier, msg_start, len(result))\n",
      "/home/matthias/.cache/pypoetry/virtualenvs/sociodemographic-softlabels-Sh-apy0E-py3.7/lib/python3.7/site-packages/sklearn/metrics/_classification.py:1318: UndefinedMetricWarning: Precision is ill-defined and being set to 0.0 in labels with no predicted samples. Use `zero_division` parameter to control this behavior.\n",
      "  _warn_prf(average, modifier, msg_start, len(result))\n",
      "/home/matthias/.cache/pypoetry/virtualenvs/sociodemographic-softlabels-Sh-apy0E-py3.7/lib/python3.7/site-packages/sklearn/metrics/_classification.py:1318: UndefinedMetricWarning: Precision is ill-defined and being set to 0.0 in labels with no predicted samples. Use `zero_division` parameter to control this behavior.\n",
      "  _warn_prf(average, modifier, msg_start, len(result))\n",
      "/home/matthias/.cache/pypoetry/virtualenvs/sociodemographic-softlabels-Sh-apy0E-py3.7/lib/python3.7/site-packages/sklearn/metrics/_classification.py:1318: UndefinedMetricWarning: Precision is ill-defined and being set to 0.0 in labels with no predicted samples. Use `zero_division` parameter to control this behavior.\n",
      "  _warn_prf(average, modifier, msg_start, len(result))\n",
      "bootstrap:  93%|██████████████████████████▉  | 931/1000 [00:12<00:01, 59.78it/s]/home/matthias/.cache/pypoetry/virtualenvs/sociodemographic-softlabels-Sh-apy0E-py3.7/lib/python3.7/site-packages/sklearn/metrics/_classification.py:1318: UndefinedMetricWarning: Precision is ill-defined and being set to 0.0 in labels with no predicted samples. Use `zero_division` parameter to control this behavior.\n",
      "  _warn_prf(average, modifier, msg_start, len(result))\n",
      "/home/matthias/.cache/pypoetry/virtualenvs/sociodemographic-softlabels-Sh-apy0E-py3.7/lib/python3.7/site-packages/sklearn/metrics/_classification.py:1318: UndefinedMetricWarning: Precision is ill-defined and being set to 0.0 in labels with no predicted samples. Use `zero_division` parameter to control this behavior.\n",
      "  _warn_prf(average, modifier, msg_start, len(result))\n",
      "/home/matthias/.cache/pypoetry/virtualenvs/sociodemographic-softlabels-Sh-apy0E-py3.7/lib/python3.7/site-packages/sklearn/metrics/_classification.py:1318: UndefinedMetricWarning: Precision is ill-defined and being set to 0.0 in labels with no predicted samples. Use `zero_division` parameter to control this behavior.\n",
      "  _warn_prf(average, modifier, msg_start, len(result))\n",
      "/home/matthias/.cache/pypoetry/virtualenvs/sociodemographic-softlabels-Sh-apy0E-py3.7/lib/python3.7/site-packages/sklearn/metrics/_classification.py:1318: UndefinedMetricWarning: Precision is ill-defined and being set to 0.0 in labels with no predicted samples. Use `zero_division` parameter to control this behavior.\n",
      "  _warn_prf(average, modifier, msg_start, len(result))\n",
      "bootstrap:  94%|███████████████████████████▏ | 938/1000 [00:12<00:01, 56.84it/s]/home/matthias/.cache/pypoetry/virtualenvs/sociodemographic-softlabels-Sh-apy0E-py3.7/lib/python3.7/site-packages/sklearn/metrics/_classification.py:1318: UndefinedMetricWarning: Precision is ill-defined and being set to 0.0 in labels with no predicted samples. Use `zero_division` parameter to control this behavior.\n",
      "  _warn_prf(average, modifier, msg_start, len(result))\n",
      "/home/matthias/.cache/pypoetry/virtualenvs/sociodemographic-softlabels-Sh-apy0E-py3.7/lib/python3.7/site-packages/sklearn/metrics/_classification.py:1318: UndefinedMetricWarning: Precision is ill-defined and being set to 0.0 in labels with no predicted samples. Use `zero_division` parameter to control this behavior.\n",
      "  _warn_prf(average, modifier, msg_start, len(result))\n",
      "/home/matthias/.cache/pypoetry/virtualenvs/sociodemographic-softlabels-Sh-apy0E-py3.7/lib/python3.7/site-packages/sklearn/metrics/_classification.py:1318: UndefinedMetricWarning: Precision is ill-defined and being set to 0.0 in labels with no predicted samples. Use `zero_division` parameter to control this behavior.\n",
      "  _warn_prf(average, modifier, msg_start, len(result))\n",
      "/home/matthias/.cache/pypoetry/virtualenvs/sociodemographic-softlabels-Sh-apy0E-py3.7/lib/python3.7/site-packages/sklearn/metrics/_classification.py:1318: UndefinedMetricWarning: Precision is ill-defined and being set to 0.0 in labels with no predicted samples. Use `zero_division` parameter to control this behavior.\n",
      "  _warn_prf(average, modifier, msg_start, len(result))\n",
      "/home/matthias/.cache/pypoetry/virtualenvs/sociodemographic-softlabels-Sh-apy0E-py3.7/lib/python3.7/site-packages/sklearn/metrics/_classification.py:1318: UndefinedMetricWarning: Precision is ill-defined and being set to 0.0 in labels with no predicted samples. Use `zero_division` parameter to control this behavior.\n",
      "  _warn_prf(average, modifier, msg_start, len(result))\n",
      "bootstrap:  94%|███████████████████████████▍ | 944/1000 [00:12<00:00, 57.24it/s]/home/matthias/.cache/pypoetry/virtualenvs/sociodemographic-softlabels-Sh-apy0E-py3.7/lib/python3.7/site-packages/sklearn/metrics/_classification.py:1318: UndefinedMetricWarning: Precision is ill-defined and being set to 0.0 in labels with no predicted samples. Use `zero_division` parameter to control this behavior.\n",
      "  _warn_prf(average, modifier, msg_start, len(result))\n",
      "/home/matthias/.cache/pypoetry/virtualenvs/sociodemographic-softlabels-Sh-apy0E-py3.7/lib/python3.7/site-packages/sklearn/metrics/_classification.py:1318: UndefinedMetricWarning: Precision is ill-defined and being set to 0.0 in labels with no predicted samples. Use `zero_division` parameter to control this behavior.\n",
      "  _warn_prf(average, modifier, msg_start, len(result))\n",
      "/home/matthias/.cache/pypoetry/virtualenvs/sociodemographic-softlabels-Sh-apy0E-py3.7/lib/python3.7/site-packages/sklearn/metrics/_classification.py:1318: UndefinedMetricWarning: Precision is ill-defined and being set to 0.0 in labels with no predicted samples. Use `zero_division` parameter to control this behavior.\n",
      "  _warn_prf(average, modifier, msg_start, len(result))\n",
      "/home/matthias/.cache/pypoetry/virtualenvs/sociodemographic-softlabels-Sh-apy0E-py3.7/lib/python3.7/site-packages/sklearn/metrics/_classification.py:1318: UndefinedMetricWarning: Precision is ill-defined and being set to 0.0 in labels with no predicted samples. Use `zero_division` parameter to control this behavior.\n",
      "  _warn_prf(average, modifier, msg_start, len(result))\n",
      "/home/matthias/.cache/pypoetry/virtualenvs/sociodemographic-softlabels-Sh-apy0E-py3.7/lib/python3.7/site-packages/sklearn/metrics/_classification.py:1318: UndefinedMetricWarning: Precision is ill-defined and being set to 0.0 in labels with no predicted samples. Use `zero_division` parameter to control this behavior.\n",
      "  _warn_prf(average, modifier, msg_start, len(result))\n",
      "bootstrap:  95%|███████████████████████████▌ | 950/1000 [00:13<00:00, 54.66it/s]/home/matthias/.cache/pypoetry/virtualenvs/sociodemographic-softlabels-Sh-apy0E-py3.7/lib/python3.7/site-packages/sklearn/metrics/_classification.py:1318: UndefinedMetricWarning: Precision is ill-defined and being set to 0.0 in labels with no predicted samples. Use `zero_division` parameter to control this behavior.\n",
      "  _warn_prf(average, modifier, msg_start, len(result))\n",
      "/home/matthias/.cache/pypoetry/virtualenvs/sociodemographic-softlabels-Sh-apy0E-py3.7/lib/python3.7/site-packages/sklearn/metrics/_classification.py:1318: UndefinedMetricWarning: Precision is ill-defined and being set to 0.0 in labels with no predicted samples. Use `zero_division` parameter to control this behavior.\n",
      "  _warn_prf(average, modifier, msg_start, len(result))\n",
      "/home/matthias/.cache/pypoetry/virtualenvs/sociodemographic-softlabels-Sh-apy0E-py3.7/lib/python3.7/site-packages/sklearn/metrics/_classification.py:1318: UndefinedMetricWarning: Precision is ill-defined and being set to 0.0 in labels with no predicted samples. Use `zero_division` parameter to control this behavior.\n",
      "  _warn_prf(average, modifier, msg_start, len(result))\n",
      "/home/matthias/.cache/pypoetry/virtualenvs/sociodemographic-softlabels-Sh-apy0E-py3.7/lib/python3.7/site-packages/sklearn/metrics/_classification.py:1318: UndefinedMetricWarning: Precision is ill-defined and being set to 0.0 in labels with no predicted samples. Use `zero_division` parameter to control this behavior.\n",
      "  _warn_prf(average, modifier, msg_start, len(result))\n",
      "bootstrap:  96%|███████████████████████████▉ | 962/1000 [00:13<00:00, 49.50it/s]/home/matthias/.cache/pypoetry/virtualenvs/sociodemographic-softlabels-Sh-apy0E-py3.7/lib/python3.7/site-packages/sklearn/metrics/_classification.py:1318: UndefinedMetricWarning: Precision is ill-defined and being set to 0.0 in labels with no predicted samples. Use `zero_division` parameter to control this behavior.\n",
      "  _warn_prf(average, modifier, msg_start, len(result))\n",
      "/home/matthias/.cache/pypoetry/virtualenvs/sociodemographic-softlabels-Sh-apy0E-py3.7/lib/python3.7/site-packages/sklearn/metrics/_classification.py:1318: UndefinedMetricWarning: Precision is ill-defined and being set to 0.0 in labels with no predicted samples. Use `zero_division` parameter to control this behavior.\n",
      "  _warn_prf(average, modifier, msg_start, len(result))\n",
      "/home/matthias/.cache/pypoetry/virtualenvs/sociodemographic-softlabels-Sh-apy0E-py3.7/lib/python3.7/site-packages/sklearn/metrics/_classification.py:1318: UndefinedMetricWarning: Precision is ill-defined and being set to 0.0 in labels with no predicted samples. Use `zero_division` parameter to control this behavior.\n",
      "  _warn_prf(average, modifier, msg_start, len(result))\n",
      "/home/matthias/.cache/pypoetry/virtualenvs/sociodemographic-softlabels-Sh-apy0E-py3.7/lib/python3.7/site-packages/sklearn/metrics/_classification.py:1318: UndefinedMetricWarning: Precision is ill-defined and being set to 0.0 in labels with no predicted samples. Use `zero_division` parameter to control this behavior.\n",
      "  _warn_prf(average, modifier, msg_start, len(result))\n",
      "/home/matthias/.cache/pypoetry/virtualenvs/sociodemographic-softlabels-Sh-apy0E-py3.7/lib/python3.7/site-packages/sklearn/metrics/_classification.py:1318: UndefinedMetricWarning: Precision is ill-defined and being set to 0.0 in labels with no predicted samples. Use `zero_division` parameter to control this behavior.\n",
      "  _warn_prf(average, modifier, msg_start, len(result))\n",
      "bootstrap:  97%|████████████████████████████ | 968/1000 [00:13<00:00, 43.63it/s]/home/matthias/.cache/pypoetry/virtualenvs/sociodemographic-softlabels-Sh-apy0E-py3.7/lib/python3.7/site-packages/sklearn/metrics/_classification.py:1318: UndefinedMetricWarning: Precision is ill-defined and being set to 0.0 in labels with no predicted samples. Use `zero_division` parameter to control this behavior.\n",
      "  _warn_prf(average, modifier, msg_start, len(result))\n",
      "/home/matthias/.cache/pypoetry/virtualenvs/sociodemographic-softlabels-Sh-apy0E-py3.7/lib/python3.7/site-packages/sklearn/metrics/_classification.py:1318: UndefinedMetricWarning: Precision is ill-defined and being set to 0.0 in labels with no predicted samples. Use `zero_division` parameter to control this behavior.\n",
      "  _warn_prf(average, modifier, msg_start, len(result))\n",
      "/home/matthias/.cache/pypoetry/virtualenvs/sociodemographic-softlabels-Sh-apy0E-py3.7/lib/python3.7/site-packages/sklearn/metrics/_classification.py:1318: UndefinedMetricWarning: Precision is ill-defined and being set to 0.0 in labels with no predicted samples. Use `zero_division` parameter to control this behavior.\n",
      "  _warn_prf(average, modifier, msg_start, len(result))\n",
      "bootstrap:  97%|████████████████████████████▏| 973/1000 [00:13<00:00, 44.72it/s]/home/matthias/.cache/pypoetry/virtualenvs/sociodemographic-softlabels-Sh-apy0E-py3.7/lib/python3.7/site-packages/sklearn/metrics/_classification.py:1318: UndefinedMetricWarning: Precision is ill-defined and being set to 0.0 in labels with no predicted samples. Use `zero_division` parameter to control this behavior.\n",
      "  _warn_prf(average, modifier, msg_start, len(result))\n",
      "/home/matthias/.cache/pypoetry/virtualenvs/sociodemographic-softlabels-Sh-apy0E-py3.7/lib/python3.7/site-packages/sklearn/metrics/_classification.py:1318: UndefinedMetricWarning: Precision is ill-defined and being set to 0.0 in labels with no predicted samples. Use `zero_division` parameter to control this behavior.\n",
      "  _warn_prf(average, modifier, msg_start, len(result))\n",
      "/home/matthias/.cache/pypoetry/virtualenvs/sociodemographic-softlabels-Sh-apy0E-py3.7/lib/python3.7/site-packages/sklearn/metrics/_classification.py:1318: UndefinedMetricWarning: Precision is ill-defined and being set to 0.0 in labels with no predicted samples. Use `zero_division` parameter to control this behavior.\n",
      "  _warn_prf(average, modifier, msg_start, len(result))\n",
      "/home/matthias/.cache/pypoetry/virtualenvs/sociodemographic-softlabels-Sh-apy0E-py3.7/lib/python3.7/site-packages/sklearn/metrics/_classification.py:1318: UndefinedMetricWarning: Precision is ill-defined and being set to 0.0 in labels with no predicted samples. Use `zero_division` parameter to control this behavior.\n",
      "  _warn_prf(average, modifier, msg_start, len(result))\n",
      "/home/matthias/.cache/pypoetry/virtualenvs/sociodemographic-softlabels-Sh-apy0E-py3.7/lib/python3.7/site-packages/sklearn/metrics/_classification.py:1318: UndefinedMetricWarning: Precision is ill-defined and being set to 0.0 in labels with no predicted samples. Use `zero_division` parameter to control this behavior.\n",
      "  _warn_prf(average, modifier, msg_start, len(result))\n",
      "bootstrap:  98%|████████████████████████████▎| 978/1000 [00:13<00:00, 45.75it/s]/home/matthias/.cache/pypoetry/virtualenvs/sociodemographic-softlabels-Sh-apy0E-py3.7/lib/python3.7/site-packages/sklearn/metrics/_classification.py:1318: UndefinedMetricWarning: Precision is ill-defined and being set to 0.0 in labels with no predicted samples. Use `zero_division` parameter to control this behavior.\n",
      "  _warn_prf(average, modifier, msg_start, len(result))\n",
      "bootstrap:  98%|████████████████████████████▌| 983/1000 [00:13<00:00, 41.18it/s]/home/matthias/.cache/pypoetry/virtualenvs/sociodemographic-softlabels-Sh-apy0E-py3.7/lib/python3.7/site-packages/sklearn/metrics/_classification.py:1318: UndefinedMetricWarning: Precision is ill-defined and being set to 0.0 in labels with no predicted samples. Use `zero_division` parameter to control this behavior.\n",
      "  _warn_prf(average, modifier, msg_start, len(result))\n",
      "/home/matthias/.cache/pypoetry/virtualenvs/sociodemographic-softlabels-Sh-apy0E-py3.7/lib/python3.7/site-packages/sklearn/metrics/_classification.py:1318: UndefinedMetricWarning: Precision is ill-defined and being set to 0.0 in labels with no predicted samples. Use `zero_division` parameter to control this behavior.\n",
      "  _warn_prf(average, modifier, msg_start, len(result))\n",
      "/home/matthias/.cache/pypoetry/virtualenvs/sociodemographic-softlabels-Sh-apy0E-py3.7/lib/python3.7/site-packages/sklearn/metrics/_classification.py:1318: UndefinedMetricWarning: Precision is ill-defined and being set to 0.0 in labels with no predicted samples. Use `zero_division` parameter to control this behavior.\n",
      "  _warn_prf(average, modifier, msg_start, len(result))\n",
      "/home/matthias/.cache/pypoetry/virtualenvs/sociodemographic-softlabels-Sh-apy0E-py3.7/lib/python3.7/site-packages/sklearn/metrics/_classification.py:1318: UndefinedMetricWarning: Precision is ill-defined and being set to 0.0 in labels with no predicted samples. Use `zero_division` parameter to control this behavior.\n",
      "  _warn_prf(average, modifier, msg_start, len(result))\n",
      "bootstrap:  99%|████████████████████████████▋| 988/1000 [00:14<00:00, 42.41it/s]/home/matthias/.cache/pypoetry/virtualenvs/sociodemographic-softlabels-Sh-apy0E-py3.7/lib/python3.7/site-packages/sklearn/metrics/_classification.py:1318: UndefinedMetricWarning: Precision is ill-defined and being set to 0.0 in labels with no predicted samples. Use `zero_division` parameter to control this behavior.\n",
      "  _warn_prf(average, modifier, msg_start, len(result))\n",
      "bootstrap:  99%|████████████████████████████▊| 993/1000 [00:14<00:00, 43.12it/s]/home/matthias/.cache/pypoetry/virtualenvs/sociodemographic-softlabels-Sh-apy0E-py3.7/lib/python3.7/site-packages/sklearn/metrics/_classification.py:1318: UndefinedMetricWarning: Precision is ill-defined and being set to 0.0 in labels with no predicted samples. Use `zero_division` parameter to control this behavior.\n",
      "  _warn_prf(average, modifier, msg_start, len(result))\n",
      "/home/matthias/.cache/pypoetry/virtualenvs/sociodemographic-softlabels-Sh-apy0E-py3.7/lib/python3.7/site-packages/sklearn/metrics/_classification.py:1318: UndefinedMetricWarning: Precision is ill-defined and being set to 0.0 in labels with no predicted samples. Use `zero_division` parameter to control this behavior.\n",
      "  _warn_prf(average, modifier, msg_start, len(result))\n",
      "/home/matthias/.cache/pypoetry/virtualenvs/sociodemographic-softlabels-Sh-apy0E-py3.7/lib/python3.7/site-packages/sklearn/metrics/_classification.py:1318: UndefinedMetricWarning: Precision is ill-defined and being set to 0.0 in labels with no predicted samples. Use `zero_division` parameter to control this behavior.\n",
      "  _warn_prf(average, modifier, msg_start, len(result))\n",
      "/home/matthias/.cache/pypoetry/virtualenvs/sociodemographic-softlabels-Sh-apy0E-py3.7/lib/python3.7/site-packages/sklearn/metrics/_classification.py:1318: UndefinedMetricWarning: Precision is ill-defined and being set to 0.0 in labels with no predicted samples. Use `zero_division` parameter to control this behavior.\n",
      "  _warn_prf(average, modifier, msg_start, len(result))\n",
      "/home/matthias/.cache/pypoetry/virtualenvs/sociodemographic-softlabels-Sh-apy0E-py3.7/lib/python3.7/site-packages/sklearn/metrics/_classification.py:1318: UndefinedMetricWarning: Precision is ill-defined and being set to 0.0 in labels with no predicted samples. Use `zero_division` parameter to control this behavior.\n",
      "  _warn_prf(average, modifier, msg_start, len(result))\n",
      "/home/matthias/.cache/pypoetry/virtualenvs/sociodemographic-softlabels-Sh-apy0E-py3.7/lib/python3.7/site-packages/sklearn/metrics/_classification.py:1318: UndefinedMetricWarning: Precision is ill-defined and being set to 0.0 in labels with no predicted samples. Use `zero_division` parameter to control this behavior.\n",
      "  _warn_prf(average, modifier, msg_start, len(result))\n",
      "bootstrap: 100%|████████████████████████████▉| 999/1000 [00:14<00:00, 46.82it/s]/home/matthias/.cache/pypoetry/virtualenvs/sociodemographic-softlabels-Sh-apy0E-py3.7/lib/python3.7/site-packages/sklearn/metrics/_classification.py:1318: UndefinedMetricWarning: Precision is ill-defined and being set to 0.0 in labels with no predicted samples. Use `zero_division` parameter to control this behavior.\n",
      "  _warn_prf(average, modifier, msg_start, len(result))\n",
      "bootstrap: 100%|████████████████████████████| 1000/1000 [00:14<00:00, 70.21it/s]\n"
     ]
    },
    {
     "name": "stdout",
     "output_type": "stream",
     "text": [
      "\n",
      "count sample diff f1   is twice tot diff f1....... 32   / 1000    p < 0.032  \u001b[38;5;9m*\u001b[0m\n",
      "count sample diff prec is twice tot diff prec..... 23   / 1000    p < 0.023  \u001b[38;5;9m*\u001b[0m\n",
      "count sample diff rec  is twice tot diff rec ..... 142  / 1000    p < 0.142  \n",
      "count sample diff acc  is twice tot diff acc...... 850  / 1000    p < 0.85   \n",
      "\n",
      "\n",
      "Seed: 165043843 - Split: 0 - gender - Group: Male\n",
      "data shape:  (12062, 1)\n",
      "sample size: 6031\n"
     ]
    },
    {
     "name": "stderr",
     "output_type": "stream",
     "text": [
      "bootstrap: 100%|████████████████████████████| 1000/1000 [00:23<00:00, 43.14it/s]\n"
     ]
    },
    {
     "name": "stdout",
     "output_type": "stream",
     "text": [
      "\n",
      "count sample diff f1   is twice tot diff f1....... 9    / 1000    p < 0.009  \u001b[38;5;9m**\u001b[0m\n",
      "count sample diff prec is twice tot diff prec..... 23   / 1000    p < 0.023  \u001b[38;5;9m*\u001b[0m\n",
      "count sample diff rec  is twice tot diff rec ..... 5    / 1000    p < 0.005  \u001b[38;5;9m**\u001b[0m\n",
      "count sample diff acc  is twice tot diff acc...... 38   / 1000    p < 0.038  \u001b[38;5;9m*\u001b[0m\n",
      "\n",
      "\n",
      "Seed: 165043843 - Split: 0 - gender - Group: Female\n",
      "data shape:  (13383, 1)\n",
      "sample size: 6691\n"
     ]
    },
    {
     "name": "stderr",
     "output_type": "stream",
     "text": [
      "bootstrap: 100%|████████████████████████████| 1000/1000 [00:24<00:00, 41.23it/s]\n"
     ]
    },
    {
     "name": "stdout",
     "output_type": "stream",
     "text": [
      "\n",
      "count sample diff f1   is twice tot diff f1....... 536  / 1000    p < 0.536  \n",
      "count sample diff prec is twice tot diff prec..... 585  / 1000    p < 0.585  \n",
      "count sample diff rec  is twice tot diff rec ..... 489  / 1000    p < 0.489  \n",
      "count sample diff acc  is twice tot diff acc...... 656  / 1000    p < 0.656  \n",
      "\n",
      "\n",
      "Seed: 165043843 - Split: 0 - gender - Group: Nonbinary\n",
      "data shape:  (114, 1)\n",
      "sample size: 57\n"
     ]
    },
    {
     "name": "stderr",
     "output_type": "stream",
     "text": [
      "bootstrap: 100%|████████████████████████████| 1000/1000 [00:12<00:00, 83.09it/s]\n"
     ]
    },
    {
     "name": "stdout",
     "output_type": "stream",
     "text": [
      "\n",
      "count sample diff f1   is twice tot diff f1....... 885  / 1000    p < 0.885  \n",
      "count sample diff prec is twice tot diff prec..... 866  / 1000    p < 0.866  \n",
      "count sample diff rec  is twice tot diff rec ..... 906  / 1000    p < 0.906  \n",
      "count sample diff acc  is twice tot diff acc...... 717  / 1000    p < 0.717  \n",
      "\n",
      "\n",
      "Seed: 165043843 - Split: 1 - gender - Group: Male\n",
      "data shape:  (11915, 1)\n",
      "sample size: 5957\n"
     ]
    },
    {
     "name": "stderr",
     "output_type": "stream",
     "text": [
      "bootstrap: 100%|████████████████████████████| 1000/1000 [00:23<00:00, 43.03it/s]\n"
     ]
    },
    {
     "name": "stdout",
     "output_type": "stream",
     "text": [
      "\n",
      "count sample diff f1   is twice tot diff f1....... 82   / 1000    p < 0.082  \n",
      "count sample diff prec is twice tot diff prec..... 159  / 1000    p < 0.159  \n",
      "count sample diff rec  is twice tot diff rec ..... 35   / 1000    p < 0.035  \u001b[38;5;9m*\u001b[0m\n",
      "count sample diff acc  is twice tot diff acc...... 279  / 1000    p < 0.279  \n",
      "\n",
      "\n",
      "Seed: 165043843 - Split: 1 - gender - Group: Female\n",
      "data shape:  (13572, 1)\n",
      "sample size: 6786\n"
     ]
    },
    {
     "name": "stderr",
     "output_type": "stream",
     "text": [
      "bootstrap: 100%|████████████████████████████| 1000/1000 [00:26<00:00, 38.09it/s]\n"
     ]
    },
    {
     "name": "stdout",
     "output_type": "stream",
     "text": [
      "\n",
      "count sample diff f1   is twice tot diff f1....... 1    / 1000    p < 0.001  \u001b[38;5;9m**\u001b[0m\n",
      "count sample diff prec is twice tot diff prec..... 8    / 1000    p < 0.008  \u001b[38;5;9m**\u001b[0m\n",
      "count sample diff rec  is twice tot diff rec ..... 1    / 1000    p < 0.001  \u001b[38;5;9m**\u001b[0m\n",
      "count sample diff acc  is twice tot diff acc...... 59   / 1000    p < 0.059  \n",
      "\n",
      "\n",
      "Seed: 165043843 - Split: 1 - gender - Group: Nonbinary\n",
      "data shape:  (120, 1)\n",
      "sample size: 60\n"
     ]
    },
    {
     "name": "stderr",
     "output_type": "stream",
     "text": [
      "bootstrap: 100%|███████████████████████████| 1000/1000 [00:08<00:00, 112.53it/s]\n"
     ]
    },
    {
     "name": "stdout",
     "output_type": "stream",
     "text": [
      "\n",
      "count sample diff f1   is twice tot diff f1....... 310  / 1000    p < 0.31   \n",
      "count sample diff prec is twice tot diff prec..... 311  / 1000    p < 0.311  \n",
      "count sample diff rec  is twice tot diff rec ..... 395  / 1000    p < 0.395  \n",
      "count sample diff acc  is twice tot diff acc...... 155  / 1000    p < 0.155  \n",
      "\n",
      "\n",
      "Seed: 165043843 - Split: 2 - gender - Group: Male\n",
      "data shape:  (11843, 1)\n",
      "sample size: 5921\n"
     ]
    },
    {
     "name": "stderr",
     "output_type": "stream",
     "text": [
      "bootstrap: 100%|████████████████████████████| 1000/1000 [00:22<00:00, 45.07it/s]\n"
     ]
    },
    {
     "name": "stdout",
     "output_type": "stream",
     "text": [
      "\n",
      "count sample diff f1   is twice tot diff f1....... 427  / 1000    p < 0.427  \n",
      "count sample diff prec is twice tot diff prec..... 545  / 1000    p < 0.545  \n",
      "count sample diff rec  is twice tot diff rec ..... 254  / 1000    p < 0.254  \n",
      "count sample diff acc  is twice tot diff acc...... 685  / 1000    p < 0.685  \n",
      "\n",
      "\n",
      "Seed: 165043843 - Split: 2 - gender - Group: Female\n",
      "data shape:  (13638, 1)\n",
      "sample size: 6819\n"
     ]
    },
    {
     "name": "stderr",
     "output_type": "stream",
     "text": [
      "bootstrap: 100%|████████████████████████████| 1000/1000 [00:21<00:00, 45.93it/s]\n"
     ]
    },
    {
     "name": "stdout",
     "output_type": "stream",
     "text": [
      "\n",
      "count sample diff f1   is twice tot diff f1....... 470  / 1000    p < 0.47   \n",
      "count sample diff prec is twice tot diff prec..... 624  / 1000    p < 0.624  \n",
      "count sample diff rec  is twice tot diff rec ..... 268  / 1000    p < 0.268  \n",
      "count sample diff acc  is twice tot diff acc...... 895  / 1000    p < 0.895  \n",
      "\n",
      "\n",
      "Seed: 165043843 - Split: 2 - gender - Group: Nonbinary\n",
      "data shape:  (109, 1)\n",
      "sample size: 54\n"
     ]
    },
    {
     "name": "stderr",
     "output_type": "stream",
     "text": [
      "bootstrap: 100%|███████████████████████████| 1000/1000 [00:08<00:00, 113.68it/s]\n"
     ]
    },
    {
     "name": "stdout",
     "output_type": "stream",
     "text": [
      "\n",
      "count sample diff f1   is twice tot diff f1....... 580  / 1000    p < 0.58   \n",
      "count sample diff prec is twice tot diff prec..... 611  / 1000    p < 0.611  \n",
      "count sample diff rec  is twice tot diff rec ..... 549  / 1000    p < 0.549  \n",
      "count sample diff acc  is twice tot diff acc...... 604  / 1000    p < 0.604  \n",
      "\n",
      "\n",
      "Seed: 165043843 - Split: 3 - gender - Group: Male\n",
      "data shape:  (11880, 1)\n",
      "sample size: 5940\n"
     ]
    },
    {
     "name": "stderr",
     "output_type": "stream",
     "text": [
      "bootstrap: 100%|████████████████████████████| 1000/1000 [00:21<00:00, 45.59it/s]\n"
     ]
    },
    {
     "name": "stdout",
     "output_type": "stream",
     "text": [
      "\n",
      "count sample diff f1   is twice tot diff f1....... 417  / 1000    p < 0.417  \n",
      "count sample diff prec is twice tot diff prec..... 480  / 1000    p < 0.48   \n",
      "count sample diff rec  is twice tot diff rec ..... 319  / 1000    p < 0.319  \n",
      "count sample diff acc  is twice tot diff acc...... 554  / 1000    p < 0.554  \n",
      "\n",
      "\n",
      "Seed: 165043843 - Split: 3 - gender - Group: Female\n",
      "data shape:  (13627, 1)\n",
      "sample size: 6813\n"
     ]
    },
    {
     "name": "stderr",
     "output_type": "stream",
     "text": [
      "bootstrap: 100%|████████████████████████████| 1000/1000 [00:24<00:00, 41.27it/s]\n"
     ]
    },
    {
     "name": "stdout",
     "output_type": "stream",
     "text": [
      "\n",
      "count sample diff f1   is twice tot diff f1....... 505  / 1000    p < 0.505  \n",
      "count sample diff prec is twice tot diff prec..... 599  / 1000    p < 0.599  \n",
      "count sample diff rec  is twice tot diff rec ..... 381  / 1000    p < 0.381  \n",
      "count sample diff acc  is twice tot diff acc...... 819  / 1000    p < 0.819  \n",
      "\n",
      "\n",
      "Seed: 165043843 - Split: 3 - gender - Group: Nonbinary\n",
      "data shape:  (117, 1)\n",
      "sample size: 58\n"
     ]
    },
    {
     "name": "stderr",
     "output_type": "stream",
     "text": [
      "bootstrap:  25%|██████▉                     | 247/1000 [00:02<00:06, 119.38it/s]/home/matthias/.cache/pypoetry/virtualenvs/sociodemographic-softlabels-Sh-apy0E-py3.7/lib/python3.7/site-packages/sklearn/metrics/_classification.py:1318: UndefinedMetricWarning: Recall is ill-defined and being set to 0.0 in labels with no true samples. Use `zero_division` parameter to control this behavior.\n",
      "  _warn_prf(average, modifier, msg_start, len(result))\n",
      "/home/matthias/.cache/pypoetry/virtualenvs/sociodemographic-softlabels-Sh-apy0E-py3.7/lib/python3.7/site-packages/sklearn/metrics/_classification.py:1318: UndefinedMetricWarning: Recall is ill-defined and being set to 0.0 in labels with no true samples. Use `zero_division` parameter to control this behavior.\n",
      "  _warn_prf(average, modifier, msg_start, len(result))\n",
      "bootstrap: 100%|███████████████████████████| 1000/1000 [00:08<00:00, 118.97it/s]\n"
     ]
    },
    {
     "name": "stdout",
     "output_type": "stream",
     "text": [
      "\n",
      "count sample diff f1   is twice tot diff f1....... 905  / 1000    p < 0.905  \n",
      "count sample diff prec is twice tot diff prec..... 886  / 1000    p < 0.886  \n",
      "count sample diff rec  is twice tot diff rec ..... 967  / 1000    p < 0.967  \u001b[38;5;8m!\u001b[0m\n",
      "count sample diff acc  is twice tot diff acc...... 504  / 1000    p < 0.504  \n",
      "\n",
      "\n",
      "Seed: 2923262358 - Split: 0 - gender - Group: Male\n",
      "data shape:  (11985, 1)\n",
      "sample size: 5992\n"
     ]
    },
    {
     "name": "stderr",
     "output_type": "stream",
     "text": [
      "bootstrap: 100%|████████████████████████████| 1000/1000 [00:20<00:00, 48.26it/s]\n"
     ]
    },
    {
     "name": "stdout",
     "output_type": "stream",
     "text": [
      "\n",
      "count sample diff f1   is twice tot diff f1....... 719  / 1000    p < 0.719  \n",
      "count sample diff prec is twice tot diff prec..... 630  / 1000    p < 0.63   \n",
      "count sample diff rec  is twice tot diff rec ..... 820  / 1000    p < 0.82   \n",
      "count sample diff acc  is twice tot diff acc...... 487  / 1000    p < 0.487  \n",
      "\n",
      "\n",
      "Seed: 2923262358 - Split: 0 - gender - Group: Female\n",
      "data shape:  (13509, 1)\n",
      "sample size: 6754\n"
     ]
    },
    {
     "name": "stderr",
     "output_type": "stream",
     "text": [
      "bootstrap: 100%|████████████████████████████| 1000/1000 [00:23<00:00, 41.83it/s]\n"
     ]
    },
    {
     "name": "stdout",
     "output_type": "stream",
     "text": [
      "\n",
      "count sample diff f1   is twice tot diff f1....... 689  / 1000    p < 0.689  \n",
      "count sample diff prec is twice tot diff prec..... 678  / 1000    p < 0.678  \n",
      "count sample diff rec  is twice tot diff rec ..... 689  / 1000    p < 0.689  \n",
      "count sample diff acc  is twice tot diff acc...... 633  / 1000    p < 0.633  \n",
      "\n",
      "\n",
      "Seed: 2923262358 - Split: 0 - gender - Group: Nonbinary\n",
      "data shape:  (118, 1)\n",
      "sample size: 59\n"
     ]
    },
    {
     "name": "stderr",
     "output_type": "stream",
     "text": [
      "bootstrap: 100%|███████████████████████████| 1000/1000 [00:09<00:00, 108.90it/s]\n"
     ]
    },
    {
     "name": "stdout",
     "output_type": "stream",
     "text": [
      "\n",
      "count sample diff f1   is twice tot diff f1....... 479  / 1000    p < 0.479  \n",
      "count sample diff prec is twice tot diff prec..... 460  / 1000    p < 0.46   \n",
      "count sample diff rec  is twice tot diff rec ..... 571  / 1000    p < 0.571  \n",
      "count sample diff acc  is twice tot diff acc...... 300  / 1000    p < 0.3    \n",
      "\n",
      "\n",
      "Seed: 2923262358 - Split: 1 - gender - Group: Male\n",
      "data shape:  (11917, 1)\n",
      "sample size: 5958\n"
     ]
    },
    {
     "name": "stderr",
     "output_type": "stream",
     "text": [
      "bootstrap: 100%|████████████████████████████| 1000/1000 [00:21<00:00, 46.36it/s]\n"
     ]
    },
    {
     "name": "stdout",
     "output_type": "stream",
     "text": [
      "\n",
      "count sample diff f1   is twice tot diff f1....... 709  / 1000    p < 0.709  \n",
      "count sample diff prec is twice tot diff prec..... 560  / 1000    p < 0.56   \n",
      "count sample diff rec  is twice tot diff rec ..... 845  / 1000    p < 0.845  \n",
      "count sample diff acc  is twice tot diff acc...... 413  / 1000    p < 0.413  \n",
      "\n",
      "\n",
      "Seed: 2923262358 - Split: 1 - gender - Group: Female\n",
      "data shape:  (13498, 1)\n",
      "sample size: 6749\n"
     ]
    },
    {
     "name": "stderr",
     "output_type": "stream",
     "text": [
      "bootstrap: 100%|████████████████████████████| 1000/1000 [00:23<00:00, 42.78it/s]\n"
     ]
    },
    {
     "name": "stdout",
     "output_type": "stream",
     "text": [
      "\n",
      "count sample diff f1   is twice tot diff f1....... 994  / 1000    p < 0.994  \u001b[38;5;8m!\u001b[0m\n",
      "count sample diff prec is twice tot diff prec..... 984  / 1000    p < 0.984  \u001b[38;5;8m!\u001b[0m\n",
      "count sample diff rec  is twice tot diff rec ..... 998  / 1000    p < 0.998  \u001b[38;5;8m!\u001b[0m\n",
      "count sample diff acc  is twice tot diff acc...... 925  / 1000    p < 0.925  \n",
      "\n",
      "\n",
      "Seed: 2923262358 - Split: 1 - gender - Group: Nonbinary\n",
      "data shape:  (105, 1)\n",
      "sample size: 52\n"
     ]
    },
    {
     "name": "stderr",
     "output_type": "stream",
     "text": [
      "bootstrap:   1%|▎                            | 12/1000 [00:00<00:08, 112.36it/s]/home/matthias/.cache/pypoetry/virtualenvs/sociodemographic-softlabels-Sh-apy0E-py3.7/lib/python3.7/site-packages/sklearn/metrics/_classification.py:1318: UndefinedMetricWarning: Recall is ill-defined and being set to 0.0 in labels with no true samples. Use `zero_division` parameter to control this behavior.\n",
      "  _warn_prf(average, modifier, msg_start, len(result))\n",
      "/home/matthias/.cache/pypoetry/virtualenvs/sociodemographic-softlabels-Sh-apy0E-py3.7/lib/python3.7/site-packages/sklearn/metrics/_classification.py:1318: UndefinedMetricWarning: Recall is ill-defined and being set to 0.0 in labels with no true samples. Use `zero_division` parameter to control this behavior.\n",
      "  _warn_prf(average, modifier, msg_start, len(result))\n",
      "bootstrap: 100%|████████████████████████████| 1000/1000 [00:11<00:00, 84.83it/s]\n"
     ]
    },
    {
     "name": "stdout",
     "output_type": "stream",
     "text": [
      "\n",
      "count sample diff f1   is twice tot diff f1....... 348  / 1000    p < 0.348  \n",
      "count sample diff prec is twice tot diff prec..... 343  / 1000    p < 0.343  \n",
      "count sample diff rec  is twice tot diff rec ..... 355  / 1000    p < 0.355  \n",
      "count sample diff acc  is twice tot diff acc...... 443  / 1000    p < 0.443  \n",
      "\n",
      "\n",
      "Seed: 2923262358 - Split: 2 - gender - Group: Male\n",
      "data shape:  (11928, 1)\n",
      "sample size: 5964\n"
     ]
    },
    {
     "name": "stderr",
     "output_type": "stream",
     "text": [
      "bootstrap: 100%|████████████████████████████| 1000/1000 [00:25<00:00, 39.59it/s]\n"
     ]
    },
    {
     "name": "stdout",
     "output_type": "stream",
     "text": [
      "\n",
      "count sample diff f1   is twice tot diff f1....... 239  / 1000    p < 0.239  \n",
      "count sample diff prec is twice tot diff prec..... 527  / 1000    p < 0.527  \n",
      "count sample diff rec  is twice tot diff rec ..... 109  / 1000    p < 0.109  \n",
      "count sample diff acc  is twice tot diff acc...... 669  / 1000    p < 0.669  \n",
      "\n",
      "\n",
      "Seed: 2923262358 - Split: 2 - gender - Group: Female\n",
      "data shape:  (13560, 1)\n",
      "sample size: 6780\n"
     ]
    },
    {
     "name": "stderr",
     "output_type": "stream",
     "text": [
      "bootstrap: 100%|████████████████████████████| 1000/1000 [00:24<00:00, 41.08it/s]\n"
     ]
    },
    {
     "name": "stdout",
     "output_type": "stream",
     "text": [
      "\n",
      "count sample diff f1   is twice tot diff f1....... 0    / 1000    p < 0.0    \u001b[38;5;9m**\u001b[0m\n",
      "count sample diff prec is twice tot diff prec..... 1    / 1000    p < 0.001  \u001b[38;5;9m**\u001b[0m\n",
      "count sample diff rec  is twice tot diff rec ..... 0    / 1000    p < 0.0    \u001b[38;5;9m**\u001b[0m\n",
      "count sample diff acc  is twice tot diff acc...... 25   / 1000    p < 0.025  \u001b[38;5;9m*\u001b[0m\n",
      "\n",
      "\n",
      "Seed: 2923262358 - Split: 2 - gender - Group: Nonbinary\n",
      "data shape:  (117, 1)\n",
      "sample size: 58\n"
     ]
    },
    {
     "name": "stderr",
     "output_type": "stream",
     "text": [
      "bootstrap: 100%|████████████████████████████| 1000/1000 [00:10<00:00, 96.13it/s]\n"
     ]
    },
    {
     "name": "stdout",
     "output_type": "stream",
     "text": [
      "\n",
      "count sample diff f1   is twice tot diff f1....... 462  / 1000    p < 0.462  \n",
      "count sample diff prec is twice tot diff prec..... 459  / 1000    p < 0.459  \n",
      "count sample diff rec  is twice tot diff rec ..... 469  / 1000    p < 0.469  \n",
      "count sample diff acc  is twice tot diff acc...... 504  / 1000    p < 0.504  \n",
      "\n",
      "\n",
      "Seed: 2923262358 - Split: 3 - gender - Group: Male\n",
      "data shape:  (11870, 1)\n",
      "sample size: 5935\n"
     ]
    },
    {
     "name": "stderr",
     "output_type": "stream",
     "text": [
      "bootstrap: 100%|████████████████████████████| 1000/1000 [00:19<00:00, 52.01it/s]\n"
     ]
    },
    {
     "name": "stdout",
     "output_type": "stream",
     "text": [
      "\n",
      "count sample diff f1   is twice tot diff f1....... 428  / 1000    p < 0.428  \n",
      "count sample diff prec is twice tot diff prec..... 183  / 1000    p < 0.183  \n",
      "count sample diff rec  is twice tot diff rec ..... 646  / 1000    p < 0.646  \n",
      "count sample diff acc  is twice tot diff acc...... 91   / 1000    p < 0.091  \n",
      "\n",
      "\n",
      "Seed: 2923262358 - Split: 3 - gender - Group: Female\n",
      "data shape:  (13653, 1)\n",
      "sample size: 6826\n"
     ]
    },
    {
     "name": "stderr",
     "output_type": "stream",
     "text": [
      "bootstrap: 100%|████████████████████████████| 1000/1000 [00:21<00:00, 46.46it/s]\n"
     ]
    },
    {
     "name": "stdout",
     "output_type": "stream",
     "text": [
      "\n",
      "count sample diff f1   is twice tot diff f1....... 996  / 1000    p < 0.996  \u001b[38;5;8m!\u001b[0m\n",
      "count sample diff prec is twice tot diff prec..... 984  / 1000    p < 0.984  \u001b[38;5;8m!\u001b[0m\n",
      "count sample diff rec  is twice tot diff rec ..... 1000 / 1000    p < 1.0    \u001b[38;5;8m!\u001b[0m\n",
      "count sample diff acc  is twice tot diff acc...... 889  / 1000    p < 0.889  \n",
      "\n",
      "\n",
      "Seed: 2923262358 - Split: 3 - gender - Group: Nonbinary\n",
      "data shape:  (120, 1)\n",
      "sample size: 60\n"
     ]
    },
    {
     "name": "stderr",
     "output_type": "stream",
     "text": [
      "bootstrap: 100%|███████████████████████████| 1000/1000 [00:08<00:00, 119.27it/s]"
     ]
    },
    {
     "name": "stdout",
     "output_type": "stream",
     "text": [
      "\n",
      "count sample diff f1   is twice tot diff f1....... 957  / 1000    p < 0.957  \u001b[38;5;8m!\u001b[0m\n",
      "count sample diff prec is twice tot diff prec..... 942  / 1000    p < 0.942  \n",
      "count sample diff rec  is twice tot diff rec ..... 915  / 1000    p < 0.915  \n",
      "count sample diff acc  is twice tot diff acc...... 618  / 1000    p < 0.618  \n"
     ]
    },
    {
     "name": "stderr",
     "output_type": "stream",
     "text": [
      "\n"
     ]
    }
   ],
   "source": [
    "gender_p_dicts = significance_test_per_group(df, attribute_a='randomized', attribute_b='gender', to_groups=to_groups, attributes=['gender'])"
   ]
  },
  {
   "cell_type": "code",
   "execution_count": 10,
   "metadata": {},
   "outputs": [
    {
     "data": {
      "text/plain": [
       "{'Female': {'k_count': 2, 'k_bonferroni': 2},\n",
       " 'Male': {'k_count': 1, 'k_bonferroni': -1},\n",
       " 'Nonbinary': {'k_count': 1, 'k_bonferroni': -1}}"
      ]
     },
     "execution_count": 10,
     "metadata": {},
     "output_type": "execute_result"
    }
   ],
   "source": [
    "gender_ks = k_estimator_groups(gender_p_dicts)\n",
    "gender_ks"
   ]
  },
  {
   "cell_type": "code",
   "execution_count": 11,
   "metadata": {},
   "outputs": [
    {
     "data": {
      "text/html": [
       "<div>\n",
       "<style scoped>\n",
       "    .dataframe tbody tr th:only-of-type {\n",
       "        vertical-align: middle;\n",
       "    }\n",
       "\n",
       "    .dataframe tbody tr th {\n",
       "        vertical-align: top;\n",
       "    }\n",
       "\n",
       "    .dataframe thead th {\n",
       "        text-align: right;\n",
       "    }\n",
       "</style>\n",
       "<table border=\"1\" class=\"dataframe\">\n",
       "  <thead>\n",
       "    <tr style=\"text-align: right;\">\n",
       "      <th></th>\n",
       "      <th>$\\hat{k}_{count}$</th>\n",
       "      <th>$\\hat{k}_{Bonf.}$</th>\n",
       "    </tr>\n",
       "  </thead>\n",
       "  <tbody>\n",
       "    <tr>\n",
       "      <th>Female</th>\n",
       "      <td>2</td>\n",
       "      <td>2</td>\n",
       "    </tr>\n",
       "    <tr>\n",
       "      <th>Male</th>\n",
       "      <td>1</td>\n",
       "      <td>0</td>\n",
       "    </tr>\n",
       "    <tr>\n",
       "      <th>Nonbinary</th>\n",
       "      <td>1</td>\n",
       "      <td>0</td>\n",
       "    </tr>\n",
       "  </tbody>\n",
       "</table>\n",
       "</div>"
      ],
      "text/plain": [
       "           $\\hat{k}_{count}$  $\\hat{k}_{Bonf.}$\n",
       "Female                     2                  2\n",
       "Male                       1                  0\n",
       "Nonbinary                  1                  0"
      ]
     },
     "execution_count": 11,
     "metadata": {},
     "output_type": "execute_result"
    }
   ],
   "source": [
    "gender_ks_df = pd.DataFrame(gender_ks).T.sort_index()\n",
    "gender_ks_df = gender_ks_df.replace({-1: 0})\n",
    "gender_ks_df = gender_ks_df.rename(columns={'k_count': '$\\hat{k}_{count}$', 'k_bonferroni':'$\\hat{k}_{Bonf.}$'})\n",
    "gender_ks_df"
   ]
  },
  {
   "cell_type": "code",
   "execution_count": 12,
   "metadata": {},
   "outputs": [],
   "source": [
    "gender_ks_df.to_latex('../tables/replication/randomized/gender.tex', escape=False)"
   ]
  },
  {
   "attachments": {},
   "cell_type": "markdown",
   "metadata": {},
   "source": [
    "#### Age"
   ]
  },
  {
   "cell_type": "code",
   "execution_count": 13,
   "metadata": {},
   "outputs": [
    {
     "name": "stdout",
     "output_type": "stream",
     "text": [
      "\n",
      "\n",
      "Seed: 2803636207 - Split: 0 - age_range - Group: 25 - 34\n",
      "data shape:  (10313, 1)\n",
      "sample size: 5156\n"
     ]
    },
    {
     "name": "stderr",
     "output_type": "stream",
     "text": [
      "bootstrap: 100%|████████████████████████████| 1000/1000 [00:19<00:00, 52.36it/s]\n"
     ]
    },
    {
     "name": "stdout",
     "output_type": "stream",
     "text": [
      "\n",
      "count sample diff f1   is twice tot diff f1....... 692  / 1000    p < 0.692  \n",
      "count sample diff prec is twice tot diff prec..... 829  / 1000    p < 0.829  \n",
      "count sample diff rec  is twice tot diff rec ..... 592  / 1000    p < 0.592  \n",
      "count sample diff acc  is twice tot diff acc...... 882  / 1000    p < 0.882  \n",
      "\n",
      "\n",
      "Seed: 2803636207 - Split: 0 - age_range - Group: 35 - 44\n",
      "data shape:  (6220, 1)\n",
      "sample size: 3110\n"
     ]
    },
    {
     "name": "stderr",
     "output_type": "stream",
     "text": [
      "bootstrap: 100%|████████████████████████████| 1000/1000 [00:16<00:00, 62.13it/s]\n"
     ]
    },
    {
     "name": "stdout",
     "output_type": "stream",
     "text": [
      "\n",
      "count sample diff f1   is twice tot diff f1....... 834  / 1000    p < 0.834  \n",
      "count sample diff prec is twice tot diff prec..... 859  / 1000    p < 0.859  \n",
      "count sample diff rec  is twice tot diff rec ..... 783  / 1000    p < 0.783  \n",
      "count sample diff acc  is twice tot diff acc...... 891  / 1000    p < 0.891  \n",
      "\n",
      "\n",
      "Seed: 2803636207 - Split: 0 - age_range - Group: 65 or older\n",
      "data shape:  (675, 1)\n",
      "sample size: 337\n"
     ]
    },
    {
     "name": "stderr",
     "output_type": "stream",
     "text": [
      "bootstrap: 100%|███████████████████████████| 1000/1000 [00:08<00:00, 114.05it/s]\n"
     ]
    },
    {
     "name": "stdout",
     "output_type": "stream",
     "text": [
      "\n",
      "count sample diff f1   is twice tot diff f1....... 93   / 1000    p < 0.093  \n",
      "count sample diff prec is twice tot diff prec..... 51   / 1000    p < 0.051  \n",
      "count sample diff rec  is twice tot diff rec ..... 134  / 1000    p < 0.134  \n",
      "count sample diff acc  is twice tot diff acc...... 21   / 1000    p < 0.021  \u001b[38;5;9m*\u001b[0m\n",
      "\n",
      "\n",
      "Seed: 2803636207 - Split: 0 - age_range - Group: 18 - 24\n",
      "data shape:  (2651, 1)\n",
      "sample size: 1325\n"
     ]
    },
    {
     "name": "stderr",
     "output_type": "stream",
     "text": [
      "bootstrap: 100%|████████████████████████████| 1000/1000 [00:10<00:00, 99.35it/s]\n"
     ]
    },
    {
     "name": "stdout",
     "output_type": "stream",
     "text": [
      "\n",
      "count sample diff f1   is twice tot diff f1....... 57   / 1000    p < 0.057  \n",
      "count sample diff prec is twice tot diff prec..... 54   / 1000    p < 0.054  \n",
      "count sample diff rec  is twice tot diff rec ..... 57   / 1000    p < 0.057  \n",
      "count sample diff acc  is twice tot diff acc...... 59   / 1000    p < 0.059  \n",
      "\n",
      "\n",
      "Seed: 2803636207 - Split: 0 - age_range - Group: 55 - 64\n",
      "data shape:  (1871, 1)\n",
      "sample size: 935\n"
     ]
    },
    {
     "name": "stderr",
     "output_type": "stream",
     "text": [
      "bootstrap: 100%|███████████████████████████| 1000/1000 [00:09<00:00, 105.37it/s]\n"
     ]
    },
    {
     "name": "stdout",
     "output_type": "stream",
     "text": [
      "\n",
      "count sample diff f1   is twice tot diff f1....... 623  / 1000    p < 0.623  \n",
      "count sample diff prec is twice tot diff prec..... 553  / 1000    p < 0.553  \n",
      "count sample diff rec  is twice tot diff rec ..... 722  / 1000    p < 0.722  \n",
      "count sample diff acc  is twice tot diff acc...... 401  / 1000    p < 0.401  \n",
      "\n",
      "\n",
      "Seed: 2803636207 - Split: 0 - age_range - Group: 45 - 54\n",
      "data shape:  (2973, 1)\n",
      "sample size: 1486\n"
     ]
    },
    {
     "name": "stderr",
     "output_type": "stream",
     "text": [
      "bootstrap: 100%|████████████████████████████| 1000/1000 [00:11<00:00, 85.30it/s]\n"
     ]
    },
    {
     "name": "stdout",
     "output_type": "stream",
     "text": [
      "\n",
      "count sample diff f1   is twice tot diff f1....... 486  / 1000    p < 0.486  \n",
      "count sample diff prec is twice tot diff prec..... 511  / 1000    p < 0.511  \n",
      "count sample diff rec  is twice tot diff rec ..... 465  / 1000    p < 0.465  \n",
      "count sample diff acc  is twice tot diff acc...... 522  / 1000    p < 0.522  \n",
      "\n",
      "\n",
      "Seed: 2803636207 - Split: 1 - age_range - Group: 25 - 34\n",
      "data shape:  (10292, 1)\n",
      "sample size: 5146\n"
     ]
    },
    {
     "name": "stderr",
     "output_type": "stream",
     "text": [
      "bootstrap: 100%|████████████████████████████| 1000/1000 [00:18<00:00, 53.63it/s]\n"
     ]
    },
    {
     "name": "stdout",
     "output_type": "stream",
     "text": [
      "\n",
      "count sample diff f1   is twice tot diff f1....... 754  / 1000    p < 0.754  \n",
      "count sample diff prec is twice tot diff prec..... 597  / 1000    p < 0.597  \n",
      "count sample diff rec  is twice tot diff rec ..... 849  / 1000    p < 0.849  \n",
      "count sample diff acc  is twice tot diff acc...... 507  / 1000    p < 0.507  \n",
      "\n",
      "\n",
      "Seed: 2803636207 - Split: 1 - age_range - Group: 35 - 44\n",
      "data shape:  (6255, 1)\n",
      "sample size: 3127\n"
     ]
    },
    {
     "name": "stderr",
     "output_type": "stream",
     "text": [
      "bootstrap: 100%|████████████████████████████| 1000/1000 [00:18<00:00, 55.09it/s]\n"
     ]
    },
    {
     "name": "stdout",
     "output_type": "stream",
     "text": [
      "\n",
      "count sample diff f1   is twice tot diff f1....... 829  / 1000    p < 0.829  \n",
      "count sample diff prec is twice tot diff prec..... 620  / 1000    p < 0.62   \n",
      "count sample diff rec  is twice tot diff rec ..... 915  / 1000    p < 0.915  \n",
      "count sample diff acc  is twice tot diff acc...... 367  / 1000    p < 0.367  \n",
      "\n",
      "\n",
      "Seed: 2803636207 - Split: 1 - age_range - Group: 65 or older\n",
      "data shape:  (690, 1)\n",
      "sample size: 345\n"
     ]
    },
    {
     "name": "stderr",
     "output_type": "stream",
     "text": [
      "bootstrap: 100%|███████████████████████████| 1000/1000 [00:08<00:00, 112.90it/s]\n"
     ]
    },
    {
     "name": "stdout",
     "output_type": "stream",
     "text": [
      "\n",
      "count sample diff f1   is twice tot diff f1....... 648  / 1000    p < 0.648  \n",
      "count sample diff prec is twice tot diff prec..... 458  / 1000    p < 0.458  \n",
      "count sample diff rec  is twice tot diff rec ..... 667  / 1000    p < 0.667  \n",
      "count sample diff acc  is twice tot diff acc...... 436  / 1000    p < 0.436  \n",
      "\n",
      "\n",
      "Seed: 2803636207 - Split: 1 - age_range - Group: 18 - 24\n",
      "data shape:  (2560, 1)\n",
      "sample size: 1280\n"
     ]
    },
    {
     "name": "stderr",
     "output_type": "stream",
     "text": [
      "bootstrap: 100%|████████████████████████████| 1000/1000 [00:11<00:00, 89.11it/s]\n"
     ]
    },
    {
     "name": "stdout",
     "output_type": "stream",
     "text": [
      "\n",
      "count sample diff f1   is twice tot diff f1....... 821  / 1000    p < 0.821  \n",
      "count sample diff prec is twice tot diff prec..... 713  / 1000    p < 0.713  \n",
      "count sample diff rec  is twice tot diff rec ..... 894  / 1000    p < 0.894  \n",
      "count sample diff acc  is twice tot diff acc...... 383  / 1000    p < 0.383  \n",
      "\n",
      "\n",
      "Seed: 2803636207 - Split: 1 - age_range - Group: 55 - 64\n",
      "data shape:  (1899, 1)\n",
      "sample size: 949\n"
     ]
    },
    {
     "name": "stderr",
     "output_type": "stream",
     "text": [
      "bootstrap: 100%|████████████████████████████| 1000/1000 [00:14<00:00, 70.90it/s]\n"
     ]
    },
    {
     "name": "stdout",
     "output_type": "stream",
     "text": [
      "\n",
      "count sample diff f1   is twice tot diff f1....... 41   / 1000    p < 0.041  \u001b[38;5;9m*\u001b[0m\n",
      "count sample diff prec is twice tot diff prec..... 4    / 1000    p < 0.004  \u001b[38;5;9m**\u001b[0m\n",
      "count sample diff rec  is twice tot diff rec ..... 139  / 1000    p < 0.139  \n",
      "count sample diff acc  is twice tot diff acc...... 0    / 1000    p < 0.0    \u001b[38;5;9m**\u001b[0m\n",
      "\n",
      "\n",
      "Seed: 2803636207 - Split: 1 - age_range - Group: 45 - 54\n",
      "data shape:  (2971, 1)\n",
      "sample size: 1485\n"
     ]
    },
    {
     "name": "stderr",
     "output_type": "stream",
     "text": [
      "bootstrap: 100%|████████████████████████████| 1000/1000 [00:11<00:00, 87.08it/s]\n"
     ]
    },
    {
     "name": "stdout",
     "output_type": "stream",
     "text": [
      "\n",
      "count sample diff f1   is twice tot diff f1....... 872  / 1000    p < 0.872  \n",
      "count sample diff prec is twice tot diff prec..... 713  / 1000    p < 0.713  \n",
      "count sample diff rec  is twice tot diff rec ..... 918  / 1000    p < 0.918  \n",
      "count sample diff acc  is twice tot diff acc...... 612  / 1000    p < 0.612  \n",
      "\n",
      "\n",
      "Seed: 2803636207 - Split: 2 - age_range - Group: 25 - 34\n",
      "data shape:  (10326, 1)\n",
      "sample size: 5163\n"
     ]
    },
    {
     "name": "stderr",
     "output_type": "stream",
     "text": [
      "bootstrap: 100%|████████████████████████████| 1000/1000 [00:21<00:00, 45.71it/s]\n"
     ]
    },
    {
     "name": "stdout",
     "output_type": "stream",
     "text": [
      "\n",
      "count sample diff f1   is twice tot diff f1....... 178  / 1000    p < 0.178  \n",
      "count sample diff prec is twice tot diff prec..... 120  / 1000    p < 0.12   \n",
      "count sample diff rec  is twice tot diff rec ..... 243  / 1000    p < 0.243  \n",
      "count sample diff acc  is twice tot diff acc...... 77   / 1000    p < 0.077  \n",
      "\n",
      "\n",
      "Seed: 2803636207 - Split: 2 - age_range - Group: 35 - 44\n",
      "data shape:  (6257, 1)\n",
      "sample size: 3128\n"
     ]
    },
    {
     "name": "stderr",
     "output_type": "stream",
     "text": [
      "bootstrap: 100%|████████████████████████████| 1000/1000 [00:13<00:00, 72.46it/s]\n"
     ]
    },
    {
     "name": "stdout",
     "output_type": "stream",
     "text": [
      "\n",
      "count sample diff f1   is twice tot diff f1....... 62   / 1000    p < 0.062  \n",
      "count sample diff prec is twice tot diff prec..... 29   / 1000    p < 0.029  \u001b[38;5;9m*\u001b[0m\n",
      "count sample diff rec  is twice tot diff rec ..... 94   / 1000    p < 0.094  \n",
      "count sample diff acc  is twice tot diff acc...... 20   / 1000    p < 0.02   \u001b[38;5;9m*\u001b[0m\n",
      "\n",
      "\n",
      "Seed: 2803636207 - Split: 2 - age_range - Group: 65 or older\n",
      "data shape:  (684, 1)\n",
      "sample size: 342\n"
     ]
    },
    {
     "name": "stderr",
     "output_type": "stream",
     "text": [
      "bootstrap: 100%|████████████████████████████| 1000/1000 [00:10<00:00, 95.49it/s]\n"
     ]
    },
    {
     "name": "stdout",
     "output_type": "stream",
     "text": [
      "\n",
      "count sample diff f1   is twice tot diff f1....... 828  / 1000    p < 0.828  \n",
      "count sample diff prec is twice tot diff prec..... 727  / 1000    p < 0.727  \n",
      "count sample diff rec  is twice tot diff rec ..... 898  / 1000    p < 0.898  \n",
      "count sample diff acc  is twice tot diff acc...... 483  / 1000    p < 0.483  \n",
      "\n",
      "\n",
      "Seed: 2803636207 - Split: 2 - age_range - Group: 18 - 24\n",
      "data shape:  (2606, 1)\n",
      "sample size: 1303\n"
     ]
    },
    {
     "name": "stderr",
     "output_type": "stream",
     "text": [
      "bootstrap: 100%|████████████████████████████| 1000/1000 [00:11<00:00, 87.93it/s]\n"
     ]
    },
    {
     "name": "stdout",
     "output_type": "stream",
     "text": [
      "\n",
      "count sample diff f1   is twice tot diff f1....... 390  / 1000    p < 0.39   \n",
      "count sample diff prec is twice tot diff prec..... 263  / 1000    p < 0.263  \n",
      "count sample diff rec  is twice tot diff rec ..... 570  / 1000    p < 0.57   \n",
      "count sample diff acc  is twice tot diff acc...... 39   / 1000    p < 0.039  \u001b[38;5;9m*\u001b[0m\n",
      "\n",
      "\n",
      "Seed: 2803636207 - Split: 2 - age_range - Group: 55 - 64\n",
      "data shape:  (1849, 1)\n",
      "sample size: 924\n"
     ]
    },
    {
     "name": "stderr",
     "output_type": "stream",
     "text": [
      "bootstrap: 100%|████████████████████████████| 1000/1000 [00:12<00:00, 79.87it/s]\n"
     ]
    },
    {
     "name": "stdout",
     "output_type": "stream",
     "text": [
      "\n",
      "count sample diff f1   is twice tot diff f1....... 631  / 1000    p < 0.631  \n",
      "count sample diff prec is twice tot diff prec..... 308  / 1000    p < 0.308  \n",
      "count sample diff rec  is twice tot diff rec ..... 765  / 1000    p < 0.765  \n",
      "count sample diff acc  is twice tot diff acc...... 213  / 1000    p < 0.213  \n",
      "\n",
      "\n",
      "Seed: 2803636207 - Split: 2 - age_range - Group: 45 - 54\n",
      "data shape:  (3073, 1)\n",
      "sample size: 1536\n"
     ]
    },
    {
     "name": "stderr",
     "output_type": "stream",
     "text": [
      "bootstrap: 100%|████████████████████████████| 1000/1000 [00:10<00:00, 93.52it/s]\n"
     ]
    },
    {
     "name": "stdout",
     "output_type": "stream",
     "text": [
      "\n",
      "count sample diff f1   is twice tot diff f1....... 395  / 1000    p < 0.395  \n",
      "count sample diff prec is twice tot diff prec..... 457  / 1000    p < 0.457  \n",
      "count sample diff rec  is twice tot diff rec ..... 317  / 1000    p < 0.317  \n",
      "count sample diff acc  is twice tot diff acc...... 521  / 1000    p < 0.521  \n",
      "\n",
      "\n",
      "Seed: 2803636207 - Split: 3 - age_range - Group: 25 - 34\n",
      "data shape:  (10329, 1)\n",
      "sample size: 5164\n"
     ]
    },
    {
     "name": "stderr",
     "output_type": "stream",
     "text": [
      "bootstrap: 100%|████████████████████████████| 1000/1000 [00:20<00:00, 49.01it/s]\n"
     ]
    },
    {
     "name": "stdout",
     "output_type": "stream",
     "text": [
      "\n",
      "count sample diff f1   is twice tot diff f1....... 362  / 1000    p < 0.362  \n",
      "count sample diff prec is twice tot diff prec..... 577  / 1000    p < 0.577  \n",
      "count sample diff rec  is twice tot diff rec ..... 235  / 1000    p < 0.235  \n",
      "count sample diff acc  is twice tot diff acc...... 682  / 1000    p < 0.682  \n",
      "\n",
      "\n",
      "Seed: 2803636207 - Split: 3 - age_range - Group: 35 - 44\n",
      "data shape:  (6268, 1)\n",
      "sample size: 3134\n"
     ]
    },
    {
     "name": "stderr",
     "output_type": "stream",
     "text": [
      "bootstrap: 100%|████████████████████████████| 1000/1000 [00:15<00:00, 62.59it/s]\n"
     ]
    },
    {
     "name": "stdout",
     "output_type": "stream",
     "text": [
      "\n",
      "count sample diff f1   is twice tot diff f1....... 11   / 1000    p < 0.011  \u001b[38;5;9m*\u001b[0m\n",
      "count sample diff prec is twice tot diff prec..... 9    / 1000    p < 0.009  \u001b[38;5;9m**\u001b[0m\n",
      "count sample diff rec  is twice tot diff rec ..... 16   / 1000    p < 0.016  \u001b[38;5;9m*\u001b[0m\n",
      "count sample diff acc  is twice tot diff acc...... 7    / 1000    p < 0.007  \u001b[38;5;9m**\u001b[0m\n",
      "\n",
      "\n",
      "Seed: 2803636207 - Split: 3 - age_range - Group: 65 or older\n",
      "data shape:  (651, 1)\n",
      "sample size: 325\n"
     ]
    },
    {
     "name": "stderr",
     "output_type": "stream",
     "text": [
      "bootstrap: 100%|███████████████████████████| 1000/1000 [00:09<00:00, 100.38it/s]\n"
     ]
    },
    {
     "name": "stdout",
     "output_type": "stream",
     "text": [
      "\n",
      "count sample diff f1   is twice tot diff f1....... 741  / 1000    p < 0.741  \n",
      "count sample diff prec is twice tot diff prec..... 662  / 1000    p < 0.662  \n",
      "count sample diff rec  is twice tot diff rec ..... 749  / 1000    p < 0.749  \n",
      "count sample diff acc  is twice tot diff acc...... 620  / 1000    p < 0.62   \n",
      "\n",
      "\n",
      "Seed: 2803636207 - Split: 3 - age_range - Group: 18 - 24\n",
      "data shape:  (2643, 1)\n",
      "sample size: 1321\n"
     ]
    },
    {
     "name": "stderr",
     "output_type": "stream",
     "text": [
      "bootstrap: 100%|████████████████████████████| 1000/1000 [00:10<00:00, 97.10it/s]\n"
     ]
    },
    {
     "name": "stdout",
     "output_type": "stream",
     "text": [
      "\n",
      "count sample diff f1   is twice tot diff f1....... 218  / 1000    p < 0.218  \n",
      "count sample diff prec is twice tot diff prec..... 212  / 1000    p < 0.212  \n",
      "count sample diff rec  is twice tot diff rec ..... 272  / 1000    p < 0.272  \n",
      "count sample diff acc  is twice tot diff acc...... 132  / 1000    p < 0.132  \n",
      "\n",
      "\n",
      "Seed: 2803636207 - Split: 3 - age_range - Group: 55 - 64\n",
      "data shape:  (1841, 1)\n",
      "sample size: 920\n"
     ]
    },
    {
     "name": "stderr",
     "output_type": "stream",
     "text": [
      "bootstrap: 100%|███████████████████████████| 1000/1000 [00:09<00:00, 100.86it/s]\n"
     ]
    },
    {
     "name": "stdout",
     "output_type": "stream",
     "text": [
      "\n",
      "count sample diff f1   is twice tot diff f1....... 280  / 1000    p < 0.28   \n",
      "count sample diff prec is twice tot diff prec..... 188  / 1000    p < 0.188  \n",
      "count sample diff rec  is twice tot diff rec ..... 338  / 1000    p < 0.338  \n",
      "count sample diff acc  is twice tot diff acc...... 132  / 1000    p < 0.132  \n",
      "\n",
      "\n",
      "Seed: 2803636207 - Split: 3 - age_range - Group: 45 - 54\n",
      "data shape:  (3083, 1)\n",
      "sample size: 1541\n"
     ]
    },
    {
     "name": "stderr",
     "output_type": "stream",
     "text": [
      "bootstrap: 100%|████████████████████████████| 1000/1000 [00:11<00:00, 88.46it/s]\n"
     ]
    },
    {
     "name": "stdout",
     "output_type": "stream",
     "text": [
      "\n",
      "count sample diff f1   is twice tot diff f1....... 341  / 1000    p < 0.341  \n",
      "count sample diff prec is twice tot diff prec..... 341  / 1000    p < 0.341  \n",
      "count sample diff rec  is twice tot diff rec ..... 342  / 1000    p < 0.342  \n",
      "count sample diff acc  is twice tot diff acc...... 352  / 1000    p < 0.352  \n",
      "\n",
      "\n",
      "Seed: 165043843 - Split: 0 - age_range - Group: 25 - 34\n",
      "data shape:  (10457, 1)\n",
      "sample size: 5228\n"
     ]
    },
    {
     "name": "stderr",
     "output_type": "stream",
     "text": [
      "bootstrap: 100%|████████████████████████████| 1000/1000 [00:19<00:00, 51.25it/s]\n"
     ]
    },
    {
     "name": "stdout",
     "output_type": "stream",
     "text": [
      "\n",
      "count sample diff f1   is twice tot diff f1....... 347  / 1000    p < 0.347  \n",
      "count sample diff prec is twice tot diff prec..... 682  / 1000    p < 0.682  \n",
      "count sample diff rec  is twice tot diff rec ..... 148  / 1000    p < 0.148  \n",
      "count sample diff acc  is twice tot diff acc...... 871  / 1000    p < 0.871  \n",
      "\n",
      "\n",
      "Seed: 165043843 - Split: 0 - age_range - Group: 35 - 44\n",
      "data shape:  (6238, 1)\n",
      "sample size: 3119\n"
     ]
    },
    {
     "name": "stderr",
     "output_type": "stream",
     "text": [
      "bootstrap: 100%|████████████████████████████| 1000/1000 [00:16<00:00, 60.71it/s]\n"
     ]
    },
    {
     "name": "stdout",
     "output_type": "stream",
     "text": [
      "\n",
      "count sample diff f1   is twice tot diff f1....... 256  / 1000    p < 0.256  \n",
      "count sample diff prec is twice tot diff prec..... 520  / 1000    p < 0.52   \n",
      "count sample diff rec  is twice tot diff rec ..... 82   / 1000    p < 0.082  \n",
      "count sample diff acc  is twice tot diff acc...... 856  / 1000    p < 0.856  \n",
      "\n",
      "\n",
      "Seed: 165043843 - Split: 0 - age_range - Group: 65 or older\n",
      "data shape:  (643, 1)\n",
      "sample size: 321\n"
     ]
    },
    {
     "name": "stderr",
     "output_type": "stream",
     "text": [
      "bootstrap: 100%|███████████████████████████| 1000/1000 [00:08<00:00, 117.40it/s]\n"
     ]
    },
    {
     "name": "stdout",
     "output_type": "stream",
     "text": [
      "\n",
      "count sample diff f1   is twice tot diff f1....... 58   / 1000    p < 0.058  \n",
      "count sample diff prec is twice tot diff prec..... 67   / 1000    p < 0.067  \n",
      "count sample diff rec  is twice tot diff rec ..... 49   / 1000    p < 0.049  \u001b[38;5;9m*\u001b[0m\n",
      "count sample diff acc  is twice tot diff acc...... 100  / 1000    p < 0.1    \n",
      "\n",
      "\n",
      "Seed: 165043843 - Split: 0 - age_range - Group: 18 - 24\n",
      "data shape:  (2521, 1)\n",
      "sample size: 1260\n"
     ]
    },
    {
     "name": "stderr",
     "output_type": "stream",
     "text": [
      "bootstrap: 100%|████████████████████████████| 1000/1000 [00:10<00:00, 97.06it/s]\n"
     ]
    },
    {
     "name": "stdout",
     "output_type": "stream",
     "text": [
      "\n",
      "count sample diff f1   is twice tot diff f1....... 310  / 1000    p < 0.31   \n",
      "count sample diff prec is twice tot diff prec..... 402  / 1000    p < 0.402  \n",
      "count sample diff rec  is twice tot diff rec ..... 240  / 1000    p < 0.24   \n",
      "count sample diff acc  is twice tot diff acc...... 623  / 1000    p < 0.623  \n",
      "\n",
      "\n",
      "Seed: 165043843 - Split: 0 - age_range - Group: 55 - 64\n",
      "data shape:  (1894, 1)\n",
      "sample size: 947\n"
     ]
    },
    {
     "name": "stderr",
     "output_type": "stream",
     "text": [
      "bootstrap: 100%|████████████████████████████| 1000/1000 [00:12<00:00, 80.25it/s]\n"
     ]
    },
    {
     "name": "stdout",
     "output_type": "stream",
     "text": [
      "\n",
      "count sample diff f1   is twice tot diff f1....... 290  / 1000    p < 0.29   \n",
      "count sample diff prec is twice tot diff prec..... 531  / 1000    p < 0.531  \n",
      "count sample diff rec  is twice tot diff rec ..... 217  / 1000    p < 0.217  \n",
      "count sample diff acc  is twice tot diff acc...... 573  / 1000    p < 0.573  \n",
      "\n",
      "\n",
      "Seed: 165043843 - Split: 0 - age_range - Group: 45 - 54\n",
      "data shape:  (3058, 1)\n",
      "sample size: 1529\n"
     ]
    },
    {
     "name": "stderr",
     "output_type": "stream",
     "text": [
      "bootstrap: 100%|████████████████████████████| 1000/1000 [00:11<00:00, 84.36it/s]\n"
     ]
    },
    {
     "name": "stdout",
     "output_type": "stream",
     "text": [
      "\n",
      "count sample diff f1   is twice tot diff f1....... 120  / 1000    p < 0.12   \n",
      "count sample diff prec is twice tot diff prec..... 191  / 1000    p < 0.191  \n",
      "count sample diff rec  is twice tot diff rec ..... 67   / 1000    p < 0.067  \n",
      "count sample diff acc  is twice tot diff acc...... 305  / 1000    p < 0.305  \n",
      "\n",
      "\n",
      "Seed: 165043843 - Split: 1 - age_range - Group: 25 - 34\n",
      "data shape:  (10244, 1)\n",
      "sample size: 5122\n"
     ]
    },
    {
     "name": "stderr",
     "output_type": "stream",
     "text": [
      "bootstrap: 100%|████████████████████████████| 1000/1000 [00:21<00:00, 47.06it/s]\n"
     ]
    },
    {
     "name": "stdout",
     "output_type": "stream",
     "text": [
      "\n",
      "count sample diff f1   is twice tot diff f1....... 933  / 1000    p < 0.933  \n",
      "count sample diff prec is twice tot diff prec..... 935  / 1000    p < 0.935  \n",
      "count sample diff rec  is twice tot diff rec ..... 922  / 1000    p < 0.922  \n",
      "count sample diff acc  is twice tot diff acc...... 943  / 1000    p < 0.943  \n",
      "\n",
      "\n",
      "Seed: 165043843 - Split: 1 - age_range - Group: 35 - 44\n",
      "data shape:  (6191, 1)\n",
      "sample size: 3095\n"
     ]
    },
    {
     "name": "stderr",
     "output_type": "stream",
     "text": [
      "bootstrap: 100%|████████████████████████████| 1000/1000 [00:13<00:00, 73.66it/s]\n"
     ]
    },
    {
     "name": "stdout",
     "output_type": "stream",
     "text": [
      "\n",
      "count sample diff f1   is twice tot diff f1....... 896  / 1000    p < 0.896  \n",
      "count sample diff prec is twice tot diff prec..... 906  / 1000    p < 0.906  \n",
      "count sample diff rec  is twice tot diff rec ..... 885  / 1000    p < 0.885  \n",
      "count sample diff acc  is twice tot diff acc...... 912  / 1000    p < 0.912  \n",
      "\n",
      "\n",
      "Seed: 165043843 - Split: 1 - age_range - Group: 65 or older\n",
      "data shape:  (704, 1)\n",
      "sample size: 352\n"
     ]
    },
    {
     "name": "stderr",
     "output_type": "stream",
     "text": [
      "bootstrap: 100%|███████████████████████████| 1000/1000 [00:09<00:00, 109.03it/s]\n"
     ]
    },
    {
     "name": "stdout",
     "output_type": "stream",
     "text": [
      "\n",
      "count sample diff f1   is twice tot diff f1....... 280  / 1000    p < 0.28   \n",
      "count sample diff prec is twice tot diff prec..... 239  / 1000    p < 0.239  \n",
      "count sample diff rec  is twice tot diff rec ..... 312  / 1000    p < 0.312  \n",
      "count sample diff acc  is twice tot diff acc...... 195  / 1000    p < 0.195  \n",
      "\n",
      "\n",
      "Seed: 165043843 - Split: 1 - age_range - Group: 18 - 24\n",
      "data shape:  (2638, 1)\n",
      "sample size: 1319\n"
     ]
    },
    {
     "name": "stderr",
     "output_type": "stream",
     "text": [
      "bootstrap: 100%|████████████████████████████| 1000/1000 [00:11<00:00, 89.46it/s]\n"
     ]
    },
    {
     "name": "stdout",
     "output_type": "stream",
     "text": [
      "\n",
      "count sample diff f1   is twice tot diff f1....... 915  / 1000    p < 0.915  \n",
      "count sample diff prec is twice tot diff prec..... 909  / 1000    p < 0.909  \n",
      "count sample diff rec  is twice tot diff rec ..... 917  / 1000    p < 0.917  \n",
      "count sample diff acc  is twice tot diff acc...... 885  / 1000    p < 0.885  \n",
      "\n",
      "\n",
      "Seed: 165043843 - Split: 1 - age_range - Group: 55 - 64\n",
      "data shape:  (1831, 1)\n",
      "sample size: 915\n"
     ]
    },
    {
     "name": "stderr",
     "output_type": "stream",
     "text": [
      "bootstrap: 100%|████████████████████████████| 1000/1000 [00:10<00:00, 96.24it/s]\n"
     ]
    },
    {
     "name": "stdout",
     "output_type": "stream",
     "text": [
      "\n",
      "count sample diff f1   is twice tot diff f1....... 729  / 1000    p < 0.729  \n",
      "count sample diff prec is twice tot diff prec..... 709  / 1000    p < 0.709  \n",
      "count sample diff rec  is twice tot diff rec ..... 801  / 1000    p < 0.801  \n",
      "count sample diff acc  is twice tot diff acc...... 551  / 1000    p < 0.551  \n",
      "\n",
      "\n",
      "Seed: 165043843 - Split: 1 - age_range - Group: 45 - 54\n",
      "data shape:  (3048, 1)\n",
      "sample size: 1524\n"
     ]
    },
    {
     "name": "stderr",
     "output_type": "stream",
     "text": [
      "bootstrap: 100%|████████████████████████████| 1000/1000 [00:13<00:00, 74.91it/s]\n"
     ]
    },
    {
     "name": "stdout",
     "output_type": "stream",
     "text": [
      "\n",
      "count sample diff f1   is twice tot diff f1....... 891  / 1000    p < 0.891  \n",
      "count sample diff prec is twice tot diff prec..... 894  / 1000    p < 0.894  \n",
      "count sample diff rec  is twice tot diff rec ..... 879  / 1000    p < 0.879  \n",
      "count sample diff acc  is twice tot diff acc...... 889  / 1000    p < 0.889  \n",
      "\n",
      "\n",
      "Seed: 165043843 - Split: 2 - age_range - Group: 25 - 34\n",
      "data shape:  (10311, 1)\n",
      "sample size: 5155\n"
     ]
    },
    {
     "name": "stderr",
     "output_type": "stream",
     "text": [
      "bootstrap: 100%|████████████████████████████| 1000/1000 [00:17<00:00, 58.34it/s]\n"
     ]
    },
    {
     "name": "stdout",
     "output_type": "stream",
     "text": [
      "\n",
      "count sample diff f1   is twice tot diff f1....... 282  / 1000    p < 0.282  \n",
      "count sample diff prec is twice tot diff prec..... 173  / 1000    p < 0.173  \n",
      "count sample diff rec  is twice tot diff rec ..... 406  / 1000    p < 0.406  \n",
      "count sample diff acc  is twice tot diff acc...... 133  / 1000    p < 0.133  \n",
      "\n",
      "\n",
      "Seed: 165043843 - Split: 2 - age_range - Group: 35 - 44\n",
      "data shape:  (6247, 1)\n",
      "sample size: 3123\n"
     ]
    },
    {
     "name": "stderr",
     "output_type": "stream",
     "text": [
      "bootstrap: 100%|████████████████████████████| 1000/1000 [00:13<00:00, 73.00it/s]\n"
     ]
    },
    {
     "name": "stdout",
     "output_type": "stream",
     "text": [
      "\n",
      "count sample diff f1   is twice tot diff f1....... 122  / 1000    p < 0.122  \n",
      "count sample diff prec is twice tot diff prec..... 109  / 1000    p < 0.109  \n",
      "count sample diff rec  is twice tot diff rec ..... 168  / 1000    p < 0.168  \n",
      "count sample diff acc  is twice tot diff acc...... 77   / 1000    p < 0.077  \n",
      "\n",
      "\n",
      "Seed: 165043843 - Split: 2 - age_range - Group: 65 or older\n",
      "data shape:  (675, 1)\n",
      "sample size: 337\n"
     ]
    },
    {
     "name": "stderr",
     "output_type": "stream",
     "text": [
      "bootstrap: 100%|███████████████████████████| 1000/1000 [00:08<00:00, 115.19it/s]\n"
     ]
    },
    {
     "name": "stdout",
     "output_type": "stream",
     "text": [
      "\n",
      "count sample diff f1   is twice tot diff f1....... 102  / 1000    p < 0.102  \n",
      "count sample diff prec is twice tot diff prec..... 52   / 1000    p < 0.052  \n",
      "count sample diff rec  is twice tot diff rec ..... 163  / 1000    p < 0.163  \n",
      "count sample diff acc  is twice tot diff acc...... 17   / 1000    p < 0.017  \u001b[38;5;9m*\u001b[0m\n",
      "\n",
      "\n",
      "Seed: 165043843 - Split: 2 - age_range - Group: 18 - 24\n",
      "data shape:  (2697, 1)\n",
      "sample size: 1348\n"
     ]
    },
    {
     "name": "stderr",
     "output_type": "stream",
     "text": [
      "bootstrap: 100%|████████████████████████████| 1000/1000 [00:11<00:00, 89.28it/s]\n"
     ]
    },
    {
     "name": "stdout",
     "output_type": "stream",
     "text": [
      "\n",
      "count sample diff f1   is twice tot diff f1....... 624  / 1000    p < 0.624  \n",
      "count sample diff prec is twice tot diff prec..... 617  / 1000    p < 0.617  \n",
      "count sample diff rec  is twice tot diff rec ..... 649  / 1000    p < 0.649  \n",
      "count sample diff acc  is twice tot diff acc...... 569  / 1000    p < 0.569  \n",
      "\n",
      "\n",
      "Seed: 165043843 - Split: 2 - age_range - Group: 55 - 64\n",
      "data shape:  (1883, 1)\n",
      "sample size: 941\n"
     ]
    },
    {
     "name": "stderr",
     "output_type": "stream",
     "text": [
      "bootstrap: 100%|████████████████████████████| 1000/1000 [00:11<00:00, 88.14it/s]\n"
     ]
    },
    {
     "name": "stdout",
     "output_type": "stream",
     "text": [
      "\n",
      "count sample diff f1   is twice tot diff f1....... 937  / 1000    p < 0.937  \n",
      "count sample diff prec is twice tot diff prec..... 855  / 1000    p < 0.855  \n",
      "count sample diff rec  is twice tot diff rec ..... 969  / 1000    p < 0.969  \u001b[38;5;8m!\u001b[0m\n",
      "count sample diff acc  is twice tot diff acc...... 675  / 1000    p < 0.675  \n",
      "\n",
      "\n",
      "Seed: 165043843 - Split: 2 - age_range - Group: 45 - 54\n",
      "data shape:  (2929, 1)\n",
      "sample size: 1464\n"
     ]
    },
    {
     "name": "stderr",
     "output_type": "stream",
     "text": [
      "bootstrap: 100%|████████████████████████████| 1000/1000 [00:11<00:00, 85.85it/s]\n"
     ]
    },
    {
     "name": "stdout",
     "output_type": "stream",
     "text": [
      "\n",
      "count sample diff f1   is twice tot diff f1....... 43   / 1000    p < 0.043  \u001b[38;5;9m*\u001b[0m\n",
      "count sample diff prec is twice tot diff prec..... 42   / 1000    p < 0.042  \u001b[38;5;9m*\u001b[0m\n",
      "count sample diff rec  is twice tot diff rec ..... 49   / 1000    p < 0.049  \u001b[38;5;9m*\u001b[0m\n",
      "count sample diff acc  is twice tot diff acc...... 38   / 1000    p < 0.038  \u001b[38;5;9m*\u001b[0m\n",
      "\n",
      "\n",
      "Seed: 165043843 - Split: 3 - age_range - Group: 25 - 34\n",
      "data shape:  (10248, 1)\n",
      "sample size: 5124\n"
     ]
    },
    {
     "name": "stderr",
     "output_type": "stream",
     "text": [
      "bootstrap: 100%|████████████████████████████| 1000/1000 [00:19<00:00, 50.80it/s]\n"
     ]
    },
    {
     "name": "stdout",
     "output_type": "stream",
     "text": [
      "\n",
      "count sample diff f1   is twice tot diff f1....... 153  / 1000    p < 0.153  \n",
      "count sample diff prec is twice tot diff prec..... 220  / 1000    p < 0.22   \n",
      "count sample diff rec  is twice tot diff rec ..... 106  / 1000    p < 0.106  \n",
      "count sample diff acc  is twice tot diff acc...... 303  / 1000    p < 0.303  \n",
      "\n",
      "\n",
      "Seed: 165043843 - Split: 3 - age_range - Group: 35 - 44\n",
      "data shape:  (6324, 1)\n",
      "sample size: 3162\n"
     ]
    },
    {
     "name": "stderr",
     "output_type": "stream",
     "text": [
      "bootstrap: 100%|████████████████████████████| 1000/1000 [00:14<00:00, 68.71it/s]\n"
     ]
    },
    {
     "name": "stdout",
     "output_type": "stream",
     "text": [
      "\n",
      "count sample diff f1   is twice tot diff f1....... 316  / 1000    p < 0.316  \n",
      "count sample diff prec is twice tot diff prec..... 359  / 1000    p < 0.359  \n",
      "count sample diff rec  is twice tot diff rec ..... 239  / 1000    p < 0.239  \n",
      "count sample diff acc  is twice tot diff acc...... 468  / 1000    p < 0.468  \n",
      "\n",
      "\n",
      "Seed: 165043843 - Split: 3 - age_range - Group: 65 or older\n",
      "data shape:  (678, 1)\n",
      "sample size: 339\n"
     ]
    },
    {
     "name": "stderr",
     "output_type": "stream",
     "text": [
      "bootstrap: 100%|███████████████████████████| 1000/1000 [00:09<00:00, 101.90it/s]\n"
     ]
    },
    {
     "name": "stdout",
     "output_type": "stream",
     "text": [
      "\n",
      "count sample diff f1   is twice tot diff f1....... 193  / 1000    p < 0.193  \n",
      "count sample diff prec is twice tot diff prec..... 160  / 1000    p < 0.16   \n",
      "count sample diff rec  is twice tot diff rec ..... 212  / 1000    p < 0.212  \n",
      "count sample diff acc  is twice tot diff acc...... 172  / 1000    p < 0.172  \n",
      "\n",
      "\n",
      "Seed: 165043843 - Split: 3 - age_range - Group: 18 - 24\n",
      "data shape:  (2604, 1)\n",
      "sample size: 1302\n"
     ]
    },
    {
     "name": "stderr",
     "output_type": "stream",
     "text": [
      "bootstrap: 100%|████████████████████████████| 1000/1000 [00:12<00:00, 77.30it/s]\n"
     ]
    },
    {
     "name": "stdout",
     "output_type": "stream",
     "text": [
      "\n",
      "count sample diff f1   is twice tot diff f1....... 10   / 1000    p < 0.01   \u001b[38;5;9m*\u001b[0m\n",
      "count sample diff prec is twice tot diff prec..... 9    / 1000    p < 0.009  \u001b[38;5;9m**\u001b[0m\n",
      "count sample diff rec  is twice tot diff rec ..... 8    / 1000    p < 0.008  \u001b[38;5;9m**\u001b[0m\n",
      "count sample diff acc  is twice tot diff acc...... 15   / 1000    p < 0.015  \u001b[38;5;9m*\u001b[0m\n",
      "\n",
      "\n",
      "Seed: 165043843 - Split: 3 - age_range - Group: 55 - 64\n",
      "data shape:  (1852, 1)\n",
      "sample size: 926\n"
     ]
    },
    {
     "name": "stderr",
     "output_type": "stream",
     "text": [
      "bootstrap: 100%|███████████████████████████| 1000/1000 [00:09<00:00, 103.79it/s]\n"
     ]
    },
    {
     "name": "stdout",
     "output_type": "stream",
     "text": [
      "\n",
      "count sample diff f1   is twice tot diff f1....... 19   / 1000    p < 0.019  \u001b[38;5;9m*\u001b[0m\n",
      "count sample diff prec is twice tot diff prec..... 25   / 1000    p < 0.025  \u001b[38;5;9m*\u001b[0m\n",
      "count sample diff rec  is twice tot diff rec ..... 20   / 1000    p < 0.02   \u001b[38;5;9m*\u001b[0m\n",
      "count sample diff acc  is twice tot diff acc...... 27   / 1000    p < 0.027  \u001b[38;5;9m*\u001b[0m\n",
      "\n",
      "\n",
      "Seed: 165043843 - Split: 3 - age_range - Group: 45 - 54\n",
      "data shape:  (3065, 1)\n",
      "sample size: 1532\n"
     ]
    },
    {
     "name": "stderr",
     "output_type": "stream",
     "text": [
      "bootstrap: 100%|████████████████████████████| 1000/1000 [00:10<00:00, 93.97it/s]\n"
     ]
    },
    {
     "name": "stdout",
     "output_type": "stream",
     "text": [
      "\n",
      "count sample diff f1   is twice tot diff f1....... 51   / 1000    p < 0.051  \n",
      "count sample diff prec is twice tot diff prec..... 77   / 1000    p < 0.077  \n",
      "count sample diff rec  is twice tot diff rec ..... 40   / 1000    p < 0.04   \u001b[38;5;9m*\u001b[0m\n",
      "count sample diff acc  is twice tot diff acc...... 105  / 1000    p < 0.105  \n",
      "\n",
      "\n",
      "Seed: 2923262358 - Split: 0 - age_range - Group: 25 - 34\n",
      "data shape:  (10253, 1)\n",
      "sample size: 5126\n"
     ]
    },
    {
     "name": "stderr",
     "output_type": "stream",
     "text": [
      "bootstrap: 100%|████████████████████████████| 1000/1000 [00:18<00:00, 52.98it/s]\n"
     ]
    },
    {
     "name": "stdout",
     "output_type": "stream",
     "text": [
      "\n",
      "count sample diff f1   is twice tot diff f1....... 707  / 1000    p < 0.707  \n",
      "count sample diff prec is twice tot diff prec..... 755  / 1000    p < 0.755  \n",
      "count sample diff rec  is twice tot diff rec ..... 572  / 1000    p < 0.572  \n",
      "count sample diff acc  is twice tot diff acc...... 863  / 1000    p < 0.863  \n",
      "\n",
      "\n",
      "Seed: 2923262358 - Split: 0 - age_range - Group: 35 - 44\n",
      "data shape:  (6321, 1)\n",
      "sample size: 3160\n"
     ]
    },
    {
     "name": "stderr",
     "output_type": "stream",
     "text": [
      "bootstrap: 100%|████████████████████████████| 1000/1000 [00:16<00:00, 62.43it/s]\n"
     ]
    },
    {
     "name": "stdout",
     "output_type": "stream",
     "text": [
      "\n",
      "count sample diff f1   is twice tot diff f1....... 939  / 1000    p < 0.939  \n",
      "count sample diff prec is twice tot diff prec..... 946  / 1000    p < 0.946  \n",
      "count sample diff rec  is twice tot diff rec ..... 922  / 1000    p < 0.922  \n",
      "count sample diff acc  is twice tot diff acc...... 960  / 1000    p < 0.96   \u001b[38;5;8m!\u001b[0m\n",
      "\n",
      "\n",
      "Seed: 2923262358 - Split: 0 - age_range - Group: 65 or older\n",
      "data shape:  (646, 1)\n",
      "sample size: 323\n"
     ]
    },
    {
     "name": "stderr",
     "output_type": "stream",
     "text": [
      "bootstrap: 100%|████████████████████████████| 1000/1000 [00:10<00:00, 98.50it/s]\n"
     ]
    },
    {
     "name": "stdout",
     "output_type": "stream",
     "text": [
      "\n",
      "count sample diff f1   is twice tot diff f1....... 452  / 1000    p < 0.452  \n",
      "count sample diff prec is twice tot diff prec..... 409  / 1000    p < 0.409  \n",
      "count sample diff rec  is twice tot diff rec ..... 513  / 1000    p < 0.513  \n",
      "count sample diff acc  is twice tot diff acc...... 355  / 1000    p < 0.355  \n",
      "\n",
      "\n",
      "Seed: 2923262358 - Split: 0 - age_range - Group: 18 - 24\n",
      "data shape:  (2644, 1)\n",
      "sample size: 1322\n"
     ]
    },
    {
     "name": "stderr",
     "output_type": "stream",
     "text": [
      "bootstrap: 100%|████████████████████████████| 1000/1000 [00:10<00:00, 92.38it/s]\n"
     ]
    },
    {
     "name": "stdout",
     "output_type": "stream",
     "text": [
      "\n",
      "count sample diff f1   is twice tot diff f1....... 644  / 1000    p < 0.644  \n",
      "count sample diff prec is twice tot diff prec..... 639  / 1000    p < 0.639  \n",
      "count sample diff rec  is twice tot diff rec ..... 672  / 1000    p < 0.672  \n",
      "count sample diff acc  is twice tot diff acc...... 579  / 1000    p < 0.579  \n",
      "\n",
      "\n",
      "Seed: 2923262358 - Split: 0 - age_range - Group: 55 - 64\n",
      "data shape:  (1869, 1)\n",
      "sample size: 934\n"
     ]
    },
    {
     "name": "stderr",
     "output_type": "stream",
     "text": [
      "bootstrap: 100%|████████████████████████████| 1000/1000 [00:10<00:00, 96.85it/s]\n"
     ]
    },
    {
     "name": "stdout",
     "output_type": "stream",
     "text": [
      "\n",
      "count sample diff f1   is twice tot diff f1....... 820  / 1000    p < 0.82   \n",
      "count sample diff prec is twice tot diff prec..... 696  / 1000    p < 0.696  \n",
      "count sample diff rec  is twice tot diff rec ..... 917  / 1000    p < 0.917  \n",
      "count sample diff acc  is twice tot diff acc...... 404  / 1000    p < 0.404  \n",
      "\n",
      "\n",
      "Seed: 2923262358 - Split: 0 - age_range - Group: 45 - 54\n",
      "data shape:  (3030, 1)\n",
      "sample size: 1515\n"
     ]
    },
    {
     "name": "stderr",
     "output_type": "stream",
     "text": [
      "bootstrap: 100%|████████████████████████████| 1000/1000 [00:13<00:00, 72.33it/s]\n"
     ]
    },
    {
     "name": "stdout",
     "output_type": "stream",
     "text": [
      "\n",
      "count sample diff f1   is twice tot diff f1....... 798  / 1000    p < 0.798  \n",
      "count sample diff prec is twice tot diff prec..... 671  / 1000    p < 0.671  \n",
      "count sample diff rec  is twice tot diff rec ..... 866  / 1000    p < 0.866  \n",
      "count sample diff acc  is twice tot diff acc...... 570  / 1000    p < 0.57   \n",
      "\n",
      "\n",
      "Seed: 2923262358 - Split: 1 - age_range - Group: 25 - 34\n",
      "data shape:  (10398, 1)\n",
      "sample size: 5199\n"
     ]
    },
    {
     "name": "stderr",
     "output_type": "stream",
     "text": [
      "bootstrap: 100%|████████████████████████████| 1000/1000 [00:22<00:00, 44.96it/s]\n"
     ]
    },
    {
     "name": "stdout",
     "output_type": "stream",
     "text": [
      "\n",
      "count sample diff f1   is twice tot diff f1....... 666  / 1000    p < 0.666  \n",
      "count sample diff prec is twice tot diff prec..... 678  / 1000    p < 0.678  \n",
      "count sample diff rec  is twice tot diff rec ..... 661  / 1000    p < 0.661  \n",
      "count sample diff acc  is twice tot diff acc...... 670  / 1000    p < 0.67   \n",
      "\n",
      "\n",
      "Seed: 2923262358 - Split: 1 - age_range - Group: 35 - 44\n",
      "data shape:  (6179, 1)\n",
      "sample size: 3089\n"
     ]
    },
    {
     "name": "stderr",
     "output_type": "stream",
     "text": [
      "bootstrap: 100%|████████████████████████████| 1000/1000 [00:14<00:00, 71.39it/s]\n"
     ]
    },
    {
     "name": "stdout",
     "output_type": "stream",
     "text": [
      "\n",
      "count sample diff f1   is twice tot diff f1....... 958  / 1000    p < 0.958  \u001b[38;5;8m!\u001b[0m\n",
      "count sample diff prec is twice tot diff prec..... 913  / 1000    p < 0.913  \n",
      "count sample diff rec  is twice tot diff rec ..... 968  / 1000    p < 0.968  \u001b[38;5;8m!\u001b[0m\n",
      "count sample diff acc  is twice tot diff acc...... 835  / 1000    p < 0.835  \n",
      "\n",
      "\n",
      "Seed: 2923262358 - Split: 1 - age_range - Group: 65 or older\n",
      "data shape:  (675, 1)\n",
      "sample size: 337\n"
     ]
    },
    {
     "name": "stderr",
     "output_type": "stream",
     "text": [
      "bootstrap: 100%|███████████████████████████| 1000/1000 [00:09<00:00, 100.64it/s]\n"
     ]
    },
    {
     "name": "stdout",
     "output_type": "stream",
     "text": [
      "\n",
      "count sample diff f1   is twice tot diff f1....... 742  / 1000    p < 0.742  \n",
      "count sample diff prec is twice tot diff prec..... 591  / 1000    p < 0.591  \n",
      "count sample diff rec  is twice tot diff rec ..... 776  / 1000    p < 0.776  \n",
      "count sample diff acc  is twice tot diff acc...... 508  / 1000    p < 0.508  \n",
      "\n",
      "\n",
      "Seed: 2923262358 - Split: 1 - age_range - Group: 18 - 24\n",
      "data shape:  (2556, 1)\n",
      "sample size: 1278\n"
     ]
    },
    {
     "name": "stderr",
     "output_type": "stream",
     "text": [
      "bootstrap: 100%|████████████████████████████| 1000/1000 [00:12<00:00, 82.74it/s]\n"
     ]
    },
    {
     "name": "stdout",
     "output_type": "stream",
     "text": [
      "\n",
      "count sample diff f1   is twice tot diff f1....... 931  / 1000    p < 0.931  \n",
      "count sample diff prec is twice tot diff prec..... 896  / 1000    p < 0.896  \n",
      "count sample diff rec  is twice tot diff rec ..... 942  / 1000    p < 0.942  \n",
      "count sample diff acc  is twice tot diff acc...... 735  / 1000    p < 0.735  \n",
      "\n",
      "\n",
      "Seed: 2923262358 - Split: 1 - age_range - Group: 55 - 64\n",
      "data shape:  (1832, 1)\n",
      "sample size: 916\n"
     ]
    },
    {
     "name": "stderr",
     "output_type": "stream",
     "text": [
      "bootstrap: 100%|███████████████████████████| 1000/1000 [00:09<00:00, 103.70it/s]\n"
     ]
    },
    {
     "name": "stdout",
     "output_type": "stream",
     "text": [
      "\n",
      "count sample diff f1   is twice tot diff f1....... 783  / 1000    p < 0.783  \n",
      "count sample diff prec is twice tot diff prec..... 584  / 1000    p < 0.584  \n",
      "count sample diff rec  is twice tot diff rec ..... 893  / 1000    p < 0.893  \n",
      "count sample diff acc  is twice tot diff acc...... 348  / 1000    p < 0.348  \n",
      "\n",
      "\n",
      "Seed: 2923262358 - Split: 1 - age_range - Group: 45 - 54\n",
      "data shape:  (3046, 1)\n",
      "sample size: 1523\n"
     ]
    },
    {
     "name": "stderr",
     "output_type": "stream",
     "text": [
      "bootstrap: 100%|████████████████████████████| 1000/1000 [00:11<00:00, 89.10it/s]\n"
     ]
    },
    {
     "name": "stdout",
     "output_type": "stream",
     "text": [
      "\n",
      "count sample diff f1   is twice tot diff f1....... 954  / 1000    p < 0.954  \u001b[38;5;8m!\u001b[0m\n",
      "count sample diff prec is twice tot diff prec..... 921  / 1000    p < 0.921  \n",
      "count sample diff rec  is twice tot diff rec ..... 976  / 1000    p < 0.976  \u001b[38;5;8m!\u001b[0m\n",
      "count sample diff acc  is twice tot diff acc...... 841  / 1000    p < 0.841  \n",
      "\n",
      "\n",
      "Seed: 2923262358 - Split: 2 - age_range - Group: 25 - 34\n",
      "data shape:  (10301, 1)\n",
      "sample size: 5150\n"
     ]
    },
    {
     "name": "stderr",
     "output_type": "stream",
     "text": [
      "bootstrap: 100%|████████████████████████████| 1000/1000 [00:19<00:00, 50.78it/s]\n"
     ]
    },
    {
     "name": "stdout",
     "output_type": "stream",
     "text": [
      "\n",
      "count sample diff f1   is twice tot diff f1....... 932  / 1000    p < 0.932  \n",
      "count sample diff prec is twice tot diff prec..... 946  / 1000    p < 0.946  \n",
      "count sample diff rec  is twice tot diff rec ..... 917  / 1000    p < 0.917  \n",
      "count sample diff acc  is twice tot diff acc...... 954  / 1000    p < 0.954  \u001b[38;5;8m!\u001b[0m\n",
      "\n",
      "\n",
      "Seed: 2923262358 - Split: 2 - age_range - Group: 35 - 44\n",
      "data shape:  (6314, 1)\n",
      "sample size: 3157\n"
     ]
    },
    {
     "name": "stderr",
     "output_type": "stream",
     "text": [
      "bootstrap: 100%|████████████████████████████| 1000/1000 [00:13<00:00, 73.42it/s]\n"
     ]
    },
    {
     "name": "stdout",
     "output_type": "stream",
     "text": [
      "\n",
      "count sample diff f1   is twice tot diff f1....... 974  / 1000    p < 0.974  \u001b[38;5;8m!\u001b[0m\n",
      "count sample diff prec is twice tot diff prec..... 964  / 1000    p < 0.964  \u001b[38;5;8m!\u001b[0m\n",
      "count sample diff rec  is twice tot diff rec ..... 977  / 1000    p < 0.977  \u001b[38;5;8m!\u001b[0m\n",
      "count sample diff acc  is twice tot diff acc...... 932  / 1000    p < 0.932  \n",
      "\n",
      "\n",
      "Seed: 2923262358 - Split: 2 - age_range - Group: 65 or older\n",
      "data shape:  (683, 1)\n",
      "sample size: 341\n"
     ]
    },
    {
     "name": "stderr",
     "output_type": "stream",
     "text": [
      "bootstrap: 100%|███████████████████████████| 1000/1000 [00:08<00:00, 115.32it/s]\n"
     ]
    },
    {
     "name": "stdout",
     "output_type": "stream",
     "text": [
      "\n",
      "count sample diff f1   is twice tot diff f1....... 135  / 1000    p < 0.135  \n",
      "count sample diff prec is twice tot diff prec..... 161  / 1000    p < 0.161  \n",
      "count sample diff rec  is twice tot diff rec ..... 117  / 1000    p < 0.117  \n",
      "count sample diff acc  is twice tot diff acc...... 194  / 1000    p < 0.194  \n",
      "\n",
      "\n",
      "Seed: 2923262358 - Split: 2 - age_range - Group: 18 - 24\n",
      "data shape:  (2596, 1)\n",
      "sample size: 1298\n"
     ]
    },
    {
     "name": "stderr",
     "output_type": "stream",
     "text": [
      "bootstrap: 100%|████████████████████████████| 1000/1000 [00:10<00:00, 96.09it/s]\n"
     ]
    },
    {
     "name": "stdout",
     "output_type": "stream",
     "text": [
      "\n",
      "count sample diff f1   is twice tot diff f1....... 634  / 1000    p < 0.634  \n",
      "count sample diff prec is twice tot diff prec..... 652  / 1000    p < 0.652  \n",
      "count sample diff rec  is twice tot diff rec ..... 619  / 1000    p < 0.619  \n",
      "count sample diff acc  is twice tot diff acc...... 695  / 1000    p < 0.695  \n",
      "\n",
      "\n",
      "Seed: 2923262358 - Split: 2 - age_range - Group: 55 - 64\n",
      "data shape:  (1856, 1)\n",
      "sample size: 928\n"
     ]
    },
    {
     "name": "stderr",
     "output_type": "stream",
     "text": [
      "bootstrap: 100%|████████████████████████████| 1000/1000 [00:10<00:00, 93.47it/s]\n"
     ]
    },
    {
     "name": "stdout",
     "output_type": "stream",
     "text": [
      "\n",
      "count sample diff f1   is twice tot diff f1....... 41   / 1000    p < 0.041  \u001b[38;5;9m*\u001b[0m\n",
      "count sample diff prec is twice tot diff prec..... 20   / 1000    p < 0.02   \u001b[38;5;9m*\u001b[0m\n",
      "count sample diff rec  is twice tot diff rec ..... 96   / 1000    p < 0.096  \n",
      "count sample diff acc  is twice tot diff acc...... 6    / 1000    p < 0.006  \u001b[38;5;9m**\u001b[0m\n",
      "\n",
      "\n",
      "Seed: 2923262358 - Split: 2 - age_range - Group: 45 - 54\n",
      "data shape:  (3010, 1)\n",
      "sample size: 1505\n"
     ]
    },
    {
     "name": "stderr",
     "output_type": "stream",
     "text": [
      "bootstrap: 100%|████████████████████████████| 1000/1000 [00:10<00:00, 93.00it/s]\n"
     ]
    },
    {
     "name": "stdout",
     "output_type": "stream",
     "text": [
      "\n",
      "count sample diff f1   is twice tot diff f1....... 851  / 1000    p < 0.851  \n",
      "count sample diff prec is twice tot diff prec..... 815  / 1000    p < 0.815  \n",
      "count sample diff rec  is twice tot diff rec ..... 866  / 1000    p < 0.866  \n",
      "count sample diff acc  is twice tot diff acc...... 778  / 1000    p < 0.778  \n",
      "\n",
      "\n",
      "Seed: 2923262358 - Split: 3 - age_range - Group: 25 - 34\n",
      "data shape:  (10308, 1)\n",
      "sample size: 5154\n"
     ]
    },
    {
     "name": "stderr",
     "output_type": "stream",
     "text": [
      "bootstrap: 100%|████████████████████████████| 1000/1000 [00:17<00:00, 56.30it/s]\n"
     ]
    },
    {
     "name": "stdout",
     "output_type": "stream",
     "text": [
      "\n",
      "count sample diff f1   is twice tot diff f1....... 979  / 1000    p < 0.979  \u001b[38;5;8m!\u001b[0m\n",
      "count sample diff prec is twice tot diff prec..... 972  / 1000    p < 0.972  \u001b[38;5;8m!\u001b[0m\n",
      "count sample diff rec  is twice tot diff rec ..... 977  / 1000    p < 0.977  \u001b[38;5;8m!\u001b[0m\n",
      "count sample diff acc  is twice tot diff acc...... 961  / 1000    p < 0.961  \u001b[38;5;8m!\u001b[0m\n",
      "\n",
      "\n",
      "Seed: 2923262358 - Split: 3 - age_range - Group: 35 - 44\n",
      "data shape:  (6186, 1)\n",
      "sample size: 3093\n"
     ]
    },
    {
     "name": "stderr",
     "output_type": "stream",
     "text": [
      "bootstrap: 100%|████████████████████████████| 1000/1000 [00:15<00:00, 64.00it/s]\n"
     ]
    },
    {
     "name": "stdout",
     "output_type": "stream",
     "text": [
      "\n",
      "count sample diff f1   is twice tot diff f1....... 830  / 1000    p < 0.83   \n",
      "count sample diff prec is twice tot diff prec..... 693  / 1000    p < 0.693  \n",
      "count sample diff rec  is twice tot diff rec ..... 918  / 1000    p < 0.918  \n",
      "count sample diff acc  is twice tot diff acc...... 455  / 1000    p < 0.455  \n",
      "\n",
      "\n",
      "Seed: 2923262358 - Split: 3 - age_range - Group: 65 or older\n",
      "data shape:  (696, 1)\n",
      "sample size: 348\n"
     ]
    },
    {
     "name": "stderr",
     "output_type": "stream",
     "text": [
      "bootstrap: 100%|███████████████████████████| 1000/1000 [00:08<00:00, 114.63it/s]\n"
     ]
    },
    {
     "name": "stdout",
     "output_type": "stream",
     "text": [
      "\n",
      "count sample diff f1   is twice tot diff f1....... 15   / 1000    p < 0.015  \u001b[38;5;9m*\u001b[0m\n",
      "count sample diff prec is twice tot diff prec..... 11   / 1000    p < 0.011  \u001b[38;5;9m*\u001b[0m\n",
      "count sample diff rec  is twice tot diff rec ..... 19   / 1000    p < 0.019  \u001b[38;5;9m*\u001b[0m\n",
      "count sample diff acc  is twice tot diff acc...... 8    / 1000    p < 0.008  \u001b[38;5;9m**\u001b[0m\n",
      "\n",
      "\n",
      "Seed: 2923262358 - Split: 3 - age_range - Group: 18 - 24\n",
      "data shape:  (2664, 1)\n",
      "sample size: 1332\n"
     ]
    },
    {
     "name": "stderr",
     "output_type": "stream",
     "text": [
      "bootstrap: 100%|████████████████████████████| 1000/1000 [00:10<00:00, 97.93it/s]\n"
     ]
    },
    {
     "name": "stdout",
     "output_type": "stream",
     "text": [
      "\n",
      "count sample diff f1   is twice tot diff f1....... 847  / 1000    p < 0.847  \n",
      "count sample diff prec is twice tot diff prec..... 797  / 1000    p < 0.797  \n",
      "count sample diff rec  is twice tot diff rec ..... 890  / 1000    p < 0.89   \n",
      "count sample diff acc  is twice tot diff acc...... 547  / 1000    p < 0.547  \n",
      "\n",
      "\n",
      "Seed: 2923262358 - Split: 3 - age_range - Group: 55 - 64\n",
      "data shape:  (1903, 1)\n",
      "sample size: 951\n"
     ]
    },
    {
     "name": "stderr",
     "output_type": "stream",
     "text": [
      "bootstrap: 100%|████████████████████████████| 1000/1000 [00:10<00:00, 97.13it/s]\n"
     ]
    },
    {
     "name": "stdout",
     "output_type": "stream",
     "text": [
      "\n",
      "count sample diff f1   is twice tot diff f1....... 932  / 1000    p < 0.932  \n",
      "count sample diff prec is twice tot diff prec..... 878  / 1000    p < 0.878  \n",
      "count sample diff rec  is twice tot diff rec ..... 975  / 1000    p < 0.975  \u001b[38;5;8m!\u001b[0m\n",
      "count sample diff acc  is twice tot diff acc...... 628  / 1000    p < 0.628  \n",
      "\n",
      "\n",
      "Seed: 2923262358 - Split: 3 - age_range - Group: 45 - 54\n",
      "data shape:  (3014, 1)\n",
      "sample size: 1507\n"
     ]
    },
    {
     "name": "stderr",
     "output_type": "stream",
     "text": [
      "bootstrap: 100%|████████████████████████████| 1000/1000 [00:11<00:00, 89.36it/s]"
     ]
    },
    {
     "name": "stdout",
     "output_type": "stream",
     "text": [
      "\n",
      "count sample diff f1   is twice tot diff f1....... 466  / 1000    p < 0.466  \n",
      "count sample diff prec is twice tot diff prec..... 306  / 1000    p < 0.306  \n",
      "count sample diff rec  is twice tot diff rec ..... 610  / 1000    p < 0.61   \n",
      "count sample diff acc  is twice tot diff acc...... 169  / 1000    p < 0.169  \n"
     ]
    },
    {
     "name": "stderr",
     "output_type": "stream",
     "text": [
      "\n"
     ]
    }
   ],
   "source": [
    "age_p_dicts = significance_test_per_group(df, attribute_a='randomized', attribute_b='age', to_groups=to_groups, attributes=['age_range'])"
   ]
  },
  {
   "cell_type": "code",
   "execution_count": 14,
   "metadata": {},
   "outputs": [
    {
     "data": {
      "text/plain": [
       "{'18 - 24': {'k_count': 1, 'k_bonferroni': -1},\n",
       " '25 - 34': {'k_count': -1, 'k_bonferroni': -1},\n",
       " '65 or older': {'k_count': 1, 'k_bonferroni': -1},\n",
       " '45 - 54': {'k_count': 1, 'k_bonferroni': -1},\n",
       " '55 - 64': {'k_count': 3, 'k_bonferroni': -1},\n",
       " '35 - 44': {'k_count': 1, 'k_bonferroni': -1}}"
      ]
     },
     "execution_count": 14,
     "metadata": {},
     "output_type": "execute_result"
    }
   ],
   "source": [
    "age_ks = k_estimator_groups(age_p_dicts)\n",
    "age_ks"
   ]
  },
  {
   "cell_type": "code",
   "execution_count": 15,
   "metadata": {},
   "outputs": [
    {
     "data": {
      "text/html": [
       "<div>\n",
       "<style scoped>\n",
       "    .dataframe tbody tr th:only-of-type {\n",
       "        vertical-align: middle;\n",
       "    }\n",
       "\n",
       "    .dataframe tbody tr th {\n",
       "        vertical-align: top;\n",
       "    }\n",
       "\n",
       "    .dataframe thead th {\n",
       "        text-align: right;\n",
       "    }\n",
       "</style>\n",
       "<table border=\"1\" class=\"dataframe\">\n",
       "  <thead>\n",
       "    <tr style=\"text-align: right;\">\n",
       "      <th></th>\n",
       "      <th>$\\hat{k}_{count}$</th>\n",
       "      <th>$\\hat{k}_{Bonf.}$</th>\n",
       "    </tr>\n",
       "  </thead>\n",
       "  <tbody>\n",
       "    <tr>\n",
       "      <th>18 - 24</th>\n",
       "      <td>1</td>\n",
       "      <td>0</td>\n",
       "    </tr>\n",
       "    <tr>\n",
       "      <th>25 - 34</th>\n",
       "      <td>0</td>\n",
       "      <td>0</td>\n",
       "    </tr>\n",
       "    <tr>\n",
       "      <th>35 - 44</th>\n",
       "      <td>1</td>\n",
       "      <td>0</td>\n",
       "    </tr>\n",
       "    <tr>\n",
       "      <th>45 - 54</th>\n",
       "      <td>1</td>\n",
       "      <td>0</td>\n",
       "    </tr>\n",
       "    <tr>\n",
       "      <th>55 - 64</th>\n",
       "      <td>3</td>\n",
       "      <td>0</td>\n",
       "    </tr>\n",
       "    <tr>\n",
       "      <th>65 or older</th>\n",
       "      <td>1</td>\n",
       "      <td>0</td>\n",
       "    </tr>\n",
       "  </tbody>\n",
       "</table>\n",
       "</div>"
      ],
      "text/plain": [
       "             $\\hat{k}_{count}$  $\\hat{k}_{Bonf.}$\n",
       "18 - 24                      1                  0\n",
       "25 - 34                      0                  0\n",
       "35 - 44                      1                  0\n",
       "45 - 54                      1                  0\n",
       "55 - 64                      3                  0\n",
       "65 or older                  1                  0"
      ]
     },
     "execution_count": 15,
     "metadata": {},
     "output_type": "execute_result"
    }
   ],
   "source": [
    "age_ks_df = pd.DataFrame(age_ks).T.sort_index()\n",
    "age_ks_df = age_ks_df.replace({-1: 0})\n",
    "age_ks_df = age_ks_df.rename(columns={'k_count': '$\\hat{k}_{count}$', 'k_bonferroni':'$\\hat{k}_{Bonf.}$'})\n",
    "age_ks_df"
   ]
  },
  {
   "cell_type": "code",
   "execution_count": 16,
   "metadata": {},
   "outputs": [],
   "source": [
    "age_ks_df.to_latex('../tables/replication/randomized/age.tex', escape=False)"
   ]
  },
  {
   "attachments": {},
   "cell_type": "markdown",
   "metadata": {},
   "source": [
    "#### Education"
   ]
  },
  {
   "cell_type": "code",
   "execution_count": 17,
   "metadata": {},
   "outputs": [
    {
     "name": "stdout",
     "output_type": "stream",
     "text": [
      "\n",
      "\n",
      "Seed: 2803636207 - Split: 0 - education - Group: Bachelor's degree in college (4-year)\n",
      "data shape:  (10439, 1)\n",
      "sample size: 5219\n"
     ]
    },
    {
     "name": "stderr",
     "output_type": "stream",
     "text": [
      "bootstrap: 100%|████████████████████████████| 1000/1000 [00:19<00:00, 52.27it/s]\n"
     ]
    },
    {
     "name": "stdout",
     "output_type": "stream",
     "text": [
      "\n",
      "count sample diff f1   is twice tot diff f1....... 458  / 1000    p < 0.458  \n",
      "count sample diff prec is twice tot diff prec..... 504  / 1000    p < 0.504  \n",
      "count sample diff rec  is twice tot diff rec ..... 448  / 1000    p < 0.448  \n",
      "count sample diff acc  is twice tot diff acc...... 530  / 1000    p < 0.53   \n",
      "\n",
      "\n",
      "Seed: 2803636207 - Split: 0 - education - Group: High school graduate (high school diploma or equivalent including GED)\n",
      "data shape:  (2130, 1)\n",
      "sample size: 1065\n"
     ]
    },
    {
     "name": "stderr",
     "output_type": "stream",
     "text": [
      "bootstrap: 100%|███████████████████████████| 1000/1000 [00:09<00:00, 102.69it/s]\n"
     ]
    },
    {
     "name": "stdout",
     "output_type": "stream",
     "text": [
      "\n",
      "count sample diff f1   is twice tot diff f1....... 28   / 1000    p < 0.028  \u001b[38;5;9m*\u001b[0m\n",
      "count sample diff prec is twice tot diff prec..... 72   / 1000    p < 0.072  \n",
      "count sample diff rec  is twice tot diff rec ..... 20   / 1000    p < 0.02   \u001b[38;5;9m*\u001b[0m\n",
      "count sample diff acc  is twice tot diff acc...... 270  / 1000    p < 0.27   \n",
      "\n",
      "\n",
      "Seed: 2803636207 - Split: 0 - education - Group: Master's degree\n",
      "data shape:  (3534, 1)\n",
      "sample size: 1767\n"
     ]
    },
    {
     "name": "stderr",
     "output_type": "stream",
     "text": [
      "bootstrap: 100%|████████████████████████████| 1000/1000 [00:11<00:00, 88.76it/s]\n"
     ]
    },
    {
     "name": "stdout",
     "output_type": "stream",
     "text": [
      "\n",
      "count sample diff f1   is twice tot diff f1....... 590  / 1000    p < 0.59   \n",
      "count sample diff prec is twice tot diff prec..... 682  / 1000    p < 0.682  \n",
      "count sample diff rec  is twice tot diff rec ..... 519  / 1000    p < 0.519  \n",
      "count sample diff acc  is twice tot diff acc...... 698  / 1000    p < 0.698  \n",
      "\n",
      "\n",
      "Seed: 2803636207 - Split: 0 - education - Group: Associate degree in college (2-year)\n",
      "data shape:  (2603, 1)\n",
      "sample size: 1301\n"
     ]
    },
    {
     "name": "stderr",
     "output_type": "stream",
     "text": [
      "bootstrap: 100%|████████████████████████████| 1000/1000 [00:11<00:00, 89.61it/s]\n"
     ]
    },
    {
     "name": "stdout",
     "output_type": "stream",
     "text": [
      "\n",
      "count sample diff f1   is twice tot diff f1....... 40   / 1000    p < 0.04   \u001b[38;5;9m*\u001b[0m\n",
      "count sample diff prec is twice tot diff prec..... 65   / 1000    p < 0.065  \n",
      "count sample diff rec  is twice tot diff rec ..... 27   / 1000    p < 0.027  \u001b[38;5;9m*\u001b[0m\n",
      "count sample diff acc  is twice tot diff acc...... 226  / 1000    p < 0.226  \n",
      "\n",
      "\n",
      "Seed: 2803636207 - Split: 0 - education - Group: Some college but no degree\n",
      "data shape:  (4759, 1)\n",
      "sample size: 2379\n"
     ]
    },
    {
     "name": "stderr",
     "output_type": "stream",
     "text": [
      "bootstrap: 100%|████████████████████████████| 1000/1000 [00:12<00:00, 77.10it/s]\n"
     ]
    },
    {
     "name": "stdout",
     "output_type": "stream",
     "text": [
      "\n",
      "count sample diff f1   is twice tot diff f1....... 2    / 1000    p < 0.002  \u001b[38;5;9m**\u001b[0m\n",
      "count sample diff prec is twice tot diff prec..... 2    / 1000    p < 0.002  \u001b[38;5;9m**\u001b[0m\n",
      "count sample diff rec  is twice tot diff rec ..... 1    / 1000    p < 0.001  \u001b[38;5;9m**\u001b[0m\n",
      "count sample diff acc  is twice tot diff acc...... 1    / 1000    p < 0.001  \u001b[38;5;9m**\u001b[0m\n",
      "\n",
      "\n",
      "Seed: 2803636207 - Split: 0 - education - Group: Doctoral degree\n",
      "data shape:  (277, 1)\n",
      "sample size: 138\n"
     ]
    },
    {
     "name": "stderr",
     "output_type": "stream",
     "text": [
      "bootstrap: 100%|███████████████████████████| 1000/1000 [00:09<00:00, 109.33it/s]\n"
     ]
    },
    {
     "name": "stdout",
     "output_type": "stream",
     "text": [
      "\n",
      "count sample diff f1   is twice tot diff f1....... 155  / 1000    p < 0.155  \n",
      "count sample diff prec is twice tot diff prec..... 374  / 1000    p < 0.374  \n",
      "count sample diff rec  is twice tot diff rec ..... 130  / 1000    p < 0.13   \n",
      "count sample diff acc  is twice tot diff acc...... 331  / 1000    p < 0.331  \n",
      "\n",
      "\n",
      "Seed: 2803636207 - Split: 0 - education - Group: Less than high school degree\n",
      "data shape:  (159, 1)\n",
      "sample size: 79\n"
     ]
    },
    {
     "name": "stderr",
     "output_type": "stream",
     "text": [
      "bootstrap: 100%|███████████████████████████| 1000/1000 [00:08<00:00, 112.50it/s]\n"
     ]
    },
    {
     "name": "stdout",
     "output_type": "stream",
     "text": [
      "\n",
      "count sample diff f1   is twice tot diff f1....... 546  / 1000    p < 0.546  \n",
      "count sample diff prec is twice tot diff prec..... 520  / 1000    p < 0.52   \n",
      "count sample diff rec  is twice tot diff rec ..... 546  / 1000    p < 0.546  \n",
      "count sample diff acc  is twice tot diff acc...... 481  / 1000    p < 0.481  \n",
      "\n",
      "\n",
      "Seed: 2803636207 - Split: 0 - education - Group: Professional degree (JD, MD)\n",
      "data shape:  (362, 1)\n",
      "sample size: 181\n"
     ]
    },
    {
     "name": "stderr",
     "output_type": "stream",
     "text": [
      "bootstrap: 100%|███████████████████████████| 1000/1000 [00:09<00:00, 100.98it/s]\n"
     ]
    },
    {
     "name": "stdout",
     "output_type": "stream",
     "text": [
      "\n",
      "count sample diff f1   is twice tot diff f1....... 134  / 1000    p < 0.134  \n",
      "count sample diff prec is twice tot diff prec..... 125  / 1000    p < 0.125  \n",
      "count sample diff rec  is twice tot diff rec ..... 142  / 1000    p < 0.142  \n",
      "count sample diff acc  is twice tot diff acc...... 118  / 1000    p < 0.118  \n",
      "\n",
      "\n",
      "Seed: 2803636207 - Split: 1 - education - Group: Bachelor's degree in college (4-year)\n",
      "data shape:  (10541, 1)\n",
      "sample size: 5270\n"
     ]
    },
    {
     "name": "stderr",
     "output_type": "stream",
     "text": [
      "bootstrap: 100%|████████████████████████████| 1000/1000 [00:21<00:00, 46.91it/s]\n"
     ]
    },
    {
     "name": "stdout",
     "output_type": "stream",
     "text": [
      "\n",
      "count sample diff f1   is twice tot diff f1....... 19   / 1000    p < 0.019  \u001b[38;5;9m*\u001b[0m\n",
      "count sample diff prec is twice tot diff prec..... 10   / 1000    p < 0.01   \u001b[38;5;9m*\u001b[0m\n",
      "count sample diff rec  is twice tot diff rec ..... 53   / 1000    p < 0.053  \n",
      "count sample diff acc  is twice tot diff acc...... 2    / 1000    p < 0.002  \u001b[38;5;9m**\u001b[0m\n",
      "\n",
      "\n",
      "Seed: 2803636207 - Split: 1 - education - Group: High school graduate (high school diploma or equivalent including GED)\n",
      "data shape:  (2052, 1)\n",
      "sample size: 1026\n"
     ]
    },
    {
     "name": "stderr",
     "output_type": "stream",
     "text": [
      "bootstrap: 100%|████████████████████████████| 1000/1000 [00:10<00:00, 99.27it/s]\n"
     ]
    },
    {
     "name": "stdout",
     "output_type": "stream",
     "text": [
      "\n",
      "count sample diff f1   is twice tot diff f1....... 270  / 1000    p < 0.27   \n",
      "count sample diff prec is twice tot diff prec..... 232  / 1000    p < 0.232  \n",
      "count sample diff rec  is twice tot diff rec ..... 347  / 1000    p < 0.347  \n",
      "count sample diff acc  is twice tot diff acc...... 147  / 1000    p < 0.147  \n",
      "\n",
      "\n",
      "Seed: 2803636207 - Split: 1 - education - Group: Master's degree\n",
      "data shape:  (3455, 1)\n",
      "sample size: 1727\n"
     ]
    },
    {
     "name": "stderr",
     "output_type": "stream",
     "text": [
      "bootstrap: 100%|████████████████████████████| 1000/1000 [00:11<00:00, 90.57it/s]\n"
     ]
    },
    {
     "name": "stdout",
     "output_type": "stream",
     "text": [
      "\n",
      "count sample diff f1   is twice tot diff f1....... 134  / 1000    p < 0.134  \n",
      "count sample diff prec is twice tot diff prec..... 122  / 1000    p < 0.122  \n",
      "count sample diff rec  is twice tot diff rec ..... 142  / 1000    p < 0.142  \n",
      "count sample diff acc  is twice tot diff acc...... 114  / 1000    p < 0.114  \n",
      "\n",
      "\n",
      "Seed: 2803636207 - Split: 1 - education - Group: Associate degree in college (2-year)\n",
      "data shape:  (2697, 1)\n",
      "sample size: 1348\n"
     ]
    },
    {
     "name": "stderr",
     "output_type": "stream",
     "text": [
      "bootstrap: 100%|████████████████████████████| 1000/1000 [00:12<00:00, 79.52it/s]\n"
     ]
    },
    {
     "name": "stdout",
     "output_type": "stream",
     "text": [
      "\n",
      "count sample diff f1   is twice tot diff f1....... 291  / 1000    p < 0.291  \n",
      "count sample diff prec is twice tot diff prec..... 282  / 1000    p < 0.282  \n",
      "count sample diff rec  is twice tot diff rec ..... 321  / 1000    p < 0.321  \n",
      "count sample diff acc  is twice tot diff acc...... 239  / 1000    p < 0.239  \n",
      "\n",
      "\n",
      "Seed: 2803636207 - Split: 1 - education - Group: Some college but no degree\n",
      "data shape:  (4539, 1)\n",
      "sample size: 2269\n"
     ]
    },
    {
     "name": "stderr",
     "output_type": "stream",
     "text": [
      "bootstrap: 100%|████████████████████████████| 1000/1000 [00:12<00:00, 77.68it/s]\n"
     ]
    },
    {
     "name": "stdout",
     "output_type": "stream",
     "text": [
      "\n",
      "count sample diff f1   is twice tot diff f1....... 973  / 1000    p < 0.973  \u001b[38;5;8m!\u001b[0m\n",
      "count sample diff prec is twice tot diff prec..... 964  / 1000    p < 0.964  \u001b[38;5;8m!\u001b[0m\n",
      "count sample diff rec  is twice tot diff rec ..... 978  / 1000    p < 0.978  \u001b[38;5;8m!\u001b[0m\n",
      "count sample diff acc  is twice tot diff acc...... 903  / 1000    p < 0.903  \n",
      "\n",
      "\n",
      "Seed: 2803636207 - Split: 1 - education - Group: Doctoral degree\n",
      "data shape:  (297, 1)\n",
      "sample size: 148\n"
     ]
    },
    {
     "name": "stderr",
     "output_type": "stream",
     "text": [
      "bootstrap: 100%|████████████████████████████| 1000/1000 [00:11<00:00, 86.00it/s]\n"
     ]
    },
    {
     "name": "stdout",
     "output_type": "stream",
     "text": [
      "\n",
      "count sample diff f1   is twice tot diff f1....... 626  / 1000    p < 0.626  \n",
      "count sample diff prec is twice tot diff prec..... 603  / 1000    p < 0.603  \n",
      "count sample diff rec  is twice tot diff rec ..... 648  / 1000    p < 0.648  \n",
      "count sample diff acc  is twice tot diff acc...... 526  / 1000    p < 0.526  \n",
      "\n",
      "\n",
      "Seed: 2803636207 - Split: 1 - education - Group: Less than high school degree\n",
      "data shape:  (152, 1)\n",
      "sample size: 76\n"
     ]
    },
    {
     "name": "stderr",
     "output_type": "stream",
     "text": [
      "bootstrap: 100%|███████████████████████████| 1000/1000 [00:08<00:00, 117.57it/s]\n"
     ]
    },
    {
     "name": "stdout",
     "output_type": "stream",
     "text": [
      "\n",
      "count sample diff f1   is twice tot diff f1....... 486  / 1000    p < 0.486  \n",
      "count sample diff prec is twice tot diff prec..... 305  / 1000    p < 0.305  \n",
      "count sample diff rec  is twice tot diff rec ..... 537  / 1000    p < 0.537  \n",
      "count sample diff acc  is twice tot diff acc...... 326  / 1000    p < 0.326  \n",
      "\n",
      "\n",
      "Seed: 2803636207 - Split: 1 - education - Group: Professional degree (JD, MD)\n",
      "data shape:  (372, 1)\n",
      "sample size: 186\n"
     ]
    },
    {
     "name": "stderr",
     "output_type": "stream",
     "text": [
      "bootstrap: 100%|███████████████████████████| 1000/1000 [00:08<00:00, 111.23it/s]\n"
     ]
    },
    {
     "name": "stdout",
     "output_type": "stream",
     "text": [
      "\n",
      "count sample diff f1   is twice tot diff f1....... 829  / 1000    p < 0.829  \n",
      "count sample diff prec is twice tot diff prec..... 770  / 1000    p < 0.77   \n",
      "count sample diff rec  is twice tot diff rec ..... 883  / 1000    p < 0.883  \n",
      "count sample diff acc  is twice tot diff acc...... 725  / 1000    p < 0.725  \n",
      "\n",
      "\n",
      "Seed: 2803636207 - Split: 2 - education - Group: Bachelor's degree in college (4-year)\n",
      "data shape:  (10471, 1)\n",
      "sample size: 5235\n"
     ]
    },
    {
     "name": "stderr",
     "output_type": "stream",
     "text": [
      "bootstrap: 100%|████████████████████████████| 1000/1000 [00:19<00:00, 50.34it/s]\n"
     ]
    },
    {
     "name": "stdout",
     "output_type": "stream",
     "text": [
      "\n",
      "count sample diff f1   is twice tot diff f1....... 963  / 1000    p < 0.963  \u001b[38;5;8m!\u001b[0m\n",
      "count sample diff prec is twice tot diff prec..... 985  / 1000    p < 0.985  \u001b[38;5;8m!\u001b[0m\n",
      "count sample diff rec  is twice tot diff rec ..... 927  / 1000    p < 0.927  \n",
      "count sample diff acc  is twice tot diff acc...... 991  / 1000    p < 0.991  \u001b[38;5;8m!\u001b[0m\n",
      "\n",
      "\n",
      "Seed: 2803636207 - Split: 2 - education - Group: High school graduate (high school diploma or equivalent including GED)\n",
      "data shape:  (2106, 1)\n",
      "sample size: 1053\n"
     ]
    },
    {
     "name": "stderr",
     "output_type": "stream",
     "text": [
      "bootstrap: 100%|████████████████████████████| 1000/1000 [00:12<00:00, 80.49it/s]\n"
     ]
    },
    {
     "name": "stdout",
     "output_type": "stream",
     "text": [
      "\n",
      "count sample diff f1   is twice tot diff f1....... 314  / 1000    p < 0.314  \n",
      "count sample diff prec is twice tot diff prec..... 348  / 1000    p < 0.348  \n",
      "count sample diff rec  is twice tot diff rec ..... 265  / 1000    p < 0.265  \n",
      "count sample diff acc  is twice tot diff acc...... 463  / 1000    p < 0.463  \n",
      "\n",
      "\n",
      "Seed: 2803636207 - Split: 2 - education - Group: Master's degree\n",
      "data shape:  (3510, 1)\n",
      "sample size: 1755\n"
     ]
    },
    {
     "name": "stderr",
     "output_type": "stream",
     "text": [
      "bootstrap: 100%|████████████████████████████| 1000/1000 [00:11<00:00, 88.49it/s]\n"
     ]
    },
    {
     "name": "stdout",
     "output_type": "stream",
     "text": [
      "\n",
      "count sample diff f1   is twice tot diff f1....... 683  / 1000    p < 0.683  \n",
      "count sample diff prec is twice tot diff prec..... 634  / 1000    p < 0.634  \n",
      "count sample diff rec  is twice tot diff rec ..... 710  / 1000    p < 0.71   \n",
      "count sample diff acc  is twice tot diff acc...... 621  / 1000    p < 0.621  \n",
      "\n",
      "\n",
      "Seed: 2803636207 - Split: 2 - education - Group: Associate degree in college (2-year)\n",
      "data shape:  (2604, 1)\n",
      "sample size: 1302\n"
     ]
    },
    {
     "name": "stderr",
     "output_type": "stream",
     "text": [
      "bootstrap: 100%|████████████████████████████| 1000/1000 [00:10<00:00, 98.54it/s]\n"
     ]
    },
    {
     "name": "stdout",
     "output_type": "stream",
     "text": [
      "\n",
      "count sample diff f1   is twice tot diff f1....... 98   / 1000    p < 0.098  \n",
      "count sample diff prec is twice tot diff prec..... 106  / 1000    p < 0.106  \n",
      "count sample diff rec  is twice tot diff rec ..... 95   / 1000    p < 0.095  \n",
      "count sample diff acc  is twice tot diff acc...... 135  / 1000    p < 0.135  \n",
      "\n",
      "\n",
      "Seed: 2803636207 - Split: 2 - education - Group: Some college but no degree\n",
      "data shape:  (4644, 1)\n",
      "sample size: 2322\n"
     ]
    },
    {
     "name": "stderr",
     "output_type": "stream",
     "text": [
      "bootstrap: 100%|████████████████████████████| 1000/1000 [00:13<00:00, 75.01it/s]\n"
     ]
    },
    {
     "name": "stdout",
     "output_type": "stream",
     "text": [
      "\n",
      "count sample diff f1   is twice tot diff f1....... 158  / 1000    p < 0.158  \n",
      "count sample diff prec is twice tot diff prec..... 162  / 1000    p < 0.162  \n",
      "count sample diff rec  is twice tot diff rec ..... 174  / 1000    p < 0.174  \n",
      "count sample diff acc  is twice tot diff acc...... 161  / 1000    p < 0.161  \n",
      "\n",
      "\n",
      "Seed: 2803636207 - Split: 2 - education - Group: Doctoral degree\n",
      "data shape:  (319, 1)\n",
      "sample size: 159\n"
     ]
    },
    {
     "name": "stderr",
     "output_type": "stream",
     "text": [
      "bootstrap: 100%|███████████████████████████| 1000/1000 [00:09<00:00, 107.18it/s]\n"
     ]
    },
    {
     "name": "stdout",
     "output_type": "stream",
     "text": [
      "\n",
      "count sample diff f1   is twice tot diff f1....... 114  / 1000    p < 0.114  \n",
      "count sample diff prec is twice tot diff prec..... 186  / 1000    p < 0.186  \n",
      "count sample diff rec  is twice tot diff rec ..... 97   / 1000    p < 0.097  \n",
      "count sample diff acc  is twice tot diff acc...... 189  / 1000    p < 0.189  \n",
      "\n",
      "\n",
      "Seed: 2803636207 - Split: 2 - education - Group: Less than high school degree\n",
      "data shape:  (184, 1)\n",
      "sample size: 92\n"
     ]
    },
    {
     "name": "stderr",
     "output_type": "stream",
     "text": [
      "bootstrap: 100%|████████████████████████████| 1000/1000 [00:10<00:00, 98.76it/s]\n"
     ]
    },
    {
     "name": "stdout",
     "output_type": "stream",
     "text": [
      "\n",
      "count sample diff f1   is twice tot diff f1....... 266  / 1000    p < 0.266  \n",
      "count sample diff prec is twice tot diff prec..... 323  / 1000    p < 0.323  \n",
      "count sample diff rec  is twice tot diff rec ..... 258  / 1000    p < 0.258  \n",
      "count sample diff acc  is twice tot diff acc...... 325  / 1000    p < 0.325  \n",
      "\n",
      "\n",
      "Seed: 2803636207 - Split: 2 - education - Group: Professional degree (JD, MD)\n",
      "data shape:  (411, 1)\n",
      "sample size: 205\n"
     ]
    },
    {
     "name": "stderr",
     "output_type": "stream",
     "text": [
      "bootstrap: 100%|███████████████████████████| 1000/1000 [00:09<00:00, 109.16it/s]\n"
     ]
    },
    {
     "name": "stdout",
     "output_type": "stream",
     "text": [
      "\n",
      "count sample diff f1   is twice tot diff f1....... 198  / 1000    p < 0.198  \n",
      "count sample diff prec is twice tot diff prec..... 162  / 1000    p < 0.162  \n",
      "count sample diff rec  is twice tot diff rec ..... 233  / 1000    p < 0.233  \n",
      "count sample diff acc  is twice tot diff acc...... 175  / 1000    p < 0.175  \n",
      "\n",
      "\n",
      "Seed: 2803636207 - Split: 3 - education - Group: Bachelor's degree in college (4-year)\n",
      "data shape:  (10589, 1)\n",
      "sample size: 5294\n"
     ]
    },
    {
     "name": "stderr",
     "output_type": "stream",
     "text": [
      "bootstrap: 100%|████████████████████████████| 1000/1000 [00:17<00:00, 56.69it/s]\n"
     ]
    },
    {
     "name": "stdout",
     "output_type": "stream",
     "text": [
      "\n",
      "count sample diff f1   is twice tot diff f1....... 545  / 1000    p < 0.545  \n",
      "count sample diff prec is twice tot diff prec..... 447  / 1000    p < 0.447  \n",
      "count sample diff rec  is twice tot diff rec ..... 639  / 1000    p < 0.639  \n",
      "count sample diff acc  is twice tot diff acc...... 326  / 1000    p < 0.326  \n",
      "\n",
      "\n",
      "Seed: 2803636207 - Split: 3 - education - Group: High school graduate (high school diploma or equivalent including GED)\n",
      "data shape:  (2032, 1)\n",
      "sample size: 1016\n"
     ]
    },
    {
     "name": "stderr",
     "output_type": "stream",
     "text": [
      "bootstrap: 100%|████████████████████████████| 1000/1000 [00:10<00:00, 95.15it/s]\n"
     ]
    },
    {
     "name": "stdout",
     "output_type": "stream",
     "text": [
      "\n",
      "count sample diff f1   is twice tot diff f1....... 899  / 1000    p < 0.899  \n",
      "count sample diff prec is twice tot diff prec..... 879  / 1000    p < 0.879  \n",
      "count sample diff rec  is twice tot diff rec ..... 918  / 1000    p < 0.918  \n",
      "count sample diff acc  is twice tot diff acc...... 761  / 1000    p < 0.761  \n",
      "\n",
      "\n",
      "Seed: 2803636207 - Split: 3 - education - Group: Master's degree\n",
      "data shape:  (3561, 1)\n",
      "sample size: 1780\n"
     ]
    },
    {
     "name": "stderr",
     "output_type": "stream",
     "text": [
      "bootstrap: 100%|████████████████████████████| 1000/1000 [00:12<00:00, 82.42it/s]\n"
     ]
    },
    {
     "name": "stdout",
     "output_type": "stream",
     "text": [
      "\n",
      "count sample diff f1   is twice tot diff f1....... 466  / 1000    p < 0.466  \n",
      "count sample diff prec is twice tot diff prec..... 458  / 1000    p < 0.458  \n",
      "count sample diff rec  is twice tot diff rec ..... 467  / 1000    p < 0.467  \n",
      "count sample diff acc  is twice tot diff acc...... 451  / 1000    p < 0.451  \n",
      "\n",
      "\n",
      "Seed: 2803636207 - Split: 3 - education - Group: Associate degree in college (2-year)\n",
      "data shape:  (2516, 1)\n",
      "sample size: 1258\n"
     ]
    },
    {
     "name": "stderr",
     "output_type": "stream",
     "text": [
      "bootstrap: 100%|████████████████████████████| 1000/1000 [00:11<00:00, 83.64it/s]\n"
     ]
    },
    {
     "name": "stdout",
     "output_type": "stream",
     "text": [
      "\n",
      "count sample diff f1   is twice tot diff f1....... 809  / 1000    p < 0.809  \n",
      "count sample diff prec is twice tot diff prec..... 783  / 1000    p < 0.783  \n",
      "count sample diff rec  is twice tot diff rec ..... 826  / 1000    p < 0.826  \n",
      "count sample diff acc  is twice tot diff acc...... 662  / 1000    p < 0.662  \n",
      "\n",
      "\n",
      "Seed: 2803636207 - Split: 3 - education - Group: Some college but no degree\n",
      "data shape:  (4718, 1)\n",
      "sample size: 2359\n"
     ]
    },
    {
     "name": "stderr",
     "output_type": "stream",
     "text": [
      "bootstrap: 100%|████████████████████████████| 1000/1000 [00:12<00:00, 82.90it/s]\n"
     ]
    },
    {
     "name": "stdout",
     "output_type": "stream",
     "text": [
      "\n",
      "count sample diff f1   is twice tot diff f1....... 998  / 1000    p < 0.998  \u001b[38;5;8m!\u001b[0m\n",
      "count sample diff prec is twice tot diff prec..... 981  / 1000    p < 0.981  \u001b[38;5;8m!\u001b[0m\n",
      "count sample diff rec  is twice tot diff rec ..... 999  / 1000    p < 0.999  \u001b[38;5;8m!\u001b[0m\n",
      "count sample diff acc  is twice tot diff acc...... 810  / 1000    p < 0.81   \n",
      "\n",
      "\n",
      "Seed: 2803636207 - Split: 3 - education - Group: Doctoral degree\n",
      "data shape:  (327, 1)\n",
      "sample size: 163\n"
     ]
    },
    {
     "name": "stderr",
     "output_type": "stream",
     "text": [
      "bootstrap: 100%|███████████████████████████| 1000/1000 [00:09<00:00, 103.01it/s]\n"
     ]
    },
    {
     "name": "stdout",
     "output_type": "stream",
     "text": [
      "\n",
      "count sample diff f1   is twice tot diff f1....... 846  / 1000    p < 0.846  \n",
      "count sample diff prec is twice tot diff prec..... 829  / 1000    p < 0.829  \n",
      "count sample diff rec  is twice tot diff rec ..... 873  / 1000    p < 0.873  \n",
      "count sample diff acc  is twice tot diff acc...... 657  / 1000    p < 0.657  \n",
      "\n",
      "\n",
      "Seed: 2803636207 - Split: 3 - education - Group: Less than high school degree\n",
      "data shape:  (165, 1)\n",
      "sample size: 82\n"
     ]
    },
    {
     "name": "stderr",
     "output_type": "stream",
     "text": [
      "bootstrap: 100%|███████████████████████████| 1000/1000 [00:09<00:00, 107.11it/s]\n"
     ]
    },
    {
     "name": "stdout",
     "output_type": "stream",
     "text": [
      "\n",
      "count sample diff f1   is twice tot diff f1....... 294  / 1000    p < 0.294  \n",
      "count sample diff prec is twice tot diff prec..... 257  / 1000    p < 0.257  \n",
      "count sample diff rec  is twice tot diff rec ..... 328  / 1000    p < 0.328  \n",
      "count sample diff acc  is twice tot diff acc...... 236  / 1000    p < 0.236  \n",
      "\n",
      "\n",
      "Seed: 2803636207 - Split: 3 - education - Group: Professional degree (JD, MD)\n",
      "data shape:  (375, 1)\n",
      "sample size: 187\n"
     ]
    },
    {
     "name": "stderr",
     "output_type": "stream",
     "text": [
      "bootstrap: 100%|████████████████████████████| 1000/1000 [00:10<00:00, 96.85it/s]\n"
     ]
    },
    {
     "name": "stdout",
     "output_type": "stream",
     "text": [
      "\n",
      "count sample diff f1   is twice tot diff f1....... 553  / 1000    p < 0.553  \n",
      "count sample diff prec is twice tot diff prec..... 532  / 1000    p < 0.532  \n",
      "count sample diff rec  is twice tot diff rec ..... 614  / 1000    p < 0.614  \n",
      "count sample diff acc  is twice tot diff acc...... 445  / 1000    p < 0.445  \n",
      "\n",
      "\n",
      "Seed: 165043843 - Split: 0 - education - Group: Bachelor's degree in college (4-year)\n",
      "data shape:  (10700, 1)\n",
      "sample size: 5350\n"
     ]
    },
    {
     "name": "stderr",
     "output_type": "stream",
     "text": [
      "bootstrap: 100%|████████████████████████████| 1000/1000 [00:18<00:00, 53.20it/s]\n"
     ]
    },
    {
     "name": "stdout",
     "output_type": "stream",
     "text": [
      "\n",
      "count sample diff f1   is twice tot diff f1....... 905  / 1000    p < 0.905  \n",
      "count sample diff prec is twice tot diff prec..... 958  / 1000    p < 0.958  \u001b[38;5;8m!\u001b[0m\n",
      "count sample diff rec  is twice tot diff rec ..... 858  / 1000    p < 0.858  \n",
      "count sample diff acc  is twice tot diff acc...... 970  / 1000    p < 0.97   \u001b[38;5;8m!\u001b[0m\n",
      "\n",
      "\n",
      "Seed: 165043843 - Split: 0 - education - Group: High school graduate (high school diploma or equivalent including GED)\n",
      "data shape:  (2075, 1)\n",
      "sample size: 1037\n"
     ]
    },
    {
     "name": "stderr",
     "output_type": "stream",
     "text": [
      "bootstrap: 100%|████████████████████████████| 1000/1000 [00:12<00:00, 81.58it/s]\n"
     ]
    },
    {
     "name": "stdout",
     "output_type": "stream",
     "text": [
      "\n",
      "count sample diff f1   is twice tot diff f1....... 860  / 1000    p < 0.86   \n",
      "count sample diff prec is twice tot diff prec..... 928  / 1000    p < 0.928  \n",
      "count sample diff rec  is twice tot diff rec ..... 786  / 1000    p < 0.786  \n",
      "count sample diff acc  is twice tot diff acc...... 968  / 1000    p < 0.968  \u001b[38;5;8m!\u001b[0m\n",
      "\n",
      "\n",
      "Seed: 165043843 - Split: 0 - education - Group: Master's degree\n",
      "data shape:  (3425, 1)\n",
      "sample size: 1712\n"
     ]
    },
    {
     "name": "stderr",
     "output_type": "stream",
     "text": [
      "bootstrap: 100%|████████████████████████████| 1000/1000 [00:12<00:00, 78.41it/s]\n"
     ]
    },
    {
     "name": "stdout",
     "output_type": "stream",
     "text": [
      "\n",
      "count sample diff f1   is twice tot diff f1....... 740  / 1000    p < 0.74   \n",
      "count sample diff prec is twice tot diff prec..... 713  / 1000    p < 0.713  \n",
      "count sample diff rec  is twice tot diff rec ..... 747  / 1000    p < 0.747  \n",
      "count sample diff acc  is twice tot diff acc...... 707  / 1000    p < 0.707  \n",
      "\n",
      "\n",
      "Seed: 165043843 - Split: 0 - education - Group: Associate degree in college (2-year)\n",
      "data shape:  (2598, 1)\n",
      "sample size: 1299\n"
     ]
    },
    {
     "name": "stderr",
     "output_type": "stream",
     "text": [
      "bootstrap: 100%|████████████████████████████| 1000/1000 [00:11<00:00, 87.85it/s]\n"
     ]
    },
    {
     "name": "stdout",
     "output_type": "stream",
     "text": [
      "\n",
      "count sample diff f1   is twice tot diff f1....... 785  / 1000    p < 0.785  \n",
      "count sample diff prec is twice tot diff prec..... 833  / 1000    p < 0.833  \n",
      "count sample diff rec  is twice tot diff rec ..... 730  / 1000    p < 0.73   \n",
      "count sample diff acc  is twice tot diff acc...... 882  / 1000    p < 0.882  \n",
      "\n",
      "\n",
      "Seed: 165043843 - Split: 0 - education - Group: Some college but no degree\n",
      "data shape:  (4560, 1)\n",
      "sample size: 2280\n"
     ]
    },
    {
     "name": "stderr",
     "output_type": "stream",
     "text": [
      "bootstrap: 100%|████████████████████████████| 1000/1000 [00:15<00:00, 63.92it/s]\n"
     ]
    },
    {
     "name": "stdout",
     "output_type": "stream",
     "text": [
      "\n",
      "count sample diff f1   is twice tot diff f1....... 574  / 1000    p < 0.574  \n",
      "count sample diff prec is twice tot diff prec..... 634  / 1000    p < 0.634  \n",
      "count sample diff rec  is twice tot diff rec ..... 491  / 1000    p < 0.491  \n",
      "count sample diff acc  is twice tot diff acc...... 796  / 1000    p < 0.796  \n",
      "\n",
      "\n",
      "Seed: 165043843 - Split: 0 - education - Group: Doctoral degree\n",
      "data shape:  (320, 1)\n",
      "sample size: 160\n"
     ]
    },
    {
     "name": "stderr",
     "output_type": "stream",
     "text": [
      "bootstrap: 100%|███████████████████████████| 1000/1000 [00:08<00:00, 120.47it/s]\n"
     ]
    },
    {
     "name": "stdout",
     "output_type": "stream",
     "text": [
      "\n",
      "count sample diff f1   is twice tot diff f1....... 730  / 1000    p < 0.73   \n",
      "count sample diff prec is twice tot diff prec..... 234  / 1000    p < 0.234  \n",
      "count sample diff rec  is twice tot diff rec ..... 901  / 1000    p < 0.901  \n",
      "count sample diff acc  is twice tot diff acc...... 222  / 1000    p < 0.222  \n",
      "\n",
      "\n",
      "Seed: 165043843 - Split: 0 - education - Group: Less than high school degree\n",
      "data shape:  (144, 1)\n",
      "sample size: 72\n"
     ]
    },
    {
     "name": "stderr",
     "output_type": "stream",
     "text": [
      "bootstrap: 100%|███████████████████████████| 1000/1000 [00:08<00:00, 122.69it/s]\n"
     ]
    },
    {
     "name": "stdout",
     "output_type": "stream",
     "text": [
      "\n",
      "count sample diff f1   is twice tot diff f1....... 659  / 1000    p < 0.659  \n",
      "count sample diff prec is twice tot diff prec..... 546  / 1000    p < 0.546  \n",
      "count sample diff rec  is twice tot diff rec ..... 703  / 1000    p < 0.703  \n",
      "count sample diff acc  is twice tot diff acc...... 262  / 1000    p < 0.262  \n",
      "\n",
      "\n",
      "Seed: 165043843 - Split: 0 - education - Group: Professional degree (JD, MD)\n",
      "data shape:  (384, 1)\n",
      "sample size: 192\n"
     ]
    },
    {
     "name": "stderr",
     "output_type": "stream",
     "text": [
      "bootstrap: 100%|███████████████████████████| 1000/1000 [00:09<00:00, 110.58it/s]\n"
     ]
    },
    {
     "name": "stdout",
     "output_type": "stream",
     "text": [
      "\n",
      "count sample diff f1   is twice tot diff f1....... 536  / 1000    p < 0.536  \n",
      "count sample diff prec is twice tot diff prec..... 582  / 1000    p < 0.582  \n",
      "count sample diff rec  is twice tot diff rec ..... 502  / 1000    p < 0.502  \n",
      "count sample diff acc  is twice tot diff acc...... 544  / 1000    p < 0.544  \n",
      "\n",
      "\n",
      "Seed: 165043843 - Split: 1 - education - Group: Bachelor's degree in college (4-year)\n",
      "data shape:  (10348, 1)\n",
      "sample size: 5174\n"
     ]
    },
    {
     "name": "stderr",
     "output_type": "stream",
     "text": [
      "bootstrap: 100%|████████████████████████████| 1000/1000 [00:19<00:00, 50.55it/s]\n"
     ]
    },
    {
     "name": "stdout",
     "output_type": "stream",
     "text": [
      "\n",
      "count sample diff f1   is twice tot diff f1....... 885  / 1000    p < 0.885  \n",
      "count sample diff prec is twice tot diff prec..... 897  / 1000    p < 0.897  \n",
      "count sample diff rec  is twice tot diff rec ..... 886  / 1000    p < 0.886  \n",
      "count sample diff acc  is twice tot diff acc...... 901  / 1000    p < 0.901  \n",
      "\n",
      "\n",
      "Seed: 165043843 - Split: 1 - education - Group: High school graduate (high school diploma or equivalent including GED)\n",
      "data shape:  (2075, 1)\n",
      "sample size: 1037\n"
     ]
    },
    {
     "name": "stderr",
     "output_type": "stream",
     "text": [
      "bootstrap: 100%|████████████████████████████| 1000/1000 [00:11<00:00, 85.04it/s]\n"
     ]
    },
    {
     "name": "stdout",
     "output_type": "stream",
     "text": [
      "\n",
      "count sample diff f1   is twice tot diff f1....... 466  / 1000    p < 0.466  \n",
      "count sample diff prec is twice tot diff prec..... 409  / 1000    p < 0.409  \n",
      "count sample diff rec  is twice tot diff rec ..... 537  / 1000    p < 0.537  \n",
      "count sample diff acc  is twice tot diff acc...... 294  / 1000    p < 0.294  \n",
      "\n",
      "\n",
      "Seed: 165043843 - Split: 1 - education - Group: Master's degree\n",
      "data shape:  (3580, 1)\n",
      "sample size: 1790\n"
     ]
    },
    {
     "name": "stderr",
     "output_type": "stream",
     "text": [
      "bootstrap: 100%|████████████████████████████| 1000/1000 [00:15<00:00, 65.23it/s]\n"
     ]
    },
    {
     "name": "stdout",
     "output_type": "stream",
     "text": [
      "\n",
      "count sample diff f1   is twice tot diff f1....... 281  / 1000    p < 0.281  \n",
      "count sample diff prec is twice tot diff prec..... 210  / 1000    p < 0.21   \n",
      "count sample diff rec  is twice tot diff rec ..... 320  / 1000    p < 0.32   \n",
      "count sample diff acc  is twice tot diff acc...... 197  / 1000    p < 0.197  \n",
      "\n",
      "\n",
      "Seed: 165043843 - Split: 1 - education - Group: Associate degree in college (2-year)\n",
      "data shape:  (2625, 1)\n",
      "sample size: 1312\n"
     ]
    },
    {
     "name": "stderr",
     "output_type": "stream",
     "text": [
      "bootstrap: 100%|████████████████████████████| 1000/1000 [00:11<00:00, 90.10it/s]\n"
     ]
    },
    {
     "name": "stdout",
     "output_type": "stream",
     "text": [
      "\n",
      "count sample diff f1   is twice tot diff f1....... 386  / 1000    p < 0.386  \n",
      "count sample diff prec is twice tot diff prec..... 340  / 1000    p < 0.34   \n",
      "count sample diff rec  is twice tot diff rec ..... 460  / 1000    p < 0.46   \n",
      "count sample diff acc  is twice tot diff acc...... 237  / 1000    p < 0.237  \n",
      "\n",
      "\n",
      "Seed: 165043843 - Split: 1 - education - Group: Some college but no degree\n",
      "data shape:  (4654, 1)\n",
      "sample size: 2327\n"
     ]
    },
    {
     "name": "stderr",
     "output_type": "stream",
     "text": [
      "bootstrap: 100%|████████████████████████████| 1000/1000 [00:15<00:00, 65.44it/s]\n"
     ]
    },
    {
     "name": "stdout",
     "output_type": "stream",
     "text": [
      "\n",
      "count sample diff f1   is twice tot diff f1....... 707  / 1000    p < 0.707  \n",
      "count sample diff prec is twice tot diff prec..... 696  / 1000    p < 0.696  \n",
      "count sample diff rec  is twice tot diff rec ..... 717  / 1000    p < 0.717  \n",
      "count sample diff acc  is twice tot diff acc...... 632  / 1000    p < 0.632  \n",
      "\n",
      "\n",
      "Seed: 165043843 - Split: 1 - education - Group: Doctoral degree\n",
      "data shape:  (332, 1)\n",
      "sample size: 166\n"
     ]
    },
    {
     "name": "stderr",
     "output_type": "stream",
     "text": [
      "bootstrap: 100%|████████████████████████████| 1000/1000 [00:10<00:00, 99.08it/s]\n"
     ]
    },
    {
     "name": "stdout",
     "output_type": "stream",
     "text": [
      "\n",
      "count sample diff f1   is twice tot diff f1....... 61   / 1000    p < 0.061  \n",
      "count sample diff prec is twice tot diff prec..... 35   / 1000    p < 0.035  \u001b[38;5;9m*\u001b[0m\n",
      "count sample diff rec  is twice tot diff rec ..... 207  / 1000    p < 0.207  \n",
      "count sample diff acc  is twice tot diff acc...... 1    / 1000    p < 0.001  \u001b[38;5;9m**\u001b[0m\n",
      "\n",
      "\n",
      "Seed: 165043843 - Split: 1 - education - Group: Less than high school degree\n",
      "data shape:  (179, 1)\n",
      "sample size: 89\n"
     ]
    },
    {
     "name": "stderr",
     "output_type": "stream",
     "text": [
      "bootstrap: 100%|████████████████████████████| 1000/1000 [00:10<00:00, 94.89it/s]\n"
     ]
    },
    {
     "name": "stdout",
     "output_type": "stream",
     "text": [
      "\n",
      "count sample diff f1   is twice tot diff f1....... 154  / 1000    p < 0.154  \n",
      "count sample diff prec is twice tot diff prec..... 42   / 1000    p < 0.042  \u001b[38;5;9m*\u001b[0m\n",
      "count sample diff rec  is twice tot diff rec ..... 220  / 1000    p < 0.22   \n",
      "count sample diff acc  is twice tot diff acc...... 31   / 1000    p < 0.031  \u001b[38;5;9m*\u001b[0m\n",
      "\n",
      "\n",
      "Seed: 165043843 - Split: 1 - education - Group: Professional degree (JD, MD)\n",
      "data shape:  (400, 1)\n",
      "sample size: 200\n"
     ]
    },
    {
     "name": "stderr",
     "output_type": "stream",
     "text": [
      "bootstrap: 100%|███████████████████████████| 1000/1000 [00:08<00:00, 111.82it/s]\n"
     ]
    },
    {
     "name": "stdout",
     "output_type": "stream",
     "text": [
      "\n",
      "count sample diff f1   is twice tot diff f1....... 768  / 1000    p < 0.768  \n",
      "count sample diff prec is twice tot diff prec..... 765  / 1000    p < 0.765  \n",
      "count sample diff rec  is twice tot diff rec ..... 766  / 1000    p < 0.766  \n",
      "count sample diff acc  is twice tot diff acc...... 741  / 1000    p < 0.741  \n",
      "\n",
      "\n",
      "Seed: 165043843 - Split: 2 - education - Group: Bachelor's degree in college (4-year)\n",
      "data shape:  (10497, 1)\n",
      "sample size: 5248\n"
     ]
    },
    {
     "name": "stderr",
     "output_type": "stream",
     "text": [
      "bootstrap: 100%|████████████████████████████| 1000/1000 [00:18<00:00, 53.99it/s]\n"
     ]
    },
    {
     "name": "stdout",
     "output_type": "stream",
     "text": [
      "\n",
      "count sample diff f1   is twice tot diff f1....... 878  / 1000    p < 0.878  \n",
      "count sample diff prec is twice tot diff prec..... 839  / 1000    p < 0.839  \n",
      "count sample diff rec  is twice tot diff rec ..... 898  / 1000    p < 0.898  \n",
      "count sample diff acc  is twice tot diff acc...... 801  / 1000    p < 0.801  \n",
      "\n",
      "\n",
      "Seed: 165043843 - Split: 2 - education - Group: High school graduate (high school diploma or equivalent including GED)\n",
      "data shape:  (2064, 1)\n",
      "sample size: 1032\n"
     ]
    },
    {
     "name": "stderr",
     "output_type": "stream",
     "text": [
      "bootstrap: 100%|████████████████████████████| 1000/1000 [00:11<00:00, 84.35it/s]\n"
     ]
    },
    {
     "name": "stdout",
     "output_type": "stream",
     "text": [
      "\n",
      "count sample diff f1   is twice tot diff f1....... 732  / 1000    p < 0.732  \n",
      "count sample diff prec is twice tot diff prec..... 662  / 1000    p < 0.662  \n",
      "count sample diff rec  is twice tot diff rec ..... 807  / 1000    p < 0.807  \n",
      "count sample diff acc  is twice tot diff acc...... 338  / 1000    p < 0.338  \n",
      "\n",
      "\n",
      "Seed: 165043843 - Split: 2 - education - Group: Master's degree\n",
      "data shape:  (3487, 1)\n",
      "sample size: 1743\n"
     ]
    },
    {
     "name": "stderr",
     "output_type": "stream",
     "text": [
      "bootstrap: 100%|████████████████████████████| 1000/1000 [00:13<00:00, 75.50it/s]\n"
     ]
    },
    {
     "name": "stdout",
     "output_type": "stream",
     "text": [
      "\n",
      "count sample diff f1   is twice tot diff f1....... 517  / 1000    p < 0.517  \n",
      "count sample diff prec is twice tot diff prec..... 400  / 1000    p < 0.4    \n",
      "count sample diff rec  is twice tot diff rec ..... 583  / 1000    p < 0.583  \n",
      "count sample diff acc  is twice tot diff acc...... 361  / 1000    p < 0.361  \n",
      "\n",
      "\n",
      "Seed: 165043843 - Split: 2 - education - Group: Associate degree in college (2-year)\n",
      "data shape:  (2546, 1)\n",
      "sample size: 1273\n"
     ]
    },
    {
     "name": "stderr",
     "output_type": "stream",
     "text": [
      "bootstrap: 100%|████████████████████████████| 1000/1000 [00:10<00:00, 99.56it/s]\n"
     ]
    },
    {
     "name": "stdout",
     "output_type": "stream",
     "text": [
      "\n",
      "count sample diff f1   is twice tot diff f1....... 974  / 1000    p < 0.974  \u001b[38;5;8m!\u001b[0m\n",
      "count sample diff prec is twice tot diff prec..... 958  / 1000    p < 0.958  \u001b[38;5;8m!\u001b[0m\n",
      "count sample diff rec  is twice tot diff rec ..... 981  / 1000    p < 0.981  \u001b[38;5;8m!\u001b[0m\n",
      "count sample diff acc  is twice tot diff acc...... 838  / 1000    p < 0.838  \n",
      "\n",
      "\n",
      "Seed: 165043843 - Split: 2 - education - Group: Some college but no degree\n",
      "data shape:  (4776, 1)\n",
      "sample size: 2388\n"
     ]
    },
    {
     "name": "stderr",
     "output_type": "stream",
     "text": [
      "bootstrap: 100%|████████████████████████████| 1000/1000 [00:12<00:00, 80.63it/s]\n"
     ]
    },
    {
     "name": "stdout",
     "output_type": "stream",
     "text": [
      "\n",
      "count sample diff f1   is twice tot diff f1....... 1000 / 1000    p < 1.0    \u001b[38;5;8m!\u001b[0m\n",
      "count sample diff prec is twice tot diff prec..... 998  / 1000    p < 0.998  \u001b[38;5;8m!\u001b[0m\n",
      "count sample diff rec  is twice tot diff rec ..... 1000 / 1000    p < 1.0    \u001b[38;5;8m!\u001b[0m\n",
      "count sample diff acc  is twice tot diff acc...... 899  / 1000    p < 0.899  \n",
      "\n",
      "\n",
      "Seed: 165043843 - Split: 2 - education - Group: Doctoral degree\n",
      "data shape:  (270, 1)\n",
      "sample size: 135\n"
     ]
    },
    {
     "name": "stderr",
     "output_type": "stream",
     "text": [
      "bootstrap: 100%|████████████████████████████| 1000/1000 [00:10<00:00, 92.49it/s]\n"
     ]
    },
    {
     "name": "stdout",
     "output_type": "stream",
     "text": [
      "\n",
      "count sample diff f1   is twice tot diff f1....... 800  / 1000    p < 0.8    \n",
      "count sample diff prec is twice tot diff prec..... 731  / 1000    p < 0.731  \n",
      "count sample diff rec  is twice tot diff rec ..... 912  / 1000    p < 0.912  \n",
      "count sample diff acc  is twice tot diff acc...... 531  / 1000    p < 0.531  \n",
      "\n",
      "\n",
      "Seed: 165043843 - Split: 2 - education - Group: Less than high school degree\n",
      "data shape:  (174, 1)\n",
      "sample size: 87\n"
     ]
    },
    {
     "name": "stderr",
     "output_type": "stream",
     "text": [
      "bootstrap: 100%|███████████████████████████| 1000/1000 [00:08<00:00, 117.61it/s]\n"
     ]
    },
    {
     "name": "stdout",
     "output_type": "stream",
     "text": [
      "\n",
      "count sample diff f1   is twice tot diff f1....... 618  / 1000    p < 0.618  \n",
      "count sample diff prec is twice tot diff prec..... 546  / 1000    p < 0.546  \n",
      "count sample diff rec  is twice tot diff rec ..... 742  / 1000    p < 0.742  \n",
      "count sample diff acc  is twice tot diff acc...... 319  / 1000    p < 0.319  \n",
      "\n",
      "\n",
      "Seed: 165043843 - Split: 2 - education - Group: Professional degree (JD, MD)\n",
      "data shape:  (375, 1)\n",
      "sample size: 187\n"
     ]
    },
    {
     "name": "stderr",
     "output_type": "stream",
     "text": [
      "bootstrap: 100%|████████████████████████████| 1000/1000 [00:15<00:00, 66.42it/s]\n"
     ]
    },
    {
     "name": "stdout",
     "output_type": "stream",
     "text": [
      "\n",
      "count sample diff f1   is twice tot diff f1....... 596  / 1000    p < 0.596  \n",
      "count sample diff prec is twice tot diff prec..... 602  / 1000    p < 0.602  \n",
      "count sample diff rec  is twice tot diff rec ..... 526  / 1000    p < 0.526  \n",
      "count sample diff acc  is twice tot diff acc...... 644  / 1000    p < 0.644  \n",
      "\n",
      "\n",
      "Seed: 165043843 - Split: 3 - education - Group: Bachelor's degree in college (4-year)\n",
      "data shape:  (10495, 1)\n",
      "sample size: 5247\n"
     ]
    },
    {
     "name": "stderr",
     "output_type": "stream",
     "text": [
      "bootstrap: 100%|████████████████████████████| 1000/1000 [00:18<00:00, 53.33it/s]\n"
     ]
    },
    {
     "name": "stdout",
     "output_type": "stream",
     "text": [
      "\n",
      "count sample diff f1   is twice tot diff f1....... 640  / 1000    p < 0.64   \n",
      "count sample diff prec is twice tot diff prec..... 465  / 1000    p < 0.465  \n",
      "count sample diff rec  is twice tot diff rec ..... 764  / 1000    p < 0.764  \n",
      "count sample diff acc  is twice tot diff acc...... 289  / 1000    p < 0.289  \n",
      "\n",
      "\n",
      "Seed: 165043843 - Split: 3 - education - Group: High school graduate (high school diploma or equivalent including GED)\n",
      "data shape:  (2106, 1)\n",
      "sample size: 1053\n"
     ]
    },
    {
     "name": "stderr",
     "output_type": "stream",
     "text": [
      "bootstrap: 100%|████████████████████████████| 1000/1000 [00:12<00:00, 77.69it/s]\n"
     ]
    },
    {
     "name": "stdout",
     "output_type": "stream",
     "text": [
      "\n",
      "count sample diff f1   is twice tot diff f1....... 703  / 1000    p < 0.703  \n",
      "count sample diff prec is twice tot diff prec..... 599  / 1000    p < 0.599  \n",
      "count sample diff rec  is twice tot diff rec ..... 758  / 1000    p < 0.758  \n",
      "count sample diff acc  is twice tot diff acc...... 403  / 1000    p < 0.403  \n",
      "\n",
      "\n",
      "Seed: 165043843 - Split: 3 - education - Group: Master's degree\n",
      "data shape:  (3568, 1)\n",
      "sample size: 1784\n"
     ]
    },
    {
     "name": "stderr",
     "output_type": "stream",
     "text": [
      "bootstrap: 100%|████████████████████████████| 1000/1000 [00:12<00:00, 80.05it/s]\n"
     ]
    },
    {
     "name": "stdout",
     "output_type": "stream",
     "text": [
      "\n",
      "count sample diff f1   is twice tot diff f1....... 865  / 1000    p < 0.865  \n",
      "count sample diff prec is twice tot diff prec..... 741  / 1000    p < 0.741  \n",
      "count sample diff rec  is twice tot diff rec ..... 916  / 1000    p < 0.916  \n",
      "count sample diff acc  is twice tot diff acc...... 727  / 1000    p < 0.727  \n",
      "\n",
      "\n",
      "Seed: 165043843 - Split: 3 - education - Group: Associate degree in college (2-year)\n",
      "data shape:  (2651, 1)\n",
      "sample size: 1325\n"
     ]
    },
    {
     "name": "stderr",
     "output_type": "stream",
     "text": [
      "bootstrap: 100%|████████████████████████████| 1000/1000 [00:10<00:00, 99.12it/s]\n"
     ]
    },
    {
     "name": "stdout",
     "output_type": "stream",
     "text": [
      "\n",
      "count sample diff f1   is twice tot diff f1....... 980  / 1000    p < 0.98   \u001b[38;5;8m!\u001b[0m\n",
      "count sample diff prec is twice tot diff prec..... 932  / 1000    p < 0.932  \n",
      "count sample diff rec  is twice tot diff rec ..... 992  / 1000    p < 0.992  \u001b[38;5;8m!\u001b[0m\n",
      "count sample diff acc  is twice tot diff acc...... 642  / 1000    p < 0.642  \n",
      "\n",
      "\n",
      "Seed: 165043843 - Split: 3 - education - Group: Some college but no degree\n",
      "data shape:  (4670, 1)\n",
      "sample size: 2335\n"
     ]
    },
    {
     "name": "stderr",
     "output_type": "stream",
     "text": [
      "bootstrap: 100%|████████████████████████████| 1000/1000 [00:14<00:00, 70.00it/s]\n"
     ]
    },
    {
     "name": "stdout",
     "output_type": "stream",
     "text": [
      "\n",
      "count sample diff f1   is twice tot diff f1....... 746  / 1000    p < 0.746  \n",
      "count sample diff prec is twice tot diff prec..... 644  / 1000    p < 0.644  \n",
      "count sample diff rec  is twice tot diff rec ..... 825  / 1000    p < 0.825  \n",
      "count sample diff acc  is twice tot diff acc...... 273  / 1000    p < 0.273  \n",
      "\n",
      "\n",
      "Seed: 165043843 - Split: 3 - education - Group: Doctoral degree\n",
      "data shape:  (298, 1)\n",
      "sample size: 149\n"
     ]
    },
    {
     "name": "stderr",
     "output_type": "stream",
     "text": [
      "bootstrap: 100%|████████████████████████████| 1000/1000 [00:10<00:00, 98.02it/s]\n"
     ]
    },
    {
     "name": "stdout",
     "output_type": "stream",
     "text": [
      "\n",
      "count sample diff f1   is twice tot diff f1....... 680  / 1000    p < 0.68   \n",
      "count sample diff prec is twice tot diff prec..... 568  / 1000    p < 0.568  \n",
      "count sample diff rec  is twice tot diff rec ..... 828  / 1000    p < 0.828  \n",
      "count sample diff acc  is twice tot diff acc...... 170  / 1000    p < 0.17   \n",
      "\n",
      "\n",
      "Seed: 165043843 - Split: 3 - education - Group: Less than high school degree\n",
      "data shape:  (163, 1)\n",
      "sample size: 81\n"
     ]
    },
    {
     "name": "stderr",
     "output_type": "stream",
     "text": [
      "bootstrap: 100%|███████████████████████████| 1000/1000 [00:08<00:00, 117.95it/s]\n"
     ]
    },
    {
     "name": "stdout",
     "output_type": "stream",
     "text": [
      "\n",
      "count sample diff f1   is twice tot diff f1....... 932  / 1000    p < 0.932  \n",
      "count sample diff prec is twice tot diff prec..... 875  / 1000    p < 0.875  \n",
      "count sample diff rec  is twice tot diff rec ..... 955  / 1000    p < 0.955  \u001b[38;5;8m!\u001b[0m\n",
      "count sample diff acc  is twice tot diff acc...... 726  / 1000    p < 0.726  \n",
      "\n",
      "\n",
      "Seed: 165043843 - Split: 3 - education - Group: Professional degree (JD, MD)\n",
      "data shape:  (361, 1)\n",
      "sample size: 180\n"
     ]
    },
    {
     "name": "stderr",
     "output_type": "stream",
     "text": [
      "bootstrap: 100%|███████████████████████████| 1000/1000 [00:08<00:00, 112.89it/s]\n"
     ]
    },
    {
     "name": "stdout",
     "output_type": "stream",
     "text": [
      "\n",
      "count sample diff f1   is twice tot diff f1....... 450  / 1000    p < 0.45   \n",
      "count sample diff prec is twice tot diff prec..... 315  / 1000    p < 0.315  \n",
      "count sample diff rec  is twice tot diff rec ..... 537  / 1000    p < 0.537  \n",
      "count sample diff acc  is twice tot diff acc...... 261  / 1000    p < 0.261  \n",
      "\n",
      "\n",
      "Seed: 2923262358 - Split: 0 - education - Group: Bachelor's degree in college (4-year)\n",
      "data shape:  (10517, 1)\n",
      "sample size: 5258\n"
     ]
    },
    {
     "name": "stderr",
     "output_type": "stream",
     "text": [
      "bootstrap: 100%|████████████████████████████| 1000/1000 [00:19<00:00, 51.04it/s]\n"
     ]
    },
    {
     "name": "stdout",
     "output_type": "stream",
     "text": [
      "\n",
      "count sample diff f1   is twice tot diff f1....... 375  / 1000    p < 0.375  \n",
      "count sample diff prec is twice tot diff prec..... 269  / 1000    p < 0.269  \n",
      "count sample diff rec  is twice tot diff rec ..... 501  / 1000    p < 0.501  \n",
      "count sample diff acc  is twice tot diff acc...... 197  / 1000    p < 0.197  \n",
      "\n",
      "\n",
      "Seed: 2923262358 - Split: 0 - education - Group: High school graduate (high school diploma or equivalent including GED)\n",
      "data shape:  (2015, 1)\n",
      "sample size: 1007\n"
     ]
    },
    {
     "name": "stderr",
     "output_type": "stream",
     "text": [
      "bootstrap: 100%|████████████████████████████| 1000/1000 [00:11<00:00, 85.02it/s]\n"
     ]
    },
    {
     "name": "stdout",
     "output_type": "stream",
     "text": [
      "\n",
      "count sample diff f1   is twice tot diff f1....... 348  / 1000    p < 0.348  \n",
      "count sample diff prec is twice tot diff prec..... 431  / 1000    p < 0.431  \n",
      "count sample diff rec  is twice tot diff rec ..... 208  / 1000    p < 0.208  \n",
      "count sample diff acc  is twice tot diff acc...... 693  / 1000    p < 0.693  \n",
      "\n",
      "\n",
      "Seed: 2923262358 - Split: 0 - education - Group: Master's degree\n",
      "data shape:  (3562, 1)\n",
      "sample size: 1781\n"
     ]
    },
    {
     "name": "stderr",
     "output_type": "stream",
     "text": [
      "bootstrap: 100%|████████████████████████████| 1000/1000 [00:11<00:00, 84.59it/s]\n"
     ]
    },
    {
     "name": "stdout",
     "output_type": "stream",
     "text": [
      "\n",
      "count sample diff f1   is twice tot diff f1....... 341  / 1000    p < 0.341  \n",
      "count sample diff prec is twice tot diff prec..... 331  / 1000    p < 0.331  \n",
      "count sample diff rec  is twice tot diff rec ..... 356  / 1000    p < 0.356  \n",
      "count sample diff acc  is twice tot diff acc...... 330  / 1000    p < 0.33   \n",
      "\n",
      "\n",
      "Seed: 2923262358 - Split: 0 - education - Group: Associate degree in college (2-year)\n",
      "data shape:  (2619, 1)\n",
      "sample size: 1309\n"
     ]
    },
    {
     "name": "stderr",
     "output_type": "stream",
     "text": [
      "bootstrap: 100%|████████████████████████████| 1000/1000 [00:11<00:00, 90.28it/s]\n"
     ]
    },
    {
     "name": "stdout",
     "output_type": "stream",
     "text": [
      "\n",
      "count sample diff f1   is twice tot diff f1....... 477  / 1000    p < 0.477  \n",
      "count sample diff prec is twice tot diff prec..... 400  / 1000    p < 0.4    \n",
      "count sample diff rec  is twice tot diff rec ..... 637  / 1000    p < 0.637  \n",
      "count sample diff acc  is twice tot diff acc...... 166  / 1000    p < 0.166  \n",
      "\n",
      "\n",
      "Seed: 2923262358 - Split: 0 - education - Group: Some college but no degree\n",
      "data shape:  (4698, 1)\n",
      "sample size: 2349\n"
     ]
    },
    {
     "name": "stderr",
     "output_type": "stream",
     "text": [
      "bootstrap: 100%|████████████████████████████| 1000/1000 [00:16<00:00, 60.79it/s]\n"
     ]
    },
    {
     "name": "stdout",
     "output_type": "stream",
     "text": [
      "\n",
      "count sample diff f1   is twice tot diff f1....... 971  / 1000    p < 0.971  \u001b[38;5;8m!\u001b[0m\n",
      "count sample diff prec is twice tot diff prec..... 972  / 1000    p < 0.972  \u001b[38;5;8m!\u001b[0m\n",
      "count sample diff rec  is twice tot diff rec ..... 970  / 1000    p < 0.97   \u001b[38;5;8m!\u001b[0m\n",
      "count sample diff acc  is twice tot diff acc...... 948  / 1000    p < 0.948  \n",
      "\n",
      "\n",
      "Seed: 2923262358 - Split: 0 - education - Group: Doctoral degree\n",
      "data shape:  (306, 1)\n",
      "sample size: 153\n"
     ]
    },
    {
     "name": "stderr",
     "output_type": "stream",
     "text": [
      "bootstrap: 100%|████████████████████████████| 1000/1000 [00:10<00:00, 92.88it/s]\n"
     ]
    },
    {
     "name": "stdout",
     "output_type": "stream",
     "text": [
      "\n",
      "count sample diff f1   is twice tot diff f1....... 179  / 1000    p < 0.179  \n",
      "count sample diff prec is twice tot diff prec..... 68   / 1000    p < 0.068  \n",
      "count sample diff rec  is twice tot diff rec ..... 250  / 1000    p < 0.25   \n",
      "count sample diff acc  is twice tot diff acc...... 48   / 1000    p < 0.048  \u001b[38;5;9m*\u001b[0m\n",
      "\n",
      "\n",
      "Seed: 2923262358 - Split: 0 - education - Group: Less than high school degree\n",
      "data shape:  (158, 1)\n",
      "sample size: 79\n"
     ]
    },
    {
     "name": "stderr",
     "output_type": "stream",
     "text": [
      "bootstrap: 100%|████████████████████████████| 1000/1000 [00:12<00:00, 81.44it/s]\n"
     ]
    },
    {
     "name": "stdout",
     "output_type": "stream",
     "text": [
      "\n",
      "count sample diff f1   is twice tot diff f1....... 32   / 1000    p < 0.032  \u001b[38;5;9m*\u001b[0m\n",
      "count sample diff prec is twice tot diff prec..... 23   / 1000    p < 0.023  \u001b[38;5;9m*\u001b[0m\n",
      "count sample diff rec  is twice tot diff rec ..... 50   / 1000    p < 0.05   \n",
      "count sample diff acc  is twice tot diff acc...... 12   / 1000    p < 0.012  \u001b[38;5;9m*\u001b[0m\n",
      "\n",
      "\n",
      "Seed: 2923262358 - Split: 0 - education - Group: Professional degree (JD, MD)\n",
      "data shape:  (352, 1)\n",
      "sample size: 176\n"
     ]
    },
    {
     "name": "stderr",
     "output_type": "stream",
     "text": [
      "bootstrap: 100%|████████████████████████████| 1000/1000 [00:13<00:00, 76.67it/s]\n"
     ]
    },
    {
     "name": "stdout",
     "output_type": "stream",
     "text": [
      "\n",
      "count sample diff f1   is twice tot diff f1....... 693  / 1000    p < 0.693  \n",
      "count sample diff prec is twice tot diff prec..... 742  / 1000    p < 0.742  \n",
      "count sample diff rec  is twice tot diff rec ..... 598  / 1000    p < 0.598  \n",
      "count sample diff acc  is twice tot diff acc...... 781  / 1000    p < 0.781  \n",
      "\n",
      "\n",
      "Seed: 2923262358 - Split: 1 - education - Group: Bachelor's degree in college (4-year)\n",
      "data shape:  (10498, 1)\n",
      "sample size: 5249\n"
     ]
    },
    {
     "name": "stderr",
     "output_type": "stream",
     "text": [
      "bootstrap: 100%|████████████████████████████| 1000/1000 [00:19<00:00, 50.95it/s]\n"
     ]
    },
    {
     "name": "stdout",
     "output_type": "stream",
     "text": [
      "\n",
      "count sample diff f1   is twice tot diff f1....... 998  / 1000    p < 0.998  \u001b[38;5;8m!\u001b[0m\n",
      "count sample diff prec is twice tot diff prec..... 971  / 1000    p < 0.971  \u001b[38;5;8m!\u001b[0m\n",
      "count sample diff rec  is twice tot diff rec ..... 999  / 1000    p < 0.999  \u001b[38;5;8m!\u001b[0m\n",
      "count sample diff acc  is twice tot diff acc...... 886  / 1000    p < 0.886  \n",
      "\n",
      "\n",
      "Seed: 2923262358 - Split: 1 - education - Group: High school graduate (high school diploma or equivalent including GED)\n",
      "data shape:  (2139, 1)\n",
      "sample size: 1069\n"
     ]
    },
    {
     "name": "stderr",
     "output_type": "stream",
     "text": [
      "bootstrap: 100%|████████████████████████████| 1000/1000 [00:11<00:00, 87.36it/s]\n"
     ]
    },
    {
     "name": "stdout",
     "output_type": "stream",
     "text": [
      "\n",
      "count sample diff f1   is twice tot diff f1....... 792  / 1000    p < 0.792  \n",
      "count sample diff prec is twice tot diff prec..... 827  / 1000    p < 0.827  \n",
      "count sample diff rec  is twice tot diff rec ..... 704  / 1000    p < 0.704  \n",
      "count sample diff acc  is twice tot diff acc...... 950  / 1000    p < 0.95   \n",
      "\n",
      "\n",
      "Seed: 2923262358 - Split: 1 - education - Group: Master's degree\n",
      "data shape:  (3486, 1)\n",
      "sample size: 1743\n"
     ]
    },
    {
     "name": "stderr",
     "output_type": "stream",
     "text": [
      "bootstrap: 100%|████████████████████████████| 1000/1000 [00:14<00:00, 68.62it/s]\n"
     ]
    },
    {
     "name": "stdout",
     "output_type": "stream",
     "text": [
      "\n",
      "count sample diff f1   is twice tot diff f1....... 98   / 1000    p < 0.098  \n",
      "count sample diff prec is twice tot diff prec..... 101  / 1000    p < 0.101  \n",
      "count sample diff rec  is twice tot diff rec ..... 96   / 1000    p < 0.096  \n",
      "count sample diff acc  is twice tot diff acc...... 96   / 1000    p < 0.096  \n",
      "\n",
      "\n",
      "Seed: 2923262358 - Split: 1 - education - Group: Associate degree in college (2-year)\n",
      "data shape:  (2588, 1)\n",
      "sample size: 1294\n"
     ]
    },
    {
     "name": "stderr",
     "output_type": "stream",
     "text": [
      "bootstrap: 100%|████████████████████████████| 1000/1000 [00:10<00:00, 91.84it/s]\n"
     ]
    },
    {
     "name": "stdout",
     "output_type": "stream",
     "text": [
      "\n",
      "count sample diff f1   is twice tot diff f1....... 823  / 1000    p < 0.823  \n",
      "count sample diff prec is twice tot diff prec..... 722  / 1000    p < 0.722  \n",
      "count sample diff rec  is twice tot diff rec ..... 901  / 1000    p < 0.901  \n",
      "count sample diff acc  is twice tot diff acc...... 285  / 1000    p < 0.285  \n",
      "\n",
      "\n",
      "Seed: 2923262358 - Split: 1 - education - Group: Some college but no degree\n",
      "data shape:  (4666, 1)\n",
      "sample size: 2333\n"
     ]
    },
    {
     "name": "stderr",
     "output_type": "stream",
     "text": [
      "bootstrap: 100%|████████████████████████████| 1000/1000 [00:13<00:00, 74.08it/s]\n"
     ]
    },
    {
     "name": "stdout",
     "output_type": "stream",
     "text": [
      "\n",
      "count sample diff f1   is twice tot diff f1....... 719  / 1000    p < 0.719  \n",
      "count sample diff prec is twice tot diff prec..... 667  / 1000    p < 0.667  \n",
      "count sample diff rec  is twice tot diff rec ..... 758  / 1000    p < 0.758  \n",
      "count sample diff acc  is twice tot diff acc...... 418  / 1000    p < 0.418  \n",
      "\n",
      "\n",
      "Seed: 2923262358 - Split: 1 - education - Group: Doctoral degree\n",
      "data shape:  (295, 1)\n",
      "sample size: 147\n"
     ]
    },
    {
     "name": "stderr",
     "output_type": "stream",
     "text": [
      "bootstrap: 100%|████████████████████████████| 1000/1000 [00:10<00:00, 97.81it/s]\n"
     ]
    },
    {
     "name": "stdout",
     "output_type": "stream",
     "text": [
      "\n",
      "count sample diff f1   is twice tot diff f1....... 836  / 1000    p < 0.836  \n",
      "count sample diff prec is twice tot diff prec..... 608  / 1000    p < 0.608  \n",
      "count sample diff rec  is twice tot diff rec ..... 849  / 1000    p < 0.849  \n",
      "count sample diff acc  is twice tot diff acc...... 427  / 1000    p < 0.427  \n",
      "\n",
      "\n",
      "Seed: 2923262358 - Split: 1 - education - Group: Less than high school degree\n",
      "data shape:  (164, 1)\n",
      "sample size: 82\n"
     ]
    },
    {
     "name": "stderr",
     "output_type": "stream",
     "text": [
      "bootstrap:  91%|█████████████████████████▎  | 906/1000 [00:07<00:00, 122.41it/s]/home/matthias/.cache/pypoetry/virtualenvs/sociodemographic-softlabels-Sh-apy0E-py3.7/lib/python3.7/site-packages/sklearn/metrics/_classification.py:1318: UndefinedMetricWarning: Precision is ill-defined and being set to 0.0 in labels with no predicted samples. Use `zero_division` parameter to control this behavior.\n",
      "  _warn_prf(average, modifier, msg_start, len(result))\n",
      "bootstrap: 100%|███████████████████████████| 1000/1000 [00:08<00:00, 118.24it/s]\n"
     ]
    },
    {
     "name": "stdout",
     "output_type": "stream",
     "text": [
      "\n",
      "count sample diff f1   is twice tot diff f1....... 745  / 1000    p < 0.745  \n",
      "count sample diff prec is twice tot diff prec..... 409  / 1000    p < 0.409  \n",
      "count sample diff rec  is twice tot diff rec ..... 762  / 1000    p < 0.762  \n",
      "count sample diff acc  is twice tot diff acc...... 332  / 1000    p < 0.332  \n",
      "\n",
      "\n",
      "Seed: 2923262358 - Split: 1 - education - Group: Professional degree (JD, MD)\n",
      "data shape:  (378, 1)\n",
      "sample size: 189\n"
     ]
    },
    {
     "name": "stderr",
     "output_type": "stream",
     "text": [
      "bootstrap: 100%|████████████████████████████| 1000/1000 [00:10<00:00, 96.03it/s]\n"
     ]
    },
    {
     "name": "stdout",
     "output_type": "stream",
     "text": [
      "\n",
      "count sample diff f1   is twice tot diff f1....... 782  / 1000    p < 0.782  \n",
      "count sample diff prec is twice tot diff prec..... 425  / 1000    p < 0.425  \n",
      "count sample diff rec  is twice tot diff rec ..... 811  / 1000    p < 0.811  \n",
      "count sample diff acc  is twice tot diff acc...... 492  / 1000    p < 0.492  \n",
      "\n",
      "\n",
      "Seed: 2923262358 - Split: 2 - education - Group: Bachelor's degree in college (4-year)\n",
      "data shape:  (10478, 1)\n",
      "sample size: 5239\n"
     ]
    },
    {
     "name": "stderr",
     "output_type": "stream",
     "text": [
      "bootstrap: 100%|████████████████████████████| 1000/1000 [00:20<00:00, 49.95it/s]\n"
     ]
    },
    {
     "name": "stdout",
     "output_type": "stream",
     "text": [
      "\n",
      "count sample diff f1   is twice tot diff f1....... 982  / 1000    p < 0.982  \u001b[38;5;8m!\u001b[0m\n",
      "count sample diff prec is twice tot diff prec..... 951  / 1000    p < 0.951  \u001b[38;5;8m!\u001b[0m\n",
      "count sample diff rec  is twice tot diff rec ..... 994  / 1000    p < 0.994  \u001b[38;5;8m!\u001b[0m\n",
      "count sample diff acc  is twice tot diff acc...... 924  / 1000    p < 0.924  \n",
      "\n",
      "\n",
      "Seed: 2923262358 - Split: 2 - education - Group: High school graduate (high school diploma or equivalent including GED)\n",
      "data shape:  (2076, 1)\n",
      "sample size: 1038\n"
     ]
    },
    {
     "name": "stderr",
     "output_type": "stream",
     "text": [
      "bootstrap: 100%|████████████████████████████| 1000/1000 [00:10<00:00, 94.04it/s]\n"
     ]
    },
    {
     "name": "stdout",
     "output_type": "stream",
     "text": [
      "\n",
      "count sample diff f1   is twice tot diff f1....... 975  / 1000    p < 0.975  \u001b[38;5;8m!\u001b[0m\n",
      "count sample diff prec is twice tot diff prec..... 972  / 1000    p < 0.972  \u001b[38;5;8m!\u001b[0m\n",
      "count sample diff rec  is twice tot diff rec ..... 977  / 1000    p < 0.977  \u001b[38;5;8m!\u001b[0m\n",
      "count sample diff acc  is twice tot diff acc...... 955  / 1000    p < 0.955  \u001b[38;5;8m!\u001b[0m\n",
      "\n",
      "\n",
      "Seed: 2923262358 - Split: 2 - education - Group: Master's degree\n",
      "data shape:  (3516, 1)\n",
      "sample size: 1758\n"
     ]
    },
    {
     "name": "stderr",
     "output_type": "stream",
     "text": [
      "bootstrap: 100%|████████████████████████████| 1000/1000 [00:15<00:00, 65.97it/s]\n"
     ]
    },
    {
     "name": "stdout",
     "output_type": "stream",
     "text": [
      "\n",
      "count sample diff f1   is twice tot diff f1....... 274  / 1000    p < 0.274  \n",
      "count sample diff prec is twice tot diff prec..... 213  / 1000    p < 0.213  \n",
      "count sample diff rec  is twice tot diff rec ..... 310  / 1000    p < 0.31   \n",
      "count sample diff acc  is twice tot diff acc...... 212  / 1000    p < 0.212  \n",
      "\n",
      "\n",
      "Seed: 2923262358 - Split: 2 - education - Group: Associate degree in college (2-year)\n",
      "data shape:  (2575, 1)\n",
      "sample size: 1287\n"
     ]
    },
    {
     "name": "stderr",
     "output_type": "stream",
     "text": [
      "bootstrap: 100%|████████████████████████████| 1000/1000 [00:14<00:00, 70.70it/s]\n"
     ]
    },
    {
     "name": "stdout",
     "output_type": "stream",
     "text": [
      "\n",
      "count sample diff f1   is twice tot diff f1....... 852  / 1000    p < 0.852  \n",
      "count sample diff prec is twice tot diff prec..... 841  / 1000    p < 0.841  \n",
      "count sample diff rec  is twice tot diff rec ..... 855  / 1000    p < 0.855  \n",
      "count sample diff acc  is twice tot diff acc...... 754  / 1000    p < 0.754  \n",
      "\n",
      "\n",
      "Seed: 2923262358 - Split: 2 - education - Group: Some college but no degree\n",
      "data shape:  (4686, 1)\n",
      "sample size: 2343\n"
     ]
    },
    {
     "name": "stderr",
     "output_type": "stream",
     "text": [
      "bootstrap: 100%|████████████████████████████| 1000/1000 [00:13<00:00, 72.30it/s]\n"
     ]
    },
    {
     "name": "stdout",
     "output_type": "stream",
     "text": [
      "\n",
      "count sample diff f1   is twice tot diff f1....... 159  / 1000    p < 0.159  \n",
      "count sample diff prec is twice tot diff prec..... 251  / 1000    p < 0.251  \n",
      "count sample diff rec  is twice tot diff rec ..... 108  / 1000    p < 0.108  \n",
      "count sample diff acc  is twice tot diff acc...... 684  / 1000    p < 0.684  \n",
      "\n",
      "\n",
      "Seed: 2923262358 - Split: 2 - education - Group: Doctoral degree\n",
      "data shape:  (308, 1)\n",
      "sample size: 154\n"
     ]
    },
    {
     "name": "stderr",
     "output_type": "stream",
     "text": [
      "bootstrap: 100%|███████████████████████████| 1000/1000 [00:09<00:00, 101.97it/s]\n"
     ]
    },
    {
     "name": "stdout",
     "output_type": "stream",
     "text": [
      "\n",
      "count sample diff f1   is twice tot diff f1....... 918  / 1000    p < 0.918  \n",
      "count sample diff prec is twice tot diff prec..... 929  / 1000    p < 0.929  \n",
      "count sample diff rec  is twice tot diff rec ..... 915  / 1000    p < 0.915  \n",
      "count sample diff acc  is twice tot diff acc...... 951  / 1000    p < 0.951  \u001b[38;5;8m!\u001b[0m\n",
      "\n",
      "\n",
      "Seed: 2923262358 - Split: 2 - education - Group: Less than high school degree\n",
      "data shape:  (168, 1)\n",
      "sample size: 84\n"
     ]
    },
    {
     "name": "stderr",
     "output_type": "stream",
     "text": [
      "bootstrap: 100%|████████████████████████████| 1000/1000 [00:11<00:00, 85.20it/s]\n"
     ]
    },
    {
     "name": "stdout",
     "output_type": "stream",
     "text": [
      "\n",
      "count sample diff f1   is twice tot diff f1....... 484  / 1000    p < 0.484  \n",
      "count sample diff prec is twice tot diff prec..... 187  / 1000    p < 0.187  \n",
      "count sample diff rec  is twice tot diff rec ..... 591  / 1000    p < 0.591  \n",
      "count sample diff acc  is twice tot diff acc...... 64   / 1000    p < 0.064  \n",
      "\n",
      "\n",
      "Seed: 2923262358 - Split: 2 - education - Group: Professional degree (JD, MD)\n",
      "data shape:  (402, 1)\n",
      "sample size: 201\n"
     ]
    },
    {
     "name": "stderr",
     "output_type": "stream",
     "text": [
      "bootstrap: 100%|████████████████████████████| 1000/1000 [00:11<00:00, 89.08it/s]\n"
     ]
    },
    {
     "name": "stdout",
     "output_type": "stream",
     "text": [
      "\n",
      "count sample diff f1   is twice tot diff f1....... 942  / 1000    p < 0.942  \n",
      "count sample diff prec is twice tot diff prec..... 948  / 1000    p < 0.948  \n",
      "count sample diff rec  is twice tot diff rec ..... 934  / 1000    p < 0.934  \n",
      "count sample diff acc  is twice tot diff acc...... 964  / 1000    p < 0.964  \u001b[38;5;8m!\u001b[0m\n",
      "\n",
      "\n",
      "Seed: 2923262358 - Split: 3 - education - Group: Bachelor's degree in college (4-year)\n",
      "data shape:  (10547, 1)\n",
      "sample size: 5273\n"
     ]
    },
    {
     "name": "stderr",
     "output_type": "stream",
     "text": [
      "bootstrap: 100%|████████████████████████████| 1000/1000 [00:20<00:00, 48.57it/s]\n"
     ]
    },
    {
     "name": "stdout",
     "output_type": "stream",
     "text": [
      "\n",
      "count sample diff f1   is twice tot diff f1....... 557  / 1000    p < 0.557  \n",
      "count sample diff prec is twice tot diff prec..... 733  / 1000    p < 0.733  \n",
      "count sample diff rec  is twice tot diff rec ..... 390  / 1000    p < 0.39   \n",
      "count sample diff acc  is twice tot diff acc...... 866  / 1000    p < 0.866  \n",
      "\n",
      "\n",
      "Seed: 2923262358 - Split: 3 - education - Group: High school graduate (high school diploma or equivalent including GED)\n",
      "data shape:  (2090, 1)\n",
      "sample size: 1045\n"
     ]
    },
    {
     "name": "stderr",
     "output_type": "stream",
     "text": [
      "bootstrap: 100%|████████████████████████████| 1000/1000 [00:14<00:00, 68.59it/s]\n"
     ]
    },
    {
     "name": "stdout",
     "output_type": "stream",
     "text": [
      "\n",
      "count sample diff f1   is twice tot diff f1....... 23   / 1000    p < 0.023  \u001b[38;5;9m*\u001b[0m\n",
      "count sample diff prec is twice tot diff prec..... 41   / 1000    p < 0.041  \u001b[38;5;9m*\u001b[0m\n",
      "count sample diff rec  is twice tot diff rec ..... 8    / 1000    p < 0.008  \u001b[38;5;9m**\u001b[0m\n",
      "count sample diff acc  is twice tot diff acc...... 265  / 1000    p < 0.265  \n",
      "\n",
      "\n",
      "Seed: 2923262358 - Split: 3 - education - Group: Master's degree\n",
      "data shape:  (3496, 1)\n",
      "sample size: 1748\n"
     ]
    },
    {
     "name": "stderr",
     "output_type": "stream",
     "text": [
      "bootstrap: 100%|████████████████████████████| 1000/1000 [00:13<00:00, 74.85it/s]\n"
     ]
    },
    {
     "name": "stdout",
     "output_type": "stream",
     "text": [
      "\n",
      "count sample diff f1   is twice tot diff f1....... 606  / 1000    p < 0.606  \n",
      "count sample diff prec is twice tot diff prec..... 705  / 1000    p < 0.705  \n",
      "count sample diff rec  is twice tot diff rec ..... 568  / 1000    p < 0.568  \n",
      "count sample diff acc  is twice tot diff acc...... 707  / 1000    p < 0.707  \n",
      "\n",
      "\n",
      "Seed: 2923262358 - Split: 3 - education - Group: Associate degree in college (2-year)\n",
      "data shape:  (2638, 1)\n",
      "sample size: 1319\n"
     ]
    },
    {
     "name": "stderr",
     "output_type": "stream",
     "text": [
      "bootstrap: 100%|████████████████████████████| 1000/1000 [00:15<00:00, 65.02it/s]\n"
     ]
    },
    {
     "name": "stdout",
     "output_type": "stream",
     "text": [
      "\n",
      "count sample diff f1   is twice tot diff f1....... 10   / 1000    p < 0.01   \u001b[38;5;9m*\u001b[0m\n",
      "count sample diff prec is twice tot diff prec..... 29   / 1000    p < 0.029  \u001b[38;5;9m*\u001b[0m\n",
      "count sample diff rec  is twice tot diff rec ..... 4    / 1000    p < 0.004  \u001b[38;5;9m**\u001b[0m\n",
      "count sample diff acc  is twice tot diff acc...... 123  / 1000    p < 0.123  \n",
      "\n",
      "\n",
      "Seed: 2923262358 - Split: 3 - education - Group: Some college but no degree\n",
      "data shape:  (4610, 1)\n",
      "sample size: 2305\n"
     ]
    },
    {
     "name": "stderr",
     "output_type": "stream",
     "text": [
      "bootstrap: 100%|████████████████████████████| 1000/1000 [00:12<00:00, 77.88it/s]\n"
     ]
    },
    {
     "name": "stdout",
     "output_type": "stream",
     "text": [
      "\n",
      "count sample diff f1   is twice tot diff f1....... 68   / 1000    p < 0.068  \n",
      "count sample diff prec is twice tot diff prec..... 225  / 1000    p < 0.225  \n",
      "count sample diff rec  is twice tot diff rec ..... 24   / 1000    p < 0.024  \u001b[38;5;9m*\u001b[0m\n",
      "count sample diff acc  is twice tot diff acc...... 866  / 1000    p < 0.866  \n",
      "\n",
      "\n",
      "Seed: 2923262358 - Split: 3 - education - Group: Doctoral degree\n",
      "data shape:  (311, 1)\n",
      "sample size: 155\n"
     ]
    },
    {
     "name": "stderr",
     "output_type": "stream",
     "text": [
      "bootstrap: 100%|███████████████████████████| 1000/1000 [00:08<00:00, 116.53it/s]\n"
     ]
    },
    {
     "name": "stdout",
     "output_type": "stream",
     "text": [
      "\n",
      "count sample diff f1   is twice tot diff f1....... 118  / 1000    p < 0.118  \n",
      "count sample diff prec is twice tot diff prec..... 199  / 1000    p < 0.199  \n",
      "count sample diff rec  is twice tot diff rec ..... 68   / 1000    p < 0.068  \n",
      "count sample diff acc  is twice tot diff acc...... 446  / 1000    p < 0.446  \n",
      "\n",
      "\n",
      "Seed: 2923262358 - Split: 3 - education - Group: Less than high school degree\n",
      "data shape:  (170, 1)\n",
      "sample size: 85\n"
     ]
    },
    {
     "name": "stderr",
     "output_type": "stream",
     "text": [
      "bootstrap: 100%|████████████████████████████| 1000/1000 [00:10<00:00, 99.63it/s]\n"
     ]
    },
    {
     "name": "stdout",
     "output_type": "stream",
     "text": [
      "\n",
      "count sample diff f1   is twice tot diff f1....... 7    / 1000    p < 0.007  \u001b[38;5;9m**\u001b[0m\n",
      "count sample diff prec is twice tot diff prec..... 19   / 1000    p < 0.019  \u001b[38;5;9m*\u001b[0m\n",
      "count sample diff rec  is twice tot diff rec ..... 2    / 1000    p < 0.002  \u001b[38;5;9m**\u001b[0m\n",
      "count sample diff acc  is twice tot diff acc...... 42   / 1000    p < 0.042  \u001b[38;5;9m*\u001b[0m\n",
      "\n",
      "\n",
      "Seed: 2923262358 - Split: 3 - education - Group: Professional degree (JD, MD)\n",
      "data shape:  (388, 1)\n",
      "sample size: 194\n"
     ]
    },
    {
     "name": "stderr",
     "output_type": "stream",
     "text": [
      "bootstrap: 100%|████████████████████████████| 1000/1000 [00:10<00:00, 94.99it/s]"
     ]
    },
    {
     "name": "stdout",
     "output_type": "stream",
     "text": [
      "\n",
      "count sample diff f1   is twice tot diff f1....... 365  / 1000    p < 0.365  \n",
      "count sample diff prec is twice tot diff prec..... 357  / 1000    p < 0.357  \n",
      "count sample diff rec  is twice tot diff rec ..... 408  / 1000    p < 0.408  \n",
      "count sample diff acc  is twice tot diff acc...... 337  / 1000    p < 0.337  \n"
     ]
    },
    {
     "name": "stderr",
     "output_type": "stream",
     "text": [
      "\n"
     ]
    }
   ],
   "source": [
    "education_p_dicts = significance_test_per_group(df, attribute_a='randomized', attribute_b='education', to_groups=to_groups, attributes=['education'])"
   ]
  },
  {
   "cell_type": "code",
   "execution_count": 18,
   "metadata": {},
   "outputs": [
    {
     "data": {
      "text/plain": [
       "{'Professional degree (JD, MD)': {'k_count': -1, 'k_bonferroni': -1},\n",
       " 'Doctoral degree': {'k_count': -1, 'k_bonferroni': -1},\n",
       " 'High school graduate (high school diploma or equivalent including GED)': {'k_count': 2,\n",
       "  'k_bonferroni': -1},\n",
       " \"Bachelor's degree in college (4-year)\": {'k_count': 1, 'k_bonferroni': -1},\n",
       " 'Associate degree in college (2-year)': {'k_count': 2, 'k_bonferroni': -1},\n",
       " 'Less than high school degree': {'k_count': 2, 'k_bonferroni': -1},\n",
       " 'Some college but no degree': {'k_count': 1, 'k_bonferroni': 1},\n",
       " \"Master's degree\": {'k_count': -1, 'k_bonferroni': -1}}"
      ]
     },
     "execution_count": 18,
     "metadata": {},
     "output_type": "execute_result"
    }
   ],
   "source": [
    "education_ks = k_estimator_groups(education_p_dicts)\n",
    "education_ks"
   ]
  },
  {
   "cell_type": "code",
   "execution_count": 19,
   "metadata": {},
   "outputs": [
    {
     "data": {
      "text/html": [
       "<div>\n",
       "<style scoped>\n",
       "    .dataframe tbody tr th:only-of-type {\n",
       "        vertical-align: middle;\n",
       "    }\n",
       "\n",
       "    .dataframe tbody tr th {\n",
       "        vertical-align: top;\n",
       "    }\n",
       "\n",
       "    .dataframe thead th {\n",
       "        text-align: right;\n",
       "    }\n",
       "</style>\n",
       "<table border=\"1\" class=\"dataframe\">\n",
       "  <thead>\n",
       "    <tr style=\"text-align: right;\">\n",
       "      <th></th>\n",
       "      <th>$\\hat{k}_{count}$</th>\n",
       "      <th>$\\hat{k}_{Bonf.}$</th>\n",
       "    </tr>\n",
       "  </thead>\n",
       "  <tbody>\n",
       "    <tr>\n",
       "      <th>Associate degree</th>\n",
       "      <td>2</td>\n",
       "      <td>0</td>\n",
       "    </tr>\n",
       "    <tr>\n",
       "      <th>Bachelor's degree</th>\n",
       "      <td>1</td>\n",
       "      <td>0</td>\n",
       "    </tr>\n",
       "    <tr>\n",
       "      <th>Doctoral degree</th>\n",
       "      <td>0</td>\n",
       "      <td>0</td>\n",
       "    </tr>\n",
       "    <tr>\n",
       "      <th>High school</th>\n",
       "      <td>2</td>\n",
       "      <td>0</td>\n",
       "    </tr>\n",
       "    <tr>\n",
       "      <th>Belowhigh school</th>\n",
       "      <td>2</td>\n",
       "      <td>0</td>\n",
       "    </tr>\n",
       "    <tr>\n",
       "      <th>Master's degree</th>\n",
       "      <td>0</td>\n",
       "      <td>0</td>\n",
       "    </tr>\n",
       "    <tr>\n",
       "      <th>Professional degree</th>\n",
       "      <td>0</td>\n",
       "      <td>0</td>\n",
       "    </tr>\n",
       "    <tr>\n",
       "      <th>College, no degree</th>\n",
       "      <td>1</td>\n",
       "      <td>1</td>\n",
       "    </tr>\n",
       "  </tbody>\n",
       "</table>\n",
       "</div>"
      ],
      "text/plain": [
       "                     $\\hat{k}_{count}$  $\\hat{k}_{Bonf.}$\n",
       "Associate degree                     2                  0\n",
       "Bachelor's degree                    1                  0\n",
       "Doctoral degree                      0                  0\n",
       "High school                          2                  0\n",
       "Belowhigh school                     2                  0\n",
       "Master's degree                      0                  0\n",
       "Professional degree                  0                  0\n",
       "College, no degree                   1                  1"
      ]
     },
     "execution_count": 19,
     "metadata": {},
     "output_type": "execute_result"
    }
   ],
   "source": [
    "education_ks_df = pd.DataFrame(education_ks).T.sort_index()\n",
    "education_ks_df = education_ks_df.replace({-1: 0})\n",
    "rename_mapping = {\n",
    "        'Less than high school degree': 'Belowhigh school', \n",
    "        'Some college but no degree': 'College, no degree',\n",
    "        'Associate degree in college (2-year)': 'Associate degree',\n",
    "        \"Bachelor's degree in college (4-year)\":  \"Bachelor's degree\",\n",
    "        'High school graduate (high school diploma or equivalent including GED)': 'High school',\n",
    "        'Professional degree (JD, MD)': 'Professional degree'\n",
    "    }\n",
    "education_ks_df.index = education_ks_df.index.map(lambda i: rename_mapping[i] if i in rename_mapping else i)\n",
    "education_ks_df = education_ks_df.rename(columns={'k_count': '$\\hat{k}_{count}$', 'k_bonferroni':'$\\hat{k}_{Bonf.}$'})\n",
    "education_ks_df"
   ]
  },
  {
   "cell_type": "code",
   "execution_count": 20,
   "metadata": {},
   "outputs": [],
   "source": [
    "education_ks_df.to_latex('../tables/replication/randomized/education.tex', escape=False)"
   ]
  },
  {
   "attachments": {},
   "cell_type": "markdown",
   "metadata": {},
   "source": [
    "### Sexual Orientation"
   ]
  },
  {
   "cell_type": "code",
   "execution_count": 21,
   "metadata": {},
   "outputs": [
    {
     "name": "stdout",
     "output_type": "stream",
     "text": [
      "\n",
      "\n",
      "Seed: 2803636207 - Split: 0 - lgbtq_status - Group: Heterosexual\n",
      "data shape:  (22623, 1)\n",
      "sample size: 11311\n"
     ]
    },
    {
     "name": "stderr",
     "output_type": "stream",
     "text": [
      "bootstrap: 100%|████████████████████████████| 1000/1000 [00:34<00:00, 29.22it/s]\n"
     ]
    },
    {
     "name": "stdout",
     "output_type": "stream",
     "text": [
      "\n",
      "count sample diff f1   is twice tot diff f1....... 1000 / 1000    p < 1.0    \u001b[38;5;8m!\u001b[0m\n",
      "count sample diff prec is twice tot diff prec..... 1000 / 1000    p < 1.0    \u001b[38;5;8m!\u001b[0m\n",
      "count sample diff rec  is twice tot diff rec ..... 1000 / 1000    p < 1.0    \u001b[38;5;8m!\u001b[0m\n",
      "count sample diff acc  is twice tot diff acc...... 1000 / 1000    p < 1.0    \u001b[38;5;8m!\u001b[0m\n",
      "\n",
      "\n",
      "Seed: 2803636207 - Split: 0 - lgbtq_status - Group: Homosexual\n",
      "data shape:  (739, 1)\n",
      "sample size: 369\n"
     ]
    },
    {
     "name": "stderr",
     "output_type": "stream",
     "text": [
      "bootstrap: 100%|████████████████████████████| 1000/1000 [00:11<00:00, 90.56it/s]\n"
     ]
    },
    {
     "name": "stdout",
     "output_type": "stream",
     "text": [
      "\n",
      "count sample diff f1   is twice tot diff f1....... 679  / 1000    p < 0.679  \n",
      "count sample diff prec is twice tot diff prec..... 835  / 1000    p < 0.835  \n",
      "count sample diff rec  is twice tot diff rec ..... 557  / 1000    p < 0.557  \n",
      "count sample diff acc  is twice tot diff acc...... 943  / 1000    p < 0.943  \n",
      "\n",
      "\n",
      "Seed: 2803636207 - Split: 0 - lgbtq_status - Group: Bisexual\n",
      "data shape:  (2418, 1)\n",
      "sample size: 1209\n"
     ]
    },
    {
     "name": "stderr",
     "output_type": "stream",
     "text": [
      "bootstrap: 100%|████████████████████████████| 1000/1000 [00:12<00:00, 81.70it/s]\n"
     ]
    },
    {
     "name": "stdout",
     "output_type": "stream",
     "text": [
      "\n",
      "count sample diff f1   is twice tot diff f1....... 41   / 1000    p < 0.041  \u001b[38;5;9m*\u001b[0m\n",
      "count sample diff prec is twice tot diff prec..... 40   / 1000    p < 0.04   \u001b[38;5;9m*\u001b[0m\n",
      "count sample diff rec  is twice tot diff rec ..... 41   / 1000    p < 0.041  \u001b[38;5;9m*\u001b[0m\n",
      "count sample diff acc  is twice tot diff acc...... 40   / 1000    p < 0.04   \u001b[38;5;9m*\u001b[0m\n",
      "\n",
      "\n",
      "Seed: 2803636207 - Split: 1 - lgbtq_status - Group: Heterosexual\n",
      "data shape:  (22678, 1)\n",
      "sample size: 11339\n"
     ]
    },
    {
     "name": "stderr",
     "output_type": "stream",
     "text": [
      "bootstrap: 100%|████████████████████████████| 1000/1000 [00:31<00:00, 31.39it/s]\n"
     ]
    },
    {
     "name": "stdout",
     "output_type": "stream",
     "text": [
      "\n",
      "count sample diff f1   is twice tot diff f1....... 789  / 1000    p < 0.789  \n",
      "count sample diff prec is twice tot diff prec..... 874  / 1000    p < 0.874  \n",
      "count sample diff rec  is twice tot diff rec ..... 615  / 1000    p < 0.615  \n",
      "count sample diff acc  is twice tot diff acc...... 974  / 1000    p < 0.974  \u001b[38;5;8m!\u001b[0m\n",
      "\n",
      "\n",
      "Seed: 2803636207 - Split: 1 - lgbtq_status - Group: Homosexual\n",
      "data shape:  (686, 1)\n",
      "sample size: 343\n"
     ]
    },
    {
     "name": "stderr",
     "output_type": "stream",
     "text": [
      "bootstrap: 100%|████████████████████████████| 1000/1000 [00:11<00:00, 85.09it/s]\n"
     ]
    },
    {
     "name": "stdout",
     "output_type": "stream",
     "text": [
      "\n",
      "count sample diff f1   is twice tot diff f1....... 966  / 1000    p < 0.966  \u001b[38;5;8m!\u001b[0m\n",
      "count sample diff prec is twice tot diff prec..... 949  / 1000    p < 0.949  \n",
      "count sample diff rec  is twice tot diff rec ..... 974  / 1000    p < 0.974  \u001b[38;5;8m!\u001b[0m\n",
      "count sample diff acc  is twice tot diff acc...... 919  / 1000    p < 0.919  \n",
      "\n",
      "\n",
      "Seed: 2803636207 - Split: 1 - lgbtq_status - Group: Bisexual\n",
      "data shape:  (2450, 1)\n",
      "sample size: 1225\n"
     ]
    },
    {
     "name": "stderr",
     "output_type": "stream",
     "text": [
      "bootstrap: 100%|████████████████████████████| 1000/1000 [00:11<00:00, 90.10it/s]\n"
     ]
    },
    {
     "name": "stdout",
     "output_type": "stream",
     "text": [
      "\n",
      "count sample diff f1   is twice tot diff f1....... 647  / 1000    p < 0.647  \n",
      "count sample diff prec is twice tot diff prec..... 515  / 1000    p < 0.515  \n",
      "count sample diff rec  is twice tot diff rec ..... 654  / 1000    p < 0.654  \n",
      "count sample diff acc  is twice tot diff acc...... 559  / 1000    p < 0.559  \n",
      "\n",
      "\n",
      "Seed: 2803636207 - Split: 2 - lgbtq_status - Group: Heterosexual\n",
      "data shape:  (22603, 1)\n",
      "sample size: 11301\n"
     ]
    },
    {
     "name": "stderr",
     "output_type": "stream",
     "text": [
      "bootstrap: 100%|████████████████████████████| 1000/1000 [00:30<00:00, 32.85it/s]\n"
     ]
    },
    {
     "name": "stdout",
     "output_type": "stream",
     "text": [
      "\n",
      "count sample diff f1   is twice tot diff f1....... 1000 / 1000    p < 1.0    \u001b[38;5;8m!\u001b[0m\n",
      "count sample diff prec is twice tot diff prec..... 999  / 1000    p < 0.999  \u001b[38;5;8m!\u001b[0m\n",
      "count sample diff rec  is twice tot diff rec ..... 1000 / 1000    p < 1.0    \u001b[38;5;8m!\u001b[0m\n",
      "count sample diff acc  is twice tot diff acc...... 967  / 1000    p < 0.967  \u001b[38;5;8m!\u001b[0m\n",
      "\n",
      "\n",
      "Seed: 2803636207 - Split: 2 - lgbtq_status - Group: Homosexual\n",
      "data shape:  (733, 1)\n",
      "sample size: 366\n"
     ]
    },
    {
     "name": "stderr",
     "output_type": "stream",
     "text": [
      "bootstrap: 100%|███████████████████████████| 1000/1000 [00:08<00:00, 113.67it/s]\n"
     ]
    },
    {
     "name": "stdout",
     "output_type": "stream",
     "text": [
      "\n",
      "count sample diff f1   is twice tot diff f1....... 150  / 1000    p < 0.15   \n",
      "count sample diff prec is twice tot diff prec..... 160  / 1000    p < 0.16   \n",
      "count sample diff rec  is twice tot diff rec ..... 142  / 1000    p < 0.142  \n",
      "count sample diff acc  is twice tot diff acc...... 169  / 1000    p < 0.169  \n",
      "\n",
      "\n",
      "Seed: 2803636207 - Split: 2 - lgbtq_status - Group: Bisexual\n",
      "data shape:  (2478, 1)\n",
      "sample size: 1239\n"
     ]
    },
    {
     "name": "stderr",
     "output_type": "stream",
     "text": [
      "bootstrap: 100%|████████████████████████████| 1000/1000 [00:11<00:00, 88.66it/s]\n"
     ]
    },
    {
     "name": "stdout",
     "output_type": "stream",
     "text": [
      "\n",
      "count sample diff f1   is twice tot diff f1....... 7    / 1000    p < 0.007  \u001b[38;5;9m**\u001b[0m\n",
      "count sample diff prec is twice tot diff prec..... 7    / 1000    p < 0.007  \u001b[38;5;9m**\u001b[0m\n",
      "count sample diff rec  is twice tot diff rec ..... 7    / 1000    p < 0.007  \u001b[38;5;9m**\u001b[0m\n",
      "count sample diff acc  is twice tot diff acc...... 7    / 1000    p < 0.007  \u001b[38;5;9m**\u001b[0m\n",
      "\n",
      "\n",
      "Seed: 2803636207 - Split: 3 - lgbtq_status - Group: Heterosexual\n",
      "data shape:  (22616, 1)\n",
      "sample size: 11308\n"
     ]
    },
    {
     "name": "stderr",
     "output_type": "stream",
     "text": [
      "bootstrap: 100%|████████████████████████████| 1000/1000 [00:32<00:00, 31.09it/s]\n"
     ]
    },
    {
     "name": "stdout",
     "output_type": "stream",
     "text": [
      "\n",
      "count sample diff f1   is twice tot diff f1....... 1000 / 1000    p < 1.0    \u001b[38;5;8m!\u001b[0m\n",
      "count sample diff prec is twice tot diff prec..... 1000 / 1000    p < 1.0    \u001b[38;5;8m!\u001b[0m\n",
      "count sample diff rec  is twice tot diff rec ..... 1000 / 1000    p < 1.0    \u001b[38;5;8m!\u001b[0m\n",
      "count sample diff acc  is twice tot diff acc...... 989  / 1000    p < 0.989  \u001b[38;5;8m!\u001b[0m\n",
      "\n",
      "\n",
      "Seed: 2803636207 - Split: 3 - lgbtq_status - Group: Homosexual\n",
      "data shape:  (742, 1)\n",
      "sample size: 371\n"
     ]
    },
    {
     "name": "stderr",
     "output_type": "stream",
     "text": [
      "bootstrap: 100%|████████████████████████████| 1000/1000 [00:10<00:00, 95.22it/s]\n"
     ]
    },
    {
     "name": "stdout",
     "output_type": "stream",
     "text": [
      "\n",
      "count sample diff f1   is twice tot diff f1....... 815  / 1000    p < 0.815  \n",
      "count sample diff prec is twice tot diff prec..... 794  / 1000    p < 0.794  \n",
      "count sample diff rec  is twice tot diff rec ..... 846  / 1000    p < 0.846  \n",
      "count sample diff acc  is twice tot diff acc...... 749  / 1000    p < 0.749  \n",
      "\n",
      "\n",
      "Seed: 2803636207 - Split: 3 - lgbtq_status - Group: Bisexual\n",
      "data shape:  (2434, 1)\n",
      "sample size: 1217\n"
     ]
    },
    {
     "name": "stderr",
     "output_type": "stream",
     "text": [
      "bootstrap: 100%|████████████████████████████| 1000/1000 [00:14<00:00, 68.46it/s]\n"
     ]
    },
    {
     "name": "stdout",
     "output_type": "stream",
     "text": [
      "\n",
      "count sample diff f1   is twice tot diff f1....... 1    / 1000    p < 0.001  \u001b[38;5;9m**\u001b[0m\n",
      "count sample diff prec is twice tot diff prec..... 1    / 1000    p < 0.001  \u001b[38;5;9m**\u001b[0m\n",
      "count sample diff rec  is twice tot diff rec ..... 1    / 1000    p < 0.001  \u001b[38;5;9m**\u001b[0m\n",
      "count sample diff acc  is twice tot diff acc...... 1    / 1000    p < 0.001  \u001b[38;5;9m**\u001b[0m\n",
      "\n",
      "\n",
      "Seed: 165043843 - Split: 0 - lgbtq_status - Group: Heterosexual\n",
      "data shape:  (22615, 1)\n",
      "sample size: 11307\n"
     ]
    },
    {
     "name": "stderr",
     "output_type": "stream",
     "text": [
      "bootstrap: 100%|████████████████████████████| 1000/1000 [00:36<00:00, 27.49it/s]\n"
     ]
    },
    {
     "name": "stdout",
     "output_type": "stream",
     "text": [
      "\n",
      "count sample diff f1   is twice tot diff f1....... 280  / 1000    p < 0.28   \n",
      "count sample diff prec is twice tot diff prec..... 248  / 1000    p < 0.248  \n",
      "count sample diff rec  is twice tot diff rec ..... 313  / 1000    p < 0.313  \n",
      "count sample diff acc  is twice tot diff acc...... 216  / 1000    p < 0.216  \n",
      "\n",
      "\n",
      "Seed: 165043843 - Split: 0 - lgbtq_status - Group: Homosexual\n",
      "data shape:  (742, 1)\n",
      "sample size: 371\n"
     ]
    },
    {
     "name": "stderr",
     "output_type": "stream",
     "text": [
      "bootstrap: 100%|████████████████████████████| 1000/1000 [00:12<00:00, 81.23it/s]\n"
     ]
    },
    {
     "name": "stdout",
     "output_type": "stream",
     "text": [
      "\n",
      "count sample diff f1   is twice tot diff f1....... 159  / 1000    p < 0.159  \n",
      "count sample diff prec is twice tot diff prec..... 127  / 1000    p < 0.127  \n",
      "count sample diff rec  is twice tot diff rec ..... 262  / 1000    p < 0.262  \n",
      "count sample diff acc  is twice tot diff acc...... 71   / 1000    p < 0.071  \n",
      "\n",
      "\n",
      "Seed: 165043843 - Split: 0 - lgbtq_status - Group: Bisexual\n",
      "data shape:  (2387, 1)\n",
      "sample size: 1193\n"
     ]
    },
    {
     "name": "stderr",
     "output_type": "stream",
     "text": [
      "bootstrap: 100%|████████████████████████████| 1000/1000 [00:10<00:00, 96.57it/s]\n"
     ]
    },
    {
     "name": "stdout",
     "output_type": "stream",
     "text": [
      "\n",
      "count sample diff f1   is twice tot diff f1....... 317  / 1000    p < 0.317  \n",
      "count sample diff prec is twice tot diff prec..... 228  / 1000    p < 0.228  \n",
      "count sample diff rec  is twice tot diff rec ..... 300  / 1000    p < 0.3    \n",
      "count sample diff acc  is twice tot diff acc...... 268  / 1000    p < 0.268  \n",
      "\n",
      "\n",
      "Seed: 165043843 - Split: 1 - lgbtq_status - Group: Heterosexual\n",
      "data shape:  (22659, 1)\n",
      "sample size: 11329\n"
     ]
    },
    {
     "name": "stderr",
     "output_type": "stream",
     "text": [
      "bootstrap: 100%|████████████████████████████| 1000/1000 [00:30<00:00, 32.76it/s]\n"
     ]
    },
    {
     "name": "stdout",
     "output_type": "stream",
     "text": [
      "\n",
      "count sample diff f1   is twice tot diff f1....... 0    / 1000    p < 0.0    \u001b[38;5;9m**\u001b[0m\n",
      "count sample diff prec is twice tot diff prec..... 5    / 1000    p < 0.005  \u001b[38;5;9m**\u001b[0m\n",
      "count sample diff rec  is twice tot diff rec ..... 0    / 1000    p < 0.0    \u001b[38;5;9m**\u001b[0m\n",
      "count sample diff acc  is twice tot diff acc...... 151  / 1000    p < 0.151  \n",
      "\n",
      "\n",
      "Seed: 165043843 - Split: 1 - lgbtq_status - Group: Homosexual\n",
      "data shape:  (729, 1)\n",
      "sample size: 364\n"
     ]
    },
    {
     "name": "stderr",
     "output_type": "stream",
     "text": [
      "bootstrap: 100%|███████████████████████████| 1000/1000 [00:08<00:00, 112.73it/s]\n"
     ]
    },
    {
     "name": "stdout",
     "output_type": "stream",
     "text": [
      "\n",
      "count sample diff f1   is twice tot diff f1....... 158  / 1000    p < 0.158  \n",
      "count sample diff prec is twice tot diff prec..... 135  / 1000    p < 0.135  \n",
      "count sample diff rec  is twice tot diff rec ..... 171  / 1000    p < 0.171  \n",
      "count sample diff acc  is twice tot diff acc...... 138  / 1000    p < 0.138  \n",
      "\n",
      "\n",
      "Seed: 165043843 - Split: 1 - lgbtq_status - Group: Bisexual\n",
      "data shape:  (2413, 1)\n",
      "sample size: 1206\n"
     ]
    },
    {
     "name": "stderr",
     "output_type": "stream",
     "text": [
      "bootstrap: 100%|████████████████████████████| 1000/1000 [00:11<00:00, 87.08it/s]\n"
     ]
    },
    {
     "name": "stdout",
     "output_type": "stream",
     "text": [
      "\n",
      "count sample diff f1   is twice tot diff f1....... 986  / 1000    p < 0.986  \u001b[38;5;8m!\u001b[0m\n",
      "count sample diff prec is twice tot diff prec..... 985  / 1000    p < 0.985  \u001b[38;5;8m!\u001b[0m\n",
      "count sample diff rec  is twice tot diff rec ..... 986  / 1000    p < 0.986  \u001b[38;5;8m!\u001b[0m\n",
      "count sample diff acc  is twice tot diff acc...... 985  / 1000    p < 0.985  \u001b[38;5;8m!\u001b[0m\n",
      "\n",
      "\n",
      "Seed: 165043843 - Split: 2 - lgbtq_status - Group: Heterosexual\n",
      "data shape:  (22538, 1)\n",
      "sample size: 11269\n"
     ]
    },
    {
     "name": "stderr",
     "output_type": "stream",
     "text": [
      "bootstrap: 100%|████████████████████████████| 1000/1000 [00:31<00:00, 32.11it/s]\n"
     ]
    },
    {
     "name": "stdout",
     "output_type": "stream",
     "text": [
      "\n",
      "count sample diff f1   is twice tot diff f1....... 412  / 1000    p < 0.412  \n",
      "count sample diff prec is twice tot diff prec..... 352  / 1000    p < 0.352  \n",
      "count sample diff rec  is twice tot diff rec ..... 474  / 1000    p < 0.474  \n",
      "count sample diff acc  is twice tot diff acc...... 242  / 1000    p < 0.242  \n",
      "\n",
      "\n",
      "Seed: 165043843 - Split: 2 - lgbtq_status - Group: Homosexual\n",
      "data shape:  (759, 1)\n",
      "sample size: 379\n"
     ]
    },
    {
     "name": "stderr",
     "output_type": "stream",
     "text": [
      "bootstrap: 100%|███████████████████████████| 1000/1000 [00:09<00:00, 109.53it/s]\n"
     ]
    },
    {
     "name": "stdout",
     "output_type": "stream",
     "text": [
      "\n",
      "count sample diff f1   is twice tot diff f1....... 407  / 1000    p < 0.407  \n",
      "count sample diff prec is twice tot diff prec..... 407  / 1000    p < 0.407  \n",
      "count sample diff rec  is twice tot diff rec ..... 408  / 1000    p < 0.408  \n",
      "count sample diff acc  is twice tot diff acc...... 408  / 1000    p < 0.408  \n",
      "\n",
      "\n",
      "Seed: 165043843 - Split: 2 - lgbtq_status - Group: Bisexual\n",
      "data shape:  (2479, 1)\n",
      "sample size: 1239\n"
     ]
    },
    {
     "name": "stderr",
     "output_type": "stream",
     "text": [
      "bootstrap: 100%|████████████████████████████| 1000/1000 [00:10<00:00, 94.17it/s]\n"
     ]
    },
    {
     "name": "stdout",
     "output_type": "stream",
     "text": [
      "\n",
      "count sample diff f1   is twice tot diff f1....... 235  / 1000    p < 0.235  \n",
      "count sample diff prec is twice tot diff prec..... 241  / 1000    p < 0.241  \n",
      "count sample diff rec  is twice tot diff rec ..... 235  / 1000    p < 0.235  \n",
      "count sample diff acc  is twice tot diff acc...... 230  / 1000    p < 0.23   \n",
      "\n",
      "\n",
      "Seed: 165043843 - Split: 3 - lgbtq_status - Group: Heterosexual\n",
      "data shape:  (22708, 1)\n",
      "sample size: 11354\n"
     ]
    },
    {
     "name": "stderr",
     "output_type": "stream",
     "text": [
      "bootstrap: 100%|████████████████████████████| 1000/1000 [00:30<00:00, 33.07it/s]\n"
     ]
    },
    {
     "name": "stdout",
     "output_type": "stream",
     "text": [
      "\n",
      "count sample diff f1   is twice tot diff f1....... 1000 / 1000    p < 1.0    \u001b[38;5;8m!\u001b[0m\n",
      "count sample diff prec is twice tot diff prec..... 992  / 1000    p < 0.992  \u001b[38;5;8m!\u001b[0m\n",
      "count sample diff rec  is twice tot diff rec ..... 1000 / 1000    p < 1.0    \u001b[38;5;8m!\u001b[0m\n",
      "count sample diff acc  is twice tot diff acc...... 712  / 1000    p < 0.712  \n",
      "\n",
      "\n",
      "Seed: 165043843 - Split: 3 - lgbtq_status - Group: Homosexual\n",
      "data shape:  (670, 1)\n",
      "sample size: 335\n"
     ]
    },
    {
     "name": "stderr",
     "output_type": "stream",
     "text": [
      "bootstrap: 100%|████████████████████████████| 1000/1000 [00:12<00:00, 80.54it/s]\n"
     ]
    },
    {
     "name": "stdout",
     "output_type": "stream",
     "text": [
      "\n",
      "count sample diff f1   is twice tot diff f1....... 88   / 1000    p < 0.088  \n",
      "count sample diff prec is twice tot diff prec..... 70   / 1000    p < 0.07   \n",
      "count sample diff rec  is twice tot diff rec ..... 189  / 1000    p < 0.189  \n",
      "count sample diff acc  is twice tot diff acc...... 18   / 1000    p < 0.018  \u001b[38;5;9m*\u001b[0m\n",
      "\n",
      "\n",
      "Seed: 165043843 - Split: 3 - lgbtq_status - Group: Bisexual\n",
      "data shape:  (2501, 1)\n",
      "sample size: 1250\n"
     ]
    },
    {
     "name": "stderr",
     "output_type": "stream",
     "text": [
      "bootstrap: 100%|████████████████████████████| 1000/1000 [00:10<00:00, 93.97it/s]\n"
     ]
    },
    {
     "name": "stdout",
     "output_type": "stream",
     "text": [
      "\n",
      "count sample diff f1   is twice tot diff f1....... 57   / 1000    p < 0.057  \n",
      "count sample diff prec is twice tot diff prec..... 56   / 1000    p < 0.056  \n",
      "count sample diff rec  is twice tot diff rec ..... 60   / 1000    p < 0.06   \n",
      "count sample diff acc  is twice tot diff acc...... 56   / 1000    p < 0.056  \n",
      "\n",
      "\n",
      "Seed: 2923262358 - Split: 0 - lgbtq_status - Group: Heterosexual\n",
      "data shape:  (22649, 1)\n",
      "sample size: 11324\n"
     ]
    },
    {
     "name": "stderr",
     "output_type": "stream",
     "text": [
      "bootstrap: 100%|████████████████████████████| 1000/1000 [00:28<00:00, 34.96it/s]\n"
     ]
    },
    {
     "name": "stdout",
     "output_type": "stream",
     "text": [
      "\n",
      "count sample diff f1   is twice tot diff f1....... 568  / 1000    p < 0.568  \n",
      "count sample diff prec is twice tot diff prec..... 573  / 1000    p < 0.573  \n",
      "count sample diff rec  is twice tot diff rec ..... 506  / 1000    p < 0.506  \n",
      "count sample diff acc  is twice tot diff acc...... 656  / 1000    p < 0.656  \n",
      "\n",
      "\n",
      "Seed: 2923262358 - Split: 0 - lgbtq_status - Group: Homosexual\n",
      "data shape:  (709, 1)\n",
      "sample size: 354\n"
     ]
    },
    {
     "name": "stderr",
     "output_type": "stream",
     "text": [
      "bootstrap: 100%|███████████████████████████| 1000/1000 [00:08<00:00, 113.75it/s]\n"
     ]
    },
    {
     "name": "stdout",
     "output_type": "stream",
     "text": [
      "\n",
      "count sample diff f1   is twice tot diff f1....... 316  / 1000    p < 0.316  \n",
      "count sample diff prec is twice tot diff prec..... 220  / 1000    p < 0.22   \n",
      "count sample diff rec  is twice tot diff rec ..... 455  / 1000    p < 0.455  \n",
      "count sample diff acc  is twice tot diff acc...... 139  / 1000    p < 0.139  \n",
      "\n",
      "\n",
      "Seed: 2923262358 - Split: 0 - lgbtq_status - Group: Bisexual\n",
      "data shape:  (2444, 1)\n",
      "sample size: 1222\n"
     ]
    },
    {
     "name": "stderr",
     "output_type": "stream",
     "text": [
      "bootstrap: 100%|████████████████████████████| 1000/1000 [00:11<00:00, 84.32it/s]\n"
     ]
    },
    {
     "name": "stdout",
     "output_type": "stream",
     "text": [
      "\n",
      "count sample diff f1   is twice tot diff f1....... 11   / 1000    p < 0.011  \u001b[38;5;9m*\u001b[0m\n",
      "count sample diff prec is twice tot diff prec..... 7    / 1000    p < 0.007  \u001b[38;5;9m**\u001b[0m\n",
      "count sample diff rec  is twice tot diff rec ..... 13   / 1000    p < 0.013  \u001b[38;5;9m*\u001b[0m\n",
      "count sample diff acc  is twice tot diff acc...... 7    / 1000    p < 0.007  \u001b[38;5;9m**\u001b[0m\n",
      "\n",
      "\n",
      "Seed: 2923262358 - Split: 1 - lgbtq_status - Group: Heterosexual\n",
      "data shape:  (22726, 1)\n",
      "sample size: 11363\n"
     ]
    },
    {
     "name": "stderr",
     "output_type": "stream",
     "text": [
      "bootstrap: 100%|████████████████████████████| 1000/1000 [00:31<00:00, 32.04it/s]\n"
     ]
    },
    {
     "name": "stdout",
     "output_type": "stream",
     "text": [
      "\n",
      "count sample diff f1   is twice tot diff f1....... 71   / 1000    p < 0.071  \n",
      "count sample diff prec is twice tot diff prec..... 430  / 1000    p < 0.43   \n",
      "count sample diff rec  is twice tot diff rec ..... 3    / 1000    p < 0.003  \u001b[38;5;9m**\u001b[0m\n",
      "count sample diff acc  is twice tot diff acc...... 954  / 1000    p < 0.954  \u001b[38;5;8m!\u001b[0m\n",
      "\n",
      "\n",
      "Seed: 2923262358 - Split: 1 - lgbtq_status - Group: Homosexual\n",
      "data shape:  (726, 1)\n",
      "sample size: 363\n"
     ]
    },
    {
     "name": "stderr",
     "output_type": "stream",
     "text": [
      "bootstrap: 100%|███████████████████████████| 1000/1000 [00:08<00:00, 112.68it/s]\n"
     ]
    },
    {
     "name": "stdout",
     "output_type": "stream",
     "text": [
      "\n",
      "count sample diff f1   is twice tot diff f1....... 215  / 1000    p < 0.215  \n",
      "count sample diff prec is twice tot diff prec..... 172  / 1000    p < 0.172  \n",
      "count sample diff rec  is twice tot diff rec ..... 261  / 1000    p < 0.261  \n",
      "count sample diff acc  is twice tot diff acc...... 135  / 1000    p < 0.135  \n",
      "\n",
      "\n",
      "Seed: 2923262358 - Split: 1 - lgbtq_status - Group: Bisexual\n",
      "data shape:  (2383, 1)\n",
      "sample size: 1191\n"
     ]
    },
    {
     "name": "stderr",
     "output_type": "stream",
     "text": [
      "bootstrap: 100%|████████████████████████████| 1000/1000 [00:11<00:00, 88.57it/s]\n"
     ]
    },
    {
     "name": "stdout",
     "output_type": "stream",
     "text": [
      "\n",
      "count sample diff f1   is twice tot diff f1....... 397  / 1000    p < 0.397  \n",
      "count sample diff prec is twice tot diff prec..... 408  / 1000    p < 0.408  \n",
      "count sample diff rec  is twice tot diff rec ..... 403  / 1000    p < 0.403  \n",
      "count sample diff acc  is twice tot diff acc...... 422  / 1000    p < 0.422  \n",
      "\n",
      "\n",
      "Seed: 2923262358 - Split: 2 - lgbtq_status - Group: Heterosexual\n",
      "data shape:  (22507, 1)\n",
      "sample size: 11253\n"
     ]
    },
    {
     "name": "stderr",
     "output_type": "stream",
     "text": [
      "bootstrap: 100%|████████████████████████████| 1000/1000 [00:31<00:00, 32.23it/s]\n"
     ]
    },
    {
     "name": "stdout",
     "output_type": "stream",
     "text": [
      "\n",
      "count sample diff f1   is twice tot diff f1....... 58   / 1000    p < 0.058  \n",
      "count sample diff prec is twice tot diff prec..... 57   / 1000    p < 0.057  \n",
      "count sample diff rec  is twice tot diff rec ..... 60   / 1000    p < 0.06   \n",
      "count sample diff acc  is twice tot diff acc...... 63   / 1000    p < 0.063  \n",
      "\n",
      "\n",
      "Seed: 2923262358 - Split: 2 - lgbtq_status - Group: Homosexual\n",
      "data shape:  (753, 1)\n",
      "sample size: 376\n"
     ]
    },
    {
     "name": "stderr",
     "output_type": "stream",
     "text": [
      "bootstrap: 100%|████████████████████████████| 1000/1000 [00:10<00:00, 92.73it/s]\n"
     ]
    },
    {
     "name": "stdout",
     "output_type": "stream",
     "text": [
      "\n",
      "count sample diff f1   is twice tot diff f1....... 209  / 1000    p < 0.209  \n",
      "count sample diff prec is twice tot diff prec..... 154  / 1000    p < 0.154  \n",
      "count sample diff rec  is twice tot diff rec ..... 262  / 1000    p < 0.262  \n",
      "count sample diff acc  is twice tot diff acc...... 125  / 1000    p < 0.125  \n",
      "\n",
      "\n",
      "Seed: 2923262358 - Split: 2 - lgbtq_status - Group: Bisexual\n",
      "data shape:  (2492, 1)\n",
      "sample size: 1246\n"
     ]
    },
    {
     "name": "stderr",
     "output_type": "stream",
     "text": [
      "bootstrap: 100%|████████████████████████████| 1000/1000 [00:12<00:00, 79.19it/s]\n"
     ]
    },
    {
     "name": "stdout",
     "output_type": "stream",
     "text": [
      "\n",
      "count sample diff f1   is twice tot diff f1....... 36   / 1000    p < 0.036  \u001b[38;5;9m*\u001b[0m\n",
      "count sample diff prec is twice tot diff prec..... 30   / 1000    p < 0.03   \u001b[38;5;9m*\u001b[0m\n",
      "count sample diff rec  is twice tot diff rec ..... 36   / 1000    p < 0.036  \u001b[38;5;9m*\u001b[0m\n",
      "count sample diff acc  is twice tot diff acc...... 32   / 1000    p < 0.032  \u001b[38;5;9m*\u001b[0m\n",
      "\n",
      "\n",
      "Seed: 2923262358 - Split: 3 - lgbtq_status - Group: Heterosexual\n",
      "data shape:  (22638, 1)\n",
      "sample size: 11319\n"
     ]
    },
    {
     "name": "stderr",
     "output_type": "stream",
     "text": [
      "bootstrap: 100%|████████████████████████████| 1000/1000 [00:33<00:00, 29.63it/s]\n"
     ]
    },
    {
     "name": "stdout",
     "output_type": "stream",
     "text": [
      "\n",
      "count sample diff f1   is twice tot diff f1....... 788  / 1000    p < 0.788  \n",
      "count sample diff prec is twice tot diff prec..... 560  / 1000    p < 0.56   \n",
      "count sample diff rec  is twice tot diff rec ..... 949  / 1000    p < 0.949  \n",
      "count sample diff acc  is twice tot diff acc...... 133  / 1000    p < 0.133  \n",
      "\n",
      "\n",
      "Seed: 2923262358 - Split: 3 - lgbtq_status - Group: Homosexual\n",
      "data shape:  (712, 1)\n",
      "sample size: 356\n"
     ]
    },
    {
     "name": "stderr",
     "output_type": "stream",
     "text": [
      "bootstrap: 100%|████████████████████████████| 1000/1000 [00:14<00:00, 70.28it/s]\n"
     ]
    },
    {
     "name": "stdout",
     "output_type": "stream",
     "text": [
      "\n",
      "count sample diff f1   is twice tot diff f1....... 463  / 1000    p < 0.463  \n",
      "count sample diff prec is twice tot diff prec..... 283  / 1000    p < 0.283  \n",
      "count sample diff rec  is twice tot diff rec ..... 621  / 1000    p < 0.621  \n",
      "count sample diff acc  is twice tot diff acc...... 118  / 1000    p < 0.118  \n",
      "\n",
      "\n",
      "Seed: 2923262358 - Split: 3 - lgbtq_status - Group: Bisexual\n",
      "data shape:  (2461, 1)\n",
      "sample size: 1230\n"
     ]
    },
    {
     "name": "stderr",
     "output_type": "stream",
     "text": [
      "bootstrap: 100%|████████████████████████████| 1000/1000 [00:11<00:00, 88.80it/s]"
     ]
    },
    {
     "name": "stdout",
     "output_type": "stream",
     "text": [
      "\n",
      "count sample diff f1   is twice tot diff f1....... 0    / 1000    p < 0.0    \u001b[38;5;9m**\u001b[0m\n",
      "count sample diff prec is twice tot diff prec..... 0    / 1000    p < 0.0    \u001b[38;5;9m**\u001b[0m\n",
      "count sample diff rec  is twice tot diff rec ..... 0    / 1000    p < 0.0    \u001b[38;5;9m**\u001b[0m\n",
      "count sample diff acc  is twice tot diff acc...... 0    / 1000    p < 0.0    \u001b[38;5;9m**\u001b[0m\n"
     ]
    },
    {
     "name": "stderr",
     "output_type": "stream",
     "text": [
      "\n"
     ]
    }
   ],
   "source": [
    "lgbq_p_dicts = significance_test_per_group(df, attribute_a='randomized', attribute_b='lgbq', to_groups=to_groups, attributes=['lgbtq_status'])"
   ]
  },
  {
   "cell_type": "code",
   "execution_count": 22,
   "metadata": {},
   "outputs": [
    {
     "data": {
      "text/plain": [
       "{'Homosexual': {'k_count': -1, 'k_bonferroni': -1},\n",
       " 'Heterosexual': {'k_count': 1, 'k_bonferroni': 1},\n",
       " 'Bisexual': {'k_count': 6, 'k_bonferroni': 2}}"
      ]
     },
     "execution_count": 22,
     "metadata": {},
     "output_type": "execute_result"
    }
   ],
   "source": [
    "lgbq_ks = k_estimator_groups(lgbq_p_dicts)\n",
    "lgbq_ks"
   ]
  },
  {
   "cell_type": "code",
   "execution_count": 23,
   "metadata": {},
   "outputs": [
    {
     "data": {
      "text/html": [
       "<div>\n",
       "<style scoped>\n",
       "    .dataframe tbody tr th:only-of-type {\n",
       "        vertical-align: middle;\n",
       "    }\n",
       "\n",
       "    .dataframe tbody tr th {\n",
       "        vertical-align: top;\n",
       "    }\n",
       "\n",
       "    .dataframe thead th {\n",
       "        text-align: right;\n",
       "    }\n",
       "</style>\n",
       "<table border=\"1\" class=\"dataframe\">\n",
       "  <thead>\n",
       "    <tr style=\"text-align: right;\">\n",
       "      <th></th>\n",
       "      <th>$\\hat{k}_{count}$</th>\n",
       "      <th>$\\hat{k}_{Bonf.}$</th>\n",
       "    </tr>\n",
       "  </thead>\n",
       "  <tbody>\n",
       "    <tr>\n",
       "      <th>Bisexual</th>\n",
       "      <td>6</td>\n",
       "      <td>2</td>\n",
       "    </tr>\n",
       "    <tr>\n",
       "      <th>Heterosexual</th>\n",
       "      <td>1</td>\n",
       "      <td>1</td>\n",
       "    </tr>\n",
       "    <tr>\n",
       "      <th>Homosexual</th>\n",
       "      <td>0</td>\n",
       "      <td>0</td>\n",
       "    </tr>\n",
       "  </tbody>\n",
       "</table>\n",
       "</div>"
      ],
      "text/plain": [
       "              $\\hat{k}_{count}$  $\\hat{k}_{Bonf.}$\n",
       "Bisexual                      6                  2\n",
       "Heterosexual                  1                  1\n",
       "Homosexual                    0                  0"
      ]
     },
     "execution_count": 23,
     "metadata": {},
     "output_type": "execute_result"
    }
   ],
   "source": [
    "lgbq_ks_df = pd.DataFrame(lgbq_ks).T.sort_index()\n",
    "lgbq_ks_df = lgbq_ks_df.replace({-1: 0})\n",
    "lgbq_ks_df = lgbq_ks_df.rename(columns={'k_count': '$\\hat{k}_{count}$', 'k_bonferroni':'$\\hat{k}_{Bonf.}$'})\n",
    "lgbq_ks_df"
   ]
  },
  {
   "cell_type": "code",
   "execution_count": 24,
   "metadata": {},
   "outputs": [],
   "source": [
    "lgbq_ks_df.to_latex('../tables/replication/randomized/lgbq.tex', escape=False)"
   ]
  }
 ],
 "metadata": {
  "kernelspec": {
   "display_name": "Python 3.7.15 ('sociodemographic-softlabels-Sh-apy0E-py3.7')",
   "language": "python",
   "name": "python3"
  },
  "language_info": {
   "codemirror_mode": {
    "name": "ipython",
    "version": 3
   },
   "file_extension": ".py",
   "mimetype": "text/x-python",
   "name": "python",
   "nbconvert_exporter": "python",
   "pygments_lexer": "ipython3",
   "version": "3.7.16"
  },
  "orig_nbformat": 4,
  "vscode": {
   "interpreter": {
    "hash": "5cdc63a60fa921ac5703605bf6fd5c1d87d89afa5fd45cd912515fa0a02db395"
   }
  }
 },
 "nbformat": 4,
 "nbformat_minor": 2
}
