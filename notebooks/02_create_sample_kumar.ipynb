{
 "cells": [
  {
   "cell_type": "code",
   "execution_count": 1,
   "metadata": {},
   "outputs": [],
   "source": [
    "from typing import Union\n",
    "import json\n",
    "import pandas as pd\n",
    "import numpy as np\n",
    "\n",
    "DATASET_PATH = 'kumar_dataset.json'\n",
    "SAMPLE_PATH = '../../data/processed/kumar/sample_5000_annotators_v3.csv'"
   ]
  },
  {
   "attachments": {},
   "cell_type": "markdown",
   "metadata": {},
   "source": [
    "## Create sample from Kumar \"Final\" Dataset\n",
    "\n",
    "Uses the \"final\" version of the disaggregated Kumar dataset which 1) includes all participants 2) has confirmation on the existence of below 18 annotators which should be removed for indiviudal analysis"
   ]
  },
  {
   "cell_type": "code",
   "execution_count": 2,
   "metadata": {},
   "outputs": [],
   "source": [
    "def read_dataset(path):\n",
    "    with open(path) as f:\n",
    "        records = []\n",
    "        for index, line in enumerate(f):\n",
    "            line_dict = json.loads(line)\n",
    "            for annotation in line_dict['ratings']:\n",
    "                record = {\n",
    "                    'comment': line_dict['comment'],\n",
    "                    'id': index,\n",
    "                    'comment_id': line_dict['comment_id'],\n",
    "                    'source': line_dict['source']\n",
    "                }\n",
    "                record.update(annotation)\n",
    "                records.append(record)\n",
    "    return pd.DataFrame(records)"
   ]
  },
  {
   "cell_type": "code",
   "execution_count": 3,
   "metadata": {},
   "outputs": [],
   "source": [
    "df = read_dataset(DATASET_PATH)"
   ]
  },
  {
   "cell_type": "code",
   "execution_count": 4,
   "metadata": {},
   "outputs": [
    {
     "data": {
      "text/plain": [
       "(538100, 31)"
      ]
     },
     "execution_count": 4,
     "metadata": {},
     "output_type": "execute_result"
    }
   ],
   "source": [
    "df.shape"
   ]
  },
  {
   "cell_type": "code",
   "execution_count": 5,
   "metadata": {},
   "outputs": [
    {
     "data": {
      "text/plain": [
       "Index(['comment', 'id', 'comment_id', 'source', 'toxic_score', 'is_profane',\n",
       "       'is_threat', 'is_identity_attack', 'is_insult', 'is_sexual_harassment',\n",
       "       'gender', 'gender_other', 'race', 'technology_impact',\n",
       "       'uses_media_social', 'uses_media_news', 'uses_media_video',\n",
       "       'uses_media_forums', 'personally_seen_toxic_content',\n",
       "       'personally_been_target', 'identify_as_transgender',\n",
       "       'toxic_comments_problem', 'education', 'age_range', 'lgbtq_status',\n",
       "       'political_affilation', 'is_parent', 'religion_important',\n",
       "       'fine_to_see_online', 'remove_from_online', 'worker_id'],\n",
       "      dtype='object')"
      ]
     },
     "execution_count": 5,
     "metadata": {},
     "output_type": "execute_result"
    }
   ],
   "source": [
    "df.columns"
   ]
  },
  {
   "cell_type": "code",
   "execution_count": 6,
   "metadata": {},
   "outputs": [
    {
     "data": {
      "text/html": [
       "<div>\n",
       "<style scoped>\n",
       "    .dataframe tbody tr th:only-of-type {\n",
       "        vertical-align: middle;\n",
       "    }\n",
       "\n",
       "    .dataframe tbody tr th {\n",
       "        vertical-align: top;\n",
       "    }\n",
       "\n",
       "    .dataframe thead th {\n",
       "        text-align: right;\n",
       "    }\n",
       "</style>\n",
       "<table border=\"1\" class=\"dataframe\">\n",
       "  <thead>\n",
       "    <tr style=\"text-align: right;\">\n",
       "      <th></th>\n",
       "      <th>id</th>\n",
       "      <th>comment_id</th>\n",
       "      <th>source</th>\n",
       "      <th>toxic_score</th>\n",
       "      <th>is_profane</th>\n",
       "      <th>is_threat</th>\n",
       "      <th>is_identity_attack</th>\n",
       "      <th>is_insult</th>\n",
       "      <th>is_sexual_harassment</th>\n",
       "      <th>gender</th>\n",
       "      <th>...</th>\n",
       "      <th>identify_as_transgender</th>\n",
       "      <th>toxic_comments_problem</th>\n",
       "      <th>education</th>\n",
       "      <th>age_range</th>\n",
       "      <th>lgbtq_status</th>\n",
       "      <th>political_affilation</th>\n",
       "      <th>is_parent</th>\n",
       "      <th>religion_important</th>\n",
       "      <th>fine_to_see_online</th>\n",
       "      <th>remove_from_online</th>\n",
       "    </tr>\n",
       "  </thead>\n",
       "  <tbody>\n",
       "    <tr>\n",
       "      <th>0</th>\n",
       "      <td>0</td>\n",
       "      <td>1135_1</td>\n",
       "      <td>twitter</td>\n",
       "      <td>0</td>\n",
       "      <td>False</td>\n",
       "      <td>False</td>\n",
       "      <td>False</td>\n",
       "      <td>False</td>\n",
       "      <td>False</td>\n",
       "      <td>Male</td>\n",
       "      <td>...</td>\n",
       "      <td>No</td>\n",
       "      <td>Rarely a problem</td>\n",
       "      <td>Bachelor's degree in college (4-year)</td>\n",
       "      <td>45 - 54</td>\n",
       "      <td>Heterosexual</td>\n",
       "      <td>Conservative</td>\n",
       "      <td>Yes</td>\n",
       "      <td>Very important</td>\n",
       "      <td>This is fine for me to see</td>\n",
       "      <td>This comment should be allowed</td>\n",
       "    </tr>\n",
       "    <tr>\n",
       "      <th>1</th>\n",
       "      <td>0</td>\n",
       "      <td>1135_1</td>\n",
       "      <td>twitter</td>\n",
       "      <td>0</td>\n",
       "      <td>False</td>\n",
       "      <td>False</td>\n",
       "      <td>False</td>\n",
       "      <td>False</td>\n",
       "      <td>False</td>\n",
       "      <td>Female</td>\n",
       "      <td>...</td>\n",
       "      <td>No</td>\n",
       "      <td>Frequently a problem</td>\n",
       "      <td>Bachelor's degree in college (4-year)</td>\n",
       "      <td>25 - 34</td>\n",
       "      <td>Heterosexual</td>\n",
       "      <td>Liberal</td>\n",
       "      <td>No</td>\n",
       "      <td>Not important</td>\n",
       "      <td>This is fine for me to see</td>\n",
       "      <td>This comment should be allowed</td>\n",
       "    </tr>\n",
       "    <tr>\n",
       "      <th>2</th>\n",
       "      <td>0</td>\n",
       "      <td>1135_1</td>\n",
       "      <td>twitter</td>\n",
       "      <td>0</td>\n",
       "      <td>False</td>\n",
       "      <td>False</td>\n",
       "      <td>False</td>\n",
       "      <td>False</td>\n",
       "      <td>False</td>\n",
       "      <td>Female</td>\n",
       "      <td>...</td>\n",
       "      <td>No</td>\n",
       "      <td>Frequently a problem</td>\n",
       "      <td>Some college but no degree</td>\n",
       "      <td>25 - 34</td>\n",
       "      <td>Heterosexual</td>\n",
       "      <td>Prefer not to say</td>\n",
       "      <td>No</td>\n",
       "      <td>Not important</td>\n",
       "      <td>This is fine for me to see</td>\n",
       "      <td>This comment should be allowed</td>\n",
       "    </tr>\n",
       "    <tr>\n",
       "      <th>3</th>\n",
       "      <td>0</td>\n",
       "      <td>1135_1</td>\n",
       "      <td>twitter</td>\n",
       "      <td>0</td>\n",
       "      <td>False</td>\n",
       "      <td>False</td>\n",
       "      <td>False</td>\n",
       "      <td>False</td>\n",
       "      <td>False</td>\n",
       "      <td>Female</td>\n",
       "      <td>...</td>\n",
       "      <td>No</td>\n",
       "      <td>Occasionally a problem</td>\n",
       "      <td>Bachelor's degree in college (4-year)</td>\n",
       "      <td>55 - 64</td>\n",
       "      <td>Heterosexual</td>\n",
       "      <td>Liberal</td>\n",
       "      <td>No</td>\n",
       "      <td>Not important</td>\n",
       "      <td>This is fine for me to see</td>\n",
       "      <td>This comment should be allowed</td>\n",
       "    </tr>\n",
       "    <tr>\n",
       "      <th>4</th>\n",
       "      <td>0</td>\n",
       "      <td>1135_1</td>\n",
       "      <td>twitter</td>\n",
       "      <td>0</td>\n",
       "      <td>False</td>\n",
       "      <td>False</td>\n",
       "      <td>False</td>\n",
       "      <td>False</td>\n",
       "      <td>False</td>\n",
       "      <td>Male</td>\n",
       "      <td>...</td>\n",
       "      <td>No</td>\n",
       "      <td>Very frequently a problem</td>\n",
       "      <td>Bachelor's degree in college (4-year)</td>\n",
       "      <td>25 - 34</td>\n",
       "      <td>Heterosexual</td>\n",
       "      <td>Liberal</td>\n",
       "      <td>No</td>\n",
       "      <td>Not important</td>\n",
       "      <td>It depends on the context</td>\n",
       "      <td>This comment should be allowed</td>\n",
       "    </tr>\n",
       "  </tbody>\n",
       "</table>\n",
       "<p>5 rows × 29 columns</p>\n",
       "</div>"
      ],
      "text/plain": [
       "   id comment_id   source  toxic_score  is_profane  is_threat  \\\n",
       "0   0     1135_1  twitter            0       False      False   \n",
       "1   0     1135_1  twitter            0       False      False   \n",
       "2   0     1135_1  twitter            0       False      False   \n",
       "3   0     1135_1  twitter            0       False      False   \n",
       "4   0     1135_1  twitter            0       False      False   \n",
       "\n",
       "   is_identity_attack  is_insult  is_sexual_harassment  gender  ...  \\\n",
       "0               False      False                 False    Male  ...   \n",
       "1               False      False                 False  Female  ...   \n",
       "2               False      False                 False  Female  ...   \n",
       "3               False      False                 False  Female  ...   \n",
       "4               False      False                 False    Male  ...   \n",
       "\n",
       "  identify_as_transgender     toxic_comments_problem  \\\n",
       "0                      No           Rarely a problem   \n",
       "1                      No       Frequently a problem   \n",
       "2                      No       Frequently a problem   \n",
       "3                      No     Occasionally a problem   \n",
       "4                      No  Very frequently a problem   \n",
       "\n",
       "                               education  age_range  lgbtq_status  \\\n",
       "0  Bachelor's degree in college (4-year)    45 - 54  Heterosexual   \n",
       "1  Bachelor's degree in college (4-year)    25 - 34  Heterosexual   \n",
       "2             Some college but no degree    25 - 34  Heterosexual   \n",
       "3  Bachelor's degree in college (4-year)    55 - 64  Heterosexual   \n",
       "4  Bachelor's degree in college (4-year)    25 - 34  Heterosexual   \n",
       "\n",
       "   political_affilation  is_parent  religion_important  \\\n",
       "0          Conservative        Yes      Very important   \n",
       "1               Liberal         No       Not important   \n",
       "2     Prefer not to say         No       Not important   \n",
       "3               Liberal         No       Not important   \n",
       "4               Liberal         No       Not important   \n",
       "\n",
       "           fine_to_see_online              remove_from_online  \n",
       "0  This is fine for me to see  This comment should be allowed  \n",
       "1  This is fine for me to see  This comment should be allowed  \n",
       "2  This is fine for me to see  This comment should be allowed  \n",
       "3  This is fine for me to see  This comment should be allowed  \n",
       "4   It depends on the context  This comment should be allowed  \n",
       "\n",
       "[5 rows x 29 columns]"
      ]
     },
     "execution_count": 6,
     "metadata": {},
     "output_type": "execute_result"
    }
   ],
   "source": [
    "df[[c for c in df.columns if c not in ['comment', 'worker_id']]].head()"
   ]
  },
  {
   "cell_type": "code",
   "execution_count": 7,
   "metadata": {},
   "outputs": [
    {
     "data": {
      "text/plain": [
       "0    281511\n",
       "1     99973\n",
       "2     71347\n",
       "3     50300\n",
       "4     34969\n",
       "Name: toxic_score, dtype: int64"
      ]
     },
     "execution_count": 7,
     "metadata": {},
     "output_type": "execute_result"
    }
   ],
   "source": [
    "df['toxic_score'].value_counts()"
   ]
  },
  {
   "cell_type": "code",
   "execution_count": 8,
   "metadata": {},
   "outputs": [
    {
     "data": {
      "text/plain": [
       "count    17280.000000\n",
       "mean        31.140046\n",
       "std         20.158440\n",
       "min         20.000000\n",
       "25%         20.000000\n",
       "50%         20.000000\n",
       "75%         40.000000\n",
       "max        240.000000\n",
       "Name: worker_id, dtype: float64"
      ]
     },
     "execution_count": 8,
     "metadata": {},
     "output_type": "execute_result"
    }
   ],
   "source": [
    "df['worker_id'].value_counts().describe()"
   ]
  },
  {
   "cell_type": "code",
   "execution_count": 9,
   "metadata": {},
   "outputs": [
    {
     "data": {
      "text/plain": [
       "count    107620.0\n",
       "mean          5.0\n",
       "std           0.0\n",
       "min           5.0\n",
       "25%           5.0\n",
       "50%           5.0\n",
       "75%           5.0\n",
       "max           5.0\n",
       "Name: comment_id, dtype: float64"
      ]
     },
     "execution_count": 9,
     "metadata": {},
     "output_type": "execute_result"
    }
   ],
   "source": [
    "df['comment_id'].value_counts().describe()"
   ]
  },
  {
   "cell_type": "code",
   "execution_count": 10,
   "metadata": {},
   "outputs": [
    {
     "data": {
      "text/plain": [
       "count    538100.000000\n",
       "mean        112.083906\n",
       "std         138.709632\n",
       "min           3.000000\n",
       "25%          48.000000\n",
       "50%          80.000000\n",
       "75%         139.000000\n",
       "max        7754.000000\n",
       "Name: comment, dtype: float64"
      ]
     },
     "execution_count": 10,
     "metadata": {},
     "output_type": "execute_result"
    }
   ],
   "source": [
    "df['comment'].str.len().describe()"
   ]
  },
  {
   "attachments": {},
   "cell_type": "markdown",
   "metadata": {},
   "source": [
    "### Binarizing labels\n",
    "\n",
    "Kumar et al. use different aggregation strategies, one binarized and one keeping the original 5-point scale.\n",
    "\n",
    "For aggregation of the 5 ratings the comment, they use the median score across ratings.\n",
    "\n",
    "For binarization, they “convert every comment’s rating distribution into a binary verdict. We treat every comment with a median Likert score of “Moderately toxic” or higher as toxic and all other comments as benign.” (Kumar et al., 2021, p. 10)\n",
    "\n",
    "When predicting decisions for individual annotators, we would not need to do this type of aggregation or binarization. However, it makes the prediciton task simpler."
   ]
  },
  {
   "cell_type": "code",
   "execution_count": 11,
   "metadata": {},
   "outputs": [],
   "source": [
    "df['toxic'] = df['toxic_score'].apply(lambda x: 1 if x > 1 else 0)"
   ]
  },
  {
   "cell_type": "code",
   "execution_count": 12,
   "metadata": {},
   "outputs": [
    {
     "data": {
      "text/plain": [
       "0    381484\n",
       "1    156616\n",
       "Name: toxic, dtype: int64"
      ]
     },
     "execution_count": 12,
     "metadata": {},
     "output_type": "execute_result"
    }
   ],
   "source": [
    "df['toxic'].value_counts()"
   ]
  },
  {
   "attachments": {},
   "cell_type": "markdown",
   "metadata": {},
   "source": [
    "## Annotation statistics after preprocessing"
   ]
  },
  {
   "cell_type": "code",
   "execution_count": 13,
   "metadata": {},
   "outputs": [],
   "source": [
    "# exclude annotators who are underage\n",
    "df_processed = df[df['age_range'] != 'Under 18']"
   ]
  },
  {
   "cell_type": "code",
   "execution_count": 14,
   "metadata": {},
   "outputs": [
    {
     "data": {
      "text/plain": [
       "count    17275.000000\n",
       "mean        31.142113\n",
       "std         20.160532\n",
       "min         20.000000\n",
       "25%         20.000000\n",
       "50%         20.000000\n",
       "75%         40.000000\n",
       "max        240.000000\n",
       "dtype: float64"
      ]
     },
     "execution_count": 14,
     "metadata": {},
     "output_type": "execute_result"
    }
   ],
   "source": [
    "df_processed.groupby('worker_id').size().describe()"
   ]
  },
  {
   "cell_type": "code",
   "execution_count": 15,
   "metadata": {},
   "outputs": [
    {
     "data": {
      "text/plain": [
       "5    107500\n",
       "4       120\n",
       "dtype: int64"
      ]
     },
     "execution_count": 15,
     "metadata": {},
     "output_type": "execute_result"
    }
   ],
   "source": [
    "# how many comments with less than 5 annotations?\n",
    "df_processed.groupby('comment_id').size().value_counts()"
   ]
  },
  {
   "attachments": {},
   "cell_type": "markdown",
   "metadata": {},
   "source": [
    "It is only a small fraction, will accept. Also no annotator has less than 20 annotations"
   ]
  },
  {
   "attachments": {},
   "cell_type": "markdown",
   "metadata": {},
   "source": [
    "## Random Sample"
   ]
  },
  {
   "cell_type": "code",
   "execution_count": 16,
   "metadata": {},
   "outputs": [],
   "source": [
    "def create_sample(\n",
    "        df,\n",
    "        n_participants,\n",
    "        do_extend=True\n",
    "    ):\n",
    "\n",
    "    samples = []\n",
    "    indecies = []\n",
    "    participants = set()\n",
    "\n",
    "    sample_df = pd.DataFrame(df[['comment_id', 'comment', 'worker_id', 'toxic']])\n",
    "    examples = sample_df \\\n",
    "                .groupby(['comment_id']) \\\n",
    "                .agg({\n",
    "                    'comment': 'first', \n",
    "                    'worker_id': list,\n",
    "                    'toxic': list\n",
    "                }) \\\n",
    "            .reset_index()\n",
    "\n",
    "    while len(participants) < n_participants:\n",
    "        example = examples[~examples.index.isin(indecies)] \\\n",
    "            .sample(random_state=3206589348)\n",
    "        indecies.append(example.index.item())\n",
    "        participants |= set(example['worker_id'].item())\n",
    "        samples.append(example)\n",
    "\n",
    "    sample = pd.concat(samples)\n",
    "\n",
    "    if do_extend:\n",
    "        # extend sample with examples that are annotated only by \n",
    "        # annotators who are already part of the sample\n",
    "        indecies = sample.index\n",
    "        not_yet_sample = examples[~examples.index.isin(indecies)]\n",
    "        addition = not_yet_sample[not_yet_sample['worker_id'] \\\n",
    "            .apply(lambda x: all([annotator in participants for annotator in x]))]\n",
    "        sample = pd.concat([sample, addition])\n",
    "\n",
    "    return sample"
   ]
  },
  {
   "cell_type": "code",
   "execution_count": 17,
   "metadata": {},
   "outputs": [],
   "source": [
    "sample = create_sample(df_processed, n_participants=5000)"
   ]
  },
  {
   "cell_type": "code",
   "execution_count": 19,
   "metadata": {},
   "outputs": [],
   "source": [
    "exploded_sample = sample.explode(['worker_id', 'toxic'])\n",
    "exploded_sample = exploded_sample.reset_index(drop=True).rename(columns={'comment_id': 'id'})"
   ]
  },
  {
   "cell_type": "code",
   "execution_count": 25,
   "metadata": {},
   "outputs": [],
   "source": [
    "exploded_sample.to_csv(SAMPLE_PATH, index=False)"
   ]
  }
 ],
 "metadata": {
  "interpreter": {
   "hash": "5cdc63a60fa921ac5703605bf6fd5c1d87d89afa5fd45cd912515fa0a02db395"
  },
  "kernelspec": {
   "display_name": "Python 3.7.13 ('sociodemographic-softlabels-Sh-apy0E-py3.7')",
   "language": "python",
   "name": "python3"
  },
  "language_info": {
   "codemirror_mode": {
    "name": "ipython",
    "version": 3
   },
   "file_extension": ".py",
   "mimetype": "text/x-python",
   "name": "python",
   "nbconvert_exporter": "python",
   "pygments_lexer": "ipython3",
   "version": "3.7.16"
  },
  "orig_nbformat": 4
 },
 "nbformat": 4,
 "nbformat_minor": 2
}
