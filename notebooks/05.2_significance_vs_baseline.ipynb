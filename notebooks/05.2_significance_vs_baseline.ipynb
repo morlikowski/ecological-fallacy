{
 "cells": [
  {
   "cell_type": "code",
   "execution_count": 1,
   "metadata": {},
   "outputs": [],
   "source": [
    "import ast\n",
    "\n",
    "import numpy as np\n",
    "import pandas as pd\n",
    "\n",
    "from sociodemographic_softlabels.run import map_annotators_to_groups\n",
    "from sociodemographic_softlabels.datasets import kumar\n",
    "from sociodemographic_softlabels.analysis.replicability import (\n",
    "    significance_test_per_group,\n",
    "    k_estimator_groups\n",
    ")\n",
    "\n",
    "SAMPLE_PATH = \"../data/processed/kumar/sample_5000_annotators_v3.csv\"\n",
    "DATASET_PATH = 'kumar_dataset.json'"
   ]
  },
  {
   "cell_type": "markdown",
   "metadata": {},
   "source": [
    "## Load Data"
   ]
  },
  {
   "cell_type": "code",
   "execution_count": 2,
   "metadata": {},
   "outputs": [],
   "source": [
    "df = pd.concat([\n",
    "    pd.read_csv('../experiments/0.2-baseline/result.csv'),\n",
    "    pd.read_csv('../experiments/1.1-age/result.csv'),\n",
    "    pd.read_csv('../experiments/1.2-gender/result.csv'),\n",
    "    pd.read_csv('../experiments/1.3-education/result.csv'),\n",
    "    pd.read_csv('../experiments/1.4-lgbq/result.csv'),\n",
    "]).rename(lambda c: c if not c.startswith('eval_') else c[5:], axis = 1).reset_index(drop=True)\n",
    "\n",
    "df['attributes'] = df['attributes'].map({\n",
    "        \"['ALL_0']\": 'same layer',\n",
    "        \"['ALL_0', 'ALL_1', 'ALL_2', 'ALL_3', 'ALL_4']\": '5 same layers',\n",
    "        '[]': 'no extra layers',\n",
    "        'Not applicable': 'single-task',\n",
    "        \"['gender']\": 'gender',\n",
    "        \"['lgbtq_status']\": 'lgbq',\n",
    "        \"['education']\": 'education',\n",
    "        \"['age_range']\": 'age',\n",
    "        })\n",
    "\n",
    "df[['predictions_per_annotator', 'labels_raw', 'labels_per_annotator',  'annotator_indecies']] = df[['predictions_per_annotator', 'labels_raw', 'labels_per_annotator',  'annotator_indecies']].applymap(lambda x: x.replace('nan', 'None')).applymap(ast.literal_eval).applymap(lambda x: np.array(x, dtype='float'))"
   ]
  },
  {
   "cell_type": "code",
   "execution_count": 3,
   "metadata": {},
   "outputs": [
    {
     "data": {
      "application/vnd.jupyter.widget-view+json": {
       "model_id": "d0b02a5d8f44499495ace3e85c6db311",
       "version_major": 2,
       "version_minor": 0
      },
      "text/plain": [
       "  0%|          | 0/23 [00:00<?, ?ba/s]"
      ]
     },
     "metadata": {},
     "output_type": "display_data"
    }
   ],
   "source": [
    "all_data = kumar.Dataset.load(SAMPLE_PATH, metadata_path=DATASET_PATH)\n",
    "\n",
    "to_groups = map_annotators_to_groups(\n",
    "        all_data.annotators_mapping,\n",
    "        all_data.sociodemographic_mapping,\n",
    "        [\n",
    "            \"age_range\",\n",
    "            \"lgbtq_status\",\n",
    "            \"education\",\n",
    "            \"gender\"\n",
    "        ]\n",
    "    )"
   ]
  },
  {
   "cell_type": "code",
   "execution_count": 4,
   "metadata": {},
   "outputs": [
    {
     "data": {
      "text/html": [
       "<div>\n",
       "<style scoped>\n",
       "    .dataframe tbody tr th:only-of-type {\n",
       "        vertical-align: middle;\n",
       "    }\n",
       "\n",
       "    .dataframe tbody tr th {\n",
       "        vertical-align: top;\n",
       "    }\n",
       "\n",
       "    .dataframe thead th {\n",
       "        text-align: right;\n",
       "    }\n",
       "</style>\n",
       "<table border=\"1\" class=\"dataframe\">\n",
       "  <thead>\n",
       "    <tr style=\"text-align: right;\">\n",
       "      <th></th>\n",
       "      <th>timestamp</th>\n",
       "      <th>loss</th>\n",
       "      <th>religion_important - Not too important - individual_0_precision</th>\n",
       "      <th>religion_important - Not too important - individual_0_recall</th>\n",
       "      <th>religion_important - Not too important - individual_0_f1-score</th>\n",
       "      <th>religion_important - Not too important - individual_0_support</th>\n",
       "      <th>religion_important - Not too important - individual_1_precision</th>\n",
       "      <th>religion_important - Not too important - individual_1_recall</th>\n",
       "      <th>religion_important - Not too important - individual_1_f1-score</th>\n",
       "      <th>religion_important - Not too important - individual_1_support</th>\n",
       "      <th>...</th>\n",
       "      <th>attributes</th>\n",
       "      <th>map_ids_to_attributes</th>\n",
       "      <th>setting</th>\n",
       "      <th>output_dir</th>\n",
       "      <th>while_train</th>\n",
       "      <th>do_stack_groups</th>\n",
       "      <th>do_random_assignment</th>\n",
       "      <th>group_layers_depth</th>\n",
       "      <th>random_seed</th>\n",
       "      <th>split</th>\n",
       "    </tr>\n",
       "  </thead>\n",
       "  <tbody>\n",
       "    <tr>\n",
       "      <th>0</th>\n",
       "      <td>2023-05-18 14:17:53.858165</td>\n",
       "      <td>0.0</td>\n",
       "      <td>0.803314</td>\n",
       "      <td>0.808934</td>\n",
       "      <td>0.806114</td>\n",
       "      <td>1858</td>\n",
       "      <td>0.401349</td>\n",
       "      <td>0.392739</td>\n",
       "      <td>0.396997</td>\n",
       "      <td>606</td>\n",
       "      <td>...</td>\n",
       "      <td>no extra layers</td>\n",
       "      <td>[]</td>\n",
       "      <td>K_FOLD</td>\n",
       "      <td>./models/custom_mt_model_multilabel</td>\n",
       "      <td>False</td>\n",
       "      <td>True</td>\n",
       "      <td>False</td>\n",
       "      <td>1</td>\n",
       "      <td>2803636207</td>\n",
       "      <td>0</td>\n",
       "    </tr>\n",
       "  </tbody>\n",
       "</table>\n",
       "<p>1 rows × 1138 columns</p>\n",
       "</div>"
      ],
      "text/plain": [
       "                    timestamp  loss  \\\n",
       "0  2023-05-18 14:17:53.858165   0.0   \n",
       "\n",
       "   religion_important - Not too important - individual_0_precision  \\\n",
       "0                                           0.803314                 \n",
       "\n",
       "   religion_important - Not too important - individual_0_recall  \\\n",
       "0                                           0.808934              \n",
       "\n",
       "   religion_important - Not too important - individual_0_f1-score  \\\n",
       "0                                           0.806114                \n",
       "\n",
       "   religion_important - Not too important - individual_0_support  \\\n",
       "0                                               1858               \n",
       "\n",
       "   religion_important - Not too important - individual_1_precision  \\\n",
       "0                                           0.401349                 \n",
       "\n",
       "   religion_important - Not too important - individual_1_recall  \\\n",
       "0                                           0.392739              \n",
       "\n",
       "   religion_important - Not too important - individual_1_f1-score  \\\n",
       "0                                           0.396997                \n",
       "\n",
       "   religion_important - Not too important - individual_1_support  ...  \\\n",
       "0                                                606              ...   \n",
       "\n",
       "        attributes  map_ids_to_attributes  setting  \\\n",
       "0  no extra layers                     []   K_FOLD   \n",
       "\n",
       "                            output_dir  while_train  do_stack_groups  \\\n",
       "0  ./models/custom_mt_model_multilabel        False             True   \n",
       "\n",
       "   do_random_assignment  group_layers_depth  random_seed  split  \n",
       "0                 False                   1   2803636207      0  \n",
       "\n",
       "[1 rows x 1138 columns]"
      ]
     },
     "execution_count": 4,
     "metadata": {},
     "output_type": "execute_result"
    }
   ],
   "source": [
    "df[(df['random_seed'] == 2803636207) & (df['split'] == 0) & (df['attributes'] == 'no extra layers') & (df['do_random_assignment'] == False)]"
   ]
  },
  {
   "cell_type": "markdown",
   "metadata": {},
   "source": [
    "## Significance Tests"
   ]
  },
  {
   "attachments": {},
   "cell_type": "markdown",
   "metadata": {},
   "source": [
    "### Gender"
   ]
  },
  {
   "cell_type": "code",
   "execution_count": 5,
   "metadata": {},
   "outputs": [
    {
     "name": "stdout",
     "output_type": "stream",
     "text": [
      "\n",
      "\n",
      "Seed: 2803636207 - Split: 0 - gender - Group: Male\n",
      "data shape:  (11861, 1)\n",
      "sample size: 5930\n"
     ]
    },
    {
     "name": "stderr",
     "output_type": "stream",
     "text": [
      "bootstrap: 100%|████████████████████████████| 1000/1000 [00:15<00:00, 65.93it/s]\n"
     ]
    },
    {
     "name": "stdout",
     "output_type": "stream",
     "text": [
      "\n",
      "count sample diff f1   is twice tot diff f1....... 299  / 1000    p < 0.299  \n",
      "count sample diff prec is twice tot diff prec..... 226  / 1000    p < 0.226  \n",
      "count sample diff rec  is twice tot diff rec ..... 366  / 1000    p < 0.366  \n",
      "count sample diff acc  is twice tot diff acc...... 196  / 1000    p < 0.196  \n",
      "\n",
      "\n",
      "Seed: 2803636207 - Split: 0 - gender - Group: Female\n",
      "data shape:  (13664, 1)\n",
      "sample size: 6832\n"
     ]
    },
    {
     "name": "stderr",
     "output_type": "stream",
     "text": [
      "bootstrap: 100%|████████████████████████████| 1000/1000 [00:16<00:00, 60.26it/s]\n"
     ]
    },
    {
     "name": "stdout",
     "output_type": "stream",
     "text": [
      "\n",
      "count sample diff f1   is twice tot diff f1....... 713  / 1000    p < 0.713  \n",
      "count sample diff prec is twice tot diff prec..... 818  / 1000    p < 0.818  \n",
      "count sample diff rec  is twice tot diff rec ..... 543  / 1000    p < 0.543  \n",
      "count sample diff acc  is twice tot diff acc...... 951  / 1000    p < 0.951  \u001b[38;5;8m!\u001b[0m\n",
      "\n",
      "\n",
      "Seed: 2803636207 - Split: 0 - gender - Group: Nonbinary\n",
      "data shape:  (120, 1)\n",
      "sample size: 60\n"
     ]
    },
    {
     "name": "stderr",
     "output_type": "stream",
     "text": [
      "bootstrap: 100%|███████████████████████████| 1000/1000 [00:04<00:00, 217.10it/s]\n"
     ]
    },
    {
     "name": "stdout",
     "output_type": "stream",
     "text": [
      "\n",
      "count sample diff f1   is twice tot diff f1....... 10   / 1000    p < 0.01   \u001b[38;5;9m*\u001b[0m\n",
      "count sample diff prec is twice tot diff prec..... 40   / 1000    p < 0.04   \u001b[38;5;9m*\u001b[0m\n",
      "count sample diff rec  is twice tot diff rec ..... 23   / 1000    p < 0.023  \u001b[38;5;9m*\u001b[0m\n",
      "count sample diff acc  is twice tot diff acc...... 2    / 1000    p < 0.002  \u001b[38;5;9m**\u001b[0m\n",
      "\n",
      "\n",
      "Seed: 2803636207 - Split: 1 - gender - Group: Male\n",
      "data shape:  (11912, 1)\n",
      "sample size: 5956\n"
     ]
    },
    {
     "name": "stderr",
     "output_type": "stream",
     "text": [
      "bootstrap: 100%|████████████████████████████| 1000/1000 [00:15<00:00, 66.43it/s]\n"
     ]
    },
    {
     "name": "stdout",
     "output_type": "stream",
     "text": [
      "\n",
      "count sample diff f1   is twice tot diff f1....... 860  / 1000    p < 0.86   \n",
      "count sample diff prec is twice tot diff prec..... 654  / 1000    p < 0.654  \n",
      "count sample diff rec  is twice tot diff rec ..... 935  / 1000    p < 0.935  \n",
      "count sample diff acc  is twice tot diff acc...... 537  / 1000    p < 0.537  \n",
      "\n",
      "\n",
      "Seed: 2803636207 - Split: 1 - gender - Group: Female\n",
      "data shape:  (13452, 1)\n",
      "sample size: 6726\n"
     ]
    },
    {
     "name": "stderr",
     "output_type": "stream",
     "text": [
      "bootstrap: 100%|████████████████████████████| 1000/1000 [00:16<00:00, 61.44it/s]\n"
     ]
    },
    {
     "name": "stdout",
     "output_type": "stream",
     "text": [
      "\n",
      "count sample diff f1   is twice tot diff f1....... 986  / 1000    p < 0.986  \u001b[38;5;8m!\u001b[0m\n",
      "count sample diff prec is twice tot diff prec..... 984  / 1000    p < 0.984  \u001b[38;5;8m!\u001b[0m\n",
      "count sample diff rec  is twice tot diff rec ..... 992  / 1000    p < 0.992  \u001b[38;5;8m!\u001b[0m\n",
      "count sample diff acc  is twice tot diff acc...... 917  / 1000    p < 0.917  \n",
      "\n",
      "\n",
      "Seed: 2803636207 - Split: 1 - gender - Group: Nonbinary\n",
      "data shape:  (122, 1)\n",
      "sample size: 61\n"
     ]
    },
    {
     "name": "stderr",
     "output_type": "stream",
     "text": [
      "bootstrap: 100%|███████████████████████████| 1000/1000 [00:04<00:00, 215.21it/s]\n"
     ]
    },
    {
     "name": "stdout",
     "output_type": "stream",
     "text": [
      "\n",
      "count sample diff f1   is twice tot diff f1....... 820  / 1000    p < 0.82   \n",
      "count sample diff prec is twice tot diff prec..... 815  / 1000    p < 0.815  \n",
      "count sample diff rec  is twice tot diff rec ..... 776  / 1000    p < 0.776  \n",
      "count sample diff acc  is twice tot diff acc...... 866  / 1000    p < 0.866  \n",
      "\n",
      "\n",
      "Seed: 2803636207 - Split: 2 - gender - Group: Male\n",
      "data shape:  (11952, 1)\n",
      "sample size: 5976\n"
     ]
    },
    {
     "name": "stderr",
     "output_type": "stream",
     "text": [
      "bootstrap: 100%|████████████████████████████| 1000/1000 [00:15<00:00, 65.15it/s]\n"
     ]
    },
    {
     "name": "stdout",
     "output_type": "stream",
     "text": [
      "\n",
      "count sample diff f1   is twice tot diff f1....... 989  / 1000    p < 0.989  \u001b[38;5;8m!\u001b[0m\n",
      "count sample diff prec is twice tot diff prec..... 963  / 1000    p < 0.963  \u001b[38;5;8m!\u001b[0m\n",
      "count sample diff rec  is twice tot diff rec ..... 991  / 1000    p < 0.991  \u001b[38;5;8m!\u001b[0m\n",
      "count sample diff acc  is twice tot diff acc...... 930  / 1000    p < 0.93   \n",
      "\n",
      "\n",
      "Seed: 2803636207 - Split: 2 - gender - Group: Female\n",
      "data shape:  (13589, 1)\n",
      "sample size: 6794\n"
     ]
    },
    {
     "name": "stderr",
     "output_type": "stream",
     "text": [
      "bootstrap: 100%|████████████████████████████| 1000/1000 [00:17<00:00, 58.31it/s]\n"
     ]
    },
    {
     "name": "stdout",
     "output_type": "stream",
     "text": [
      "\n",
      "count sample diff f1   is twice tot diff f1....... 999  / 1000    p < 0.999  \u001b[38;5;8m!\u001b[0m\n",
      "count sample diff prec is twice tot diff prec..... 999  / 1000    p < 0.999  \u001b[38;5;8m!\u001b[0m\n",
      "count sample diff rec  is twice tot diff rec ..... 999  / 1000    p < 0.999  \u001b[38;5;8m!\u001b[0m\n",
      "count sample diff acc  is twice tot diff acc...... 999  / 1000    p < 0.999  \u001b[38;5;8m!\u001b[0m\n",
      "\n",
      "\n",
      "Seed: 2803636207 - Split: 2 - gender - Group: Nonbinary\n",
      "data shape:  (114, 1)\n",
      "sample size: 57\n"
     ]
    },
    {
     "name": "stderr",
     "output_type": "stream",
     "text": [
      "bootstrap:   0%|                                       | 0/1000 [00:00<?, ?it/s]/home/matthias/.cache/pypoetry/virtualenvs/sociodemographic-softlabels-Sh-apy0E-py3.7/lib/python3.7/site-packages/sklearn/metrics/_classification.py:1318: UndefinedMetricWarning: Precision is ill-defined and being set to 0.0 in labels with no predicted samples. Use `zero_division` parameter to control this behavior.\n",
      "  _warn_prf(average, modifier, msg_start, len(result))\n",
      "/home/matthias/.cache/pypoetry/virtualenvs/sociodemographic-softlabels-Sh-apy0E-py3.7/lib/python3.7/site-packages/sklearn/metrics/_classification.py:1318: UndefinedMetricWarning: Precision is ill-defined and being set to 0.0 in labels with no predicted samples. Use `zero_division` parameter to control this behavior.\n",
      "  _warn_prf(average, modifier, msg_start, len(result))\n",
      "/home/matthias/.cache/pypoetry/virtualenvs/sociodemographic-softlabels-Sh-apy0E-py3.7/lib/python3.7/site-packages/sklearn/metrics/_classification.py:1318: UndefinedMetricWarning: Precision is ill-defined and being set to 0.0 in labels with no predicted samples. Use `zero_division` parameter to control this behavior.\n",
      "  _warn_prf(average, modifier, msg_start, len(result))\n",
      "bootstrap:   2%|▋                            | 22/1000 [00:00<00:04, 217.86it/s]/home/matthias/.cache/pypoetry/virtualenvs/sociodemographic-softlabels-Sh-apy0E-py3.7/lib/python3.7/site-packages/sklearn/metrics/_classification.py:1318: UndefinedMetricWarning: Precision is ill-defined and being set to 0.0 in labels with no predicted samples. Use `zero_division` parameter to control this behavior.\n",
      "  _warn_prf(average, modifier, msg_start, len(result))\n",
      "/home/matthias/.cache/pypoetry/virtualenvs/sociodemographic-softlabels-Sh-apy0E-py3.7/lib/python3.7/site-packages/sklearn/metrics/_classification.py:1318: UndefinedMetricWarning: Precision is ill-defined and being set to 0.0 in labels with no predicted samples. Use `zero_division` parameter to control this behavior.\n",
      "  _warn_prf(average, modifier, msg_start, len(result))\n",
      "/home/matthias/.cache/pypoetry/virtualenvs/sociodemographic-softlabels-Sh-apy0E-py3.7/lib/python3.7/site-packages/sklearn/metrics/_classification.py:1318: UndefinedMetricWarning: Precision is ill-defined and being set to 0.0 in labels with no predicted samples. Use `zero_division` parameter to control this behavior.\n",
      "  _warn_prf(average, modifier, msg_start, len(result))\n",
      "/home/matthias/.cache/pypoetry/virtualenvs/sociodemographic-softlabels-Sh-apy0E-py3.7/lib/python3.7/site-packages/sklearn/metrics/_classification.py:1318: UndefinedMetricWarning: Precision is ill-defined and being set to 0.0 in labels with no predicted samples. Use `zero_division` parameter to control this behavior.\n",
      "  _warn_prf(average, modifier, msg_start, len(result))\n",
      "/home/matthias/.cache/pypoetry/virtualenvs/sociodemographic-softlabels-Sh-apy0E-py3.7/lib/python3.7/site-packages/sklearn/metrics/_classification.py:1318: UndefinedMetricWarning: Precision is ill-defined and being set to 0.0 in labels with no predicted samples. Use `zero_division` parameter to control this behavior.\n",
      "  _warn_prf(average, modifier, msg_start, len(result))\n",
      "/home/matthias/.cache/pypoetry/virtualenvs/sociodemographic-softlabels-Sh-apy0E-py3.7/lib/python3.7/site-packages/sklearn/metrics/_classification.py:1318: UndefinedMetricWarning: Precision is ill-defined and being set to 0.0 in labels with no predicted samples. Use `zero_division` parameter to control this behavior.\n",
      "  _warn_prf(average, modifier, msg_start, len(result))\n",
      "bootstrap:   4%|█▎                           | 44/1000 [00:00<00:04, 214.99it/s]/home/matthias/.cache/pypoetry/virtualenvs/sociodemographic-softlabels-Sh-apy0E-py3.7/lib/python3.7/site-packages/sklearn/metrics/_classification.py:1318: UndefinedMetricWarning: Precision is ill-defined and being set to 0.0 in labels with no predicted samples. Use `zero_division` parameter to control this behavior.\n",
      "  _warn_prf(average, modifier, msg_start, len(result))\n",
      "/home/matthias/.cache/pypoetry/virtualenvs/sociodemographic-softlabels-Sh-apy0E-py3.7/lib/python3.7/site-packages/sklearn/metrics/_classification.py:1318: UndefinedMetricWarning: Precision is ill-defined and being set to 0.0 in labels with no predicted samples. Use `zero_division` parameter to control this behavior.\n",
      "  _warn_prf(average, modifier, msg_start, len(result))\n",
      "bootstrap:   7%|█▉                           | 66/1000 [00:00<00:04, 216.53it/s]/home/matthias/.cache/pypoetry/virtualenvs/sociodemographic-softlabels-Sh-apy0E-py3.7/lib/python3.7/site-packages/sklearn/metrics/_classification.py:1318: UndefinedMetricWarning: Precision is ill-defined and being set to 0.0 in labels with no predicted samples. Use `zero_division` parameter to control this behavior.\n",
      "  _warn_prf(average, modifier, msg_start, len(result))\n",
      "bootstrap:   9%|██▌                          | 88/1000 [00:00<00:04, 217.18it/s]/home/matthias/.cache/pypoetry/virtualenvs/sociodemographic-softlabels-Sh-apy0E-py3.7/lib/python3.7/site-packages/sklearn/metrics/_classification.py:1318: UndefinedMetricWarning: Precision is ill-defined and being set to 0.0 in labels with no predicted samples. Use `zero_division` parameter to control this behavior.\n",
      "  _warn_prf(average, modifier, msg_start, len(result))\n",
      "/home/matthias/.cache/pypoetry/virtualenvs/sociodemographic-softlabels-Sh-apy0E-py3.7/lib/python3.7/site-packages/sklearn/metrics/_classification.py:1318: UndefinedMetricWarning: Precision is ill-defined and being set to 0.0 in labels with no predicted samples. Use `zero_division` parameter to control this behavior.\n",
      "  _warn_prf(average, modifier, msg_start, len(result))\n",
      "/home/matthias/.cache/pypoetry/virtualenvs/sociodemographic-softlabels-Sh-apy0E-py3.7/lib/python3.7/site-packages/sklearn/metrics/_classification.py:1318: UndefinedMetricWarning: Precision is ill-defined and being set to 0.0 in labels with no predicted samples. Use `zero_division` parameter to control this behavior.\n",
      "  _warn_prf(average, modifier, msg_start, len(result))\n",
      "/home/matthias/.cache/pypoetry/virtualenvs/sociodemographic-softlabels-Sh-apy0E-py3.7/lib/python3.7/site-packages/sklearn/metrics/_classification.py:1318: UndefinedMetricWarning: Precision is ill-defined and being set to 0.0 in labels with no predicted samples. Use `zero_division` parameter to control this behavior.\n",
      "  _warn_prf(average, modifier, msg_start, len(result))\n",
      "/home/matthias/.cache/pypoetry/virtualenvs/sociodemographic-softlabels-Sh-apy0E-py3.7/lib/python3.7/site-packages/sklearn/metrics/_classification.py:1318: UndefinedMetricWarning: Precision is ill-defined and being set to 0.0 in labels with no predicted samples. Use `zero_division` parameter to control this behavior.\n",
      "  _warn_prf(average, modifier, msg_start, len(result))\n",
      "bootstrap:  11%|███                         | 110/1000 [00:00<00:04, 201.01it/s]/home/matthias/.cache/pypoetry/virtualenvs/sociodemographic-softlabels-Sh-apy0E-py3.7/lib/python3.7/site-packages/sklearn/metrics/_classification.py:1318: UndefinedMetricWarning: Precision is ill-defined and being set to 0.0 in labels with no predicted samples. Use `zero_division` parameter to control this behavior.\n",
      "  _warn_prf(average, modifier, msg_start, len(result))\n",
      "/home/matthias/.cache/pypoetry/virtualenvs/sociodemographic-softlabels-Sh-apy0E-py3.7/lib/python3.7/site-packages/sklearn/metrics/_classification.py:1318: UndefinedMetricWarning: Precision is ill-defined and being set to 0.0 in labels with no predicted samples. Use `zero_division` parameter to control this behavior.\n",
      "  _warn_prf(average, modifier, msg_start, len(result))\n",
      "/home/matthias/.cache/pypoetry/virtualenvs/sociodemographic-softlabels-Sh-apy0E-py3.7/lib/python3.7/site-packages/sklearn/metrics/_classification.py:1318: UndefinedMetricWarning: Precision is ill-defined and being set to 0.0 in labels with no predicted samples. Use `zero_division` parameter to control this behavior.\n",
      "  _warn_prf(average, modifier, msg_start, len(result))\n",
      "/home/matthias/.cache/pypoetry/virtualenvs/sociodemographic-softlabels-Sh-apy0E-py3.7/lib/python3.7/site-packages/sklearn/metrics/_classification.py:1318: UndefinedMetricWarning: Precision is ill-defined and being set to 0.0 in labels with no predicted samples. Use `zero_division` parameter to control this behavior.\n",
      "  _warn_prf(average, modifier, msg_start, len(result))\n",
      "/home/matthias/.cache/pypoetry/virtualenvs/sociodemographic-softlabels-Sh-apy0E-py3.7/lib/python3.7/site-packages/sklearn/metrics/_classification.py:1318: UndefinedMetricWarning: Precision is ill-defined and being set to 0.0 in labels with no predicted samples. Use `zero_division` parameter to control this behavior.\n",
      "  _warn_prf(average, modifier, msg_start, len(result))\n",
      "bootstrap:  13%|███▋                        | 132/1000 [00:00<00:04, 206.82it/s]/home/matthias/.cache/pypoetry/virtualenvs/sociodemographic-softlabels-Sh-apy0E-py3.7/lib/python3.7/site-packages/sklearn/metrics/_classification.py:1318: UndefinedMetricWarning: Precision is ill-defined and being set to 0.0 in labels with no predicted samples. Use `zero_division` parameter to control this behavior.\n",
      "  _warn_prf(average, modifier, msg_start, len(result))\n",
      "/home/matthias/.cache/pypoetry/virtualenvs/sociodemographic-softlabels-Sh-apy0E-py3.7/lib/python3.7/site-packages/sklearn/metrics/_classification.py:1318: UndefinedMetricWarning: Precision is ill-defined and being set to 0.0 in labels with no predicted samples. Use `zero_division` parameter to control this behavior.\n",
      "  _warn_prf(average, modifier, msg_start, len(result))\n",
      "/home/matthias/.cache/pypoetry/virtualenvs/sociodemographic-softlabels-Sh-apy0E-py3.7/lib/python3.7/site-packages/sklearn/metrics/_classification.py:1318: UndefinedMetricWarning: Precision is ill-defined and being set to 0.0 in labels with no predicted samples. Use `zero_division` parameter to control this behavior.\n",
      "  _warn_prf(average, modifier, msg_start, len(result))\n",
      "/home/matthias/.cache/pypoetry/virtualenvs/sociodemographic-softlabels-Sh-apy0E-py3.7/lib/python3.7/site-packages/sklearn/metrics/_classification.py:1318: UndefinedMetricWarning: Precision is ill-defined and being set to 0.0 in labels with no predicted samples. Use `zero_division` parameter to control this behavior.\n",
      "  _warn_prf(average, modifier, msg_start, len(result))\n",
      "/home/matthias/.cache/pypoetry/virtualenvs/sociodemographic-softlabels-Sh-apy0E-py3.7/lib/python3.7/site-packages/sklearn/metrics/_classification.py:1318: UndefinedMetricWarning: Precision is ill-defined and being set to 0.0 in labels with no predicted samples. Use `zero_division` parameter to control this behavior.\n",
      "  _warn_prf(average, modifier, msg_start, len(result))\n",
      "bootstrap:  16%|████▎                       | 155/1000 [00:00<00:04, 211.17it/s]/home/matthias/.cache/pypoetry/virtualenvs/sociodemographic-softlabels-Sh-apy0E-py3.7/lib/python3.7/site-packages/sklearn/metrics/_classification.py:1318: UndefinedMetricWarning: Precision is ill-defined and being set to 0.0 in labels with no predicted samples. Use `zero_division` parameter to control this behavior.\n",
      "  _warn_prf(average, modifier, msg_start, len(result))\n",
      "bootstrap:  18%|████▉                       | 177/1000 [00:00<00:03, 213.43it/s]/home/matthias/.cache/pypoetry/virtualenvs/sociodemographic-softlabels-Sh-apy0E-py3.7/lib/python3.7/site-packages/sklearn/metrics/_classification.py:1318: UndefinedMetricWarning: Precision is ill-defined and being set to 0.0 in labels with no predicted samples. Use `zero_division` parameter to control this behavior.\n",
      "  _warn_prf(average, modifier, msg_start, len(result))\n",
      "/home/matthias/.cache/pypoetry/virtualenvs/sociodemographic-softlabels-Sh-apy0E-py3.7/lib/python3.7/site-packages/sklearn/metrics/_classification.py:1318: UndefinedMetricWarning: Precision is ill-defined and being set to 0.0 in labels with no predicted samples. Use `zero_division` parameter to control this behavior.\n",
      "  _warn_prf(average, modifier, msg_start, len(result))\n",
      "/home/matthias/.cache/pypoetry/virtualenvs/sociodemographic-softlabels-Sh-apy0E-py3.7/lib/python3.7/site-packages/sklearn/metrics/_classification.py:1318: UndefinedMetricWarning: Precision is ill-defined and being set to 0.0 in labels with no predicted samples. Use `zero_division` parameter to control this behavior.\n",
      "  _warn_prf(average, modifier, msg_start, len(result))\n",
      "/home/matthias/.cache/pypoetry/virtualenvs/sociodemographic-softlabels-Sh-apy0E-py3.7/lib/python3.7/site-packages/sklearn/metrics/_classification.py:1318: UndefinedMetricWarning: Precision is ill-defined and being set to 0.0 in labels with no predicted samples. Use `zero_division` parameter to control this behavior.\n",
      "  _warn_prf(average, modifier, msg_start, len(result))\n",
      "/home/matthias/.cache/pypoetry/virtualenvs/sociodemographic-softlabels-Sh-apy0E-py3.7/lib/python3.7/site-packages/sklearn/metrics/_classification.py:1318: UndefinedMetricWarning: Precision is ill-defined and being set to 0.0 in labels with no predicted samples. Use `zero_division` parameter to control this behavior.\n",
      "  _warn_prf(average, modifier, msg_start, len(result))\n",
      "bootstrap:  20%|█████▌                      | 199/1000 [00:00<00:03, 212.96it/s]/home/matthias/.cache/pypoetry/virtualenvs/sociodemographic-softlabels-Sh-apy0E-py3.7/lib/python3.7/site-packages/sklearn/metrics/_classification.py:1318: UndefinedMetricWarning: Precision is ill-defined and being set to 0.0 in labels with no predicted samples. Use `zero_division` parameter to control this behavior.\n",
      "  _warn_prf(average, modifier, msg_start, len(result))\n",
      "/home/matthias/.cache/pypoetry/virtualenvs/sociodemographic-softlabels-Sh-apy0E-py3.7/lib/python3.7/site-packages/sklearn/metrics/_classification.py:1318: UndefinedMetricWarning: Precision is ill-defined and being set to 0.0 in labels with no predicted samples. Use `zero_division` parameter to control this behavior.\n",
      "  _warn_prf(average, modifier, msg_start, len(result))\n",
      "bootstrap:  22%|██████▏                     | 221/1000 [00:01<00:03, 202.83it/s]/home/matthias/.cache/pypoetry/virtualenvs/sociodemographic-softlabels-Sh-apy0E-py3.7/lib/python3.7/site-packages/sklearn/metrics/_classification.py:1318: UndefinedMetricWarning: Precision is ill-defined and being set to 0.0 in labels with no predicted samples. Use `zero_division` parameter to control this behavior.\n",
      "  _warn_prf(average, modifier, msg_start, len(result))\n",
      "/home/matthias/.cache/pypoetry/virtualenvs/sociodemographic-softlabels-Sh-apy0E-py3.7/lib/python3.7/site-packages/sklearn/metrics/_classification.py:1318: UndefinedMetricWarning: Precision is ill-defined and being set to 0.0 in labels with no predicted samples. Use `zero_division` parameter to control this behavior.\n",
      "  _warn_prf(average, modifier, msg_start, len(result))\n",
      "bootstrap:  24%|██████▊                     | 243/1000 [00:01<00:03, 206.61it/s]/home/matthias/.cache/pypoetry/virtualenvs/sociodemographic-softlabels-Sh-apy0E-py3.7/lib/python3.7/site-packages/sklearn/metrics/_classification.py:1318: UndefinedMetricWarning: Precision is ill-defined and being set to 0.0 in labels with no predicted samples. Use `zero_division` parameter to control this behavior.\n",
      "  _warn_prf(average, modifier, msg_start, len(result))\n",
      "/home/matthias/.cache/pypoetry/virtualenvs/sociodemographic-softlabels-Sh-apy0E-py3.7/lib/python3.7/site-packages/sklearn/metrics/_classification.py:1318: UndefinedMetricWarning: Precision is ill-defined and being set to 0.0 in labels with no predicted samples. Use `zero_division` parameter to control this behavior.\n",
      "  _warn_prf(average, modifier, msg_start, len(result))\n",
      "/home/matthias/.cache/pypoetry/virtualenvs/sociodemographic-softlabels-Sh-apy0E-py3.7/lib/python3.7/site-packages/sklearn/metrics/_classification.py:1318: UndefinedMetricWarning: Precision is ill-defined and being set to 0.0 in labels with no predicted samples. Use `zero_division` parameter to control this behavior.\n",
      "  _warn_prf(average, modifier, msg_start, len(result))\n",
      "/home/matthias/.cache/pypoetry/virtualenvs/sociodemographic-softlabels-Sh-apy0E-py3.7/lib/python3.7/site-packages/sklearn/metrics/_classification.py:1318: UndefinedMetricWarning: Precision is ill-defined and being set to 0.0 in labels with no predicted samples. Use `zero_division` parameter to control this behavior.\n",
      "  _warn_prf(average, modifier, msg_start, len(result))\n",
      "/home/matthias/.cache/pypoetry/virtualenvs/sociodemographic-softlabels-Sh-apy0E-py3.7/lib/python3.7/site-packages/sklearn/metrics/_classification.py:1318: UndefinedMetricWarning: Precision is ill-defined and being set to 0.0 in labels with no predicted samples. Use `zero_division` parameter to control this behavior.\n",
      "  _warn_prf(average, modifier, msg_start, len(result))\n",
      "bootstrap:  26%|███████▍                    | 265/1000 [00:01<00:03, 208.09it/s]/home/matthias/.cache/pypoetry/virtualenvs/sociodemographic-softlabels-Sh-apy0E-py3.7/lib/python3.7/site-packages/sklearn/metrics/_classification.py:1318: UndefinedMetricWarning: Precision is ill-defined and being set to 0.0 in labels with no predicted samples. Use `zero_division` parameter to control this behavior.\n",
      "  _warn_prf(average, modifier, msg_start, len(result))\n",
      "bootstrap:  29%|████████                    | 287/1000 [00:01<00:03, 210.27it/s]/home/matthias/.cache/pypoetry/virtualenvs/sociodemographic-softlabels-Sh-apy0E-py3.7/lib/python3.7/site-packages/sklearn/metrics/_classification.py:1318: UndefinedMetricWarning: Precision is ill-defined and being set to 0.0 in labels with no predicted samples. Use `zero_division` parameter to control this behavior.\n",
      "  _warn_prf(average, modifier, msg_start, len(result))\n",
      "/home/matthias/.cache/pypoetry/virtualenvs/sociodemographic-softlabels-Sh-apy0E-py3.7/lib/python3.7/site-packages/sklearn/metrics/_classification.py:1318: UndefinedMetricWarning: Precision is ill-defined and being set to 0.0 in labels with no predicted samples. Use `zero_division` parameter to control this behavior.\n",
      "  _warn_prf(average, modifier, msg_start, len(result))\n",
      "/home/matthias/.cache/pypoetry/virtualenvs/sociodemographic-softlabels-Sh-apy0E-py3.7/lib/python3.7/site-packages/sklearn/metrics/_classification.py:1318: UndefinedMetricWarning: Precision is ill-defined and being set to 0.0 in labels with no predicted samples. Use `zero_division` parameter to control this behavior.\n",
      "  _warn_prf(average, modifier, msg_start, len(result))\n",
      "/home/matthias/.cache/pypoetry/virtualenvs/sociodemographic-softlabels-Sh-apy0E-py3.7/lib/python3.7/site-packages/sklearn/metrics/_classification.py:1318: UndefinedMetricWarning: Precision is ill-defined and being set to 0.0 in labels with no predicted samples. Use `zero_division` parameter to control this behavior.\n",
      "  _warn_prf(average, modifier, msg_start, len(result))\n",
      "/home/matthias/.cache/pypoetry/virtualenvs/sociodemographic-softlabels-Sh-apy0E-py3.7/lib/python3.7/site-packages/sklearn/metrics/_classification.py:1318: UndefinedMetricWarning: Precision is ill-defined and being set to 0.0 in labels with no predicted samples. Use `zero_division` parameter to control this behavior.\n",
      "  _warn_prf(average, modifier, msg_start, len(result))\n",
      "/home/matthias/.cache/pypoetry/virtualenvs/sociodemographic-softlabels-Sh-apy0E-py3.7/lib/python3.7/site-packages/sklearn/metrics/_classification.py:1318: UndefinedMetricWarning: Precision is ill-defined and being set to 0.0 in labels with no predicted samples. Use `zero_division` parameter to control this behavior.\n",
      "  _warn_prf(average, modifier, msg_start, len(result))\n",
      "bootstrap:  31%|████████▋                   | 309/1000 [00:01<00:03, 210.98it/s]/home/matthias/.cache/pypoetry/virtualenvs/sociodemographic-softlabels-Sh-apy0E-py3.7/lib/python3.7/site-packages/sklearn/metrics/_classification.py:1318: UndefinedMetricWarning: Precision is ill-defined and being set to 0.0 in labels with no predicted samples. Use `zero_division` parameter to control this behavior.\n",
      "  _warn_prf(average, modifier, msg_start, len(result))\n",
      "/home/matthias/.cache/pypoetry/virtualenvs/sociodemographic-softlabels-Sh-apy0E-py3.7/lib/python3.7/site-packages/sklearn/metrics/_classification.py:1318: UndefinedMetricWarning: Precision is ill-defined and being set to 0.0 in labels with no predicted samples. Use `zero_division` parameter to control this behavior.\n",
      "  _warn_prf(average, modifier, msg_start, len(result))\n",
      "/home/matthias/.cache/pypoetry/virtualenvs/sociodemographic-softlabels-Sh-apy0E-py3.7/lib/python3.7/site-packages/sklearn/metrics/_classification.py:1318: UndefinedMetricWarning: Precision is ill-defined and being set to 0.0 in labels with no predicted samples. Use `zero_division` parameter to control this behavior.\n",
      "  _warn_prf(average, modifier, msg_start, len(result))\n",
      "bootstrap:  33%|█████████▎                  | 331/1000 [00:01<00:03, 213.24it/s]/home/matthias/.cache/pypoetry/virtualenvs/sociodemographic-softlabels-Sh-apy0E-py3.7/lib/python3.7/site-packages/sklearn/metrics/_classification.py:1318: UndefinedMetricWarning: Precision is ill-defined and being set to 0.0 in labels with no predicted samples. Use `zero_division` parameter to control this behavior.\n",
      "  _warn_prf(average, modifier, msg_start, len(result))\n",
      "/home/matthias/.cache/pypoetry/virtualenvs/sociodemographic-softlabels-Sh-apy0E-py3.7/lib/python3.7/site-packages/sklearn/metrics/_classification.py:1318: UndefinedMetricWarning: Precision is ill-defined and being set to 0.0 in labels with no predicted samples. Use `zero_division` parameter to control this behavior.\n",
      "  _warn_prf(average, modifier, msg_start, len(result))\n",
      "bootstrap:  35%|█████████▉                  | 353/1000 [00:01<00:03, 214.09it/s]/home/matthias/.cache/pypoetry/virtualenvs/sociodemographic-softlabels-Sh-apy0E-py3.7/lib/python3.7/site-packages/sklearn/metrics/_classification.py:1318: UndefinedMetricWarning: Precision is ill-defined and being set to 0.0 in labels with no predicted samples. Use `zero_division` parameter to control this behavior.\n",
      "  _warn_prf(average, modifier, msg_start, len(result))\n",
      "/home/matthias/.cache/pypoetry/virtualenvs/sociodemographic-softlabels-Sh-apy0E-py3.7/lib/python3.7/site-packages/sklearn/metrics/_classification.py:1318: UndefinedMetricWarning: Precision is ill-defined and being set to 0.0 in labels with no predicted samples. Use `zero_division` parameter to control this behavior.\n",
      "  _warn_prf(average, modifier, msg_start, len(result))\n",
      "/home/matthias/.cache/pypoetry/virtualenvs/sociodemographic-softlabels-Sh-apy0E-py3.7/lib/python3.7/site-packages/sklearn/metrics/_classification.py:1318: UndefinedMetricWarning: Precision is ill-defined and being set to 0.0 in labels with no predicted samples. Use `zero_division` parameter to control this behavior.\n",
      "  _warn_prf(average, modifier, msg_start, len(result))\n",
      "bootstrap:  38%|██████████▌                 | 375/1000 [00:01<00:02, 212.97it/s]/home/matthias/.cache/pypoetry/virtualenvs/sociodemographic-softlabels-Sh-apy0E-py3.7/lib/python3.7/site-packages/sklearn/metrics/_classification.py:1318: UndefinedMetricWarning: Precision is ill-defined and being set to 0.0 in labels with no predicted samples. Use `zero_division` parameter to control this behavior.\n",
      "  _warn_prf(average, modifier, msg_start, len(result))\n",
      "bootstrap:  40%|███████████                 | 397/1000 [00:01<00:02, 213.84it/s]/home/matthias/.cache/pypoetry/virtualenvs/sociodemographic-softlabels-Sh-apy0E-py3.7/lib/python3.7/site-packages/sklearn/metrics/_classification.py:1318: UndefinedMetricWarning: Precision is ill-defined and being set to 0.0 in labels with no predicted samples. Use `zero_division` parameter to control this behavior.\n",
      "  _warn_prf(average, modifier, msg_start, len(result))\n",
      "bootstrap:  42%|███████████▋                | 419/1000 [00:02<00:02, 198.72it/s]/home/matthias/.cache/pypoetry/virtualenvs/sociodemographic-softlabels-Sh-apy0E-py3.7/lib/python3.7/site-packages/sklearn/metrics/_classification.py:1318: UndefinedMetricWarning: Precision is ill-defined and being set to 0.0 in labels with no predicted samples. Use `zero_division` parameter to control this behavior.\n",
      "  _warn_prf(average, modifier, msg_start, len(result))\n",
      "bootstrap:  44%|████████████▍               | 442/1000 [00:02<00:02, 205.05it/s]/home/matthias/.cache/pypoetry/virtualenvs/sociodemographic-softlabels-Sh-apy0E-py3.7/lib/python3.7/site-packages/sklearn/metrics/_classification.py:1318: UndefinedMetricWarning: Precision is ill-defined and being set to 0.0 in labels with no predicted samples. Use `zero_division` parameter to control this behavior.\n",
      "  _warn_prf(average, modifier, msg_start, len(result))\n",
      "/home/matthias/.cache/pypoetry/virtualenvs/sociodemographic-softlabels-Sh-apy0E-py3.7/lib/python3.7/site-packages/sklearn/metrics/_classification.py:1318: UndefinedMetricWarning: Precision is ill-defined and being set to 0.0 in labels with no predicted samples. Use `zero_division` parameter to control this behavior.\n",
      "  _warn_prf(average, modifier, msg_start, len(result))\n",
      "/home/matthias/.cache/pypoetry/virtualenvs/sociodemographic-softlabels-Sh-apy0E-py3.7/lib/python3.7/site-packages/sklearn/metrics/_classification.py:1318: UndefinedMetricWarning: Precision is ill-defined and being set to 0.0 in labels with no predicted samples. Use `zero_division` parameter to control this behavior.\n",
      "  _warn_prf(average, modifier, msg_start, len(result))\n",
      "bootstrap:  46%|█████████████               | 465/1000 [00:02<00:02, 209.72it/s]/home/matthias/.cache/pypoetry/virtualenvs/sociodemographic-softlabels-Sh-apy0E-py3.7/lib/python3.7/site-packages/sklearn/metrics/_classification.py:1318: UndefinedMetricWarning: Precision is ill-defined and being set to 0.0 in labels with no predicted samples. Use `zero_division` parameter to control this behavior.\n",
      "  _warn_prf(average, modifier, msg_start, len(result))\n",
      "bootstrap:  49%|█████████████▋              | 488/1000 [00:02<00:02, 212.88it/s]/home/matthias/.cache/pypoetry/virtualenvs/sociodemographic-softlabels-Sh-apy0E-py3.7/lib/python3.7/site-packages/sklearn/metrics/_classification.py:1318: UndefinedMetricWarning: Precision is ill-defined and being set to 0.0 in labels with no predicted samples. Use `zero_division` parameter to control this behavior.\n",
      "  _warn_prf(average, modifier, msg_start, len(result))\n",
      "/home/matthias/.cache/pypoetry/virtualenvs/sociodemographic-softlabels-Sh-apy0E-py3.7/lib/python3.7/site-packages/sklearn/metrics/_classification.py:1318: UndefinedMetricWarning: Precision is ill-defined and being set to 0.0 in labels with no predicted samples. Use `zero_division` parameter to control this behavior.\n",
      "  _warn_prf(average, modifier, msg_start, len(result))\n",
      "bootstrap:  53%|██████████████▉             | 532/1000 [00:02<00:02, 213.45it/s]/home/matthias/.cache/pypoetry/virtualenvs/sociodemographic-softlabels-Sh-apy0E-py3.7/lib/python3.7/site-packages/sklearn/metrics/_classification.py:1318: UndefinedMetricWarning: Precision is ill-defined and being set to 0.0 in labels with no predicted samples. Use `zero_division` parameter to control this behavior.\n",
      "  _warn_prf(average, modifier, msg_start, len(result))\n",
      "/home/matthias/.cache/pypoetry/virtualenvs/sociodemographic-softlabels-Sh-apy0E-py3.7/lib/python3.7/site-packages/sklearn/metrics/_classification.py:1318: UndefinedMetricWarning: Precision is ill-defined and being set to 0.0 in labels with no predicted samples. Use `zero_division` parameter to control this behavior.\n",
      "  _warn_prf(average, modifier, msg_start, len(result))\n",
      "/home/matthias/.cache/pypoetry/virtualenvs/sociodemographic-softlabels-Sh-apy0E-py3.7/lib/python3.7/site-packages/sklearn/metrics/_classification.py:1318: UndefinedMetricWarning: Precision is ill-defined and being set to 0.0 in labels with no predicted samples. Use `zero_division` parameter to control this behavior.\n",
      "  _warn_prf(average, modifier, msg_start, len(result))\n",
      "/home/matthias/.cache/pypoetry/virtualenvs/sociodemographic-softlabels-Sh-apy0E-py3.7/lib/python3.7/site-packages/sklearn/metrics/_classification.py:1318: UndefinedMetricWarning: Precision is ill-defined and being set to 0.0 in labels with no predicted samples. Use `zero_division` parameter to control this behavior.\n",
      "  _warn_prf(average, modifier, msg_start, len(result))\n",
      "/home/matthias/.cache/pypoetry/virtualenvs/sociodemographic-softlabels-Sh-apy0E-py3.7/lib/python3.7/site-packages/sklearn/metrics/_classification.py:1318: UndefinedMetricWarning: Precision is ill-defined and being set to 0.0 in labels with no predicted samples. Use `zero_division` parameter to control this behavior.\n",
      "  _warn_prf(average, modifier, msg_start, len(result))\n",
      "bootstrap:  55%|███████████████▌            | 554/1000 [00:02<00:02, 212.10it/s]/home/matthias/.cache/pypoetry/virtualenvs/sociodemographic-softlabels-Sh-apy0E-py3.7/lib/python3.7/site-packages/sklearn/metrics/_classification.py:1318: UndefinedMetricWarning: Precision is ill-defined and being set to 0.0 in labels with no predicted samples. Use `zero_division` parameter to control this behavior.\n",
      "  _warn_prf(average, modifier, msg_start, len(result))\n",
      "/home/matthias/.cache/pypoetry/virtualenvs/sociodemographic-softlabels-Sh-apy0E-py3.7/lib/python3.7/site-packages/sklearn/metrics/_classification.py:1318: UndefinedMetricWarning: Precision is ill-defined and being set to 0.0 in labels with no predicted samples. Use `zero_division` parameter to control this behavior.\n",
      "  _warn_prf(average, modifier, msg_start, len(result))\n",
      "/home/matthias/.cache/pypoetry/virtualenvs/sociodemographic-softlabels-Sh-apy0E-py3.7/lib/python3.7/site-packages/sklearn/metrics/_classification.py:1318: UndefinedMetricWarning: Precision is ill-defined and being set to 0.0 in labels with no predicted samples. Use `zero_division` parameter to control this behavior.\n",
      "  _warn_prf(average, modifier, msg_start, len(result))\n",
      "/home/matthias/.cache/pypoetry/virtualenvs/sociodemographic-softlabels-Sh-apy0E-py3.7/lib/python3.7/site-packages/sklearn/metrics/_classification.py:1318: UndefinedMetricWarning: Precision is ill-defined and being set to 0.0 in labels with no predicted samples. Use `zero_division` parameter to control this behavior.\n",
      "  _warn_prf(average, modifier, msg_start, len(result))\n",
      "/home/matthias/.cache/pypoetry/virtualenvs/sociodemographic-softlabels-Sh-apy0E-py3.7/lib/python3.7/site-packages/sklearn/metrics/_classification.py:1318: UndefinedMetricWarning: Precision is ill-defined and being set to 0.0 in labels with no predicted samples. Use `zero_division` parameter to control this behavior.\n",
      "  _warn_prf(average, modifier, msg_start, len(result))\n",
      "/home/matthias/.cache/pypoetry/virtualenvs/sociodemographic-softlabels-Sh-apy0E-py3.7/lib/python3.7/site-packages/sklearn/metrics/_classification.py:1318: UndefinedMetricWarning: Precision is ill-defined and being set to 0.0 in labels with no predicted samples. Use `zero_division` parameter to control this behavior.\n",
      "  _warn_prf(average, modifier, msg_start, len(result))\n",
      "/home/matthias/.cache/pypoetry/virtualenvs/sociodemographic-softlabels-Sh-apy0E-py3.7/lib/python3.7/site-packages/sklearn/metrics/_classification.py:1318: UndefinedMetricWarning: Precision is ill-defined and being set to 0.0 in labels with no predicted samples. Use `zero_division` parameter to control this behavior.\n",
      "  _warn_prf(average, modifier, msg_start, len(result))\n",
      "bootstrap:  58%|████████████████▏           | 576/1000 [00:02<00:01, 212.39it/s]/home/matthias/.cache/pypoetry/virtualenvs/sociodemographic-softlabels-Sh-apy0E-py3.7/lib/python3.7/site-packages/sklearn/metrics/_classification.py:1318: UndefinedMetricWarning: Precision is ill-defined and being set to 0.0 in labels with no predicted samples. Use `zero_division` parameter to control this behavior.\n",
      "  _warn_prf(average, modifier, msg_start, len(result))\n",
      "bootstrap:  60%|████████████████▋           | 598/1000 [00:02<00:01, 214.03it/s]/home/matthias/.cache/pypoetry/virtualenvs/sociodemographic-softlabels-Sh-apy0E-py3.7/lib/python3.7/site-packages/sklearn/metrics/_classification.py:1318: UndefinedMetricWarning: Precision is ill-defined and being set to 0.0 in labels with no predicted samples. Use `zero_division` parameter to control this behavior.\n",
      "  _warn_prf(average, modifier, msg_start, len(result))\n",
      "/home/matthias/.cache/pypoetry/virtualenvs/sociodemographic-softlabels-Sh-apy0E-py3.7/lib/python3.7/site-packages/sklearn/metrics/_classification.py:1318: UndefinedMetricWarning: Precision is ill-defined and being set to 0.0 in labels with no predicted samples. Use `zero_division` parameter to control this behavior.\n",
      "  _warn_prf(average, modifier, msg_start, len(result))\n",
      "bootstrap:  62%|█████████████████▍          | 621/1000 [00:02<00:01, 215.37it/s]/home/matthias/.cache/pypoetry/virtualenvs/sociodemographic-softlabels-Sh-apy0E-py3.7/lib/python3.7/site-packages/sklearn/metrics/_classification.py:1318: UndefinedMetricWarning: Precision is ill-defined and being set to 0.0 in labels with no predicted samples. Use `zero_division` parameter to control this behavior.\n",
      "  _warn_prf(average, modifier, msg_start, len(result))\n",
      "/home/matthias/.cache/pypoetry/virtualenvs/sociodemographic-softlabels-Sh-apy0E-py3.7/lib/python3.7/site-packages/sklearn/metrics/_classification.py:1318: UndefinedMetricWarning: Precision is ill-defined and being set to 0.0 in labels with no predicted samples. Use `zero_division` parameter to control this behavior.\n",
      "  _warn_prf(average, modifier, msg_start, len(result))\n",
      "bootstrap:  64%|██████████████████          | 643/1000 [00:03<00:01, 204.06it/s]/home/matthias/.cache/pypoetry/virtualenvs/sociodemographic-softlabels-Sh-apy0E-py3.7/lib/python3.7/site-packages/sklearn/metrics/_classification.py:1318: UndefinedMetricWarning: Precision is ill-defined and being set to 0.0 in labels with no predicted samples. Use `zero_division` parameter to control this behavior.\n",
      "  _warn_prf(average, modifier, msg_start, len(result))\n",
      "/home/matthias/.cache/pypoetry/virtualenvs/sociodemographic-softlabels-Sh-apy0E-py3.7/lib/python3.7/site-packages/sklearn/metrics/_classification.py:1318: UndefinedMetricWarning: Precision is ill-defined and being set to 0.0 in labels with no predicted samples. Use `zero_division` parameter to control this behavior.\n",
      "  _warn_prf(average, modifier, msg_start, len(result))\n",
      "bootstrap:  66%|██████████████████▌         | 664/1000 [00:03<00:01, 205.41it/s]/home/matthias/.cache/pypoetry/virtualenvs/sociodemographic-softlabels-Sh-apy0E-py3.7/lib/python3.7/site-packages/sklearn/metrics/_classification.py:1318: UndefinedMetricWarning: Precision is ill-defined and being set to 0.0 in labels with no predicted samples. Use `zero_division` parameter to control this behavior.\n",
      "  _warn_prf(average, modifier, msg_start, len(result))\n",
      "/home/matthias/.cache/pypoetry/virtualenvs/sociodemographic-softlabels-Sh-apy0E-py3.7/lib/python3.7/site-packages/sklearn/metrics/_classification.py:1318: UndefinedMetricWarning: Precision is ill-defined and being set to 0.0 in labels with no predicted samples. Use `zero_division` parameter to control this behavior.\n",
      "  _warn_prf(average, modifier, msg_start, len(result))\n",
      "/home/matthias/.cache/pypoetry/virtualenvs/sociodemographic-softlabels-Sh-apy0E-py3.7/lib/python3.7/site-packages/sklearn/metrics/_classification.py:1318: UndefinedMetricWarning: Precision is ill-defined and being set to 0.0 in labels with no predicted samples. Use `zero_division` parameter to control this behavior.\n",
      "  _warn_prf(average, modifier, msg_start, len(result))\n",
      "/home/matthias/.cache/pypoetry/virtualenvs/sociodemographic-softlabels-Sh-apy0E-py3.7/lib/python3.7/site-packages/sklearn/metrics/_classification.py:1318: UndefinedMetricWarning: Precision is ill-defined and being set to 0.0 in labels with no predicted samples. Use `zero_division` parameter to control this behavior.\n",
      "  _warn_prf(average, modifier, msg_start, len(result))\n",
      "bootstrap:  68%|███████████████████▏        | 685/1000 [00:03<00:01, 204.34it/s]/home/matthias/.cache/pypoetry/virtualenvs/sociodemographic-softlabels-Sh-apy0E-py3.7/lib/python3.7/site-packages/sklearn/metrics/_classification.py:1318: UndefinedMetricWarning: Precision is ill-defined and being set to 0.0 in labels with no predicted samples. Use `zero_division` parameter to control this behavior.\n",
      "  _warn_prf(average, modifier, msg_start, len(result))\n",
      "/home/matthias/.cache/pypoetry/virtualenvs/sociodemographic-softlabels-Sh-apy0E-py3.7/lib/python3.7/site-packages/sklearn/metrics/_classification.py:1318: UndefinedMetricWarning: Precision is ill-defined and being set to 0.0 in labels with no predicted samples. Use `zero_division` parameter to control this behavior.\n",
      "  _warn_prf(average, modifier, msg_start, len(result))\n",
      "/home/matthias/.cache/pypoetry/virtualenvs/sociodemographic-softlabels-Sh-apy0E-py3.7/lib/python3.7/site-packages/sklearn/metrics/_classification.py:1318: UndefinedMetricWarning: Precision is ill-defined and being set to 0.0 in labels with no predicted samples. Use `zero_division` parameter to control this behavior.\n",
      "  _warn_prf(average, modifier, msg_start, len(result))\n",
      "bootstrap:  71%|███████████████████▊        | 706/1000 [00:03<00:01, 205.43it/s]/home/matthias/.cache/pypoetry/virtualenvs/sociodemographic-softlabels-Sh-apy0E-py3.7/lib/python3.7/site-packages/sklearn/metrics/_classification.py:1318: UndefinedMetricWarning: Precision is ill-defined and being set to 0.0 in labels with no predicted samples. Use `zero_division` parameter to control this behavior.\n",
      "  _warn_prf(average, modifier, msg_start, len(result))\n",
      "/home/matthias/.cache/pypoetry/virtualenvs/sociodemographic-softlabels-Sh-apy0E-py3.7/lib/python3.7/site-packages/sklearn/metrics/_classification.py:1318: UndefinedMetricWarning: Precision is ill-defined and being set to 0.0 in labels with no predicted samples. Use `zero_division` parameter to control this behavior.\n",
      "  _warn_prf(average, modifier, msg_start, len(result))\n",
      "/home/matthias/.cache/pypoetry/virtualenvs/sociodemographic-softlabels-Sh-apy0E-py3.7/lib/python3.7/site-packages/sklearn/metrics/_classification.py:1318: UndefinedMetricWarning: Precision is ill-defined and being set to 0.0 in labels with no predicted samples. Use `zero_division` parameter to control this behavior.\n",
      "  _warn_prf(average, modifier, msg_start, len(result))\n",
      "/home/matthias/.cache/pypoetry/virtualenvs/sociodemographic-softlabels-Sh-apy0E-py3.7/lib/python3.7/site-packages/sklearn/metrics/_classification.py:1318: UndefinedMetricWarning: Precision is ill-defined and being set to 0.0 in labels with no predicted samples. Use `zero_division` parameter to control this behavior.\n",
      "  _warn_prf(average, modifier, msg_start, len(result))\n",
      "/home/matthias/.cache/pypoetry/virtualenvs/sociodemographic-softlabels-Sh-apy0E-py3.7/lib/python3.7/site-packages/sklearn/metrics/_classification.py:1318: UndefinedMetricWarning: Precision is ill-defined and being set to 0.0 in labels with no predicted samples. Use `zero_division` parameter to control this behavior.\n",
      "  _warn_prf(average, modifier, msg_start, len(result))\n",
      "bootstrap:  73%|████████████████████▎       | 727/1000 [00:03<00:01, 205.95it/s]/home/matthias/.cache/pypoetry/virtualenvs/sociodemographic-softlabels-Sh-apy0E-py3.7/lib/python3.7/site-packages/sklearn/metrics/_classification.py:1318: UndefinedMetricWarning: Precision is ill-defined and being set to 0.0 in labels with no predicted samples. Use `zero_division` parameter to control this behavior.\n",
      "  _warn_prf(average, modifier, msg_start, len(result))\n",
      "/home/matthias/.cache/pypoetry/virtualenvs/sociodemographic-softlabels-Sh-apy0E-py3.7/lib/python3.7/site-packages/sklearn/metrics/_classification.py:1318: UndefinedMetricWarning: Precision is ill-defined and being set to 0.0 in labels with no predicted samples. Use `zero_division` parameter to control this behavior.\n",
      "  _warn_prf(average, modifier, msg_start, len(result))\n",
      "bootstrap:  75%|████████████████████▉       | 749/1000 [00:03<00:01, 209.27it/s]/home/matthias/.cache/pypoetry/virtualenvs/sociodemographic-softlabels-Sh-apy0E-py3.7/lib/python3.7/site-packages/sklearn/metrics/_classification.py:1318: UndefinedMetricWarning: Precision is ill-defined and being set to 0.0 in labels with no predicted samples. Use `zero_division` parameter to control this behavior.\n",
      "  _warn_prf(average, modifier, msg_start, len(result))\n",
      "/home/matthias/.cache/pypoetry/virtualenvs/sociodemographic-softlabels-Sh-apy0E-py3.7/lib/python3.7/site-packages/sklearn/metrics/_classification.py:1318: UndefinedMetricWarning: Precision is ill-defined and being set to 0.0 in labels with no predicted samples. Use `zero_division` parameter to control this behavior.\n",
      "  _warn_prf(average, modifier, msg_start, len(result))\n",
      "/home/matthias/.cache/pypoetry/virtualenvs/sociodemographic-softlabels-Sh-apy0E-py3.7/lib/python3.7/site-packages/sklearn/metrics/_classification.py:1318: UndefinedMetricWarning: Precision is ill-defined and being set to 0.0 in labels with no predicted samples. Use `zero_division` parameter to control this behavior.\n",
      "  _warn_prf(average, modifier, msg_start, len(result))\n",
      "/home/matthias/.cache/pypoetry/virtualenvs/sociodemographic-softlabels-Sh-apy0E-py3.7/lib/python3.7/site-packages/sklearn/metrics/_classification.py:1318: UndefinedMetricWarning: Precision is ill-defined and being set to 0.0 in labels with no predicted samples. Use `zero_division` parameter to control this behavior.\n",
      "  _warn_prf(average, modifier, msg_start, len(result))\n",
      "/home/matthias/.cache/pypoetry/virtualenvs/sociodemographic-softlabels-Sh-apy0E-py3.7/lib/python3.7/site-packages/sklearn/metrics/_classification.py:1318: UndefinedMetricWarning: Precision is ill-defined and being set to 0.0 in labels with no predicted samples. Use `zero_division` parameter to control this behavior.\n",
      "  _warn_prf(average, modifier, msg_start, len(result))\n",
      "/home/matthias/.cache/pypoetry/virtualenvs/sociodemographic-softlabels-Sh-apy0E-py3.7/lib/python3.7/site-packages/sklearn/metrics/_classification.py:1318: UndefinedMetricWarning: Precision is ill-defined and being set to 0.0 in labels with no predicted samples. Use `zero_division` parameter to control this behavior.\n",
      "  _warn_prf(average, modifier, msg_start, len(result))\n",
      "bootstrap:  77%|█████████████████████▌      | 771/1000 [00:03<00:01, 209.87it/s]/home/matthias/.cache/pypoetry/virtualenvs/sociodemographic-softlabels-Sh-apy0E-py3.7/lib/python3.7/site-packages/sklearn/metrics/_classification.py:1318: UndefinedMetricWarning: Precision is ill-defined and being set to 0.0 in labels with no predicted samples. Use `zero_division` parameter to control this behavior.\n",
      "  _warn_prf(average, modifier, msg_start, len(result))\n",
      "/home/matthias/.cache/pypoetry/virtualenvs/sociodemographic-softlabels-Sh-apy0E-py3.7/lib/python3.7/site-packages/sklearn/metrics/_classification.py:1318: UndefinedMetricWarning: Precision is ill-defined and being set to 0.0 in labels with no predicted samples. Use `zero_division` parameter to control this behavior.\n",
      "  _warn_prf(average, modifier, msg_start, len(result))\n",
      "bootstrap:  79%|██████████████████████▏     | 793/1000 [00:03<00:00, 211.70it/s]/home/matthias/.cache/pypoetry/virtualenvs/sociodemographic-softlabels-Sh-apy0E-py3.7/lib/python3.7/site-packages/sklearn/metrics/_classification.py:1318: UndefinedMetricWarning: Precision is ill-defined and being set to 0.0 in labels with no predicted samples. Use `zero_division` parameter to control this behavior.\n",
      "  _warn_prf(average, modifier, msg_start, len(result))\n",
      "/home/matthias/.cache/pypoetry/virtualenvs/sociodemographic-softlabels-Sh-apy0E-py3.7/lib/python3.7/site-packages/sklearn/metrics/_classification.py:1318: UndefinedMetricWarning: Precision is ill-defined and being set to 0.0 in labels with no predicted samples. Use `zero_division` parameter to control this behavior.\n",
      "  _warn_prf(average, modifier, msg_start, len(result))\n",
      "/home/matthias/.cache/pypoetry/virtualenvs/sociodemographic-softlabels-Sh-apy0E-py3.7/lib/python3.7/site-packages/sklearn/metrics/_classification.py:1318: UndefinedMetricWarning: Precision is ill-defined and being set to 0.0 in labels with no predicted samples. Use `zero_division` parameter to control this behavior.\n",
      "  _warn_prf(average, modifier, msg_start, len(result))\n",
      "/home/matthias/.cache/pypoetry/virtualenvs/sociodemographic-softlabels-Sh-apy0E-py3.7/lib/python3.7/site-packages/sklearn/metrics/_classification.py:1318: UndefinedMetricWarning: Precision is ill-defined and being set to 0.0 in labels with no predicted samples. Use `zero_division` parameter to control this behavior.\n",
      "  _warn_prf(average, modifier, msg_start, len(result))\n",
      "/home/matthias/.cache/pypoetry/virtualenvs/sociodemographic-softlabels-Sh-apy0E-py3.7/lib/python3.7/site-packages/sklearn/metrics/_classification.py:1318: UndefinedMetricWarning: Precision is ill-defined and being set to 0.0 in labels with no predicted samples. Use `zero_division` parameter to control this behavior.\n",
      "  _warn_prf(average, modifier, msg_start, len(result))\n",
      "/home/matthias/.cache/pypoetry/virtualenvs/sociodemographic-softlabels-Sh-apy0E-py3.7/lib/python3.7/site-packages/sklearn/metrics/_classification.py:1318: UndefinedMetricWarning: Precision is ill-defined and being set to 0.0 in labels with no predicted samples. Use `zero_division` parameter to control this behavior.\n",
      "  _warn_prf(average, modifier, msg_start, len(result))\n",
      "bootstrap:  82%|██████████████████████▊     | 815/1000 [00:03<00:00, 212.44it/s]/home/matthias/.cache/pypoetry/virtualenvs/sociodemographic-softlabels-Sh-apy0E-py3.7/lib/python3.7/site-packages/sklearn/metrics/_classification.py:1318: UndefinedMetricWarning: Precision is ill-defined and being set to 0.0 in labels with no predicted samples. Use `zero_division` parameter to control this behavior.\n",
      "  _warn_prf(average, modifier, msg_start, len(result))\n",
      "/home/matthias/.cache/pypoetry/virtualenvs/sociodemographic-softlabels-Sh-apy0E-py3.7/lib/python3.7/site-packages/sklearn/metrics/_classification.py:1318: UndefinedMetricWarning: Precision is ill-defined and being set to 0.0 in labels with no predicted samples. Use `zero_division` parameter to control this behavior.\n",
      "  _warn_prf(average, modifier, msg_start, len(result))\n",
      "/home/matthias/.cache/pypoetry/virtualenvs/sociodemographic-softlabels-Sh-apy0E-py3.7/lib/python3.7/site-packages/sklearn/metrics/_classification.py:1318: UndefinedMetricWarning: Precision is ill-defined and being set to 0.0 in labels with no predicted samples. Use `zero_division` parameter to control this behavior.\n",
      "  _warn_prf(average, modifier, msg_start, len(result))\n",
      "/home/matthias/.cache/pypoetry/virtualenvs/sociodemographic-softlabels-Sh-apy0E-py3.7/lib/python3.7/site-packages/sklearn/metrics/_classification.py:1318: UndefinedMetricWarning: Precision is ill-defined and being set to 0.0 in labels with no predicted samples. Use `zero_division` parameter to control this behavior.\n",
      "  _warn_prf(average, modifier, msg_start, len(result))\n",
      "bootstrap:  84%|███████████████████████▍    | 837/1000 [00:03<00:00, 213.75it/s]/home/matthias/.cache/pypoetry/virtualenvs/sociodemographic-softlabels-Sh-apy0E-py3.7/lib/python3.7/site-packages/sklearn/metrics/_classification.py:1318: UndefinedMetricWarning: Precision is ill-defined and being set to 0.0 in labels with no predicted samples. Use `zero_division` parameter to control this behavior.\n",
      "  _warn_prf(average, modifier, msg_start, len(result))\n",
      "/home/matthias/.cache/pypoetry/virtualenvs/sociodemographic-softlabels-Sh-apy0E-py3.7/lib/python3.7/site-packages/sklearn/metrics/_classification.py:1318: UndefinedMetricWarning: Precision is ill-defined and being set to 0.0 in labels with no predicted samples. Use `zero_division` parameter to control this behavior.\n",
      "  _warn_prf(average, modifier, msg_start, len(result))\n",
      "/home/matthias/.cache/pypoetry/virtualenvs/sociodemographic-softlabels-Sh-apy0E-py3.7/lib/python3.7/site-packages/sklearn/metrics/_classification.py:1318: UndefinedMetricWarning: Precision is ill-defined and being set to 0.0 in labels with no predicted samples. Use `zero_division` parameter to control this behavior.\n",
      "  _warn_prf(average, modifier, msg_start, len(result))\n",
      "bootstrap:  86%|████████████████████████    | 859/1000 [00:04<00:00, 214.18it/s]/home/matthias/.cache/pypoetry/virtualenvs/sociodemographic-softlabels-Sh-apy0E-py3.7/lib/python3.7/site-packages/sklearn/metrics/_classification.py:1318: UndefinedMetricWarning: Precision is ill-defined and being set to 0.0 in labels with no predicted samples. Use `zero_division` parameter to control this behavior.\n",
      "  _warn_prf(average, modifier, msg_start, len(result))\n",
      "/home/matthias/.cache/pypoetry/virtualenvs/sociodemographic-softlabels-Sh-apy0E-py3.7/lib/python3.7/site-packages/sklearn/metrics/_classification.py:1318: UndefinedMetricWarning: Precision is ill-defined and being set to 0.0 in labels with no predicted samples. Use `zero_division` parameter to control this behavior.\n",
      "  _warn_prf(average, modifier, msg_start, len(result))\n",
      "/home/matthias/.cache/pypoetry/virtualenvs/sociodemographic-softlabels-Sh-apy0E-py3.7/lib/python3.7/site-packages/sklearn/metrics/_classification.py:1318: UndefinedMetricWarning: Precision is ill-defined and being set to 0.0 in labels with no predicted samples. Use `zero_division` parameter to control this behavior.\n",
      "  _warn_prf(average, modifier, msg_start, len(result))\n",
      "/home/matthias/.cache/pypoetry/virtualenvs/sociodemographic-softlabels-Sh-apy0E-py3.7/lib/python3.7/site-packages/sklearn/metrics/_classification.py:1318: UndefinedMetricWarning: Precision is ill-defined and being set to 0.0 in labels with no predicted samples. Use `zero_division` parameter to control this behavior.\n",
      "  _warn_prf(average, modifier, msg_start, len(result))\n",
      "bootstrap:  88%|████████████████████████▋   | 881/1000 [00:04<00:00, 198.93it/s]/home/matthias/.cache/pypoetry/virtualenvs/sociodemographic-softlabels-Sh-apy0E-py3.7/lib/python3.7/site-packages/sklearn/metrics/_classification.py:1318: UndefinedMetricWarning: Precision is ill-defined and being set to 0.0 in labels with no predicted samples. Use `zero_division` parameter to control this behavior.\n",
      "  _warn_prf(average, modifier, msg_start, len(result))\n",
      "/home/matthias/.cache/pypoetry/virtualenvs/sociodemographic-softlabels-Sh-apy0E-py3.7/lib/python3.7/site-packages/sklearn/metrics/_classification.py:1318: UndefinedMetricWarning: Precision is ill-defined and being set to 0.0 in labels with no predicted samples. Use `zero_division` parameter to control this behavior.\n",
      "  _warn_prf(average, modifier, msg_start, len(result))\n",
      "/home/matthias/.cache/pypoetry/virtualenvs/sociodemographic-softlabels-Sh-apy0E-py3.7/lib/python3.7/site-packages/sklearn/metrics/_classification.py:1318: UndefinedMetricWarning: Precision is ill-defined and being set to 0.0 in labels with no predicted samples. Use `zero_division` parameter to control this behavior.\n",
      "  _warn_prf(average, modifier, msg_start, len(result))\n",
      "bootstrap:  90%|█████████████████████████▎  | 903/1000 [00:04<00:00, 203.99it/s]/home/matthias/.cache/pypoetry/virtualenvs/sociodemographic-softlabels-Sh-apy0E-py3.7/lib/python3.7/site-packages/sklearn/metrics/_classification.py:1318: UndefinedMetricWarning: Precision is ill-defined and being set to 0.0 in labels with no predicted samples. Use `zero_division` parameter to control this behavior.\n",
      "  _warn_prf(average, modifier, msg_start, len(result))\n",
      "/home/matthias/.cache/pypoetry/virtualenvs/sociodemographic-softlabels-Sh-apy0E-py3.7/lib/python3.7/site-packages/sklearn/metrics/_classification.py:1318: UndefinedMetricWarning: Precision is ill-defined and being set to 0.0 in labels with no predicted samples. Use `zero_division` parameter to control this behavior.\n",
      "  _warn_prf(average, modifier, msg_start, len(result))\n",
      "bootstrap:  92%|█████████████████████████▊  | 924/1000 [00:04<00:00, 199.12it/s]/home/matthias/.cache/pypoetry/virtualenvs/sociodemographic-softlabels-Sh-apy0E-py3.7/lib/python3.7/site-packages/sklearn/metrics/_classification.py:1318: UndefinedMetricWarning: Precision is ill-defined and being set to 0.0 in labels with no predicted samples. Use `zero_division` parameter to control this behavior.\n",
      "  _warn_prf(average, modifier, msg_start, len(result))\n",
      "/home/matthias/.cache/pypoetry/virtualenvs/sociodemographic-softlabels-Sh-apy0E-py3.7/lib/python3.7/site-packages/sklearn/metrics/_classification.py:1318: UndefinedMetricWarning: Precision is ill-defined and being set to 0.0 in labels with no predicted samples. Use `zero_division` parameter to control this behavior.\n",
      "  _warn_prf(average, modifier, msg_start, len(result))\n",
      "/home/matthias/.cache/pypoetry/virtualenvs/sociodemographic-softlabels-Sh-apy0E-py3.7/lib/python3.7/site-packages/sklearn/metrics/_classification.py:1318: UndefinedMetricWarning: Precision is ill-defined and being set to 0.0 in labels with no predicted samples. Use `zero_division` parameter to control this behavior.\n",
      "  _warn_prf(average, modifier, msg_start, len(result))\n",
      "/home/matthias/.cache/pypoetry/virtualenvs/sociodemographic-softlabels-Sh-apy0E-py3.7/lib/python3.7/site-packages/sklearn/metrics/_classification.py:1318: UndefinedMetricWarning: Precision is ill-defined and being set to 0.0 in labels with no predicted samples. Use `zero_division` parameter to control this behavior.\n",
      "  _warn_prf(average, modifier, msg_start, len(result))\n",
      "bootstrap:  94%|██████████████████████████▍ | 945/1000 [00:04<00:00, 201.84it/s]/home/matthias/.cache/pypoetry/virtualenvs/sociodemographic-softlabels-Sh-apy0E-py3.7/lib/python3.7/site-packages/sklearn/metrics/_classification.py:1318: UndefinedMetricWarning: Precision is ill-defined and being set to 0.0 in labels with no predicted samples. Use `zero_division` parameter to control this behavior.\n",
      "  _warn_prf(average, modifier, msg_start, len(result))\n",
      "/home/matthias/.cache/pypoetry/virtualenvs/sociodemographic-softlabels-Sh-apy0E-py3.7/lib/python3.7/site-packages/sklearn/metrics/_classification.py:1318: UndefinedMetricWarning: Precision is ill-defined and being set to 0.0 in labels with no predicted samples. Use `zero_division` parameter to control this behavior.\n",
      "  _warn_prf(average, modifier, msg_start, len(result))\n",
      "/home/matthias/.cache/pypoetry/virtualenvs/sociodemographic-softlabels-Sh-apy0E-py3.7/lib/python3.7/site-packages/sklearn/metrics/_classification.py:1318: UndefinedMetricWarning: Precision is ill-defined and being set to 0.0 in labels with no predicted samples. Use `zero_division` parameter to control this behavior.\n",
      "  _warn_prf(average, modifier, msg_start, len(result))\n",
      "bootstrap:  97%|███████████████████████████ | 967/1000 [00:04<00:00, 204.33it/s]/home/matthias/.cache/pypoetry/virtualenvs/sociodemographic-softlabels-Sh-apy0E-py3.7/lib/python3.7/site-packages/sklearn/metrics/_classification.py:1318: UndefinedMetricWarning: Precision is ill-defined and being set to 0.0 in labels with no predicted samples. Use `zero_division` parameter to control this behavior.\n",
      "  _warn_prf(average, modifier, msg_start, len(result))\n",
      "/home/matthias/.cache/pypoetry/virtualenvs/sociodemographic-softlabels-Sh-apy0E-py3.7/lib/python3.7/site-packages/sklearn/metrics/_classification.py:1318: UndefinedMetricWarning: Precision is ill-defined and being set to 0.0 in labels with no predicted samples. Use `zero_division` parameter to control this behavior.\n",
      "  _warn_prf(average, modifier, msg_start, len(result))\n",
      "bootstrap: 100%|███████████████████████████| 1000/1000 [00:04<00:00, 209.12it/s]\n"
     ]
    },
    {
     "name": "stdout",
     "output_type": "stream",
     "text": [
      "\n",
      "count sample diff f1   is twice tot diff f1....... 922  / 1000    p < 0.922  \n",
      "count sample diff prec is twice tot diff prec..... 423  / 1000    p < 0.423  \n",
      "count sample diff rec  is twice tot diff rec ..... 899  / 1000    p < 0.899  \n",
      "count sample diff acc  is twice tot diff acc...... 332  / 1000    p < 0.332  \n",
      "\n",
      "\n",
      "Seed: 2803636207 - Split: 3 - gender - Group: Male\n",
      "data shape:  (11975, 1)\n",
      "sample size: 5987\n"
     ]
    },
    {
     "name": "stderr",
     "output_type": "stream",
     "text": [
      "bootstrap: 100%|████████████████████████████| 1000/1000 [00:15<00:00, 65.89it/s]\n"
     ]
    },
    {
     "name": "stdout",
     "output_type": "stream",
     "text": [
      "\n",
      "count sample diff f1   is twice tot diff f1....... 758  / 1000    p < 0.758  \n",
      "count sample diff prec is twice tot diff prec..... 744  / 1000    p < 0.744  \n",
      "count sample diff rec  is twice tot diff rec ..... 764  / 1000    p < 0.764  \n",
      "count sample diff acc  is twice tot diff acc...... 720  / 1000    p < 0.72   \n",
      "\n",
      "\n",
      "Seed: 2803636207 - Split: 3 - gender - Group: Female\n",
      "data shape:  (13515, 1)\n",
      "sample size: 6757\n"
     ]
    },
    {
     "name": "stderr",
     "output_type": "stream",
     "text": [
      "bootstrap: 100%|████████████████████████████| 1000/1000 [00:16<00:00, 59.29it/s]\n"
     ]
    },
    {
     "name": "stdout",
     "output_type": "stream",
     "text": [
      "\n",
      "count sample diff f1   is twice tot diff f1....... 617  / 1000    p < 0.617  \n",
      "count sample diff prec is twice tot diff prec..... 720  / 1000    p < 0.72   \n",
      "count sample diff rec  is twice tot diff rec ..... 504  / 1000    p < 0.504  \n",
      "count sample diff acc  is twice tot diff acc...... 883  / 1000    p < 0.883  \n",
      "\n",
      "\n",
      "Seed: 2803636207 - Split: 3 - gender - Group: Nonbinary\n",
      "data shape:  (104, 1)\n",
      "sample size: 52\n"
     ]
    },
    {
     "name": "stderr",
     "output_type": "stream",
     "text": [
      "bootstrap: 100%|███████████████████████████| 1000/1000 [00:04<00:00, 215.94it/s]\n"
     ]
    },
    {
     "name": "stdout",
     "output_type": "stream",
     "text": [
      "\n",
      "count sample diff f1   is twice tot diff f1....... 661  / 1000    p < 0.661  \n",
      "count sample diff prec is twice tot diff prec..... 655  / 1000    p < 0.655  \n",
      "count sample diff rec  is twice tot diff rec ..... 706  / 1000    p < 0.706  \n",
      "count sample diff acc  is twice tot diff acc...... 438  / 1000    p < 0.438  \n",
      "\n",
      "\n",
      "Seed: 165043843 - Split: 0 - gender - Group: Male\n",
      "data shape:  (12062, 1)\n",
      "sample size: 6031\n"
     ]
    },
    {
     "name": "stderr",
     "output_type": "stream",
     "text": [
      "bootstrap: 100%|████████████████████████████| 1000/1000 [00:15<00:00, 64.82it/s]\n"
     ]
    },
    {
     "name": "stdout",
     "output_type": "stream",
     "text": [
      "\n",
      "count sample diff f1   is twice tot diff f1....... 185  / 1000    p < 0.185  \n",
      "count sample diff prec is twice tot diff prec..... 281  / 1000    p < 0.281  \n",
      "count sample diff rec  is twice tot diff rec ..... 130  / 1000    p < 0.13   \n",
      "count sample diff acc  is twice tot diff acc...... 359  / 1000    p < 0.359  \n",
      "\n",
      "\n",
      "Seed: 165043843 - Split: 0 - gender - Group: Female\n",
      "data shape:  (13383, 1)\n",
      "sample size: 6691\n"
     ]
    },
    {
     "name": "stderr",
     "output_type": "stream",
     "text": [
      "bootstrap: 100%|████████████████████████████| 1000/1000 [00:16<00:00, 60.52it/s]\n"
     ]
    },
    {
     "name": "stdout",
     "output_type": "stream",
     "text": [
      "\n",
      "count sample diff f1   is twice tot diff f1....... 27   / 1000    p < 0.027  \u001b[38;5;9m*\u001b[0m\n",
      "count sample diff prec is twice tot diff prec..... 16   / 1000    p < 0.016  \u001b[38;5;9m*\u001b[0m\n",
      "count sample diff rec  is twice tot diff rec ..... 55   / 1000    p < 0.055  \n",
      "count sample diff acc  is twice tot diff acc...... 3    / 1000    p < 0.003  \u001b[38;5;9m**\u001b[0m\n",
      "\n",
      "\n",
      "Seed: 165043843 - Split: 0 - gender - Group: Nonbinary\n",
      "data shape:  (114, 1)\n",
      "sample size: 57\n"
     ]
    },
    {
     "name": "stderr",
     "output_type": "stream",
     "text": [
      "bootstrap: 100%|███████████████████████████| 1000/1000 [00:04<00:00, 216.12it/s]\n"
     ]
    },
    {
     "name": "stdout",
     "output_type": "stream",
     "text": [
      "\n",
      "count sample diff f1   is twice tot diff f1....... 289  / 1000    p < 0.289  \n",
      "count sample diff prec is twice tot diff prec..... 295  / 1000    p < 0.295  \n",
      "count sample diff rec  is twice tot diff rec ..... 305  / 1000    p < 0.305  \n",
      "count sample diff acc  is twice tot diff acc...... 211  / 1000    p < 0.211  \n",
      "\n",
      "\n",
      "Seed: 165043843 - Split: 1 - gender - Group: Male\n",
      "data shape:  (11915, 1)\n",
      "sample size: 5957\n"
     ]
    },
    {
     "name": "stderr",
     "output_type": "stream",
     "text": [
      "bootstrap: 100%|████████████████████████████| 1000/1000 [00:15<00:00, 65.75it/s]\n"
     ]
    },
    {
     "name": "stdout",
     "output_type": "stream",
     "text": [
      "\n",
      "count sample diff f1   is twice tot diff f1....... 756  / 1000    p < 0.756  \n",
      "count sample diff prec is twice tot diff prec..... 894  / 1000    p < 0.894  \n",
      "count sample diff rec  is twice tot diff rec ..... 561  / 1000    p < 0.561  \n",
      "count sample diff acc  is twice tot diff acc...... 952  / 1000    p < 0.952  \u001b[38;5;8m!\u001b[0m\n",
      "\n",
      "\n",
      "Seed: 165043843 - Split: 1 - gender - Group: Female\n",
      "data shape:  (13572, 1)\n",
      "sample size: 6786\n"
     ]
    },
    {
     "name": "stderr",
     "output_type": "stream",
     "text": [
      "bootstrap: 100%|████████████████████████████| 1000/1000 [00:17<00:00, 58.46it/s]\n"
     ]
    },
    {
     "name": "stdout",
     "output_type": "stream",
     "text": [
      "\n",
      "count sample diff f1   is twice tot diff f1....... 20   / 1000    p < 0.02   \u001b[38;5;9m*\u001b[0m\n",
      "count sample diff prec is twice tot diff prec..... 31   / 1000    p < 0.031  \u001b[38;5;9m*\u001b[0m\n",
      "count sample diff rec  is twice tot diff rec ..... 7    / 1000    p < 0.007  \u001b[38;5;9m**\u001b[0m\n",
      "count sample diff acc  is twice tot diff acc...... 125  / 1000    p < 0.125  \n",
      "\n",
      "\n",
      "Seed: 165043843 - Split: 1 - gender - Group: Nonbinary\n",
      "data shape:  (120, 1)\n",
      "sample size: 60\n"
     ]
    },
    {
     "name": "stderr",
     "output_type": "stream",
     "text": [
      "bootstrap: 100%|███████████████████████████| 1000/1000 [00:04<00:00, 217.76it/s]\n"
     ]
    },
    {
     "name": "stdout",
     "output_type": "stream",
     "text": [
      "\n",
      "count sample diff f1   is twice tot diff f1....... 183  / 1000    p < 0.183  \n",
      "count sample diff prec is twice tot diff prec..... 178  / 1000    p < 0.178  \n",
      "count sample diff rec  is twice tot diff rec ..... 227  / 1000    p < 0.227  \n",
      "count sample diff acc  is twice tot diff acc...... 116  / 1000    p < 0.116  \n",
      "\n",
      "\n",
      "Seed: 165043843 - Split: 2 - gender - Group: Male\n",
      "data shape:  (11843, 1)\n",
      "sample size: 5921\n"
     ]
    },
    {
     "name": "stderr",
     "output_type": "stream",
     "text": [
      "bootstrap: 100%|████████████████████████████| 1000/1000 [00:15<00:00, 64.04it/s]\n"
     ]
    },
    {
     "name": "stdout",
     "output_type": "stream",
     "text": [
      "\n",
      "count sample diff f1   is twice tot diff f1....... 414  / 1000    p < 0.414  \n",
      "count sample diff prec is twice tot diff prec..... 478  / 1000    p < 0.478  \n",
      "count sample diff rec  is twice tot diff rec ..... 315  / 1000    p < 0.315  \n",
      "count sample diff acc  is twice tot diff acc...... 600  / 1000    p < 0.6    \n",
      "\n",
      "\n",
      "Seed: 165043843 - Split: 2 - gender - Group: Female\n",
      "data shape:  (13638, 1)\n",
      "sample size: 6819\n"
     ]
    },
    {
     "name": "stderr",
     "output_type": "stream",
     "text": [
      "bootstrap: 100%|████████████████████████████| 1000/1000 [00:17<00:00, 57.32it/s]\n"
     ]
    },
    {
     "name": "stdout",
     "output_type": "stream",
     "text": [
      "\n",
      "count sample diff f1   is twice tot diff f1....... 202  / 1000    p < 0.202  \n",
      "count sample diff prec is twice tot diff prec..... 245  / 1000    p < 0.245  \n",
      "count sample diff rec  is twice tot diff rec ..... 134  / 1000    p < 0.134  \n",
      "count sample diff acc  is twice tot diff acc...... 402  / 1000    p < 0.402  \n",
      "\n",
      "\n",
      "Seed: 165043843 - Split: 2 - gender - Group: Nonbinary\n",
      "data shape:  (109, 1)\n",
      "sample size: 54\n"
     ]
    },
    {
     "name": "stderr",
     "output_type": "stream",
     "text": [
      "bootstrap: 100%|███████████████████████████| 1000/1000 [00:04<00:00, 216.62it/s]\n"
     ]
    },
    {
     "name": "stdout",
     "output_type": "stream",
     "text": [
      "\n",
      "count sample diff f1   is twice tot diff f1....... 463  / 1000    p < 0.463  \n",
      "count sample diff prec is twice tot diff prec..... 456  / 1000    p < 0.456  \n",
      "count sample diff rec  is twice tot diff rec ..... 595  / 1000    p < 0.595  \n",
      "count sample diff acc  is twice tot diff acc...... 269  / 1000    p < 0.269  \n",
      "\n",
      "\n",
      "Seed: 165043843 - Split: 3 - gender - Group: Male\n",
      "data shape:  (11880, 1)\n",
      "sample size: 5940\n"
     ]
    },
    {
     "name": "stderr",
     "output_type": "stream",
     "text": [
      "bootstrap: 100%|████████████████████████████| 1000/1000 [00:16<00:00, 62.46it/s]\n"
     ]
    },
    {
     "name": "stdout",
     "output_type": "stream",
     "text": [
      "\n",
      "count sample diff f1   is twice tot diff f1....... 546  / 1000    p < 0.546  \n",
      "count sample diff prec is twice tot diff prec..... 759  / 1000    p < 0.759  \n",
      "count sample diff rec  is twice tot diff rec ..... 319  / 1000    p < 0.319  \n",
      "count sample diff acc  is twice tot diff acc...... 862  / 1000    p < 0.862  \n",
      "\n",
      "\n",
      "Seed: 165043843 - Split: 3 - gender - Group: Female\n",
      "data shape:  (13627, 1)\n",
      "sample size: 6813\n"
     ]
    },
    {
     "name": "stderr",
     "output_type": "stream",
     "text": [
      "bootstrap: 100%|████████████████████████████| 1000/1000 [00:17<00:00, 57.74it/s]\n"
     ]
    },
    {
     "name": "stdout",
     "output_type": "stream",
     "text": [
      "\n",
      "count sample diff f1   is twice tot diff f1....... 134  / 1000    p < 0.134  \n",
      "count sample diff prec is twice tot diff prec..... 203  / 1000    p < 0.203  \n",
      "count sample diff rec  is twice tot diff rec ..... 83   / 1000    p < 0.083  \n",
      "count sample diff acc  is twice tot diff acc...... 423  / 1000    p < 0.423  \n",
      "\n",
      "\n",
      "Seed: 165043843 - Split: 3 - gender - Group: Nonbinary\n",
      "data shape:  (117, 1)\n",
      "sample size: 58\n"
     ]
    },
    {
     "name": "stderr",
     "output_type": "stream",
     "text": [
      "bootstrap:   6%|█▊                           | 62/1000 [00:00<00:04, 205.15it/s]/home/matthias/.cache/pypoetry/virtualenvs/sociodemographic-softlabels-Sh-apy0E-py3.7/lib/python3.7/site-packages/sklearn/metrics/_classification.py:1318: UndefinedMetricWarning: Recall is ill-defined and being set to 0.0 in labels with no true samples. Use `zero_division` parameter to control this behavior.\n",
      "  _warn_prf(average, modifier, msg_start, len(result))\n",
      "/home/matthias/.cache/pypoetry/virtualenvs/sociodemographic-softlabels-Sh-apy0E-py3.7/lib/python3.7/site-packages/sklearn/metrics/_classification.py:1318: UndefinedMetricWarning: Recall is ill-defined and being set to 0.0 in labels with no true samples. Use `zero_division` parameter to control this behavior.\n",
      "  _warn_prf(average, modifier, msg_start, len(result))\n",
      "bootstrap: 100%|███████████████████████████| 1000/1000 [00:04<00:00, 216.12it/s]\n"
     ]
    },
    {
     "name": "stdout",
     "output_type": "stream",
     "text": [
      "\n",
      "count sample diff f1   is twice tot diff f1....... 451  / 1000    p < 0.451  \n",
      "count sample diff prec is twice tot diff prec..... 487  / 1000    p < 0.487  \n",
      "count sample diff rec  is twice tot diff rec ..... 566  / 1000    p < 0.566  \n",
      "count sample diff acc  is twice tot diff acc...... 204  / 1000    p < 0.204  \n",
      "\n",
      "\n",
      "Seed: 2923262358 - Split: 0 - gender - Group: Male\n",
      "data shape:  (11985, 1)\n",
      "sample size: 5992\n"
     ]
    },
    {
     "name": "stderr",
     "output_type": "stream",
     "text": [
      "bootstrap: 100%|████████████████████████████| 1000/1000 [00:15<00:00, 64.15it/s]\n"
     ]
    },
    {
     "name": "stdout",
     "output_type": "stream",
     "text": [
      "\n",
      "count sample diff f1   is twice tot diff f1....... 930  / 1000    p < 0.93   \n",
      "count sample diff prec is twice tot diff prec..... 950  / 1000    p < 0.95   \n",
      "count sample diff rec  is twice tot diff rec ..... 898  / 1000    p < 0.898  \n",
      "count sample diff acc  is twice tot diff acc...... 966  / 1000    p < 0.966  \u001b[38;5;8m!\u001b[0m\n",
      "\n",
      "\n",
      "Seed: 2923262358 - Split: 0 - gender - Group: Female\n",
      "data shape:  (13509, 1)\n",
      "sample size: 6754\n"
     ]
    },
    {
     "name": "stderr",
     "output_type": "stream",
     "text": [
      "bootstrap: 100%|████████████████████████████| 1000/1000 [00:16<00:00, 59.56it/s]\n"
     ]
    },
    {
     "name": "stdout",
     "output_type": "stream",
     "text": [
      "\n",
      "count sample diff f1   is twice tot diff f1....... 91   / 1000    p < 0.091  \n",
      "count sample diff prec is twice tot diff prec..... 129  / 1000    p < 0.129  \n",
      "count sample diff rec  is twice tot diff rec ..... 54   / 1000    p < 0.054  \n",
      "count sample diff acc  is twice tot diff acc...... 309  / 1000    p < 0.309  \n",
      "\n",
      "\n",
      "Seed: 2923262358 - Split: 0 - gender - Group: Nonbinary\n",
      "data shape:  (118, 1)\n",
      "sample size: 59\n"
     ]
    },
    {
     "name": "stderr",
     "output_type": "stream",
     "text": [
      "bootstrap: 100%|███████████████████████████| 1000/1000 [00:04<00:00, 211.34it/s]\n"
     ]
    },
    {
     "name": "stdout",
     "output_type": "stream",
     "text": [
      "\n",
      "count sample diff f1   is twice tot diff f1....... 176  / 1000    p < 0.176  \n",
      "count sample diff prec is twice tot diff prec..... 196  / 1000    p < 0.196  \n",
      "count sample diff rec  is twice tot diff rec ..... 242  / 1000    p < 0.242  \n",
      "count sample diff acc  is twice tot diff acc...... 96   / 1000    p < 0.096  \n",
      "\n",
      "\n",
      "Seed: 2923262358 - Split: 1 - gender - Group: Male\n",
      "data shape:  (11917, 1)\n",
      "sample size: 5958\n"
     ]
    },
    {
     "name": "stderr",
     "output_type": "stream",
     "text": [
      "bootstrap: 100%|████████████████████████████| 1000/1000 [00:15<00:00, 63.64it/s]\n"
     ]
    },
    {
     "name": "stdout",
     "output_type": "stream",
     "text": [
      "\n",
      "count sample diff f1   is twice tot diff f1....... 626  / 1000    p < 0.626  \n",
      "count sample diff prec is twice tot diff prec..... 719  / 1000    p < 0.719  \n",
      "count sample diff rec  is twice tot diff rec ..... 566  / 1000    p < 0.566  \n",
      "count sample diff acc  is twice tot diff acc...... 725  / 1000    p < 0.725  \n",
      "\n",
      "\n",
      "Seed: 2923262358 - Split: 1 - gender - Group: Female\n",
      "data shape:  (13498, 1)\n",
      "sample size: 6749\n"
     ]
    },
    {
     "name": "stderr",
     "output_type": "stream",
     "text": [
      "bootstrap: 100%|████████████████████████████| 1000/1000 [00:20<00:00, 49.29it/s]\n"
     ]
    },
    {
     "name": "stdout",
     "output_type": "stream",
     "text": [
      "\n",
      "count sample diff f1   is twice tot diff f1....... 495  / 1000    p < 0.495  \n",
      "count sample diff prec is twice tot diff prec..... 566  / 1000    p < 0.566  \n",
      "count sample diff rec  is twice tot diff rec ..... 448  / 1000    p < 0.448  \n",
      "count sample diff acc  is twice tot diff acc...... 657  / 1000    p < 0.657  \n",
      "\n",
      "\n",
      "Seed: 2923262358 - Split: 1 - gender - Group: Nonbinary\n",
      "data shape:  (105, 1)\n",
      "sample size: 52\n"
     ]
    },
    {
     "name": "stderr",
     "output_type": "stream",
     "text": [
      "bootstrap: 100%|███████████████████████████| 1000/1000 [00:04<00:00, 206.78it/s]\n"
     ]
    },
    {
     "name": "stdout",
     "output_type": "stream",
     "text": [
      "\n",
      "count sample diff f1   is twice tot diff f1....... 692  / 1000    p < 0.692  \n",
      "count sample diff prec is twice tot diff prec..... 684  / 1000    p < 0.684  \n",
      "count sample diff rec  is twice tot diff rec ..... 671  / 1000    p < 0.671  \n",
      "count sample diff acc  is twice tot diff acc...... 638  / 1000    p < 0.638  \n",
      "\n",
      "\n",
      "Seed: 2923262358 - Split: 2 - gender - Group: Male\n",
      "data shape:  (11928, 1)\n",
      "sample size: 5964\n"
     ]
    },
    {
     "name": "stderr",
     "output_type": "stream",
     "text": [
      "bootstrap: 100%|████████████████████████████| 1000/1000 [00:19<00:00, 52.45it/s]\n"
     ]
    },
    {
     "name": "stdout",
     "output_type": "stream",
     "text": [
      "\n",
      "count sample diff f1   is twice tot diff f1....... 704  / 1000    p < 0.704  \n",
      "count sample diff prec is twice tot diff prec..... 804  / 1000    p < 0.804  \n",
      "count sample diff rec  is twice tot diff rec ..... 576  / 1000    p < 0.576  \n",
      "count sample diff acc  is twice tot diff acc...... 853  / 1000    p < 0.853  \n",
      "\n",
      "\n",
      "Seed: 2923262358 - Split: 2 - gender - Group: Female\n",
      "data shape:  (13560, 1)\n",
      "sample size: 6780\n"
     ]
    },
    {
     "name": "stderr",
     "output_type": "stream",
     "text": [
      "bootstrap: 100%|████████████████████████████| 1000/1000 [00:17<00:00, 55.99it/s]\n"
     ]
    },
    {
     "name": "stdout",
     "output_type": "stream",
     "text": [
      "\n",
      "count sample diff f1   is twice tot diff f1....... 244  / 1000    p < 0.244  \n",
      "count sample diff prec is twice tot diff prec..... 480  / 1000    p < 0.48   \n",
      "count sample diff rec  is twice tot diff rec ..... 100  / 1000    p < 0.1    \n",
      "count sample diff acc  is twice tot diff acc...... 839  / 1000    p < 0.839  \n",
      "\n",
      "\n",
      "Seed: 2923262358 - Split: 2 - gender - Group: Nonbinary\n",
      "data shape:  (117, 1)\n",
      "sample size: 58\n"
     ]
    },
    {
     "name": "stderr",
     "output_type": "stream",
     "text": [
      "bootstrap: 100%|███████████████████████████| 1000/1000 [00:05<00:00, 183.29it/s]\n"
     ]
    },
    {
     "name": "stdout",
     "output_type": "stream",
     "text": [
      "\n",
      "count sample diff f1   is twice tot diff f1....... 510  / 1000    p < 0.51   \n",
      "count sample diff prec is twice tot diff prec..... 521  / 1000    p < 0.521  \n",
      "count sample diff rec  is twice tot diff rec ..... 534  / 1000    p < 0.534  \n",
      "count sample diff acc  is twice tot diff acc...... 456  / 1000    p < 0.456  \n",
      "\n",
      "\n",
      "Seed: 2923262358 - Split: 3 - gender - Group: Male\n",
      "data shape:  (11870, 1)\n",
      "sample size: 5935\n"
     ]
    },
    {
     "name": "stderr",
     "output_type": "stream",
     "text": [
      "bootstrap: 100%|████████████████████████████| 1000/1000 [00:17<00:00, 57.60it/s]\n"
     ]
    },
    {
     "name": "stdout",
     "output_type": "stream",
     "text": [
      "\n",
      "count sample diff f1   is twice tot diff f1....... 492  / 1000    p < 0.492  \n",
      "count sample diff prec is twice tot diff prec..... 260  / 1000    p < 0.26   \n",
      "count sample diff rec  is twice tot diff rec ..... 646  / 1000    p < 0.646  \n",
      "count sample diff acc  is twice tot diff acc...... 175  / 1000    p < 0.175  \n",
      "\n",
      "\n",
      "Seed: 2923262358 - Split: 3 - gender - Group: Female\n",
      "data shape:  (13653, 1)\n",
      "sample size: 6826\n"
     ]
    },
    {
     "name": "stderr",
     "output_type": "stream",
     "text": [
      "bootstrap: 100%|████████████████████████████| 1000/1000 [00:19<00:00, 51.58it/s]\n"
     ]
    },
    {
     "name": "stdout",
     "output_type": "stream",
     "text": [
      "\n",
      "count sample diff f1   is twice tot diff f1....... 931  / 1000    p < 0.931  \n",
      "count sample diff prec is twice tot diff prec..... 863  / 1000    p < 0.863  \n",
      "count sample diff rec  is twice tot diff rec ..... 969  / 1000    p < 0.969  \u001b[38;5;8m!\u001b[0m\n",
      "count sample diff acc  is twice tot diff acc...... 565  / 1000    p < 0.565  \n",
      "\n",
      "\n",
      "Seed: 2923262358 - Split: 3 - gender - Group: Nonbinary\n",
      "data shape:  (120, 1)\n",
      "sample size: 60\n"
     ]
    },
    {
     "name": "stderr",
     "output_type": "stream",
     "text": [
      "bootstrap: 100%|███████████████████████████| 1000/1000 [00:04<00:00, 217.68it/s]"
     ]
    },
    {
     "name": "stdout",
     "output_type": "stream",
     "text": [
      "\n",
      "count sample diff f1   is twice tot diff f1....... 809  / 1000    p < 0.809  \n",
      "count sample diff prec is twice tot diff prec..... 804  / 1000    p < 0.804  \n",
      "count sample diff rec  is twice tot diff rec ..... 722  / 1000    p < 0.722  \n",
      "count sample diff acc  is twice tot diff acc...... 208  / 1000    p < 0.208  \n"
     ]
    },
    {
     "name": "stderr",
     "output_type": "stream",
     "text": [
      "\n"
     ]
    }
   ],
   "source": [
    "gender_p_dicts = significance_test_per_group(df, attribute_a='no extra layers', attribute_b='gender', to_groups=to_groups, attributes=['gender'])"
   ]
  },
  {
   "cell_type": "code",
   "execution_count": 6,
   "metadata": {},
   "outputs": [
    {
     "data": {
      "text/plain": [
       "{'Nonbinary': {'k_count': 1, 'k_bonferroni': -1},\n",
       " 'Male': {'k_count': -1, 'k_bonferroni': -1},\n",
       " 'Female': {'k_count': 2, 'k_bonferroni': -1}}"
      ]
     },
     "execution_count": 6,
     "metadata": {},
     "output_type": "execute_result"
    }
   ],
   "source": [
    "gender_ks = k_estimator_groups(gender_p_dicts)\n",
    "gender_ks"
   ]
  },
  {
   "cell_type": "code",
   "execution_count": 8,
   "metadata": {},
   "outputs": [
    {
     "data": {
      "text/html": [
       "<div>\n",
       "<style scoped>\n",
       "    .dataframe tbody tr th:only-of-type {\n",
       "        vertical-align: middle;\n",
       "    }\n",
       "\n",
       "    .dataframe tbody tr th {\n",
       "        vertical-align: top;\n",
       "    }\n",
       "\n",
       "    .dataframe thead th {\n",
       "        text-align: right;\n",
       "    }\n",
       "</style>\n",
       "<table border=\"1\" class=\"dataframe\">\n",
       "  <thead>\n",
       "    <tr style=\"text-align: right;\">\n",
       "      <th></th>\n",
       "      <th>$\\hat{k}_{count}$</th>\n",
       "      <th>$\\hat{k}_{Bonf.}$</th>\n",
       "    </tr>\n",
       "  </thead>\n",
       "  <tbody>\n",
       "    <tr>\n",
       "      <th>Female</th>\n",
       "      <td>2</td>\n",
       "      <td>0</td>\n",
       "    </tr>\n",
       "    <tr>\n",
       "      <th>Male</th>\n",
       "      <td>0</td>\n",
       "      <td>0</td>\n",
       "    </tr>\n",
       "    <tr>\n",
       "      <th>Nonbinary</th>\n",
       "      <td>1</td>\n",
       "      <td>0</td>\n",
       "    </tr>\n",
       "  </tbody>\n",
       "</table>\n",
       "</div>"
      ],
      "text/plain": [
       "           $\\hat{k}_{count}$  $\\hat{k}_{Bonf.}$\n",
       "Female                     2                  0\n",
       "Male                       0                  0\n",
       "Nonbinary                  1                  0"
      ]
     },
     "execution_count": 8,
     "metadata": {},
     "output_type": "execute_result"
    }
   ],
   "source": [
    "gender_ks_df = pd.DataFrame(gender_ks).T.sort_index()\n",
    "gender_ks_df = gender_ks_df.replace({-1: 0})\n",
    "gender_ks_df = gender_ks_df.rename(columns={'k_count': '$\\hat{k}_{count}$', 'k_bonferroni':'$\\hat{k}_{Bonf.}$'})\n",
    "gender_ks_df"
   ]
  },
  {
   "cell_type": "code",
   "execution_count": 9,
   "metadata": {},
   "outputs": [],
   "source": [
    "gender_ks_df.to_latex('../tables/replication/baseline/gender.tex', escape=False)"
   ]
  },
  {
   "attachments": {},
   "cell_type": "markdown",
   "metadata": {},
   "source": [
    "#### Age"
   ]
  },
  {
   "cell_type": "code",
   "execution_count": 10,
   "metadata": {},
   "outputs": [
    {
     "name": "stdout",
     "output_type": "stream",
     "text": [
      "\n",
      "\n",
      "Seed: 2803636207 - Split: 0 - age_range - Group: 25 - 34\n",
      "data shape:  (10313, 1)\n",
      "sample size: 5156\n"
     ]
    },
    {
     "name": "stderr",
     "output_type": "stream",
     "text": [
      "bootstrap: 100%|████████████████████████████| 1000/1000 [00:14<00:00, 70.54it/s]\n"
     ]
    },
    {
     "name": "stdout",
     "output_type": "stream",
     "text": [
      "\n",
      "count sample diff f1   is twice tot diff f1....... 381  / 1000    p < 0.381  \n",
      "count sample diff prec is twice tot diff prec..... 328  / 1000    p < 0.328  \n",
      "count sample diff rec  is twice tot diff rec ..... 415  / 1000    p < 0.415  \n",
      "count sample diff acc  is twice tot diff acc...... 301  / 1000    p < 0.301  \n",
      "\n",
      "\n",
      "Seed: 2803636207 - Split: 0 - age_range - Group: 35 - 44\n",
      "data shape:  (6220, 1)\n",
      "sample size: 3110\n"
     ]
    },
    {
     "name": "stderr",
     "output_type": "stream",
     "text": [
      "bootstrap: 100%|████████████████████████████| 1000/1000 [00:10<00:00, 97.96it/s]\n"
     ]
    },
    {
     "name": "stdout",
     "output_type": "stream",
     "text": [
      "\n",
      "count sample diff f1   is twice tot diff f1....... 198  / 1000    p < 0.198  \n",
      "count sample diff prec is twice tot diff prec..... 202  / 1000    p < 0.202  \n",
      "count sample diff rec  is twice tot diff rec ..... 200  / 1000    p < 0.2    \n",
      "count sample diff acc  is twice tot diff acc...... 203  / 1000    p < 0.203  \n",
      "\n",
      "\n",
      "Seed: 2803636207 - Split: 0 - age_range - Group: 65 or older\n",
      "data shape:  (675, 1)\n",
      "sample size: 337\n"
     ]
    },
    {
     "name": "stderr",
     "output_type": "stream",
     "text": [
      "bootstrap: 100%|███████████████████████████| 1000/1000 [00:05<00:00, 189.93it/s]\n"
     ]
    },
    {
     "name": "stdout",
     "output_type": "stream",
     "text": [
      "\n",
      "count sample diff f1   is twice tot diff f1....... 88   / 1000    p < 0.088  \n",
      "count sample diff prec is twice tot diff prec..... 48   / 1000    p < 0.048  \u001b[38;5;9m*\u001b[0m\n",
      "count sample diff rec  is twice tot diff rec ..... 118  / 1000    p < 0.118  \n",
      "count sample diff acc  is twice tot diff acc...... 35   / 1000    p < 0.035  \u001b[38;5;9m*\u001b[0m\n",
      "\n",
      "\n",
      "Seed: 2803636207 - Split: 0 - age_range - Group: 18 - 24\n",
      "data shape:  (2651, 1)\n",
      "sample size: 1325\n"
     ]
    },
    {
     "name": "stderr",
     "output_type": "stream",
     "text": [
      "bootstrap: 100%|███████████████████████████| 1000/1000 [00:06<00:00, 145.00it/s]\n"
     ]
    },
    {
     "name": "stdout",
     "output_type": "stream",
     "text": [
      "\n",
      "count sample diff f1   is twice tot diff f1....... 90   / 1000    p < 0.09   \n",
      "count sample diff prec is twice tot diff prec..... 120  / 1000    p < 0.12   \n",
      "count sample diff rec  is twice tot diff rec ..... 66   / 1000    p < 0.066  \n",
      "count sample diff acc  is twice tot diff acc...... 238  / 1000    p < 0.238  \n",
      "\n",
      "\n",
      "Seed: 2803636207 - Split: 0 - age_range - Group: 55 - 64\n",
      "data shape:  (1871, 1)\n",
      "sample size: 935\n"
     ]
    },
    {
     "name": "stderr",
     "output_type": "stream",
     "text": [
      "bootstrap: 100%|███████████████████████████| 1000/1000 [00:06<00:00, 158.44it/s]\n"
     ]
    },
    {
     "name": "stdout",
     "output_type": "stream",
     "text": [
      "\n",
      "count sample diff f1   is twice tot diff f1....... 480  / 1000    p < 0.48   \n",
      "count sample diff prec is twice tot diff prec..... 388  / 1000    p < 0.388  \n",
      "count sample diff rec  is twice tot diff rec ..... 586  / 1000    p < 0.586  \n",
      "count sample diff acc  is twice tot diff acc...... 238  / 1000    p < 0.238  \n",
      "\n",
      "\n",
      "Seed: 2803636207 - Split: 0 - age_range - Group: 45 - 54\n",
      "data shape:  (2973, 1)\n",
      "sample size: 1486\n"
     ]
    },
    {
     "name": "stderr",
     "output_type": "stream",
     "text": [
      "bootstrap: 100%|███████████████████████████| 1000/1000 [00:07<00:00, 133.95it/s]\n"
     ]
    },
    {
     "name": "stdout",
     "output_type": "stream",
     "text": [
      "\n",
      "count sample diff f1   is twice tot diff f1....... 182  / 1000    p < 0.182  \n",
      "count sample diff prec is twice tot diff prec..... 225  / 1000    p < 0.225  \n",
      "count sample diff rec  is twice tot diff rec ..... 163  / 1000    p < 0.163  \n",
      "count sample diff acc  is twice tot diff acc...... 258  / 1000    p < 0.258  \n",
      "\n",
      "\n",
      "Seed: 2803636207 - Split: 1 - age_range - Group: 25 - 34\n",
      "data shape:  (10292, 1)\n",
      "sample size: 5146\n"
     ]
    },
    {
     "name": "stderr",
     "output_type": "stream",
     "text": [
      "bootstrap: 100%|████████████████████████████| 1000/1000 [00:14<00:00, 69.29it/s]\n"
     ]
    },
    {
     "name": "stdout",
     "output_type": "stream",
     "text": [
      "\n",
      "count sample diff f1   is twice tot diff f1....... 575  / 1000    p < 0.575  \n",
      "count sample diff prec is twice tot diff prec..... 287  / 1000    p < 0.287  \n",
      "count sample diff rec  is twice tot diff rec ..... 792  / 1000    p < 0.792  \n",
      "count sample diff acc  is twice tot diff acc...... 150  / 1000    p < 0.15   \n",
      "\n",
      "\n",
      "Seed: 2803636207 - Split: 1 - age_range - Group: 35 - 44\n",
      "data shape:  (6255, 1)\n",
      "sample size: 3127\n"
     ]
    },
    {
     "name": "stderr",
     "output_type": "stream",
     "text": [
      "bootstrap: 100%|████████████████████████████| 1000/1000 [00:10<00:00, 95.74it/s]\n"
     ]
    },
    {
     "name": "stdout",
     "output_type": "stream",
     "text": [
      "\n",
      "count sample diff f1   is twice tot diff f1....... 414  / 1000    p < 0.414  \n",
      "count sample diff prec is twice tot diff prec..... 135  / 1000    p < 0.135  \n",
      "count sample diff rec  is twice tot diff rec ..... 642  / 1000    p < 0.642  \n",
      "count sample diff acc  is twice tot diff acc...... 31   / 1000    p < 0.031  \u001b[38;5;9m*\u001b[0m\n",
      "\n",
      "\n",
      "Seed: 2803636207 - Split: 1 - age_range - Group: 65 or older\n",
      "data shape:  (690, 1)\n",
      "sample size: 345\n"
     ]
    },
    {
     "name": "stderr",
     "output_type": "stream",
     "text": [
      "bootstrap: 100%|███████████████████████████| 1000/1000 [00:05<00:00, 188.14it/s]\n"
     ]
    },
    {
     "name": "stdout",
     "output_type": "stream",
     "text": [
      "\n",
      "count sample diff f1   is twice tot diff f1....... 723  / 1000    p < 0.723  \n",
      "count sample diff prec is twice tot diff prec..... 383  / 1000    p < 0.383  \n",
      "count sample diff rec  is twice tot diff rec ..... 794  / 1000    p < 0.794  \n",
      "count sample diff acc  is twice tot diff acc...... 345  / 1000    p < 0.345  \n",
      "\n",
      "\n",
      "Seed: 2803636207 - Split: 1 - age_range - Group: 18 - 24\n",
      "data shape:  (2560, 1)\n",
      "sample size: 1280\n"
     ]
    },
    {
     "name": "stderr",
     "output_type": "stream",
     "text": [
      "bootstrap: 100%|███████████████████████████| 1000/1000 [00:06<00:00, 147.62it/s]\n"
     ]
    },
    {
     "name": "stdout",
     "output_type": "stream",
     "text": [
      "\n",
      "count sample diff f1   is twice tot diff f1....... 500  / 1000    p < 0.5    \n",
      "count sample diff prec is twice tot diff prec..... 359  / 1000    p < 0.359  \n",
      "count sample diff rec  is twice tot diff rec ..... 649  / 1000    p < 0.649  \n",
      "count sample diff acc  is twice tot diff acc...... 58   / 1000    p < 0.058  \n",
      "\n",
      "\n",
      "Seed: 2803636207 - Split: 1 - age_range - Group: 55 - 64\n",
      "data shape:  (1899, 1)\n",
      "sample size: 949\n"
     ]
    },
    {
     "name": "stderr",
     "output_type": "stream",
     "text": [
      "bootstrap: 100%|███████████████████████████| 1000/1000 [00:06<00:00, 163.58it/s]\n"
     ]
    },
    {
     "name": "stdout",
     "output_type": "stream",
     "text": [
      "\n",
      "count sample diff f1   is twice tot diff f1....... 30   / 1000    p < 0.03   \u001b[38;5;9m*\u001b[0m\n",
      "count sample diff prec is twice tot diff prec..... 1    / 1000    p < 0.001  \u001b[38;5;9m**\u001b[0m\n",
      "count sample diff rec  is twice tot diff rec ..... 150  / 1000    p < 0.15   \n",
      "count sample diff acc  is twice tot diff acc...... 0    / 1000    p < 0.0    \u001b[38;5;9m**\u001b[0m\n",
      "\n",
      "\n",
      "Seed: 2803636207 - Split: 1 - age_range - Group: 45 - 54\n",
      "data shape:  (2971, 1)\n",
      "sample size: 1485\n"
     ]
    },
    {
     "name": "stderr",
     "output_type": "stream",
     "text": [
      "bootstrap: 100%|███████████████████████████| 1000/1000 [00:07<00:00, 138.65it/s]\n"
     ]
    },
    {
     "name": "stdout",
     "output_type": "stream",
     "text": [
      "\n",
      "count sample diff f1   is twice tot diff f1....... 957  / 1000    p < 0.957  \u001b[38;5;8m!\u001b[0m\n",
      "count sample diff prec is twice tot diff prec..... 862  / 1000    p < 0.862  \n",
      "count sample diff rec  is twice tot diff rec ..... 976  / 1000    p < 0.976  \u001b[38;5;8m!\u001b[0m\n",
      "count sample diff acc  is twice tot diff acc...... 808  / 1000    p < 0.808  \n",
      "\n",
      "\n",
      "Seed: 2803636207 - Split: 2 - age_range - Group: 25 - 34\n",
      "data shape:  (10326, 1)\n",
      "sample size: 5163\n"
     ]
    },
    {
     "name": "stderr",
     "output_type": "stream",
     "text": [
      "bootstrap: 100%|████████████████████████████| 1000/1000 [00:14<00:00, 70.01it/s]\n"
     ]
    },
    {
     "name": "stdout",
     "output_type": "stream",
     "text": [
      "\n",
      "count sample diff f1   is twice tot diff f1....... 765  / 1000    p < 0.765  \n",
      "count sample diff prec is twice tot diff prec..... 718  / 1000    p < 0.718  \n",
      "count sample diff rec  is twice tot diff rec ..... 794  / 1000    p < 0.794  \n",
      "count sample diff acc  is twice tot diff acc...... 678  / 1000    p < 0.678  \n",
      "\n",
      "\n",
      "Seed: 2803636207 - Split: 2 - age_range - Group: 35 - 44\n",
      "data shape:  (6257, 1)\n",
      "sample size: 3128\n"
     ]
    },
    {
     "name": "stderr",
     "output_type": "stream",
     "text": [
      "bootstrap: 100%|████████████████████████████| 1000/1000 [00:10<00:00, 96.64it/s]\n"
     ]
    },
    {
     "name": "stdout",
     "output_type": "stream",
     "text": [
      "\n",
      "count sample diff f1   is twice tot diff f1....... 106  / 1000    p < 0.106  \n",
      "count sample diff prec is twice tot diff prec..... 76   / 1000    p < 0.076  \n",
      "count sample diff rec  is twice tot diff rec ..... 130  / 1000    p < 0.13   \n",
      "count sample diff acc  is twice tot diff acc...... 64   / 1000    p < 0.064  \n",
      "\n",
      "\n",
      "Seed: 2803636207 - Split: 2 - age_range - Group: 65 or older\n",
      "data shape:  (684, 1)\n",
      "sample size: 342\n"
     ]
    },
    {
     "name": "stderr",
     "output_type": "stream",
     "text": [
      "bootstrap: 100%|███████████████████████████| 1000/1000 [00:05<00:00, 192.83it/s]\n"
     ]
    },
    {
     "name": "stdout",
     "output_type": "stream",
     "text": [
      "\n",
      "count sample diff f1   is twice tot diff f1....... 559  / 1000    p < 0.559  \n",
      "count sample diff prec is twice tot diff prec..... 436  / 1000    p < 0.436  \n",
      "count sample diff rec  is twice tot diff rec ..... 624  / 1000    p < 0.624  \n",
      "count sample diff acc  is twice tot diff acc...... 282  / 1000    p < 0.282  \n",
      "\n",
      "\n",
      "Seed: 2803636207 - Split: 2 - age_range - Group: 18 - 24\n",
      "data shape:  (2606, 1)\n",
      "sample size: 1303\n"
     ]
    },
    {
     "name": "stderr",
     "output_type": "stream",
     "text": [
      "bootstrap: 100%|███████████████████████████| 1000/1000 [00:07<00:00, 132.36it/s]\n"
     ]
    },
    {
     "name": "stdout",
     "output_type": "stream",
     "text": [
      "\n",
      "count sample diff f1   is twice tot diff f1....... 395  / 1000    p < 0.395  \n",
      "count sample diff prec is twice tot diff prec..... 319  / 1000    p < 0.319  \n",
      "count sample diff rec  is twice tot diff rec ..... 444  / 1000    p < 0.444  \n",
      "count sample diff acc  is twice tot diff acc...... 188  / 1000    p < 0.188  \n",
      "\n",
      "\n",
      "Seed: 2803636207 - Split: 2 - age_range - Group: 55 - 64\n",
      "data shape:  (1849, 1)\n",
      "sample size: 924\n"
     ]
    },
    {
     "name": "stderr",
     "output_type": "stream",
     "text": [
      "bootstrap: 100%|███████████████████████████| 1000/1000 [00:06<00:00, 148.16it/s]\n"
     ]
    },
    {
     "name": "stdout",
     "output_type": "stream",
     "text": [
      "\n",
      "count sample diff f1   is twice tot diff f1....... 404  / 1000    p < 0.404  \n",
      "count sample diff prec is twice tot diff prec..... 206  / 1000    p < 0.206  \n",
      "count sample diff rec  is twice tot diff rec ..... 499  / 1000    p < 0.499  \n",
      "count sample diff acc  is twice tot diff acc...... 166  / 1000    p < 0.166  \n",
      "\n",
      "\n",
      "Seed: 2803636207 - Split: 2 - age_range - Group: 45 - 54\n",
      "data shape:  (3073, 1)\n",
      "sample size: 1536\n"
     ]
    },
    {
     "name": "stderr",
     "output_type": "stream",
     "text": [
      "bootstrap: 100%|███████████████████████████| 1000/1000 [00:07<00:00, 126.16it/s]\n"
     ]
    },
    {
     "name": "stdout",
     "output_type": "stream",
     "text": [
      "\n",
      "count sample diff f1   is twice tot diff f1....... 213  / 1000    p < 0.213  \n",
      "count sample diff prec is twice tot diff prec..... 219  / 1000    p < 0.219  \n",
      "count sample diff rec  is twice tot diff rec ..... 211  / 1000    p < 0.211  \n",
      "count sample diff acc  is twice tot diff acc...... 227  / 1000    p < 0.227  \n",
      "\n",
      "\n",
      "Seed: 2803636207 - Split: 3 - age_range - Group: 25 - 34\n",
      "data shape:  (10329, 1)\n",
      "sample size: 5164\n"
     ]
    },
    {
     "name": "stderr",
     "output_type": "stream",
     "text": [
      "bootstrap: 100%|████████████████████████████| 1000/1000 [00:15<00:00, 66.42it/s]\n"
     ]
    },
    {
     "name": "stdout",
     "output_type": "stream",
     "text": [
      "\n",
      "count sample diff f1   is twice tot diff f1....... 48   / 1000    p < 0.048  \u001b[38;5;9m*\u001b[0m\n",
      "count sample diff prec is twice tot diff prec..... 71   / 1000    p < 0.071  \n",
      "count sample diff rec  is twice tot diff rec ..... 41   / 1000    p < 0.041  \u001b[38;5;9m*\u001b[0m\n",
      "count sample diff acc  is twice tot diff acc...... 83   / 1000    p < 0.083  \n",
      "\n",
      "\n",
      "Seed: 2803636207 - Split: 3 - age_range - Group: 35 - 44\n",
      "data shape:  (6268, 1)\n",
      "sample size: 3134\n"
     ]
    },
    {
     "name": "stderr",
     "output_type": "stream",
     "text": [
      "bootstrap: 100%|████████████████████████████| 1000/1000 [00:10<00:00, 90.94it/s]\n"
     ]
    },
    {
     "name": "stdout",
     "output_type": "stream",
     "text": [
      "\n",
      "count sample diff f1   is twice tot diff f1....... 112  / 1000    p < 0.112  \n",
      "count sample diff prec is twice tot diff prec..... 44   / 1000    p < 0.044  \u001b[38;5;9m*\u001b[0m\n",
      "count sample diff rec  is twice tot diff rec ..... 227  / 1000    p < 0.227  \n",
      "count sample diff acc  is twice tot diff acc...... 27   / 1000    p < 0.027  \u001b[38;5;9m*\u001b[0m\n",
      "\n",
      "\n",
      "Seed: 2803636207 - Split: 3 - age_range - Group: 65 or older\n",
      "data shape:  (651, 1)\n",
      "sample size: 325\n"
     ]
    },
    {
     "name": "stderr",
     "output_type": "stream",
     "text": [
      "bootstrap: 100%|███████████████████████████| 1000/1000 [00:05<00:00, 183.99it/s]\n"
     ]
    },
    {
     "name": "stdout",
     "output_type": "stream",
     "text": [
      "\n",
      "count sample diff f1   is twice tot diff f1....... 962  / 1000    p < 0.962  \u001b[38;5;8m!\u001b[0m\n",
      "count sample diff prec is twice tot diff prec..... 919  / 1000    p < 0.919  \n",
      "count sample diff rec  is twice tot diff rec ..... 969  / 1000    p < 0.969  \u001b[38;5;8m!\u001b[0m\n",
      "count sample diff acc  is twice tot diff acc...... 857  / 1000    p < 0.857  \n",
      "\n",
      "\n",
      "Seed: 2803636207 - Split: 3 - age_range - Group: 18 - 24\n",
      "data shape:  (2643, 1)\n",
      "sample size: 1321\n"
     ]
    },
    {
     "name": "stderr",
     "output_type": "stream",
     "text": [
      "bootstrap: 100%|███████████████████████████| 1000/1000 [00:08<00:00, 124.32it/s]\n"
     ]
    },
    {
     "name": "stdout",
     "output_type": "stream",
     "text": [
      "\n",
      "count sample diff f1   is twice tot diff f1....... 537  / 1000    p < 0.537  \n",
      "count sample diff prec is twice tot diff prec..... 586  / 1000    p < 0.586  \n",
      "count sample diff rec  is twice tot diff rec ..... 476  / 1000    p < 0.476  \n",
      "count sample diff acc  is twice tot diff acc...... 730  / 1000    p < 0.73   \n",
      "\n",
      "\n",
      "Seed: 2803636207 - Split: 3 - age_range - Group: 55 - 64\n",
      "data shape:  (1841, 1)\n",
      "sample size: 920\n"
     ]
    },
    {
     "name": "stderr",
     "output_type": "stream",
     "text": [
      "bootstrap: 100%|███████████████████████████| 1000/1000 [00:06<00:00, 160.96it/s]\n"
     ]
    },
    {
     "name": "stdout",
     "output_type": "stream",
     "text": [
      "\n",
      "count sample diff f1   is twice tot diff f1....... 151  / 1000    p < 0.151  \n",
      "count sample diff prec is twice tot diff prec..... 50   / 1000    p < 0.05   \n",
      "count sample diff rec  is twice tot diff rec ..... 232  / 1000    p < 0.232  \n",
      "count sample diff acc  is twice tot diff acc...... 21   / 1000    p < 0.021  \u001b[38;5;9m*\u001b[0m\n",
      "\n",
      "\n",
      "Seed: 2803636207 - Split: 3 - age_range - Group: 45 - 54\n",
      "data shape:  (3083, 1)\n",
      "sample size: 1541\n"
     ]
    },
    {
     "name": "stderr",
     "output_type": "stream",
     "text": [
      "bootstrap: 100%|███████████████████████████| 1000/1000 [00:07<00:00, 135.61it/s]\n"
     ]
    },
    {
     "name": "stdout",
     "output_type": "stream",
     "text": [
      "\n",
      "count sample diff f1   is twice tot diff f1....... 255  / 1000    p < 0.255  \n",
      "count sample diff prec is twice tot diff prec..... 253  / 1000    p < 0.253  \n",
      "count sample diff rec  is twice tot diff rec ..... 261  / 1000    p < 0.261  \n",
      "count sample diff acc  is twice tot diff acc...... 252  / 1000    p < 0.252  \n",
      "\n",
      "\n",
      "Seed: 165043843 - Split: 0 - age_range - Group: 25 - 34\n",
      "data shape:  (10457, 1)\n",
      "sample size: 5228\n"
     ]
    },
    {
     "name": "stderr",
     "output_type": "stream",
     "text": [
      "bootstrap: 100%|████████████████████████████| 1000/1000 [00:14<00:00, 67.67it/s]\n"
     ]
    },
    {
     "name": "stdout",
     "output_type": "stream",
     "text": [
      "\n",
      "count sample diff f1   is twice tot diff f1....... 157  / 1000    p < 0.157  \n",
      "count sample diff prec is twice tot diff prec..... 217  / 1000    p < 0.217  \n",
      "count sample diff rec  is twice tot diff rec ..... 98   / 1000    p < 0.098  \n",
      "count sample diff acc  is twice tot diff acc...... 317  / 1000    p < 0.317  \n",
      "\n",
      "\n",
      "Seed: 165043843 - Split: 0 - age_range - Group: 35 - 44\n",
      "data shape:  (6238, 1)\n",
      "sample size: 3119\n"
     ]
    },
    {
     "name": "stderr",
     "output_type": "stream",
     "text": [
      "bootstrap: 100%|████████████████████████████| 1000/1000 [00:10<00:00, 94.48it/s]\n"
     ]
    },
    {
     "name": "stdout",
     "output_type": "stream",
     "text": [
      "\n",
      "count sample diff f1   is twice tot diff f1....... 175  / 1000    p < 0.175  \n",
      "count sample diff prec is twice tot diff prec..... 247  / 1000    p < 0.247  \n",
      "count sample diff rec  is twice tot diff rec ..... 97   / 1000    p < 0.097  \n",
      "count sample diff acc  is twice tot diff acc...... 477  / 1000    p < 0.477  \n",
      "\n",
      "\n",
      "Seed: 165043843 - Split: 0 - age_range - Group: 65 or older\n",
      "data shape:  (643, 1)\n",
      "sample size: 321\n"
     ]
    },
    {
     "name": "stderr",
     "output_type": "stream",
     "text": [
      "bootstrap: 100%|███████████████████████████| 1000/1000 [00:05<00:00, 191.55it/s]\n"
     ]
    },
    {
     "name": "stdout",
     "output_type": "stream",
     "text": [
      "\n",
      "count sample diff f1   is twice tot diff f1....... 130  / 1000    p < 0.13   \n",
      "count sample diff prec is twice tot diff prec..... 123  / 1000    p < 0.123  \n",
      "count sample diff rec  is twice tot diff rec ..... 170  / 1000    p < 0.17   \n",
      "count sample diff acc  is twice tot diff acc...... 93   / 1000    p < 0.093  \n",
      "\n",
      "\n",
      "Seed: 165043843 - Split: 0 - age_range - Group: 18 - 24\n",
      "data shape:  (2521, 1)\n",
      "sample size: 1260\n"
     ]
    },
    {
     "name": "stderr",
     "output_type": "stream",
     "text": [
      "bootstrap: 100%|███████████████████████████| 1000/1000 [00:09<00:00, 105.55it/s]\n"
     ]
    },
    {
     "name": "stdout",
     "output_type": "stream",
     "text": [
      "\n",
      "count sample diff f1   is twice tot diff f1....... 7    / 1000    p < 0.007  \u001b[38;5;9m**\u001b[0m\n",
      "count sample diff prec is twice tot diff prec..... 7    / 1000    p < 0.007  \u001b[38;5;9m**\u001b[0m\n",
      "count sample diff rec  is twice tot diff rec ..... 9    / 1000    p < 0.009  \u001b[38;5;9m**\u001b[0m\n",
      "count sample diff acc  is twice tot diff acc...... 5    / 1000    p < 0.005  \u001b[38;5;9m**\u001b[0m\n",
      "\n",
      "\n",
      "Seed: 165043843 - Split: 0 - age_range - Group: 55 - 64\n",
      "data shape:  (1894, 1)\n",
      "sample size: 947\n"
     ]
    },
    {
     "name": "stderr",
     "output_type": "stream",
     "text": [
      "bootstrap: 100%|███████████████████████████| 1000/1000 [00:06<00:00, 162.70it/s]\n"
     ]
    },
    {
     "name": "stdout",
     "output_type": "stream",
     "text": [
      "\n",
      "count sample diff f1   is twice tot diff f1....... 279  / 1000    p < 0.279  \n",
      "count sample diff prec is twice tot diff prec..... 240  / 1000    p < 0.24   \n",
      "count sample diff rec  is twice tot diff rec ..... 299  / 1000    p < 0.299  \n",
      "count sample diff acc  is twice tot diff acc...... 211  / 1000    p < 0.211  \n",
      "\n",
      "\n",
      "Seed: 165043843 - Split: 0 - age_range - Group: 45 - 54\n",
      "data shape:  (3058, 1)\n",
      "sample size: 1529\n"
     ]
    },
    {
     "name": "stderr",
     "output_type": "stream",
     "text": [
      "bootstrap: 100%|███████████████████████████| 1000/1000 [00:07<00:00, 138.09it/s]\n"
     ]
    },
    {
     "name": "stdout",
     "output_type": "stream",
     "text": [
      "\n",
      "count sample diff f1   is twice tot diff f1....... 123  / 1000    p < 0.123  \n",
      "count sample diff prec is twice tot diff prec..... 217  / 1000    p < 0.217  \n",
      "count sample diff rec  is twice tot diff rec ..... 67   / 1000    p < 0.067  \n",
      "count sample diff acc  is twice tot diff acc...... 347  / 1000    p < 0.347  \n",
      "\n",
      "\n",
      "Seed: 165043843 - Split: 1 - age_range - Group: 25 - 34\n",
      "data shape:  (10244, 1)\n",
      "sample size: 5122\n"
     ]
    },
    {
     "name": "stderr",
     "output_type": "stream",
     "text": [
      "bootstrap: 100%|████████████████████████████| 1000/1000 [00:15<00:00, 64.74it/s]\n"
     ]
    },
    {
     "name": "stdout",
     "output_type": "stream",
     "text": [
      "\n",
      "count sample diff f1   is twice tot diff f1....... 918  / 1000    p < 0.918  \n",
      "count sample diff prec is twice tot diff prec..... 966  / 1000    p < 0.966  \u001b[38;5;8m!\u001b[0m\n",
      "count sample diff rec  is twice tot diff rec ..... 848  / 1000    p < 0.848  \n",
      "count sample diff acc  is twice tot diff acc...... 981  / 1000    p < 0.981  \u001b[38;5;8m!\u001b[0m\n",
      "\n",
      "\n",
      "Seed: 165043843 - Split: 1 - age_range - Group: 35 - 44\n",
      "data shape:  (6191, 1)\n",
      "sample size: 3095\n"
     ]
    },
    {
     "name": "stderr",
     "output_type": "stream",
     "text": [
      "bootstrap: 100%|████████████████████████████| 1000/1000 [00:13<00:00, 74.66it/s]\n"
     ]
    },
    {
     "name": "stdout",
     "output_type": "stream",
     "text": [
      "\n",
      "count sample diff f1   is twice tot diff f1....... 352  / 1000    p < 0.352  \n",
      "count sample diff prec is twice tot diff prec..... 484  / 1000    p < 0.484  \n",
      "count sample diff rec  is twice tot diff rec ..... 235  / 1000    p < 0.235  \n",
      "count sample diff acc  is twice tot diff acc...... 672  / 1000    p < 0.672  \n",
      "\n",
      "\n",
      "Seed: 165043843 - Split: 1 - age_range - Group: 65 or older\n",
      "data shape:  (704, 1)\n",
      "sample size: 352\n"
     ]
    },
    {
     "name": "stderr",
     "output_type": "stream",
     "text": [
      "bootstrap: 100%|███████████████████████████| 1000/1000 [00:06<00:00, 158.77it/s]\n"
     ]
    },
    {
     "name": "stdout",
     "output_type": "stream",
     "text": [
      "\n",
      "count sample diff f1   is twice tot diff f1....... 174  / 1000    p < 0.174  \n",
      "count sample diff prec is twice tot diff prec..... 220  / 1000    p < 0.22   \n",
      "count sample diff rec  is twice tot diff rec ..... 164  / 1000    p < 0.164  \n",
      "count sample diff acc  is twice tot diff acc...... 249  / 1000    p < 0.249  \n",
      "\n",
      "\n",
      "Seed: 165043843 - Split: 1 - age_range - Group: 18 - 24\n",
      "data shape:  (2638, 1)\n",
      "sample size: 1319\n"
     ]
    },
    {
     "name": "stderr",
     "output_type": "stream",
     "text": [
      "bootstrap: 100%|████████████████████████████| 1000/1000 [00:11<00:00, 88.77it/s]\n"
     ]
    },
    {
     "name": "stdout",
     "output_type": "stream",
     "text": [
      "\n",
      "count sample diff f1   is twice tot diff f1....... 95   / 1000    p < 0.095  \n",
      "count sample diff prec is twice tot diff prec..... 100  / 1000    p < 0.1    \n",
      "count sample diff rec  is twice tot diff rec ..... 91   / 1000    p < 0.091  \n",
      "count sample diff acc  is twice tot diff acc...... 152  / 1000    p < 0.152  \n",
      "\n",
      "\n",
      "Seed: 165043843 - Split: 1 - age_range - Group: 55 - 64\n",
      "data shape:  (1831, 1)\n",
      "sample size: 915\n"
     ]
    },
    {
     "name": "stderr",
     "output_type": "stream",
     "text": [
      "bootstrap: 100%|███████████████████████████| 1000/1000 [00:06<00:00, 145.54it/s]\n"
     ]
    },
    {
     "name": "stdout",
     "output_type": "stream",
     "text": [
      "\n",
      "count sample diff f1   is twice tot diff f1....... 192  / 1000    p < 0.192  \n",
      "count sample diff prec is twice tot diff prec..... 228  / 1000    p < 0.228  \n",
      "count sample diff rec  is twice tot diff rec ..... 148  / 1000    p < 0.148  \n",
      "count sample diff acc  is twice tot diff acc...... 353  / 1000    p < 0.353  \n",
      "\n",
      "\n",
      "Seed: 165043843 - Split: 1 - age_range - Group: 45 - 54\n",
      "data shape:  (3048, 1)\n",
      "sample size: 1524\n"
     ]
    },
    {
     "name": "stderr",
     "output_type": "stream",
     "text": [
      "bootstrap: 100%|███████████████████████████| 1000/1000 [00:07<00:00, 127.36it/s]\n"
     ]
    },
    {
     "name": "stdout",
     "output_type": "stream",
     "text": [
      "\n",
      "count sample diff f1   is twice tot diff f1....... 806  / 1000    p < 0.806  \n",
      "count sample diff prec is twice tot diff prec..... 852  / 1000    p < 0.852  \n",
      "count sample diff rec  is twice tot diff rec ..... 744  / 1000    p < 0.744  \n",
      "count sample diff acc  is twice tot diff acc...... 889  / 1000    p < 0.889  \n",
      "\n",
      "\n",
      "Seed: 165043843 - Split: 2 - age_range - Group: 25 - 34\n",
      "data shape:  (10311, 1)\n",
      "sample size: 5155\n"
     ]
    },
    {
     "name": "stderr",
     "output_type": "stream",
     "text": [
      "bootstrap: 100%|████████████████████████████| 1000/1000 [00:16<00:00, 58.90it/s]\n"
     ]
    },
    {
     "name": "stdout",
     "output_type": "stream",
     "text": [
      "\n",
      "count sample diff f1   is twice tot diff f1....... 13   / 1000    p < 0.013  \u001b[38;5;9m*\u001b[0m\n",
      "count sample diff prec is twice tot diff prec..... 8    / 1000    p < 0.008  \u001b[38;5;9m**\u001b[0m\n",
      "count sample diff rec  is twice tot diff rec ..... 20   / 1000    p < 0.02   \u001b[38;5;9m*\u001b[0m\n",
      "count sample diff acc  is twice tot diff acc...... 4    / 1000    p < 0.004  \u001b[38;5;9m**\u001b[0m\n",
      "\n",
      "\n",
      "Seed: 165043843 - Split: 2 - age_range - Group: 35 - 44\n",
      "data shape:  (6247, 1)\n",
      "sample size: 3123\n"
     ]
    },
    {
     "name": "stderr",
     "output_type": "stream",
     "text": [
      "bootstrap: 100%|████████████████████████████| 1000/1000 [00:14<00:00, 69.33it/s]\n"
     ]
    },
    {
     "name": "stdout",
     "output_type": "stream",
     "text": [
      "\n",
      "count sample diff f1   is twice tot diff f1....... 18   / 1000    p < 0.018  \u001b[38;5;9m*\u001b[0m\n",
      "count sample diff prec is twice tot diff prec..... 10   / 1000    p < 0.01   \u001b[38;5;9m*\u001b[0m\n",
      "count sample diff rec  is twice tot diff rec ..... 39   / 1000    p < 0.039  \u001b[38;5;9m*\u001b[0m\n",
      "count sample diff acc  is twice tot diff acc...... 3    / 1000    p < 0.003  \u001b[38;5;9m**\u001b[0m\n",
      "\n",
      "\n",
      "Seed: 165043843 - Split: 2 - age_range - Group: 65 or older\n",
      "data shape:  (675, 1)\n",
      "sample size: 337\n"
     ]
    },
    {
     "name": "stderr",
     "output_type": "stream",
     "text": [
      "bootstrap: 100%|███████████████████████████| 1000/1000 [00:05<00:00, 189.25it/s]\n"
     ]
    },
    {
     "name": "stdout",
     "output_type": "stream",
     "text": [
      "\n",
      "count sample diff f1   is twice tot diff f1....... 111  / 1000    p < 0.111  \n",
      "count sample diff prec is twice tot diff prec..... 63   / 1000    p < 0.063  \n",
      "count sample diff rec  is twice tot diff rec ..... 160  / 1000    p < 0.16   \n",
      "count sample diff acc  is twice tot diff acc...... 29   / 1000    p < 0.029  \u001b[38;5;9m*\u001b[0m\n",
      "\n",
      "\n",
      "Seed: 165043843 - Split: 2 - age_range - Group: 18 - 24\n",
      "data shape:  (2697, 1)\n",
      "sample size: 1348\n"
     ]
    },
    {
     "name": "stderr",
     "output_type": "stream",
     "text": [
      "bootstrap: 100%|███████████████████████████| 1000/1000 [00:06<00:00, 147.26it/s]\n"
     ]
    },
    {
     "name": "stdout",
     "output_type": "stream",
     "text": [
      "\n",
      "count sample diff f1   is twice tot diff f1....... 471  / 1000    p < 0.471  \n",
      "count sample diff prec is twice tot diff prec..... 463  / 1000    p < 0.463  \n",
      "count sample diff rec  is twice tot diff rec ..... 509  / 1000    p < 0.509  \n",
      "count sample diff acc  is twice tot diff acc...... 390  / 1000    p < 0.39   \n",
      "\n",
      "\n",
      "Seed: 165043843 - Split: 2 - age_range - Group: 55 - 64\n",
      "data shape:  (1883, 1)\n",
      "sample size: 941\n"
     ]
    },
    {
     "name": "stderr",
     "output_type": "stream",
     "text": [
      "bootstrap: 100%|███████████████████████████| 1000/1000 [00:06<00:00, 160.13it/s]\n"
     ]
    },
    {
     "name": "stdout",
     "output_type": "stream",
     "text": [
      "\n",
      "count sample diff f1   is twice tot diff f1....... 631  / 1000    p < 0.631  \n",
      "count sample diff prec is twice tot diff prec..... 538  / 1000    p < 0.538  \n",
      "count sample diff rec  is twice tot diff rec ..... 722  / 1000    p < 0.722  \n",
      "count sample diff acc  is twice tot diff acc...... 405  / 1000    p < 0.405  \n",
      "\n",
      "\n",
      "Seed: 165043843 - Split: 2 - age_range - Group: 45 - 54\n",
      "data shape:  (2929, 1)\n",
      "sample size: 1464\n"
     ]
    },
    {
     "name": "stderr",
     "output_type": "stream",
     "text": [
      "bootstrap: 100%|███████████████████████████| 1000/1000 [00:07<00:00, 136.36it/s]\n"
     ]
    },
    {
     "name": "stdout",
     "output_type": "stream",
     "text": [
      "\n",
      "count sample diff f1   is twice tot diff f1....... 126  / 1000    p < 0.126  \n",
      "count sample diff prec is twice tot diff prec..... 94   / 1000    p < 0.094  \n",
      "count sample diff rec  is twice tot diff rec ..... 144  / 1000    p < 0.144  \n",
      "count sample diff acc  is twice tot diff acc...... 86   / 1000    p < 0.086  \n",
      "\n",
      "\n",
      "Seed: 165043843 - Split: 3 - age_range - Group: 25 - 34\n",
      "data shape:  (10248, 1)\n",
      "sample size: 5124\n"
     ]
    },
    {
     "name": "stderr",
     "output_type": "stream",
     "text": [
      "bootstrap: 100%|████████████████████████████| 1000/1000 [00:15<00:00, 63.82it/s]\n"
     ]
    },
    {
     "name": "stdout",
     "output_type": "stream",
     "text": [
      "\n",
      "count sample diff f1   is twice tot diff f1....... 119  / 1000    p < 0.119  \n",
      "count sample diff prec is twice tot diff prec..... 201  / 1000    p < 0.201  \n",
      "count sample diff rec  is twice tot diff rec ..... 78   / 1000    p < 0.078  \n",
      "count sample diff acc  is twice tot diff acc...... 285  / 1000    p < 0.285  \n",
      "\n",
      "\n",
      "Seed: 165043843 - Split: 3 - age_range - Group: 35 - 44\n",
      "data shape:  (6324, 1)\n",
      "sample size: 3162\n"
     ]
    },
    {
     "name": "stderr",
     "output_type": "stream",
     "text": [
      "bootstrap: 100%|████████████████████████████| 1000/1000 [00:10<00:00, 97.26it/s]\n"
     ]
    },
    {
     "name": "stdout",
     "output_type": "stream",
     "text": [
      "\n",
      "count sample diff f1   is twice tot diff f1....... 366  / 1000    p < 0.366  \n",
      "count sample diff prec is twice tot diff prec..... 479  / 1000    p < 0.479  \n",
      "count sample diff rec  is twice tot diff rec ..... 249  / 1000    p < 0.249  \n",
      "count sample diff acc  is twice tot diff acc...... 644  / 1000    p < 0.644  \n",
      "\n",
      "\n",
      "Seed: 165043843 - Split: 3 - age_range - Group: 65 or older\n",
      "data shape:  (678, 1)\n",
      "sample size: 339\n"
     ]
    },
    {
     "name": "stderr",
     "output_type": "stream",
     "text": [
      "bootstrap: 100%|███████████████████████████| 1000/1000 [00:05<00:00, 192.48it/s]\n"
     ]
    },
    {
     "name": "stdout",
     "output_type": "stream",
     "text": [
      "\n",
      "count sample diff f1   is twice tot diff f1....... 260  / 1000    p < 0.26   \n",
      "count sample diff prec is twice tot diff prec..... 243  / 1000    p < 0.243  \n",
      "count sample diff rec  is twice tot diff rec ..... 273  / 1000    p < 0.273  \n",
      "count sample diff acc  is twice tot diff acc...... 251  / 1000    p < 0.251  \n",
      "\n",
      "\n",
      "Seed: 165043843 - Split: 3 - age_range - Group: 18 - 24\n",
      "data shape:  (2604, 1)\n",
      "sample size: 1302\n"
     ]
    },
    {
     "name": "stderr",
     "output_type": "stream",
     "text": [
      "bootstrap: 100%|███████████████████████████| 1000/1000 [00:07<00:00, 127.79it/s]\n"
     ]
    },
    {
     "name": "stdout",
     "output_type": "stream",
     "text": [
      "\n",
      "count sample diff f1   is twice tot diff f1....... 35   / 1000    p < 0.035  \u001b[38;5;9m*\u001b[0m\n",
      "count sample diff prec is twice tot diff prec..... 23   / 1000    p < 0.023  \u001b[38;5;9m*\u001b[0m\n",
      "count sample diff rec  is twice tot diff rec ..... 50   / 1000    p < 0.05   \n",
      "count sample diff acc  is twice tot diff acc...... 13   / 1000    p < 0.013  \u001b[38;5;9m*\u001b[0m\n",
      "\n",
      "\n",
      "Seed: 165043843 - Split: 3 - age_range - Group: 55 - 64\n",
      "data shape:  (1852, 1)\n",
      "sample size: 926\n"
     ]
    },
    {
     "name": "stderr",
     "output_type": "stream",
     "text": [
      "bootstrap: 100%|███████████████████████████| 1000/1000 [00:07<00:00, 126.48it/s]\n"
     ]
    },
    {
     "name": "stdout",
     "output_type": "stream",
     "text": [
      "\n",
      "count sample diff f1   is twice tot diff f1....... 207  / 1000    p < 0.207  \n",
      "count sample diff prec is twice tot diff prec..... 183  / 1000    p < 0.183  \n",
      "count sample diff rec  is twice tot diff rec ..... 247  / 1000    p < 0.247  \n",
      "count sample diff acc  is twice tot diff acc...... 153  / 1000    p < 0.153  \n",
      "\n",
      "\n",
      "Seed: 165043843 - Split: 3 - age_range - Group: 45 - 54\n",
      "data shape:  (3065, 1)\n",
      "sample size: 1532\n"
     ]
    },
    {
     "name": "stderr",
     "output_type": "stream",
     "text": [
      "bootstrap: 100%|███████████████████████████| 1000/1000 [00:07<00:00, 136.59it/s]\n"
     ]
    },
    {
     "name": "stdout",
     "output_type": "stream",
     "text": [
      "\n",
      "count sample diff f1   is twice tot diff f1....... 113  / 1000    p < 0.113  \n",
      "count sample diff prec is twice tot diff prec..... 139  / 1000    p < 0.139  \n",
      "count sample diff rec  is twice tot diff rec ..... 106  / 1000    p < 0.106  \n",
      "count sample diff acc  is twice tot diff acc...... 156  / 1000    p < 0.156  \n",
      "\n",
      "\n",
      "Seed: 2923262358 - Split: 0 - age_range - Group: 25 - 34\n",
      "data shape:  (10253, 1)\n",
      "sample size: 5126\n"
     ]
    },
    {
     "name": "stderr",
     "output_type": "stream",
     "text": [
      "bootstrap: 100%|████████████████████████████| 1000/1000 [00:19<00:00, 52.55it/s]\n"
     ]
    },
    {
     "name": "stdout",
     "output_type": "stream",
     "text": [
      "\n",
      "count sample diff f1   is twice tot diff f1....... 813  / 1000    p < 0.813  \n",
      "count sample diff prec is twice tot diff prec..... 887  / 1000    p < 0.887  \n",
      "count sample diff rec  is twice tot diff rec ..... 651  / 1000    p < 0.651  \n",
      "count sample diff acc  is twice tot diff acc...... 950  / 1000    p < 0.95   \n",
      "\n",
      "\n",
      "Seed: 2923262358 - Split: 0 - age_range - Group: 35 - 44\n",
      "data shape:  (6321, 1)\n",
      "sample size: 3160\n"
     ]
    },
    {
     "name": "stderr",
     "output_type": "stream",
     "text": [
      "bootstrap: 100%|████████████████████████████| 1000/1000 [00:10<00:00, 98.01it/s]\n"
     ]
    },
    {
     "name": "stdout",
     "output_type": "stream",
     "text": [
      "\n",
      "count sample diff f1   is twice tot diff f1....... 466  / 1000    p < 0.466  \n",
      "count sample diff prec is twice tot diff prec..... 534  / 1000    p < 0.534  \n",
      "count sample diff rec  is twice tot diff rec ..... 370  / 1000    p < 0.37   \n",
      "count sample diff acc  is twice tot diff acc...... 673  / 1000    p < 0.673  \n",
      "\n",
      "\n",
      "Seed: 2923262358 - Split: 0 - age_range - Group: 65 or older\n",
      "data shape:  (646, 1)\n",
      "sample size: 323\n"
     ]
    },
    {
     "name": "stderr",
     "output_type": "stream",
     "text": [
      "bootstrap: 100%|███████████████████████████| 1000/1000 [00:05<00:00, 191.60it/s]\n"
     ]
    },
    {
     "name": "stdout",
     "output_type": "stream",
     "text": [
      "\n",
      "count sample diff f1   is twice tot diff f1....... 50   / 1000    p < 0.05   \n",
      "count sample diff prec is twice tot diff prec..... 34   / 1000    p < 0.034  \u001b[38;5;9m*\u001b[0m\n",
      "count sample diff rec  is twice tot diff rec ..... 71   / 1000    p < 0.071  \n",
      "count sample diff acc  is twice tot diff acc...... 15   / 1000    p < 0.015  \u001b[38;5;9m*\u001b[0m\n",
      "\n",
      "\n",
      "Seed: 2923262358 - Split: 0 - age_range - Group: 18 - 24\n",
      "data shape:  (2644, 1)\n",
      "sample size: 1322\n"
     ]
    },
    {
     "name": "stderr",
     "output_type": "stream",
     "text": [
      "bootstrap: 100%|███████████████████████████| 1000/1000 [00:06<00:00, 144.27it/s]\n"
     ]
    },
    {
     "name": "stdout",
     "output_type": "stream",
     "text": [
      "\n",
      "count sample diff f1   is twice tot diff f1....... 306  / 1000    p < 0.306  \n",
      "count sample diff prec is twice tot diff prec..... 291  / 1000    p < 0.291  \n",
      "count sample diff rec  is twice tot diff rec ..... 352  / 1000    p < 0.352  \n",
      "count sample diff acc  is twice tot diff acc...... 217  / 1000    p < 0.217  \n",
      "\n",
      "\n",
      "Seed: 2923262358 - Split: 0 - age_range - Group: 55 - 64\n",
      "data shape:  (1869, 1)\n",
      "sample size: 934\n"
     ]
    },
    {
     "name": "stderr",
     "output_type": "stream",
     "text": [
      "bootstrap: 100%|███████████████████████████| 1000/1000 [00:06<00:00, 163.12it/s]\n"
     ]
    },
    {
     "name": "stdout",
     "output_type": "stream",
     "text": [
      "\n",
      "count sample diff f1   is twice tot diff f1....... 424  / 1000    p < 0.424  \n",
      "count sample diff prec is twice tot diff prec..... 321  / 1000    p < 0.321  \n",
      "count sample diff rec  is twice tot diff rec ..... 531  / 1000    p < 0.531  \n",
      "count sample diff acc  is twice tot diff acc...... 189  / 1000    p < 0.189  \n",
      "\n",
      "\n",
      "Seed: 2923262358 - Split: 0 - age_range - Group: 45 - 54\n",
      "data shape:  (3030, 1)\n",
      "sample size: 1515\n"
     ]
    },
    {
     "name": "stderr",
     "output_type": "stream",
     "text": [
      "bootstrap: 100%|███████████████████████████| 1000/1000 [00:07<00:00, 126.97it/s]\n"
     ]
    },
    {
     "name": "stdout",
     "output_type": "stream",
     "text": [
      "\n",
      "count sample diff f1   is twice tot diff f1....... 783  / 1000    p < 0.783  \n",
      "count sample diff prec is twice tot diff prec..... 742  / 1000    p < 0.742  \n",
      "count sample diff rec  is twice tot diff rec ..... 808  / 1000    p < 0.808  \n",
      "count sample diff acc  is twice tot diff acc...... 706  / 1000    p < 0.706  \n",
      "\n",
      "\n",
      "Seed: 2923262358 - Split: 1 - age_range - Group: 25 - 34\n",
      "data shape:  (10398, 1)\n",
      "sample size: 5199\n"
     ]
    },
    {
     "name": "stderr",
     "output_type": "stream",
     "text": [
      "bootstrap: 100%|████████████████████████████| 1000/1000 [00:14<00:00, 66.86it/s]\n"
     ]
    },
    {
     "name": "stdout",
     "output_type": "stream",
     "text": [
      "\n",
      "count sample diff f1   is twice tot diff f1....... 948  / 1000    p < 0.948  \n",
      "count sample diff prec is twice tot diff prec..... 981  / 1000    p < 0.981  \u001b[38;5;8m!\u001b[0m\n",
      "count sample diff rec  is twice tot diff rec ..... 927  / 1000    p < 0.927  \n",
      "count sample diff acc  is twice tot diff acc...... 986  / 1000    p < 0.986  \u001b[38;5;8m!\u001b[0m\n",
      "\n",
      "\n",
      "Seed: 2923262358 - Split: 1 - age_range - Group: 35 - 44\n",
      "data shape:  (6179, 1)\n",
      "sample size: 3089\n"
     ]
    },
    {
     "name": "stderr",
     "output_type": "stream",
     "text": [
      "bootstrap: 100%|████████████████████████████| 1000/1000 [00:12<00:00, 80.11it/s]\n"
     ]
    },
    {
     "name": "stdout",
     "output_type": "stream",
     "text": [
      "\n",
      "count sample diff f1   is twice tot diff f1....... 474  / 1000    p < 0.474  \n",
      "count sample diff prec is twice tot diff prec..... 434  / 1000    p < 0.434  \n",
      "count sample diff rec  is twice tot diff rec ..... 507  / 1000    p < 0.507  \n",
      "count sample diff acc  is twice tot diff acc...... 389  / 1000    p < 0.389  \n",
      "\n",
      "\n",
      "Seed: 2923262358 - Split: 1 - age_range - Group: 65 or older\n",
      "data shape:  (675, 1)\n",
      "sample size: 337\n"
     ]
    },
    {
     "name": "stderr",
     "output_type": "stream",
     "text": [
      "bootstrap: 100%|███████████████████████████| 1000/1000 [00:05<00:00, 188.78it/s]\n"
     ]
    },
    {
     "name": "stdout",
     "output_type": "stream",
     "text": [
      "\n",
      "count sample diff f1   is twice tot diff f1....... 487  / 1000    p < 0.487  \n",
      "count sample diff prec is twice tot diff prec..... 402  / 1000    p < 0.402  \n",
      "count sample diff rec  is twice tot diff rec ..... 492  / 1000    p < 0.492  \n",
      "count sample diff acc  is twice tot diff acc...... 352  / 1000    p < 0.352  \n",
      "\n",
      "\n",
      "Seed: 2923262358 - Split: 1 - age_range - Group: 18 - 24\n",
      "data shape:  (2556, 1)\n",
      "sample size: 1278\n"
     ]
    },
    {
     "name": "stderr",
     "output_type": "stream",
     "text": [
      "bootstrap: 100%|███████████████████████████| 1000/1000 [00:06<00:00, 148.74it/s]\n"
     ]
    },
    {
     "name": "stdout",
     "output_type": "stream",
     "text": [
      "\n",
      "count sample diff f1   is twice tot diff f1....... 569  / 1000    p < 0.569  \n",
      "count sample diff prec is twice tot diff prec..... 491  / 1000    p < 0.491  \n",
      "count sample diff rec  is twice tot diff rec ..... 604  / 1000    p < 0.604  \n",
      "count sample diff acc  is twice tot diff acc...... 347  / 1000    p < 0.347  \n",
      "\n",
      "\n",
      "Seed: 2923262358 - Split: 1 - age_range - Group: 55 - 64\n",
      "data shape:  (1832, 1)\n",
      "sample size: 916\n"
     ]
    },
    {
     "name": "stderr",
     "output_type": "stream",
     "text": [
      "bootstrap: 100%|███████████████████████████| 1000/1000 [00:06<00:00, 163.09it/s]\n"
     ]
    },
    {
     "name": "stdout",
     "output_type": "stream",
     "text": [
      "\n",
      "count sample diff f1   is twice tot diff f1....... 760  / 1000    p < 0.76   \n",
      "count sample diff prec is twice tot diff prec..... 676  / 1000    p < 0.676  \n",
      "count sample diff rec  is twice tot diff rec ..... 793  / 1000    p < 0.793  \n",
      "count sample diff acc  is twice tot diff acc...... 596  / 1000    p < 0.596  \n",
      "\n",
      "\n",
      "Seed: 2923262358 - Split: 1 - age_range - Group: 45 - 54\n",
      "data shape:  (3046, 1)\n",
      "sample size: 1523\n"
     ]
    },
    {
     "name": "stderr",
     "output_type": "stream",
     "text": [
      "bootstrap: 100%|███████████████████████████| 1000/1000 [00:07<00:00, 129.07it/s]\n"
     ]
    },
    {
     "name": "stdout",
     "output_type": "stream",
     "text": [
      "\n",
      "count sample diff f1   is twice tot diff f1....... 793  / 1000    p < 0.793  \n",
      "count sample diff prec is twice tot diff prec..... 820  / 1000    p < 0.82   \n",
      "count sample diff rec  is twice tot diff rec ..... 772  / 1000    p < 0.772  \n",
      "count sample diff acc  is twice tot diff acc...... 826  / 1000    p < 0.826  \n",
      "\n",
      "\n",
      "Seed: 2923262358 - Split: 2 - age_range - Group: 25 - 34\n",
      "data shape:  (10301, 1)\n",
      "sample size: 5150\n"
     ]
    },
    {
     "name": "stderr",
     "output_type": "stream",
     "text": [
      "bootstrap: 100%|████████████████████████████| 1000/1000 [00:17<00:00, 56.53it/s]\n"
     ]
    },
    {
     "name": "stdout",
     "output_type": "stream",
     "text": [
      "\n",
      "count sample diff f1   is twice tot diff f1....... 979  / 1000    p < 0.979  \u001b[38;5;8m!\u001b[0m\n",
      "count sample diff prec is twice tot diff prec..... 986  / 1000    p < 0.986  \u001b[38;5;8m!\u001b[0m\n",
      "count sample diff rec  is twice tot diff rec ..... 958  / 1000    p < 0.958  \u001b[38;5;8m!\u001b[0m\n",
      "count sample diff acc  is twice tot diff acc...... 993  / 1000    p < 0.993  \u001b[38;5;8m!\u001b[0m\n",
      "\n",
      "\n",
      "Seed: 2923262358 - Split: 2 - age_range - Group: 35 - 44\n",
      "data shape:  (6314, 1)\n",
      "sample size: 3157\n"
     ]
    },
    {
     "name": "stderr",
     "output_type": "stream",
     "text": [
      "bootstrap: 100%|████████████████████████████| 1000/1000 [00:10<00:00, 93.72it/s]\n"
     ]
    },
    {
     "name": "stdout",
     "output_type": "stream",
     "text": [
      "\n",
      "count sample diff f1   is twice tot diff f1....... 972  / 1000    p < 0.972  \u001b[38;5;8m!\u001b[0m\n",
      "count sample diff prec is twice tot diff prec..... 969  / 1000    p < 0.969  \u001b[38;5;8m!\u001b[0m\n",
      "count sample diff rec  is twice tot diff rec ..... 972  / 1000    p < 0.972  \u001b[38;5;8m!\u001b[0m\n",
      "count sample diff acc  is twice tot diff acc...... 951  / 1000    p < 0.951  \u001b[38;5;8m!\u001b[0m\n",
      "\n",
      "\n",
      "Seed: 2923262358 - Split: 2 - age_range - Group: 65 or older\n",
      "data shape:  (683, 1)\n",
      "sample size: 341\n"
     ]
    },
    {
     "name": "stderr",
     "output_type": "stream",
     "text": [
      "bootstrap: 100%|███████████████████████████| 1000/1000 [00:08<00:00, 114.48it/s]\n"
     ]
    },
    {
     "name": "stdout",
     "output_type": "stream",
     "text": [
      "\n",
      "count sample diff f1   is twice tot diff f1....... 514  / 1000    p < 0.514  \n",
      "count sample diff prec is twice tot diff prec..... 531  / 1000    p < 0.531  \n",
      "count sample diff rec  is twice tot diff rec ..... 491  / 1000    p < 0.491  \n",
      "count sample diff acc  is twice tot diff acc...... 571  / 1000    p < 0.571  \n",
      "\n",
      "\n",
      "Seed: 2923262358 - Split: 2 - age_range - Group: 18 - 24\n",
      "data shape:  (2596, 1)\n",
      "sample size: 1298\n"
     ]
    },
    {
     "name": "stderr",
     "output_type": "stream",
     "text": [
      "bootstrap: 100%|███████████████████████████| 1000/1000 [00:07<00:00, 141.10it/s]\n"
     ]
    },
    {
     "name": "stdout",
     "output_type": "stream",
     "text": [
      "\n",
      "count sample diff f1   is twice tot diff f1....... 912  / 1000    p < 0.912  \n",
      "count sample diff prec is twice tot diff prec..... 928  / 1000    p < 0.928  \n",
      "count sample diff rec  is twice tot diff rec ..... 892  / 1000    p < 0.892  \n",
      "count sample diff acc  is twice tot diff acc...... 949  / 1000    p < 0.949  \n",
      "\n",
      "\n",
      "Seed: 2923262358 - Split: 2 - age_range - Group: 55 - 64\n",
      "data shape:  (1856, 1)\n",
      "sample size: 928\n"
     ]
    },
    {
     "name": "stderr",
     "output_type": "stream",
     "text": [
      "bootstrap: 100%|███████████████████████████| 1000/1000 [00:06<00:00, 164.66it/s]\n"
     ]
    },
    {
     "name": "stdout",
     "output_type": "stream",
     "text": [
      "\n",
      "count sample diff f1   is twice tot diff f1....... 396  / 1000    p < 0.396  \n",
      "count sample diff prec is twice tot diff prec..... 334  / 1000    p < 0.334  \n",
      "count sample diff rec  is twice tot diff rec ..... 463  / 1000    p < 0.463  \n",
      "count sample diff acc  is twice tot diff acc...... 259  / 1000    p < 0.259  \n",
      "\n",
      "\n",
      "Seed: 2923262358 - Split: 2 - age_range - Group: 45 - 54\n",
      "data shape:  (3010, 1)\n",
      "sample size: 1505\n"
     ]
    },
    {
     "name": "stderr",
     "output_type": "stream",
     "text": [
      "bootstrap: 100%|███████████████████████████| 1000/1000 [00:08<00:00, 121.95it/s]\n"
     ]
    },
    {
     "name": "stdout",
     "output_type": "stream",
     "text": [
      "\n",
      "count sample diff f1   is twice tot diff f1....... 564  / 1000    p < 0.564  \n",
      "count sample diff prec is twice tot diff prec..... 490  / 1000    p < 0.49   \n",
      "count sample diff rec  is twice tot diff rec ..... 614  / 1000    p < 0.614  \n",
      "count sample diff acc  is twice tot diff acc...... 420  / 1000    p < 0.42   \n",
      "\n",
      "\n",
      "Seed: 2923262358 - Split: 3 - age_range - Group: 25 - 34\n",
      "data shape:  (10308, 1)\n",
      "sample size: 5154\n"
     ]
    },
    {
     "name": "stderr",
     "output_type": "stream",
     "text": [
      "bootstrap: 100%|████████████████████████████| 1000/1000 [00:15<00:00, 63.89it/s]\n"
     ]
    },
    {
     "name": "stdout",
     "output_type": "stream",
     "text": [
      "\n",
      "count sample diff f1   is twice tot diff f1....... 786  / 1000    p < 0.786  \n",
      "count sample diff prec is twice tot diff prec..... 803  / 1000    p < 0.803  \n",
      "count sample diff rec  is twice tot diff rec ..... 757  / 1000    p < 0.757  \n",
      "count sample diff acc  is twice tot diff acc...... 830  / 1000    p < 0.83   \n",
      "\n",
      "\n",
      "Seed: 2923262358 - Split: 3 - age_range - Group: 35 - 44\n",
      "data shape:  (6186, 1)\n",
      "sample size: 3093\n"
     ]
    },
    {
     "name": "stderr",
     "output_type": "stream",
     "text": [
      "bootstrap: 100%|████████████████████████████| 1000/1000 [00:11<00:00, 90.52it/s]\n"
     ]
    },
    {
     "name": "stdout",
     "output_type": "stream",
     "text": [
      "\n",
      "count sample diff f1   is twice tot diff f1....... 801  / 1000    p < 0.801  \n",
      "count sample diff prec is twice tot diff prec..... 620  / 1000    p < 0.62   \n",
      "count sample diff rec  is twice tot diff rec ..... 927  / 1000    p < 0.927  \n",
      "count sample diff acc  is twice tot diff acc...... 320  / 1000    p < 0.32   \n",
      "\n",
      "\n",
      "Seed: 2923262358 - Split: 3 - age_range - Group: 65 or older\n",
      "data shape:  (696, 1)\n",
      "sample size: 348\n"
     ]
    },
    {
     "name": "stderr",
     "output_type": "stream",
     "text": [
      "bootstrap: 100%|███████████████████████████| 1000/1000 [00:05<00:00, 185.66it/s]\n"
     ]
    },
    {
     "name": "stdout",
     "output_type": "stream",
     "text": [
      "\n",
      "count sample diff f1   is twice tot diff f1....... 461  / 1000    p < 0.461  \n",
      "count sample diff prec is twice tot diff prec..... 318  / 1000    p < 0.318  \n",
      "count sample diff rec  is twice tot diff rec ..... 578  / 1000    p < 0.578  \n",
      "count sample diff acc  is twice tot diff acc...... 188  / 1000    p < 0.188  \n",
      "\n",
      "\n",
      "Seed: 2923262358 - Split: 3 - age_range - Group: 18 - 24\n",
      "data shape:  (2664, 1)\n",
      "sample size: 1332\n"
     ]
    },
    {
     "name": "stderr",
     "output_type": "stream",
     "text": [
      "bootstrap: 100%|███████████████████████████| 1000/1000 [00:06<00:00, 143.04it/s]\n"
     ]
    },
    {
     "name": "stdout",
     "output_type": "stream",
     "text": [
      "\n",
      "count sample diff f1   is twice tot diff f1....... 195  / 1000    p < 0.195  \n",
      "count sample diff prec is twice tot diff prec..... 186  / 1000    p < 0.186  \n",
      "count sample diff rec  is twice tot diff rec ..... 211  / 1000    p < 0.211  \n",
      "count sample diff acc  is twice tot diff acc...... 156  / 1000    p < 0.156  \n",
      "\n",
      "\n",
      "Seed: 2923262358 - Split: 3 - age_range - Group: 55 - 64\n",
      "data shape:  (1903, 1)\n",
      "sample size: 951\n"
     ]
    },
    {
     "name": "stderr",
     "output_type": "stream",
     "text": [
      "bootstrap: 100%|███████████████████████████| 1000/1000 [00:06<00:00, 144.42it/s]\n"
     ]
    },
    {
     "name": "stdout",
     "output_type": "stream",
     "text": [
      "\n",
      "count sample diff f1   is twice tot diff f1....... 922  / 1000    p < 0.922  \n",
      "count sample diff prec is twice tot diff prec..... 894  / 1000    p < 0.894  \n",
      "count sample diff rec  is twice tot diff rec ..... 941  / 1000    p < 0.941  \n",
      "count sample diff acc  is twice tot diff acc...... 805  / 1000    p < 0.805  \n",
      "\n",
      "\n",
      "Seed: 2923262358 - Split: 3 - age_range - Group: 45 - 54\n",
      "data shape:  (3014, 1)\n",
      "sample size: 1507\n"
     ]
    },
    {
     "name": "stderr",
     "output_type": "stream",
     "text": [
      "bootstrap: 100%|███████████████████████████| 1000/1000 [00:09<00:00, 109.31it/s]"
     ]
    },
    {
     "name": "stdout",
     "output_type": "stream",
     "text": [
      "\n",
      "count sample diff f1   is twice tot diff f1....... 472  / 1000    p < 0.472  \n",
      "count sample diff prec is twice tot diff prec..... 325  / 1000    p < 0.325  \n",
      "count sample diff rec  is twice tot diff rec ..... 567  / 1000    p < 0.567  \n",
      "count sample diff acc  is twice tot diff acc...... 238  / 1000    p < 0.238  \n"
     ]
    },
    {
     "name": "stderr",
     "output_type": "stream",
     "text": [
      "\n"
     ]
    }
   ],
   "source": [
    "age_p_dicts = significance_test_per_group(df, attribute_a='no extra layers', attribute_b='age', to_groups=to_groups, attributes=['age_range'])"
   ]
  },
  {
   "cell_type": "code",
   "execution_count": 11,
   "metadata": {},
   "outputs": [
    {
     "data": {
      "text/plain": [
       "{'65 or older': {'k_count': 1, 'k_bonferroni': -1},\n",
       " '25 - 34': {'k_count': 2, 'k_bonferroni': -1},\n",
       " '45 - 54': {'k_count': -1, 'k_bonferroni': -1},\n",
       " '35 - 44': {'k_count': 1, 'k_bonferroni': -1},\n",
       " '18 - 24': {'k_count': 2, 'k_bonferroni': -1},\n",
       " '55 - 64': {'k_count': 1, 'k_bonferroni': -1}}"
      ]
     },
     "execution_count": 11,
     "metadata": {},
     "output_type": "execute_result"
    }
   ],
   "source": [
    "age_ks = k_estimator_groups(age_p_dicts)\n",
    "age_ks"
   ]
  },
  {
   "cell_type": "code",
   "execution_count": 12,
   "metadata": {},
   "outputs": [
    {
     "data": {
      "text/html": [
       "<div>\n",
       "<style scoped>\n",
       "    .dataframe tbody tr th:only-of-type {\n",
       "        vertical-align: middle;\n",
       "    }\n",
       "\n",
       "    .dataframe tbody tr th {\n",
       "        vertical-align: top;\n",
       "    }\n",
       "\n",
       "    .dataframe thead th {\n",
       "        text-align: right;\n",
       "    }\n",
       "</style>\n",
       "<table border=\"1\" class=\"dataframe\">\n",
       "  <thead>\n",
       "    <tr style=\"text-align: right;\">\n",
       "      <th></th>\n",
       "      <th>$\\hat{k}_{count}$</th>\n",
       "      <th>$\\hat{k}_{Bonf.}$</th>\n",
       "    </tr>\n",
       "  </thead>\n",
       "  <tbody>\n",
       "    <tr>\n",
       "      <th>18 - 24</th>\n",
       "      <td>2</td>\n",
       "      <td>0</td>\n",
       "    </tr>\n",
       "    <tr>\n",
       "      <th>25 - 34</th>\n",
       "      <td>2</td>\n",
       "      <td>0</td>\n",
       "    </tr>\n",
       "    <tr>\n",
       "      <th>35 - 44</th>\n",
       "      <td>1</td>\n",
       "      <td>0</td>\n",
       "    </tr>\n",
       "    <tr>\n",
       "      <th>45 - 54</th>\n",
       "      <td>0</td>\n",
       "      <td>0</td>\n",
       "    </tr>\n",
       "    <tr>\n",
       "      <th>55 - 64</th>\n",
       "      <td>1</td>\n",
       "      <td>0</td>\n",
       "    </tr>\n",
       "    <tr>\n",
       "      <th>65 or older</th>\n",
       "      <td>1</td>\n",
       "      <td>0</td>\n",
       "    </tr>\n",
       "  </tbody>\n",
       "</table>\n",
       "</div>"
      ],
      "text/plain": [
       "             $\\hat{k}_{count}$  $\\hat{k}_{Bonf.}$\n",
       "18 - 24                      2                  0\n",
       "25 - 34                      2                  0\n",
       "35 - 44                      1                  0\n",
       "45 - 54                      0                  0\n",
       "55 - 64                      1                  0\n",
       "65 or older                  1                  0"
      ]
     },
     "execution_count": 12,
     "metadata": {},
     "output_type": "execute_result"
    }
   ],
   "source": [
    "age_ks_df = pd.DataFrame(age_ks).T.sort_index()\n",
    "age_ks_df = age_ks_df.replace({-1: 0})\n",
    "age_ks_df = age_ks_df.rename(columns={'k_count': '$\\hat{k}_{count}$', 'k_bonferroni':'$\\hat{k}_{Bonf.}$'})\n",
    "age_ks_df"
   ]
  },
  {
   "cell_type": "code",
   "execution_count": 13,
   "metadata": {},
   "outputs": [],
   "source": [
    "age_ks_df.to_latex('../tables/replication/baseline/age.tex', escape=False)"
   ]
  },
  {
   "attachments": {},
   "cell_type": "markdown",
   "metadata": {},
   "source": [
    "#### Education"
   ]
  },
  {
   "cell_type": "code",
   "execution_count": 14,
   "metadata": {},
   "outputs": [
    {
     "name": "stdout",
     "output_type": "stream",
     "text": [
      "\n",
      "\n",
      "Seed: 2803636207 - Split: 0 - education - Group: Bachelor's degree in college (4-year)\n",
      "data shape:  (10439, 1)\n",
      "sample size: 5219\n"
     ]
    },
    {
     "name": "stderr",
     "output_type": "stream",
     "text": [
      "bootstrap: 100%|████████████████████████████| 1000/1000 [00:16<00:00, 61.25it/s]\n"
     ]
    },
    {
     "name": "stdout",
     "output_type": "stream",
     "text": [
      "\n",
      "count sample diff f1   is twice tot diff f1....... 161  / 1000    p < 0.161  \n",
      "count sample diff prec is twice tot diff prec..... 150  / 1000    p < 0.15   \n",
      "count sample diff rec  is twice tot diff rec ..... 176  / 1000    p < 0.176  \n",
      "count sample diff acc  is twice tot diff acc...... 140  / 1000    p < 0.14   \n",
      "\n",
      "\n",
      "Seed: 2803636207 - Split: 0 - education - Group: High school graduate (high school diploma or equivalent including GED)\n",
      "data shape:  (2130, 1)\n",
      "sample size: 1065\n"
     ]
    },
    {
     "name": "stderr",
     "output_type": "stream",
     "text": [
      "bootstrap: 100%|███████████████████████████| 1000/1000 [00:06<00:00, 147.94it/s]\n"
     ]
    },
    {
     "name": "stdout",
     "output_type": "stream",
     "text": [
      "\n",
      "count sample diff f1   is twice tot diff f1....... 497  / 1000    p < 0.497  \n",
      "count sample diff prec is twice tot diff prec..... 504  / 1000    p < 0.504  \n",
      "count sample diff rec  is twice tot diff rec ..... 480  / 1000    p < 0.48   \n",
      "count sample diff acc  is twice tot diff acc...... 493  / 1000    p < 0.493  \n",
      "\n",
      "\n",
      "Seed: 2803636207 - Split: 0 - education - Group: Master's degree\n",
      "data shape:  (3534, 1)\n",
      "sample size: 1767\n"
     ]
    },
    {
     "name": "stderr",
     "output_type": "stream",
     "text": [
      "bootstrap: 100%|███████████████████████████| 1000/1000 [00:07<00:00, 127.96it/s]\n"
     ]
    },
    {
     "name": "stdout",
     "output_type": "stream",
     "text": [
      "\n",
      "count sample diff f1   is twice tot diff f1....... 399  / 1000    p < 0.399  \n",
      "count sample diff prec is twice tot diff prec..... 415  / 1000    p < 0.415  \n",
      "count sample diff rec  is twice tot diff rec ..... 386  / 1000    p < 0.386  \n",
      "count sample diff acc  is twice tot diff acc...... 419  / 1000    p < 0.419  \n",
      "\n",
      "\n",
      "Seed: 2803636207 - Split: 0 - education - Group: Associate degree in college (2-year)\n",
      "data shape:  (2603, 1)\n",
      "sample size: 1301\n"
     ]
    },
    {
     "name": "stderr",
     "output_type": "stream",
     "text": [
      "bootstrap: 100%|███████████████████████████| 1000/1000 [00:08<00:00, 113.85it/s]\n"
     ]
    },
    {
     "name": "stdout",
     "output_type": "stream",
     "text": [
      "\n",
      "count sample diff f1   is twice tot diff f1....... 126  / 1000    p < 0.126  \n",
      "count sample diff prec is twice tot diff prec..... 111  / 1000    p < 0.111  \n",
      "count sample diff rec  is twice tot diff rec ..... 161  / 1000    p < 0.161  \n",
      "count sample diff acc  is twice tot diff acc...... 69   / 1000    p < 0.069  \n",
      "\n",
      "\n",
      "Seed: 2803636207 - Split: 0 - education - Group: Some college but no degree\n",
      "data shape:  (4759, 1)\n",
      "sample size: 2379\n"
     ]
    },
    {
     "name": "stderr",
     "output_type": "stream",
     "text": [
      "bootstrap: 100%|███████████████████████████| 1000/1000 [00:09<00:00, 106.90it/s]\n"
     ]
    },
    {
     "name": "stdout",
     "output_type": "stream",
     "text": [
      "\n",
      "count sample diff f1   is twice tot diff f1....... 53   / 1000    p < 0.053  \n",
      "count sample diff prec is twice tot diff prec..... 44   / 1000    p < 0.044  \u001b[38;5;9m*\u001b[0m\n",
      "count sample diff rec  is twice tot diff rec ..... 78   / 1000    p < 0.078  \n",
      "count sample diff acc  is twice tot diff acc...... 24   / 1000    p < 0.024  \u001b[38;5;9m*\u001b[0m\n",
      "\n",
      "\n",
      "Seed: 2803636207 - Split: 0 - education - Group: Doctoral degree\n",
      "data shape:  (277, 1)\n",
      "sample size: 138\n"
     ]
    },
    {
     "name": "stderr",
     "output_type": "stream",
     "text": [
      "bootstrap: 100%|███████████████████████████| 1000/1000 [00:05<00:00, 183.49it/s]\n"
     ]
    },
    {
     "name": "stdout",
     "output_type": "stream",
     "text": [
      "\n",
      "count sample diff f1   is twice tot diff f1....... 154  / 1000    p < 0.154  \n",
      "count sample diff prec is twice tot diff prec..... 46   / 1000    p < 0.046  \u001b[38;5;9m*\u001b[0m\n",
      "count sample diff rec  is twice tot diff rec ..... 242  / 1000    p < 0.242  \n",
      "count sample diff acc  is twice tot diff acc...... 37   / 1000    p < 0.037  \u001b[38;5;9m*\u001b[0m\n",
      "\n",
      "\n",
      "Seed: 2803636207 - Split: 0 - education - Group: Less than high school degree\n",
      "data shape:  (159, 1)\n",
      "sample size: 79\n"
     ]
    },
    {
     "name": "stderr",
     "output_type": "stream",
     "text": [
      "bootstrap: 100%|███████████████████████████| 1000/1000 [00:06<00:00, 155.42it/s]\n"
     ]
    },
    {
     "name": "stdout",
     "output_type": "stream",
     "text": [
      "\n",
      "count sample diff f1   is twice tot diff f1....... 653  / 1000    p < 0.653  \n",
      "count sample diff prec is twice tot diff prec..... 641  / 1000    p < 0.641  \n",
      "count sample diff rec  is twice tot diff rec ..... 664  / 1000    p < 0.664  \n",
      "count sample diff acc  is twice tot diff acc...... 563  / 1000    p < 0.563  \n",
      "\n",
      "\n",
      "Seed: 2803636207 - Split: 0 - education - Group: Professional degree (JD, MD)\n",
      "data shape:  (362, 1)\n",
      "sample size: 181\n"
     ]
    },
    {
     "name": "stderr",
     "output_type": "stream",
     "text": [
      "bootstrap: 100%|███████████████████████████| 1000/1000 [00:05<00:00, 178.19it/s]\n"
     ]
    },
    {
     "name": "stdout",
     "output_type": "stream",
     "text": [
      "\n",
      "count sample diff f1   is twice tot diff f1....... 220  / 1000    p < 0.22   \n",
      "count sample diff prec is twice tot diff prec..... 231  / 1000    p < 0.231  \n",
      "count sample diff rec  is twice tot diff rec ..... 225  / 1000    p < 0.225  \n",
      "count sample diff acc  is twice tot diff acc...... 251  / 1000    p < 0.251  \n",
      "\n",
      "\n",
      "Seed: 2803636207 - Split: 1 - education - Group: Bachelor's degree in college (4-year)\n",
      "data shape:  (10541, 1)\n",
      "sample size: 5270\n"
     ]
    },
    {
     "name": "stderr",
     "output_type": "stream",
     "text": [
      "bootstrap: 100%|████████████████████████████| 1000/1000 [00:14<00:00, 69.53it/s]\n"
     ]
    },
    {
     "name": "stdout",
     "output_type": "stream",
     "text": [
      "\n",
      "count sample diff f1   is twice tot diff f1....... 61   / 1000    p < 0.061  \n",
      "count sample diff prec is twice tot diff prec..... 36   / 1000    p < 0.036  \u001b[38;5;9m*\u001b[0m\n",
      "count sample diff rec  is twice tot diff rec ..... 123  / 1000    p < 0.123  \n",
      "count sample diff acc  is twice tot diff acc...... 20   / 1000    p < 0.02   \u001b[38;5;9m*\u001b[0m\n",
      "\n",
      "\n",
      "Seed: 2803636207 - Split: 1 - education - Group: High school graduate (high school diploma or equivalent including GED)\n",
      "data shape:  (2052, 1)\n",
      "sample size: 1026\n"
     ]
    },
    {
     "name": "stderr",
     "output_type": "stream",
     "text": [
      "bootstrap: 100%|███████████████████████████| 1000/1000 [00:07<00:00, 137.04it/s]\n"
     ]
    },
    {
     "name": "stdout",
     "output_type": "stream",
     "text": [
      "\n",
      "count sample diff f1   is twice tot diff f1....... 77   / 1000    p < 0.077  \n",
      "count sample diff prec is twice tot diff prec..... 66   / 1000    p < 0.066  \n",
      "count sample diff rec  is twice tot diff rec ..... 86   / 1000    p < 0.086  \n",
      "count sample diff acc  is twice tot diff acc...... 61   / 1000    p < 0.061  \n",
      "\n",
      "\n",
      "Seed: 2803636207 - Split: 1 - education - Group: Master's degree\n",
      "data shape:  (3455, 1)\n",
      "sample size: 1727\n"
     ]
    },
    {
     "name": "stderr",
     "output_type": "stream",
     "text": [
      "bootstrap: 100%|███████████████████████████| 1000/1000 [00:08<00:00, 116.87it/s]\n"
     ]
    },
    {
     "name": "stdout",
     "output_type": "stream",
     "text": [
      "\n",
      "count sample diff f1   is twice tot diff f1....... 576  / 1000    p < 0.576  \n",
      "count sample diff prec is twice tot diff prec..... 541  / 1000    p < 0.541  \n",
      "count sample diff rec  is twice tot diff rec ..... 601  / 1000    p < 0.601  \n",
      "count sample diff acc  is twice tot diff acc...... 528  / 1000    p < 0.528  \n",
      "\n",
      "\n",
      "Seed: 2803636207 - Split: 1 - education - Group: Associate degree in college (2-year)\n",
      "data shape:  (2697, 1)\n",
      "sample size: 1348\n"
     ]
    },
    {
     "name": "stderr",
     "output_type": "stream",
     "text": [
      "bootstrap: 100%|███████████████████████████| 1000/1000 [00:06<00:00, 143.27it/s]\n"
     ]
    },
    {
     "name": "stdout",
     "output_type": "stream",
     "text": [
      "\n",
      "count sample diff f1   is twice tot diff f1....... 119  / 1000    p < 0.119  \n",
      "count sample diff prec is twice tot diff prec..... 111  / 1000    p < 0.111  \n",
      "count sample diff rec  is twice tot diff rec ..... 143  / 1000    p < 0.143  \n",
      "count sample diff acc  is twice tot diff acc...... 80   / 1000    p < 0.08   \n",
      "\n",
      "\n",
      "Seed: 2803636207 - Split: 1 - education - Group: Some college but no degree\n",
      "data shape:  (4539, 1)\n",
      "sample size: 2269\n"
     ]
    },
    {
     "name": "stderr",
     "output_type": "stream",
     "text": [
      "bootstrap: 100%|███████████████████████████| 1000/1000 [00:08<00:00, 122.36it/s]\n"
     ]
    },
    {
     "name": "stdout",
     "output_type": "stream",
     "text": [
      "\n",
      "count sample diff f1   is twice tot diff f1....... 281  / 1000    p < 0.281  \n",
      "count sample diff prec is twice tot diff prec..... 302  / 1000    p < 0.302  \n",
      "count sample diff rec  is twice tot diff rec ..... 266  / 1000    p < 0.266  \n",
      "count sample diff acc  is twice tot diff acc...... 386  / 1000    p < 0.386  \n",
      "\n",
      "\n",
      "Seed: 2803636207 - Split: 1 - education - Group: Doctoral degree\n",
      "data shape:  (297, 1)\n",
      "sample size: 148\n"
     ]
    },
    {
     "name": "stderr",
     "output_type": "stream",
     "text": [
      "bootstrap: 100%|███████████████████████████| 1000/1000 [00:04<00:00, 209.81it/s]\n"
     ]
    },
    {
     "name": "stdout",
     "output_type": "stream",
     "text": [
      "\n",
      "count sample diff f1   is twice tot diff f1....... 406  / 1000    p < 0.406  \n",
      "count sample diff prec is twice tot diff prec..... 499  / 1000    p < 0.499  \n",
      "count sample diff rec  is twice tot diff rec ..... 326  / 1000    p < 0.326  \n",
      "count sample diff acc  is twice tot diff acc...... 639  / 1000    p < 0.639  \n",
      "\n",
      "\n",
      "Seed: 2803636207 - Split: 1 - education - Group: Less than high school degree\n",
      "data shape:  (152, 1)\n",
      "sample size: 76\n"
     ]
    },
    {
     "name": "stderr",
     "output_type": "stream",
     "text": [
      "bootstrap: 100%|███████████████████████████| 1000/1000 [00:04<00:00, 215.36it/s]\n"
     ]
    },
    {
     "name": "stdout",
     "output_type": "stream",
     "text": [
      "\n",
      "count sample diff f1   is twice tot diff f1....... 540  / 1000    p < 0.54   \n",
      "count sample diff prec is twice tot diff prec..... 570  / 1000    p < 0.57   \n",
      "count sample diff rec  is twice tot diff rec ..... 542  / 1000    p < 0.542  \n",
      "count sample diff acc  is twice tot diff acc...... 544  / 1000    p < 0.544  \n",
      "\n",
      "\n",
      "Seed: 2803636207 - Split: 1 - education - Group: Professional degree (JD, MD)\n",
      "data shape:  (372, 1)\n",
      "sample size: 186\n"
     ]
    },
    {
     "name": "stderr",
     "output_type": "stream",
     "text": [
      "bootstrap: 100%|███████████████████████████| 1000/1000 [00:05<00:00, 191.20it/s]\n"
     ]
    },
    {
     "name": "stdout",
     "output_type": "stream",
     "text": [
      "\n",
      "count sample diff f1   is twice tot diff f1....... 91   / 1000    p < 0.091  \n",
      "count sample diff prec is twice tot diff prec..... 83   / 1000    p < 0.083  \n",
      "count sample diff rec  is twice tot diff rec ..... 101  / 1000    p < 0.101  \n",
      "count sample diff acc  is twice tot diff acc...... 61   / 1000    p < 0.061  \n",
      "\n",
      "\n",
      "Seed: 2803636207 - Split: 2 - education - Group: Bachelor's degree in college (4-year)\n",
      "data shape:  (10471, 1)\n",
      "sample size: 5235\n"
     ]
    },
    {
     "name": "stderr",
     "output_type": "stream",
     "text": [
      "bootstrap: 100%|████████████████████████████| 1000/1000 [00:14<00:00, 67.78it/s]\n"
     ]
    },
    {
     "name": "stdout",
     "output_type": "stream",
     "text": [
      "\n",
      "count sample diff f1   is twice tot diff f1....... 843  / 1000    p < 0.843  \n",
      "count sample diff prec is twice tot diff prec..... 909  / 1000    p < 0.909  \n",
      "count sample diff rec  is twice tot diff rec ..... 757  / 1000    p < 0.757  \n",
      "count sample diff acc  is twice tot diff acc...... 948  / 1000    p < 0.948  \n",
      "\n",
      "\n",
      "Seed: 2803636207 - Split: 2 - education - Group: High school graduate (high school diploma or equivalent including GED)\n",
      "data shape:  (2106, 1)\n",
      "sample size: 1053\n"
     ]
    },
    {
     "name": "stderr",
     "output_type": "stream",
     "text": [
      "bootstrap: 100%|███████████████████████████| 1000/1000 [00:07<00:00, 132.81it/s]\n"
     ]
    },
    {
     "name": "stdout",
     "output_type": "stream",
     "text": [
      "\n",
      "count sample diff f1   is twice tot diff f1....... 300  / 1000    p < 0.3    \n",
      "count sample diff prec is twice tot diff prec..... 374  / 1000    p < 0.374  \n",
      "count sample diff rec  is twice tot diff rec ..... 233  / 1000    p < 0.233  \n",
      "count sample diff acc  is twice tot diff acc...... 553  / 1000    p < 0.553  \n",
      "\n",
      "\n",
      "Seed: 2803636207 - Split: 2 - education - Group: Master's degree\n",
      "data shape:  (3510, 1)\n",
      "sample size: 1755\n"
     ]
    },
    {
     "name": "stderr",
     "output_type": "stream",
     "text": [
      "bootstrap: 100%|███████████████████████████| 1000/1000 [00:09<00:00, 108.84it/s]\n"
     ]
    },
    {
     "name": "stdout",
     "output_type": "stream",
     "text": [
      "\n",
      "count sample diff f1   is twice tot diff f1....... 594  / 1000    p < 0.594  \n",
      "count sample diff prec is twice tot diff prec..... 545  / 1000    p < 0.545  \n",
      "count sample diff rec  is twice tot diff rec ..... 620  / 1000    p < 0.62   \n",
      "count sample diff acc  is twice tot diff acc...... 547  / 1000    p < 0.547  \n",
      "\n",
      "\n",
      "Seed: 2803636207 - Split: 2 - education - Group: Associate degree in college (2-year)\n",
      "data shape:  (2604, 1)\n",
      "sample size: 1302\n"
     ]
    },
    {
     "name": "stderr",
     "output_type": "stream",
     "text": [
      "bootstrap: 100%|███████████████████████████| 1000/1000 [00:07<00:00, 131.86it/s]\n"
     ]
    },
    {
     "name": "stdout",
     "output_type": "stream",
     "text": [
      "\n",
      "count sample diff f1   is twice tot diff f1....... 322  / 1000    p < 0.322  \n",
      "count sample diff prec is twice tot diff prec..... 226  / 1000    p < 0.226  \n",
      "count sample diff rec  is twice tot diff rec ..... 412  / 1000    p < 0.412  \n",
      "count sample diff acc  is twice tot diff acc...... 120  / 1000    p < 0.12   \n",
      "\n",
      "\n",
      "Seed: 2803636207 - Split: 2 - education - Group: Some college but no degree\n",
      "data shape:  (4644, 1)\n",
      "sample size: 2322\n"
     ]
    },
    {
     "name": "stderr",
     "output_type": "stream",
     "text": [
      "bootstrap: 100%|███████████████████████████| 1000/1000 [00:08<00:00, 112.23it/s]\n"
     ]
    },
    {
     "name": "stdout",
     "output_type": "stream",
     "text": [
      "\n",
      "count sample diff f1   is twice tot diff f1....... 95   / 1000    p < 0.095  \n",
      "count sample diff prec is twice tot diff prec..... 110  / 1000    p < 0.11   \n",
      "count sample diff rec  is twice tot diff rec ..... 86   / 1000    p < 0.086  \n",
      "count sample diff acc  is twice tot diff acc...... 180  / 1000    p < 0.18   \n",
      "\n",
      "\n",
      "Seed: 2803636207 - Split: 2 - education - Group: Doctoral degree\n",
      "data shape:  (319, 1)\n",
      "sample size: 159\n"
     ]
    },
    {
     "name": "stderr",
     "output_type": "stream",
     "text": [
      "bootstrap: 100%|███████████████████████████| 1000/1000 [00:05<00:00, 169.07it/s]\n"
     ]
    },
    {
     "name": "stdout",
     "output_type": "stream",
     "text": [
      "\n",
      "count sample diff f1   is twice tot diff f1....... 172  / 1000    p < 0.172  \n",
      "count sample diff prec is twice tot diff prec..... 155  / 1000    p < 0.155  \n",
      "count sample diff rec  is twice tot diff rec ..... 184  / 1000    p < 0.184  \n",
      "count sample diff acc  is twice tot diff acc...... 173  / 1000    p < 0.173  \n",
      "\n",
      "\n",
      "Seed: 2803636207 - Split: 2 - education - Group: Less than high school degree\n",
      "data shape:  (184, 1)\n",
      "sample size: 92\n"
     ]
    },
    {
     "name": "stderr",
     "output_type": "stream",
     "text": [
      "bootstrap: 100%|███████████████████████████| 1000/1000 [00:05<00:00, 174.32it/s]\n"
     ]
    },
    {
     "name": "stdout",
     "output_type": "stream",
     "text": [
      "\n",
      "count sample diff f1   is twice tot diff f1....... 139  / 1000    p < 0.139  \n",
      "count sample diff prec is twice tot diff prec..... 96   / 1000    p < 0.096  \n",
      "count sample diff rec  is twice tot diff rec ..... 173  / 1000    p < 0.173  \n",
      "count sample diff acc  is twice tot diff acc...... 23   / 1000    p < 0.023  \u001b[38;5;9m*\u001b[0m\n",
      "\n",
      "\n",
      "Seed: 2803636207 - Split: 2 - education - Group: Professional degree (JD, MD)\n",
      "data shape:  (411, 1)\n",
      "sample size: 205\n"
     ]
    },
    {
     "name": "stderr",
     "output_type": "stream",
     "text": [
      "bootstrap: 100%|███████████████████████████| 1000/1000 [00:04<00:00, 201.86it/s]\n"
     ]
    },
    {
     "name": "stdout",
     "output_type": "stream",
     "text": [
      "\n",
      "count sample diff f1   is twice tot diff f1....... 237  / 1000    p < 0.237  \n",
      "count sample diff prec is twice tot diff prec..... 205  / 1000    p < 0.205  \n",
      "count sample diff rec  is twice tot diff rec ..... 269  / 1000    p < 0.269  \n",
      "count sample diff acc  is twice tot diff acc...... 213  / 1000    p < 0.213  \n",
      "\n",
      "\n",
      "Seed: 2803636207 - Split: 3 - education - Group: Bachelor's degree in college (4-year)\n",
      "data shape:  (10589, 1)\n",
      "sample size: 5294\n"
     ]
    },
    {
     "name": "stderr",
     "output_type": "stream",
     "text": [
      "bootstrap: 100%|████████████████████████████| 1000/1000 [00:18<00:00, 54.55it/s]\n"
     ]
    },
    {
     "name": "stdout",
     "output_type": "stream",
     "text": [
      "\n",
      "count sample diff f1   is twice tot diff f1....... 425  / 1000    p < 0.425  \n",
      "count sample diff prec is twice tot diff prec..... 473  / 1000    p < 0.473  \n",
      "count sample diff rec  is twice tot diff rec ..... 393  / 1000    p < 0.393  \n",
      "count sample diff acc  is twice tot diff acc...... 516  / 1000    p < 0.516  \n",
      "\n",
      "\n",
      "Seed: 2803636207 - Split: 3 - education - Group: High school graduate (high school diploma or equivalent including GED)\n",
      "data shape:  (2032, 1)\n",
      "sample size: 1016\n"
     ]
    },
    {
     "name": "stderr",
     "output_type": "stream",
     "text": [
      "bootstrap: 100%|███████████████████████████| 1000/1000 [00:06<00:00, 162.60it/s]\n"
     ]
    },
    {
     "name": "stdout",
     "output_type": "stream",
     "text": [
      "\n",
      "count sample diff f1   is twice tot diff f1....... 780  / 1000    p < 0.78   \n",
      "count sample diff prec is twice tot diff prec..... 787  / 1000    p < 0.787  \n",
      "count sample diff rec  is twice tot diff rec ..... 773  / 1000    p < 0.773  \n",
      "count sample diff acc  is twice tot diff acc...... 781  / 1000    p < 0.781  \n",
      "\n",
      "\n",
      "Seed: 2803636207 - Split: 3 - education - Group: Master's degree\n",
      "data shape:  (3561, 1)\n",
      "sample size: 1780\n"
     ]
    },
    {
     "name": "stderr",
     "output_type": "stream",
     "text": [
      "bootstrap: 100%|███████████████████████████| 1000/1000 [00:07<00:00, 127.33it/s]\n"
     ]
    },
    {
     "name": "stdout",
     "output_type": "stream",
     "text": [
      "\n",
      "count sample diff f1   is twice tot diff f1....... 888  / 1000    p < 0.888  \n",
      "count sample diff prec is twice tot diff prec..... 873  / 1000    p < 0.873  \n",
      "count sample diff rec  is twice tot diff rec ..... 911  / 1000    p < 0.911  \n",
      "count sample diff acc  is twice tot diff acc...... 856  / 1000    p < 0.856  \n",
      "\n",
      "\n",
      "Seed: 2803636207 - Split: 3 - education - Group: Associate degree in college (2-year)\n",
      "data shape:  (2516, 1)\n",
      "sample size: 1258\n"
     ]
    },
    {
     "name": "stderr",
     "output_type": "stream",
     "text": [
      "bootstrap: 100%|███████████████████████████| 1000/1000 [00:06<00:00, 143.32it/s]\n"
     ]
    },
    {
     "name": "stdout",
     "output_type": "stream",
     "text": [
      "\n",
      "count sample diff f1   is twice tot diff f1....... 703  / 1000    p < 0.703  \n",
      "count sample diff prec is twice tot diff prec..... 641  / 1000    p < 0.641  \n",
      "count sample diff rec  is twice tot diff rec ..... 836  / 1000    p < 0.836  \n",
      "count sample diff acc  is twice tot diff acc...... 154  / 1000    p < 0.154  \n",
      "\n",
      "\n",
      "Seed: 2803636207 - Split: 3 - education - Group: Some college but no degree\n",
      "data shape:  (4718, 1)\n",
      "sample size: 2359\n"
     ]
    },
    {
     "name": "stderr",
     "output_type": "stream",
     "text": [
      "bootstrap: 100%|███████████████████████████| 1000/1000 [00:09<00:00, 105.91it/s]\n"
     ]
    },
    {
     "name": "stdout",
     "output_type": "stream",
     "text": [
      "\n",
      "count sample diff f1   is twice tot diff f1....... 773  / 1000    p < 0.773  \n",
      "count sample diff prec is twice tot diff prec..... 684  / 1000    p < 0.684  \n",
      "count sample diff rec  is twice tot diff rec ..... 822  / 1000    p < 0.822  \n",
      "count sample diff acc  is twice tot diff acc...... 400  / 1000    p < 0.4    \n",
      "\n",
      "\n",
      "Seed: 2803636207 - Split: 3 - education - Group: Doctoral degree\n",
      "data shape:  (327, 1)\n",
      "sample size: 163\n"
     ]
    },
    {
     "name": "stderr",
     "output_type": "stream",
     "text": [
      "bootstrap: 100%|███████████████████████████| 1000/1000 [00:06<00:00, 165.07it/s]\n"
     ]
    },
    {
     "name": "stdout",
     "output_type": "stream",
     "text": [
      "\n",
      "count sample diff f1   is twice tot diff f1....... 607  / 1000    p < 0.607  \n",
      "count sample diff prec is twice tot diff prec..... 637  / 1000    p < 0.637  \n",
      "count sample diff rec  is twice tot diff rec ..... 593  / 1000    p < 0.593  \n",
      "count sample diff acc  is twice tot diff acc...... 673  / 1000    p < 0.673  \n",
      "\n",
      "\n",
      "Seed: 2803636207 - Split: 3 - education - Group: Less than high school degree\n",
      "data shape:  (165, 1)\n",
      "sample size: 82\n"
     ]
    },
    {
     "name": "stderr",
     "output_type": "stream",
     "text": [
      "bootstrap: 100%|███████████████████████████| 1000/1000 [00:05<00:00, 171.05it/s]\n"
     ]
    },
    {
     "name": "stdout",
     "output_type": "stream",
     "text": [
      "\n",
      "count sample diff f1   is twice tot diff f1....... 156  / 1000    p < 0.156  \n",
      "count sample diff prec is twice tot diff prec..... 148  / 1000    p < 0.148  \n",
      "count sample diff rec  is twice tot diff rec ..... 183  / 1000    p < 0.183  \n",
      "count sample diff acc  is twice tot diff acc...... 138  / 1000    p < 0.138  \n",
      "\n",
      "\n",
      "Seed: 2803636207 - Split: 3 - education - Group: Professional degree (JD, MD)\n",
      "data shape:  (375, 1)\n",
      "sample size: 187\n"
     ]
    },
    {
     "name": "stderr",
     "output_type": "stream",
     "text": [
      "bootstrap: 100%|███████████████████████████| 1000/1000 [00:05<00:00, 178.16it/s]\n"
     ]
    },
    {
     "name": "stdout",
     "output_type": "stream",
     "text": [
      "\n",
      "count sample diff f1   is twice tot diff f1....... 545  / 1000    p < 0.545  \n",
      "count sample diff prec is twice tot diff prec..... 580  / 1000    p < 0.58   \n",
      "count sample diff rec  is twice tot diff rec ..... 526  / 1000    p < 0.526  \n",
      "count sample diff acc  is twice tot diff acc...... 576  / 1000    p < 0.576  \n",
      "\n",
      "\n",
      "Seed: 165043843 - Split: 0 - education - Group: Bachelor's degree in college (4-year)\n",
      "data shape:  (10700, 1)\n",
      "sample size: 5350\n"
     ]
    },
    {
     "name": "stderr",
     "output_type": "stream",
     "text": [
      "bootstrap: 100%|████████████████████████████| 1000/1000 [00:16<00:00, 59.47it/s]\n"
     ]
    },
    {
     "name": "stdout",
     "output_type": "stream",
     "text": [
      "\n",
      "count sample diff f1   is twice tot diff f1....... 400  / 1000    p < 0.4    \n",
      "count sample diff prec is twice tot diff prec..... 359  / 1000    p < 0.359  \n",
      "count sample diff rec  is twice tot diff rec ..... 446  / 1000    p < 0.446  \n",
      "count sample diff acc  is twice tot diff acc...... 309  / 1000    p < 0.309  \n",
      "\n",
      "\n",
      "Seed: 165043843 - Split: 0 - education - Group: High school graduate (high school diploma or equivalent including GED)\n",
      "data shape:  (2075, 1)\n",
      "sample size: 1037\n"
     ]
    },
    {
     "name": "stderr",
     "output_type": "stream",
     "text": [
      "bootstrap: 100%|███████████████████████████| 1000/1000 [00:08<00:00, 124.10it/s]\n"
     ]
    },
    {
     "name": "stdout",
     "output_type": "stream",
     "text": [
      "\n",
      "count sample diff f1   is twice tot diff f1....... 246  / 1000    p < 0.246  \n",
      "count sample diff prec is twice tot diff prec..... 328  / 1000    p < 0.328  \n",
      "count sample diff rec  is twice tot diff rec ..... 178  / 1000    p < 0.178  \n",
      "count sample diff acc  is twice tot diff acc...... 555  / 1000    p < 0.555  \n",
      "\n",
      "\n",
      "Seed: 165043843 - Split: 0 - education - Group: Master's degree\n",
      "data shape:  (3425, 1)\n",
      "sample size: 1712\n"
     ]
    },
    {
     "name": "stderr",
     "output_type": "stream",
     "text": [
      "bootstrap: 100%|███████████████████████████| 1000/1000 [00:08<00:00, 120.47it/s]\n"
     ]
    },
    {
     "name": "stdout",
     "output_type": "stream",
     "text": [
      "\n",
      "count sample diff f1   is twice tot diff f1....... 443  / 1000    p < 0.443  \n",
      "count sample diff prec is twice tot diff prec..... 464  / 1000    p < 0.464  \n",
      "count sample diff rec  is twice tot diff rec ..... 434  / 1000    p < 0.434  \n",
      "count sample diff acc  is twice tot diff acc...... 452  / 1000    p < 0.452  \n",
      "\n",
      "\n",
      "Seed: 165043843 - Split: 0 - education - Group: Associate degree in college (2-year)\n",
      "data shape:  (2598, 1)\n",
      "sample size: 1299\n"
     ]
    },
    {
     "name": "stderr",
     "output_type": "stream",
     "text": [
      "bootstrap: 100%|███████████████████████████| 1000/1000 [00:07<00:00, 137.58it/s]\n"
     ]
    },
    {
     "name": "stdout",
     "output_type": "stream",
     "text": [
      "\n",
      "count sample diff f1   is twice tot diff f1....... 690  / 1000    p < 0.69   \n",
      "count sample diff prec is twice tot diff prec..... 613  / 1000    p < 0.613  \n",
      "count sample diff rec  is twice tot diff rec ..... 769  / 1000    p < 0.769  \n",
      "count sample diff acc  is twice tot diff acc...... 340  / 1000    p < 0.34   \n",
      "\n",
      "\n",
      "Seed: 165043843 - Split: 0 - education - Group: Some college but no degree\n",
      "data shape:  (4560, 1)\n",
      "sample size: 2280\n"
     ]
    },
    {
     "name": "stderr",
     "output_type": "stream",
     "text": [
      "bootstrap: 100%|███████████████████████████| 1000/1000 [00:09<00:00, 106.08it/s]\n"
     ]
    },
    {
     "name": "stdout",
     "output_type": "stream",
     "text": [
      "\n",
      "count sample diff f1   is twice tot diff f1....... 1    / 1000    p < 0.001  \u001b[38;5;9m**\u001b[0m\n",
      "count sample diff prec is twice tot diff prec..... 1    / 1000    p < 0.001  \u001b[38;5;9m**\u001b[0m\n",
      "count sample diff rec  is twice tot diff rec ..... 3    / 1000    p < 0.003  \u001b[38;5;9m**\u001b[0m\n",
      "count sample diff acc  is twice tot diff acc...... 0    / 1000    p < 0.0    \u001b[38;5;9m**\u001b[0m\n",
      "\n",
      "\n",
      "Seed: 165043843 - Split: 0 - education - Group: Doctoral degree\n",
      "data shape:  (320, 1)\n",
      "sample size: 160\n"
     ]
    },
    {
     "name": "stderr",
     "output_type": "stream",
     "text": [
      "bootstrap: 100%|███████████████████████████| 1000/1000 [00:05<00:00, 172.95it/s]\n"
     ]
    },
    {
     "name": "stdout",
     "output_type": "stream",
     "text": [
      "\n",
      "count sample diff f1   is twice tot diff f1....... 423  / 1000    p < 0.423  \n",
      "count sample diff prec is twice tot diff prec..... 394  / 1000    p < 0.394  \n",
      "count sample diff rec  is twice tot diff rec ..... 432  / 1000    p < 0.432  \n",
      "count sample diff acc  is twice tot diff acc...... 432  / 1000    p < 0.432  \n",
      "\n",
      "\n",
      "Seed: 165043843 - Split: 0 - education - Group: Less than high school degree\n",
      "data shape:  (144, 1)\n",
      "sample size: 72\n"
     ]
    },
    {
     "name": "stderr",
     "output_type": "stream",
     "text": [
      "bootstrap: 100%|███████████████████████████| 1000/1000 [00:05<00:00, 181.07it/s]\n"
     ]
    },
    {
     "name": "stdout",
     "output_type": "stream",
     "text": [
      "\n",
      "count sample diff f1   is twice tot diff f1....... 605  / 1000    p < 0.605  \n",
      "count sample diff prec is twice tot diff prec..... 524  / 1000    p < 0.524  \n",
      "count sample diff rec  is twice tot diff rec ..... 623  / 1000    p < 0.623  \n",
      "count sample diff acc  is twice tot diff acc...... 339  / 1000    p < 0.339  \n",
      "\n",
      "\n",
      "Seed: 165043843 - Split: 0 - education - Group: Professional degree (JD, MD)\n",
      "data shape:  (384, 1)\n",
      "sample size: 192\n"
     ]
    },
    {
     "name": "stderr",
     "output_type": "stream",
     "text": [
      "bootstrap: 100%|███████████████████████████| 1000/1000 [00:06<00:00, 155.77it/s]\n"
     ]
    },
    {
     "name": "stdout",
     "output_type": "stream",
     "text": [
      "\n",
      "count sample diff f1   is twice tot diff f1....... 57   / 1000    p < 0.057  \n",
      "count sample diff prec is twice tot diff prec..... 44   / 1000    p < 0.044  \u001b[38;5;9m*\u001b[0m\n",
      "count sample diff rec  is twice tot diff rec ..... 79   / 1000    p < 0.079  \n",
      "count sample diff acc  is twice tot diff acc...... 38   / 1000    p < 0.038  \u001b[38;5;9m*\u001b[0m\n",
      "\n",
      "\n",
      "Seed: 165043843 - Split: 1 - education - Group: Bachelor's degree in college (4-year)\n",
      "data shape:  (10348, 1)\n",
      "sample size: 5174\n"
     ]
    },
    {
     "name": "stderr",
     "output_type": "stream",
     "text": [
      "bootstrap: 100%|████████████████████████████| 1000/1000 [00:15<00:00, 63.74it/s]\n"
     ]
    },
    {
     "name": "stdout",
     "output_type": "stream",
     "text": [
      "\n",
      "count sample diff f1   is twice tot diff f1....... 790  / 1000    p < 0.79   \n",
      "count sample diff prec is twice tot diff prec..... 819  / 1000    p < 0.819  \n",
      "count sample diff rec  is twice tot diff rec ..... 744  / 1000    p < 0.744  \n",
      "count sample diff acc  is twice tot diff acc...... 848  / 1000    p < 0.848  \n",
      "\n",
      "\n",
      "Seed: 165043843 - Split: 1 - education - Group: High school graduate (high school diploma or equivalent including GED)\n",
      "data shape:  (2075, 1)\n",
      "sample size: 1037\n"
     ]
    },
    {
     "name": "stderr",
     "output_type": "stream",
     "text": [
      "bootstrap: 100%|███████████████████████████| 1000/1000 [00:06<00:00, 153.11it/s]\n"
     ]
    },
    {
     "name": "stdout",
     "output_type": "stream",
     "text": [
      "\n",
      "count sample diff f1   is twice tot diff f1....... 495  / 1000    p < 0.495  \n",
      "count sample diff prec is twice tot diff prec..... 650  / 1000    p < 0.65   \n",
      "count sample diff rec  is twice tot diff rec ..... 419  / 1000    p < 0.419  \n",
      "count sample diff acc  is twice tot diff acc...... 819  / 1000    p < 0.819  \n",
      "\n",
      "\n",
      "Seed: 165043843 - Split: 1 - education - Group: Master's degree\n",
      "data shape:  (3580, 1)\n",
      "sample size: 1790\n"
     ]
    },
    {
     "name": "stderr",
     "output_type": "stream",
     "text": [
      "bootstrap: 100%|████████████████████████████| 1000/1000 [00:13<00:00, 73.74it/s]\n"
     ]
    },
    {
     "name": "stdout",
     "output_type": "stream",
     "text": [
      "\n",
      "count sample diff f1   is twice tot diff f1....... 764  / 1000    p < 0.764  \n",
      "count sample diff prec is twice tot diff prec..... 713  / 1000    p < 0.713  \n",
      "count sample diff rec  is twice tot diff rec ..... 786  / 1000    p < 0.786  \n",
      "count sample diff acc  is twice tot diff acc...... 719  / 1000    p < 0.719  \n",
      "\n",
      "\n",
      "Seed: 165043843 - Split: 1 - education - Group: Associate degree in college (2-year)\n",
      "data shape:  (2625, 1)\n",
      "sample size: 1312\n"
     ]
    },
    {
     "name": "stderr",
     "output_type": "stream",
     "text": [
      "bootstrap: 100%|███████████████████████████| 1000/1000 [00:08<00:00, 118.06it/s]\n"
     ]
    },
    {
     "name": "stdout",
     "output_type": "stream",
     "text": [
      "\n",
      "count sample diff f1   is twice tot diff f1....... 562  / 1000    p < 0.562  \n",
      "count sample diff prec is twice tot diff prec..... 580  / 1000    p < 0.58   \n",
      "count sample diff rec  is twice tot diff rec ..... 530  / 1000    p < 0.53   \n",
      "count sample diff acc  is twice tot diff acc...... 618  / 1000    p < 0.618  \n",
      "\n",
      "\n",
      "Seed: 165043843 - Split: 1 - education - Group: Some college but no degree\n",
      "data shape:  (4654, 1)\n",
      "sample size: 2327\n"
     ]
    },
    {
     "name": "stderr",
     "output_type": "stream",
     "text": [
      "bootstrap: 100%|███████████████████████████| 1000/1000 [00:08<00:00, 112.19it/s]\n"
     ]
    },
    {
     "name": "stdout",
     "output_type": "stream",
     "text": [
      "\n",
      "count sample diff f1   is twice tot diff f1....... 1    / 1000    p < 0.001  \u001b[38;5;9m**\u001b[0m\n",
      "count sample diff prec is twice tot diff prec..... 2    / 1000    p < 0.002  \u001b[38;5;9m**\u001b[0m\n",
      "count sample diff rec  is twice tot diff rec ..... 1    / 1000    p < 0.001  \u001b[38;5;9m**\u001b[0m\n",
      "count sample diff acc  is twice tot diff acc...... 29   / 1000    p < 0.029  \u001b[38;5;9m*\u001b[0m\n",
      "\n",
      "\n",
      "Seed: 165043843 - Split: 1 - education - Group: Doctoral degree\n",
      "data shape:  (332, 1)\n",
      "sample size: 166\n"
     ]
    },
    {
     "name": "stderr",
     "output_type": "stream",
     "text": [
      "bootstrap: 100%|███████████████████████████| 1000/1000 [00:05<00:00, 185.32it/s]\n"
     ]
    },
    {
     "name": "stdout",
     "output_type": "stream",
     "text": [
      "\n",
      "count sample diff f1   is twice tot diff f1....... 570  / 1000    p < 0.57   \n",
      "count sample diff prec is twice tot diff prec..... 519  / 1000    p < 0.519  \n",
      "count sample diff rec  is twice tot diff rec ..... 616  / 1000    p < 0.616  \n",
      "count sample diff acc  is twice tot diff acc...... 446  / 1000    p < 0.446  \n",
      "\n",
      "\n",
      "Seed: 165043843 - Split: 1 - education - Group: Less than high school degree\n",
      "data shape:  (179, 1)\n",
      "sample size: 89\n"
     ]
    },
    {
     "name": "stderr",
     "output_type": "stream",
     "text": [
      "bootstrap: 100%|███████████████████████████| 1000/1000 [00:07<00:00, 127.63it/s]\n"
     ]
    },
    {
     "name": "stdout",
     "output_type": "stream",
     "text": [
      "\n",
      "count sample diff f1   is twice tot diff f1....... 138  / 1000    p < 0.138  \n",
      "count sample diff prec is twice tot diff prec..... 118  / 1000    p < 0.118  \n",
      "count sample diff rec  is twice tot diff rec ..... 148  / 1000    p < 0.148  \n",
      "count sample diff acc  is twice tot diff acc...... 134  / 1000    p < 0.134  \n",
      "\n",
      "\n",
      "Seed: 165043843 - Split: 1 - education - Group: Professional degree (JD, MD)\n",
      "data shape:  (400, 1)\n",
      "sample size: 200\n"
     ]
    },
    {
     "name": "stderr",
     "output_type": "stream",
     "text": [
      "bootstrap: 100%|███████████████████████████| 1000/1000 [00:06<00:00, 156.43it/s]\n"
     ]
    },
    {
     "name": "stdout",
     "output_type": "stream",
     "text": [
      "\n",
      "count sample diff f1   is twice tot diff f1....... 233  / 1000    p < 0.233  \n",
      "count sample diff prec is twice tot diff prec..... 276  / 1000    p < 0.276  \n",
      "count sample diff rec  is twice tot diff rec ..... 212  / 1000    p < 0.212  \n",
      "count sample diff acc  is twice tot diff acc...... 295  / 1000    p < 0.295  \n",
      "\n",
      "\n",
      "Seed: 165043843 - Split: 2 - education - Group: Bachelor's degree in college (4-year)\n",
      "data shape:  (10497, 1)\n",
      "sample size: 5248\n"
     ]
    },
    {
     "name": "stderr",
     "output_type": "stream",
     "text": [
      "bootstrap: 100%|████████████████████████████| 1000/1000 [00:16<00:00, 61.89it/s]\n"
     ]
    },
    {
     "name": "stdout",
     "output_type": "stream",
     "text": [
      "\n",
      "count sample diff f1   is twice tot diff f1....... 21   / 1000    p < 0.021  \u001b[38;5;9m*\u001b[0m\n",
      "count sample diff prec is twice tot diff prec..... 6    / 1000    p < 0.006  \u001b[38;5;9m**\u001b[0m\n",
      "count sample diff rec  is twice tot diff rec ..... 62   / 1000    p < 0.062  \n",
      "count sample diff acc  is twice tot diff acc...... 1    / 1000    p < 0.001  \u001b[38;5;9m**\u001b[0m\n",
      "\n",
      "\n",
      "Seed: 165043843 - Split: 2 - education - Group: High school graduate (high school diploma or equivalent including GED)\n",
      "data shape:  (2064, 1)\n",
      "sample size: 1032\n"
     ]
    },
    {
     "name": "stderr",
     "output_type": "stream",
     "text": [
      "bootstrap: 100%|███████████████████████████| 1000/1000 [00:08<00:00, 119.29it/s]\n"
     ]
    },
    {
     "name": "stdout",
     "output_type": "stream",
     "text": [
      "\n",
      "count sample diff f1   is twice tot diff f1....... 851  / 1000    p < 0.851  \n",
      "count sample diff prec is twice tot diff prec..... 789  / 1000    p < 0.789  \n",
      "count sample diff rec  is twice tot diff rec ..... 896  / 1000    p < 0.896  \n",
      "count sample diff acc  is twice tot diff acc...... 591  / 1000    p < 0.591  \n",
      "\n",
      "\n",
      "Seed: 165043843 - Split: 2 - education - Group: Master's degree\n",
      "data shape:  (3487, 1)\n",
      "sample size: 1743\n"
     ]
    },
    {
     "name": "stderr",
     "output_type": "stream",
     "text": [
      "bootstrap: 100%|████████████████████████████| 1000/1000 [00:11<00:00, 88.25it/s]\n"
     ]
    },
    {
     "name": "stdout",
     "output_type": "stream",
     "text": [
      "\n",
      "count sample diff f1   is twice tot diff f1....... 957  / 1000    p < 0.957  \u001b[38;5;8m!\u001b[0m\n",
      "count sample diff prec is twice tot diff prec..... 902  / 1000    p < 0.902  \n",
      "count sample diff rec  is twice tot diff rec ..... 973  / 1000    p < 0.973  \u001b[38;5;8m!\u001b[0m\n",
      "count sample diff acc  is twice tot diff acc...... 894  / 1000    p < 0.894  \n",
      "\n",
      "\n",
      "Seed: 165043843 - Split: 2 - education - Group: Associate degree in college (2-year)\n",
      "data shape:  (2546, 1)\n",
      "sample size: 1273\n"
     ]
    },
    {
     "name": "stderr",
     "output_type": "stream",
     "text": [
      "bootstrap: 100%|███████████████████████████| 1000/1000 [00:08<00:00, 120.20it/s]\n"
     ]
    },
    {
     "name": "stdout",
     "output_type": "stream",
     "text": [
      "\n",
      "count sample diff f1   is twice tot diff f1....... 994  / 1000    p < 0.994  \u001b[38;5;8m!\u001b[0m\n",
      "count sample diff prec is twice tot diff prec..... 990  / 1000    p < 0.99   \u001b[38;5;8m!\u001b[0m\n",
      "count sample diff rec  is twice tot diff rec ..... 996  / 1000    p < 0.996  \u001b[38;5;8m!\u001b[0m\n",
      "count sample diff acc  is twice tot diff acc...... 969  / 1000    p < 0.969  \u001b[38;5;8m!\u001b[0m\n",
      "\n",
      "\n",
      "Seed: 165043843 - Split: 2 - education - Group: Some college but no degree\n",
      "data shape:  (4776, 1)\n",
      "sample size: 2388\n"
     ]
    },
    {
     "name": "stderr",
     "output_type": "stream",
     "text": [
      "bootstrap: 100%|███████████████████████████| 1000/1000 [00:08<00:00, 112.53it/s]\n"
     ]
    },
    {
     "name": "stdout",
     "output_type": "stream",
     "text": [
      "\n",
      "count sample diff f1   is twice tot diff f1....... 977  / 1000    p < 0.977  \u001b[38;5;8m!\u001b[0m\n",
      "count sample diff prec is twice tot diff prec..... 945  / 1000    p < 0.945  \n",
      "count sample diff rec  is twice tot diff rec ..... 986  / 1000    p < 0.986  \u001b[38;5;8m!\u001b[0m\n",
      "count sample diff acc  is twice tot diff acc...... 596  / 1000    p < 0.596  \n",
      "\n",
      "\n",
      "Seed: 165043843 - Split: 2 - education - Group: Doctoral degree\n",
      "data shape:  (270, 1)\n",
      "sample size: 135\n"
     ]
    },
    {
     "name": "stderr",
     "output_type": "stream",
     "text": [
      "bootstrap: 100%|███████████████████████████| 1000/1000 [00:05<00:00, 190.77it/s]\n"
     ]
    },
    {
     "name": "stdout",
     "output_type": "stream",
     "text": [
      "\n",
      "count sample diff f1   is twice tot diff f1....... 25   / 1000    p < 0.025  \u001b[38;5;9m*\u001b[0m\n",
      "count sample diff prec is twice tot diff prec..... 28   / 1000    p < 0.028  \u001b[38;5;9m*\u001b[0m\n",
      "count sample diff rec  is twice tot diff rec ..... 37   / 1000    p < 0.037  \u001b[38;5;9m*\u001b[0m\n",
      "count sample diff acc  is twice tot diff acc...... 9    / 1000    p < 0.009  \u001b[38;5;9m**\u001b[0m\n",
      "\n",
      "\n",
      "Seed: 165043843 - Split: 2 - education - Group: Less than high school degree\n",
      "data shape:  (174, 1)\n",
      "sample size: 87\n"
     ]
    },
    {
     "name": "stderr",
     "output_type": "stream",
     "text": [
      "bootstrap: 100%|███████████████████████████| 1000/1000 [00:06<00:00, 160.79it/s]\n"
     ]
    },
    {
     "name": "stdout",
     "output_type": "stream",
     "text": [
      "\n",
      "count sample diff f1   is twice tot diff f1....... 421  / 1000    p < 0.421  \n",
      "count sample diff prec is twice tot diff prec..... 399  / 1000    p < 0.399  \n",
      "count sample diff rec  is twice tot diff rec ..... 440  / 1000    p < 0.44   \n",
      "count sample diff acc  is twice tot diff acc...... 358  / 1000    p < 0.358  \n",
      "\n",
      "\n",
      "Seed: 165043843 - Split: 2 - education - Group: Professional degree (JD, MD)\n",
      "data shape:  (375, 1)\n",
      "sample size: 187\n"
     ]
    },
    {
     "name": "stderr",
     "output_type": "stream",
     "text": [
      "bootstrap: 100%|███████████████████████████| 1000/1000 [00:08<00:00, 123.64it/s]\n"
     ]
    },
    {
     "name": "stdout",
     "output_type": "stream",
     "text": [
      "\n",
      "count sample diff f1   is twice tot diff f1....... 651  / 1000    p < 0.651  \n",
      "count sample diff prec is twice tot diff prec..... 650  / 1000    p < 0.65   \n",
      "count sample diff rec  is twice tot diff rec ..... 611  / 1000    p < 0.611  \n",
      "count sample diff acc  is twice tot diff acc...... 659  / 1000    p < 0.659  \n",
      "\n",
      "\n",
      "Seed: 165043843 - Split: 3 - education - Group: Bachelor's degree in college (4-year)\n",
      "data shape:  (10495, 1)\n",
      "sample size: 5247\n"
     ]
    },
    {
     "name": "stderr",
     "output_type": "stream",
     "text": [
      "bootstrap: 100%|████████████████████████████| 1000/1000 [00:18<00:00, 53.92it/s]\n"
     ]
    },
    {
     "name": "stdout",
     "output_type": "stream",
     "text": [
      "\n",
      "count sample diff f1   is twice tot diff f1....... 347  / 1000    p < 0.347  \n",
      "count sample diff prec is twice tot diff prec..... 232  / 1000    p < 0.232  \n",
      "count sample diff rec  is twice tot diff rec ..... 431  / 1000    p < 0.431  \n",
      "count sample diff acc  is twice tot diff acc...... 160  / 1000    p < 0.16   \n",
      "\n",
      "\n",
      "Seed: 165043843 - Split: 3 - education - Group: High school graduate (high school diploma or equivalent including GED)\n",
      "data shape:  (2106, 1)\n",
      "sample size: 1053\n"
     ]
    },
    {
     "name": "stderr",
     "output_type": "stream",
     "text": [
      "bootstrap: 100%|███████████████████████████| 1000/1000 [00:07<00:00, 132.95it/s]\n"
     ]
    },
    {
     "name": "stdout",
     "output_type": "stream",
     "text": [
      "\n",
      "count sample diff f1   is twice tot diff f1....... 688  / 1000    p < 0.688  \n",
      "count sample diff prec is twice tot diff prec..... 738  / 1000    p < 0.738  \n",
      "count sample diff rec  is twice tot diff rec ..... 663  / 1000    p < 0.663  \n",
      "count sample diff acc  is twice tot diff acc...... 778  / 1000    p < 0.778  \n",
      "\n",
      "\n",
      "Seed: 165043843 - Split: 3 - education - Group: Master's degree\n",
      "data shape:  (3568, 1)\n",
      "sample size: 1784\n"
     ]
    },
    {
     "name": "stderr",
     "output_type": "stream",
     "text": [
      "bootstrap: 100%|███████████████████████████| 1000/1000 [00:07<00:00, 125.90it/s]\n"
     ]
    },
    {
     "name": "stdout",
     "output_type": "stream",
     "text": [
      "\n",
      "count sample diff f1   is twice tot diff f1....... 676  / 1000    p < 0.676  \n",
      "count sample diff prec is twice tot diff prec..... 509  / 1000    p < 0.509  \n",
      "count sample diff rec  is twice tot diff rec ..... 745  / 1000    p < 0.745  \n",
      "count sample diff acc  is twice tot diff acc...... 488  / 1000    p < 0.488  \n",
      "\n",
      "\n",
      "Seed: 165043843 - Split: 3 - education - Group: Associate degree in college (2-year)\n",
      "data shape:  (2651, 1)\n",
      "sample size: 1325\n"
     ]
    },
    {
     "name": "stderr",
     "output_type": "stream",
     "text": [
      "bootstrap: 100%|███████████████████████████| 1000/1000 [00:06<00:00, 153.36it/s]\n"
     ]
    },
    {
     "name": "stdout",
     "output_type": "stream",
     "text": [
      "\n",
      "count sample diff f1   is twice tot diff f1....... 232  / 1000    p < 0.232  \n",
      "count sample diff prec is twice tot diff prec..... 140  / 1000    p < 0.14   \n",
      "count sample diff rec  is twice tot diff rec ..... 288  / 1000    p < 0.288  \n",
      "count sample diff acc  is twice tot diff acc...... 44   / 1000    p < 0.044  \u001b[38;5;9m*\u001b[0m\n",
      "\n",
      "\n",
      "Seed: 165043843 - Split: 3 - education - Group: Some college but no degree\n",
      "data shape:  (4670, 1)\n",
      "sample size: 2335\n"
     ]
    },
    {
     "name": "stderr",
     "output_type": "stream",
     "text": [
      "bootstrap: 100%|███████████████████████████| 1000/1000 [00:08<00:00, 114.00it/s]\n"
     ]
    },
    {
     "name": "stdout",
     "output_type": "stream",
     "text": [
      "\n",
      "count sample diff f1   is twice tot diff f1....... 401  / 1000    p < 0.401  \n",
      "count sample diff prec is twice tot diff prec..... 337  / 1000    p < 0.337  \n",
      "count sample diff rec  is twice tot diff rec ..... 473  / 1000    p < 0.473  \n",
      "count sample diff acc  is twice tot diff acc...... 154  / 1000    p < 0.154  \n",
      "\n",
      "\n",
      "Seed: 165043843 - Split: 3 - education - Group: Doctoral degree\n",
      "data shape:  (298, 1)\n",
      "sample size: 149\n"
     ]
    },
    {
     "name": "stderr",
     "output_type": "stream",
     "text": [
      "bootstrap: 100%|███████████████████████████| 1000/1000 [00:05<00:00, 186.75it/s]\n"
     ]
    },
    {
     "name": "stdout",
     "output_type": "stream",
     "text": [
      "\n",
      "count sample diff f1   is twice tot diff f1....... 738  / 1000    p < 0.738  \n",
      "count sample diff prec is twice tot diff prec..... 642  / 1000    p < 0.642  \n",
      "count sample diff rec  is twice tot diff rec ..... 794  / 1000    p < 0.794  \n",
      "count sample diff acc  is twice tot diff acc...... 429  / 1000    p < 0.429  \n",
      "\n",
      "\n",
      "Seed: 165043843 - Split: 3 - education - Group: Less than high school degree\n",
      "data shape:  (163, 1)\n",
      "sample size: 81\n"
     ]
    },
    {
     "name": "stderr",
     "output_type": "stream",
     "text": [
      "bootstrap: 100%|███████████████████████████| 1000/1000 [00:05<00:00, 199.12it/s]\n"
     ]
    },
    {
     "name": "stdout",
     "output_type": "stream",
     "text": [
      "\n",
      "count sample diff f1   is twice tot diff f1....... 134  / 1000    p < 0.134  \n",
      "count sample diff prec is twice tot diff prec..... 155  / 1000    p < 0.155  \n",
      "count sample diff rec  is twice tot diff rec ..... 147  / 1000    p < 0.147  \n",
      "count sample diff acc  is twice tot diff acc...... 282  / 1000    p < 0.282  \n",
      "\n",
      "\n",
      "Seed: 165043843 - Split: 3 - education - Group: Professional degree (JD, MD)\n",
      "data shape:  (361, 1)\n",
      "sample size: 180\n"
     ]
    },
    {
     "name": "stderr",
     "output_type": "stream",
     "text": [
      "bootstrap: 100%|███████████████████████████| 1000/1000 [00:04<00:00, 209.13it/s]\n"
     ]
    },
    {
     "name": "stdout",
     "output_type": "stream",
     "text": [
      "\n",
      "count sample diff f1   is twice tot diff f1....... 449  / 1000    p < 0.449  \n",
      "count sample diff prec is twice tot diff prec..... 385  / 1000    p < 0.385  \n",
      "count sample diff rec  is twice tot diff rec ..... 475  / 1000    p < 0.475  \n",
      "count sample diff acc  is twice tot diff acc...... 341  / 1000    p < 0.341  \n",
      "\n",
      "\n",
      "Seed: 2923262358 - Split: 0 - education - Group: Bachelor's degree in college (4-year)\n",
      "data shape:  (10517, 1)\n",
      "sample size: 5258\n"
     ]
    },
    {
     "name": "stderr",
     "output_type": "stream",
     "text": [
      "bootstrap: 100%|████████████████████████████| 1000/1000 [00:14<00:00, 69.16it/s]\n"
     ]
    },
    {
     "name": "stdout",
     "output_type": "stream",
     "text": [
      "\n",
      "count sample diff f1   is twice tot diff f1....... 299  / 1000    p < 0.299  \n",
      "count sample diff prec is twice tot diff prec..... 306  / 1000    p < 0.306  \n",
      "count sample diff rec  is twice tot diff rec ..... 283  / 1000    p < 0.283  \n",
      "count sample diff acc  is twice tot diff acc...... 331  / 1000    p < 0.331  \n",
      "\n",
      "\n",
      "Seed: 2923262358 - Split: 0 - education - Group: High school graduate (high school diploma or equivalent including GED)\n",
      "data shape:  (2015, 1)\n",
      "sample size: 1007\n"
     ]
    },
    {
     "name": "stderr",
     "output_type": "stream",
     "text": [
      "bootstrap: 100%|███████████████████████████| 1000/1000 [00:06<00:00, 143.21it/s]\n"
     ]
    },
    {
     "name": "stdout",
     "output_type": "stream",
     "text": [
      "\n",
      "count sample diff f1   is twice tot diff f1....... 139  / 1000    p < 0.139  \n",
      "count sample diff prec is twice tot diff prec..... 144  / 1000    p < 0.144  \n",
      "count sample diff rec  is twice tot diff rec ..... 111  / 1000    p < 0.111  \n",
      "count sample diff acc  is twice tot diff acc...... 249  / 1000    p < 0.249  \n",
      "\n",
      "\n",
      "Seed: 2923262358 - Split: 0 - education - Group: Master's degree\n",
      "data shape:  (3562, 1)\n",
      "sample size: 1781\n"
     ]
    },
    {
     "name": "stderr",
     "output_type": "stream",
     "text": [
      "bootstrap: 100%|████████████████████████████| 1000/1000 [00:10<00:00, 92.34it/s]\n"
     ]
    },
    {
     "name": "stdout",
     "output_type": "stream",
     "text": [
      "\n",
      "count sample diff f1   is twice tot diff f1....... 184  / 1000    p < 0.184  \n",
      "count sample diff prec is twice tot diff prec..... 177  / 1000    p < 0.177  \n",
      "count sample diff rec  is twice tot diff rec ..... 213  / 1000    p < 0.213  \n",
      "count sample diff acc  is twice tot diff acc...... 165  / 1000    p < 0.165  \n",
      "\n",
      "\n",
      "Seed: 2923262358 - Split: 0 - education - Group: Associate degree in college (2-year)\n",
      "data shape:  (2619, 1)\n",
      "sample size: 1309\n"
     ]
    },
    {
     "name": "stderr",
     "output_type": "stream",
     "text": [
      "bootstrap: 100%|███████████████████████████| 1000/1000 [00:06<00:00, 152.69it/s]\n"
     ]
    },
    {
     "name": "stdout",
     "output_type": "stream",
     "text": [
      "\n",
      "count sample diff f1   is twice tot diff f1....... 118  / 1000    p < 0.118  \n",
      "count sample diff prec is twice tot diff prec..... 146  / 1000    p < 0.146  \n",
      "count sample diff rec  is twice tot diff rec ..... 111  / 1000    p < 0.111  \n",
      "count sample diff acc  is twice tot diff acc...... 219  / 1000    p < 0.219  \n",
      "\n",
      "\n",
      "Seed: 2923262358 - Split: 0 - education - Group: Some college but no degree\n",
      "data shape:  (4698, 1)\n",
      "sample size: 2349\n"
     ]
    },
    {
     "name": "stderr",
     "output_type": "stream",
     "text": [
      "bootstrap: 100%|███████████████████████████| 1000/1000 [00:08<00:00, 115.14it/s]\n"
     ]
    },
    {
     "name": "stdout",
     "output_type": "stream",
     "text": [
      "\n",
      "count sample diff f1   is twice tot diff f1....... 321  / 1000    p < 0.321  \n",
      "count sample diff prec is twice tot diff prec..... 313  / 1000    p < 0.313  \n",
      "count sample diff rec  is twice tot diff rec ..... 342  / 1000    p < 0.342  \n",
      "count sample diff acc  is twice tot diff acc...... 271  / 1000    p < 0.271  \n",
      "\n",
      "\n",
      "Seed: 2923262358 - Split: 0 - education - Group: Doctoral degree\n",
      "data shape:  (306, 1)\n",
      "sample size: 153\n"
     ]
    },
    {
     "name": "stderr",
     "output_type": "stream",
     "text": [
      "bootstrap: 100%|███████████████████████████| 1000/1000 [00:04<00:00, 203.05it/s]\n"
     ]
    },
    {
     "name": "stdout",
     "output_type": "stream",
     "text": [
      "\n",
      "count sample diff f1   is twice tot diff f1....... 163  / 1000    p < 0.163  \n",
      "count sample diff prec is twice tot diff prec..... 24   / 1000    p < 0.024  \u001b[38;5;9m*\u001b[0m\n",
      "count sample diff rec  is twice tot diff rec ..... 417  / 1000    p < 0.417  \n",
      "count sample diff acc  is twice tot diff acc...... 10   / 1000    p < 0.01   \u001b[38;5;9m*\u001b[0m\n",
      "\n",
      "\n",
      "Seed: 2923262358 - Split: 0 - education - Group: Less than high school degree\n",
      "data shape:  (158, 1)\n",
      "sample size: 79\n"
     ]
    },
    {
     "name": "stderr",
     "output_type": "stream",
     "text": [
      "bootstrap: 100%|███████████████████████████| 1000/1000 [00:04<00:00, 210.14it/s]\n"
     ]
    },
    {
     "name": "stdout",
     "output_type": "stream",
     "text": [
      "\n",
      "count sample diff f1   is twice tot diff f1....... 202  / 1000    p < 0.202  \n",
      "count sample diff prec is twice tot diff prec..... 146  / 1000    p < 0.146  \n",
      "count sample diff rec  is twice tot diff rec ..... 349  / 1000    p < 0.349  \n",
      "count sample diff acc  is twice tot diff acc...... 47   / 1000    p < 0.047  \u001b[38;5;9m*\u001b[0m\n",
      "\n",
      "\n",
      "Seed: 2923262358 - Split: 0 - education - Group: Professional degree (JD, MD)\n",
      "data shape:  (352, 1)\n",
      "sample size: 176\n"
     ]
    },
    {
     "name": "stderr",
     "output_type": "stream",
     "text": [
      "bootstrap: 100%|███████████████████████████| 1000/1000 [00:04<00:00, 205.91it/s]\n"
     ]
    },
    {
     "name": "stdout",
     "output_type": "stream",
     "text": [
      "\n",
      "count sample diff f1   is twice tot diff f1....... 580  / 1000    p < 0.58   \n",
      "count sample diff prec is twice tot diff prec..... 611  / 1000    p < 0.611  \n",
      "count sample diff rec  is twice tot diff rec ..... 547  / 1000    p < 0.547  \n",
      "count sample diff acc  is twice tot diff acc...... 648  / 1000    p < 0.648  \n",
      "\n",
      "\n",
      "Seed: 2923262358 - Split: 1 - education - Group: Bachelor's degree in college (4-year)\n",
      "data shape:  (10498, 1)\n",
      "sample size: 5249\n"
     ]
    },
    {
     "name": "stderr",
     "output_type": "stream",
     "text": [
      "bootstrap: 100%|████████████████████████████| 1000/1000 [00:13<00:00, 71.72it/s]\n"
     ]
    },
    {
     "name": "stdout",
     "output_type": "stream",
     "text": [
      "\n",
      "count sample diff f1   is twice tot diff f1....... 950  / 1000    p < 0.95   \n",
      "count sample diff prec is twice tot diff prec..... 933  / 1000    p < 0.933  \n",
      "count sample diff rec  is twice tot diff rec ..... 955  / 1000    p < 0.955  \u001b[38;5;8m!\u001b[0m\n",
      "count sample diff acc  is twice tot diff acc...... 917  / 1000    p < 0.917  \n",
      "\n",
      "\n",
      "Seed: 2923262358 - Split: 1 - education - Group: High school graduate (high school diploma or equivalent including GED)\n",
      "data shape:  (2139, 1)\n",
      "sample size: 1069\n"
     ]
    },
    {
     "name": "stderr",
     "output_type": "stream",
     "text": [
      "bootstrap: 100%|███████████████████████████| 1000/1000 [00:06<00:00, 156.83it/s]\n"
     ]
    },
    {
     "name": "stdout",
     "output_type": "stream",
     "text": [
      "\n",
      "count sample diff f1   is twice tot diff f1....... 638  / 1000    p < 0.638  \n",
      "count sample diff prec is twice tot diff prec..... 640  / 1000    p < 0.64   \n",
      "count sample diff rec  is twice tot diff rec ..... 632  / 1000    p < 0.632  \n",
      "count sample diff acc  is twice tot diff acc...... 631  / 1000    p < 0.631  \n",
      "\n",
      "\n",
      "Seed: 2923262358 - Split: 1 - education - Group: Master's degree\n",
      "data shape:  (3486, 1)\n",
      "sample size: 1743\n"
     ]
    },
    {
     "name": "stderr",
     "output_type": "stream",
     "text": [
      "bootstrap: 100%|███████████████████████████| 1000/1000 [00:07<00:00, 129.17it/s]\n"
     ]
    },
    {
     "name": "stdout",
     "output_type": "stream",
     "text": [
      "\n",
      "count sample diff f1   is twice tot diff f1....... 239  / 1000    p < 0.239  \n",
      "count sample diff prec is twice tot diff prec..... 204  / 1000    p < 0.204  \n",
      "count sample diff rec  is twice tot diff rec ..... 245  / 1000    p < 0.245  \n",
      "count sample diff acc  is twice tot diff acc...... 197  / 1000    p < 0.197  \n",
      "\n",
      "\n",
      "Seed: 2923262358 - Split: 1 - education - Group: Associate degree in college (2-year)\n",
      "data shape:  (2588, 1)\n",
      "sample size: 1294\n"
     ]
    },
    {
     "name": "stderr",
     "output_type": "stream",
     "text": [
      "bootstrap: 100%|███████████████████████████| 1000/1000 [00:06<00:00, 155.21it/s]\n"
     ]
    },
    {
     "name": "stdout",
     "output_type": "stream",
     "text": [
      "\n",
      "count sample diff f1   is twice tot diff f1....... 768  / 1000    p < 0.768  \n",
      "count sample diff prec is twice tot diff prec..... 867  / 1000    p < 0.867  \n",
      "count sample diff rec  is twice tot diff rec ..... 719  / 1000    p < 0.719  \n",
      "count sample diff acc  is twice tot diff acc...... 950  / 1000    p < 0.95   \n",
      "\n",
      "\n",
      "Seed: 2923262358 - Split: 1 - education - Group: Some college but no degree\n",
      "data shape:  (4666, 1)\n",
      "sample size: 2333\n"
     ]
    },
    {
     "name": "stderr",
     "output_type": "stream",
     "text": [
      "bootstrap: 100%|███████████████████████████| 1000/1000 [00:08<00:00, 122.92it/s]\n"
     ]
    },
    {
     "name": "stdout",
     "output_type": "stream",
     "text": [
      "\n",
      "count sample diff f1   is twice tot diff f1....... 774  / 1000    p < 0.774  \n",
      "count sample diff prec is twice tot diff prec..... 725  / 1000    p < 0.725  \n",
      "count sample diff rec  is twice tot diff rec ..... 822  / 1000    p < 0.822  \n",
      "count sample diff acc  is twice tot diff acc...... 392  / 1000    p < 0.392  \n",
      "\n",
      "\n",
      "Seed: 2923262358 - Split: 1 - education - Group: Doctoral degree\n",
      "data shape:  (295, 1)\n",
      "sample size: 147\n"
     ]
    },
    {
     "name": "stderr",
     "output_type": "stream",
     "text": [
      "bootstrap: 100%|███████████████████████████| 1000/1000 [00:04<00:00, 203.76it/s]\n"
     ]
    },
    {
     "name": "stdout",
     "output_type": "stream",
     "text": [
      "\n",
      "count sample diff f1   is twice tot diff f1....... 825  / 1000    p < 0.825  \n",
      "count sample diff prec is twice tot diff prec..... 562  / 1000    p < 0.562  \n",
      "count sample diff rec  is twice tot diff rec ..... 855  / 1000    p < 0.855  \n",
      "count sample diff acc  is twice tot diff acc...... 391  / 1000    p < 0.391  \n",
      "\n",
      "\n",
      "Seed: 2923262358 - Split: 1 - education - Group: Less than high school degree\n",
      "data shape:  (164, 1)\n",
      "sample size: 82\n"
     ]
    },
    {
     "name": "stderr",
     "output_type": "stream",
     "text": [
      "bootstrap: 100%|███████████████████████████| 1000/1000 [00:04<00:00, 216.29it/s]\n"
     ]
    },
    {
     "name": "stdout",
     "output_type": "stream",
     "text": [
      "\n",
      "count sample diff f1   is twice tot diff f1....... 557  / 1000    p < 0.557  \n",
      "count sample diff prec is twice tot diff prec..... 622  / 1000    p < 0.622  \n",
      "count sample diff rec  is twice tot diff rec ..... 575  / 1000    p < 0.575  \n",
      "count sample diff acc  is twice tot diff acc...... 550  / 1000    p < 0.55   \n",
      "\n",
      "\n",
      "Seed: 2923262358 - Split: 1 - education - Group: Professional degree (JD, MD)\n",
      "data shape:  (378, 1)\n",
      "sample size: 189\n"
     ]
    },
    {
     "name": "stderr",
     "output_type": "stream",
     "text": [
      "bootstrap: 100%|███████████████████████████| 1000/1000 [00:05<00:00, 199.21it/s]\n"
     ]
    },
    {
     "name": "stdout",
     "output_type": "stream",
     "text": [
      "\n",
      "count sample diff f1   is twice tot diff f1....... 754  / 1000    p < 0.754  \n",
      "count sample diff prec is twice tot diff prec..... 644  / 1000    p < 0.644  \n",
      "count sample diff rec  is twice tot diff rec ..... 753  / 1000    p < 0.753  \n",
      "count sample diff acc  is twice tot diff acc...... 669  / 1000    p < 0.669  \n",
      "\n",
      "\n",
      "Seed: 2923262358 - Split: 2 - education - Group: Bachelor's degree in college (4-year)\n",
      "data shape:  (10478, 1)\n",
      "sample size: 5239\n"
     ]
    },
    {
     "name": "stderr",
     "output_type": "stream",
     "text": [
      "bootstrap: 100%|████████████████████████████| 1000/1000 [00:14<00:00, 66.99it/s]\n"
     ]
    },
    {
     "name": "stdout",
     "output_type": "stream",
     "text": [
      "\n",
      "count sample diff f1   is twice tot diff f1....... 896  / 1000    p < 0.896  \n",
      "count sample diff prec is twice tot diff prec..... 873  / 1000    p < 0.873  \n",
      "count sample diff rec  is twice tot diff rec ..... 909  / 1000    p < 0.909  \n",
      "count sample diff acc  is twice tot diff acc...... 853  / 1000    p < 0.853  \n",
      "\n",
      "\n",
      "Seed: 2923262358 - Split: 2 - education - Group: High school graduate (high school diploma or equivalent including GED)\n",
      "data shape:  (2076, 1)\n",
      "sample size: 1038\n"
     ]
    },
    {
     "name": "stderr",
     "output_type": "stream",
     "text": [
      "bootstrap: 100%|███████████████████████████| 1000/1000 [00:06<00:00, 163.77it/s]\n"
     ]
    },
    {
     "name": "stdout",
     "output_type": "stream",
     "text": [
      "\n",
      "count sample diff f1   is twice tot diff f1....... 1000 / 1000    p < 1.0    \u001b[38;5;8m!\u001b[0m\n",
      "count sample diff prec is twice tot diff prec..... 993  / 1000    p < 0.993  \u001b[38;5;8m!\u001b[0m\n",
      "count sample diff rec  is twice tot diff rec ..... 1000 / 1000    p < 1.0    \u001b[38;5;8m!\u001b[0m\n",
      "count sample diff acc  is twice tot diff acc...... 981  / 1000    p < 0.981  \u001b[38;5;8m!\u001b[0m\n",
      "\n",
      "\n",
      "Seed: 2923262358 - Split: 2 - education - Group: Master's degree\n",
      "data shape:  (3516, 1)\n",
      "sample size: 1758\n"
     ]
    },
    {
     "name": "stderr",
     "output_type": "stream",
     "text": [
      "bootstrap: 100%|███████████████████████████| 1000/1000 [00:07<00:00, 131.80it/s]\n"
     ]
    },
    {
     "name": "stdout",
     "output_type": "stream",
     "text": [
      "\n",
      "count sample diff f1   is twice tot diff f1....... 572  / 1000    p < 0.572  \n",
      "count sample diff prec is twice tot diff prec..... 512  / 1000    p < 0.512  \n",
      "count sample diff rec  is twice tot diff rec ..... 598  / 1000    p < 0.598  \n",
      "count sample diff acc  is twice tot diff acc...... 506  / 1000    p < 0.506  \n",
      "\n",
      "\n",
      "Seed: 2923262358 - Split: 2 - education - Group: Associate degree in college (2-year)\n",
      "data shape:  (2575, 1)\n",
      "sample size: 1287\n"
     ]
    },
    {
     "name": "stderr",
     "output_type": "stream",
     "text": [
      "bootstrap: 100%|███████████████████████████| 1000/1000 [00:06<00:00, 153.86it/s]\n"
     ]
    },
    {
     "name": "stdout",
     "output_type": "stream",
     "text": [
      "\n",
      "count sample diff f1   is twice tot diff f1....... 982  / 1000    p < 0.982  \u001b[38;5;8m!\u001b[0m\n",
      "count sample diff prec is twice tot diff prec..... 981  / 1000    p < 0.981  \u001b[38;5;8m!\u001b[0m\n",
      "count sample diff rec  is twice tot diff rec ..... 980  / 1000    p < 0.98   \u001b[38;5;8m!\u001b[0m\n",
      "count sample diff acc  is twice tot diff acc...... 965  / 1000    p < 0.965  \u001b[38;5;8m!\u001b[0m\n",
      "\n",
      "\n",
      "Seed: 2923262358 - Split: 2 - education - Group: Some college but no degree\n",
      "data shape:  (4686, 1)\n",
      "sample size: 2343\n"
     ]
    },
    {
     "name": "stderr",
     "output_type": "stream",
     "text": [
      "bootstrap: 100%|███████████████████████████| 1000/1000 [00:08<00:00, 116.52it/s]\n"
     ]
    },
    {
     "name": "stdout",
     "output_type": "stream",
     "text": [
      "\n",
      "count sample diff f1   is twice tot diff f1....... 873  / 1000    p < 0.873  \n",
      "count sample diff prec is twice tot diff prec..... 861  / 1000    p < 0.861  \n",
      "count sample diff rec  is twice tot diff rec ..... 877  / 1000    p < 0.877  \n",
      "count sample diff acc  is twice tot diff acc...... 794  / 1000    p < 0.794  \n",
      "\n",
      "\n",
      "Seed: 2923262358 - Split: 2 - education - Group: Doctoral degree\n",
      "data shape:  (308, 1)\n",
      "sample size: 154\n"
     ]
    },
    {
     "name": "stderr",
     "output_type": "stream",
     "text": [
      "bootstrap: 100%|███████████████████████████| 1000/1000 [00:04<00:00, 210.03it/s]\n"
     ]
    },
    {
     "name": "stdout",
     "output_type": "stream",
     "text": [
      "\n",
      "count sample diff f1   is twice tot diff f1....... 941  / 1000    p < 0.941  \n",
      "count sample diff prec is twice tot diff prec..... 921  / 1000    p < 0.921  \n",
      "count sample diff rec  is twice tot diff rec ..... 948  / 1000    p < 0.948  \n",
      "count sample diff acc  is twice tot diff acc...... 882  / 1000    p < 0.882  \n",
      "\n",
      "\n",
      "Seed: 2923262358 - Split: 2 - education - Group: Less than high school degree\n",
      "data shape:  (168, 1)\n",
      "sample size: 84\n"
     ]
    },
    {
     "name": "stderr",
     "output_type": "stream",
     "text": [
      "bootstrap: 100%|███████████████████████████| 1000/1000 [00:04<00:00, 212.75it/s]\n"
     ]
    },
    {
     "name": "stdout",
     "output_type": "stream",
     "text": [
      "\n",
      "count sample diff f1   is twice tot diff f1....... 224  / 1000    p < 0.224  \n",
      "count sample diff prec is twice tot diff prec..... 138  / 1000    p < 0.138  \n",
      "count sample diff rec  is twice tot diff rec ..... 236  / 1000    p < 0.236  \n",
      "count sample diff acc  is twice tot diff acc...... 77   / 1000    p < 0.077  \n",
      "\n",
      "\n",
      "Seed: 2923262358 - Split: 2 - education - Group: Professional degree (JD, MD)\n",
      "data shape:  (402, 1)\n",
      "sample size: 201\n"
     ]
    },
    {
     "name": "stderr",
     "output_type": "stream",
     "text": [
      "bootstrap: 100%|███████████████████████████| 1000/1000 [00:04<00:00, 205.53it/s]\n"
     ]
    },
    {
     "name": "stdout",
     "output_type": "stream",
     "text": [
      "\n",
      "count sample diff f1   is twice tot diff f1....... 866  / 1000    p < 0.866  \n",
      "count sample diff prec is twice tot diff prec..... 891  / 1000    p < 0.891  \n",
      "count sample diff rec  is twice tot diff rec ..... 843  / 1000    p < 0.843  \n",
      "count sample diff acc  is twice tot diff acc...... 918  / 1000    p < 0.918  \n",
      "\n",
      "\n",
      "Seed: 2923262358 - Split: 3 - education - Group: Bachelor's degree in college (4-year)\n",
      "data shape:  (10547, 1)\n",
      "sample size: 5273\n"
     ]
    },
    {
     "name": "stderr",
     "output_type": "stream",
     "text": [
      "bootstrap: 100%|████████████████████████████| 1000/1000 [00:14<00:00, 70.80it/s]\n"
     ]
    },
    {
     "name": "stdout",
     "output_type": "stream",
     "text": [
      "\n",
      "count sample diff f1   is twice tot diff f1....... 597  / 1000    p < 0.597  \n",
      "count sample diff prec is twice tot diff prec..... 667  / 1000    p < 0.667  \n",
      "count sample diff rec  is twice tot diff rec ..... 507  / 1000    p < 0.507  \n",
      "count sample diff acc  is twice tot diff acc...... 752  / 1000    p < 0.752  \n",
      "\n",
      "\n",
      "Seed: 2923262358 - Split: 3 - education - Group: High school graduate (high school diploma or equivalent including GED)\n",
      "data shape:  (2090, 1)\n",
      "sample size: 1045\n"
     ]
    },
    {
     "name": "stderr",
     "output_type": "stream",
     "text": [
      "bootstrap: 100%|███████████████████████████| 1000/1000 [00:06<00:00, 163.74it/s]\n"
     ]
    },
    {
     "name": "stdout",
     "output_type": "stream",
     "text": [
      "\n",
      "count sample diff f1   is twice tot diff f1....... 70   / 1000    p < 0.07   \n",
      "count sample diff prec is twice tot diff prec..... 83   / 1000    p < 0.083  \n",
      "count sample diff rec  is twice tot diff rec ..... 56   / 1000    p < 0.056  \n",
      "count sample diff acc  is twice tot diff acc...... 140  / 1000    p < 0.14   \n",
      "\n",
      "\n",
      "Seed: 2923262358 - Split: 3 - education - Group: Master's degree\n",
      "data shape:  (3496, 1)\n",
      "sample size: 1748\n"
     ]
    },
    {
     "name": "stderr",
     "output_type": "stream",
     "text": [
      "bootstrap: 100%|███████████████████████████| 1000/1000 [00:07<00:00, 130.14it/s]\n"
     ]
    },
    {
     "name": "stdout",
     "output_type": "stream",
     "text": [
      "\n",
      "count sample diff f1   is twice tot diff f1....... 65   / 1000    p < 0.065  \n",
      "count sample diff prec is twice tot diff prec..... 50   / 1000    p < 0.05   \n",
      "count sample diff rec  is twice tot diff rec ..... 82   / 1000    p < 0.082  \n",
      "count sample diff acc  is twice tot diff acc...... 47   / 1000    p < 0.047  \u001b[38;5;9m*\u001b[0m\n",
      "\n",
      "\n",
      "Seed: 2923262358 - Split: 3 - education - Group: Associate degree in college (2-year)\n",
      "data shape:  (2638, 1)\n",
      "sample size: 1319\n"
     ]
    },
    {
     "name": "stderr",
     "output_type": "stream",
     "text": [
      "bootstrap: 100%|███████████████████████████| 1000/1000 [00:06<00:00, 155.24it/s]\n"
     ]
    },
    {
     "name": "stdout",
     "output_type": "stream",
     "text": [
      "\n",
      "count sample diff f1   is twice tot diff f1....... 121  / 1000    p < 0.121  \n",
      "count sample diff prec is twice tot diff prec..... 122  / 1000    p < 0.122  \n",
      "count sample diff rec  is twice tot diff rec ..... 111  / 1000    p < 0.111  \n",
      "count sample diff acc  is twice tot diff acc...... 156  / 1000    p < 0.156  \n",
      "\n",
      "\n",
      "Seed: 2923262358 - Split: 3 - education - Group: Some college but no degree\n",
      "data shape:  (4610, 1)\n",
      "sample size: 2305\n"
     ]
    },
    {
     "name": "stderr",
     "output_type": "stream",
     "text": [
      "bootstrap: 100%|███████████████████████████| 1000/1000 [00:08<00:00, 118.80it/s]\n"
     ]
    },
    {
     "name": "stdout",
     "output_type": "stream",
     "text": [
      "\n",
      "count sample diff f1   is twice tot diff f1....... 131  / 1000    p < 0.131  \n",
      "count sample diff prec is twice tot diff prec..... 128  / 1000    p < 0.128  \n",
      "count sample diff rec  is twice tot diff rec ..... 148  / 1000    p < 0.148  \n",
      "count sample diff acc  is twice tot diff acc...... 116  / 1000    p < 0.116  \n",
      "\n",
      "\n",
      "Seed: 2923262358 - Split: 3 - education - Group: Doctoral degree\n",
      "data shape:  (311, 1)\n",
      "sample size: 155\n"
     ]
    },
    {
     "name": "stderr",
     "output_type": "stream",
     "text": [
      "bootstrap: 100%|███████████████████████████| 1000/1000 [00:04<00:00, 201.94it/s]\n"
     ]
    },
    {
     "name": "stdout",
     "output_type": "stream",
     "text": [
      "\n",
      "count sample diff f1   is twice tot diff f1....... 24   / 1000    p < 0.024  \u001b[38;5;9m*\u001b[0m\n",
      "count sample diff prec is twice tot diff prec..... 32   / 1000    p < 0.032  \u001b[38;5;9m*\u001b[0m\n",
      "count sample diff rec  is twice tot diff rec ..... 65   / 1000    p < 0.065  \n",
      "count sample diff acc  is twice tot diff acc...... 10   / 1000    p < 0.01   \u001b[38;5;9m*\u001b[0m\n",
      "\n",
      "\n",
      "Seed: 2923262358 - Split: 3 - education - Group: Less than high school degree\n",
      "data shape:  (170, 1)\n",
      "sample size: 85\n"
     ]
    },
    {
     "name": "stderr",
     "output_type": "stream",
     "text": [
      "bootstrap: 100%|███████████████████████████| 1000/1000 [00:04<00:00, 206.34it/s]\n"
     ]
    },
    {
     "name": "stdout",
     "output_type": "stream",
     "text": [
      "\n",
      "count sample diff f1   is twice tot diff f1....... 54   / 1000    p < 0.054  \n",
      "count sample diff prec is twice tot diff prec..... 70   / 1000    p < 0.07   \n",
      "count sample diff rec  is twice tot diff rec ..... 50   / 1000    p < 0.05   \n",
      "count sample diff acc  is twice tot diff acc...... 97   / 1000    p < 0.097  \n",
      "\n",
      "\n",
      "Seed: 2923262358 - Split: 3 - education - Group: Professional degree (JD, MD)\n",
      "data shape:  (388, 1)\n",
      "sample size: 194\n"
     ]
    },
    {
     "name": "stderr",
     "output_type": "stream",
     "text": [
      "bootstrap: 100%|███████████████████████████| 1000/1000 [00:04<00:00, 208.17it/s]"
     ]
    },
    {
     "name": "stdout",
     "output_type": "stream",
     "text": [
      "\n",
      "count sample diff f1   is twice tot diff f1....... 431  / 1000    p < 0.431  \n",
      "count sample diff prec is twice tot diff prec..... 433  / 1000    p < 0.433  \n",
      "count sample diff rec  is twice tot diff rec ..... 442  / 1000    p < 0.442  \n",
      "count sample diff acc  is twice tot diff acc...... 442  / 1000    p < 0.442  \n"
     ]
    },
    {
     "name": "stderr",
     "output_type": "stream",
     "text": [
      "\n"
     ]
    }
   ],
   "source": [
    "education_p_dicts = significance_test_per_group(df, attribute_a='no extra layers', attribute_b='education', to_groups=to_groups, attributes=['education'])"
   ]
  },
  {
   "cell_type": "code",
   "execution_count": 15,
   "metadata": {},
   "outputs": [
    {
     "data": {
      "text/plain": [
       "{'Doctoral degree': {'k_count': 2, 'k_bonferroni': -1},\n",
       " \"Bachelor's degree in college (4-year)\": {'k_count': 1, 'k_bonferroni': -1},\n",
       " 'Professional degree (JD, MD)': {'k_count': -1, 'k_bonferroni': -1},\n",
       " 'Less than high school degree': {'k_count': -1, 'k_bonferroni': -1},\n",
       " 'High school graduate (high school diploma or equivalent including GED)': {'k_count': -1,\n",
       "  'k_bonferroni': -1},\n",
       " 'Some college but no degree': {'k_count': 2, 'k_bonferroni': 2},\n",
       " \"Master's degree\": {'k_count': -1, 'k_bonferroni': -1},\n",
       " 'Associate degree in college (2-year)': {'k_count': -1, 'k_bonferroni': -1}}"
      ]
     },
     "execution_count": 15,
     "metadata": {},
     "output_type": "execute_result"
    }
   ],
   "source": [
    "education_ks = k_estimator_groups(education_p_dicts)\n",
    "education_ks"
   ]
  },
  {
   "cell_type": "code",
   "execution_count": 16,
   "metadata": {},
   "outputs": [
    {
     "data": {
      "text/html": [
       "<div>\n",
       "<style scoped>\n",
       "    .dataframe tbody tr th:only-of-type {\n",
       "        vertical-align: middle;\n",
       "    }\n",
       "\n",
       "    .dataframe tbody tr th {\n",
       "        vertical-align: top;\n",
       "    }\n",
       "\n",
       "    .dataframe thead th {\n",
       "        text-align: right;\n",
       "    }\n",
       "</style>\n",
       "<table border=\"1\" class=\"dataframe\">\n",
       "  <thead>\n",
       "    <tr style=\"text-align: right;\">\n",
       "      <th></th>\n",
       "      <th>$\\hat{k}_{count}$</th>\n",
       "      <th>$\\hat{k}_{Bonf.}$</th>\n",
       "    </tr>\n",
       "  </thead>\n",
       "  <tbody>\n",
       "    <tr>\n",
       "      <th>Associate degree</th>\n",
       "      <td>0</td>\n",
       "      <td>0</td>\n",
       "    </tr>\n",
       "    <tr>\n",
       "      <th>Bachelor's degree</th>\n",
       "      <td>1</td>\n",
       "      <td>0</td>\n",
       "    </tr>\n",
       "    <tr>\n",
       "      <th>Doctoral degree</th>\n",
       "      <td>2</td>\n",
       "      <td>0</td>\n",
       "    </tr>\n",
       "    <tr>\n",
       "      <th>High school</th>\n",
       "      <td>0</td>\n",
       "      <td>0</td>\n",
       "    </tr>\n",
       "    <tr>\n",
       "      <th>Belowhigh school</th>\n",
       "      <td>0</td>\n",
       "      <td>0</td>\n",
       "    </tr>\n",
       "    <tr>\n",
       "      <th>Master's degree</th>\n",
       "      <td>0</td>\n",
       "      <td>0</td>\n",
       "    </tr>\n",
       "    <tr>\n",
       "      <th>Professional degree</th>\n",
       "      <td>0</td>\n",
       "      <td>0</td>\n",
       "    </tr>\n",
       "    <tr>\n",
       "      <th>College, no degree</th>\n",
       "      <td>2</td>\n",
       "      <td>2</td>\n",
       "    </tr>\n",
       "  </tbody>\n",
       "</table>\n",
       "</div>"
      ],
      "text/plain": [
       "                     $\\hat{k}_{count}$  $\\hat{k}_{Bonf.}$\n",
       "Associate degree                     0                  0\n",
       "Bachelor's degree                    1                  0\n",
       "Doctoral degree                      2                  0\n",
       "High school                          0                  0\n",
       "Belowhigh school                     0                  0\n",
       "Master's degree                      0                  0\n",
       "Professional degree                  0                  0\n",
       "College, no degree                   2                  2"
      ]
     },
     "execution_count": 16,
     "metadata": {},
     "output_type": "execute_result"
    }
   ],
   "source": [
    "education_ks_df = pd.DataFrame(education_ks).T.sort_index()\n",
    "education_ks_df = education_ks_df.replace({-1: 0})\n",
    "rename_mapping = {\n",
    "        'Less than high school degree': 'Belowhigh school', \n",
    "        'Some college but no degree': 'College, no degree',\n",
    "        'Associate degree in college (2-year)': 'Associate degree',\n",
    "        \"Bachelor's degree in college (4-year)\":  \"Bachelor's degree\",\n",
    "        'High school graduate (high school diploma or equivalent including GED)': 'High school',\n",
    "        'Professional degree (JD, MD)': 'Professional degree'\n",
    "    }\n",
    "education_ks_df.index = education_ks_df.index.map(lambda i: rename_mapping[i] if i in rename_mapping else i)\n",
    "education_ks_df = education_ks_df.rename(columns={'k_count': '$\\hat{k}_{count}$', 'k_bonferroni':'$\\hat{k}_{Bonf.}$'})\n",
    "education_ks_df"
   ]
  },
  {
   "cell_type": "code",
   "execution_count": 17,
   "metadata": {},
   "outputs": [],
   "source": [
    "education_ks_df.to_latex('../tables/replication/baseline/education.tex', escape=False)"
   ]
  },
  {
   "attachments": {},
   "cell_type": "markdown",
   "metadata": {},
   "source": [
    "### Sexual Orientation"
   ]
  },
  {
   "cell_type": "code",
   "execution_count": 18,
   "metadata": {},
   "outputs": [
    {
     "name": "stdout",
     "output_type": "stream",
     "text": [
      "\n",
      "\n",
      "Seed: 2803636207 - Split: 0 - lgbtq_status - Group: Heterosexual\n",
      "data shape:  (22623, 1)\n",
      "sample size: 11311\n"
     ]
    },
    {
     "name": "stderr",
     "output_type": "stream",
     "text": [
      "bootstrap: 100%|████████████████████████████| 1000/1000 [00:25<00:00, 39.79it/s]\n"
     ]
    },
    {
     "name": "stdout",
     "output_type": "stream",
     "text": [
      "\n",
      "count sample diff f1   is twice tot diff f1....... 1000 / 1000    p < 1.0    \u001b[38;5;8m!\u001b[0m\n",
      "count sample diff prec is twice tot diff prec..... 1000 / 1000    p < 1.0    \u001b[38;5;8m!\u001b[0m\n",
      "count sample diff rec  is twice tot diff rec ..... 1000 / 1000    p < 1.0    \u001b[38;5;8m!\u001b[0m\n",
      "count sample diff acc  is twice tot diff acc...... 993  / 1000    p < 0.993  \u001b[38;5;8m!\u001b[0m\n",
      "\n",
      "\n",
      "Seed: 2803636207 - Split: 0 - lgbtq_status - Group: Homosexual\n",
      "data shape:  (739, 1)\n",
      "sample size: 369\n"
     ]
    },
    {
     "name": "stderr",
     "output_type": "stream",
     "text": [
      "bootstrap: 100%|███████████████████████████| 1000/1000 [00:05<00:00, 190.58it/s]\n"
     ]
    },
    {
     "name": "stdout",
     "output_type": "stream",
     "text": [
      "\n",
      "count sample diff f1   is twice tot diff f1....... 669  / 1000    p < 0.669  \n",
      "count sample diff prec is twice tot diff prec..... 675  / 1000    p < 0.675  \n",
      "count sample diff rec  is twice tot diff rec ..... 653  / 1000    p < 0.653  \n",
      "count sample diff acc  is twice tot diff acc...... 662  / 1000    p < 0.662  \n",
      "\n",
      "\n",
      "Seed: 2803636207 - Split: 0 - lgbtq_status - Group: Bisexual\n",
      "data shape:  (2418, 1)\n",
      "sample size: 1209\n"
     ]
    },
    {
     "name": "stderr",
     "output_type": "stream",
     "text": [
      "bootstrap: 100%|███████████████████████████| 1000/1000 [00:07<00:00, 131.73it/s]\n"
     ]
    },
    {
     "name": "stdout",
     "output_type": "stream",
     "text": [
      "\n",
      "count sample diff f1   is twice tot diff f1....... 290  / 1000    p < 0.29   \n",
      "count sample diff prec is twice tot diff prec..... 222  / 1000    p < 0.222  \n",
      "count sample diff rec  is twice tot diff rec ..... 309  / 1000    p < 0.309  \n",
      "count sample diff acc  is twice tot diff acc...... 243  / 1000    p < 0.243  \n",
      "\n",
      "\n",
      "Seed: 2803636207 - Split: 1 - lgbtq_status - Group: Heterosexual\n",
      "data shape:  (22678, 1)\n",
      "sample size: 11339\n"
     ]
    },
    {
     "name": "stderr",
     "output_type": "stream",
     "text": [
      "bootstrap: 100%|████████████████████████████| 1000/1000 [00:26<00:00, 37.85it/s]\n"
     ]
    },
    {
     "name": "stdout",
     "output_type": "stream",
     "text": [
      "\n",
      "count sample diff f1   is twice tot diff f1....... 805  / 1000    p < 0.805  \n",
      "count sample diff prec is twice tot diff prec..... 866  / 1000    p < 0.866  \n",
      "count sample diff rec  is twice tot diff rec ..... 642  / 1000    p < 0.642  \n",
      "count sample diff acc  is twice tot diff acc...... 974  / 1000    p < 0.974  \u001b[38;5;8m!\u001b[0m\n",
      "\n",
      "\n",
      "Seed: 2803636207 - Split: 1 - lgbtq_status - Group: Homosexual\n",
      "data shape:  (686, 1)\n",
      "sample size: 343\n"
     ]
    },
    {
     "name": "stderr",
     "output_type": "stream",
     "text": [
      "bootstrap: 100%|███████████████████████████| 1000/1000 [00:05<00:00, 179.15it/s]\n"
     ]
    },
    {
     "name": "stdout",
     "output_type": "stream",
     "text": [
      "\n",
      "count sample diff f1   is twice tot diff f1....... 681  / 1000    p < 0.681  \n",
      "count sample diff prec is twice tot diff prec..... 578  / 1000    p < 0.578  \n",
      "count sample diff rec  is twice tot diff rec ..... 841  / 1000    p < 0.841  \n",
      "count sample diff acc  is twice tot diff acc...... 306  / 1000    p < 0.306  \n",
      "\n",
      "\n",
      "Seed: 2803636207 - Split: 1 - lgbtq_status - Group: Bisexual\n",
      "data shape:  (2450, 1)\n",
      "sample size: 1225\n"
     ]
    },
    {
     "name": "stderr",
     "output_type": "stream",
     "text": [
      "bootstrap: 100%|███████████████████████████| 1000/1000 [00:07<00:00, 141.75it/s]\n"
     ]
    },
    {
     "name": "stdout",
     "output_type": "stream",
     "text": [
      "\n",
      "count sample diff f1   is twice tot diff f1....... 971  / 1000    p < 0.971  \u001b[38;5;8m!\u001b[0m\n",
      "count sample diff prec is twice tot diff prec..... 940  / 1000    p < 0.94   \n",
      "count sample diff rec  is twice tot diff rec ..... 977  / 1000    p < 0.977  \u001b[38;5;8m!\u001b[0m\n",
      "count sample diff acc  is twice tot diff acc...... 948  / 1000    p < 0.948  \n",
      "\n",
      "\n",
      "Seed: 2803636207 - Split: 2 - lgbtq_status - Group: Heterosexual\n",
      "data shape:  (22603, 1)\n",
      "sample size: 11301\n"
     ]
    },
    {
     "name": "stderr",
     "output_type": "stream",
     "text": [
      "bootstrap: 100%|████████████████████████████| 1000/1000 [00:25<00:00, 39.29it/s]\n"
     ]
    },
    {
     "name": "stdout",
     "output_type": "stream",
     "text": [
      "\n",
      "count sample diff f1   is twice tot diff f1....... 998  / 1000    p < 0.998  \u001b[38;5;8m!\u001b[0m\n",
      "count sample diff prec is twice tot diff prec..... 998  / 1000    p < 0.998  \u001b[38;5;8m!\u001b[0m\n",
      "count sample diff rec  is twice tot diff rec ..... 993  / 1000    p < 0.993  \u001b[38;5;8m!\u001b[0m\n",
      "count sample diff acc  is twice tot diff acc...... 998  / 1000    p < 0.998  \u001b[38;5;8m!\u001b[0m\n",
      "\n",
      "\n",
      "Seed: 2803636207 - Split: 2 - lgbtq_status - Group: Homosexual\n",
      "data shape:  (733, 1)\n",
      "sample size: 366\n"
     ]
    },
    {
     "name": "stderr",
     "output_type": "stream",
     "text": [
      "bootstrap: 100%|███████████████████████████| 1000/1000 [00:05<00:00, 184.37it/s]\n"
     ]
    },
    {
     "name": "stdout",
     "output_type": "stream",
     "text": [
      "\n",
      "count sample diff f1   is twice tot diff f1....... 233  / 1000    p < 0.233  \n",
      "count sample diff prec is twice tot diff prec..... 186  / 1000    p < 0.186  \n",
      "count sample diff rec  is twice tot diff rec ..... 293  / 1000    p < 0.293  \n",
      "count sample diff acc  is twice tot diff acc...... 145  / 1000    p < 0.145  \n",
      "\n",
      "\n",
      "Seed: 2803636207 - Split: 2 - lgbtq_status - Group: Bisexual\n",
      "data shape:  (2478, 1)\n",
      "sample size: 1239\n"
     ]
    },
    {
     "name": "stderr",
     "output_type": "stream",
     "text": [
      "bootstrap: 100%|███████████████████████████| 1000/1000 [00:06<00:00, 148.08it/s]\n"
     ]
    },
    {
     "name": "stdout",
     "output_type": "stream",
     "text": [
      "\n",
      "count sample diff f1   is twice tot diff f1....... 762  / 1000    p < 0.762  \n",
      "count sample diff prec is twice tot diff prec..... 741  / 1000    p < 0.741  \n",
      "count sample diff rec  is twice tot diff rec ..... 777  / 1000    p < 0.777  \n",
      "count sample diff acc  is twice tot diff acc...... 737  / 1000    p < 0.737  \n",
      "\n",
      "\n",
      "Seed: 2803636207 - Split: 3 - lgbtq_status - Group: Heterosexual\n",
      "data shape:  (22616, 1)\n",
      "sample size: 11308\n"
     ]
    },
    {
     "name": "stderr",
     "output_type": "stream",
     "text": [
      "bootstrap: 100%|████████████████████████████| 1000/1000 [00:24<00:00, 40.30it/s]\n"
     ]
    },
    {
     "name": "stdout",
     "output_type": "stream",
     "text": [
      "\n",
      "count sample diff f1   is twice tot diff f1....... 957  / 1000    p < 0.957  \u001b[38;5;8m!\u001b[0m\n",
      "count sample diff prec is twice tot diff prec..... 946  / 1000    p < 0.946  \n",
      "count sample diff rec  is twice tot diff rec ..... 972  / 1000    p < 0.972  \u001b[38;5;8m!\u001b[0m\n",
      "count sample diff acc  is twice tot diff acc...... 920  / 1000    p < 0.92   \n",
      "\n",
      "\n",
      "Seed: 2803636207 - Split: 3 - lgbtq_status - Group: Homosexual\n",
      "data shape:  (742, 1)\n",
      "sample size: 371\n"
     ]
    },
    {
     "name": "stderr",
     "output_type": "stream",
     "text": [
      "bootstrap: 100%|███████████████████████████| 1000/1000 [00:05<00:00, 187.66it/s]\n"
     ]
    },
    {
     "name": "stdout",
     "output_type": "stream",
     "text": [
      "\n",
      "count sample diff f1   is twice tot diff f1....... 423  / 1000    p < 0.423  \n",
      "count sample diff prec is twice tot diff prec..... 403  / 1000    p < 0.403  \n",
      "count sample diff rec  is twice tot diff rec ..... 430  / 1000    p < 0.43   \n",
      "count sample diff acc  is twice tot diff acc...... 398  / 1000    p < 0.398  \n",
      "\n",
      "\n",
      "Seed: 2803636207 - Split: 3 - lgbtq_status - Group: Bisexual\n",
      "data shape:  (2434, 1)\n",
      "sample size: 1217\n"
     ]
    },
    {
     "name": "stderr",
     "output_type": "stream",
     "text": [
      "bootstrap: 100%|███████████████████████████| 1000/1000 [00:06<00:00, 149.70it/s]\n"
     ]
    },
    {
     "name": "stdout",
     "output_type": "stream",
     "text": [
      "\n",
      "count sample diff f1   is twice tot diff f1....... 745  / 1000    p < 0.745  \n",
      "count sample diff prec is twice tot diff prec..... 750  / 1000    p < 0.75   \n",
      "count sample diff rec  is twice tot diff rec ..... 763  / 1000    p < 0.763  \n",
      "count sample diff acc  is twice tot diff acc...... 731  / 1000    p < 0.731  \n",
      "\n",
      "\n",
      "Seed: 165043843 - Split: 0 - lgbtq_status - Group: Heterosexual\n",
      "data shape:  (22615, 1)\n",
      "sample size: 11307\n"
     ]
    },
    {
     "name": "stderr",
     "output_type": "stream",
     "text": [
      "bootstrap: 100%|████████████████████████████| 1000/1000 [00:24<00:00, 40.13it/s]\n"
     ]
    },
    {
     "name": "stdout",
     "output_type": "stream",
     "text": [
      "\n",
      "count sample diff f1   is twice tot diff f1....... 1    / 1000    p < 0.001  \u001b[38;5;9m**\u001b[0m\n",
      "count sample diff prec is twice tot diff prec..... 2    / 1000    p < 0.002  \u001b[38;5;9m**\u001b[0m\n",
      "count sample diff rec  is twice tot diff rec ..... 1    / 1000    p < 0.001  \u001b[38;5;9m**\u001b[0m\n",
      "count sample diff acc  is twice tot diff acc...... 3    / 1000    p < 0.003  \u001b[38;5;9m**\u001b[0m\n",
      "\n",
      "\n",
      "Seed: 165043843 - Split: 0 - lgbtq_status - Group: Homosexual\n",
      "data shape:  (742, 1)\n",
      "sample size: 371\n"
     ]
    },
    {
     "name": "stderr",
     "output_type": "stream",
     "text": [
      "bootstrap: 100%|███████████████████████████| 1000/1000 [00:05<00:00, 198.59it/s]\n"
     ]
    },
    {
     "name": "stdout",
     "output_type": "stream",
     "text": [
      "\n",
      "count sample diff f1   is twice tot diff f1....... 264  / 1000    p < 0.264  \n",
      "count sample diff prec is twice tot diff prec..... 292  / 1000    p < 0.292  \n",
      "count sample diff rec  is twice tot diff rec ..... 249  / 1000    p < 0.249  \n",
      "count sample diff acc  is twice tot diff acc...... 289  / 1000    p < 0.289  \n",
      "\n",
      "\n",
      "Seed: 165043843 - Split: 0 - lgbtq_status - Group: Bisexual\n",
      "data shape:  (2387, 1)\n",
      "sample size: 1193\n"
     ]
    },
    {
     "name": "stderr",
     "output_type": "stream",
     "text": [
      "bootstrap: 100%|███████████████████████████| 1000/1000 [00:06<00:00, 152.38it/s]\n"
     ]
    },
    {
     "name": "stdout",
     "output_type": "stream",
     "text": [
      "\n",
      "count sample diff f1   is twice tot diff f1....... 953  / 1000    p < 0.953  \u001b[38;5;8m!\u001b[0m\n",
      "count sample diff prec is twice tot diff prec..... 932  / 1000    p < 0.932  \n",
      "count sample diff rec  is twice tot diff rec ..... 951  / 1000    p < 0.951  \u001b[38;5;8m!\u001b[0m\n",
      "count sample diff acc  is twice tot diff acc...... 940  / 1000    p < 0.94   \n",
      "\n",
      "\n",
      "Seed: 165043843 - Split: 1 - lgbtq_status - Group: Heterosexual\n",
      "data shape:  (22659, 1)\n",
      "sample size: 11329\n"
     ]
    },
    {
     "name": "stderr",
     "output_type": "stream",
     "text": [
      "bootstrap: 100%|████████████████████████████| 1000/1000 [00:24<00:00, 40.38it/s]\n"
     ]
    },
    {
     "name": "stdout",
     "output_type": "stream",
     "text": [
      "\n",
      "count sample diff f1   is twice tot diff f1....... 2    / 1000    p < 0.002  \u001b[38;5;9m**\u001b[0m\n",
      "count sample diff prec is twice tot diff prec..... 11   / 1000    p < 0.011  \u001b[38;5;9m*\u001b[0m\n",
      "count sample diff rec  is twice tot diff rec ..... 0    / 1000    p < 0.0    \u001b[38;5;9m**\u001b[0m\n",
      "count sample diff acc  is twice tot diff acc...... 57   / 1000    p < 0.057  \n",
      "\n",
      "\n",
      "Seed: 165043843 - Split: 1 - lgbtq_status - Group: Homosexual\n",
      "data shape:  (729, 1)\n",
      "sample size: 364\n"
     ]
    },
    {
     "name": "stderr",
     "output_type": "stream",
     "text": [
      "bootstrap: 100%|███████████████████████████| 1000/1000 [00:05<00:00, 190.99it/s]\n"
     ]
    },
    {
     "name": "stdout",
     "output_type": "stream",
     "text": [
      "\n",
      "count sample diff f1   is twice tot diff f1....... 49   / 1000    p < 0.049  \u001b[38;5;9m*\u001b[0m\n",
      "count sample diff prec is twice tot diff prec..... 30   / 1000    p < 0.03   \u001b[38;5;9m*\u001b[0m\n",
      "count sample diff rec  is twice tot diff rec ..... 61   / 1000    p < 0.061  \n",
      "count sample diff acc  is twice tot diff acc...... 30   / 1000    p < 0.03   \u001b[38;5;9m*\u001b[0m\n",
      "\n",
      "\n",
      "Seed: 165043843 - Split: 1 - lgbtq_status - Group: Bisexual\n",
      "data shape:  (2413, 1)\n",
      "sample size: 1206\n"
     ]
    },
    {
     "name": "stderr",
     "output_type": "stream",
     "text": [
      "bootstrap: 100%|███████████████████████████| 1000/1000 [00:06<00:00, 151.87it/s]\n"
     ]
    },
    {
     "name": "stdout",
     "output_type": "stream",
     "text": [
      "\n",
      "count sample diff f1   is twice tot diff f1....... 968  / 1000    p < 0.968  \u001b[38;5;8m!\u001b[0m\n",
      "count sample diff prec is twice tot diff prec..... 958  / 1000    p < 0.958  \u001b[38;5;8m!\u001b[0m\n",
      "count sample diff rec  is twice tot diff rec ..... 967  / 1000    p < 0.967  \u001b[38;5;8m!\u001b[0m\n",
      "count sample diff acc  is twice tot diff acc...... 964  / 1000    p < 0.964  \u001b[38;5;8m!\u001b[0m\n",
      "\n",
      "\n",
      "Seed: 165043843 - Split: 2 - lgbtq_status - Group: Heterosexual\n",
      "data shape:  (22538, 1)\n",
      "sample size: 11269\n"
     ]
    },
    {
     "name": "stderr",
     "output_type": "stream",
     "text": [
      "bootstrap: 100%|████████████████████████████| 1000/1000 [00:25<00:00, 39.58it/s]\n"
     ]
    },
    {
     "name": "stdout",
     "output_type": "stream",
     "text": [
      "\n",
      "count sample diff f1   is twice tot diff f1....... 175  / 1000    p < 0.175  \n",
      "count sample diff prec is twice tot diff prec..... 138  / 1000    p < 0.138  \n",
      "count sample diff rec  is twice tot diff rec ..... 253  / 1000    p < 0.253  \n",
      "count sample diff acc  is twice tot diff acc...... 73   / 1000    p < 0.073  \n",
      "\n",
      "\n",
      "Seed: 165043843 - Split: 2 - lgbtq_status - Group: Homosexual\n",
      "data shape:  (759, 1)\n",
      "sample size: 379\n"
     ]
    },
    {
     "name": "stderr",
     "output_type": "stream",
     "text": [
      "bootstrap: 100%|███████████████████████████| 1000/1000 [00:05<00:00, 192.92it/s]\n"
     ]
    },
    {
     "name": "stdout",
     "output_type": "stream",
     "text": [
      "\n",
      "count sample diff f1   is twice tot diff f1....... 83   / 1000    p < 0.083  \n",
      "count sample diff prec is twice tot diff prec..... 86   / 1000    p < 0.086  \n",
      "count sample diff rec  is twice tot diff rec ..... 86   / 1000    p < 0.086  \n",
      "count sample diff acc  is twice tot diff acc...... 111  / 1000    p < 0.111  \n",
      "\n",
      "\n",
      "Seed: 165043843 - Split: 2 - lgbtq_status - Group: Bisexual\n",
      "data shape:  (2479, 1)\n",
      "sample size: 1239\n"
     ]
    },
    {
     "name": "stderr",
     "output_type": "stream",
     "text": [
      "bootstrap: 100%|███████████████████████████| 1000/1000 [00:07<00:00, 142.80it/s]\n"
     ]
    },
    {
     "name": "stdout",
     "output_type": "stream",
     "text": [
      "\n",
      "count sample diff f1   is twice tot diff f1....... 314  / 1000    p < 0.314  \n",
      "count sample diff prec is twice tot diff prec..... 348  / 1000    p < 0.348  \n",
      "count sample diff rec  is twice tot diff rec ..... 306  / 1000    p < 0.306  \n",
      "count sample diff acc  is twice tot diff acc...... 330  / 1000    p < 0.33   \n",
      "\n",
      "\n",
      "Seed: 165043843 - Split: 3 - lgbtq_status - Group: Heterosexual\n",
      "data shape:  (22708, 1)\n",
      "sample size: 11354\n"
     ]
    },
    {
     "name": "stderr",
     "output_type": "stream",
     "text": [
      "bootstrap: 100%|████████████████████████████| 1000/1000 [00:24<00:00, 40.13it/s]\n"
     ]
    },
    {
     "name": "stdout",
     "output_type": "stream",
     "text": [
      "\n",
      "count sample diff f1   is twice tot diff f1....... 997  / 1000    p < 0.997  \u001b[38;5;8m!\u001b[0m\n",
      "count sample diff prec is twice tot diff prec..... 953  / 1000    p < 0.953  \u001b[38;5;8m!\u001b[0m\n",
      "count sample diff rec  is twice tot diff rec ..... 1000 / 1000    p < 1.0    \u001b[38;5;8m!\u001b[0m\n",
      "count sample diff acc  is twice tot diff acc...... 782  / 1000    p < 0.782  \n",
      "\n",
      "\n",
      "Seed: 165043843 - Split: 3 - lgbtq_status - Group: Homosexual\n",
      "data shape:  (670, 1)\n",
      "sample size: 335\n"
     ]
    },
    {
     "name": "stderr",
     "output_type": "stream",
     "text": [
      "bootstrap: 100%|███████████████████████████| 1000/1000 [00:05<00:00, 197.33it/s]\n"
     ]
    },
    {
     "name": "stdout",
     "output_type": "stream",
     "text": [
      "\n",
      "count sample diff f1   is twice tot diff f1....... 632  / 1000    p < 0.632  \n",
      "count sample diff prec is twice tot diff prec..... 610  / 1000    p < 0.61   \n",
      "count sample diff rec  is twice tot diff rec ..... 644  / 1000    p < 0.644  \n",
      "count sample diff acc  is twice tot diff acc...... 606  / 1000    p < 0.606  \n",
      "\n",
      "\n",
      "Seed: 165043843 - Split: 3 - lgbtq_status - Group: Bisexual\n",
      "data shape:  (2501, 1)\n",
      "sample size: 1250\n"
     ]
    },
    {
     "name": "stderr",
     "output_type": "stream",
     "text": [
      "bootstrap: 100%|███████████████████████████| 1000/1000 [00:06<00:00, 144.93it/s]\n"
     ]
    },
    {
     "name": "stdout",
     "output_type": "stream",
     "text": [
      "\n",
      "count sample diff f1   is twice tot diff f1....... 40   / 1000    p < 0.04   \u001b[38;5;9m*\u001b[0m\n",
      "count sample diff prec is twice tot diff prec..... 34   / 1000    p < 0.034  \u001b[38;5;9m*\u001b[0m\n",
      "count sample diff rec  is twice tot diff rec ..... 40   / 1000    p < 0.04   \u001b[38;5;9m*\u001b[0m\n",
      "count sample diff acc  is twice tot diff acc...... 35   / 1000    p < 0.035  \u001b[38;5;9m*\u001b[0m\n",
      "\n",
      "\n",
      "Seed: 2923262358 - Split: 0 - lgbtq_status - Group: Heterosexual\n",
      "data shape:  (22649, 1)\n",
      "sample size: 11324\n"
     ]
    },
    {
     "name": "stderr",
     "output_type": "stream",
     "text": [
      "bootstrap: 100%|████████████████████████████| 1000/1000 [00:25<00:00, 38.79it/s]\n"
     ]
    },
    {
     "name": "stdout",
     "output_type": "stream",
     "text": [
      "\n",
      "count sample diff f1   is twice tot diff f1....... 186  / 1000    p < 0.186  \n",
      "count sample diff prec is twice tot diff prec..... 297  / 1000    p < 0.297  \n",
      "count sample diff rec  is twice tot diff rec ..... 68   / 1000    p < 0.068  \n",
      "count sample diff acc  is twice tot diff acc...... 671  / 1000    p < 0.671  \n",
      "\n",
      "\n",
      "Seed: 2923262358 - Split: 0 - lgbtq_status - Group: Homosexual\n",
      "data shape:  (709, 1)\n",
      "sample size: 354\n"
     ]
    },
    {
     "name": "stderr",
     "output_type": "stream",
     "text": [
      "bootstrap: 100%|███████████████████████████| 1000/1000 [00:05<00:00, 189.98it/s]\n"
     ]
    },
    {
     "name": "stdout",
     "output_type": "stream",
     "text": [
      "\n",
      "count sample diff f1   is twice tot diff f1....... 187  / 1000    p < 0.187  \n",
      "count sample diff prec is twice tot diff prec..... 191  / 1000    p < 0.191  \n",
      "count sample diff rec  is twice tot diff rec ..... 185  / 1000    p < 0.185  \n",
      "count sample diff acc  is twice tot diff acc...... 187  / 1000    p < 0.187  \n",
      "\n",
      "\n",
      "Seed: 2923262358 - Split: 0 - lgbtq_status - Group: Bisexual\n",
      "data shape:  (2444, 1)\n",
      "sample size: 1222\n"
     ]
    },
    {
     "name": "stderr",
     "output_type": "stream",
     "text": [
      "bootstrap: 100%|███████████████████████████| 1000/1000 [00:06<00:00, 143.72it/s]\n"
     ]
    },
    {
     "name": "stdout",
     "output_type": "stream",
     "text": [
      "\n",
      "count sample diff f1   is twice tot diff f1....... 387  / 1000    p < 0.387  \n",
      "count sample diff prec is twice tot diff prec..... 348  / 1000    p < 0.348  \n",
      "count sample diff rec  is twice tot diff rec ..... 415  / 1000    p < 0.415  \n",
      "count sample diff acc  is twice tot diff acc...... 359  / 1000    p < 0.359  \n",
      "\n",
      "\n",
      "Seed: 2923262358 - Split: 1 - lgbtq_status - Group: Heterosexual\n",
      "data shape:  (22726, 1)\n",
      "sample size: 11363\n"
     ]
    },
    {
     "name": "stderr",
     "output_type": "stream",
     "text": [
      "bootstrap: 100%|████████████████████████████| 1000/1000 [00:25<00:00, 38.96it/s]\n"
     ]
    },
    {
     "name": "stdout",
     "output_type": "stream",
     "text": [
      "\n",
      "count sample diff f1   is twice tot diff f1....... 49   / 1000    p < 0.049  \u001b[38;5;9m*\u001b[0m\n",
      "count sample diff prec is twice tot diff prec..... 178  / 1000    p < 0.178  \n",
      "count sample diff rec  is twice tot diff rec ..... 7    / 1000    p < 0.007  \u001b[38;5;9m**\u001b[0m\n",
      "count sample diff acc  is twice tot diff acc...... 744  / 1000    p < 0.744  \n",
      "\n",
      "\n",
      "Seed: 2923262358 - Split: 1 - lgbtq_status - Group: Homosexual\n",
      "data shape:  (726, 1)\n",
      "sample size: 363\n"
     ]
    },
    {
     "name": "stderr",
     "output_type": "stream",
     "text": [
      "bootstrap: 100%|███████████████████████████| 1000/1000 [00:05<00:00, 187.39it/s]\n"
     ]
    },
    {
     "name": "stdout",
     "output_type": "stream",
     "text": [
      "\n",
      "count sample diff f1   is twice tot diff f1....... 172  / 1000    p < 0.172  \n",
      "count sample diff prec is twice tot diff prec..... 255  / 1000    p < 0.255  \n",
      "count sample diff rec  is twice tot diff rec ..... 131  / 1000    p < 0.131  \n",
      "count sample diff acc  is twice tot diff acc...... 310  / 1000    p < 0.31   \n",
      "\n",
      "\n",
      "Seed: 2923262358 - Split: 1 - lgbtq_status - Group: Bisexual\n",
      "data shape:  (2383, 1)\n",
      "sample size: 1191\n"
     ]
    },
    {
     "name": "stderr",
     "output_type": "stream",
     "text": [
      "bootstrap: 100%|███████████████████████████| 1000/1000 [00:06<00:00, 145.94it/s]\n"
     ]
    },
    {
     "name": "stdout",
     "output_type": "stream",
     "text": [
      "\n",
      "count sample diff f1   is twice tot diff f1....... 420  / 1000    p < 0.42   \n",
      "count sample diff prec is twice tot diff prec..... 429  / 1000    p < 0.429  \n",
      "count sample diff rec  is twice tot diff rec ..... 416  / 1000    p < 0.416  \n",
      "count sample diff acc  is twice tot diff acc...... 426  / 1000    p < 0.426  \n",
      "\n",
      "\n",
      "Seed: 2923262358 - Split: 2 - lgbtq_status - Group: Heterosexual\n",
      "data shape:  (22507, 1)\n",
      "sample size: 11253\n"
     ]
    },
    {
     "name": "stderr",
     "output_type": "stream",
     "text": [
      "bootstrap: 100%|████████████████████████████| 1000/1000 [00:25<00:00, 39.69it/s]\n"
     ]
    },
    {
     "name": "stdout",
     "output_type": "stream",
     "text": [
      "\n",
      "count sample diff f1   is twice tot diff f1....... 283  / 1000    p < 0.283  \n",
      "count sample diff prec is twice tot diff prec..... 478  / 1000    p < 0.478  \n",
      "count sample diff rec  is twice tot diff rec ..... 110  / 1000    p < 0.11   \n",
      "count sample diff acc  is twice tot diff acc...... 838  / 1000    p < 0.838  \n",
      "\n",
      "\n",
      "Seed: 2923262358 - Split: 2 - lgbtq_status - Group: Homosexual\n",
      "data shape:  (753, 1)\n",
      "sample size: 376\n"
     ]
    },
    {
     "name": "stderr",
     "output_type": "stream",
     "text": [
      "bootstrap: 100%|███████████████████████████| 1000/1000 [00:05<00:00, 195.22it/s]\n"
     ]
    },
    {
     "name": "stdout",
     "output_type": "stream",
     "text": [
      "\n",
      "count sample diff f1   is twice tot diff f1....... 139  / 1000    p < 0.139  \n",
      "count sample diff prec is twice tot diff prec..... 191  / 1000    p < 0.191  \n",
      "count sample diff rec  is twice tot diff rec ..... 116  / 1000    p < 0.116  \n",
      "count sample diff acc  is twice tot diff acc...... 235  / 1000    p < 0.235  \n",
      "\n",
      "\n",
      "Seed: 2923262358 - Split: 2 - lgbtq_status - Group: Bisexual\n",
      "data shape:  (2492, 1)\n",
      "sample size: 1246\n"
     ]
    },
    {
     "name": "stderr",
     "output_type": "stream",
     "text": [
      "bootstrap: 100%|███████████████████████████| 1000/1000 [00:06<00:00, 150.00it/s]\n"
     ]
    },
    {
     "name": "stdout",
     "output_type": "stream",
     "text": [
      "\n",
      "count sample diff f1   is twice tot diff f1....... 871  / 1000    p < 0.871  \n",
      "count sample diff prec is twice tot diff prec..... 857  / 1000    p < 0.857  \n",
      "count sample diff rec  is twice tot diff rec ..... 874  / 1000    p < 0.874  \n",
      "count sample diff acc  is twice tot diff acc...... 865  / 1000    p < 0.865  \n",
      "\n",
      "\n",
      "Seed: 2923262358 - Split: 3 - lgbtq_status - Group: Heterosexual\n",
      "data shape:  (22638, 1)\n",
      "sample size: 11319\n"
     ]
    },
    {
     "name": "stderr",
     "output_type": "stream",
     "text": [
      "bootstrap: 100%|████████████████████████████| 1000/1000 [00:24<00:00, 40.06it/s]\n"
     ]
    },
    {
     "name": "stdout",
     "output_type": "stream",
     "text": [
      "\n",
      "count sample diff f1   is twice tot diff f1....... 16   / 1000    p < 0.016  \u001b[38;5;9m*\u001b[0m\n",
      "count sample diff prec is twice tot diff prec..... 10   / 1000    p < 0.01   \u001b[38;5;9m*\u001b[0m\n",
      "count sample diff rec  is twice tot diff rec ..... 37   / 1000    p < 0.037  \u001b[38;5;9m*\u001b[0m\n",
      "count sample diff acc  is twice tot diff acc...... 1    / 1000    p < 0.001  \u001b[38;5;9m**\u001b[0m\n",
      "\n",
      "\n",
      "Seed: 2923262358 - Split: 3 - lgbtq_status - Group: Homosexual\n",
      "data shape:  (712, 1)\n",
      "sample size: 356\n"
     ]
    },
    {
     "name": "stderr",
     "output_type": "stream",
     "text": [
      "bootstrap: 100%|███████████████████████████| 1000/1000 [00:05<00:00, 197.37it/s]\n"
     ]
    },
    {
     "name": "stdout",
     "output_type": "stream",
     "text": [
      "\n",
      "count sample diff f1   is twice tot diff f1....... 433  / 1000    p < 0.433  \n",
      "count sample diff prec is twice tot diff prec..... 388  / 1000    p < 0.388  \n",
      "count sample diff rec  is twice tot diff rec ..... 462  / 1000    p < 0.462  \n",
      "count sample diff acc  is twice tot diff acc...... 382  / 1000    p < 0.382  \n",
      "\n",
      "\n",
      "Seed: 2923262358 - Split: 3 - lgbtq_status - Group: Bisexual\n",
      "data shape:  (2461, 1)\n",
      "sample size: 1230\n"
     ]
    },
    {
     "name": "stderr",
     "output_type": "stream",
     "text": [
      "bootstrap: 100%|███████████████████████████| 1000/1000 [00:06<00:00, 152.00it/s]"
     ]
    },
    {
     "name": "stdout",
     "output_type": "stream",
     "text": [
      "\n",
      "count sample diff f1   is twice tot diff f1....... 46   / 1000    p < 0.046  \u001b[38;5;9m*\u001b[0m\n",
      "count sample diff prec is twice tot diff prec..... 25   / 1000    p < 0.025  \u001b[38;5;9m*\u001b[0m\n",
      "count sample diff rec  is twice tot diff rec ..... 53   / 1000    p < 0.053  \n",
      "count sample diff acc  is twice tot diff acc...... 35   / 1000    p < 0.035  \u001b[38;5;9m*\u001b[0m\n"
     ]
    },
    {
     "name": "stderr",
     "output_type": "stream",
     "text": [
      "\n"
     ]
    }
   ],
   "source": [
    "lgbq_p_dicts = significance_test_per_group(df, attribute_a='no extra layers', attribute_b='lgbq', to_groups=to_groups, attributes=['lgbtq_status'])"
   ]
  },
  {
   "cell_type": "code",
   "execution_count": 19,
   "metadata": {},
   "outputs": [
    {
     "data": {
      "text/plain": [
       "{'Homosexual': {'k_count': 1, 'k_bonferroni': -1},\n",
       " 'Bisexual': {'k_count': 2, 'k_bonferroni': -1},\n",
       " 'Heterosexual': {'k_count': 4, 'k_bonferroni': 2}}"
      ]
     },
     "execution_count": 19,
     "metadata": {},
     "output_type": "execute_result"
    }
   ],
   "source": [
    "lgbq_ks = k_estimator_groups(lgbq_p_dicts)\n",
    "lgbq_ks"
   ]
  },
  {
   "cell_type": "code",
   "execution_count": 20,
   "metadata": {},
   "outputs": [
    {
     "data": {
      "text/html": [
       "<div>\n",
       "<style scoped>\n",
       "    .dataframe tbody tr th:only-of-type {\n",
       "        vertical-align: middle;\n",
       "    }\n",
       "\n",
       "    .dataframe tbody tr th {\n",
       "        vertical-align: top;\n",
       "    }\n",
       "\n",
       "    .dataframe thead th {\n",
       "        text-align: right;\n",
       "    }\n",
       "</style>\n",
       "<table border=\"1\" class=\"dataframe\">\n",
       "  <thead>\n",
       "    <tr style=\"text-align: right;\">\n",
       "      <th></th>\n",
       "      <th>$\\hat{k}_{count}$</th>\n",
       "      <th>$\\hat{k}_{Bonf.}$</th>\n",
       "    </tr>\n",
       "  </thead>\n",
       "  <tbody>\n",
       "    <tr>\n",
       "      <th>Bisexual</th>\n",
       "      <td>2</td>\n",
       "      <td>0</td>\n",
       "    </tr>\n",
       "    <tr>\n",
       "      <th>Heterosexual</th>\n",
       "      <td>4</td>\n",
       "      <td>2</td>\n",
       "    </tr>\n",
       "    <tr>\n",
       "      <th>Homosexual</th>\n",
       "      <td>1</td>\n",
       "      <td>0</td>\n",
       "    </tr>\n",
       "  </tbody>\n",
       "</table>\n",
       "</div>"
      ],
      "text/plain": [
       "              $\\hat{k}_{count}$  $\\hat{k}_{Bonf.}$\n",
       "Bisexual                      2                  0\n",
       "Heterosexual                  4                  2\n",
       "Homosexual                    1                  0"
      ]
     },
     "execution_count": 20,
     "metadata": {},
     "output_type": "execute_result"
    }
   ],
   "source": [
    "lgbq_ks_df = pd.DataFrame(lgbq_ks).T.sort_index()\n",
    "lgbq_ks_df = lgbq_ks_df.replace({-1: 0})\n",
    "lgbq_ks_df = lgbq_ks_df.rename(columns={'k_count': '$\\hat{k}_{count}$', 'k_bonferroni':'$\\hat{k}_{Bonf.}$'})\n",
    "lgbq_ks_df"
   ]
  },
  {
   "cell_type": "code",
   "execution_count": 21,
   "metadata": {},
   "outputs": [],
   "source": [
    "lgbq_ks_df.to_latex('../tables/replication/baseline/lgbq.tex', escape=False)"
   ]
  }
 ],
 "metadata": {
  "kernelspec": {
   "display_name": "Python 3.7.15 ('sociodemographic-softlabels-Sh-apy0E-py3.7')",
   "language": "python",
   "name": "python3"
  },
  "language_info": {
   "codemirror_mode": {
    "name": "ipython",
    "version": 3
   },
   "file_extension": ".py",
   "mimetype": "text/x-python",
   "name": "python",
   "nbconvert_exporter": "python",
   "pygments_lexer": "ipython3",
   "version": "3.7.16"
  },
  "orig_nbformat": 4,
  "vscode": {
   "interpreter": {
    "hash": "5cdc63a60fa921ac5703605bf6fd5c1d87d89afa5fd45cd912515fa0a02db395"
   }
  }
 },
 "nbformat": 4,
 "nbformat_minor": 2
}
